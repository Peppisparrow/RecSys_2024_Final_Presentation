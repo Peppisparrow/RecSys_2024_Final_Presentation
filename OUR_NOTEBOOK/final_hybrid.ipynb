{
 "cells": [
  {
   "cell_type": "code",
   "execution_count": 1,
   "metadata": {},
   "outputs": [
    {
     "name": "stdout",
     "output_type": "stream",
     "text": [
      "URM_train (80% of URM_ALL):\n",
      "         user_id  item_id  data\n",
      "136935      1523    11379   1.0\n",
      "286638      3415    29647   1.0\n",
      "499343      6571    11101   1.0\n",
      "1612162    31036    17962   1.0\n",
      "1231767    22131    20291   1.0\n",
      "1419045    25670    32878   1.0\n",
      "505970      6677    30720   1.0\n",
      "1309905    23612    35978   1.0\n",
      "1026162    17411     9221   1.0\n",
      "991787     16720     2668   1.0\n",
      "\n",
      "URM_validation (20% of URM_ALL):\n",
      "         user_id  item_id  data\n",
      "1293463    23345    37683   1.0\n",
      "978469     16471     1559   1.0\n",
      "1139447    19988     6956   1.0\n",
      "628101      8833      614   1.0\n",
      "1276102    23100    20305   1.0\n",
      "570596      7748      117   1.0\n",
      "1232901    22148    35968   1.0\n",
      "1544801    29212    33031   1.0\n",
      "1033303    17563    34624   1.0\n",
      "658881      9451     9732   1.0\n",
      "\n",
      "URM_test (20% of URM_ALL):\n",
      "         user_id  item_id  data\n",
      "1092502    18939     8673   1.0\n",
      "367273      4669     2436   1.0\n",
      "1181580    20972    25295   1.0\n",
      "1243868    22394    23927   1.0\n",
      "302903      3680    24294   1.0\n",
      "1337700    24013    14508   1.0\n",
      "534570      7203     5330   1.0\n",
      "1723340    34271    35125   1.0\n",
      "559412      7511     8894   1.0\n",
      "1046032    17839    20469   1.0\n"
     ]
    }
   ],
   "source": [
    "import os\n",
    "import sys\n",
    "sys.path.append(os.path.join(os.path.dirname(\"RECSYS_POLIMI_2024\"), '..'))\n",
    "\n",
    "\n",
    "from Evaluation.Evaluator import EvaluatorHoldout\n",
    "from sklearn.model_selection import train_test_split\n",
    "import pandas as pd\n",
    "import numpy as np\n",
    "from scipy.sparse import csr_matrix\n",
    "\n",
    "URM_all_dataframe = pd.read_csv(filepath_or_buffer=\"data_train.csv\")\n",
    "ICM_all = pd.read_csv(filepath_or_buffer=\"data_ICM_metadata.csv\")\n",
    "URM_all_dataframe.head(n=10)\n",
    "\n",
    "\n",
    "k_fold = 10\n",
    "seeds = [192760, 1393659, 1269293, 138973, 931308, 1088652, 1361151, 1456105, 820535, 1240839]\n",
    "\n",
    "URM_train_validation, URM_test = train_test_split(URM_all_dataframe, test_size=0.2, random_state=42)\n",
    "URM_train, URM_validation = train_test_split(URM_train_validation, test_size=0.2, random_state=42)\n",
    "\n",
    "# # Reset indices for cleaner output (optional)\n",
    "# URM_test = URM_test.reset_index(drop=True)\n",
    "# URM_validation = URM_validation.reset_index(drop=True)\n",
    "# URM_train = URM_train.reset_index(drop=True)\n",
    "# URM_train_validation = URM_train_validation.reset_index(drop=True)\n",
    "\n",
    "# Display the results\n",
    "print(\"URM_train (80% of URM_ALL):\")\n",
    "print(URM_train.head(n=10))\n",
    "\n",
    "print(\"\\nURM_validation (20% of URM_ALL):\")\n",
    "print(URM_validation.head(n=10))\n",
    "\n",
    "print(\"\\nURM_test (20% of URM_ALL):\")\n",
    "print(URM_test.head(n=10))\n"
   ]
  },
  {
   "cell_type": "code",
   "execution_count": 2,
   "metadata": {},
   "outputs": [
    {
     "name": "stdout",
     "output_type": "stream",
     "text": [
      "EvaluatorHoldout: Ignoring 401 ( 1.1%) Users that have less than 1 test interactions\n",
      "EvaluatorHoldout: Ignoring 152 ( 0.4%) Users that have less than 1 test interactions\n"
     ]
    }
   ],
   "source": [
    "URM_all_dataframe = csr_matrix((URM_all_dataframe['data'], (URM_all_dataframe['user_id'], URM_all_dataframe['item_id'])))\n",
    "URM_train = csr_matrix((URM_train['data'], (URM_train['user_id'], URM_train['item_id'])))\n",
    "URM_validation = csr_matrix((URM_validation['data'], (URM_validation['user_id'], URM_validation['item_id'])))\n",
    "URM_test = csr_matrix((URM_test['data'], (URM_test['user_id'], URM_test['item_id'])))\n",
    "URM_train_validation = csr_matrix((URM_train_validation['data'], (URM_train_validation['user_id'], URM_train_validation['item_id'])))\n",
    "ICM_all = csr_matrix((ICM_all['data'], (ICM_all['item_id'], ICM_all['feature_id'])))\n",
    "\n",
    "#evaluator_validation = EvaluatorHoldout(URM_test, cutoff_list=[10])\n",
    "evaluator_validation = EvaluatorHoldout(URM_validation, cutoff_list=[10])\n",
    "evaluator_test = EvaluatorHoldout(URM_test, cutoff_list=[10])"
   ]
  },
  {
   "cell_type": "markdown",
   "metadata": {},
   "source": [
    "## Final hybrid"
   ]
  },
  {
   "cell_type": "code",
   "execution_count": 44,
   "metadata": {},
   "outputs": [
    {
     "name": "stderr",
     "output_type": "stream",
     "text": [
      "Progress: 100%|██████████| 38121/38121 [09:51<00:00, 64.41items/s] \n"
     ]
    }
   ],
   "source": [
    "from Recommenders.SLIM.MSLIMElasticNetRecommender import MultiThreadSLIM_SLIMElasticNetRecommender\n",
    "slim = MultiThreadSLIM_SLIMElasticNetRecommender(URM_train=URM_all_dataframe, ICM_train=None, weigth=1.0 )\n",
    "\n",
    "slim.fit( \n",
    "    l1_ratio=0.49705634165029133,\n",
    "   alpha=9.773610229057873e-05,\n",
    "   topK=185\n",
    "                   )"
   ]
  },
  {
   "cell_type": "code",
   "execution_count": 45,
   "metadata": {},
   "outputs": [
    {
     "name": "stdout",
     "output_type": "stream",
     "text": [
      "SLIMElasticNetRecommender: Saving model in file 'result_experimentsSLIM_BEST_MODEL_ALL_DATA'\n",
      "SLIMElasticNetRecommender: Saving complete\n"
     ]
    }
   ],
   "source": [
    "slim.save_model(folder_path=\"result_experiments\", file_name=\"SLIM_BEST_MODEL_ALL_DATA\")"
   ]
  },
  {
   "cell_type": "code",
   "execution_count": 3,
   "metadata": {},
   "outputs": [
    {
     "name": "stdout",
     "output_type": "stream",
     "text": [
      "SLIMElasticNetRecommender: Loading model from file 'result_experimentsSLIM_BEST_MODEL_ALL_DATA'\n",
      "SLIMElasticNetRecommender: Loading complete\n"
     ]
    }
   ],
   "source": [
    "from Recommenders.SLIM.MSLIMElasticNetRecommender import MultiThreadSLIM_SLIMElasticNetRecommender\n",
    "slim = MultiThreadSLIM_SLIMElasticNetRecommender(URM_train=URM_all_dataframe, ICM_train=None, weigth=1.0 )\n",
    "slim.load_model(folder_path=\"result_experiments\", file_name=\"SLIM_BEST_MODEL_ALL_DATA\")"
   ]
  },
  {
   "cell_type": "code",
   "execution_count": 4,
   "metadata": {},
   "outputs": [
    {
     "name": "stdout",
     "output_type": "stream",
     "text": [
      "RP3betaRecommender: Similarity column 38121 (100.0%), 4023.90 column/sec. Elapsed time 9.47 sec\n"
     ]
    }
   ],
   "source": [
    "from Recommenders.GraphBased.RP3betaRecommender import RP3betaRecommender\n",
    "rp3 = RP3betaRecommender(URM_all_dataframe)\n",
    "rp3.fit( \n",
    "    topK=15,\n",
    "    alpha=0.32714863414672785,\n",
    "    beta=0.23057896475734277,\n",
    "    normalize_similarity=True\n",
    "                    )"
   ]
  },
  {
   "cell_type": "code",
   "execution_count": 11,
   "metadata": {},
   "outputs": [],
   "source": [
    "import sys\n",
    "import logging\n",
    "\n",
    "import torch\n",
    "import pandas as pd\n",
    "\n",
    "\n",
    "class TorchEASE:\n",
    "    def __init__(\n",
    "        self, train, user_col=\"user_id\", item_col=\"item_id\", score_col=None, reg=250.0\n",
    "    ):\n",
    "        \"\"\"\n",
    "\n",
    "        :param train: Training DataFrame of user, item, score(optional) values\n",
    "        :param user_col: Column name for users\n",
    "        :param item_col: Column name for items\n",
    "        :param score_col: Column name for scores. Implicit feedback otherwise\n",
    "        :param reg: Regularization parameter.\n",
    "                    Change by orders of magnitude to tune (2e1, 2e2, ...,2e4)\n",
    "        \"\"\"\n",
    "        logging.basicConfig(\n",
    "            format=\"%(asctime)s [%(levelname)s] %(name)s - %(message)s\",\n",
    "            level=logging.INFO,\n",
    "            datefmt=\"%Y-%m-%d %H:%M:%S\",\n",
    "            stream=sys.stdout,\n",
    "        )\n",
    "\n",
    "        self.logger = logging.getLogger(\"notebook\")\n",
    "        self.logger.info(\"Building user + item lookup\")\n",
    "        # How much regularization do you need?\n",
    "        self.reg = reg\n",
    "\n",
    "        self.user_col = user_col\n",
    "        self.item_col = item_col\n",
    "\n",
    "        self.user_id_col = user_col + \"_id\"\n",
    "        self.item_id_col = item_col + \"_id\"\n",
    "\n",
    "        self.user_lookup = self.generate_labels(train, self.user_col)\n",
    "        self.item_lookup = self.generate_labels(train, self.item_col)\n",
    "\n",
    "        self.item_map = {}\n",
    "        self.logger.info(\"Building item hashmap\")\n",
    "        for _item, _item_id in self.item_lookup.values:\n",
    "            self.item_map[_item_id] = _item\n",
    "\n",
    "        train = pd.merge(train, self.user_lookup, on=[self.user_col])\n",
    "        train = pd.merge(train, self.item_lookup, on=[self.item_col])\n",
    "        self.logger.info(\"User + item lookup complete\")\n",
    "        self.indices = torch.LongTensor(\n",
    "            train[[self.user_id_col, self.item_id_col]].values\n",
    "        )\n",
    "\n",
    "        if not score_col:\n",
    "            # Implicit values only\n",
    "            self.values = torch.ones(self.indices.shape[0])\n",
    "        else:\n",
    "            self.values = torch.FloatTensor(train[score_col])\n",
    "\n",
    "        # TODO: Is Sparse the best implementation?\n",
    "        self.sparse = torch.sparse.FloatTensor(self.indices.t(), self.values)\n",
    "\n",
    "        self.logger.info(\"Sparse data built\")\n",
    "\n",
    "    def generate_labels(self, df, col):\n",
    "        dist_labels = df[[col]].drop_duplicates()\n",
    "        dist_labels[col + \"_id\"] = dist_labels[col].astype(\"category\").cat.codes\n",
    "\n",
    "        return dist_labels\n",
    "\n",
    "    def fit(self):\n",
    "        self.logger.info(\"Building G Matrix\")\n",
    "        print(f\"sto fittando con reg = {self.reg} \")\n",
    "        G = self.sparse.to_dense().t() @ self.sparse.to_dense()\n",
    "        G += torch.eye(G.shape[0]) * self.reg\n",
    "\n",
    "        P = G.inverse()\n",
    "\n",
    "        self.logger.info(\"Building B matrix\")\n",
    "        B = P / (-1 * P.diag())\n",
    "        # Set diagonals to 0. TODO: Use .fill_diag_\n",
    "        B = B + torch.eye(B.shape[0])\n",
    "\n",
    "        # Predictions for user `_u` will be self.sparse.to_dense()[_u]@self.B\n",
    "        self.B = B\n",
    "\n",
    "        return\n",
    "\n",
    "    def predict_all(self, pred_df, k=5, remove_owned=True):\n",
    "        \"\"\"\n",
    "        :param pred_df: DataFrame of users that need predictions\n",
    "        :param k: Number of items to recommend to each user\n",
    "        :param remove_owned: Do you want previously interacted items included?\n",
    "        :return: DataFrame of users + their predictions in sorted order\n",
    "        \"\"\"\n",
    "        pred_df = pred_df[[self.user_col]].drop_duplicates()\n",
    "        n_orig = pred_df.shape[0]\n",
    "\n",
    "        # Alert to number of dropped users in prediction set\n",
    "        pred_df = pd.merge(pred_df, self.user_lookup, on=[self.user_col])\n",
    "        n_curr = pred_df.shape[0]\n",
    "        if n_orig - n_curr:\n",
    "            self.logger.info(\n",
    "                \"Number of unknown users from prediction data = %i\" % (n_orig - n_curr)\n",
    "            )\n",
    "\n",
    "        _output_preds = []\n",
    "        # Select only user_ids in our user data\n",
    "        _user_tensor = self.sparse.to_dense().index_select(\n",
    "            dim=0, index=torch.LongTensor(pred_df[self.user_id_col])\n",
    "        )\n",
    "\n",
    "        # Make our (raw) predictions\n",
    "        _preds_tensor = _user_tensor @ self.B\n",
    "        self.logger.info(\"Predictions are made\")\n",
    "        if remove_owned:\n",
    "            # Discount these items by a large factor (much faster than list comp.)\n",
    "            self.logger.info(\"Removing owned items\")\n",
    "            _preds_tensor += -1.0 * _user_tensor\n",
    "\n",
    "        self.logger.info(\"TopK selected per user\")\n",
    "        for _preds in _preds_tensor:\n",
    "            # Very quick to use .topk() vs. argmax()\n",
    "            _output_preds.append(\n",
    "                [self.item_map[_id] for _id in _preds.topk(k).indices.tolist()]\n",
    "            )\n",
    "\n",
    "        pred_df[\"predicted_items\"] = _output_preds\n",
    "        self.logger.info(\"Predictions are returned to user\")\n",
    "        return pred_df\n",
    "\n",
    "    def score_predictions(self, pred_df, true_interactions, k=5):\n",
    "        \"\"\"\n",
    "        :param pred_df: DataFrame containing predicted items for each user\n",
    "        :param true_interactions: DataFrame with true user-item interactions (user_id, item_id)\n",
    "        :param k: Number of top recommendations to consider\n",
    "        :return: Dictionary with Precision@K and Recall@K\n",
    "        \"\"\"\n",
    "\n",
    "        # Merge true interactions with the prediction DataFrame\n",
    "        pred_df = pred_df.rename(columns={\"predicted_items\": \"predicted_items\"})\n",
    "\n",
    "        # Initialize metrics\n",
    "        precision_at_k = 0\n",
    "        recall_at_k = 0\n",
    "        total_users = len(pred_df)\n",
    "\n",
    "        # Iterate over each user in the prediction DataFrame\n",
    "        for _, row in pred_df.iterrows():\n",
    "            user_id = row[self.user_col]\n",
    "            recommended_items = set(row[\"predicted_items\"])\n",
    "\n",
    "            # Get true interacted items for this user\n",
    "            true_items = set(true_interactions[true_interactions[self.user_col] == user_id][self.item_col])\n",
    "\n",
    "            # Calculate precision and recall for this user\n",
    "            common_items = recommended_items.intersection(true_items)\n",
    "\n",
    "            # Precision: the fraction of relevant items in top-k recommendations\n",
    "            precision_at_k += len(common_items) / k\n",
    "\n",
    "            # Recall: the fraction of relevant items retrieved in top-k recommendations\n",
    "            recall_at_k += len(common_items) / len(true_items) if true_items else 0\n",
    "\n",
    "        # Compute average precision and recall over all users\n",
    "        precision_at_k /= total_users\n",
    "        recall_at_k /= total_users\n",
    "\n",
    "        return {\"precision_at_k\": precision_at_k, \"recall_at_k\": recall_at_k}\n",
    "\n",
    "    def get_URM_train(self):\n",
    "        \"\"\"\n",
    "        Returns the training User-Item Rating Matrix in SciPy CSR format.\n",
    "        Required by EvaluatorHoldout.\n",
    "        \"\"\"\n",
    "        return self.to_scipy()\n",
    "\n",
    "    def recommend(self, user_ids, remove_seen_flag=True, cutoff=10, **kwargs):\n",
    "        \"\"\"\n",
    "        Generates recommendations for a batch of users.\n",
    "        Compatible with EvaluatorHoldout.\n",
    "\n",
    "        :param user_ids: Array of user IDs (internal IDs as used in the matrix)\n",
    "        :param remove_seen_flag: Whether to exclude already interacted items\n",
    "        :param cutoff: Number of recommendations to return per user\n",
    "        :return: List of recommended items for each user\n",
    "        \"\"\"\n",
    "        # Convert user_ids to tensor for indexing\n",
    "        user_tensor = torch.LongTensor(user_ids)\n",
    "\n",
    "        # Compute raw scores using the B matrix\n",
    "        user_scores = self.sparse.to_dense().index_select(dim=0, index=user_tensor) @ self.B\n",
    "\n",
    "        if remove_seen_flag:\n",
    "            # Remove previously seen items by penalizing their scores\n",
    "            user_interactions = self.sparse.to_dense().index_select(dim=0, index=user_tensor)\n",
    "            user_scores += -1.0 * user_interactions\n",
    "\n",
    "        recommended_items = []\n",
    "        for scores_tensor in user_scores:\n",
    "            top_indices = scores_tensor.topk(cutoff).indices\n",
    "            recommended_items.append(top_indices.tolist())\n",
    "\n",
    "        return recommended_items, None  # Return second value as `None` for compatibility\n",
    "\n",
    "    def prepare_users(self, user_list):\n",
    "        \"\"\"\n",
    "        Prepares a list of user IDs for compatibility with the evaluation function.\n",
    "\n",
    "        :param user_list: List of external user IDs.\n",
    "        :return: List of internal user IDs corresponding to the input.\n",
    "        \"\"\"\n",
    "        return self.user_lookup[self.user_lookup[self.user_col].isin(user_list)][self.user_id_col].tolist()"
   ]
  },
  {
   "cell_type": "code",
   "execution_count": 31,
   "metadata": {},
   "outputs": [
    {
     "name": "stdout",
     "output_type": "stream",
     "text": [
      "2024-12-28 11:03:38 [INFO] notebook - Building user + item lookup\n",
      "2024-12-28 11:03:38 [INFO] notebook - Building item hashmap\n",
      "2024-12-28 11:03:38 [INFO] notebook - User + item lookup complete\n",
      "2024-12-28 11:03:38 [INFO] notebook - Sparse data built\n",
      "2024-12-28 11:03:38 [INFO] notebook - Building G Matrix\n",
      "sto fittando con reg = 50 \n",
      "2024-12-28 11:09:32 [INFO] notebook - Building B matrix\n"
     ]
    }
   ],
   "source": [
    "# Crea l'istanza del modello\n",
    "urm = pd.read_csv('data_train.csv')\n",
    "urm_train_validation, urm_test = train_test_split(urm, test_size=0.2, random_state=42)\n",
    "ease = TorchEASE(urm, user_col='user_id', item_col='item_id', reg=50)\n",
    "\n",
    "# Allena il modello\n",
    "ease.fit()\n"
   ]
  },
  {
   "cell_type": "code",
   "execution_count": 50,
   "metadata": {},
   "outputs": [
    {
     "name": "stdout",
     "output_type": "stream",
     "text": [
      "2024-12-28 20:32:43 [INFO] notebook - Building user + item lookup\n",
      "2024-12-28 20:32:43 [INFO] notebook - Converting sparse matrix to DataFrame for lookup generation\n",
      "2024-12-28 20:32:43 [INFO] notebook - Building item hashmap\n",
      "2024-12-28 20:32:43 [INFO] notebook - User + item lookup complete\n",
      "2024-12-28 20:32:43 [INFO] notebook - Sparse data built\n",
      "EASE_R_Recommender: Loading model from file 'result_experimentsEASE_REG50_ALL_DATA'\n",
      "EASE_R_Recommender: Loading complete\n",
      "EASE_R_Recommender: B matrix not found during loading. Ensure it was saved correctly.\n"
     ]
    }
   ],
   "source": [
    "from Recommenders.EASE_R.EASE_TORCH import EASE_R_Recommender\n",
    "\n",
    "ease = EASE_R_Recommender(URM_all_dataframe)\n",
    "ease.load_model(folder_path=\"result_experiments\", file_name=\"EASE_REG50_ALL_DATA\")"
   ]
  },
  {
   "cell_type": "code",
   "execution_count": null,
   "metadata": {},
   "outputs": [],
   "source": [
    "W = csr_matrix(ease.B)"
   ]
  },
  {
   "cell_type": "code",
   "execution_count": 17,
   "metadata": {},
   "outputs": [],
   "source": [
    "from Recommenders.KNN.ItemKNNCustomSimilarityRecommender import ItemKNNCustomSimilarityRecommender\n",
    "\n",
    "\n",
    "ease_r = ItemKNNCustomSimilarityRecommender(URM_train_validation)\n",
    "ease_r.fit(W)"
   ]
  },
  {
   "cell_type": "code",
   "execution_count": 5,
   "metadata": {},
   "outputs": [
    {
     "name": "stdout",
     "output_type": "stream",
     "text": [
      "ItemKNNCustomSimilarityRecommender: Loading model from file 'result_experimentsEASE_REG50_ALL_DATA'\n",
      "ItemKNNCustomSimilarityRecommender: Loading complete\n"
     ]
    }
   ],
   "source": [
    "from Recommenders.KNN.ItemKNNCustomSimilarityRecommender import ItemKNNCustomSimilarityRecommender\n",
    "ease_r = ItemKNNCustomSimilarityRecommender(URM_all_dataframe)\n",
    "ease_r.load_model(folder_path=\"result_experiments\", file_name=\"EASE_REG50_ALL_DATA\")"
   ]
  },
  {
   "cell_type": "code",
   "execution_count": null,
   "metadata": {},
   "outputs": [],
   "source": [
    "from Recommenders.MatrixFactorization.IALSJnoearly import ImplicitALSRecommender\n",
    "als = ImplicitALSRecommender(URM_all_dataframe)\n",
    "als.fit( epochs=6,\n",
    "                    num_factors=1650,\n",
    "                    confidence_scaling=\"linear\",\n",
    "                    alpha=6,\n",
    "                    epsilon=1.0,\n",
    "                    reg=1e-4,\n",
    "                    use_gpu=False,\n",
    "                    num_threads=8,\n",
    "                    calculate_training_loss=True\n",
    "                    )"
   ]
  },
  {
   "cell_type": "code",
   "execution_count": 11,
   "metadata": {},
   "outputs": [],
   "source": [
    "import scipy.sparse as sps\n",
    "from Recommenders.BaseRecommender import BaseRecommender\n",
    "from Recommenders.KNN.ItemKNNCustomSimilarityRecommender import ItemKNNCustomSimilarityRecommender\n",
    "\n",
    "class W4HybridRecommender( ItemKNNCustomSimilarityRecommender ):\n",
    "\n",
    "    def __init__(self, URM_train, rec1, rec2, rec3, rec4):\n",
    "        self.URM_train = sps.csr_matrix(URM_train)\n",
    "        super(W4HybridRecommender, self).__init__(URM_train)\n",
    "        self.rec=None\n",
    "        self.recommend1=rec1\n",
    "        self.recommend2=rec2\n",
    "        self.recommend3=rec3\n",
    "        self.recommend4=rec4\n",
    "        self.gamma = None\n",
    "\n",
    "    def fit(self, alpha = 0.5, beta = 0.5, gamma = 0.5):\n",
    "        self.alpha = alpha\n",
    "        self.gamma = gamma\n",
    "        new_similarity = (\n",
    "        alpha * csr_matrix(self.recommend1) +\n",
    "        beta * csr_matrix(self.recommend2) +\n",
    "        (1 - alpha - beta) * csr_matrix(self.recommend3)\n",
    "    )\n",
    "        recommender_object = ItemKNNCustomSimilarityRecommender(URM_all_dataframe)\n",
    "        recommender_object.fit(new_similarity)\n",
    "        self.rec=recommender_object\n",
    "\n",
    "    def _compute_item_score(self, user_id_array, items_to_compute):\n",
    "        \n",
    "        # In a simple extension this could be a loop over a list of pretrained recommender objects\n",
    "        item_weights_1 = self.rec._compute_item_score(user_id_array)\n",
    "        item_weights_2 = self.recommend4._compute_item_score(user_id_array)\n",
    "        \n",
    "\n",
    "        item_weights = item_weights_1*self.gamma + item_weights_2*(1-self.gamma)\n",
    "\n",
    "        return item_weights"
   ]
  },
  {
   "cell_type": "code",
   "execution_count": null,
   "metadata": {},
   "outputs": [],
   "source": [
    "slimrp3easeals = W4HybridRecommender(URM_all_dataframe, slim.W_sparse, rp3.W_sparse, ease_r.W_sparse, als)\n",
    "slimrp3easeals.fit( \n",
    "                    alpha = 0.6153342470415742,\n",
    "                    beta = 0.24391799534575526,\n",
    "                    gamma = 0.8179934109860636\n",
    "                )"
   ]
  },
  {
   "cell_type": "code",
   "execution_count": 64,
   "metadata": {},
   "outputs": [
    {
     "name": "stdout",
     "output_type": "stream",
     "text": [
      "EvaluatorHoldout: Processed 35584 (100.0%) in 1.23 min. Users per second: 483\n"
     ]
    },
    {
     "data": {
      "text/html": [
       "<div>\n",
       "<style scoped>\n",
       "    .dataframe tbody tr th:only-of-type {\n",
       "        vertical-align: middle;\n",
       "    }\n",
       "\n",
       "    .dataframe tbody tr th {\n",
       "        vertical-align: top;\n",
       "    }\n",
       "\n",
       "    .dataframe thead th {\n",
       "        text-align: right;\n",
       "    }\n",
       "</style>\n",
       "<table border=\"1\" class=\"dataframe\">\n",
       "  <thead>\n",
       "    <tr style=\"text-align: right;\">\n",
       "      <th></th>\n",
       "      <th>PRECISION</th>\n",
       "      <th>PRECISION_RECALL_MIN_DEN</th>\n",
       "      <th>RECALL</th>\n",
       "      <th>MAP</th>\n",
       "      <th>MAP_MIN_DEN</th>\n",
       "      <th>MRR</th>\n",
       "      <th>NDCG</th>\n",
       "      <th>F1</th>\n",
       "      <th>HIT_RATE</th>\n",
       "      <th>ARHR_ALL_HITS</th>\n",
       "      <th>...</th>\n",
       "      <th>COVERAGE_USER</th>\n",
       "      <th>COVERAGE_USER_HIT</th>\n",
       "      <th>USERS_IN_GT</th>\n",
       "      <th>DIVERSITY_GINI</th>\n",
       "      <th>SHANNON_ENTROPY</th>\n",
       "      <th>RATIO_DIVERSITY_HERFINDAHL</th>\n",
       "      <th>RATIO_DIVERSITY_GINI</th>\n",
       "      <th>RATIO_SHANNON_ENTROPY</th>\n",
       "      <th>RATIO_AVERAGE_POPULARITY</th>\n",
       "      <th>RATIO_NOVELTY</th>\n",
       "    </tr>\n",
       "    <tr>\n",
       "      <th>cutoff</th>\n",
       "      <th></th>\n",
       "      <th></th>\n",
       "      <th></th>\n",
       "      <th></th>\n",
       "      <th></th>\n",
       "      <th></th>\n",
       "      <th></th>\n",
       "      <th></th>\n",
       "      <th></th>\n",
       "      <th></th>\n",
       "      <th></th>\n",
       "      <th></th>\n",
       "      <th></th>\n",
       "      <th></th>\n",
       "      <th></th>\n",
       "      <th></th>\n",
       "      <th></th>\n",
       "      <th></th>\n",
       "      <th></th>\n",
       "      <th></th>\n",
       "      <th></th>\n",
       "    </tr>\n",
       "  </thead>\n",
       "  <tbody>\n",
       "    <tr>\n",
       "      <th>10</th>\n",
       "      <td>0.0</td>\n",
       "      <td>0.0</td>\n",
       "      <td>0.0</td>\n",
       "      <td>0.0</td>\n",
       "      <td>0.0</td>\n",
       "      <td>0.0</td>\n",
       "      <td>0.0</td>\n",
       "      <td>0.0</td>\n",
       "      <td>0.0</td>\n",
       "      <td>0.0</td>\n",
       "      <td>...</td>\n",
       "      <td>0.995747</td>\n",
       "      <td>0.0</td>\n",
       "      <td>0.995747</td>\n",
       "      <td>0.253168</td>\n",
       "      <td>13.558472</td>\n",
       "      <td>0.999904</td>\n",
       "      <td>0.414094</td>\n",
       "      <td>0.918239</td>\n",
       "      <td>1.235463</td>\n",
       "      <td>0.196302</td>\n",
       "    </tr>\n",
       "  </tbody>\n",
       "</table>\n",
       "<p>1 rows × 27 columns</p>\n",
       "</div>"
      ],
      "text/plain": [
       "       PRECISION PRECISION_RECALL_MIN_DEN RECALL  MAP MAP_MIN_DEN  MRR NDCG  \\\n",
       "cutoff                                                                        \n",
       "10           0.0                      0.0    0.0  0.0         0.0  0.0  0.0   \n",
       "\n",
       "         F1 HIT_RATE ARHR_ALL_HITS  ... COVERAGE_USER COVERAGE_USER_HIT  \\\n",
       "cutoff                              ...                                   \n",
       "10      0.0      0.0           0.0  ...      0.995747               0.0   \n",
       "\n",
       "       USERS_IN_GT DIVERSITY_GINI SHANNON_ENTROPY RATIO_DIVERSITY_HERFINDAHL  \\\n",
       "cutoff                                                                         \n",
       "10        0.995747       0.253168       13.558472                   0.999904   \n",
       "\n",
       "       RATIO_DIVERSITY_GINI RATIO_SHANNON_ENTROPY RATIO_AVERAGE_POPULARITY  \\\n",
       "cutoff                                                                       \n",
       "10                 0.414094              0.918239                 1.235463   \n",
       "\n",
       "       RATIO_NOVELTY  \n",
       "cutoff                \n",
       "10          0.196302  \n",
       "\n",
       "[1 rows x 27 columns]"
      ]
     },
     "execution_count": 64,
     "metadata": {},
     "output_type": "execute_result"
    }
   ],
   "source": [
    "result_df, _ = evaluator_test.evaluateRecommender(slimrp3easeals)\n",
    "result_df"
   ]
  },
  {
   "cell_type": "code",
   "execution_count": 66,
   "metadata": {},
   "outputs": [
    {
     "name": "stdout",
     "output_type": "stream",
     "text": [
      "   user_id                                          item_list\n",
      "0        0  7547 572 9911 7703 14888 1425 14931 3074 3146 531\n",
      "1        1  6348 14748 13733 13766 572 11875 9911 8685 264...\n"
     ]
    }
   ],
   "source": [
    "recommendations_list = []\n",
    "user = pd.read_csv(filepath_or_buffer=\"data_target_users_test.csv\")\n",
    "\n",
    "# Loop through each user and get the top 10 recommendations\n",
    "for user_id in user[\"user_id\"]:  # assuming URM.shape[0] is the total number of users\n",
    "    top_10_recommendations = slimrp3easeals.recommend(user_id, cutoff=10, remove_seen_flag=True, remove_top_pop_flag=True)\n",
    "    # Join recommendations into a space-separated string\n",
    "    item_list_str = ' '.join(map(str, top_10_recommendations))\n",
    "    recommendations_list.append([user_id, item_list_str])\n",
    "# Convert the list to a DataFrame\n",
    "recommendations_df = pd.DataFrame(recommendations_list, columns=['user_id', 'item_list'])\n",
    "\n",
    "# Display the resulting table\n",
    "print(recommendations_df.head(2))\n",
    "\n",
    "# Optionally, save to CSV\n",
    "recommendations_df.to_csv('top_10_recommendationsHybridSLIMRP3easealscorrect.csv', index=False)"
   ]
  },
  {
   "cell_type": "markdown",
   "metadata": {},
   "source": [
    "## Tuning of final hybrid"
   ]
  },
  {
   "cell_type": "code",
   "execution_count": 40,
   "metadata": {},
   "outputs": [],
   "source": [
    "import optuna\n",
    "import pandas as pd\n",
    "def objective_function(optuna_trial):\n",
    "    \n",
    "    recommender_instance = W4HybridRecommender(URM_train_validation, slim.W_sparse, rp3.W_sparse, W, als)\n",
    "    alpha = optuna_trial.suggest_uniform('alpha', 0.46, 0.68)\n",
    "    \n",
    "    # Use alpha to set the range for beta\n",
    "    beta = optuna_trial.suggest_uniform('beta', 0.2, 0.3)\n",
    "    \n",
    "    # Define gamma\n",
    "    gamma = optuna_trial.suggest_uniform('gamma', 0.8, 1)\n",
    "    \n",
    "    recommender_instance.fit(\n",
    "        alpha=alpha,\n",
    "        beta=beta,\n",
    "        gamma=gamma\n",
    "    )\n",
    "    \n",
    "    result_df, _ = evaluator_test.evaluateRecommender(recommender_instance)\n",
    "    return result_df.loc[10][\"MAP\"]"
   ]
  },
  {
   "cell_type": "code",
   "execution_count": 36,
   "metadata": {},
   "outputs": [],
   "source": [
    "class SaveResults(object):\n",
    "    def __init__(self, save_path=\"SLIMRP3EASE_Rals.csv\"):\n",
    "        # File dove salvare i risultati\n",
    "        self.save_path = save_path\n",
    "\n",
    "        # Se esiste già un file, carichiamo i dati per continuare\n",
    "        try:\n",
    "            self.results_df = pd.read_csv(self.save_path)\n",
    "        except FileNotFoundError:\n",
    "            self.results_df = pd.DataFrame(columns=[\"trial_number\", \"value\", \"params\"])\n",
    "    \n",
    "    def __call__(self, optuna_study, optuna_trial):\n",
    "        # Salva i risultati del trial corrente\n",
    "        trial_data = {\n",
    "            \"trial_number\": optuna_trial.number,\n",
    "            \"value\": optuna_trial.value,\n",
    "            \"params\": optuna_trial.params\n",
    "        }\n",
    "\n",
    "        # Aggiungi i risultati al DataFrame\n",
    "        self.results_df = pd.concat([self.results_df, pd.DataFrame([trial_data])], ignore_index=True)\n",
    "\n",
    "        # Salva i risultati progressivamente su disco\n",
    "        self.results_df.to_csv(self.save_path, index=False)\n",
    "\n",
    "        # Salva anche il miglior risultato corrente\n",
    "        best_trial = optuna_study.best_trial\n",
    "        best_result = {\n",
    "            \"trial_number\": best_trial.number,\n",
    "            \"value\": best_trial.value,\n",
    "            **best_trial.params\n",
    "        }\n",
    "\n",
    "        best_results_df = pd.DataFrame([best_result])\n",
    "        best_results_df.to_csv(\"bestSLIMRP3EASE_Rals.csv\", index=False)\n",
    "        \n",
    "        print(f\"Results saved to {self.save_path} and best results to 'best_optuna_results.csv'\")\n"
   ]
  },
  {
   "cell_type": "code",
   "execution_count": 41,
   "metadata": {},
   "outputs": [
    {
     "name": "stderr",
     "output_type": "stream",
     "text": [
      "[I 2024-12-28 16:13:39,018] A new study created in memory with name: no-name-d4bc766f-af89-499a-aed1-43edeb5372d4\n",
      "C:\\Users\\vgius\\AppData\\Local\\Temp\\ipykernel_37392\\2136426073.py:6: FutureWarning: suggest_uniform has been deprecated in v3.0.0. This feature will be removed in v6.0.0. See https://github.com/optuna/optuna/releases/tag/v3.0.0. Use suggest_float instead.\n",
      "  alpha = optuna_trial.suggest_uniform('alpha', 0.46, 0.68)\n",
      "C:\\Users\\vgius\\AppData\\Local\\Temp\\ipykernel_37392\\2136426073.py:9: FutureWarning: suggest_uniform has been deprecated in v3.0.0. This feature will be removed in v6.0.0. See https://github.com/optuna/optuna/releases/tag/v3.0.0. Use suggest_float instead.\n",
      "  beta = optuna_trial.suggest_uniform('beta', 0.2, 0.3)\n",
      "C:\\Users\\vgius\\AppData\\Local\\Temp\\ipykernel_37392\\2136426073.py:12: FutureWarning: suggest_uniform has been deprecated in v3.0.0. This feature will be removed in v6.0.0. See https://github.com/optuna/optuna/releases/tag/v3.0.0. Use suggest_float instead.\n",
      "  gamma = optuna_trial.suggest_uniform('gamma', 0.8, 1)\n"
     ]
    },
    {
     "name": "stdout",
     "output_type": "stream",
     "text": [
      "EvaluatorHoldout: Processed 35584 (100.0%) in 1.07 min. Users per second: 556\n"
     ]
    },
    {
     "name": "stderr",
     "output_type": "stream",
     "text": [
      "[I 2024-12-28 16:14:48,612] Trial 0 finished with value: 0.062225612367247066 and parameters: {'alpha': 0.5261342398864439, 'beta': 0.2359925368108785, 'gamma': 0.9219340946815249}. Best is trial 0 with value: 0.062225612367247066.\n"
     ]
    },
    {
     "name": "stdout",
     "output_type": "stream",
     "text": [
      "Results saved to optuna_progressSLIMRP3EASE_Rals2.csv and best results to 'best_optuna_results.csv'\n",
      "EvaluatorHoldout: Processed 35584 (100.0%) in 1.09 min. Users per second: 543\n"
     ]
    },
    {
     "name": "stderr",
     "output_type": "stream",
     "text": [
      "[I 2024-12-28 16:15:59,598] Trial 1 finished with value: 0.06211935250906203 and parameters: {'alpha': 0.5543794736290666, 'beta': 0.2281894561716052, 'gamma': 0.944363823094278}. Best is trial 0 with value: 0.062225612367247066.\n"
     ]
    },
    {
     "name": "stdout",
     "output_type": "stream",
     "text": [
      "Results saved to optuna_progressSLIMRP3EASE_Rals2.csv and best results to 'best_optuna_results.csv'\n",
      "EvaluatorHoldout: Processed 35584 (100.0%) in 1.09 min. Users per second: 543\n"
     ]
    },
    {
     "name": "stderr",
     "output_type": "stream",
     "text": [
      "[I 2024-12-28 16:17:10,739] Trial 2 finished with value: 0.06232285934644927 and parameters: {'alpha': 0.6432358888502034, 'beta': 0.2539496093046572, 'gamma': 0.8265927664671796}. Best is trial 2 with value: 0.06232285934644927.\n"
     ]
    },
    {
     "name": "stdout",
     "output_type": "stream",
     "text": [
      "Results saved to optuna_progressSLIMRP3EASE_Rals2.csv and best results to 'best_optuna_results.csv'\n",
      "EvaluatorHoldout: Processed 35584 (100.0%) in 1.09 min. Users per second: 543\n"
     ]
    },
    {
     "name": "stderr",
     "output_type": "stream",
     "text": [
      "[I 2024-12-28 16:18:21,755] Trial 3 finished with value: 0.06207344726896844 and parameters: {'alpha': 0.6357034181272712, 'beta': 0.24527636441086942, 'gamma': 0.9306027989978409}. Best is trial 2 with value: 0.06232285934644927.\n"
     ]
    },
    {
     "name": "stdout",
     "output_type": "stream",
     "text": [
      "Results saved to optuna_progressSLIMRP3EASE_Rals2.csv and best results to 'best_optuna_results.csv'\n",
      "EvaluatorHoldout: Processed 35584 (100.0%) in 1.09 min. Users per second: 545\n"
     ]
    },
    {
     "name": "stderr",
     "output_type": "stream",
     "text": [
      "[I 2024-12-28 16:19:32,399] Trial 4 finished with value: 0.06227189899865631 and parameters: {'alpha': 0.6097470765738103, 'beta': 0.2700503520149287, 'gamma': 0.8675182297944506}. Best is trial 2 with value: 0.06232285934644927.\n"
     ]
    },
    {
     "name": "stdout",
     "output_type": "stream",
     "text": [
      "Results saved to optuna_progressSLIMRP3EASE_Rals2.csv and best results to 'best_optuna_results.csv'\n",
      "EvaluatorHoldout: Processed 35584 (100.0%) in 1.09 min. Users per second: 543\n"
     ]
    },
    {
     "name": "stderr",
     "output_type": "stream",
     "text": [
      "[I 2024-12-28 16:20:43,496] Trial 5 finished with value: 0.06188905795006646 and parameters: {'alpha': 0.6285915942269922, 'beta': 0.276335225892218, 'gamma': 0.9644697717928138}. Best is trial 2 with value: 0.06232285934644927.\n"
     ]
    },
    {
     "name": "stdout",
     "output_type": "stream",
     "text": [
      "Results saved to optuna_progressSLIMRP3EASE_Rals2.csv and best results to 'best_optuna_results.csv'\n",
      "EvaluatorHoldout: Processed 35584 (100.0%) in 1.10 min. Users per second: 541\n"
     ]
    },
    {
     "name": "stderr",
     "output_type": "stream",
     "text": [
      "[I 2024-12-28 16:21:54,760] Trial 6 finished with value: 0.06216387158130422 and parameters: {'alpha': 0.5740339560686452, 'beta': 0.29011239309526626, 'gamma': 0.9183855136910086}. Best is trial 2 with value: 0.06232285934644927.\n"
     ]
    },
    {
     "name": "stdout",
     "output_type": "stream",
     "text": [
      "Results saved to optuna_progressSLIMRP3EASE_Rals2.csv and best results to 'best_optuna_results.csv'\n",
      "EvaluatorHoldout: Processed 35584 (100.0%) in 1.09 min. Users per second: 544\n"
     ]
    },
    {
     "name": "stderr",
     "output_type": "stream",
     "text": [
      "[I 2024-12-28 16:23:05,554] Trial 7 finished with value: 0.06189111768620592 and parameters: {'alpha': 0.5090686683781133, 'beta': 0.25273040032458727, 'gamma': 0.9908694588851399}. Best is trial 2 with value: 0.06232285934644927.\n"
     ]
    },
    {
     "name": "stdout",
     "output_type": "stream",
     "text": [
      "Results saved to optuna_progressSLIMRP3EASE_Rals2.csv and best results to 'best_optuna_results.csv'\n",
      "EvaluatorHoldout: Processed 35584 (100.0%) in 1.10 min. Users per second: 539\n"
     ]
    },
    {
     "name": "stderr",
     "output_type": "stream",
     "text": [
      "[I 2024-12-28 16:24:17,939] Trial 8 finished with value: 0.06216686583768505 and parameters: {'alpha': 0.6454704042135402, 'beta': 0.20473254654316844, 'gamma': 0.918019379718749}. Best is trial 2 with value: 0.06232285934644927.\n"
     ]
    },
    {
     "name": "stdout",
     "output_type": "stream",
     "text": [
      "Results saved to optuna_progressSLIMRP3EASE_Rals2.csv and best results to 'best_optuna_results.csv'\n",
      "EvaluatorHoldout: Processed 35584 (100.0%) in 1.11 min. Users per second: 536\n"
     ]
    },
    {
     "name": "stderr",
     "output_type": "stream",
     "text": [
      "[I 2024-12-28 16:25:29,949] Trial 9 finished with value: 0.06227718717882652 and parameters: {'alpha': 0.6203002463755105, 'beta': 0.21466725959543898, 'gamma': 0.889339691608882}. Best is trial 2 with value: 0.06232285934644927.\n"
     ]
    },
    {
     "name": "stdout",
     "output_type": "stream",
     "text": [
      "Results saved to optuna_progressSLIMRP3EASE_Rals2.csv and best results to 'best_optuna_results.csv'\n",
      "EvaluatorHoldout: Processed 35584 (100.0%) in 1.06 min. Users per second: 558\n"
     ]
    },
    {
     "name": "stderr",
     "output_type": "stream",
     "text": [
      "[I 2024-12-28 16:26:39,921] Trial 10 finished with value: 0.062274899946112454 and parameters: {'alpha': 0.674541644212886, 'beta': 0.264984017445634, 'gamma': 0.8152176544002093}. Best is trial 2 with value: 0.06232285934644927.\n"
     ]
    },
    {
     "name": "stdout",
     "output_type": "stream",
     "text": [
      "Results saved to optuna_progressSLIMRP3EASE_Rals2.csv and best results to 'best_optuna_results.csv'\n",
      "EvaluatorHoldout: Processed 35584 (100.0%) in 1.08 min. Users per second: 550\n"
     ]
    },
    {
     "name": "stderr",
     "output_type": "stream",
     "text": [
      "[I 2024-12-28 16:27:50,154] Trial 11 finished with value: 0.062254251286468616 and parameters: {'alpha': 0.5939165007292676, 'beta': 0.21098299508888635, 'gamma': 0.8559205246783637}. Best is trial 2 with value: 0.06232285934644927.\n"
     ]
    },
    {
     "name": "stdout",
     "output_type": "stream",
     "text": [
      "Results saved to optuna_progressSLIMRP3EASE_Rals2.csv and best results to 'best_optuna_results.csv'\n",
      "EvaluatorHoldout: Processed 35584 (100.0%) in 1.09 min. Users per second: 543\n"
     ]
    },
    {
     "name": "stderr",
     "output_type": "stream",
     "text": [
      "[I 2024-12-28 16:29:02,101] Trial 12 finished with value: 0.06191268079286352 and parameters: {'alpha': 0.4672756188775026, 'beta': 0.22360493853049118, 'gamma': 0.8074335667672533}. Best is trial 2 with value: 0.06232285934644927.\n"
     ]
    },
    {
     "name": "stdout",
     "output_type": "stream",
     "text": [
      "Results saved to optuna_progressSLIMRP3EASE_Rals2.csv and best results to 'best_optuna_results.csv'\n",
      "EvaluatorHoldout: Processed 35584 (100.0%) in 1.10 min. Users per second: 541\n"
     ]
    },
    {
     "name": "stderr",
     "output_type": "stream",
     "text": [
      "[I 2024-12-28 16:30:13,420] Trial 13 finished with value: 0.06224463955621028 and parameters: {'alpha': 0.6722046742324743, 'beta': 0.2498430854032403, 'gamma': 0.8774994076846099}. Best is trial 2 with value: 0.06232285934644927.\n"
     ]
    },
    {
     "name": "stdout",
     "output_type": "stream",
     "text": [
      "Results saved to optuna_progressSLIMRP3EASE_Rals2.csv and best results to 'best_optuna_results.csv'\n",
      "EvaluatorHoldout: Processed 35584 (100.0%) in 1.08 min. Users per second: 548\n"
     ]
    },
    {
     "name": "stderr",
     "output_type": "stream",
     "text": [
      "[I 2024-12-28 16:31:24,117] Trial 14 finished with value: 0.06225717751691287 and parameters: {'alpha': 0.603094260041887, 'beta': 0.2169346289199672, 'gamma': 0.8361663423453499}. Best is trial 2 with value: 0.06232285934644927.\n"
     ]
    },
    {
     "name": "stdout",
     "output_type": "stream",
     "text": [
      "Results saved to optuna_progressSLIMRP3EASE_Rals2.csv and best results to 'best_optuna_results.csv'\n",
      "EvaluatorHoldout: Processed 35584 (100.0%) in 1.09 min. Users per second: 542\n"
     ]
    },
    {
     "name": "stderr",
     "output_type": "stream",
     "text": [
      "[I 2024-12-28 16:32:35,007] Trial 15 finished with value: 0.06222677661442076 and parameters: {'alpha': 0.6510558879062429, 'beta': 0.260778424440211, 'gamma': 0.8887177896301731}. Best is trial 2 with value: 0.06232285934644927.\n"
     ]
    },
    {
     "name": "stdout",
     "output_type": "stream",
     "text": [
      "Results saved to optuna_progressSLIMRP3EASE_Rals2.csv and best results to 'best_optuna_results.csv'\n",
      "EvaluatorHoldout: Processed 35584 (100.0%) in 1.08 min. Users per second: 549\n"
     ]
    },
    {
     "name": "stderr",
     "output_type": "stream",
     "text": [
      "[I 2024-12-28 16:33:46,064] Trial 16 finished with value: 0.062247181049800974 and parameters: {'alpha': 0.5768045789844582, 'beta': 0.299113702022556, 'gamma': 0.8390558801731487}. Best is trial 2 with value: 0.06232285934644927.\n"
     ]
    },
    {
     "name": "stdout",
     "output_type": "stream",
     "text": [
      "Results saved to optuna_progressSLIMRP3EASE_Rals2.csv and best results to 'best_optuna_results.csv'\n",
      "EvaluatorHoldout: Processed 35584 (100.0%) in 1.08 min. Users per second: 548\n"
     ]
    },
    {
     "name": "stderr",
     "output_type": "stream",
     "text": [
      "[I 2024-12-28 16:34:56,631] Trial 17 finished with value: 0.062257260040180236 and parameters: {'alpha': 0.614956623700259, 'beta': 0.23732596346191917, 'gamma': 0.9011582646358933}. Best is trial 2 with value: 0.06232285934644927.\n"
     ]
    },
    {
     "name": "stdout",
     "output_type": "stream",
     "text": [
      "Results saved to optuna_progressSLIMRP3EASE_Rals2.csv and best results to 'best_optuna_results.csv'\n",
      "EvaluatorHoldout: Processed 35584 (100.0%) in 1.06 min. Users per second: 558\n"
     ]
    },
    {
     "name": "stderr",
     "output_type": "stream",
     "text": [
      "[I 2024-12-28 16:36:05,943] Trial 18 finished with value: 0.06225165849463081 and parameters: {'alpha': 0.655964273698311, 'beta': 0.20216663753892503, 'gamma': 0.833591157292052}. Best is trial 2 with value: 0.06232285934644927.\n"
     ]
    },
    {
     "name": "stdout",
     "output_type": "stream",
     "text": [
      "Results saved to optuna_progressSLIMRP3EASE_Rals2.csv and best results to 'best_optuna_results.csv'\n",
      "EvaluatorHoldout: Processed 35584 (100.0%) in 1.09 min. Users per second: 544\n"
     ]
    },
    {
     "name": "stderr",
     "output_type": "stream",
     "text": [
      "[I 2024-12-28 16:37:16,924] Trial 19 finished with value: 0.06218254191289615 and parameters: {'alpha': 0.5569651808613137, 'beta': 0.2759363453394245, 'gamma': 0.8001088603041127}. Best is trial 2 with value: 0.06232285934644927.\n"
     ]
    },
    {
     "name": "stdout",
     "output_type": "stream",
     "text": [
      "Results saved to optuna_progressSLIMRP3EASE_Rals2.csv and best results to 'best_optuna_results.csv'\n",
      "EvaluatorHoldout: Processed 35584 (100.0%) in 1.08 min. Users per second: 549\n"
     ]
    },
    {
     "name": "stderr",
     "output_type": "stream",
     "text": [
      "[I 2024-12-28 16:38:27,401] Trial 20 finished with value: 0.0622570883025702 and parameters: {'alpha': 0.6227551716623428, 'beta': 0.23571628660345784, 'gamma': 0.8557911096745101}. Best is trial 2 with value: 0.06232285934644927.\n"
     ]
    },
    {
     "name": "stdout",
     "output_type": "stream",
     "text": [
      "Results saved to optuna_progressSLIMRP3EASE_Rals2.csv and best results to 'best_optuna_results.csv'\n",
      "EvaluatorHoldout: Processed 35584 (100.0%) in 1.08 min. Users per second: 549\n"
     ]
    },
    {
     "name": "stderr",
     "output_type": "stream",
     "text": [
      "[I 2024-12-28 16:39:37,760] Trial 21 finished with value: 0.06228810366884852 and parameters: {'alpha': 0.6787061462380892, 'beta': 0.26214857794936364, 'gamma': 0.8180704275567329}. Best is trial 2 with value: 0.06232285934644927.\n"
     ]
    },
    {
     "name": "stdout",
     "output_type": "stream",
     "text": [
      "Results saved to optuna_progressSLIMRP3EASE_Rals2.csv and best results to 'best_optuna_results.csv'\n",
      "EvaluatorHoldout: Processed 35584 (100.0%) in 1.06 min. Users per second: 558\n"
     ]
    },
    {
     "name": "stderr",
     "output_type": "stream",
     "text": [
      "[I 2024-12-28 16:40:47,948] Trial 22 finished with value: 0.06229314539439672 and parameters: {'alpha': 0.6772201726646283, 'beta': 0.2580227272709174, 'gamma': 0.824966929251634}. Best is trial 2 with value: 0.06232285934644927.\n"
     ]
    },
    {
     "name": "stdout",
     "output_type": "stream",
     "text": [
      "Results saved to optuna_progressSLIMRP3EASE_Rals2.csv and best results to 'best_optuna_results.csv'\n",
      "EvaluatorHoldout: Processed 35584 (100.0%) in 1.09 min. Users per second: 544\n"
     ]
    },
    {
     "name": "stderr",
     "output_type": "stream",
     "text": [
      "[I 2024-12-28 16:41:59,144] Trial 23 finished with value: 0.062291823906943766 and parameters: {'alpha': 0.679414932609521, 'beta': 0.25769654200613706, 'gamma': 0.8218675210863148}. Best is trial 2 with value: 0.06232285934644927.\n"
     ]
    },
    {
     "name": "stdout",
     "output_type": "stream",
     "text": [
      "Results saved to optuna_progressSLIMRP3EASE_Rals2.csv and best results to 'best_optuna_results.csv'\n",
      "EvaluatorHoldout: Processed 35584 (100.0%) in 1.09 min. Users per second: 546\n"
     ]
    },
    {
     "name": "stderr",
     "output_type": "stream",
     "text": [
      "[I 2024-12-28 16:43:10,224] Trial 24 finished with value: 0.062287803685620764 and parameters: {'alpha': 0.6641016168377412, 'beta': 0.2533834206745428, 'gamma': 0.8257911070856653}. Best is trial 2 with value: 0.06232285934644927.\n"
     ]
    },
    {
     "name": "stdout",
     "output_type": "stream",
     "text": [
      "Results saved to optuna_progressSLIMRP3EASE_Rals2.csv and best results to 'best_optuna_results.csv'\n",
      "EvaluatorHoldout: Processed 35584 (100.0%) in 1.09 min. Users per second: 545\n"
     ]
    },
    {
     "name": "stderr",
     "output_type": "stream",
     "text": [
      "[I 2024-12-28 16:44:21,341] Trial 25 finished with value: 0.06227707454571863 and parameters: {'alpha': 0.6446308271294096, 'beta': 0.2440178789030796, 'gamma': 0.8512546387929407}. Best is trial 2 with value: 0.06232285934644927.\n"
     ]
    },
    {
     "name": "stdout",
     "output_type": "stream",
     "text": [
      "Results saved to optuna_progressSLIMRP3EASE_Rals2.csv and best results to 'best_optuna_results.csv'\n",
      "EvaluatorHoldout: Processed 35584 (100.0%) in 1.09 min. Users per second: 546\n"
     ]
    },
    {
     "name": "stderr",
     "output_type": "stream",
     "text": [
      "[I 2024-12-28 16:45:32,196] Trial 26 finished with value: 0.062306451713627205 and parameters: {'alpha': 0.6597540612042818, 'beta': 0.2831563712495877, 'gamma': 0.8430724012952728}. Best is trial 2 with value: 0.06232285934644927.\n"
     ]
    },
    {
     "name": "stdout",
     "output_type": "stream",
     "text": [
      "Results saved to optuna_progressSLIMRP3EASE_Rals2.csv and best results to 'best_optuna_results.csv'\n",
      "EvaluatorHoldout: Processed 35584 (100.0%) in 1.09 min. Users per second: 543\n"
     ]
    },
    {
     "name": "stderr",
     "output_type": "stream",
     "text": [
      "[I 2024-12-28 16:46:43,945] Trial 27 finished with value: 0.06230021451588539 and parameters: {'alpha': 0.6555592509207374, 'beta': 0.2827340985836986, 'gamma': 0.8458079810182568}. Best is trial 2 with value: 0.06232285934644927.\n"
     ]
    },
    {
     "name": "stdout",
     "output_type": "stream",
     "text": [
      "Results saved to optuna_progressSLIMRP3EASE_Rals2.csv and best results to 'best_optuna_results.csv'\n",
      "EvaluatorHoldout: Processed 35584 (100.0%) in 1.08 min. Users per second: 548\n"
     ]
    },
    {
     "name": "stderr",
     "output_type": "stream",
     "text": [
      "[I 2024-12-28 16:47:55,391] Trial 28 finished with value: 0.06229258668957486 and parameters: {'alpha': 0.5920716783580884, 'beta': 0.2846797082319713, 'gamma': 0.8459139945955914}. Best is trial 2 with value: 0.06232285934644927.\n"
     ]
    },
    {
     "name": "stdout",
     "output_type": "stream",
     "text": [
      "Results saved to optuna_progressSLIMRP3EASE_Rals2.csv and best results to 'best_optuna_results.csv'\n",
      "EvaluatorHoldout: Processed 35584 (100.0%) in 1.09 min. Users per second: 543\n"
     ]
    },
    {
     "name": "stderr",
     "output_type": "stream",
     "text": [
      "[I 2024-12-28 16:49:06,685] Trial 29 finished with value: 0.062170599457931616 and parameters: {'alpha': 0.5125497877284102, 'beta': 0.2863708446661284, 'gamma': 0.8584664939350637}. Best is trial 2 with value: 0.06232285934644927.\n"
     ]
    },
    {
     "name": "stdout",
     "output_type": "stream",
     "text": [
      "Results saved to optuna_progressSLIMRP3EASE_Rals2.csv and best results to 'best_optuna_results.csv'\n",
      "EvaluatorHoldout: Processed 35584 (100.0%) in 1.08 min. Users per second: 551\n"
     ]
    },
    {
     "name": "stderr",
     "output_type": "stream",
     "text": [
      "[I 2024-12-28 16:50:17,023] Trial 30 finished with value: 0.06225755556269077 and parameters: {'alpha': 0.636915004737061, 'beta': 0.29651853416937546, 'gamma': 0.8733640655300982}. Best is trial 2 with value: 0.06232285934644927.\n"
     ]
    },
    {
     "name": "stdout",
     "output_type": "stream",
     "text": [
      "Results saved to optuna_progressSLIMRP3EASE_Rals2.csv and best results to 'best_optuna_results.csv'\n",
      "EvaluatorHoldout: Processed 35584 (100.0%) in 1.08 min. Users per second: 547\n"
     ]
    },
    {
     "name": "stderr",
     "output_type": "stream",
     "text": [
      "[I 2024-12-28 16:51:27,575] Trial 31 finished with value: 0.062312062180610674 and parameters: {'alpha': 0.660099526139685, 'beta': 0.2765306856946376, 'gamma': 0.8307292688898321}. Best is trial 2 with value: 0.06232285934644927.\n"
     ]
    },
    {
     "name": "stdout",
     "output_type": "stream",
     "text": [
      "Results saved to optuna_progressSLIMRP3EASE_Rals2.csv and best results to 'best_optuna_results.csv'\n",
      "EvaluatorHoldout: Processed 35584 (100.0%) in 1.06 min. Users per second: 562\n"
     ]
    },
    {
     "name": "stderr",
     "output_type": "stream",
     "text": [
      "[I 2024-12-28 16:52:37,335] Trial 32 finished with value: 0.062315160148664825 and parameters: {'alpha': 0.6607674673751788, 'beta': 0.2750492021342675, 'gamma': 0.8439629113656713}. Best is trial 2 with value: 0.06232285934644927.\n"
     ]
    },
    {
     "name": "stdout",
     "output_type": "stream",
     "text": [
      "Results saved to optuna_progressSLIMRP3EASE_Rals2.csv and best results to 'best_optuna_results.csv'\n",
      "EvaluatorHoldout: Processed 35584 (100.0%) in 1.09 min. Users per second: 545\n"
     ]
    },
    {
     "name": "stderr",
     "output_type": "stream",
     "text": [
      "[I 2024-12-28 16:53:49,124] Trial 33 finished with value: 0.06228838803956617 and parameters: {'alpha': 0.6605099717288476, 'beta': 0.2754248385191319, 'gamma': 0.8080768923491615}. Best is trial 2 with value: 0.06232285934644927.\n"
     ]
    },
    {
     "name": "stdout",
     "output_type": "stream",
     "text": [
      "Results saved to optuna_progressSLIMRP3EASE_Rals2.csv and best results to 'best_optuna_results.csv'\n",
      "EvaluatorHoldout: Processed 35584 (100.0%) in 1.06 min. Users per second: 559\n"
     ]
    },
    {
     "name": "stderr",
     "output_type": "stream",
     "text": [
      "[I 2024-12-28 16:54:58,848] Trial 34 finished with value: 0.062290533644511155 and parameters: {'alpha': 0.6366747406110264, 'beta': 0.2690276947351069, 'gamma': 0.8660587878072447}. Best is trial 2 with value: 0.06232285934644927.\n"
     ]
    },
    {
     "name": "stdout",
     "output_type": "stream",
     "text": [
      "Results saved to optuna_progressSLIMRP3EASE_Rals2.csv and best results to 'best_optuna_results.csv'\n",
      "EvaluatorHoldout: Processed 35584 (100.0%) in 1.08 min. Users per second: 549\n"
     ]
    },
    {
     "name": "stderr",
     "output_type": "stream",
     "text": [
      "[I 2024-12-28 16:56:08,950] Trial 35 finished with value: 0.06227167707797849 and parameters: {'alpha': 0.6644294334751715, 'beta': 0.2914602622388933, 'gamma': 0.832586183502392}. Best is trial 2 with value: 0.06232285934644927.\n"
     ]
    },
    {
     "name": "stdout",
     "output_type": "stream",
     "text": [
      "Results saved to optuna_progressSLIMRP3EASE_Rals2.csv and best results to 'best_optuna_results.csv'\n",
      "EvaluatorHoldout: Processed 35584 (100.0%) in 1.08 min. Users per second: 548\n"
     ]
    },
    {
     "name": "stderr",
     "output_type": "stream",
     "text": [
      "[I 2024-12-28 16:57:19,452] Trial 36 finished with value: 0.062004727691059205 and parameters: {'alpha': 0.6386832154004214, 'beta': 0.27044765752551747, 'gamma': 0.9469457196661557}. Best is trial 2 with value: 0.06232285934644927.\n"
     ]
    },
    {
     "name": "stdout",
     "output_type": "stream",
     "text": [
      "Results saved to optuna_progressSLIMRP3EASE_Rals2.csv and best results to 'best_optuna_results.csv'\n",
      "EvaluatorHoldout: Processed 35584 (100.0%) in 1.09 min. Users per second: 545\n"
     ]
    },
    {
     "name": "stderr",
     "output_type": "stream",
     "text": [
      "[I 2024-12-28 16:58:30,125] Trial 37 finished with value: 0.062236610265357116 and parameters: {'alpha': 0.6254125974358464, 'beta': 0.27980504998218875, 'gamma': 0.8826373417742011}. Best is trial 2 with value: 0.06232285934644927.\n"
     ]
    },
    {
     "name": "stdout",
     "output_type": "stream",
     "text": [
      "Results saved to optuna_progressSLIMRP3EASE_Rals2.csv and best results to 'best_optuna_results.csv'\n",
      "EvaluatorHoldout: Processed 35584 (100.0%) in 1.09 min. Users per second: 545\n"
     ]
    },
    {
     "name": "stderr",
     "output_type": "stream",
     "text": [
      "[I 2024-12-28 16:59:41,154] Trial 38 finished with value: 0.062189514013786765 and parameters: {'alpha': 0.6032851207530165, 'beta': 0.2925994913275532, 'gamma': 0.9053365102324028}. Best is trial 2 with value: 0.06232285934644927.\n"
     ]
    },
    {
     "name": "stdout",
     "output_type": "stream",
     "text": [
      "Results saved to optuna_progressSLIMRP3EASE_Rals2.csv and best results to 'best_optuna_results.csv'\n",
      "EvaluatorHoldout: Processed 35584 (100.0%) in 1.08 min. Users per second: 550\n"
     ]
    },
    {
     "name": "stderr",
     "output_type": "stream",
     "text": [
      "[I 2024-12-28 17:00:51,135] Trial 39 finished with value: 0.062254407411569006 and parameters: {'alpha': 0.6455337758373665, 'beta': 0.27055235590440707, 'gamma': 0.8677378899032859}. Best is trial 2 with value: 0.06232285934644927.\n"
     ]
    },
    {
     "name": "stdout",
     "output_type": "stream",
     "text": [
      "Results saved to optuna_progressSLIMRP3EASE_Rals2.csv and best results to 'best_optuna_results.csv'\n",
      "EvaluatorHoldout: Processed 35584 (100.0%) in 1.06 min. Users per second: 561\n"
     ]
    },
    {
     "name": "stderr",
     "output_type": "stream",
     "text": [
      "[I 2024-12-28 17:01:59,764] Trial 40 finished with value: 0.06223613965969876 and parameters: {'alpha': 0.5316594796005067, 'beta': 0.27829448328601786, 'gamma': 0.8426316504443618}. Best is trial 2 with value: 0.06232285934644927.\n"
     ]
    },
    {
     "name": "stdout",
     "output_type": "stream",
     "text": [
      "Results saved to optuna_progressSLIMRP3EASE_Rals2.csv and best results to 'best_optuna_results.csv'\n",
      "EvaluatorHoldout: Processed 35584 (100.0%) in 1.07 min. Users per second: 554\n"
     ]
    },
    {
     "name": "stderr",
     "output_type": "stream",
     "text": [
      "[I 2024-12-28 17:03:09,280] Trial 41 finished with value: 0.06230306602931753 and parameters: {'alpha': 0.6562079378161254, 'beta': 0.28349950615704, 'gamma': 0.8478266654085146}. Best is trial 2 with value: 0.06232285934644927.\n"
     ]
    },
    {
     "name": "stdout",
     "output_type": "stream",
     "text": [
      "Results saved to optuna_progressSLIMRP3EASE_Rals2.csv and best results to 'best_optuna_results.csv'\n",
      "EvaluatorHoldout: Processed 35584 (100.0%) in 1.08 min. Users per second: 549\n"
     ]
    },
    {
     "name": "stderr",
     "output_type": "stream",
     "text": [
      "[I 2024-12-28 17:04:19,322] Trial 42 finished with value: 0.062279759897437253 and parameters: {'alpha': 0.6678835133855805, 'beta': 0.2887418156943657, 'gamma': 0.8319311008766277}. Best is trial 2 with value: 0.06232285934644927.\n"
     ]
    },
    {
     "name": "stdout",
     "output_type": "stream",
     "text": [
      "Results saved to optuna_progressSLIMRP3EASE_Rals2.csv and best results to 'best_optuna_results.csv'\n",
      "EvaluatorHoldout: Processed 35584 (100.0%) in 1.10 min. Users per second: 537\n"
     ]
    },
    {
     "name": "stderr",
     "output_type": "stream",
     "text": [
      "[I 2024-12-28 17:05:30,933] Trial 43 finished with value: 0.062289937023593485 and parameters: {'alpha': 0.6283751130299557, 'beta': 0.26596554924809934, 'gamma': 0.8636061608103922}. Best is trial 2 with value: 0.06232285934644927.\n"
     ]
    },
    {
     "name": "stdout",
     "output_type": "stream",
     "text": [
      "Results saved to optuna_progressSLIMRP3EASE_Rals2.csv and best results to 'best_optuna_results.csv'\n",
      "EvaluatorHoldout: Processed 35584 (100.0%) in 1.09 min. Users per second: 543\n"
     ]
    },
    {
     "name": "stderr",
     "output_type": "stream",
     "text": [
      "[I 2024-12-28 17:06:41,640] Trial 44 finished with value: 0.06165119466926247 and parameters: {'alpha': 0.6526868562948608, 'beta': 0.2827611133093458, 'gamma': 0.9951189707460013}. Best is trial 2 with value: 0.06232285934644927.\n"
     ]
    },
    {
     "name": "stdout",
     "output_type": "stream",
     "text": [
      "Results saved to optuna_progressSLIMRP3EASE_Rals2.csv and best results to 'best_optuna_results.csv'\n",
      "EvaluatorHoldout: Processed 35584 (100.0%) in 1.08 min. Users per second: 549\n"
     ]
    },
    {
     "name": "stderr",
     "output_type": "stream",
     "text": [
      "[I 2024-12-28 17:07:51,719] Trial 45 finished with value: 0.06227391524280362 and parameters: {'alpha': 0.6648944862747043, 'beta': 0.2718128354070352, 'gamma': 0.8101787463188239}. Best is trial 2 with value: 0.06232285934644927.\n"
     ]
    },
    {
     "name": "stdout",
     "output_type": "stream",
     "text": [
      "Results saved to optuna_progressSLIMRP3EASE_Rals2.csv and best results to 'best_optuna_results.csv'\n",
      "EvaluatorHoldout: Processed 35584 (100.0%) in 1.08 min. Users per second: 549\n"
     ]
    },
    {
     "name": "stderr",
     "output_type": "stream",
     "text": [
      "[I 2024-12-28 17:09:01,732] Trial 46 finished with value: 0.062302557507563444 and parameters: {'alpha': 0.6447677355485664, 'beta': 0.2799380512576602, 'gamma': 0.8484130725748859}. Best is trial 2 with value: 0.06232285934644927.\n"
     ]
    },
    {
     "name": "stdout",
     "output_type": "stream",
     "text": [
      "Results saved to optuna_progressSLIMRP3EASE_Rals2.csv and best results to 'best_optuna_results.csv'\n",
      "EvaluatorHoldout: Processed 35584 (100.0%) in 1.09 min. Users per second: 545\n"
     ]
    },
    {
     "name": "stderr",
     "output_type": "stream",
     "text": [
      "[I 2024-12-28 17:10:12,265] Trial 47 finished with value: 0.062280211545047634 and parameters: {'alpha': 0.6112970343062629, 'beta': 0.2939265511991705, 'gamma': 0.8000302202529775}. Best is trial 2 with value: 0.06232285934644927.\n"
     ]
    },
    {
     "name": "stdout",
     "output_type": "stream",
     "text": [
      "Results saved to optuna_progressSLIMRP3EASE_Rals2.csv and best results to 'best_optuna_results.csv'\n",
      "EvaluatorHoldout: Processed 35584 (100.0%) in 1.09 min. Users per second: 545\n"
     ]
    },
    {
     "name": "stderr",
     "output_type": "stream",
     "text": [
      "[I 2024-12-28 17:11:22,866] Trial 48 finished with value: 0.06232537630609575 and parameters: {'alpha': 0.6321574947982107, 'beta': 0.2751346756973121, 'gamma': 0.8165265337317642}. Best is trial 48 with value: 0.06232537630609575.\n"
     ]
    },
    {
     "name": "stdout",
     "output_type": "stream",
     "text": [
      "Results saved to optuna_progressSLIMRP3EASE_Rals2.csv and best results to 'best_optuna_results.csv'\n",
      "EvaluatorHoldout: Processed 35584 (100.0%) in 1.09 min. Users per second: 545\n"
     ]
    },
    {
     "name": "stderr",
     "output_type": "stream",
     "text": [
      "[I 2024-12-28 17:12:33,371] Trial 49 finished with value: 0.06200271144691176 and parameters: {'alpha': 0.4630577872002464, 'beta': 0.2654205098386449, 'gamma': 0.8184029427712273}. Best is trial 48 with value: 0.06232537630609575.\n"
     ]
    },
    {
     "name": "stdout",
     "output_type": "stream",
     "text": [
      "Results saved to optuna_progressSLIMRP3EASE_Rals2.csv and best results to 'best_optuna_results.csv'\n",
      "EvaluatorHoldout: Processed 35584 (100.0%) in 1.09 min. Users per second: 543\n"
     ]
    },
    {
     "name": "stderr",
     "output_type": "stream",
     "text": [
      "[I 2024-12-28 17:13:44,089] Trial 50 finished with value: 0.06180128999478765 and parameters: {'alpha': 0.5838800167035303, 'beta': 0.2738754577220141, 'gamma': 0.9843998832591083}. Best is trial 48 with value: 0.06232537630609575.\n"
     ]
    },
    {
     "name": "stdout",
     "output_type": "stream",
     "text": [
      "Results saved to optuna_progressSLIMRP3EASE_Rals2.csv and best results to 'best_optuna_results.csv'\n",
      "EvaluatorHoldout: Processed 35584 (100.0%) in 1.09 min. Users per second: 544\n"
     ]
    },
    {
     "name": "stderr",
     "output_type": "stream",
     "text": [
      "[I 2024-12-28 17:14:54,738] Trial 51 finished with value: 0.06230467634820512 and parameters: {'alpha': 0.6513480646402815, 'beta': 0.2886482570530026, 'gamma': 0.8273017009921052}. Best is trial 48 with value: 0.06232537630609575.\n"
     ]
    },
    {
     "name": "stdout",
     "output_type": "stream",
     "text": [
      "Results saved to optuna_progressSLIMRP3EASE_Rals2.csv and best results to 'best_optuna_results.csv'\n",
      "EvaluatorHoldout: Processed 35584 (100.0%) in 1.07 min. Users per second: 553\n"
     ]
    },
    {
     "name": "stderr",
     "output_type": "stream",
     "text": [
      "[I 2024-12-28 17:16:04,375] Trial 52 finished with value: 0.062301473553298035 and parameters: {'alpha': 0.6330594614117628, 'beta': 0.2869785868562222, 'gamma': 0.8284730739666577}. Best is trial 48 with value: 0.06232537630609575.\n"
     ]
    },
    {
     "name": "stdout",
     "output_type": "stream",
     "text": [
      "Results saved to optuna_progressSLIMRP3EASE_Rals2.csv and best results to 'best_optuna_results.csv'\n",
      "EvaluatorHoldout: Processed 35584 (100.0%) in 1.09 min. Users per second: 544\n"
     ]
    },
    {
     "name": "stderr",
     "output_type": "stream",
     "text": [
      "[I 2024-12-28 17:17:15,028] Trial 53 finished with value: 0.06229687566910533 and parameters: {'alpha': 0.6448557473790985, 'beta': 0.29603586587825864, 'gamma': 0.8143179665511489}. Best is trial 48 with value: 0.06232537630609575.\n"
     ]
    },
    {
     "name": "stdout",
     "output_type": "stream",
     "text": [
      "Results saved to optuna_progressSLIMRP3EASE_Rals2.csv and best results to 'best_optuna_results.csv'\n",
      "EvaluatorHoldout: Processed 35584 (100.0%) in 1.08 min. Users per second: 551\n"
     ]
    },
    {
     "name": "stderr",
     "output_type": "stream",
     "text": [
      "[I 2024-12-28 17:18:24,897] Trial 54 finished with value: 0.062285088224061584 and parameters: {'alpha': 0.6704839233668161, 'beta': 0.2783442584191233, 'gamma': 0.8338767392392479}. Best is trial 48 with value: 0.06232537630609575.\n"
     ]
    },
    {
     "name": "stdout",
     "output_type": "stream",
     "text": [
      "Results saved to optuna_progressSLIMRP3EASE_Rals2.csv and best results to 'best_optuna_results.csv'\n",
      "EvaluatorHoldout: Processed 35584 (100.0%) in 1.09 min. Users per second: 544\n"
     ]
    },
    {
     "name": "stderr",
     "output_type": "stream",
     "text": [
      "[I 2024-12-28 17:19:35,517] Trial 55 finished with value: 0.06206925754039422 and parameters: {'alpha': 0.4750563826244904, 'beta': 0.2995038645699957, 'gamma': 0.8388470493702156}. Best is trial 48 with value: 0.06232537630609575.\n"
     ]
    },
    {
     "name": "stdout",
     "output_type": "stream",
     "text": [
      "Results saved to optuna_progressSLIMRP3EASE_Rals2.csv and best results to 'best_optuna_results.csv'\n",
      "EvaluatorHoldout: Processed 35584 (100.0%) in 1.09 min. Users per second: 544\n"
     ]
    },
    {
     "name": "stderr",
     "output_type": "stream",
     "text": [
      "[I 2024-12-28 17:20:46,210] Trial 56 finished with value: 0.06229768194372854 and parameters: {'alpha': 0.6504384644506733, 'beta': 0.2426695492038125, 'gamma': 0.8214310243306326}. Best is trial 48 with value: 0.06232537630609575.\n"
     ]
    },
    {
     "name": "stdout",
     "output_type": "stream",
     "text": [
      "Results saved to optuna_progressSLIMRP3EASE_Rals2.csv and best results to 'best_optuna_results.csv'\n",
      "EvaluatorHoldout: Processed 35584 (100.0%) in 1.09 min. Users per second: 545\n"
     ]
    },
    {
     "name": "stderr",
     "output_type": "stream",
     "text": [
      "[I 2024-12-28 17:21:56,899] Trial 57 finished with value: 0.06229709201388669 and parameters: {'alpha': 0.6159318312777681, 'beta': 0.25258506792027774, 'gamma': 0.8085444043263903}. Best is trial 48 with value: 0.06232537630609575.\n"
     ]
    },
    {
     "name": "stdout",
     "output_type": "stream",
     "text": [
      "Results saved to optuna_progressSLIMRP3EASE_Rals2.csv and best results to 'best_optuna_results.csv'\n",
      "EvaluatorHoldout: Processed 35584 (100.0%) in 1.09 min. Users per second: 544\n"
     ]
    },
    {
     "name": "stderr",
     "output_type": "stream",
     "text": [
      "[I 2024-12-28 17:23:07,544] Trial 58 finished with value: 0.062256517330776424 and parameters: {'alpha': 0.658482907165524, 'beta': 0.289838407547621, 'gamma': 0.8568808949758958}. Best is trial 48 with value: 0.06232537630609575.\n"
     ]
    },
    {
     "name": "stdout",
     "output_type": "stream",
     "text": [
      "Results saved to optuna_progressSLIMRP3EASE_Rals2.csv and best results to 'best_optuna_results.csv'\n",
      "EvaluatorHoldout: Processed 35584 (100.0%) in 1.05 min. Users per second: 563\n"
     ]
    },
    {
     "name": "stderr",
     "output_type": "stream",
     "text": [
      "[I 2024-12-28 17:24:16,050] Trial 59 finished with value: 0.062242181701065435 and parameters: {'alpha': 0.5645899413225832, 'beta': 0.22369206518852422, 'gamma': 0.8252953380526566}. Best is trial 48 with value: 0.06232537630609575.\n"
     ]
    },
    {
     "name": "stdout",
     "output_type": "stream",
     "text": [
      "Results saved to optuna_progressSLIMRP3EASE_Rals2.csv and best results to 'best_optuna_results.csv'\n",
      "EvaluatorHoldout: Processed 35584 (100.0%) in 1.09 min. Users per second: 545\n"
     ]
    },
    {
     "name": "stderr",
     "output_type": "stream",
     "text": [
      "[I 2024-12-28 17:25:26,589] Trial 60 finished with value: 0.06228958239658072 and parameters: {'alpha': 0.6692707510838026, 'beta': 0.2589288079192665, 'gamma': 0.8395681038041095}. Best is trial 48 with value: 0.06232537630609575.\n"
     ]
    },
    {
     "name": "stdout",
     "output_type": "stream",
     "text": [
      "Results saved to optuna_progressSLIMRP3EASE_Rals2.csv and best results to 'best_optuna_results.csv'\n",
      "EvaluatorHoldout: Processed 35584 (100.0%) in 1.08 min. Users per second: 550\n"
     ]
    },
    {
     "name": "stderr",
     "output_type": "stream",
     "text": [
      "[I 2024-12-28 17:26:36,568] Trial 61 finished with value: 0.06229211385355819 and parameters: {'alpha': 0.657551615609479, 'beta': 0.28261933749152585, 'gamma': 0.8507420643285327}. Best is trial 48 with value: 0.06232537630609575.\n"
     ]
    },
    {
     "name": "stdout",
     "output_type": "stream",
     "text": [
      "Results saved to optuna_progressSLIMRP3EASE_Rals2.csv and best results to 'best_optuna_results.csv'\n",
      "EvaluatorHoldout: Processed 35584 (100.0%) in 1.08 min. Users per second: 550\n"
     ]
    },
    {
     "name": "stderr",
     "output_type": "stream",
     "text": [
      "[I 2024-12-28 17:27:46,568] Trial 62 finished with value: 0.06232858802243701 and parameters: {'alpha': 0.6307507252378551, 'beta': 0.2749449056622751, 'gamma': 0.8167603046677593}. Best is trial 62 with value: 0.06232858802243701.\n"
     ]
    },
    {
     "name": "stdout",
     "output_type": "stream",
     "text": [
      "Results saved to optuna_progressSLIMRP3EASE_Rals2.csv and best results to 'best_optuna_results.csv'\n",
      "EvaluatorHoldout: Processed 35584 (100.0%) in 1.07 min. Users per second: 554\n"
     ]
    },
    {
     "name": "stderr",
     "output_type": "stream",
     "text": [
      "[I 2024-12-28 17:28:56,047] Trial 63 finished with value: 0.062348136000126314 and parameters: {'alpha': 0.6315216289204961, 'beta': 0.26668631548165966, 'gamma': 0.814261622392893}. Best is trial 63 with value: 0.062348136000126314.\n"
     ]
    },
    {
     "name": "stdout",
     "output_type": "stream",
     "text": [
      "Results saved to optuna_progressSLIMRP3EASE_Rals2.csv and best results to 'best_optuna_results.csv'\n",
      "EvaluatorHoldout: Processed 35584 (100.0%) in 1.07 min. Users per second: 552\n"
     ]
    },
    {
     "name": "stderr",
     "output_type": "stream",
     "text": [
      "[I 2024-12-28 17:30:05,685] Trial 64 finished with value: 0.06234930024729992 and parameters: {'alpha': 0.6214568712017713, 'beta': 0.26651516618588683, 'gamma': 0.8140881887673002}. Best is trial 64 with value: 0.06234930024729992.\n"
     ]
    },
    {
     "name": "stdout",
     "output_type": "stream",
     "text": [
      "Results saved to optuna_progressSLIMRP3EASE_Rals2.csv and best results to 'best_optuna_results.csv'\n",
      "EvaluatorHoldout: Processed 35584 (100.0%) in 1.09 min. Users per second: 544\n"
     ]
    },
    {
     "name": "stderr",
     "output_type": "stream",
     "text": [
      "[I 2024-12-28 17:31:16,346] Trial 65 finished with value: 0.06230919059395132 and parameters: {'alpha': 0.601817550608381, 'beta': 0.2667456634561323, 'gamma': 0.8132183985001399}. Best is trial 64 with value: 0.06234930024729992.\n"
     ]
    },
    {
     "name": "stdout",
     "output_type": "stream",
     "text": [
      "Results saved to optuna_progressSLIMRP3EASE_Rals2.csv and best results to 'best_optuna_results.csv'\n",
      "EvaluatorHoldout: Processed 35584 (100.0%) in 1.09 min. Users per second: 546\n"
     ]
    },
    {
     "name": "stderr",
     "output_type": "stream",
     "text": [
      "[I 2024-12-28 17:32:26,898] Trial 66 finished with value: 0.06228802003040219 and parameters: {'alpha': 0.6203628189987982, 'beta': 0.26202843650156443, 'gamma': 0.8037278345533444}. Best is trial 64 with value: 0.06234930024729992.\n"
     ]
    },
    {
     "name": "stdout",
     "output_type": "stream",
     "text": [
      "Results saved to optuna_progressSLIMRP3EASE_Rals2.csv and best results to 'best_optuna_results.csv'\n",
      "EvaluatorHoldout: Processed 35584 (100.0%) in 1.08 min. Users per second: 552\n"
     ]
    },
    {
     "name": "stderr",
     "output_type": "stream",
     "text": [
      "[I 2024-12-28 17:33:36,596] Trial 67 finished with value: 0.062325643949124196 and parameters: {'alpha': 0.6308167497495872, 'beta': 0.2747519067361455, 'gamma': 0.81849028387646}. Best is trial 64 with value: 0.06234930024729992.\n"
     ]
    },
    {
     "name": "stdout",
     "output_type": "stream",
     "text": [
      "Results saved to optuna_progressSLIMRP3EASE_Rals2.csv and best results to 'best_optuna_results.csv'\n",
      "EvaluatorHoldout: Processed 35584 (100.0%) in 1.09 min. Users per second: 545\n"
     ]
    },
    {
     "name": "stderr",
     "output_type": "stream",
     "text": [
      "[I 2024-12-28 17:34:47,128] Trial 68 finished with value: 0.06231297439726568 and parameters: {'alpha': 0.6277909509089085, 'beta': 0.2731539004167299, 'gamma': 0.8208065668579322}. Best is trial 64 with value: 0.06234930024729992.\n"
     ]
    },
    {
     "name": "stdout",
     "output_type": "stream",
     "text": [
      "Results saved to optuna_progressSLIMRP3EASE_Rals2.csv and best results to 'best_optuna_results.csv'\n",
      "EvaluatorHoldout: Processed 35584 (100.0%) in 1.07 min. Users per second: 553\n"
     ]
    },
    {
     "name": "stderr",
     "output_type": "stream",
     "text": [
      "[I 2024-12-28 17:35:56,796] Trial 69 finished with value: 0.06235377323141264 and parameters: {'alpha': 0.631203540390529, 'beta': 0.2543751291557634, 'gamma': 0.8145453091857985}. Best is trial 69 with value: 0.06235377323141264.\n"
     ]
    },
    {
     "name": "stdout",
     "output_type": "stream",
     "text": [
      "Results saved to optuna_progressSLIMRP3EASE_Rals2.csv and best results to 'best_optuna_results.csv'\n",
      "EvaluatorHoldout: Processed 35584 (100.0%) in 1.07 min. Users per second: 554\n"
     ]
    },
    {
     "name": "stderr",
     "output_type": "stream",
     "text": [
      "[I 2024-12-28 17:37:06,225] Trial 70 finished with value: 0.06234172037369891 and parameters: {'alpha': 0.6087298026291714, 'beta': 0.2500208081385083, 'gamma': 0.8142028205466735}. Best is trial 69 with value: 0.06235377323141264.\n"
     ]
    },
    {
     "name": "stdout",
     "output_type": "stream",
     "text": [
      "Results saved to optuna_progressSLIMRP3EASE_Rals2.csv and best results to 'best_optuna_results.csv'\n",
      "EvaluatorHoldout: Processed 35584 (100.0%) in 1.07 min. Users per second: 555\n"
     ]
    },
    {
     "name": "stderr",
     "output_type": "stream",
     "text": [
      "[I 2024-12-28 17:38:15,611] Trial 71 finished with value: 0.062351606438061716 and parameters: {'alpha': 0.609914875518486, 'beta': 0.24746933644886876, 'gamma': 0.8147155928502903}. Best is trial 69 with value: 0.06235377323141264.\n"
     ]
    },
    {
     "name": "stdout",
     "output_type": "stream",
     "text": [
      "Results saved to optuna_progressSLIMRP3EASE_Rals2.csv and best results to 'best_optuna_results.csv'\n",
      "EvaluatorHoldout: Processed 35584 (100.0%) in 1.09 min. Users per second: 544\n"
     ]
    },
    {
     "name": "stderr",
     "output_type": "stream",
     "text": [
      "[I 2024-12-28 17:39:26,259] Trial 72 finished with value: 0.062272836864434876 and parameters: {'alpha': 0.6071390962709279, 'beta': 0.24686739428279678, 'gamma': 0.8043572500855456}. Best is trial 69 with value: 0.06235377323141264.\n"
     ]
    },
    {
     "name": "stdout",
     "output_type": "stream",
     "text": [
      "Results saved to optuna_progressSLIMRP3EASE_Rals2.csv and best results to 'best_optuna_results.csv'\n",
      "EvaluatorHoldout: Processed 35584 (100.0%) in 1.09 min. Users per second: 543\n"
     ]
    },
    {
     "name": "stderr",
     "output_type": "stream",
     "text": [
      "[I 2024-12-28 17:40:37,112] Trial 73 finished with value: 0.06228752712115813 and parameters: {'alpha': 0.5908208365077431, 'beta': 0.23881762423091757, 'gamma': 0.8148285715629796}. Best is trial 69 with value: 0.06235377323141264.\n"
     ]
    },
    {
     "name": "stdout",
     "output_type": "stream",
     "text": [
      "Results saved to optuna_progressSLIMRP3EASE_Rals2.csv and best results to 'best_optuna_results.csv'\n",
      "EvaluatorHoldout: Processed 35584 (100.0%) in 1.06 min. Users per second: 559\n"
     ]
    },
    {
     "name": "stderr",
     "output_type": "stream",
     "text": [
      "[I 2024-12-28 17:41:46,038] Trial 74 finished with value: 0.06234754830064304 and parameters: {'alpha': 0.6187924225134018, 'beta': 0.2480749339091925, 'gamma': 0.8124807117245222}. Best is trial 69 with value: 0.06235377323141264.\n"
     ]
    },
    {
     "name": "stdout",
     "output_type": "stream",
     "text": [
      "Results saved to optuna_progressSLIMRP3EASE_Rals2.csv and best results to 'best_optuna_results.csv'\n",
      "EvaluatorHoldout: Processed 35584 (100.0%) in 1.08 min. Users per second: 549\n"
     ]
    },
    {
     "name": "stderr",
     "output_type": "stream",
     "text": [
      "[I 2024-12-28 17:42:56,123] Trial 75 finished with value: 0.06228807690454561 and parameters: {'alpha': 0.614286014229092, 'beta': 0.25575606597906664, 'gamma': 0.804703189952022}. Best is trial 69 with value: 0.06235377323141264.\n"
     ]
    },
    {
     "name": "stdout",
     "output_type": "stream",
     "text": [
      "Results saved to optuna_progressSLIMRP3EASE_Rals2.csv and best results to 'best_optuna_results.csv'\n",
      "EvaluatorHoldout: Processed 35584 (100.0%) in 1.09 min. Users per second: 545\n"
     ]
    },
    {
     "name": "stderr",
     "output_type": "stream",
     "text": [
      "[I 2024-12-28 17:44:06,611] Trial 76 finished with value: 0.06227946214456794 and parameters: {'alpha': 0.5968621899541846, 'beta': 0.25017114244406624, 'gamma': 0.8092653938920017}. Best is trial 69 with value: 0.06235377323141264.\n"
     ]
    },
    {
     "name": "stdout",
     "output_type": "stream",
     "text": [
      "Results saved to optuna_progressSLIMRP3EASE_Rals2.csv and best results to 'best_optuna_results.csv'\n",
      "EvaluatorHoldout: Processed 35584 (100.0%) in 1.09 min. Users per second: 544\n"
     ]
    },
    {
     "name": "stderr",
     "output_type": "stream",
     "text": [
      "[I 2024-12-28 17:45:17,311] Trial 77 finished with value: 0.06234136686186545 and parameters: {'alpha': 0.6196710256619378, 'beta': 0.2479437635668945, 'gamma': 0.8125355178524161}. Best is trial 69 with value: 0.06235377323141264.\n"
     ]
    },
    {
     "name": "stdout",
     "output_type": "stream",
     "text": [
      "Results saved to optuna_progressSLIMRP3EASE_Rals2.csv and best results to 'best_optuna_results.csv'\n",
      "EvaluatorHoldout: Processed 35584 (100.0%) in 1.09 min. Users per second: 544\n"
     ]
    },
    {
     "name": "stderr",
     "output_type": "stream",
     "text": [
      "[I 2024-12-28 17:46:28,041] Trial 78 finished with value: 0.06207806411120886 and parameters: {'alpha': 0.6209068502823474, 'beta': 0.2472509531842334, 'gamma': 0.9323598458127806}. Best is trial 69 with value: 0.06235377323141264.\n"
     ]
    },
    {
     "name": "stdout",
     "output_type": "stream",
     "text": [
      "Results saved to optuna_progressSLIMRP3EASE_Rals2.csv and best results to 'best_optuna_results.csv'\n",
      "EvaluatorHoldout: Processed 35584 (100.0%) in 1.09 min. Users per second: 544\n"
     ]
    },
    {
     "name": "stderr",
     "output_type": "stream",
     "text": [
      "[I 2024-12-28 17:47:38,642] Trial 79 finished with value: 0.06225157262582566 and parameters: {'alpha': 0.6066775752939279, 'beta': 0.2326002229601046, 'gamma': 0.8010194200881948}. Best is trial 69 with value: 0.06235377323141264.\n"
     ]
    },
    {
     "name": "stdout",
     "output_type": "stream",
     "text": [
      "Results saved to optuna_progressSLIMRP3EASE_Rals2.csv and best results to 'best_optuna_results.csv'\n",
      "EvaluatorHoldout: Processed 35584 (100.0%) in 1.09 min. Users per second: 545\n"
     ]
    },
    {
     "name": "stderr",
     "output_type": "stream",
     "text": [
      "[I 2024-12-28 17:48:49,128] Trial 80 finished with value: 0.06233290153591197 and parameters: {'alpha': 0.6160466813770954, 'beta': 0.24067484222378863, 'gamma': 0.8117859652831987}. Best is trial 69 with value: 0.06235377323141264.\n"
     ]
    },
    {
     "name": "stdout",
     "output_type": "stream",
     "text": [
      "Results saved to optuna_progressSLIMRP3EASE_Rals2.csv and best results to 'best_optuna_results.csv'\n",
      "EvaluatorHoldout: Processed 35584 (100.0%) in 1.07 min. Users per second: 552\n"
     ]
    },
    {
     "name": "stderr",
     "output_type": "stream",
     "text": [
      "[I 2024-12-28 17:49:58,929] Trial 81 finished with value: 0.06232003236696138 and parameters: {'alpha': 0.618085789375167, 'beta': 0.24036759465330562, 'gamma': 0.8121442977544507}. Best is trial 69 with value: 0.06235377323141264.\n"
     ]
    },
    {
     "name": "stdout",
     "output_type": "stream",
     "text": [
      "Results saved to optuna_progressSLIMRP3EASE_Rals2.csv and best results to 'best_optuna_results.csv'\n",
      "EvaluatorHoldout: Processed 35584 (100.0%) in 1.09 min. Users per second: 545\n"
     ]
    },
    {
     "name": "stderr",
     "output_type": "stream",
     "text": [
      "[I 2024-12-28 17:51:09,390] Trial 82 finished with value: 0.06229361934559285 and parameters: {'alpha': 0.5852365307612549, 'beta': 0.23404338340106465, 'gamma': 0.8221264468236369}. Best is trial 69 with value: 0.06235377323141264.\n"
     ]
    },
    {
     "name": "stdout",
     "output_type": "stream",
     "text": [
      "Results saved to optuna_progressSLIMRP3EASE_Rals2.csv and best results to 'best_optuna_results.csv'\n",
      "EvaluatorHoldout: Processed 35584 (100.0%) in 1.09 min. Users per second: 544\n"
     ]
    },
    {
     "name": "stderr",
     "output_type": "stream",
     "text": [
      "[I 2024-12-28 17:52:20,047] Trial 83 finished with value: 0.062333208210215325 and parameters: {'alpha': 0.6384006685897131, 'beta': 0.2496006401232042, 'gamma': 0.8104863762579114}. Best is trial 69 with value: 0.06235377323141264.\n"
     ]
    },
    {
     "name": "stdout",
     "output_type": "stream",
     "text": [
      "Results saved to optuna_progressSLIMRP3EASE_Rals2.csv and best results to 'best_optuna_results.csv'\n",
      "EvaluatorHoldout: Processed 35584 (100.0%) in 1.07 min. Users per second: 552\n"
     ]
    },
    {
     "name": "stderr",
     "output_type": "stream",
     "text": [
      "[I 2024-12-28 17:53:29,785] Trial 84 finished with value: 0.062315949695598456 and parameters: {'alpha': 0.6398431328456371, 'beta': 0.2510149753511051, 'gamma': 0.8073146870889527}. Best is trial 69 with value: 0.06235377323141264.\n"
     ]
    },
    {
     "name": "stdout",
     "output_type": "stream",
     "text": [
      "Results saved to optuna_progressSLIMRP3EASE_Rals2.csv and best results to 'best_optuna_results.csv'\n",
      "EvaluatorHoldout: Processed 35584 (100.0%) in 1.09 min. Users per second: 546\n"
     ]
    },
    {
     "name": "stderr",
     "output_type": "stream",
     "text": [
      "[I 2024-12-28 17:54:40,262] Trial 85 finished with value: 0.062309863047060064 and parameters: {'alpha': 0.624317929230734, 'beta': 0.24726530163563218, 'gamma': 0.8257619814488825}. Best is trial 69 with value: 0.06235377323141264.\n"
     ]
    },
    {
     "name": "stdout",
     "output_type": "stream",
     "text": [
      "Results saved to optuna_progressSLIMRP3EASE_Rals2.csv and best results to 'best_optuna_results.csv'\n",
      "EvaluatorHoldout: Processed 35584 (100.0%) in 1.09 min. Users per second: 544\n"
     ]
    },
    {
     "name": "stderr",
     "output_type": "stream",
     "text": [
      "[I 2024-12-28 17:55:50,935] Trial 86 finished with value: 0.062331789702164686 and parameters: {'alpha': 0.6115531128152008, 'beta': 0.25515437324273904, 'gamma': 0.8120610970523271}. Best is trial 69 with value: 0.06235377323141264.\n"
     ]
    },
    {
     "name": "stdout",
     "output_type": "stream",
     "text": [
      "Results saved to optuna_progressSLIMRP3EASE_Rals2.csv and best results to 'best_optuna_results.csv'\n",
      "EvaluatorHoldout: Processed 35584 (100.0%) in 1.09 min. Users per second: 546\n"
     ]
    },
    {
     "name": "stderr",
     "output_type": "stream",
     "text": [
      "[I 2024-12-28 17:57:01,316] Trial 87 finished with value: 0.06230111669592677 and parameters: {'alpha': 0.6036914970908718, 'beta': 0.24335246404954242, 'gamma': 0.8068264567350346}. Best is trial 69 with value: 0.06235377323141264.\n"
     ]
    },
    {
     "name": "stdout",
     "output_type": "stream",
     "text": [
      "Results saved to optuna_progressSLIMRP3EASE_Rals2.csv and best results to 'best_optuna_results.csv'\n",
      "EvaluatorHoldout: Processed 35584 (100.0%) in 1.09 min. Users per second: 545\n"
     ]
    },
    {
     "name": "stderr",
     "output_type": "stream",
     "text": [
      "[I 2024-12-28 17:58:11,896] Trial 88 finished with value: 0.06226677474984073 and parameters: {'alpha': 0.5974073963355041, 'beta': 0.24048083277338572, 'gamma': 0.836599054894933}. Best is trial 69 with value: 0.06235377323141264.\n"
     ]
    },
    {
     "name": "stdout",
     "output_type": "stream",
     "text": [
      "Results saved to optuna_progressSLIMRP3EASE_Rals2.csv and best results to 'best_optuna_results.csv'\n",
      "EvaluatorHoldout: Processed 35584 (100.0%) in 1.08 min. Users per second: 549\n"
     ]
    },
    {
     "name": "stderr",
     "output_type": "stream",
     "text": [
      "[I 2024-12-28 17:59:21,925] Trial 89 finished with value: 0.062302663449595314 and parameters: {'alpha': 0.6396695602567268, 'beta': 0.26022510526415255, 'gamma': 0.8211447260101361}. Best is trial 69 with value: 0.06235377323141264.\n"
     ]
    },
    {
     "name": "stdout",
     "output_type": "stream",
     "text": [
      "Results saved to optuna_progressSLIMRP3EASE_Rals2.csv and best results to 'best_optuna_results.csv'\n",
      "EvaluatorHoldout: Processed 35584 (100.0%) in 1.09 min. Users per second: 544\n"
     ]
    },
    {
     "name": "stderr",
     "output_type": "stream",
     "text": [
      "[I 2024-12-28 18:00:32,449] Trial 90 finished with value: 0.062292767348618897 and parameters: {'alpha': 0.625064132883763, 'beta': 0.24589509301804358, 'gamma': 0.8022763155749079}. Best is trial 69 with value: 0.06235377323141264.\n"
     ]
    },
    {
     "name": "stdout",
     "output_type": "stream",
     "text": [
      "Results saved to optuna_progressSLIMRP3EASE_Rals2.csv and best results to 'best_optuna_results.csv'\n",
      "EvaluatorHoldout: Processed 35584 (100.0%) in 1.09 min. Users per second: 545\n"
     ]
    },
    {
     "name": "stderr",
     "output_type": "stream",
     "text": [
      "[I 2024-12-28 18:01:43,092] Trial 91 finished with value: 0.062324036975774356 and parameters: {'alpha': 0.6099041357922708, 'beta': 0.25529368348340886, 'gamma': 0.8135257461114248}. Best is trial 69 with value: 0.06235377323141264.\n"
     ]
    },
    {
     "name": "stdout",
     "output_type": "stream",
     "text": [
      "Results saved to optuna_progressSLIMRP3EASE_Rals2.csv and best results to 'best_optuna_results.csv'\n",
      "EvaluatorHoldout: Processed 35584 (100.0%) in 1.09 min. Users per second: 544\n"
     ]
    },
    {
     "name": "stderr",
     "output_type": "stream",
     "text": [
      "[I 2024-12-28 18:02:53,843] Trial 92 finished with value: 0.06233617793265168 and parameters: {'alpha': 0.6113831218893754, 'beta': 0.25536470388320676, 'gamma': 0.8292318858752661}. Best is trial 69 with value: 0.06235377323141264.\n"
     ]
    },
    {
     "name": "stdout",
     "output_type": "stream",
     "text": [
      "Results saved to optuna_progressSLIMRP3EASE_Rals2.csv and best results to 'best_optuna_results.csv'\n",
      "EvaluatorHoldout: Processed 35584 (100.0%) in 1.08 min. Users per second: 551\n"
     ]
    },
    {
     "name": "stderr",
     "output_type": "stream",
     "text": [
      "[I 2024-12-28 18:04:03,682] Trial 93 finished with value: 0.06233661062221436 and parameters: {'alpha': 0.6172973345344739, 'beta': 0.25203942151940967, 'gamma': 0.8288830035530815}. Best is trial 69 with value: 0.06235377323141264.\n"
     ]
    },
    {
     "name": "stdout",
     "output_type": "stream",
     "text": [
      "Results saved to optuna_progressSLIMRP3EASE_Rals2.csv and best results to 'best_optuna_results.csv'\n",
      "EvaluatorHoldout: Processed 35584 (100.0%) in 1.07 min. Users per second: 556\n"
     ]
    },
    {
     "name": "stderr",
     "output_type": "stream",
     "text": [
      "[I 2024-12-28 18:05:12,966] Trial 94 finished with value: 0.06230886942231706 and parameters: {'alpha': 0.6218300464677243, 'beta': 0.2487737489621747, 'gamma': 0.8306583127584029}. Best is trial 69 with value: 0.06235377323141264.\n"
     ]
    },
    {
     "name": "stdout",
     "output_type": "stream",
     "text": [
      "Results saved to optuna_progressSLIMRP3EASE_Rals2.csv and best results to 'best_optuna_results.csv'\n",
      "EvaluatorHoldout: Processed 35584 (100.0%) in 1.09 min. Users per second: 545\n"
     ]
    },
    {
     "name": "stderr",
     "output_type": "stream",
     "text": [
      "[I 2024-12-28 18:06:23,542] Trial 95 finished with value: 0.06230553280589603 and parameters: {'alpha': 0.6354728402576046, 'beta': 0.25213037822846524, 'gamma': 0.828776054068142}. Best is trial 69 with value: 0.06235377323141264.\n"
     ]
    },
    {
     "name": "stdout",
     "output_type": "stream",
     "text": [
      "Results saved to optuna_progressSLIMRP3EASE_Rals2.csv and best results to 'best_optuna_results.csv'\n",
      "EvaluatorHoldout: Processed 35584 (100.0%) in 1.09 min. Users per second: 545\n"
     ]
    },
    {
     "name": "stderr",
     "output_type": "stream",
     "text": [
      "[I 2024-12-28 18:07:34,101] Trial 96 finished with value: 0.06232251252569153 and parameters: {'alpha': 0.5870463776916862, 'beta': 0.2579883629443369, 'gamma': 0.823533196552852}. Best is trial 69 with value: 0.06235377323141264.\n"
     ]
    },
    {
     "name": "stdout",
     "output_type": "stream",
     "text": [
      "Results saved to optuna_progressSLIMRP3EASE_Rals2.csv and best results to 'best_optuna_results.csv'\n",
      "EvaluatorHoldout: Processed 35584 (100.0%) in 1.09 min. Users per second: 544\n"
     ]
    },
    {
     "name": "stderr",
     "output_type": "stream",
     "text": [
      "[I 2024-12-28 18:08:44,776] Trial 97 finished with value: 0.062324069315973646 and parameters: {'alpha': 0.5999213691844079, 'beta': 0.26385604011838143, 'gamma': 0.816741714966857}. Best is trial 69 with value: 0.06235377323141264.\n"
     ]
    },
    {
     "name": "stdout",
     "output_type": "stream",
     "text": [
      "Results saved to optuna_progressSLIMRP3EASE_Rals2.csv and best results to 'best_optuna_results.csv'\n",
      "EvaluatorHoldout: Processed 35584 (100.0%) in 1.07 min. Users per second: 553\n"
     ]
    },
    {
     "name": "stderr",
     "output_type": "stream",
     "text": [
      "[I 2024-12-28 18:09:54,320] Trial 98 finished with value: 0.062305658821155144 and parameters: {'alpha': 0.6075290202537115, 'beta': 0.24864120151090338, 'gamma': 0.8355060688336104}. Best is trial 69 with value: 0.06235377323141264.\n"
     ]
    },
    {
     "name": "stdout",
     "output_type": "stream",
     "text": [
      "Results saved to optuna_progressSLIMRP3EASE_Rals2.csv and best results to 'best_optuna_results.csv'\n",
      "EvaluatorHoldout: Processed 35584 (100.0%) in 1.06 min. Users per second: 561\n"
     ]
    },
    {
     "name": "stderr",
     "output_type": "stream",
     "text": [
      "[I 2024-12-28 18:11:03,026] Trial 99 finished with value: 0.06225212575475128 and parameters: {'alpha': 0.5772205578437117, 'beta': 0.25400999848618555, 'gamma': 0.9110494672297343}. Best is trial 69 with value: 0.06235377323141264.\n"
     ]
    },
    {
     "name": "stdout",
     "output_type": "stream",
     "text": [
      "Results saved to optuna_progressSLIMRP3EASE_Rals2.csv and best results to 'best_optuna_results.csv'\n",
      "EvaluatorHoldout: Processed 35584 (100.0%) in 1.06 min. Users per second: 559\n"
     ]
    },
    {
     "name": "stderr",
     "output_type": "stream",
     "text": [
      "[I 2024-12-28 18:12:11,940] Trial 100 finished with value: 0.06228673088314836 and parameters: {'alpha': 0.6139333278734462, 'beta': 0.24492505106877627, 'gamma': 0.8079640607568198}. Best is trial 69 with value: 0.06235377323141264.\n"
     ]
    },
    {
     "name": "stdout",
     "output_type": "stream",
     "text": [
      "Results saved to optuna_progressSLIMRP3EASE_Rals2.csv and best results to 'best_optuna_results.csv'\n",
      "EvaluatorHoldout: Processed 35584 (100.0%) in 1.09 min. Users per second: 544\n"
     ]
    },
    {
     "name": "stderr",
     "output_type": "stream",
     "text": [
      "[I 2024-12-28 18:13:22,588] Trial 101 finished with value: 0.06234605396040091 and parameters: {'alpha': 0.6175435789660743, 'beta': 0.24198707360871072, 'gamma': 0.8189231599988248}. Best is trial 69 with value: 0.06235377323141264.\n"
     ]
    },
    {
     "name": "stdout",
     "output_type": "stream",
     "text": [
      "Results saved to optuna_progressSLIMRP3EASE_Rals2.csv and best results to 'best_optuna_results.csv'\n",
      "EvaluatorHoldout: Processed 35584 (100.0%) in 1.09 min. Users per second: 544\n"
     ]
    },
    {
     "name": "stderr",
     "output_type": "stream",
     "text": [
      "[I 2024-12-28 18:14:33,204] Trial 102 finished with value: 0.0623311975419642 and parameters: {'alpha': 0.6269499639665819, 'beta': 0.26870886691277285, 'gamma': 0.8187185702845011}. Best is trial 69 with value: 0.06235377323141264.\n"
     ]
    },
    {
     "name": "stdout",
     "output_type": "stream",
     "text": [
      "Results saved to optuna_progressSLIMRP3EASE_Rals2.csv and best results to 'best_optuna_results.csv'\n",
      "EvaluatorHoldout: Processed 35584 (100.0%) in 1.08 min. Users per second: 551\n"
     ]
    },
    {
     "name": "stderr",
     "output_type": "stream",
     "text": [
      "[I 2024-12-28 18:15:43,018] Trial 103 finished with value: 0.06233309446192822 and parameters: {'alpha': 0.6199754244930785, 'beta': 0.2565024259961629, 'gamma': 0.8262711415647201}. Best is trial 69 with value: 0.06235377323141264.\n"
     ]
    },
    {
     "name": "stdout",
     "output_type": "stream",
     "text": [
      "Results saved to optuna_progressSLIMRP3EASE_Rals2.csv and best results to 'best_optuna_results.csv'\n",
      "EvaluatorHoldout: Processed 35584 (100.0%) in 1.06 min. Users per second: 559\n"
     ]
    },
    {
     "name": "stderr",
     "output_type": "stream",
     "text": [
      "[I 2024-12-28 18:16:51,926] Trial 104 finished with value: 0.06227776595687511 and parameters: {'alpha': 0.6412045758170231, 'beta': 0.23692223105257057, 'gamma': 0.831018038454648}. Best is trial 69 with value: 0.06235377323141264.\n"
     ]
    },
    {
     "name": "stdout",
     "output_type": "stream",
     "text": [
      "Results saved to optuna_progressSLIMRP3EASE_Rals2.csv and best results to 'best_optuna_results.csv'\n",
      "EvaluatorHoldout: Processed 35584 (100.0%) in 1.09 min. Users per second: 545\n"
     ]
    },
    {
     "name": "stderr",
     "output_type": "stream",
     "text": [
      "[I 2024-12-28 18:18:02,396] Trial 105 finished with value: 0.062137903516470465 and parameters: {'alpha': 0.5399540805458773, 'beta': 0.25093339053538016, 'gamma': 0.8002266896507292}. Best is trial 69 with value: 0.06235377323141264.\n"
     ]
    },
    {
     "name": "stdout",
     "output_type": "stream",
     "text": [
      "Results saved to optuna_progressSLIMRP3EASE_Rals2.csv and best results to 'best_optuna_results.csv'\n",
      "EvaluatorHoldout: Processed 35584 (100.0%) in 1.07 min. Users per second: 555\n"
     ]
    },
    {
     "name": "stderr",
     "output_type": "stream",
     "text": [
      "[I 2024-12-28 18:19:11,889] Trial 106 finished with value: 0.062308035268211784 and parameters: {'alpha': 0.632515656310101, 'beta': 0.2602028196110943, 'gamma': 0.822451590701888}. Best is trial 69 with value: 0.06235377323141264.\n"
     ]
    },
    {
     "name": "stdout",
     "output_type": "stream",
     "text": [
      "Results saved to optuna_progressSLIMRP3EASE_Rals2.csv and best results to 'best_optuna_results.csv'\n",
      "EvaluatorHoldout: Processed 35584 (100.0%) in 1.09 min. Users per second: 543\n"
     ]
    },
    {
     "name": "stderr",
     "output_type": "stream",
     "text": [
      "[I 2024-12-28 18:20:22,614] Trial 107 finished with value: 0.062291025438575544 and parameters: {'alpha': 0.6181216827959757, 'beta': 0.2425007743415815, 'gamma': 0.8056497572231964}. Best is trial 69 with value: 0.06235377323141264.\n"
     ]
    },
    {
     "name": "stdout",
     "output_type": "stream",
     "text": [
      "Results saved to optuna_progressSLIMRP3EASE_Rals2.csv and best results to 'best_optuna_results.csv'\n",
      "EvaluatorHoldout: Processed 35584 (100.0%) in 1.09 min. Users per second: 546\n"
     ]
    },
    {
     "name": "stderr",
     "output_type": "stream",
     "text": [
      "[I 2024-12-28 18:21:33,066] Trial 108 finished with value: 0.062343106541550265 and parameters: {'alpha': 0.6116621047712432, 'beta': 0.25338376040017485, 'gamma': 0.8166329022041533}. Best is trial 69 with value: 0.06235377323141264.\n"
     ]
    },
    {
     "name": "stdout",
     "output_type": "stream",
     "text": [
      "Results saved to optuna_progressSLIMRP3EASE_Rals2.csv and best results to 'best_optuna_results.csv'\n",
      "EvaluatorHoldout: Processed 35584 (100.0%) in 1.08 min. Users per second: 550\n"
     ]
    },
    {
     "name": "stderr",
     "output_type": "stream",
     "text": [
      "[I 2024-12-28 18:22:43,019] Trial 109 finished with value: 0.0622755668233249 and parameters: {'alpha': 0.6046483713370622, 'beta': 0.25319662407802873, 'gamma': 0.8417825962262597}. Best is trial 69 with value: 0.06235377323141264.\n"
     ]
    },
    {
     "name": "stdout",
     "output_type": "stream",
     "text": [
      "Results saved to optuna_progressSLIMRP3EASE_Rals2.csv and best results to 'best_optuna_results.csv'\n",
      "EvaluatorHoldout: Processed 35584 (100.0%) in 1.09 min. Users per second: 545\n"
     ]
    },
    {
     "name": "stderr",
     "output_type": "stream",
     "text": [
      "[I 2024-12-28 18:23:53,706] Trial 110 finished with value: 0.06236009295242165 and parameters: {'alpha': 0.6108025334472509, 'beta': 0.24469167601428937, 'gamma': 0.8157540786948978}. Best is trial 110 with value: 0.06236009295242165.\n"
     ]
    },
    {
     "name": "stdout",
     "output_type": "stream",
     "text": [
      "Results saved to optuna_progressSLIMRP3EASE_Rals2.csv and best results to 'best_optuna_results.csv'\n",
      "EvaluatorHoldout: Processed 35584 (100.0%) in 1.09 min. Users per second: 544\n"
     ]
    },
    {
     "name": "stderr",
     "output_type": "stream",
     "text": [
      "[I 2024-12-28 18:25:04,419] Trial 111 finished with value: 0.06228865791295352 and parameters: {'alpha': 0.5940743674917575, 'beta': 0.24538887068424833, 'gamma': 0.8927003424768811}. Best is trial 110 with value: 0.06236009295242165.\n"
     ]
    },
    {
     "name": "stdout",
     "output_type": "stream",
     "text": [
      "Results saved to optuna_progressSLIMRP3EASE_Rals2.csv and best results to 'best_optuna_results.csv'\n",
      "EvaluatorHoldout: Processed 35584 (100.0%) in 1.09 min. Users per second: 545\n"
     ]
    },
    {
     "name": "stderr",
     "output_type": "stream",
     "text": [
      "[I 2024-12-28 18:26:15,838] Trial 112 finished with value: 0.062301236020110264 and parameters: {'alpha': 0.6102145246485993, 'beta': 0.23102967281996675, 'gamma': 0.8161831431057334}. Best is trial 110 with value: 0.06236009295242165.\n"
     ]
    },
    {
     "name": "stdout",
     "output_type": "stream",
     "text": [
      "Results saved to optuna_progressSLIMRP3EASE_Rals2.csv and best results to 'best_optuna_results.csv'\n",
      "EvaluatorHoldout: Processed 35584 (100.0%) in 1.09 min. Users per second: 544\n"
     ]
    },
    {
     "name": "stderr",
     "output_type": "stream",
     "text": [
      "[I 2024-12-28 18:27:27,552] Trial 113 finished with value: 0.06233298851989611 and parameters: {'alpha': 0.613989234224079, 'beta': 0.2572501228057172, 'gamma': 0.8197137919343345}. Best is trial 110 with value: 0.06236009295242165.\n"
     ]
    },
    {
     "name": "stdout",
     "output_type": "stream",
     "text": [
      "Results saved to optuna_progressSLIMRP3EASE_Rals2.csv and best results to 'best_optuna_results.csv'\n",
      "EvaluatorHoldout: Processed 35584 (100.0%) in 1.08 min. Users per second: 549\n"
     ]
    },
    {
     "name": "stderr",
     "output_type": "stream",
     "text": [
      "[I 2024-12-28 18:28:38,020] Trial 114 finished with value: 0.062331389352801206 and parameters: {'alpha': 0.6000506501503927, 'beta': 0.26380967733229976, 'gamma': 0.825594320332831}. Best is trial 110 with value: 0.06236009295242165.\n"
     ]
    },
    {
     "name": "stdout",
     "output_type": "stream",
     "text": [
      "Results saved to optuna_progressSLIMRP3EASE_Rals2.csv and best results to 'best_optuna_results.csv'\n",
      "EvaluatorHoldout: Processed 35584 (100.0%) in 1.09 min. Users per second: 545\n"
     ]
    },
    {
     "name": "stderr",
     "output_type": "stream",
     "text": [
      "[I 2024-12-28 18:29:49,045] Trial 115 finished with value: 0.06233292830021478 and parameters: {'alpha': 0.6247240328793711, 'beta': 0.24812203459636367, 'gamma': 0.8153966088690996}. Best is trial 110 with value: 0.06236009295242165.\n"
     ]
    },
    {
     "name": "stdout",
     "output_type": "stream",
     "text": [
      "Results saved to optuna_progressSLIMRP3EASE_Rals2.csv and best results to 'best_optuna_results.csv'\n",
      "EvaluatorHoldout: Processed 35584 (100.0%) in 1.08 min. Users per second: 551\n"
     ]
    },
    {
     "name": "stderr",
     "output_type": "stream",
     "text": [
      "[I 2024-12-28 18:30:59,633] Trial 116 finished with value: 0.06184836282759296 and parameters: {'alpha': 0.6186800711035859, 'beta': 0.25194548013927665, 'gamma': 0.9764859129935284}. Best is trial 110 with value: 0.06236009295242165.\n"
     ]
    },
    {
     "name": "stdout",
     "output_type": "stream",
     "text": [
      "Results saved to optuna_progressSLIMRP3EASE_Rals2.csv and best results to 'best_optuna_results.csv'\n",
      "EvaluatorHoldout: Processed 35584 (100.0%) in 1.09 min. Users per second: 545\n"
     ]
    },
    {
     "name": "stderr",
     "output_type": "stream",
     "text": [
      "[I 2024-12-28 18:32:10,275] Trial 117 finished with value: 0.062300831210029786 and parameters: {'alpha': 0.6100672308496307, 'beta': 0.2422998958901345, 'gamma': 0.8113766639833654}. Best is trial 110 with value: 0.06236009295242165.\n"
     ]
    },
    {
     "name": "stdout",
     "output_type": "stream",
     "text": [
      "Results saved to optuna_progressSLIMRP3EASE_Rals2.csv and best results to 'best_optuna_results.csv'\n",
      "EvaluatorHoldout: Processed 35584 (100.0%) in 1.05 min. Users per second: 564\n"
     ]
    },
    {
     "name": "stderr",
     "output_type": "stream",
     "text": [
      "[I 2024-12-28 18:33:18,960] Trial 118 finished with value: 0.06230870326060366 and parameters: {'alpha': 0.6286056318835628, 'beta': 0.2542319740001265, 'gamma': 0.8042562671174588}. Best is trial 110 with value: 0.06236009295242165.\n"
     ]
    },
    {
     "name": "stdout",
     "output_type": "stream",
     "text": [
      "Results saved to optuna_progressSLIMRP3EASE_Rals2.csv and best results to 'best_optuna_results.csv'\n",
      "EvaluatorHoldout: Processed 35584 (100.0%) in 1.09 min. Users per second: 543\n"
     ]
    },
    {
     "name": "stderr",
     "output_type": "stream",
     "text": [
      "[I 2024-12-28 18:34:29,694] Trial 119 finished with value: 0.06202461022253403 and parameters: {'alpha': 0.6226479407680627, 'beta': 0.23855467127937147, 'gamma': 0.9540505101402719}. Best is trial 110 with value: 0.06236009295242165.\n"
     ]
    },
    {
     "name": "stdout",
     "output_type": "stream",
     "text": [
      "Results saved to optuna_progressSLIMRP3EASE_Rals2.csv and best results to 'best_optuna_results.csv'\n",
      "EvaluatorHoldout: Processed 35584 (100.0%) in 1.08 min. Users per second: 550\n"
     ]
    },
    {
     "name": "stderr",
     "output_type": "stream",
     "text": [
      "[I 2024-12-28 18:35:39,618] Trial 120 finished with value: 0.062304667426770814 and parameters: {'alpha': 0.634061903938549, 'beta': 0.26740526882517907, 'gamma': 0.8286716378973589}. Best is trial 110 with value: 0.06236009295242165.\n"
     ]
    },
    {
     "name": "stdout",
     "output_type": "stream",
     "text": [
      "Results saved to optuna_progressSLIMRP3EASE_Rals2.csv and best results to 'best_optuna_results.csv'\n",
      "EvaluatorHoldout: Processed 35584 (100.0%) in 1.07 min. Users per second: 554\n"
     ]
    },
    {
     "name": "stderr",
     "output_type": "stream",
     "text": [
      "[I 2024-12-28 18:36:49,199] Trial 121 finished with value: 0.06232338905660959 and parameters: {'alpha': 0.6482830184481058, 'beta': 0.2504774042405493, 'gamma': 0.8099386713005662}. Best is trial 110 with value: 0.06236009295242165.\n"
     ]
    },
    {
     "name": "stdout",
     "output_type": "stream",
     "text": [
      "Results saved to optuna_progressSLIMRP3EASE_Rals2.csv and best results to 'best_optuna_results.csv'\n",
      "EvaluatorHoldout: Processed 35584 (100.0%) in 1.09 min. Users per second: 545\n"
     ]
    },
    {
     "name": "stderr",
     "output_type": "stream",
     "text": [
      "[I 2024-12-28 18:37:59,951] Trial 122 finished with value: 0.06236051337501209 and parameters: {'alpha': 0.6156564719491163, 'beta': 0.24442143792902932, 'gamma': 0.8176976684318255}. Best is trial 122 with value: 0.06236051337501209.\n"
     ]
    },
    {
     "name": "stdout",
     "output_type": "stream",
     "text": [
      "Results saved to optuna_progressSLIMRP3EASE_Rals2.csv and best results to 'best_optuna_results.csv'\n",
      "EvaluatorHoldout: Processed 35584 (100.0%) in 1.09 min. Users per second: 544\n"
     ]
    },
    {
     "name": "stderr",
     "output_type": "stream",
     "text": [
      "[I 2024-12-28 18:39:10,817] Trial 123 finished with value: 0.06235169453722512 and parameters: {'alpha': 0.6138100813948126, 'beta': 0.2451151447316165, 'gamma': 0.8193587828603464}. Best is trial 122 with value: 0.06236051337501209.\n"
     ]
    },
    {
     "name": "stdout",
     "output_type": "stream",
     "text": [
      "Results saved to optuna_progressSLIMRP3EASE_Rals2.csv and best results to 'best_optuna_results.csv'\n",
      "EvaluatorHoldout: Processed 35584 (100.0%) in 1.08 min. Users per second: 549\n"
     ]
    },
    {
     "name": "stderr",
     "output_type": "stream",
     "text": [
      "[I 2024-12-28 18:40:20,923] Trial 124 finished with value: 0.06236474659557851 and parameters: {'alpha': 0.6153342470415742, 'beta': 0.24391799534575526, 'gamma': 0.8179934109860636}. Best is trial 124 with value: 0.06236474659557851.\n"
     ]
    },
    {
     "name": "stdout",
     "output_type": "stream",
     "text": [
      "Results saved to optuna_progressSLIMRP3EASE_Rals2.csv and best results to 'best_optuna_results.csv'\n",
      "EvaluatorHoldout: Processed 35584 (100.0%) in 1.07 min. Users per second: 554\n"
     ]
    },
    {
     "name": "stderr",
     "output_type": "stream",
     "text": [
      "[I 2024-12-28 18:41:30,969] Trial 125 finished with value: 0.06234321136840316 and parameters: {'alpha': 0.6016966923403575, 'beta': 0.24458964231464017, 'gamma': 0.8192431802248975}. Best is trial 124 with value: 0.06236474659557851.\n"
     ]
    },
    {
     "name": "stdout",
     "output_type": "stream",
     "text": [
      "Results saved to optuna_progressSLIMRP3EASE_Rals2.csv and best results to 'best_optuna_results.csv'\n",
      "EvaluatorHoldout: Processed 35584 (100.0%) in 1.09 min. Users per second: 545\n"
     ]
    },
    {
     "name": "stderr",
     "output_type": "stream",
     "text": [
      "[I 2024-12-28 18:42:42,126] Trial 126 finished with value: 0.0623028385327431 and parameters: {'alpha': 0.5901609609019473, 'beta': 0.24380775807022936, 'gamma': 0.8192741160034297}. Best is trial 124 with value: 0.06236474659557851.\n"
     ]
    },
    {
     "name": "stdout",
     "output_type": "stream",
     "text": [
      "Results saved to optuna_progressSLIMRP3EASE_Rals2.csv and best results to 'best_optuna_results.csv'\n",
      "EvaluatorHoldout: Processed 35584 (100.0%) in 1.09 min. Users per second: 545\n"
     ]
    },
    {
     "name": "stderr",
     "output_type": "stream",
     "text": [
      "[I 2024-12-28 18:43:53,345] Trial 127 finished with value: 0.06233951789461072 and parameters: {'alpha': 0.605571783856131, 'beta': 0.2413167380644736, 'gamma': 0.8228522575523177}. Best is trial 124 with value: 0.06236474659557851.\n"
     ]
    },
    {
     "name": "stdout",
     "output_type": "stream",
     "text": [
      "Results saved to optuna_progressSLIMRP3EASE_Rals2.csv and best results to 'best_optuna_results.csv'\n",
      "EvaluatorHoldout: Processed 35584 (100.0%) in 1.09 min. Users per second: 544\n"
     ]
    },
    {
     "name": "stderr",
     "output_type": "stream",
     "text": [
      "[I 2024-12-28 18:45:04,373] Trial 128 finished with value: 0.062301665364135124 and parameters: {'alpha': 0.5959176419954431, 'beta': 0.2354184949647428, 'gamma': 0.815492957257596}. Best is trial 124 with value: 0.06236474659557851.\n"
     ]
    },
    {
     "name": "stdout",
     "output_type": "stream",
     "text": [
      "Results saved to optuna_progressSLIMRP3EASE_Rals2.csv and best results to 'best_optuna_results.csv'\n",
      "EvaluatorHoldout: Processed 35584 (100.0%) in 1.08 min. Users per second: 551\n"
     ]
    },
    {
     "name": "stderr",
     "output_type": "stream",
     "text": [
      "[I 2024-12-28 18:46:14,788] Trial 129 finished with value: 0.06229558652185174 and parameters: {'alpha': 0.6004900191953674, 'beta': 0.24535617640458335, 'gamma': 0.8342731013456943}. Best is trial 124 with value: 0.06236474659557851.\n"
     ]
    },
    {
     "name": "stdout",
     "output_type": "stream",
     "text": [
      "Results saved to optuna_progressSLIMRP3EASE_Rals2.csv and best results to 'best_optuna_results.csv'\n",
      "EvaluatorHoldout: Processed 35584 (100.0%) in 1.08 min. Users per second: 550\n"
     ]
    },
    {
     "name": "stderr",
     "output_type": "stream",
     "text": [
      "[I 2024-12-28 18:47:24,721] Trial 130 finished with value: 0.06228721152542027 and parameters: {'alpha': 0.613162178611666, 'beta': 0.23883016768417495, 'gamma': 0.8077784899007333}. Best is trial 124 with value: 0.06236474659557851.\n"
     ]
    },
    {
     "name": "stdout",
     "output_type": "stream",
     "text": [
      "Results saved to optuna_progressSLIMRP3EASE_Rals2.csv and best results to 'best_optuna_results.csv'\n",
      "EvaluatorHoldout: Processed 35584 (100.0%) in 1.09 min. Users per second: 545\n"
     ]
    },
    {
     "name": "stderr",
     "output_type": "stream",
     "text": [
      "[I 2024-12-28 18:48:35,507] Trial 131 finished with value: 0.062335075020338714 and parameters: {'alpha': 0.6287526161031574, 'beta': 0.24678443478166517, 'gamma': 0.8132279443537545}. Best is trial 124 with value: 0.06236474659557851.\n"
     ]
    },
    {
     "name": "stdout",
     "output_type": "stream",
     "text": [
      "Results saved to optuna_progressSLIMRP3EASE_Rals2.csv and best results to 'best_optuna_results.csv'\n",
      "EvaluatorHoldout: Processed 35584 (100.0%) in 1.09 min. Users per second: 544\n"
     ]
    },
    {
     "name": "stderr",
     "output_type": "stream",
     "text": [
      "[I 2024-12-28 18:49:46,164] Trial 132 finished with value: 0.062339955044890434 and parameters: {'alpha': 0.6226064154386709, 'beta': 0.2443333295629725, 'gamma': 0.8181228077605442}. Best is trial 124 with value: 0.06236474659557851.\n"
     ]
    },
    {
     "name": "stdout",
     "output_type": "stream",
     "text": [
      "Results saved to optuna_progressSLIMRP3EASE_Rals2.csv and best results to 'best_optuna_results.csv'\n",
      "EvaluatorHoldout: Processed 35584 (100.0%) in 1.07 min. Users per second: 556\n"
     ]
    },
    {
     "name": "stderr",
     "output_type": "stream",
     "text": [
      "[I 2024-12-28 18:50:55,461] Trial 133 finished with value: 0.06232964298204064 and parameters: {'alpha': 0.6074095235412842, 'beta': 0.24751638049046884, 'gamma': 0.8240603065206464}. Best is trial 124 with value: 0.06236474659557851.\n"
     ]
    },
    {
     "name": "stdout",
     "output_type": "stream",
     "text": [
      "Results saved to optuna_progressSLIMRP3EASE_Rals2.csv and best results to 'best_optuna_results.csv'\n",
      "EvaluatorHoldout: Processed 35584 (100.0%) in 1.07 min. Users per second: 553\n"
     ]
    },
    {
     "name": "stderr",
     "output_type": "stream",
     "text": [
      "[I 2024-12-28 18:52:05,127] Trial 134 finished with value: 0.06234228465441715 and parameters: {'alpha': 0.6159271825861288, 'beta': 0.24963303110376134, 'gamma': 0.8118683243441855}. Best is trial 124 with value: 0.06236474659557851.\n"
     ]
    },
    {
     "name": "stdout",
     "output_type": "stream",
     "text": [
      "Results saved to optuna_progressSLIMRP3EASE_Rals2.csv and best results to 'best_optuna_results.csv'\n",
      "EvaluatorHoldout: Processed 35584 (100.0%) in 1.07 min. Users per second: 553\n"
     ]
    },
    {
     "name": "stderr",
     "output_type": "stream",
     "text": [
      "[I 2024-12-28 18:53:14,681] Trial 135 finished with value: 0.06228832558952613 and parameters: {'alpha': 0.6154897044857505, 'beta': 0.2399015060873453, 'gamma': 0.8045271671624356}. Best is trial 124 with value: 0.06236474659557851.\n"
     ]
    },
    {
     "name": "stdout",
     "output_type": "stream",
     "text": [
      "Results saved to optuna_progressSLIMRP3EASE_Rals2.csv and best results to 'best_optuna_results.csv'\n",
      "EvaluatorHoldout: Processed 35584 (100.0%) in 1.09 min. Users per second: 546\n"
     ]
    },
    {
     "name": "stderr",
     "output_type": "stream",
     "text": [
      "[I 2024-12-28 18:54:25,084] Trial 136 finished with value: 0.062353376227587194 and parameters: {'alpha': 0.6027518437229563, 'beta': 0.24302528447408792, 'gamma': 0.8203822933104377}. Best is trial 124 with value: 0.06236474659557851.\n"
     ]
    },
    {
     "name": "stdout",
     "output_type": "stream",
     "text": [
      "Results saved to optuna_progressSLIMRP3EASE_Rals2.csv and best results to 'best_optuna_results.csv'\n",
      "EvaluatorHoldout: Processed 35584 (100.0%) in 1.09 min. Users per second: 543\n"
     ]
    },
    {
     "name": "stderr",
     "output_type": "stream",
     "text": [
      "[I 2024-12-28 18:55:35,933] Trial 137 finished with value: 0.062354697715040125 and parameters: {'alpha': 0.6039889642591557, 'beta': 0.2427126464306428, 'gamma': 0.820595635786948}. Best is trial 124 with value: 0.06236474659557851.\n"
     ]
    },
    {
     "name": "stdout",
     "output_type": "stream",
     "text": [
      "Results saved to optuna_progressSLIMRP3EASE_Rals2.csv and best results to 'best_optuna_results.csv'\n",
      "EvaluatorHoldout: Processed 35584 (100.0%) in 1.07 min. Users per second: 552\n"
     ]
    },
    {
     "name": "stderr",
     "output_type": "stream",
     "text": [
      "[I 2024-12-28 18:56:45,624] Trial 138 finished with value: 0.062326628652433026 and parameters: {'alpha': 0.6027712196836901, 'beta': 0.23721342047818839, 'gamma': 0.8213541641293473}. Best is trial 124 with value: 0.06236474659557851.\n"
     ]
    },
    {
     "name": "stdout",
     "output_type": "stream",
     "text": [
      "Results saved to optuna_progressSLIMRP3EASE_Rals2.csv and best results to 'best_optuna_results.csv'\n",
      "EvaluatorHoldout: Processed 35584 (100.0%) in 1.08 min. Users per second: 547\n"
     ]
    },
    {
     "name": "stderr",
     "output_type": "stream",
     "text": [
      "[I 2024-12-28 18:57:56,077] Trial 139 finished with value: 0.0621094798268508 and parameters: {'alpha': 0.4956164915164514, 'beta': 0.24232553039336546, 'gamma': 0.8184438365723556}. Best is trial 124 with value: 0.06236474659557851.\n"
     ]
    },
    {
     "name": "stdout",
     "output_type": "stream",
     "text": [
      "Results saved to optuna_progressSLIMRP3EASE_Rals2.csv and best results to 'best_optuna_results.csv'\n",
      "EvaluatorHoldout: Processed 35584 (100.0%) in 1.09 min. Users per second: 543\n"
     ]
    },
    {
     "name": "stderr",
     "output_type": "stream",
     "text": [
      "[I 2024-12-28 18:59:07,257] Trial 140 finished with value: 0.06231473191981909 and parameters: {'alpha': 0.578748706886125, 'beta': 0.24386267418265717, 'gamma': 0.8252587864561628}. Best is trial 124 with value: 0.06236474659557851.\n"
     ]
    },
    {
     "name": "stdout",
     "output_type": "stream",
     "text": [
      "Results saved to optuna_progressSLIMRP3EASE_Rals2.csv and best results to 'best_optuna_results.csv'\n",
      "EvaluatorHoldout: Processed 35584 (100.0%) in 1.08 min. Users per second: 548\n"
     ]
    },
    {
     "name": "stderr",
     "output_type": "stream",
     "text": [
      "[I 2024-12-28 19:00:18,128] Trial 141 finished with value: 0.06231295655439716 and parameters: {'alpha': 0.6151551176698623, 'beta': 0.24522471723595146, 'gamma': 0.8098989036924409}. Best is trial 124 with value: 0.06236474659557851.\n"
     ]
    },
    {
     "name": "stdout",
     "output_type": "stream",
     "text": [
      "Results saved to optuna_progressSLIMRP3EASE_Rals2.csv and best results to 'best_optuna_results.csv'\n",
      "EvaluatorHoldout: Processed 35584 (100.0%) in 1.09 min. Users per second: 545\n"
     ]
    },
    {
     "name": "stderr",
     "output_type": "stream",
     "text": [
      "[I 2024-12-28 19:01:29,336] Trial 142 finished with value: 0.06234680559123912 and parameters: {'alpha': 0.6242066939935467, 'beta': 0.24889349133114902, 'gamma': 0.8159429592275274}. Best is trial 124 with value: 0.06236474659557851.\n"
     ]
    },
    {
     "name": "stdout",
     "output_type": "stream",
     "text": [
      "Results saved to optuna_progressSLIMRP3EASE_Rals2.csv and best results to 'best_optuna_results.csv'\n",
      "EvaluatorHoldout: Processed 35584 (100.0%) in 1.08 min. Users per second: 547\n"
     ]
    },
    {
     "name": "stderr",
     "output_type": "stream",
     "text": [
      "[I 2024-12-28 19:02:40,320] Trial 143 finished with value: 0.06234634725255295 and parameters: {'alpha': 0.623710980209436, 'beta': 0.2413858113507294, 'gamma': 0.8170227935011043}. Best is trial 124 with value: 0.06236474659557851.\n"
     ]
    },
    {
     "name": "stdout",
     "output_type": "stream",
     "text": [
      "Results saved to optuna_progressSLIMRP3EASE_Rals2.csv and best results to 'best_optuna_results.csv'\n",
      "EvaluatorHoldout: Processed 35584 (100.0%) in 1.06 min. Users per second: 561\n"
     ]
    },
    {
     "name": "stderr",
     "output_type": "stream",
     "text": [
      "[I 2024-12-28 19:03:49,021] Trial 144 finished with value: 0.06233008459303756 and parameters: {'alpha': 0.6276800674377255, 'beta': 0.2413149958653782, 'gamma': 0.8214970492857657}. Best is trial 124 with value: 0.06236474659557851.\n"
     ]
    },
    {
     "name": "stdout",
     "output_type": "stream",
     "text": [
      "Results saved to optuna_progressSLIMRP3EASE_Rals2.csv and best results to 'best_optuna_results.csv'\n",
      "EvaluatorHoldout: Processed 35584 (100.0%) in 1.08 min. Users per second: 548\n"
     ]
    },
    {
     "name": "stderr",
     "output_type": "stream",
     "text": [
      "[I 2024-12-28 19:04:59,768] Trial 145 finished with value: 0.06231027231785779 and parameters: {'alpha': 0.6348543774733659, 'beta': 0.23933000113519354, 'gamma': 0.807167609362265}. Best is trial 124 with value: 0.06236474659557851.\n"
     ]
    },
    {
     "name": "stdout",
     "output_type": "stream",
     "text": [
      "Results saved to optuna_progressSLIMRP3EASE_Rals2.csv and best results to 'best_optuna_results.csv'\n",
      "EvaluatorHoldout: Processed 35584 (100.0%) in 1.07 min. Users per second: 553\n"
     ]
    },
    {
     "name": "stderr",
     "output_type": "stream",
     "text": [
      "[I 2024-12-28 19:06:09,421] Trial 146 finished with value: 0.06231891272695918 and parameters: {'alpha': 0.6217242769260732, 'beta': 0.23033372701278357, 'gamma': 0.8154527356676975}. Best is trial 124 with value: 0.06236474659557851.\n"
     ]
    },
    {
     "name": "stdout",
     "output_type": "stream",
     "text": [
      "Results saved to optuna_progressSLIMRP3EASE_Rals2.csv and best results to 'best_optuna_results.csv'\n",
      "EvaluatorHoldout: Processed 35584 (100.0%) in 1.09 min. Users per second: 545\n"
     ]
    },
    {
     "name": "stderr",
     "output_type": "stream",
     "text": [
      "[I 2024-12-28 19:07:20,408] Trial 147 finished with value: 0.06228130999664326 and parameters: {'alpha': 0.6254359887012793, 'beta': 0.2356056632284475, 'gamma': 0.832425898608051}. Best is trial 124 with value: 0.06236474659557851.\n"
     ]
    },
    {
     "name": "stdout",
     "output_type": "stream",
     "text": [
      "Results saved to optuna_progressSLIMRP3EASE_Rals2.csv and best results to 'best_optuna_results.csv'\n",
      "EvaluatorHoldout: Processed 35584 (100.0%) in 1.09 min. Users per second: 544\n"
     ]
    },
    {
     "name": "stderr",
     "output_type": "stream",
     "text": [
      "[I 2024-12-28 19:08:31,135] Trial 148 finished with value: 0.06231240007993383 and parameters: {'alpha': 0.6311667521497283, 'beta': 0.2461948011779172, 'gamma': 0.8254371250878697}. Best is trial 124 with value: 0.06236474659557851.\n"
     ]
    },
    {
     "name": "stdout",
     "output_type": "stream",
     "text": [
      "Results saved to optuna_progressSLIMRP3EASE_Rals2.csv and best results to 'best_optuna_results.csv'\n",
      "EvaluatorHoldout: Processed 35584 (100.0%) in 1.08 min. Users per second: 549\n"
     ]
    },
    {
     "name": "stderr",
     "output_type": "stream",
     "text": [
      "[I 2024-12-28 19:09:41,190] Trial 149 finished with value: 0.06231733140273281 and parameters: {'alpha': 0.5971488758534895, 'beta': 0.2434059125269054, 'gamma': 0.8201278472634086}. Best is trial 124 with value: 0.06236474659557851.\n"
     ]
    },
    {
     "name": "stdout",
     "output_type": "stream",
     "text": [
      "Results saved to optuna_progressSLIMRP3EASE_Rals2.csv and best results to 'best_optuna_results.csv'\n",
      "EvaluatorHoldout: Processed 35584 (100.0%) in 1.06 min. Users per second: 561\n"
     ]
    },
    {
     "name": "stderr",
     "output_type": "stream",
     "text": [
      "[I 2024-12-28 19:10:49,919] Trial 150 finished with value: 0.06229204025172498 and parameters: {'alpha': 0.5679153636331409, 'beta': 0.2334204418359226, 'gamma': 0.8367644378706277}. Best is trial 124 with value: 0.06236474659557851.\n"
     ]
    },
    {
     "name": "stdout",
     "output_type": "stream",
     "text": [
      "Results saved to optuna_progressSLIMRP3EASE_Rals2.csv and best results to 'best_optuna_results.csv'\n",
      "EvaluatorHoldout: Processed 35584 (100.0%) in 1.09 min. Users per second: 544\n"
     ]
    },
    {
     "name": "stderr",
     "output_type": "stream",
     "text": [
      "[I 2024-12-28 19:12:00,499] Trial 151 finished with value: 0.06233964837058713 and parameters: {'alpha': 0.6088204823546547, 'beta': 0.24139492572653418, 'gamma': 0.8167785100013034}. Best is trial 124 with value: 0.06236474659557851.\n"
     ]
    },
    {
     "name": "stdout",
     "output_type": "stream",
     "text": [
      "Results saved to optuna_progressSLIMRP3EASE_Rals2.csv and best results to 'best_optuna_results.csv'\n",
      "EvaluatorHoldout: Processed 35584 (100.0%) in 1.09 min. Users per second: 546\n"
     ]
    },
    {
     "name": "stderr",
     "output_type": "stream",
     "text": [
      "[I 2024-12-28 19:13:11,204] Trial 152 finished with value: 0.06230920955199911 and parameters: {'alpha': 0.6028773371316835, 'beta': 0.24769485415001052, 'gamma': 0.813923185011963}. Best is trial 124 with value: 0.06236474659557851.\n"
     ]
    },
    {
     "name": "stdout",
     "output_type": "stream",
     "text": [
      "Results saved to optuna_progressSLIMRP3EASE_Rals2.csv and best results to 'best_optuna_results.csv'\n",
      "EvaluatorHoldout: Processed 35584 (100.0%) in 1.07 min. Users per second: 552\n"
     ]
    },
    {
     "name": "stderr",
     "output_type": "stream",
     "text": [
      "[I 2024-12-28 19:14:21,077] Trial 153 finished with value: 0.06232180661720405 and parameters: {'alpha': 0.6188316162759991, 'beta': 0.24539122131262572, 'gamma': 0.8098200091923671}. Best is trial 124 with value: 0.06236474659557851.\n"
     ]
    },
    {
     "name": "stdout",
     "output_type": "stream",
     "text": [
      "Results saved to optuna_progressSLIMRP3EASE_Rals2.csv and best results to 'best_optuna_results.csv'\n",
      "EvaluatorHoldout: Processed 35584 (100.0%) in 1.09 min. Users per second: 544\n"
     ]
    },
    {
     "name": "stderr",
     "output_type": "stream",
     "text": [
      "[I 2024-12-28 19:15:31,925] Trial 154 finished with value: 0.0622501764213607 and parameters: {'alpha': 0.6113857963340812, 'beta': 0.2085883434246589, 'gamma': 0.8180744343345537}. Best is trial 124 with value: 0.06236474659557851.\n"
     ]
    },
    {
     "name": "stdout",
     "output_type": "stream",
     "text": [
      "Results saved to optuna_progressSLIMRP3EASE_Rals2.csv and best results to 'best_optuna_results.csv'\n",
      "EvaluatorHoldout: Processed 35584 (100.0%) in 1.10 min. Users per second: 538\n"
     ]
    },
    {
     "name": "stderr",
     "output_type": "stream",
     "text": [
      "[I 2024-12-28 19:16:43,277] Trial 155 finished with value: 0.062313994786311507 and parameters: {'alpha': 0.624471966618386, 'beta': 0.23773388476796267, 'gamma': 0.8235193918046222}. Best is trial 124 with value: 0.06236474659557851.\n"
     ]
    },
    {
     "name": "stdout",
     "output_type": "stream",
     "text": [
      "Results saved to optuna_progressSLIMRP3EASE_Rals2.csv and best results to 'best_optuna_results.csv'\n",
      "EvaluatorHoldout: Processed 35584 (100.0%) in 1.08 min. Users per second: 548\n"
     ]
    },
    {
     "name": "stderr",
     "output_type": "stream",
     "text": [
      "[I 2024-12-28 19:17:54,133] Trial 156 finished with value: 0.06226086876034681 and parameters: {'alpha': 0.6054854672844164, 'beta': 0.24919452339180778, 'gamma': 0.8036896457026439}. Best is trial 124 with value: 0.06236474659557851.\n"
     ]
    },
    {
     "name": "stdout",
     "output_type": "stream",
     "text": [
      "Results saved to optuna_progressSLIMRP3EASE_Rals2.csv and best results to 'best_optuna_results.csv'\n",
      "EvaluatorHoldout: Processed 35584 (100.0%) in 1.08 min. Users per second: 551\n"
     ]
    },
    {
     "name": "stderr",
     "output_type": "stream",
     "text": [
      "[I 2024-12-28 19:19:04,363] Trial 157 finished with value: 0.06231148786327853 and parameters: {'alpha': 0.6127566553425546, 'beta': 0.2437082894168024, 'gamma': 0.8281633513982586}. Best is trial 124 with value: 0.06236474659557851.\n"
     ]
    },
    {
     "name": "stdout",
     "output_type": "stream",
     "text": [
      "Results saved to optuna_progressSLIMRP3EASE_Rals2.csv and best results to 'best_optuna_results.csv'\n",
      "EvaluatorHoldout: Processed 35584 (100.0%) in 1.08 min. Users per second: 548\n"
     ]
    },
    {
     "name": "stderr",
     "output_type": "stream",
     "text": [
      "[I 2024-12-28 19:20:15,033] Trial 158 finished with value: 0.06233788415695794 and parameters: {'alpha': 0.6190618111674654, 'beta': 0.24018202589198936, 'gamma': 0.8136269075245474}. Best is trial 124 with value: 0.06236474659557851.\n"
     ]
    },
    {
     "name": "stdout",
     "output_type": "stream",
     "text": [
      "Results saved to optuna_progressSLIMRP3EASE_Rals2.csv and best results to 'best_optuna_results.csv'\n",
      "EvaluatorHoldout: Processed 35584 (100.0%) in 1.09 min. Users per second: 544\n"
     ]
    },
    {
     "name": "stderr",
     "output_type": "stream",
     "text": [
      "[I 2024-12-28 19:21:26,423] Trial 159 finished with value: 0.062310528809093345 and parameters: {'alpha': 0.6286687466292336, 'beta': 0.24657518545220308, 'gamma': 0.8077647300698876}. Best is trial 124 with value: 0.06236474659557851.\n"
     ]
    },
    {
     "name": "stdout",
     "output_type": "stream",
     "text": [
      "Results saved to optuna_progressSLIMRP3EASE_Rals2.csv and best results to 'best_optuna_results.csv'\n",
      "EvaluatorHoldout: Processed 35584 (100.0%) in 1.09 min. Users per second: 547\n"
     ]
    },
    {
     "name": "stderr",
     "output_type": "stream",
     "text": [
      "[I 2024-12-28 19:22:37,142] Trial 160 finished with value: 0.06230535437721034 and parameters: {'alpha': 0.5923728252224256, 'beta': 0.24249876527885242, 'gamma': 0.8196119320911336}. Best is trial 124 with value: 0.06236474659557851.\n"
     ]
    },
    {
     "name": "stdout",
     "output_type": "stream",
     "text": [
      "Results saved to optuna_progressSLIMRP3EASE_Rals2.csv and best results to 'best_optuna_results.csv'\n",
      "EvaluatorHoldout: Processed 35584 (100.0%) in 1.09 min. Users per second: 543\n"
     ]
    },
    {
     "name": "stderr",
     "output_type": "stream",
     "text": [
      "[I 2024-12-28 19:23:48,072] Trial 161 finished with value: 0.062336356361337324 and parameters: {'alpha': 0.6159848316997691, 'beta': 0.24944269637869643, 'gamma': 0.8113388922754335}. Best is trial 124 with value: 0.06236474659557851.\n"
     ]
    },
    {
     "name": "stdout",
     "output_type": "stream",
     "text": [
      "Results saved to optuna_progressSLIMRP3EASE_Rals2.csv and best results to 'best_optuna_results.csv'\n",
      "EvaluatorHoldout: Processed 35584 (100.0%) in 1.10 min. Users per second: 542\n"
     ]
    },
    {
     "name": "stderr",
     "output_type": "stream",
     "text": [
      "[I 2024-12-28 19:24:59,324] Trial 162 finished with value: 0.062093885159727163 and parameters: {'alpha': 0.6233069955229511, 'beta': 0.2488942648197512, 'gamma': 0.9301984783255143}. Best is trial 124 with value: 0.06236474659557851.\n"
     ]
    },
    {
     "name": "stdout",
     "output_type": "stream",
     "text": [
      "Results saved to optuna_progressSLIMRP3EASE_Rals2.csv and best results to 'best_optuna_results.csv'\n",
      "EvaluatorHoldout: Processed 35584 (100.0%) in 1.10 min. Users per second: 541\n"
     ]
    },
    {
     "name": "stderr",
     "output_type": "stream",
     "text": [
      "[I 2024-12-28 19:26:10,701] Trial 163 finished with value: 0.06235451482563734 and parameters: {'alpha': 0.6084479562831219, 'beta': 0.25049321832367977, 'gamma': 0.8155047496859406}. Best is trial 124 with value: 0.06236474659557851.\n"
     ]
    },
    {
     "name": "stdout",
     "output_type": "stream",
     "text": [
      "Results saved to optuna_progressSLIMRP3EASE_Rals2.csv and best results to 'best_optuna_results.csv'\n",
      "EvaluatorHoldout: Processed 35584 (100.0%) in 1.11 min. Users per second: 535\n"
     ]
    },
    {
     "name": "stderr",
     "output_type": "stream",
     "text": [
      "[I 2024-12-28 19:27:22,624] Trial 164 finished with value: 0.06234627253554085 and parameters: {'alpha': 0.6072680100023551, 'beta': 0.2521916316703777, 'gamma': 0.8155510698250844}. Best is trial 124 with value: 0.06236474659557851.\n"
     ]
    },
    {
     "name": "stdout",
     "output_type": "stream",
     "text": [
      "Results saved to optuna_progressSLIMRP3EASE_Rals2.csv and best results to 'best_optuna_results.csv'\n",
      "EvaluatorHoldout: Processed 35584 (100.0%) in 1.10 min. Users per second: 541\n"
     ]
    },
    {
     "name": "stderr",
     "output_type": "stream",
     "text": [
      "[I 2024-12-28 19:28:34,148] Trial 165 finished with value: 0.0623327654840391 and parameters: {'alpha': 0.5987410648917876, 'beta': 0.25100386898000454, 'gamma': 0.8221382649090662}. Best is trial 124 with value: 0.06236474659557851.\n"
     ]
    },
    {
     "name": "stdout",
     "output_type": "stream",
     "text": [
      "Results saved to optuna_progressSLIMRP3EASE_Rals2.csv and best results to 'best_optuna_results.csv'\n",
      "EvaluatorHoldout: Processed 35584 (100.0%) in 1.09 min. Users per second: 546\n"
     ]
    },
    {
     "name": "stderr",
     "output_type": "stream",
     "text": [
      "[I 2024-12-28 19:29:44,982] Trial 166 finished with value: 0.06226244227831805 and parameters: {'alpha': 0.6048930942411764, 'beta': 0.24480592740198864, 'gamma': 0.8001771269473924}. Best is trial 124 with value: 0.06236474659557851.\n"
     ]
    },
    {
     "name": "stdout",
     "output_type": "stream",
     "text": [
      "Results saved to optuna_progressSLIMRP3EASE_Rals2.csv and best results to 'best_optuna_results.csv'\n",
      "EvaluatorHoldout: Processed 35584 (100.0%) in 1.08 min. Users per second: 551\n"
     ]
    },
    {
     "name": "stderr",
     "output_type": "stream",
     "text": [
      "[I 2024-12-28 19:30:55,082] Trial 167 finished with value: 0.06233831907687921 and parameters: {'alpha': 0.6068716609873677, 'beta': 0.2466798330487786, 'gamma': 0.8150636041705196}. Best is trial 124 with value: 0.06236474659557851.\n"
     ]
    },
    {
     "name": "stdout",
     "output_type": "stream",
     "text": [
      "Results saved to optuna_progressSLIMRP3EASE_Rals2.csv and best results to 'best_optuna_results.csv'\n",
      "EvaluatorHoldout: Processed 35584 (100.0%) in 1.09 min. Users per second: 544\n"
     ]
    },
    {
     "name": "stderr",
     "output_type": "stream",
     "text": [
      "[I 2024-12-28 19:32:06,728] Trial 168 finished with value: 0.06229922981257644 and parameters: {'alpha': 0.6199968151309307, 'beta': 0.27157235484846187, 'gamma': 0.8061040110665352}. Best is trial 124 with value: 0.06236474659557851.\n"
     ]
    },
    {
     "name": "stdout",
     "output_type": "stream",
     "text": [
      "Results saved to optuna_progressSLIMRP3EASE_Rals2.csv and best results to 'best_optuna_results.csv'\n",
      "EvaluatorHoldout: Processed 35584 (100.0%) in 1.08 min. Users per second: 549\n"
     ]
    },
    {
     "name": "stderr",
     "output_type": "stream",
     "text": [
      "[I 2024-12-28 19:33:17,162] Trial 169 finished with value: 0.06227633183631455 and parameters: {'alpha': 0.5544063483770494, 'beta': 0.25271857258331837, 'gamma': 0.8253535740925064}. Best is trial 124 with value: 0.06236474659557851.\n"
     ]
    },
    {
     "name": "stdout",
     "output_type": "stream",
     "text": [
      "Results saved to optuna_progressSLIMRP3EASE_Rals2.csv and best results to 'best_optuna_results.csv'\n",
      "EvaluatorHoldout: Processed 35584 (100.0%) in 1.06 min. Users per second: 559\n"
     ]
    },
    {
     "name": "stderr",
     "output_type": "stream",
     "text": [
      "[I 2024-12-28 19:34:26,221] Trial 170 finished with value: 0.06232530381944218 and parameters: {'alpha': 0.6093842094572443, 'beta': 0.2629175248032972, 'gamma': 0.8188516427072267}. Best is trial 124 with value: 0.06236474659557851.\n"
     ]
    },
    {
     "name": "stdout",
     "output_type": "stream",
     "text": [
      "Results saved to optuna_progressSLIMRP3EASE_Rals2.csv and best results to 'best_optuna_results.csv'\n",
      "EvaluatorHoldout: Processed 35584 (100.0%) in 1.09 min. Users per second: 544\n"
     ]
    },
    {
     "name": "stderr",
     "output_type": "stream",
     "text": [
      "[I 2024-12-28 19:35:37,278] Trial 171 finished with value: 0.06234504918386495 and parameters: {'alpha': 0.6131101918965598, 'beta': 0.253304102057361, 'gamma': 0.8159643580819285}. Best is trial 124 with value: 0.06236474659557851.\n"
     ]
    },
    {
     "name": "stdout",
     "output_type": "stream",
     "text": [
      "Results saved to optuna_progressSLIMRP3EASE_Rals2.csv and best results to 'best_optuna_results.csv'\n",
      "EvaluatorHoldout: Processed 35584 (100.0%) in 1.08 min. Users per second: 548\n"
     ]
    },
    {
     "name": "stderr",
     "output_type": "stream",
     "text": [
      "[I 2024-12-28 19:36:47,736] Trial 172 finished with value: 0.062322379819356614 and parameters: {'alpha': 0.6141123971939255, 'beta': 0.24256895157922748, 'gamma': 0.8109784928905945}. Best is trial 124 with value: 0.06236474659557851.\n"
     ]
    },
    {
     "name": "stdout",
     "output_type": "stream",
     "text": [
      "Results saved to optuna_progressSLIMRP3EASE_Rals2.csv and best results to 'best_optuna_results.csv'\n",
      "EvaluatorHoldout: Processed 35584 (100.0%) in 1.09 min. Users per second: 544\n"
     ]
    },
    {
     "name": "stderr",
     "output_type": "stream",
     "text": [
      "[I 2024-12-28 19:37:58,972] Trial 173 finished with value: 0.06232668552657665 and parameters: {'alpha': 0.6033479879250174, 'beta': 0.25882663748630796, 'gamma': 0.8147141335736998}. Best is trial 124 with value: 0.06236474659557851.\n"
     ]
    },
    {
     "name": "stdout",
     "output_type": "stream",
     "text": [
      "Results saved to optuna_progressSLIMRP3EASE_Rals2.csv and best results to 'best_optuna_results.csv'\n",
      "EvaluatorHoldout: Processed 35584 (100.0%) in 1.09 min. Users per second: 545\n"
     ]
    },
    {
     "name": "stderr",
     "output_type": "stream",
     "text": [
      "[I 2024-12-28 19:39:09,533] Trial 174 finished with value: 0.06231794921205674 and parameters: {'alpha': 0.6359745306051314, 'beta': 0.25086361104390953, 'gamma': 0.8207504545621905}. Best is trial 124 with value: 0.06236474659557851.\n"
     ]
    },
    {
     "name": "stdout",
     "output_type": "stream",
     "text": [
      "Results saved to optuna_progressSLIMRP3EASE_Rals2.csv and best results to 'best_optuna_results.csv'\n",
      "EvaluatorHoldout: Processed 35584 (100.0%) in 1.08 min. Users per second: 548\n"
     ]
    },
    {
     "name": "stderr",
     "output_type": "stream",
     "text": [
      "[I 2024-12-28 19:40:19,849] Trial 175 finished with value: 0.062262958606327336 and parameters: {'alpha': 0.5998291499934179, 'beta': 0.24809721225812298, 'gamma': 0.8776215939694585}. Best is trial 124 with value: 0.06236474659557851.\n"
     ]
    },
    {
     "name": "stdout",
     "output_type": "stream",
     "text": [
      "Results saved to optuna_progressSLIMRP3EASE_Rals2.csv and best results to 'best_optuna_results.csv'\n",
      "EvaluatorHoldout: Processed 35584 (100.0%) in 1.08 min. Users per second: 549\n"
     ]
    },
    {
     "name": "stderr",
     "output_type": "stream",
     "text": [
      "[I 2024-12-28 19:41:29,924] Trial 176 finished with value: 0.0623611267236189 and parameters: {'alpha': 0.6177253394844043, 'beta': 0.24550533244567024, 'gamma': 0.8168721960149912}. Best is trial 124 with value: 0.06236474659557851.\n"
     ]
    },
    {
     "name": "stdout",
     "output_type": "stream",
     "text": [
      "Results saved to optuna_progressSLIMRP3EASE_Rals2.csv and best results to 'best_optuna_results.csv'\n",
      "EvaluatorHoldout: Processed 35584 (100.0%) in 1.05 min. Users per second: 563\n"
     ]
    },
    {
     "name": "stderr",
     "output_type": "stream",
     "text": [
      "[I 2024-12-28 19:42:38,305] Trial 177 finished with value: 0.0623108444048311 and parameters: {'alpha': 0.6180812926184683, 'beta': 0.25607962541393303, 'gamma': 0.8094649131146571}. Best is trial 124 with value: 0.06236474659557851.\n"
     ]
    },
    {
     "name": "stdout",
     "output_type": "stream",
     "text": [
      "Results saved to optuna_progressSLIMRP3EASE_Rals2.csv and best results to 'best_optuna_results.csv'\n",
      "EvaluatorHoldout: Processed 35584 (100.0%) in 1.07 min. Users per second: 554\n"
     ]
    },
    {
     "name": "stderr",
     "output_type": "stream",
     "text": [
      "[I 2024-12-28 19:43:47,923] Trial 178 finished with value: 0.062350213579134506 and parameters: {'alpha': 0.6253333699896975, 'beta': 0.2540873747150498, 'gamma': 0.8151928812342566}. Best is trial 124 with value: 0.06236474659557851.\n"
     ]
    },
    {
     "name": "stdout",
     "output_type": "stream",
     "text": [
      "Results saved to optuna_progressSLIMRP3EASE_Rals2.csv and best results to 'best_optuna_results.csv'\n",
      "EvaluatorHoldout: Processed 35584 (100.0%) in 1.09 min. Users per second: 543\n"
     ]
    },
    {
     "name": "stderr",
     "output_type": "stream",
     "text": [
      "[I 2024-12-28 19:44:58,593] Trial 179 finished with value: 0.06231132058638577 and parameters: {'alpha': 0.6321798452096126, 'beta': 0.23980472730222321, 'gamma': 0.8263575809961726}. Best is trial 124 with value: 0.06236474659557851.\n"
     ]
    },
    {
     "name": "stdout",
     "output_type": "stream",
     "text": [
      "Results saved to optuna_progressSLIMRP3EASE_Rals2.csv and best results to 'best_optuna_results.csv'\n",
      "EvaluatorHoldout: Processed 35584 (100.0%) in 1.08 min. Users per second: 551\n"
     ]
    },
    {
     "name": "stderr",
     "output_type": "stream",
     "text": [
      "[I 2024-12-28 19:46:08,485] Trial 180 finished with value: 0.062348177261759875 and parameters: {'alpha': 0.6267379795507415, 'beta': 0.24611577131212053, 'gamma': 0.8128811761501581}. Best is trial 124 with value: 0.06236474659557851.\n"
     ]
    },
    {
     "name": "stdout",
     "output_type": "stream",
     "text": [
      "Results saved to optuna_progressSLIMRP3EASE_Rals2.csv and best results to 'best_optuna_results.csv'\n",
      "EvaluatorHoldout: Processed 35584 (100.0%) in 1.07 min. Users per second: 553\n"
     ]
    },
    {
     "name": "stderr",
     "output_type": "stream",
     "text": [
      "[I 2024-12-28 19:47:18,134] Trial 181 finished with value: 0.062345402695698424 and parameters: {'alpha': 0.6258217095789487, 'beta': 0.24622711859035765, 'gamma': 0.8121393216626444}. Best is trial 124 with value: 0.06236474659557851.\n"
     ]
    },
    {
     "name": "stdout",
     "output_type": "stream",
     "text": [
      "Results saved to optuna_progressSLIMRP3EASE_Rals2.csv and best results to 'best_optuna_results.csv'\n",
      "EvaluatorHoldout: Processed 35584 (100.0%) in 1.09 min. Users per second: 544\n"
     ]
    },
    {
     "name": "stderr",
     "output_type": "stream",
     "text": [
      "[I 2024-12-28 19:48:28,918] Trial 182 finished with value: 0.062300249086442924 and parameters: {'alpha': 0.6217169509044628, 'beta': 0.24375862981420632, 'gamma': 0.8065297527569575}. Best is trial 124 with value: 0.06236474659557851.\n"
     ]
    },
    {
     "name": "stdout",
     "output_type": "stream",
     "text": [
      "Results saved to optuna_progressSLIMRP3EASE_Rals2.csv and best results to 'best_optuna_results.csv'\n",
      "EvaluatorHoldout: Processed 35584 (100.0%) in 1.09 min. Users per second: 543\n"
     ]
    },
    {
     "name": "stderr",
     "output_type": "stream",
     "text": [
      "[I 2024-12-28 19:49:39,676] Trial 183 finished with value: 0.062319733498912934 and parameters: {'alpha': 0.6419613284940394, 'beta': 0.24779742199662655, 'gamma': 0.8167179012945951}. Best is trial 124 with value: 0.06236474659557851.\n"
     ]
    },
    {
     "name": "stdout",
     "output_type": "stream",
     "text": [
      "Results saved to optuna_progressSLIMRP3EASE_Rals2.csv and best results to 'best_optuna_results.csv'\n",
      "EvaluatorHoldout: Processed 35584 (100.0%) in 1.09 min. Users per second: 546\n"
     ]
    },
    {
     "name": "stderr",
     "output_type": "stream",
     "text": [
      "[I 2024-12-28 19:50:50,124] Trial 184 finished with value: 0.062329443364948584 and parameters: {'alpha': 0.6281020406552867, 'beta': 0.24128992510512262, 'gamma': 0.8219164292091391}. Best is trial 124 with value: 0.06236474659557851.\n"
     ]
    },
    {
     "name": "stdout",
     "output_type": "stream",
     "text": [
      "Results saved to optuna_progressSLIMRP3EASE_Rals2.csv and best results to 'best_optuna_results.csv'\n",
      "EvaluatorHoldout: Processed 35584 (100.0%) in 1.09 min. Users per second: 544\n"
     ]
    },
    {
     "name": "stderr",
     "output_type": "stream",
     "text": [
      "[I 2024-12-28 19:52:00,936] Trial 185 finished with value: 0.06234229803656857 and parameters: {'alpha': 0.6240099376543579, 'beta': 0.2511012983442867, 'gamma': 0.8122073561017816}. Best is trial 124 with value: 0.06236474659557851.\n"
     ]
    },
    {
     "name": "stdout",
     "output_type": "stream",
     "text": [
      "Results saved to optuna_progressSLIMRP3EASE_Rals2.csv and best results to 'best_optuna_results.csv'\n",
      "EvaluatorHoldout: Processed 35584 (100.0%) in 1.08 min. Users per second: 548\n"
     ]
    },
    {
     "name": "stderr",
     "output_type": "stream",
     "text": [
      "[I 2024-12-28 19:53:11,060] Trial 186 finished with value: 0.06233765777556293 and parameters: {'alpha': 0.6308783902418104, 'beta': 0.24557270218092533, 'gamma': 0.8176127431163202}. Best is trial 124 with value: 0.06236474659557851.\n"
     ]
    },
    {
     "name": "stdout",
     "output_type": "stream",
     "text": [
      "Results saved to optuna_progressSLIMRP3EASE_Rals2.csv and best results to 'best_optuna_results.csv'\n",
      "EvaluatorHoldout: Processed 35584 (100.0%) in 1.09 min. Users per second: 545\n"
     ]
    },
    {
     "name": "stderr",
     "output_type": "stream",
     "text": [
      "[I 2024-12-28 19:54:21,565] Trial 187 finished with value: 0.06229920973934929 and parameters: {'alpha': 0.6194350844185931, 'beta': 0.26917869519678705, 'gamma': 0.8037289371895315}. Best is trial 124 with value: 0.06236474659557851.\n"
     ]
    },
    {
     "name": "stdout",
     "output_type": "stream",
     "text": [
      "Results saved to optuna_progressSLIMRP3EASE_Rals2.csv and best results to 'best_optuna_results.csv'\n",
      "EvaluatorHoldout: Processed 35584 (100.0%) in 1.08 min. Users per second: 549\n"
     ]
    },
    {
     "name": "stderr",
     "output_type": "stream",
     "text": [
      "[I 2024-12-28 19:55:31,729] Trial 188 finished with value: 0.06230504212701048 and parameters: {'alpha': 0.6150780445765369, 'beta': 0.24929844381979804, 'gamma': 0.8089472359356408}. Best is trial 124 with value: 0.06236474659557851.\n"
     ]
    },
    {
     "name": "stdout",
     "output_type": "stream",
     "text": [
      "Results saved to optuna_progressSLIMRP3EASE_Rals2.csv and best results to 'best_optuna_results.csv'\n",
      "EvaluatorHoldout: Processed 35584 (100.0%) in 1.06 min. Users per second: 560\n"
     ]
    },
    {
     "name": "stderr",
     "output_type": "stream",
     "text": [
      "[I 2024-12-28 19:56:40,747] Trial 189 finished with value: 0.06232537073019926 and parameters: {'alpha': 0.6362080469815135, 'beta': 0.2431347788833391, 'gamma': 0.8140076730395287}. Best is trial 124 with value: 0.06236474659557851.\n"
     ]
    },
    {
     "name": "stdout",
     "output_type": "stream",
     "text": [
      "Results saved to optuna_progressSLIMRP3EASE_Rals2.csv and best results to 'best_optuna_results.csv'\n",
      "EvaluatorHoldout: Processed 35584 (100.0%) in 1.08 min. Users per second: 550\n"
     ]
    },
    {
     "name": "stderr",
     "output_type": "stream",
     "text": [
      "[I 2024-12-28 19:57:50,947] Trial 190 finished with value: 0.0623339018517306 and parameters: {'alpha': 0.6085463103907617, 'beta': 0.2469770065973496, 'gamma': 0.8233737224995776}. Best is trial 124 with value: 0.06236474659557851.\n"
     ]
    },
    {
     "name": "stdout",
     "output_type": "stream",
     "text": [
      "Results saved to optuna_progressSLIMRP3EASE_Rals2.csv and best results to 'best_optuna_results.csv'\n",
      "EvaluatorHoldout: Processed 35584 (100.0%) in 1.09 min. Users per second: 542\n"
     ]
    },
    {
     "name": "stderr",
     "output_type": "stream",
     "text": [
      "[I 2024-12-28 19:59:01,963] Trial 191 finished with value: 0.06234469455685237 and parameters: {'alpha': 0.6248312143226237, 'beta': 0.24513975632520288, 'gamma': 0.8119071576090544}. Best is trial 124 with value: 0.06236474659557851.\n"
     ]
    },
    {
     "name": "stdout",
     "output_type": "stream",
     "text": [
      "Results saved to optuna_progressSLIMRP3EASE_Rals2.csv and best results to 'best_optuna_results.csv'\n",
      "EvaluatorHoldout: Processed 35584 (100.0%) in 1.09 min. Users per second: 543\n"
     ]
    },
    {
     "name": "stderr",
     "output_type": "stream",
     "text": [
      "[I 2024-12-28 20:00:12,731] Trial 192 finished with value: 0.06233738901735534 and parameters: {'alpha': 0.6289019149631346, 'beta': 0.2467793500742849, 'gamma': 0.8145261064762758}. Best is trial 124 with value: 0.06236474659557851.\n"
     ]
    },
    {
     "name": "stdout",
     "output_type": "stream",
     "text": [
      "Results saved to optuna_progressSLIMRP3EASE_Rals2.csv and best results to 'best_optuna_results.csv'\n",
      "EvaluatorHoldout: Processed 35584 (100.0%) in 1.06 min. Users per second: 562\n"
     ]
    },
    {
     "name": "stderr",
     "output_type": "stream",
     "text": [
      "[I 2024-12-28 20:01:21,492] Trial 193 finished with value: 0.06233964167951131 and parameters: {'alpha': 0.6222402450856275, 'beta': 0.26518960421658894, 'gamma': 0.8193206540573696}. Best is trial 124 with value: 0.06236474659557851.\n"
     ]
    },
    {
     "name": "stdout",
     "output_type": "stream",
     "text": [
      "Results saved to optuna_progressSLIMRP3EASE_Rals2.csv and best results to 'best_optuna_results.csv'\n",
      "EvaluatorHoldout: Processed 35584 (100.0%) in 1.08 min. Users per second: 549\n"
     ]
    },
    {
     "name": "stderr",
     "output_type": "stream",
     "text": [
      "[I 2024-12-28 20:02:31,611] Trial 194 finished with value: 0.06232044275293828 and parameters: {'alpha': 0.6265287199793732, 'beta': 0.241356055523445, 'gamma': 0.8089897682696242}. Best is trial 124 with value: 0.06236474659557851.\n"
     ]
    },
    {
     "name": "stdout",
     "output_type": "stream",
     "text": [
      "Results saved to optuna_progressSLIMRP3EASE_Rals2.csv and best results to 'best_optuna_results.csv'\n",
      "EvaluatorHoldout: Processed 35584 (100.0%) in 1.07 min. Users per second: 553\n"
     ]
    },
    {
     "name": "stderr",
     "output_type": "stream",
     "text": [
      "[I 2024-12-28 20:03:41,253] Trial 195 finished with value: 0.06230798508514401 and parameters: {'alpha': 0.6167718754687317, 'beta': 0.2377664104448214, 'gamma': 0.8124857494491251}. Best is trial 124 with value: 0.06236474659557851.\n"
     ]
    },
    {
     "name": "stdout",
     "output_type": "stream",
     "text": [
      "Results saved to optuna_progressSLIMRP3EASE_Rals2.csv and best results to 'best_optuna_results.csv'\n",
      "EvaluatorHoldout: Processed 35584 (100.0%) in 1.09 min. Users per second: 543\n"
     ]
    },
    {
     "name": "stderr",
     "output_type": "stream",
     "text": [
      "[I 2024-12-28 20:04:52,125] Trial 196 finished with value: 0.06233671656424629 and parameters: {'alpha': 0.6116315748872878, 'beta': 0.25208319858525974, 'gamma': 0.8227661223691323}. Best is trial 124 with value: 0.06236474659557851.\n"
     ]
    },
    {
     "name": "stdout",
     "output_type": "stream",
     "text": [
      "Results saved to optuna_progressSLIMRP3EASE_Rals2.csv and best results to 'best_optuna_results.csv'\n",
      "EvaluatorHoldout: Processed 35584 (100.0%) in 1.09 min. Users per second: 543\n"
     ]
    },
    {
     "name": "stderr",
     "output_type": "stream",
     "text": [
      "[I 2024-12-28 20:06:02,938] Trial 197 finished with value: 0.062309423666421775 and parameters: {'alpha': 0.6195137703999504, 'beta': 0.24907544348148994, 'gamma': 0.8277190346531301}. Best is trial 124 with value: 0.06236474659557851.\n"
     ]
    },
    {
     "name": "stdout",
     "output_type": "stream",
     "text": [
      "Results saved to optuna_progressSLIMRP3EASE_Rals2.csv and best results to 'best_optuna_results.csv'\n",
      "EvaluatorHoldout: Processed 35584 (100.0%) in 1.09 min. Users per second: 544\n"
     ]
    },
    {
     "name": "stderr",
     "output_type": "stream",
     "text": [
      "[I 2024-12-28 20:07:13,616] Trial 198 finished with value: 0.06233862798154101 and parameters: {'alpha': 0.630398530867354, 'beta': 0.2440965071625346, 'gamma': 0.8171604249812643}. Best is trial 124 with value: 0.06236474659557851.\n"
     ]
    },
    {
     "name": "stdout",
     "output_type": "stream",
     "text": [
      "Results saved to optuna_progressSLIMRP3EASE_Rals2.csv and best results to 'best_optuna_results.csv'\n",
      "EvaluatorHoldout: Processed 35584 (100.0%) in 1.07 min. Users per second: 553\n"
     ]
    },
    {
     "name": "stderr",
     "output_type": "stream",
     "text": [
      "[I 2024-12-28 20:08:23,361] Trial 199 finished with value: 0.062323639971948834 and parameters: {'alpha': 0.6386433451372555, 'beta': 0.2615808945692439, 'gamma': 0.8041063908980339}. Best is trial 124 with value: 0.06236474659557851.\n"
     ]
    },
    {
     "name": "stdout",
     "output_type": "stream",
     "text": [
      "Results saved to optuna_progressSLIMRP3EASE_Rals2.csv and best results to 'best_optuna_results.csv'\n",
      "EvaluatorHoldout: Processed 35584 (100.0%) in 1.11 min. Users per second: 535\n"
     ]
    },
    {
     "name": "stderr",
     "output_type": "stream",
     "text": [
      "[I 2024-12-28 20:09:35,183] Trial 200 finished with value: 0.06233974316082616 and parameters: {'alpha': 0.6249479115910231, 'beta': 0.24602611595502732, 'gamma': 0.8196185554948173}. Best is trial 124 with value: 0.06236474659557851.\n"
     ]
    },
    {
     "name": "stdout",
     "output_type": "stream",
     "text": [
      "Results saved to optuna_progressSLIMRP3EASE_Rals2.csv and best results to 'best_optuna_results.csv'\n"
     ]
    },
    {
     "name": "stderr",
     "output_type": "stream",
     "text": [
      "[W 2024-12-28 20:10:09,107] Trial 201 failed with parameters: {'alpha': 0.6155551291039123, 'beta': 0.2550770235205882, 'gamma': 0.8149434960955612} because of the following error: KeyboardInterrupt().\n",
      "Traceback (most recent call last):\n",
      "  File \"c:\\Users\\vgius\\anaconda3\\envs\\RecSysFramework\\lib\\site-packages\\optuna\\study\\_optimize.py\", line 197, in _run_trial\n",
      "    value_or_values = func(trial)\n",
      "  File \"C:\\Users\\vgius\\AppData\\Local\\Temp\\ipykernel_37392\\2136426073.py\", line 20, in objective_function\n",
      "    result_df, _ = evaluator_test.evaluateRecommender(recommender_instance)\n",
      "  File \"c:\\Users\\vgius\\Documents\\GitHub\\RECSYS_POLIMI_2024\\1OUR_NOTEBOOKS\\..\\Evaluation\\Evaluator.py\", line 276, in evaluateRecommender\n",
      "    results_dict = self._run_evaluation_on_selected_users(recommender_object, self.users_to_evaluate)\n",
      "  File \"c:\\Users\\vgius\\Documents\\GitHub\\RECSYS_POLIMI_2024\\1OUR_NOTEBOOKS\\..\\Evaluation\\Evaluator.py\", line 476, in _run_evaluation_on_selected_users\n",
      "    recommended_items_batch_list, scores_batch = recommender_object.recommend(test_user_batch_array,\n",
      "  File \"c:\\Users\\vgius\\Documents\\GitHub\\RECSYS_POLIMI_2024\\1OUR_NOTEBOOKS\\..\\Recommenders\\BaseRecommender.py\", line 147, in recommend\n",
      "    scores_batch = self._compute_item_score(user_id_array, items_to_compute=items_to_compute)\n",
      "  File \"C:\\Users\\vgius\\AppData\\Local\\Temp\\ipykernel_37392\\2603795657.py\", line 29, in _compute_item_score\n",
      "    item_weights_1 = self.rec._compute_item_score(user_id_array)\n",
      "  File \"c:\\Users\\vgius\\Documents\\GitHub\\RECSYS_POLIMI_2024\\1OUR_NOTEBOOKS\\..\\Recommenders\\BaseSimilarityMatrixRecommender.py\", line 90, in _compute_item_score\n",
      "    item_scores = user_profile_array.dot(self.W_sparse).toarray()\n",
      "  File \"c:\\Users\\vgius\\anaconda3\\envs\\RecSysFramework\\lib\\site-packages\\scipy\\sparse\\_base.py\", line 416, in dot\n",
      "    return self @ other\n",
      "  File \"c:\\Users\\vgius\\anaconda3\\envs\\RecSysFramework\\lib\\site-packages\\scipy\\sparse\\_base.py\", line 623, in __matmul__\n",
      "    return self._mul_dispatch(other)\n",
      "  File \"c:\\Users\\vgius\\anaconda3\\envs\\RecSysFramework\\lib\\site-packages\\scipy\\sparse\\_base.py\", line 537, in _mul_dispatch\n",
      "    return self._mul_sparse_matrix(other)\n",
      "  File \"c:\\Users\\vgius\\anaconda3\\envs\\RecSysFramework\\lib\\site-packages\\scipy\\sparse\\_compressed.py\", line 533, in _mul_sparse_matrix\n",
      "    fn(M, N, np.asarray(self.indptr, dtype=idx_dtype),\n",
      "KeyboardInterrupt\n",
      "[W 2024-12-28 20:10:09,117] Trial 201 failed with value None.\n"
     ]
    },
    {
     "ename": "KeyboardInterrupt",
     "evalue": "",
     "output_type": "error",
     "traceback": [
      "\u001b[1;31m---------------------------------------------------------------------------\u001b[0m",
      "\u001b[1;31mKeyboardInterrupt\u001b[0m                         Traceback (most recent call last)",
      "Cell \u001b[1;32mIn[41], line 7\u001b[0m\n\u001b[0;32m      4\u001b[0m save_results \u001b[38;5;241m=\u001b[39m SaveResults(save_path\u001b[38;5;241m=\u001b[39m\u001b[38;5;124m\"\u001b[39m\u001b[38;5;124moptuna_progressSLIMRP3EASE_Rals2.csv\u001b[39m\u001b[38;5;124m\"\u001b[39m)\n\u001b[0;32m      6\u001b[0m \u001b[38;5;66;03m# Esecuzione dell'ottimizzazione\u001b[39;00m\n\u001b[1;32m----> 7\u001b[0m \u001b[43moptuna_study\u001b[49m\u001b[38;5;241;43m.\u001b[39;49m\u001b[43moptimize\u001b[49m\u001b[43m(\u001b[49m\n\u001b[0;32m      8\u001b[0m \u001b[43m    \u001b[49m\u001b[43mobjective_function\u001b[49m\u001b[43m,\u001b[49m\n\u001b[0;32m      9\u001b[0m \u001b[43m    \u001b[49m\u001b[43mcallbacks\u001b[49m\u001b[38;5;241;43m=\u001b[39;49m\u001b[43m[\u001b[49m\u001b[43msave_results\u001b[49m\u001b[43m]\u001b[49m\u001b[43m,\u001b[49m\n\u001b[0;32m     10\u001b[0m \u001b[43m    \u001b[49m\u001b[43mn_trials\u001b[49m\u001b[38;5;241;43m=\u001b[39;49m\u001b[38;5;241;43m400\u001b[39;49m\n\u001b[0;32m     11\u001b[0m \u001b[43m)\u001b[49m\n",
      "File \u001b[1;32mc:\\Users\\vgius\\anaconda3\\envs\\RecSysFramework\\lib\\site-packages\\optuna\\study\\study.py:475\u001b[0m, in \u001b[0;36mStudy.optimize\u001b[1;34m(self, func, n_trials, timeout, n_jobs, catch, callbacks, gc_after_trial, show_progress_bar)\u001b[0m\n\u001b[0;32m    373\u001b[0m \u001b[38;5;28;01mdef\u001b[39;00m \u001b[38;5;21moptimize\u001b[39m(\n\u001b[0;32m    374\u001b[0m     \u001b[38;5;28mself\u001b[39m,\n\u001b[0;32m    375\u001b[0m     func: ObjectiveFuncType,\n\u001b[1;32m   (...)\u001b[0m\n\u001b[0;32m    382\u001b[0m     show_progress_bar: \u001b[38;5;28mbool\u001b[39m \u001b[38;5;241m=\u001b[39m \u001b[38;5;28;01mFalse\u001b[39;00m,\n\u001b[0;32m    383\u001b[0m ) \u001b[38;5;241m-\u001b[39m\u001b[38;5;241m>\u001b[39m \u001b[38;5;28;01mNone\u001b[39;00m:\n\u001b[0;32m    384\u001b[0m \u001b[38;5;250m    \u001b[39m\u001b[38;5;124;03m\"\"\"Optimize an objective function.\u001b[39;00m\n\u001b[0;32m    385\u001b[0m \n\u001b[0;32m    386\u001b[0m \u001b[38;5;124;03m    Optimization is done by choosing a suitable set of hyperparameter values from a given\u001b[39;00m\n\u001b[1;32m   (...)\u001b[0m\n\u001b[0;32m    473\u001b[0m \u001b[38;5;124;03m            If nested invocation of this method occurs.\u001b[39;00m\n\u001b[0;32m    474\u001b[0m \u001b[38;5;124;03m    \"\"\"\u001b[39;00m\n\u001b[1;32m--> 475\u001b[0m     \u001b[43m_optimize\u001b[49m\u001b[43m(\u001b[49m\n\u001b[0;32m    476\u001b[0m \u001b[43m        \u001b[49m\u001b[43mstudy\u001b[49m\u001b[38;5;241;43m=\u001b[39;49m\u001b[38;5;28;43mself\u001b[39;49m\u001b[43m,\u001b[49m\n\u001b[0;32m    477\u001b[0m \u001b[43m        \u001b[49m\u001b[43mfunc\u001b[49m\u001b[38;5;241;43m=\u001b[39;49m\u001b[43mfunc\u001b[49m\u001b[43m,\u001b[49m\n\u001b[0;32m    478\u001b[0m \u001b[43m        \u001b[49m\u001b[43mn_trials\u001b[49m\u001b[38;5;241;43m=\u001b[39;49m\u001b[43mn_trials\u001b[49m\u001b[43m,\u001b[49m\n\u001b[0;32m    479\u001b[0m \u001b[43m        \u001b[49m\u001b[43mtimeout\u001b[49m\u001b[38;5;241;43m=\u001b[39;49m\u001b[43mtimeout\u001b[49m\u001b[43m,\u001b[49m\n\u001b[0;32m    480\u001b[0m \u001b[43m        \u001b[49m\u001b[43mn_jobs\u001b[49m\u001b[38;5;241;43m=\u001b[39;49m\u001b[43mn_jobs\u001b[49m\u001b[43m,\u001b[49m\n\u001b[0;32m    481\u001b[0m \u001b[43m        \u001b[49m\u001b[43mcatch\u001b[49m\u001b[38;5;241;43m=\u001b[39;49m\u001b[38;5;28;43mtuple\u001b[39;49m\u001b[43m(\u001b[49m\u001b[43mcatch\u001b[49m\u001b[43m)\u001b[49m\u001b[43m \u001b[49m\u001b[38;5;28;43;01mif\u001b[39;49;00m\u001b[43m \u001b[49m\u001b[38;5;28;43misinstance\u001b[39;49m\u001b[43m(\u001b[49m\u001b[43mcatch\u001b[49m\u001b[43m,\u001b[49m\u001b[43m \u001b[49m\u001b[43mIterable\u001b[49m\u001b[43m)\u001b[49m\u001b[43m \u001b[49m\u001b[38;5;28;43;01melse\u001b[39;49;00m\u001b[43m \u001b[49m\u001b[43m(\u001b[49m\u001b[43mcatch\u001b[49m\u001b[43m,\u001b[49m\u001b[43m)\u001b[49m\u001b[43m,\u001b[49m\n\u001b[0;32m    482\u001b[0m \u001b[43m        \u001b[49m\u001b[43mcallbacks\u001b[49m\u001b[38;5;241;43m=\u001b[39;49m\u001b[43mcallbacks\u001b[49m\u001b[43m,\u001b[49m\n\u001b[0;32m    483\u001b[0m \u001b[43m        \u001b[49m\u001b[43mgc_after_trial\u001b[49m\u001b[38;5;241;43m=\u001b[39;49m\u001b[43mgc_after_trial\u001b[49m\u001b[43m,\u001b[49m\n\u001b[0;32m    484\u001b[0m \u001b[43m        \u001b[49m\u001b[43mshow_progress_bar\u001b[49m\u001b[38;5;241;43m=\u001b[39;49m\u001b[43mshow_progress_bar\u001b[49m\u001b[43m,\u001b[49m\n\u001b[0;32m    485\u001b[0m \u001b[43m    \u001b[49m\u001b[43m)\u001b[49m\n",
      "File \u001b[1;32mc:\\Users\\vgius\\anaconda3\\envs\\RecSysFramework\\lib\\site-packages\\optuna\\study\\_optimize.py:63\u001b[0m, in \u001b[0;36m_optimize\u001b[1;34m(study, func, n_trials, timeout, n_jobs, catch, callbacks, gc_after_trial, show_progress_bar)\u001b[0m\n\u001b[0;32m     61\u001b[0m \u001b[38;5;28;01mtry\u001b[39;00m:\n\u001b[0;32m     62\u001b[0m     \u001b[38;5;28;01mif\u001b[39;00m n_jobs \u001b[38;5;241m==\u001b[39m \u001b[38;5;241m1\u001b[39m:\n\u001b[1;32m---> 63\u001b[0m         \u001b[43m_optimize_sequential\u001b[49m\u001b[43m(\u001b[49m\n\u001b[0;32m     64\u001b[0m \u001b[43m            \u001b[49m\u001b[43mstudy\u001b[49m\u001b[43m,\u001b[49m\n\u001b[0;32m     65\u001b[0m \u001b[43m            \u001b[49m\u001b[43mfunc\u001b[49m\u001b[43m,\u001b[49m\n\u001b[0;32m     66\u001b[0m \u001b[43m            \u001b[49m\u001b[43mn_trials\u001b[49m\u001b[43m,\u001b[49m\n\u001b[0;32m     67\u001b[0m \u001b[43m            \u001b[49m\u001b[43mtimeout\u001b[49m\u001b[43m,\u001b[49m\n\u001b[0;32m     68\u001b[0m \u001b[43m            \u001b[49m\u001b[43mcatch\u001b[49m\u001b[43m,\u001b[49m\n\u001b[0;32m     69\u001b[0m \u001b[43m            \u001b[49m\u001b[43mcallbacks\u001b[49m\u001b[43m,\u001b[49m\n\u001b[0;32m     70\u001b[0m \u001b[43m            \u001b[49m\u001b[43mgc_after_trial\u001b[49m\u001b[43m,\u001b[49m\n\u001b[0;32m     71\u001b[0m \u001b[43m            \u001b[49m\u001b[43mreseed_sampler_rng\u001b[49m\u001b[38;5;241;43m=\u001b[39;49m\u001b[38;5;28;43;01mFalse\u001b[39;49;00m\u001b[43m,\u001b[49m\n\u001b[0;32m     72\u001b[0m \u001b[43m            \u001b[49m\u001b[43mtime_start\u001b[49m\u001b[38;5;241;43m=\u001b[39;49m\u001b[38;5;28;43;01mNone\u001b[39;49;00m\u001b[43m,\u001b[49m\n\u001b[0;32m     73\u001b[0m \u001b[43m            \u001b[49m\u001b[43mprogress_bar\u001b[49m\u001b[38;5;241;43m=\u001b[39;49m\u001b[43mprogress_bar\u001b[49m\u001b[43m,\u001b[49m\n\u001b[0;32m     74\u001b[0m \u001b[43m        \u001b[49m\u001b[43m)\u001b[49m\n\u001b[0;32m     75\u001b[0m     \u001b[38;5;28;01melse\u001b[39;00m:\n\u001b[0;32m     76\u001b[0m         \u001b[38;5;28;01mif\u001b[39;00m n_jobs \u001b[38;5;241m==\u001b[39m \u001b[38;5;241m-\u001b[39m\u001b[38;5;241m1\u001b[39m:\n",
      "File \u001b[1;32mc:\\Users\\vgius\\anaconda3\\envs\\RecSysFramework\\lib\\site-packages\\optuna\\study\\_optimize.py:160\u001b[0m, in \u001b[0;36m_optimize_sequential\u001b[1;34m(study, func, n_trials, timeout, catch, callbacks, gc_after_trial, reseed_sampler_rng, time_start, progress_bar)\u001b[0m\n\u001b[0;32m    157\u001b[0m         \u001b[38;5;28;01mbreak\u001b[39;00m\n\u001b[0;32m    159\u001b[0m \u001b[38;5;28;01mtry\u001b[39;00m:\n\u001b[1;32m--> 160\u001b[0m     frozen_trial \u001b[38;5;241m=\u001b[39m \u001b[43m_run_trial\u001b[49m\u001b[43m(\u001b[49m\u001b[43mstudy\u001b[49m\u001b[43m,\u001b[49m\u001b[43m \u001b[49m\u001b[43mfunc\u001b[49m\u001b[43m,\u001b[49m\u001b[43m \u001b[49m\u001b[43mcatch\u001b[49m\u001b[43m)\u001b[49m\n\u001b[0;32m    161\u001b[0m \u001b[38;5;28;01mfinally\u001b[39;00m:\n\u001b[0;32m    162\u001b[0m     \u001b[38;5;66;03m# The following line mitigates memory problems that can be occurred in some\u001b[39;00m\n\u001b[0;32m    163\u001b[0m     \u001b[38;5;66;03m# environments (e.g., services that use computing containers such as GitHub Actions).\u001b[39;00m\n\u001b[0;32m    164\u001b[0m     \u001b[38;5;66;03m# Please refer to the following PR for further details:\u001b[39;00m\n\u001b[0;32m    165\u001b[0m     \u001b[38;5;66;03m# https://github.com/optuna/optuna/pull/325.\u001b[39;00m\n\u001b[0;32m    166\u001b[0m     \u001b[38;5;28;01mif\u001b[39;00m gc_after_trial:\n",
      "File \u001b[1;32mc:\\Users\\vgius\\anaconda3\\envs\\RecSysFramework\\lib\\site-packages\\optuna\\study\\_optimize.py:248\u001b[0m, in \u001b[0;36m_run_trial\u001b[1;34m(study, func, catch)\u001b[0m\n\u001b[0;32m    241\u001b[0m         \u001b[38;5;28;01massert\u001b[39;00m \u001b[38;5;28;01mFalse\u001b[39;00m, \u001b[38;5;124m\"\u001b[39m\u001b[38;5;124mShould not reach.\u001b[39m\u001b[38;5;124m\"\u001b[39m\n\u001b[0;32m    243\u001b[0m \u001b[38;5;28;01mif\u001b[39;00m (\n\u001b[0;32m    244\u001b[0m     frozen_trial\u001b[38;5;241m.\u001b[39mstate \u001b[38;5;241m==\u001b[39m TrialState\u001b[38;5;241m.\u001b[39mFAIL\n\u001b[0;32m    245\u001b[0m     \u001b[38;5;129;01mand\u001b[39;00m func_err \u001b[38;5;129;01mis\u001b[39;00m \u001b[38;5;129;01mnot\u001b[39;00m \u001b[38;5;28;01mNone\u001b[39;00m\n\u001b[0;32m    246\u001b[0m     \u001b[38;5;129;01mand\u001b[39;00m \u001b[38;5;129;01mnot\u001b[39;00m \u001b[38;5;28misinstance\u001b[39m(func_err, catch)\n\u001b[0;32m    247\u001b[0m ):\n\u001b[1;32m--> 248\u001b[0m     \u001b[38;5;28;01mraise\u001b[39;00m func_err\n\u001b[0;32m    249\u001b[0m \u001b[38;5;28;01mreturn\u001b[39;00m frozen_trial\n",
      "File \u001b[1;32mc:\\Users\\vgius\\anaconda3\\envs\\RecSysFramework\\lib\\site-packages\\optuna\\study\\_optimize.py:197\u001b[0m, in \u001b[0;36m_run_trial\u001b[1;34m(study, func, catch)\u001b[0m\n\u001b[0;32m    195\u001b[0m \u001b[38;5;28;01mwith\u001b[39;00m get_heartbeat_thread(trial\u001b[38;5;241m.\u001b[39m_trial_id, study\u001b[38;5;241m.\u001b[39m_storage):\n\u001b[0;32m    196\u001b[0m     \u001b[38;5;28;01mtry\u001b[39;00m:\n\u001b[1;32m--> 197\u001b[0m         value_or_values \u001b[38;5;241m=\u001b[39m \u001b[43mfunc\u001b[49m\u001b[43m(\u001b[49m\u001b[43mtrial\u001b[49m\u001b[43m)\u001b[49m\n\u001b[0;32m    198\u001b[0m     \u001b[38;5;28;01mexcept\u001b[39;00m exceptions\u001b[38;5;241m.\u001b[39mTrialPruned \u001b[38;5;28;01mas\u001b[39;00m e:\n\u001b[0;32m    199\u001b[0m         \u001b[38;5;66;03m# TODO(mamu): Handle multi-objective cases.\u001b[39;00m\n\u001b[0;32m    200\u001b[0m         state \u001b[38;5;241m=\u001b[39m TrialState\u001b[38;5;241m.\u001b[39mPRUNED\n",
      "Cell \u001b[1;32mIn[40], line 20\u001b[0m, in \u001b[0;36mobjective_function\u001b[1;34m(optuna_trial)\u001b[0m\n\u001b[0;32m     12\u001b[0m gamma \u001b[38;5;241m=\u001b[39m optuna_trial\u001b[38;5;241m.\u001b[39msuggest_uniform(\u001b[38;5;124m'\u001b[39m\u001b[38;5;124mgamma\u001b[39m\u001b[38;5;124m'\u001b[39m, \u001b[38;5;241m0.8\u001b[39m, \u001b[38;5;241m1\u001b[39m)\n\u001b[0;32m     14\u001b[0m recommender_instance\u001b[38;5;241m.\u001b[39mfit(\n\u001b[0;32m     15\u001b[0m     alpha\u001b[38;5;241m=\u001b[39malpha,\n\u001b[0;32m     16\u001b[0m     beta\u001b[38;5;241m=\u001b[39mbeta,\n\u001b[0;32m     17\u001b[0m     gamma\u001b[38;5;241m=\u001b[39mgamma\n\u001b[0;32m     18\u001b[0m )\n\u001b[1;32m---> 20\u001b[0m result_df, _ \u001b[38;5;241m=\u001b[39m \u001b[43mevaluator_test\u001b[49m\u001b[38;5;241;43m.\u001b[39;49m\u001b[43mevaluateRecommender\u001b[49m\u001b[43m(\u001b[49m\u001b[43mrecommender_instance\u001b[49m\u001b[43m)\u001b[49m\n\u001b[0;32m     21\u001b[0m \u001b[38;5;28;01mreturn\u001b[39;00m result_df\u001b[38;5;241m.\u001b[39mloc[\u001b[38;5;241m10\u001b[39m][\u001b[38;5;124m\"\u001b[39m\u001b[38;5;124mMAP\u001b[39m\u001b[38;5;124m\"\u001b[39m]\n",
      "File \u001b[1;32mc:\\Users\\vgius\\Documents\\GitHub\\RECSYS_POLIMI_2024\\1OUR_NOTEBOOKS\\..\\Evaluation\\Evaluator.py:276\u001b[0m, in \u001b[0;36mEvaluator.evaluateRecommender\u001b[1;34m(self, recommender_object)\u001b[0m\n\u001b[0;32m    273\u001b[0m \u001b[38;5;28mself\u001b[39m\u001b[38;5;241m.\u001b[39m_start_time_print \u001b[38;5;241m=\u001b[39m time\u001b[38;5;241m.\u001b[39mtime()\n\u001b[0;32m    274\u001b[0m \u001b[38;5;28mself\u001b[39m\u001b[38;5;241m.\u001b[39m_n_users_evaluated \u001b[38;5;241m=\u001b[39m \u001b[38;5;241m0\u001b[39m\n\u001b[1;32m--> 276\u001b[0m results_dict \u001b[38;5;241m=\u001b[39m \u001b[38;5;28;43mself\u001b[39;49m\u001b[38;5;241;43m.\u001b[39;49m\u001b[43m_run_evaluation_on_selected_users\u001b[49m\u001b[43m(\u001b[49m\u001b[43mrecommender_object\u001b[49m\u001b[43m,\u001b[49m\u001b[43m \u001b[49m\u001b[38;5;28;43mself\u001b[39;49m\u001b[38;5;241;43m.\u001b[39;49m\u001b[43musers_to_evaluate\u001b[49m\u001b[43m)\u001b[49m\n\u001b[0;32m    279\u001b[0m \u001b[38;5;28;01mif\u001b[39;00m \u001b[38;5;28mself\u001b[39m\u001b[38;5;241m.\u001b[39m_n_users_evaluated \u001b[38;5;241m>\u001b[39m \u001b[38;5;241m0\u001b[39m:\n\u001b[0;32m    281\u001b[0m     \u001b[38;5;28;01mfor\u001b[39;00m cutoff \u001b[38;5;129;01min\u001b[39;00m \u001b[38;5;28mself\u001b[39m\u001b[38;5;241m.\u001b[39mcutoff_list:\n",
      "File \u001b[1;32mc:\\Users\\vgius\\Documents\\GitHub\\RECSYS_POLIMI_2024\\1OUR_NOTEBOOKS\\..\\Evaluation\\Evaluator.py:476\u001b[0m, in \u001b[0;36mEvaluatorHoldout._run_evaluation_on_selected_users\u001b[1;34m(self, recommender_object, users_to_evaluate, block_size)\u001b[0m\n\u001b[0;32m    473\u001b[0m     user_batch_start \u001b[38;5;241m=\u001b[39m user_batch_end\n\u001b[0;32m    475\u001b[0m     \u001b[38;5;66;03m# Compute predictions for a batch of users using vectorization, much more efficient than computing it one at a time\u001b[39;00m\n\u001b[1;32m--> 476\u001b[0m     recommended_items_batch_list, scores_batch \u001b[38;5;241m=\u001b[39m \u001b[43mrecommender_object\u001b[49m\u001b[38;5;241;43m.\u001b[39;49m\u001b[43mrecommend\u001b[49m\u001b[43m(\u001b[49m\u001b[43mtest_user_batch_array\u001b[49m\u001b[43m,\u001b[49m\n\u001b[0;32m    477\u001b[0m \u001b[43m                                                              \u001b[49m\u001b[43mremove_seen_flag\u001b[49m\u001b[38;5;241;43m=\u001b[39;49m\u001b[38;5;28;43mself\u001b[39;49m\u001b[38;5;241;43m.\u001b[39;49m\u001b[43mexclude_seen\u001b[49m\u001b[43m,\u001b[49m\n\u001b[0;32m    478\u001b[0m \u001b[43m                                                              \u001b[49m\u001b[43mcutoff\u001b[49m\u001b[43m \u001b[49m\u001b[38;5;241;43m=\u001b[39;49m\u001b[43m \u001b[49m\u001b[38;5;28;43mself\u001b[39;49m\u001b[38;5;241;43m.\u001b[39;49m\u001b[43mmax_cutoff\u001b[49m\u001b[43m,\u001b[49m\n\u001b[0;32m    479\u001b[0m \u001b[43m                                                              \u001b[49m\u001b[43mremove_top_pop_flag\u001b[49m\u001b[38;5;241;43m=\u001b[39;49m\u001b[38;5;28;43;01mFalse\u001b[39;49;00m\u001b[43m,\u001b[49m\n\u001b[0;32m    480\u001b[0m \u001b[43m                                                              \u001b[49m\u001b[43mremove_custom_items_flag\u001b[49m\u001b[38;5;241;43m=\u001b[39;49m\u001b[38;5;28;43mself\u001b[39;49m\u001b[38;5;241;43m.\u001b[39;49m\u001b[43mignore_items_flag\u001b[49m\u001b[43m,\u001b[49m\n\u001b[0;32m    481\u001b[0m \u001b[43m                                                              \u001b[49m\u001b[43mreturn_scores\u001b[49m\u001b[43m \u001b[49m\u001b[38;5;241;43m=\u001b[39;49m\u001b[43m \u001b[49m\u001b[38;5;28;43;01mTrue\u001b[39;49;00m\n\u001b[0;32m    482\u001b[0m \u001b[43m                                                             \u001b[49m\u001b[43m)\u001b[49m\n\u001b[0;32m    484\u001b[0m     results_dict \u001b[38;5;241m=\u001b[39m \u001b[38;5;28mself\u001b[39m\u001b[38;5;241m.\u001b[39m_compute_metrics_on_recommendation_list(test_user_batch_array \u001b[38;5;241m=\u001b[39m test_user_batch_array,\n\u001b[0;32m    485\u001b[0m                                                  recommended_items_batch_list \u001b[38;5;241m=\u001b[39m recommended_items_batch_list,\n\u001b[0;32m    486\u001b[0m                                                  scores_batch \u001b[38;5;241m=\u001b[39m scores_batch,\n\u001b[0;32m    487\u001b[0m                                                  results_dict \u001b[38;5;241m=\u001b[39m results_dict)\n\u001b[0;32m    490\u001b[0m \u001b[38;5;28;01mreturn\u001b[39;00m results_dict\n",
      "File \u001b[1;32mc:\\Users\\vgius\\Documents\\GitHub\\RECSYS_POLIMI_2024\\1OUR_NOTEBOOKS\\..\\Recommenders\\BaseRecommender.py:147\u001b[0m, in \u001b[0;36mBaseRecommender.recommend\u001b[1;34m(self, user_id_array, cutoff, remove_seen_flag, items_to_compute, remove_top_pop_flag, remove_custom_items_flag, return_scores)\u001b[0m\n\u001b[0;32m    143\u001b[0m cutoff \u001b[38;5;241m=\u001b[39m \u001b[38;5;28mmin\u001b[39m(cutoff, \u001b[38;5;28mself\u001b[39m\u001b[38;5;241m.\u001b[39mURM_train\u001b[38;5;241m.\u001b[39mshape[\u001b[38;5;241m1\u001b[39m] \u001b[38;5;241m-\u001b[39m \u001b[38;5;241m1\u001b[39m)\n\u001b[0;32m    145\u001b[0m \u001b[38;5;66;03m# Compute the scores using the model-specific function\u001b[39;00m\n\u001b[0;32m    146\u001b[0m \u001b[38;5;66;03m# Vectorize over all users in user_id_array\u001b[39;00m\n\u001b[1;32m--> 147\u001b[0m scores_batch \u001b[38;5;241m=\u001b[39m \u001b[38;5;28;43mself\u001b[39;49m\u001b[38;5;241;43m.\u001b[39;49m\u001b[43m_compute_item_score\u001b[49m\u001b[43m(\u001b[49m\u001b[43muser_id_array\u001b[49m\u001b[43m,\u001b[49m\u001b[43m \u001b[49m\u001b[43mitems_to_compute\u001b[49m\u001b[38;5;241;43m=\u001b[39;49m\u001b[43mitems_to_compute\u001b[49m\u001b[43m)\u001b[49m\n\u001b[0;32m    150\u001b[0m \u001b[38;5;28;01mfor\u001b[39;00m user_index \u001b[38;5;129;01min\u001b[39;00m \u001b[38;5;28mrange\u001b[39m(\u001b[38;5;28mlen\u001b[39m(user_id_array)):\n\u001b[0;32m    152\u001b[0m     user_id \u001b[38;5;241m=\u001b[39m user_id_array[user_index]\n",
      "Cell \u001b[1;32mIn[34], line 29\u001b[0m, in \u001b[0;36mW4HybridRecommender._compute_item_score\u001b[1;34m(self, user_id_array, items_to_compute)\u001b[0m\n\u001b[0;32m     26\u001b[0m \u001b[38;5;28;01mdef\u001b[39;00m \u001b[38;5;21m_compute_item_score\u001b[39m(\u001b[38;5;28mself\u001b[39m, user_id_array, items_to_compute):\n\u001b[0;32m     27\u001b[0m     \n\u001b[0;32m     28\u001b[0m     \u001b[38;5;66;03m# In a simple extension this could be a loop over a list of pretrained recommender objects\u001b[39;00m\n\u001b[1;32m---> 29\u001b[0m     item_weights_1 \u001b[38;5;241m=\u001b[39m \u001b[38;5;28;43mself\u001b[39;49m\u001b[38;5;241;43m.\u001b[39;49m\u001b[43mrec\u001b[49m\u001b[38;5;241;43m.\u001b[39;49m\u001b[43m_compute_item_score\u001b[49m\u001b[43m(\u001b[49m\u001b[43muser_id_array\u001b[49m\u001b[43m)\u001b[49m\n\u001b[0;32m     30\u001b[0m     item_weights_2 \u001b[38;5;241m=\u001b[39m \u001b[38;5;28mself\u001b[39m\u001b[38;5;241m.\u001b[39mrecommend4\u001b[38;5;241m.\u001b[39m_compute_item_score(user_id_array)\n\u001b[0;32m     33\u001b[0m     item_weights \u001b[38;5;241m=\u001b[39m item_weights_1\u001b[38;5;241m*\u001b[39m\u001b[38;5;28mself\u001b[39m\u001b[38;5;241m.\u001b[39mgamma \u001b[38;5;241m+\u001b[39m item_weights_2\u001b[38;5;241m*\u001b[39m(\u001b[38;5;241m1\u001b[39m\u001b[38;5;241m-\u001b[39m\u001b[38;5;28mself\u001b[39m\u001b[38;5;241m.\u001b[39mgamma)\n",
      "File \u001b[1;32mc:\\Users\\vgius\\Documents\\GitHub\\RECSYS_POLIMI_2024\\1OUR_NOTEBOOKS\\..\\Recommenders\\BaseSimilarityMatrixRecommender.py:90\u001b[0m, in \u001b[0;36mBaseItemSimilarityMatrixRecommender._compute_item_score\u001b[1;34m(self, user_id_array, items_to_compute)\u001b[0m\n\u001b[0;32m     88\u001b[0m     item_scores[:, items_to_compute] \u001b[38;5;241m=\u001b[39m item_scores_all[:, items_to_compute]\n\u001b[0;32m     89\u001b[0m \u001b[38;5;28;01melse\u001b[39;00m:\n\u001b[1;32m---> 90\u001b[0m     item_scores \u001b[38;5;241m=\u001b[39m \u001b[43muser_profile_array\u001b[49m\u001b[38;5;241;43m.\u001b[39;49m\u001b[43mdot\u001b[49m\u001b[43m(\u001b[49m\u001b[38;5;28;43mself\u001b[39;49m\u001b[38;5;241;43m.\u001b[39;49m\u001b[43mW_sparse\u001b[49m\u001b[43m)\u001b[49m\u001b[38;5;241m.\u001b[39mtoarray()\n\u001b[0;32m     92\u001b[0m \u001b[38;5;28;01mreturn\u001b[39;00m item_scores\n",
      "File \u001b[1;32mc:\\Users\\vgius\\anaconda3\\envs\\RecSysFramework\\lib\\site-packages\\scipy\\sparse\\_base.py:416\u001b[0m, in \u001b[0;36mspmatrix.dot\u001b[1;34m(self, other)\u001b[0m\n\u001b[0;32m    414\u001b[0m     \u001b[38;5;28;01mreturn\u001b[39;00m \u001b[38;5;28mself\u001b[39m \u001b[38;5;241m*\u001b[39m other\n\u001b[0;32m    415\u001b[0m \u001b[38;5;28;01melse\u001b[39;00m:\n\u001b[1;32m--> 416\u001b[0m     \u001b[38;5;28;01mreturn\u001b[39;00m \u001b[38;5;28;43mself\u001b[39;49m\u001b[43m \u001b[49m\u001b[38;5;241;43m@\u001b[39;49m\u001b[43m \u001b[49m\u001b[43mother\u001b[49m\n",
      "File \u001b[1;32mc:\\Users\\vgius\\anaconda3\\envs\\RecSysFramework\\lib\\site-packages\\scipy\\sparse\\_base.py:623\u001b[0m, in \u001b[0;36mspmatrix.__matmul__\u001b[1;34m(self, other)\u001b[0m\n\u001b[0;32m    620\u001b[0m \u001b[38;5;28;01mif\u001b[39;00m isscalarlike(other):\n\u001b[0;32m    621\u001b[0m     \u001b[38;5;28;01mraise\u001b[39;00m \u001b[38;5;167;01mValueError\u001b[39;00m(\u001b[38;5;124m\"\u001b[39m\u001b[38;5;124mScalar operands are not allowed, \u001b[39m\u001b[38;5;124m\"\u001b[39m\n\u001b[0;32m    622\u001b[0m                      \u001b[38;5;124m\"\u001b[39m\u001b[38;5;124muse \u001b[39m\u001b[38;5;124m'\u001b[39m\u001b[38;5;124m*\u001b[39m\u001b[38;5;124m'\u001b[39m\u001b[38;5;124m instead\u001b[39m\u001b[38;5;124m\"\u001b[39m)\n\u001b[1;32m--> 623\u001b[0m \u001b[38;5;28;01mreturn\u001b[39;00m \u001b[38;5;28;43mself\u001b[39;49m\u001b[38;5;241;43m.\u001b[39;49m\u001b[43m_mul_dispatch\u001b[49m\u001b[43m(\u001b[49m\u001b[43mother\u001b[49m\u001b[43m)\u001b[49m\n",
      "File \u001b[1;32mc:\\Users\\vgius\\anaconda3\\envs\\RecSysFramework\\lib\\site-packages\\scipy\\sparse\\_base.py:537\u001b[0m, in \u001b[0;36mspmatrix._mul_dispatch\u001b[1;34m(self, other)\u001b[0m\n\u001b[0;32m    535\u001b[0m     \u001b[38;5;28;01mif\u001b[39;00m \u001b[38;5;28mself\u001b[39m\u001b[38;5;241m.\u001b[39mshape[\u001b[38;5;241m1\u001b[39m] \u001b[38;5;241m!=\u001b[39m other\u001b[38;5;241m.\u001b[39mshape[\u001b[38;5;241m0\u001b[39m]:\n\u001b[0;32m    536\u001b[0m         \u001b[38;5;28;01mraise\u001b[39;00m \u001b[38;5;167;01mValueError\u001b[39;00m(\u001b[38;5;124m'\u001b[39m\u001b[38;5;124mdimension mismatch\u001b[39m\u001b[38;5;124m'\u001b[39m)\n\u001b[1;32m--> 537\u001b[0m     \u001b[38;5;28;01mreturn\u001b[39;00m \u001b[38;5;28;43mself\u001b[39;49m\u001b[38;5;241;43m.\u001b[39;49m\u001b[43m_mul_sparse_matrix\u001b[49m\u001b[43m(\u001b[49m\u001b[43mother\u001b[49m\u001b[43m)\u001b[49m\n\u001b[0;32m    539\u001b[0m \u001b[38;5;66;03m# If it's a list or whatever, treat it like a matrix\u001b[39;00m\n\u001b[0;32m    540\u001b[0m other_a \u001b[38;5;241m=\u001b[39m np\u001b[38;5;241m.\u001b[39masanyarray(other)\n",
      "File \u001b[1;32mc:\\Users\\vgius\\anaconda3\\envs\\RecSysFramework\\lib\\site-packages\\scipy\\sparse\\_compressed.py:533\u001b[0m, in \u001b[0;36m_cs_matrix._mul_sparse_matrix\u001b[1;34m(self, other)\u001b[0m\n\u001b[0;32m    530\u001b[0m data \u001b[38;5;241m=\u001b[39m np\u001b[38;5;241m.\u001b[39mempty(nnz, dtype\u001b[38;5;241m=\u001b[39mupcast(\u001b[38;5;28mself\u001b[39m\u001b[38;5;241m.\u001b[39mdtype, other\u001b[38;5;241m.\u001b[39mdtype))\n\u001b[0;32m    532\u001b[0m fn \u001b[38;5;241m=\u001b[39m \u001b[38;5;28mgetattr\u001b[39m(_sparsetools, \u001b[38;5;28mself\u001b[39m\u001b[38;5;241m.\u001b[39mformat \u001b[38;5;241m+\u001b[39m \u001b[38;5;124m'\u001b[39m\u001b[38;5;124m_matmat\u001b[39m\u001b[38;5;124m'\u001b[39m)\n\u001b[1;32m--> 533\u001b[0m \u001b[43mfn\u001b[49m\u001b[43m(\u001b[49m\u001b[43mM\u001b[49m\u001b[43m,\u001b[49m\u001b[43m \u001b[49m\u001b[43mN\u001b[49m\u001b[43m,\u001b[49m\u001b[43m \u001b[49m\u001b[43mnp\u001b[49m\u001b[38;5;241;43m.\u001b[39;49m\u001b[43masarray\u001b[49m\u001b[43m(\u001b[49m\u001b[38;5;28;43mself\u001b[39;49m\u001b[38;5;241;43m.\u001b[39;49m\u001b[43mindptr\u001b[49m\u001b[43m,\u001b[49m\u001b[43m \u001b[49m\u001b[43mdtype\u001b[49m\u001b[38;5;241;43m=\u001b[39;49m\u001b[43midx_dtype\u001b[49m\u001b[43m)\u001b[49m\u001b[43m,\u001b[49m\n\u001b[0;32m    534\u001b[0m \u001b[43m   \u001b[49m\u001b[43mnp\u001b[49m\u001b[38;5;241;43m.\u001b[39;49m\u001b[43masarray\u001b[49m\u001b[43m(\u001b[49m\u001b[38;5;28;43mself\u001b[39;49m\u001b[38;5;241;43m.\u001b[39;49m\u001b[43mindices\u001b[49m\u001b[43m,\u001b[49m\u001b[43m \u001b[49m\u001b[43mdtype\u001b[49m\u001b[38;5;241;43m=\u001b[39;49m\u001b[43midx_dtype\u001b[49m\u001b[43m)\u001b[49m\u001b[43m,\u001b[49m\n\u001b[0;32m    535\u001b[0m \u001b[43m   \u001b[49m\u001b[38;5;28;43mself\u001b[39;49m\u001b[38;5;241;43m.\u001b[39;49m\u001b[43mdata\u001b[49m\u001b[43m,\u001b[49m\n\u001b[0;32m    536\u001b[0m \u001b[43m   \u001b[49m\u001b[43mnp\u001b[49m\u001b[38;5;241;43m.\u001b[39;49m\u001b[43masarray\u001b[49m\u001b[43m(\u001b[49m\u001b[43mother\u001b[49m\u001b[38;5;241;43m.\u001b[39;49m\u001b[43mindptr\u001b[49m\u001b[43m,\u001b[49m\u001b[43m \u001b[49m\u001b[43mdtype\u001b[49m\u001b[38;5;241;43m=\u001b[39;49m\u001b[43midx_dtype\u001b[49m\u001b[43m)\u001b[49m\u001b[43m,\u001b[49m\n\u001b[0;32m    537\u001b[0m \u001b[43m   \u001b[49m\u001b[43mnp\u001b[49m\u001b[38;5;241;43m.\u001b[39;49m\u001b[43masarray\u001b[49m\u001b[43m(\u001b[49m\u001b[43mother\u001b[49m\u001b[38;5;241;43m.\u001b[39;49m\u001b[43mindices\u001b[49m\u001b[43m,\u001b[49m\u001b[43m \u001b[49m\u001b[43mdtype\u001b[49m\u001b[38;5;241;43m=\u001b[39;49m\u001b[43midx_dtype\u001b[49m\u001b[43m)\u001b[49m\u001b[43m,\u001b[49m\n\u001b[0;32m    538\u001b[0m \u001b[43m   \u001b[49m\u001b[43mother\u001b[49m\u001b[38;5;241;43m.\u001b[39;49m\u001b[43mdata\u001b[49m\u001b[43m,\u001b[49m\n\u001b[0;32m    539\u001b[0m \u001b[43m   \u001b[49m\u001b[43mindptr\u001b[49m\u001b[43m,\u001b[49m\u001b[43m \u001b[49m\u001b[43mindices\u001b[49m\u001b[43m,\u001b[49m\u001b[43m \u001b[49m\u001b[43mdata\u001b[49m\u001b[43m)\u001b[49m\n\u001b[0;32m    541\u001b[0m \u001b[38;5;28;01mreturn\u001b[39;00m \u001b[38;5;28mself\u001b[39m\u001b[38;5;241m.\u001b[39m\u001b[38;5;18m__class__\u001b[39m((data, indices, indptr), shape\u001b[38;5;241m=\u001b[39m(M, N))\n",
      "\u001b[1;31mKeyboardInterrupt\u001b[0m: "
     ]
    }
   ],
   "source": [
    "optuna_study = optuna.create_study(direction=\"maximize\")\n",
    "\n",
    "# Inizializzazione del callback per salvare progressivamente i risultati\n",
    "save_results = SaveResults(save_path=\"optuna_progressSLIMRP3EASE_Rals2.csv\")\n",
    "\n",
    "# Esecuzione dell'ottimizzazione\n",
    "optuna_study.optimize(\n",
    "    objective_function,\n",
    "    callbacks=[save_results],\n",
    "    n_trials=400\n",
    ")"
   ]
  },
  {
   "cell_type": "code",
   "execution_count": 42,
   "metadata": {},
   "outputs": [
    {
     "data": {
      "text/html": [
       "<div>\n",
       "<style scoped>\n",
       "    .dataframe tbody tr th:only-of-type {\n",
       "        vertical-align: middle;\n",
       "    }\n",
       "\n",
       "    .dataframe tbody tr th {\n",
       "        vertical-align: top;\n",
       "    }\n",
       "\n",
       "    .dataframe thead th {\n",
       "        text-align: right;\n",
       "    }\n",
       "</style>\n",
       "<table border=\"1\" class=\"dataframe\">\n",
       "  <thead>\n",
       "    <tr style=\"text-align: right;\">\n",
       "      <th></th>\n",
       "      <th>trial_number</th>\n",
       "      <th>value</th>\n",
       "      <th>params</th>\n",
       "    </tr>\n",
       "  </thead>\n",
       "  <tbody>\n",
       "    <tr>\n",
       "      <th>124</th>\n",
       "      <td>124</td>\n",
       "      <td>0.062365</td>\n",
       "      <td>{'alpha': 0.6153342470415742, 'beta': 0.243917...</td>\n",
       "    </tr>\n",
       "    <tr>\n",
       "      <th>176</th>\n",
       "      <td>176</td>\n",
       "      <td>0.062361</td>\n",
       "      <td>{'alpha': 0.6177253394844043, 'beta': 0.245505...</td>\n",
       "    </tr>\n",
       "    <tr>\n",
       "      <th>122</th>\n",
       "      <td>122</td>\n",
       "      <td>0.062361</td>\n",
       "      <td>{'alpha': 0.6156564719491163, 'beta': 0.244421...</td>\n",
       "    </tr>\n",
       "    <tr>\n",
       "      <th>110</th>\n",
       "      <td>110</td>\n",
       "      <td>0.062360</td>\n",
       "      <td>{'alpha': 0.6108025334472509, 'beta': 0.244691...</td>\n",
       "    </tr>\n",
       "    <tr>\n",
       "      <th>137</th>\n",
       "      <td>137</td>\n",
       "      <td>0.062355</td>\n",
       "      <td>{'alpha': 0.6039889642591557, 'beta': 0.242712...</td>\n",
       "    </tr>\n",
       "    <tr>\n",
       "      <th>...</th>\n",
       "      <td>...</td>\n",
       "      <td>...</td>\n",
       "      <td>...</td>\n",
       "    </tr>\n",
       "    <tr>\n",
       "      <th>7</th>\n",
       "      <td>7</td>\n",
       "      <td>0.061891</td>\n",
       "      <td>{'alpha': 0.5090686683781133, 'beta': 0.252730...</td>\n",
       "    </tr>\n",
       "    <tr>\n",
       "      <th>5</th>\n",
       "      <td>5</td>\n",
       "      <td>0.061889</td>\n",
       "      <td>{'alpha': 0.6285915942269922, 'beta': 0.276335...</td>\n",
       "    </tr>\n",
       "    <tr>\n",
       "      <th>116</th>\n",
       "      <td>116</td>\n",
       "      <td>0.061848</td>\n",
       "      <td>{'alpha': 0.6186800711035859, 'beta': 0.251945...</td>\n",
       "    </tr>\n",
       "    <tr>\n",
       "      <th>50</th>\n",
       "      <td>50</td>\n",
       "      <td>0.061801</td>\n",
       "      <td>{'alpha': 0.5838800167035303, 'beta': 0.273875...</td>\n",
       "    </tr>\n",
       "    <tr>\n",
       "      <th>44</th>\n",
       "      <td>44</td>\n",
       "      <td>0.061651</td>\n",
       "      <td>{'alpha': 0.6526868562948608, 'beta': 0.282761...</td>\n",
       "    </tr>\n",
       "  </tbody>\n",
       "</table>\n",
       "<p>201 rows × 3 columns</p>\n",
       "</div>"
      ],
      "text/plain": [
       "     trial_number     value                                             params\n",
       "124           124  0.062365  {'alpha': 0.6153342470415742, 'beta': 0.243917...\n",
       "176           176  0.062361  {'alpha': 0.6177253394844043, 'beta': 0.245505...\n",
       "122           122  0.062361  {'alpha': 0.6156564719491163, 'beta': 0.244421...\n",
       "110           110  0.062360  {'alpha': 0.6108025334472509, 'beta': 0.244691...\n",
       "137           137  0.062355  {'alpha': 0.6039889642591557, 'beta': 0.242712...\n",
       "..            ...       ...                                                ...\n",
       "7               7  0.061891  {'alpha': 0.5090686683781133, 'beta': 0.252730...\n",
       "5               5  0.061889  {'alpha': 0.6285915942269922, 'beta': 0.276335...\n",
       "116           116  0.061848  {'alpha': 0.6186800711035859, 'beta': 0.251945...\n",
       "50             50  0.061801  {'alpha': 0.5838800167035303, 'beta': 0.273875...\n",
       "44             44  0.061651  {'alpha': 0.6526868562948608, 'beta': 0.282761...\n",
       "\n",
       "[201 rows x 3 columns]"
      ]
     },
     "metadata": {},
     "output_type": "display_data"
    },
    {
     "name": "stdout",
     "output_type": "stream",
     "text": [
      "File ordinato salvato come nome_del_file_ordinato4.csv\n"
     ]
    }
   ],
   "source": [
    "import pandas as pd\n",
    "\n",
    "# Leggi il file CSV\n",
    "csv_file = \"optuna_progressSLIMRP3EASE_Rals2.csv\"  # Sostituisci con il nome effettivo del file\n",
    "df = pd.read_csv(csv_file)\n",
    "\n",
    "# Ordina il DataFrame in base alla colonna 'value' in ordine decrescente\n",
    "df_sorted = df.sort_values(by=\"value\", ascending=False)\n",
    "\n",
    "# Mostra il DataFrame ordinato (opzionale)\n",
    "display(df_sorted)\n",
    "\n",
    "# Salva il DataFrame ordinato in un nuovo file CSV\n",
    "sorted_csv_file = \"nome_del_file_ordinato4.csv\"  # Sostituisci con il nome desiderato\n",
    "df_sorted.to_csv(sorted_csv_file, index=False)\n",
    "\n",
    "print(f\"File ordinato salvato come {sorted_csv_file}\")\n"
   ]
  }
 ],
 "metadata": {
  "kernelspec": {
   "display_name": "RecSysFramework",
   "language": "python",
   "name": "python3"
  },
  "language_info": {
   "codemirror_mode": {
    "name": "ipython",
    "version": 3
   },
   "file_extension": ".py",
   "mimetype": "text/x-python",
   "name": "python",
   "nbconvert_exporter": "python",
   "pygments_lexer": "ipython3",
   "version": "3.8.20"
  }
 },
 "nbformat": 4,
 "nbformat_minor": 2
}
