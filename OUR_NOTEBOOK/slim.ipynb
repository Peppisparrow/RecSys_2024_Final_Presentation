{
 "cells": [
  {
   "cell_type": "code",
   "execution_count": 1,
   "metadata": {},
   "outputs": [
    {
     "name": "stdout",
     "output_type": "stream",
     "text": [
      "URM_train (80% of URM_ALL):\n",
      "   user_id  item_id  data\n",
      "0     1523    11379   1.0\n",
      "1     3415    29647   1.0\n",
      "2     6571    11101   1.0\n",
      "3    31036    17962   1.0\n",
      "4    22131    20291   1.0\n",
      "5    25670    32878   1.0\n",
      "6     6677    30720   1.0\n",
      "7    23612    35978   1.0\n",
      "8    17411     9221   1.0\n",
      "9    16720     2668   1.0\n",
      "\n",
      "URM_validation (20% of URM_ALL):\n",
      "   user_id  item_id  data\n",
      "0    23345    37683   1.0\n",
      "1    16471     1559   1.0\n",
      "2    19988     6956   1.0\n",
      "3     8833      614   1.0\n",
      "4    23100    20305   1.0\n",
      "5     7748      117   1.0\n",
      "6    22148    35968   1.0\n",
      "7    29212    33031   1.0\n",
      "8    17563    34624   1.0\n",
      "9     9451     9732   1.0\n",
      "\n",
      "URM_test (20% of URM_ALL):\n",
      "   user_id  item_id  data\n",
      "0    18939     8673   1.0\n",
      "1     4669     2436   1.0\n",
      "2    20972    25295   1.0\n",
      "3    22394    23927   1.0\n",
      "4     3680    24294   1.0\n",
      "5    24013    14508   1.0\n",
      "6     7203     5330   1.0\n",
      "7    34271    35125   1.0\n",
      "8     7511     8894   1.0\n",
      "9    17839    20469   1.0\n"
     ]
    }
   ],
   "source": [
    "from Evaluation.Evaluator import EvaluatorHoldout\n",
    "from sklearn.model_selection import train_test_split\n",
    "import pandas as pd\n",
    "import numpy as np\n",
    "from scipy.sparse import csr_matrix\n",
    "\n",
    "URM_all_dataframe = pd.read_csv(filepath_or_buffer=\"1OUR_NOTEBOOKS/data_train.csv\")\n",
    "ICM_all = pd.read_csv(filepath_or_buffer=\"1OUR_NOTEBOOKS/data_ICM_metadata.csv\")\n",
    "URM_all_dataframe.head(n=10)\n",
    "\n",
    "\n",
    "URM_train_validation, URM_test = train_test_split(URM_all_dataframe, test_size=0.2, random_state=42)\n",
    "URM_train, URM_validation = train_test_split(URM_train_validation, test_size=0.2, random_state=42)\n",
    "\n",
    "# Reset indices for cleaner output (optional)\n",
    "URM_test = URM_test.reset_index(drop=True)\n",
    "URM_validation = URM_validation.reset_index(drop=True)\n",
    "URM_train = URM_train.reset_index(drop=True)\n",
    "URM_train_validation = URM_train_validation.reset_index(drop=True)\n",
    "\n",
    "# Display the results\n",
    "print(\"URM_train (80% of URM_ALL):\")\n",
    "print(URM_train.head(n=10))\n",
    "\n",
    "print(\"\\nURM_validation (20% of URM_ALL):\")\n",
    "print(URM_validation.head(n=10))\n",
    "\n",
    "print(\"\\nURM_test (20% of URM_ALL):\")\n",
    "print(URM_test.head(n=10))\n"
   ]
  },
  {
   "cell_type": "code",
   "execution_count": 2,
   "metadata": {},
   "outputs": [
    {
     "name": "stdout",
     "output_type": "stream",
     "text": [
      "EvaluatorHoldout: Ignoring 401 ( 1.1%) Users that have less than 1 test interactions\n",
      "EvaluatorHoldout: Ignoring 152 ( 0.4%) Users that have less than 1 test interactions\n"
     ]
    }
   ],
   "source": [
    "URM_all_dataframe = csr_matrix((URM_all_dataframe['data'], (URM_all_dataframe['user_id'], URM_all_dataframe['item_id'])))\n",
    "URM_train = csr_matrix((URM_train['data'], (URM_train['user_id'], URM_train['item_id'])))\n",
    "URM_validation = csr_matrix((URM_validation['data'], (URM_validation['user_id'], URM_validation['item_id'])))\n",
    "URM_test = csr_matrix((URM_test['data'], (URM_test['user_id'], URM_test['item_id'])))\n",
    "URM_train_validation = csr_matrix((URM_train_validation['data'], (URM_train_validation['user_id'], URM_train_validation['item_id'])))\n",
    "ICM_all = csr_matrix((ICM_all['data'], (ICM_all['item_id'], ICM_all['feature_id'])))\n",
    "\n",
    "#evaluator_validation = EvaluatorHoldout(URM_test, cutoff_list=[10])\n",
    "evaluator_validation = EvaluatorHoldout(URM_validation, cutoff_list=[10])\n",
    "evaluator_test = EvaluatorHoldout(URM_test, cutoff_list=[10])"
   ]
  },
  {
   "cell_type": "code",
   "execution_count": null,
   "metadata": {},
   "outputs": [
    {
     "name": "stderr",
     "output_type": "stream",
     "text": [
      "[I 2024-12-01 14:00:49,612] A new study created in memory with name: no-name-3390f014-3d1d-47e0-9d34-233783c757b3\n",
      "Progress: 100%|██████████| 38121/38121 [14:19<00:00, 44.36items/s] \n"
     ]
    },
    {
     "name": "stdout",
     "output_type": "stream",
     "text": [
      "EvaluatorHoldout: Processed 35584 (100.0%) in 12.64 sec. Users per second: 2815\n"
     ]
    },
    {
     "name": "stderr",
     "output_type": "stream",
     "text": [
      "[I 2024-12-01 14:15:21,895] Trial 0 finished with value: 0.0607631640223513 and parameters: {'topK': 170}. Best is trial 0 with value: 0.0607631640223513.\n",
      "Progress:   0%|          | 0/38121 [00:00<?, ?items/s]"
     ]
    },
    {
     "name": "stdout",
     "output_type": "stream",
     "text": [
      "MAP ottenuto: 0.0607631640223513 (topK=170)\n"
     ]
    },
    {
     "name": "stderr",
     "output_type": "stream",
     "text": [
      "Progress: 100%|██████████| 38121/38121 [14:27<00:00, 43.94items/s] \n"
     ]
    },
    {
     "name": "stdout",
     "output_type": "stream",
     "text": [
      "EvaluatorHoldout: Processed 35584 (100.0%) in 12.79 sec. Users per second: 2783\n"
     ]
    },
    {
     "name": "stderr",
     "output_type": "stream",
     "text": [
      "[I 2024-12-01 14:30:02,658] Trial 1 finished with value: 0.06077731899301758 and parameters: {'topK': 188}. Best is trial 1 with value: 0.06077731899301758.\n",
      "Progress:   0%|          | 0/38121 [00:00<?, ?items/s]"
     ]
    },
    {
     "name": "stdout",
     "output_type": "stream",
     "text": [
      "MAP ottenuto: 0.06077731899301758 (topK=188)\n"
     ]
    },
    {
     "name": "stderr",
     "output_type": "stream",
     "text": [
      "Progress: 100%|██████████| 38121/38121 [14:25<00:00, 44.05items/s] \n"
     ]
    },
    {
     "name": "stdout",
     "output_type": "stream",
     "text": [
      "EvaluatorHoldout: Processed 35584 (100.0%) in 12.71 sec. Users per second: 2800\n"
     ]
    },
    {
     "name": "stderr",
     "output_type": "stream",
     "text": [
      "[I 2024-12-01 14:44:41,128] Trial 2 finished with value: 0.06067908619532726 and parameters: {'topK': 125}. Best is trial 1 with value: 0.06077731899301758.\n",
      "Progress:   0%|          | 0/38121 [00:00<?, ?items/s]"
     ]
    },
    {
     "name": "stdout",
     "output_type": "stream",
     "text": [
      "MAP ottenuto: 0.06067908619532726 (topK=125)\n"
     ]
    },
    {
     "name": "stderr",
     "output_type": "stream",
     "text": [
      "Progress: 100%|██████████| 38121/38121 [14:28<00:00, 43.91items/s] \n"
     ]
    },
    {
     "name": "stdout",
     "output_type": "stream",
     "text": [
      "EvaluatorHoldout: Processed 35584 (100.0%) in 12.71 sec. Users per second: 2800\n"
     ]
    },
    {
     "name": "stderr",
     "output_type": "stream",
     "text": [
      "[I 2024-12-01 14:59:22,321] Trial 3 finished with value: 0.06071402141679295 and parameters: {'topK': 139}. Best is trial 1 with value: 0.06077731899301758.\n",
      "Progress:   0%|          | 0/38121 [00:00<?, ?items/s]"
     ]
    },
    {
     "name": "stdout",
     "output_type": "stream",
     "text": [
      "MAP ottenuto: 0.06071402141679295 (topK=139)\n"
     ]
    },
    {
     "name": "stderr",
     "output_type": "stream",
     "text": [
      "Progress: 100%|██████████| 38121/38121 [14:30<00:00, 43.81items/s] \n"
     ]
    },
    {
     "name": "stdout",
     "output_type": "stream",
     "text": [
      "EvaluatorHoldout: Processed 35584 (100.0%) in 12.71 sec. Users per second: 2799\n"
     ]
    },
    {
     "name": "stderr",
     "output_type": "stream",
     "text": [
      "[I 2024-12-01 15:14:05,486] Trial 4 finished with value: 0.060689264436662754 and parameters: {'topK': 132}. Best is trial 1 with value: 0.06077731899301758.\n",
      "Progress:   0%|          | 0/38121 [00:00<?, ?items/s]"
     ]
    },
    {
     "name": "stdout",
     "output_type": "stream",
     "text": [
      "MAP ottenuto: 0.060689264436662754 (topK=132)\n"
     ]
    },
    {
     "name": "stderr",
     "output_type": "stream",
     "text": [
      "Progress: 100%|██████████| 38121/38121 [14:23<00:00, 44.17items/s] \n"
     ]
    },
    {
     "name": "stdout",
     "output_type": "stream",
     "text": [
      "EvaluatorHoldout: Processed 35584 (100.0%) in 12.83 sec. Users per second: 2773\n"
     ]
    },
    {
     "name": "stderr",
     "output_type": "stream",
     "text": [
      "[I 2024-12-01 15:28:41,784] Trial 5 finished with value: 0.06077831819365705 and parameters: {'topK': 189}. Best is trial 5 with value: 0.06077831819365705.\n",
      "Progress:   0%|          | 0/38121 [00:00<?, ?items/s]"
     ]
    },
    {
     "name": "stdout",
     "output_type": "stream",
     "text": [
      "MAP ottenuto: 0.06077831819365705 (topK=189)\n"
     ]
    },
    {
     "name": "stderr",
     "output_type": "stream",
     "text": [
      "Progress: 100%|██████████| 38121/38121 [14:24<00:00, 44.11items/s] \n"
     ]
    },
    {
     "name": "stdout",
     "output_type": "stream",
     "text": [
      "EvaluatorHoldout: Processed 35584 (100.0%) in 12.59 sec. Users per second: 2826\n"
     ]
    },
    {
     "name": "stderr",
     "output_type": "stream",
     "text": [
      "[I 2024-12-01 15:43:18,942] Trial 6 finished with value: 0.06063801191189689 and parameters: {'topK': 116}. Best is trial 5 with value: 0.06077831819365705.\n",
      "Progress:   0%|          | 0/38121 [00:00<?, ?items/s]"
     ]
    },
    {
     "name": "stdout",
     "output_type": "stream",
     "text": [
      "MAP ottenuto: 0.06063801191189689 (topK=116)\n"
     ]
    },
    {
     "name": "stderr",
     "output_type": "stream",
     "text": [
      "Progress: 100%|██████████| 38121/38121 [14:27<00:00, 43.93items/s] \n"
     ]
    },
    {
     "name": "stdout",
     "output_type": "stream",
     "text": [
      "EvaluatorHoldout: Processed 35584 (100.0%) in 12.64 sec. Users per second: 2815\n"
     ]
    },
    {
     "name": "stderr",
     "output_type": "stream",
     "text": [
      "[I 2024-12-01 15:57:59,707] Trial 7 finished with value: 0.06061931704636072 and parameters: {'topK': 112}. Best is trial 5 with value: 0.06077831819365705.\n",
      "Progress:   0%|          | 0/38121 [00:00<?, ?items/s]"
     ]
    },
    {
     "name": "stdout",
     "output_type": "stream",
     "text": [
      "MAP ottenuto: 0.06061931704636072 (topK=112)\n"
     ]
    },
    {
     "name": "stderr",
     "output_type": "stream",
     "text": [
      "Progress: 100%|██████████| 38121/38121 [14:23<00:00, 44.13items/s] \n"
     ]
    },
    {
     "name": "stdout",
     "output_type": "stream",
     "text": [
      "EvaluatorHoldout: Processed 35584 (100.0%) in 12.72 sec. Users per second: 2797\n"
     ]
    },
    {
     "name": "stderr",
     "output_type": "stream",
     "text": [
      "[I 2024-12-01 16:12:36,595] Trial 8 finished with value: 0.06076910123686535 and parameters: {'topK': 177}. Best is trial 5 with value: 0.06077831819365705.\n",
      "Progress:   0%|          | 0/38121 [00:00<?, ?items/s]"
     ]
    },
    {
     "name": "stdout",
     "output_type": "stream",
     "text": [
      "MAP ottenuto: 0.06076910123686535 (topK=177)\n"
     ]
    },
    {
     "name": "stderr",
     "output_type": "stream",
     "text": [
      "Progress: 100%|██████████| 38121/38121 [14:21<00:00, 44.23items/s] \n"
     ]
    },
    {
     "name": "stdout",
     "output_type": "stream",
     "text": [
      "EvaluatorHoldout: Processed 35584 (100.0%) in 12.61 sec. Users per second: 2822\n"
     ]
    },
    {
     "name": "stderr",
     "output_type": "stream",
     "text": [
      "[I 2024-12-01 16:27:11,507] Trial 9 finished with value: 0.06066067235497102 and parameters: {'topK': 120}. Best is trial 5 with value: 0.06077831819365705.\n",
      "Progress:   0%|          | 0/38121 [00:00<?, ?items/s]"
     ]
    },
    {
     "name": "stdout",
     "output_type": "stream",
     "text": [
      "MAP ottenuto: 0.06066067235497102 (topK=120)\n"
     ]
    },
    {
     "name": "stderr",
     "output_type": "stream",
     "text": [
      "Progress: 100%|██████████| 38121/38121 [14:27<00:00, 43.97items/s] \n"
     ]
    },
    {
     "name": "stdout",
     "output_type": "stream",
     "text": [
      "EvaluatorHoldout: Processed 35584 (100.0%) in 12.83 sec. Users per second: 2774\n"
     ]
    },
    {
     "name": "stderr",
     "output_type": "stream",
     "text": [
      "[I 2024-12-01 16:41:51,802] Trial 10 finished with value: 0.06077382067560003 and parameters: {'topK': 199}. Best is trial 5 with value: 0.06077831819365705.\n",
      "Progress:   0%|          | 0/38121 [00:00<?, ?items/s]"
     ]
    },
    {
     "name": "stdout",
     "output_type": "stream",
     "text": [
      "MAP ottenuto: 0.06077382067560003 (topK=199)\n"
     ]
    },
    {
     "name": "stderr",
     "output_type": "stream",
     "text": [
      "Progress: 100%|██████████| 38121/38121 [14:28<00:00, 43.90items/s] \n"
     ]
    },
    {
     "name": "stdout",
     "output_type": "stream",
     "text": [
      "EvaluatorHoldout: Processed 35584 (100.0%) in 12.79 sec. Users per second: 2781\n"
     ]
    },
    {
     "name": "stderr",
     "output_type": "stream",
     "text": [
      "[I 2024-12-01 16:56:33,282] Trial 11 finished with value: 0.06077711491520833 and parameters: {'topK': 198}. Best is trial 5 with value: 0.06077831819365705.\n",
      "Progress:   0%|          | 0/38121 [00:00<?, ?items/s]"
     ]
    },
    {
     "name": "stdout",
     "output_type": "stream",
     "text": [
      "MAP ottenuto: 0.06077711491520833 (topK=198)\n"
     ]
    },
    {
     "name": "stderr",
     "output_type": "stream",
     "text": [
      "Progress: 100%|██████████| 38121/38121 [14:24<00:00, 44.09items/s] \n"
     ]
    },
    {
     "name": "stdout",
     "output_type": "stream",
     "text": [
      "EvaluatorHoldout: Processed 35584 (100.0%) in 12.80 sec. Users per second: 2781\n"
     ]
    },
    {
     "name": "stderr",
     "output_type": "stream",
     "text": [
      "[I 2024-12-01 17:11:11,042] Trial 12 finished with value: 0.06077166503404196 and parameters: {'topK': 171}. Best is trial 5 with value: 0.06077831819365705.\n",
      "Progress:   0%|          | 0/38121 [00:00<?, ?items/s]"
     ]
    },
    {
     "name": "stdout",
     "output_type": "stream",
     "text": [
      "MAP ottenuto: 0.06077166503404196 (topK=171)\n"
     ]
    },
    {
     "name": "stderr",
     "output_type": "stream",
     "text": [
      "Progress: 100%|██████████| 38121/38121 [14:28<00:00, 43.91items/s] \n"
     ]
    },
    {
     "name": "stdout",
     "output_type": "stream",
     "text": [
      "EvaluatorHoldout: Processed 35584 (100.0%) in 12.78 sec. Users per second: 2785\n"
     ]
    },
    {
     "name": "stderr",
     "output_type": "stream",
     "text": [
      "[I 2024-12-01 17:25:52,419] Trial 13 finished with value: 0.060741867443543034 and parameters: {'topK': 155}. Best is trial 5 with value: 0.06077831819365705.\n",
      "Progress:   0%|          | 0/38121 [00:00<?, ?items/s]"
     ]
    },
    {
     "name": "stdout",
     "output_type": "stream",
     "text": [
      "MAP ottenuto: 0.060741867443543034 (topK=155)\n"
     ]
    },
    {
     "name": "stderr",
     "output_type": "stream",
     "text": [
      "Progress: 100%|██████████| 38121/38121 [14:25<00:00, 44.02items/s] \n"
     ]
    },
    {
     "name": "stdout",
     "output_type": "stream",
     "text": [
      "EvaluatorHoldout: Processed 35584 (100.0%) in 12.79 sec. Users per second: 2783\n"
     ]
    },
    {
     "name": "stderr",
     "output_type": "stream",
     "text": [
      "[I 2024-12-01 17:40:31,515] Trial 14 finished with value: 0.06077853342325909 and parameters: {'topK': 186}. Best is trial 14 with value: 0.06077853342325909.\n",
      "Progress:   0%|          | 0/38121 [00:00<?, ?items/s]"
     ]
    },
    {
     "name": "stdout",
     "output_type": "stream",
     "text": [
      "MAP ottenuto: 0.06077853342325909 (topK=186)\n"
     ]
    },
    {
     "name": "stderr",
     "output_type": "stream",
     "text": [
      "Progress: 100%|██████████| 38121/38121 [14:31<00:00, 43.75items/s] \n"
     ]
    },
    {
     "name": "stdout",
     "output_type": "stream",
     "text": [
      "EvaluatorHoldout: Processed 35584 (100.0%) in 12.73 sec. Users per second: 2796\n"
     ]
    },
    {
     "name": "stderr",
     "output_type": "stream",
     "text": [
      "[I 2024-12-01 17:55:15,953] Trial 15 finished with value: 0.06073692273859271 and parameters: {'topK': 154}. Best is trial 14 with value: 0.06077853342325909.\n",
      "Progress:   0%|          | 0/38121 [00:00<?, ?items/s]"
     ]
    },
    {
     "name": "stdout",
     "output_type": "stream",
     "text": [
      "MAP ottenuto: 0.06073692273859271 (topK=154)\n"
     ]
    },
    {
     "name": "stderr",
     "output_type": "stream",
     "text": [
      "Progress: 100%|██████████| 38121/38121 [14:26<00:00, 44.01items/s] \n"
     ]
    },
    {
     "name": "stdout",
     "output_type": "stream",
     "text": [
      "EvaluatorHoldout: Processed 35584 (100.0%) in 12.81 sec. Users per second: 2777\n"
     ]
    },
    {
     "name": "stderr",
     "output_type": "stream",
     "text": [
      "[I 2024-12-01 18:09:55,333] Trial 16 finished with value: 0.060779409954177244 and parameters: {'topK': 185}. Best is trial 16 with value: 0.060779409954177244.\n",
      "Progress:   0%|          | 0/38121 [00:00<?, ?items/s]"
     ]
    },
    {
     "name": "stdout",
     "output_type": "stream",
     "text": [
      "MAP ottenuto: 0.060779409954177244 (topK=185)\n"
     ]
    },
    {
     "name": "stderr",
     "output_type": "stream",
     "text": [
      "Progress: 100%|██████████| 38121/38121 [14:27<00:00, 43.97items/s] \n"
     ]
    },
    {
     "name": "stdout",
     "output_type": "stream",
     "text": [
      "EvaluatorHoldout: Processed 35584 (100.0%) in 12.51 sec. Users per second: 2843\n"
     ]
    },
    {
     "name": "stderr",
     "output_type": "stream",
     "text": [
      "[I 2024-12-01 18:24:35,278] Trial 17 finished with value: 0.06063310177750432 and parameters: {'topK': 101}. Best is trial 16 with value: 0.060779409954177244.\n",
      "Progress:   0%|          | 0/38121 [00:00<?, ?items/s]"
     ]
    },
    {
     "name": "stdout",
     "output_type": "stream",
     "text": [
      "MAP ottenuto: 0.06063310177750432 (topK=101)\n"
     ]
    },
    {
     "name": "stderr",
     "output_type": "stream",
     "text": [
      "Progress: 100%|██████████| 38121/38121 [14:29<00:00, 43.86items/s] \n"
     ]
    },
    {
     "name": "stdout",
     "output_type": "stream",
     "text": [
      "EvaluatorHoldout: Processed 35584 (100.0%) in 12.82 sec. Users per second: 2775\n"
     ]
    },
    {
     "name": "stderr",
     "output_type": "stream",
     "text": [
      "[I 2024-12-01 18:39:17,592] Trial 18 finished with value: 0.06075796840206189 and parameters: {'topK': 163}. Best is trial 16 with value: 0.060779409954177244.\n",
      "Progress:   0%|          | 0/38121 [00:00<?, ?items/s]"
     ]
    },
    {
     "name": "stdout",
     "output_type": "stream",
     "text": [
      "MAP ottenuto: 0.06075796840206189 (topK=163)\n"
     ]
    },
    {
     "name": "stderr",
     "output_type": "stream",
     "text": [
      "Progress: 100%|██████████| 38121/38121 [14:24<00:00, 44.07items/s] \n"
     ]
    },
    {
     "name": "stdout",
     "output_type": "stream",
     "text": [
      "EvaluatorHoldout: Processed 35584 (100.0%) in 12.79 sec. Users per second: 2781\n"
     ]
    },
    {
     "name": "stderr",
     "output_type": "stream",
     "text": [
      "[I 2024-12-01 18:53:55,732] Trial 19 finished with value: 0.06077718182596552 and parameters: {'topK': 182}. Best is trial 16 with value: 0.060779409954177244.\n",
      "Progress:   0%|          | 0/38121 [00:00<?, ?items/s]"
     ]
    },
    {
     "name": "stdout",
     "output_type": "stream",
     "text": [
      "MAP ottenuto: 0.06077718182596552 (topK=182)\n"
     ]
    },
    {
     "name": "stderr",
     "output_type": "stream",
     "text": [
      "Progress:   0%|          | 0/38121 [10:52<?, ?items/s]\n"
     ]
    }
   ],
   "source": [
    "import optuna\n",
    "from Recommenders.SLIM.MSLIMElasticNetRecommender import MultiThreadSLIM_SLIMElasticNetRecommender\n",
    "\n",
    "# Definizione della funzione obiettivo per Optuna\n",
    "def objective(trial):\n",
    "    # Definizione dei parametri da ottimizzare\n",
    "    topK = trial.suggest_int(\"topK\", 100, 200)  # Intervallo tra 1 e 1000\n",
    "    \n",
    "    # Creazione dell'istanza del recommender\n",
    "    recommender_instance = MultiThreadSLIM_SLIMElasticNetRecommender(URM_train_validation)\n",
    "    \n",
    "    recommender_instance.fit(\n",
    "        topK=topK,\n",
    "        l1_ratio=0.49705634165029133, \n",
    "        alpha=9.773610229057873e-05,\n",
    "        positive_only=True,  # Manteniamo fisso questo parametro\n",
    "    )\n",
    "    \n",
    "    # Valutazione delle prestazioni del modello\n",
    "    result_df, _ = evaluator_test.evaluateRecommender(recommender_instance)\n",
    "    map_score = result_df.loc[10][\"MAP\"]  # Estrarre il valore di MAP per k=10\n",
    "    print(f\"MAP ottenuto: {map_score} (topK={topK})\")\n",
    "\n",
    "    return map_score\n",
    "\n",
    "# Creazione dello studio Optuna\n",
    "study = optuna.create_study(direction=\"maximize\")  # Maximizzare MAP\n",
    "study.optimize(objective, n_trials=50)  # Numero di tentativi\n",
    "\n",
    "# Migliori parametri trovati\n",
    "best_params = study.best_params\n",
    "best_score = study.best_value\n",
    "\n",
    "print(f\"Migliori parametri trovati: {best_params}\")\n",
    "print(f\"MAP ottenuto: {best_score}\")\n"
   ]
  }
 ],
 "metadata": {
  "kernelspec": {
   "display_name": "RecSysFramework",
   "language": "python",
   "name": "python3"
  },
  "language_info": {
   "codemirror_mode": {
    "name": "ipython",
    "version": 3
   },
   "file_extension": ".py",
   "mimetype": "text/x-python",
   "name": "python",
   "nbconvert_exporter": "python",
   "pygments_lexer": "ipython3",
   "version": "3.8.20"
  }
 },
 "nbformat": 4,
 "nbformat_minor": 2
}
