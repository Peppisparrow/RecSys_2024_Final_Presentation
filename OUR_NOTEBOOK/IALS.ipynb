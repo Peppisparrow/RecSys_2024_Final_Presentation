{
 "cells": [
  {
   "cell_type": "markdown",
   "id": "1dda399e",
   "metadata": {},
   "source": [
    "### Step 1: Split the data and create the evaluator objects"
   ]
  },
  {
   "cell_type": "code",
   "execution_count": 5,
   "id": "30870283",
   "metadata": {},
   "outputs": [
    {
     "ename": "AttributeError",
     "evalue": "module 'implicit.gpu' has no attribute 'CUDA_AVAILABLE'",
     "output_type": "error",
     "traceback": [
      "\u001b[1;31m---------------------------------------------------------------------------\u001b[0m",
      "\u001b[1;31mAttributeError\u001b[0m                            Traceback (most recent call last)",
      "Cell \u001b[1;32mIn[5], line 4\u001b[0m\n\u001b[0;32m      1\u001b[0m \u001b[38;5;28;01mfrom\u001b[39;00m \u001b[38;5;21;01mimplicit\u001b[39;00m\u001b[38;5;21;01m.\u001b[39;00m\u001b[38;5;21;01mgpu\u001b[39;00m\u001b[38;5;21;01m.\u001b[39;00m\u001b[38;5;21;01mals\u001b[39;00m \u001b[38;5;28;01mimport\u001b[39;00m AlternatingLeastSquares\n\u001b[0;32m      2\u001b[0m \u001b[38;5;28;01mimport\u001b[39;00m \u001b[38;5;21;01mimplicit\u001b[39;00m\n\u001b[1;32m----> 4\u001b[0m \u001b[38;5;28mprint\u001b[39m(\u001b[38;5;124m\"\u001b[39m\u001b[38;5;124mCUDA support in Implicit:\u001b[39m\u001b[38;5;124m\"\u001b[39m, \u001b[43mimplicit\u001b[49m\u001b[38;5;241;43m.\u001b[39;49m\u001b[43mgpu\u001b[49m\u001b[38;5;241;43m.\u001b[39;49m\u001b[43mCUDA_AVAILABLE\u001b[49m)\n",
      "\u001b[1;31mAttributeError\u001b[0m: module 'implicit.gpu' has no attribute 'CUDA_AVAILABLE'"
     ]
    }
   ],
   "source": [
    "from implicit.gpu.als import AlternatingLeastSquares\n",
    "import implicit\n",
    "\n",
    "print(\"CUDA support in Implicit:\", implicit.gpu.CUDA_AVAILABLE)"
   ]
  },
  {
   "cell_type": "code",
   "execution_count": 6,
   "id": "5c33c420",
   "metadata": {},
   "outputs": [
    {
     "name": "stdout",
     "output_type": "stream",
     "text": [
      "True\n"
     ]
    }
   ],
   "source": [
    "import torch\n",
    "print(torch.cuda.is_available())"
   ]
  },
  {
   "cell_type": "code",
   "execution_count": 7,
   "id": "8b8f0249",
   "metadata": {},
   "outputs": [
    {
     "name": "stdout",
     "output_type": "stream",
     "text": [
      "URM_train (80% of URM_ALL):\n",
      "         user_id  item_id  data\n",
      "136935      1523    11379   1.0\n",
      "286638      3415    29647   1.0\n",
      "499343      6571    11101   1.0\n",
      "1612162    31036    17962   1.0\n",
      "1231767    22131    20291   1.0\n",
      "1419045    25670    32878   1.0\n",
      "505970      6677    30720   1.0\n",
      "1309905    23612    35978   1.0\n",
      "1026162    17411     9221   1.0\n",
      "991787     16720     2668   1.0\n",
      "\n",
      "URM_validation (20% of URM_ALL):\n",
      "         user_id  item_id  data\n",
      "1293463    23345    37683   1.0\n",
      "978469     16471     1559   1.0\n",
      "1139447    19988     6956   1.0\n",
      "628101      8833      614   1.0\n",
      "1276102    23100    20305   1.0\n",
      "570596      7748      117   1.0\n",
      "1232901    22148    35968   1.0\n",
      "1544801    29212    33031   1.0\n",
      "1033303    17563    34624   1.0\n",
      "658881      9451     9732   1.0\n",
      "\n",
      "URM_test (20% of URM_ALL):\n",
      "         user_id  item_id  data\n",
      "1092502    18939     8673   1.0\n",
      "367273      4669     2436   1.0\n",
      "1181580    20972    25295   1.0\n",
      "1243868    22394    23927   1.0\n",
      "302903      3680    24294   1.0\n",
      "1337700    24013    14508   1.0\n",
      "534570      7203     5330   1.0\n",
      "1723340    34271    35125   1.0\n",
      "559412      7511     8894   1.0\n",
      "1046032    17839    20469   1.0\n"
     ]
    }
   ],
   "source": [
    "import os\n",
    "import sys\n",
    "sys.path.append(os.path.join(os.path.dirname(\"RECSYS_POLIMI_2024\"), '..'))\n",
    "\n",
    "from Evaluation.Evaluator import EvaluatorHoldout\n",
    "from sklearn.model_selection import train_test_split\n",
    "import pandas as pd\n",
    "import numpy as np\n",
    "from scipy.sparse import csr_matrix\n",
    "\n",
    "URM_all_dataframe = pd.read_csv(filepath_or_buffer=\"data_train.csv\")\n",
    "ICM_all = pd.read_csv(filepath_or_buffer=\"data_ICM_metadata.csv\")\n",
    "URM_all_dataframe.head(n=10)\n",
    "\n",
    "\n",
    "URM_train_validation, URM_test = train_test_split(URM_all_dataframe, test_size=0.2, random_state=42)\n",
    "URM_train, URM_validation = train_test_split(URM_train_validation, test_size=0.2, random_state=42)\n",
    "\n",
    "# # Reset indices for cleaner output (optional)\n",
    "# URM_test = URM_test.reset_index(drop=True)\n",
    "# URM_validation = URM_validation.reset_index(drop=True)\n",
    "# URM_train = URM_train.reset_index(drop=True)\n",
    "# URM_train_validation = URM_train_validation.reset_index(drop=True)\n",
    "\n",
    "# Display the results\n",
    "print(\"URM_train (80% of URM_ALL):\")\n",
    "print(URM_train.head(n=10))\n",
    "\n",
    "print(\"\\nURM_validation (20% of URM_ALL):\")\n",
    "print(URM_validation.head(n=10))\n",
    "\n",
    "print(\"\\nURM_test (20% of URM_ALL):\")\n",
    "print(URM_test.head(n=10))\n"
   ]
  },
  {
   "cell_type": "code",
   "execution_count": 8,
   "id": "02c6d358",
   "metadata": {},
   "outputs": [
    {
     "name": "stdout",
     "output_type": "stream",
     "text": [
      "EvaluatorHoldout: Ignoring 401 ( 1.1%) Users that have less than 1 test interactions\n",
      "EvaluatorHoldout: Ignoring 152 ( 0.4%) Users that have less than 1 test interactions\n"
     ]
    }
   ],
   "source": [
    "URM_all_dataframe = csr_matrix((URM_all_dataframe['data'], (URM_all_dataframe['user_id'], URM_all_dataframe['item_id'])))\n",
    "URM_train = csr_matrix((URM_train['data'], (URM_train['user_id'], URM_train['item_id'])))\n",
    "URM_validation = csr_matrix((URM_validation['data'], (URM_validation['user_id'], URM_validation['item_id'])))\n",
    "URM_test = csr_matrix((URM_test['data'], (URM_test['user_id'], URM_test['item_id'])))\n",
    "URM_train_validation = csr_matrix((URM_train_validation['data'], (URM_train_validation['user_id'], URM_train_validation['item_id'])))\n",
    "ICM_all = csr_matrix((ICM_all['data'], (ICM_all['item_id'], ICM_all['feature_id'])))\n",
    "\n",
    "#evaluator_validation = EvaluatorHoldout(URM_test, cutoff_list=[10])\n",
    "evaluator_validation = EvaluatorHoldout(URM_validation, cutoff_list=[10])\n",
    "evaluator_test = EvaluatorHoldout(URM_test, cutoff_list=[10])"
   ]
  },
  {
   "cell_type": "code",
   "execution_count": 9,
   "id": "598b75fd",
   "metadata": {},
   "outputs": [
    {
     "name": "stdout",
     "output_type": "stream",
     "text": [
      "False\n"
     ]
    }
   ],
   "source": [
    "import implicit.gpu\n",
    "print(implicit.gpu.HAS_CUDA)  # Dovrebbe restituire True"
   ]
  },
  {
   "cell_type": "code",
   "execution_count": 14,
   "id": "5403cba4",
   "metadata": {},
   "outputs": [
    {
     "name": "stdout",
     "output_type": "stream",
     "text": [
      "Using gpu: False\n"
     ]
    },
    {
     "name": "stderr",
     "output_type": "stream",
     "text": [
      "100%|██████████| 6/6 [03:17<00:00, 32.87s/it, loss=0.00634]\n"
     ]
    },
    {
     "name": "stdout",
     "output_type": "stream",
     "text": [
      "EvaluatorHoldout: Processed 35584 (100.0%) in 21.55 sec. Users per second: 1651\n",
      "0.023205030841397897\n"
     ]
    }
   ],
   "source": [
    "from Recommenders.MatrixFactorization.IALSJnoearly import ImplicitALSRecommender\n",
    "model = ImplicitALSRecommender(URM_train_validation)\n",
    "model.fit( epochs=6,\n",
    "                    num_factors=1650,\n",
    "                    confidence_scaling=\"linear\",\n",
    "                    alpha=6,\n",
    "                    epsilon=0.1,\n",
    "                    reg=100,\n",
    "                    use_gpu=False,\n",
    "                    num_threads=11,\n",
    "                    calculate_training_loss=True\n",
    "                    )\n",
    "result_df, _ = evaluator_test.evaluateRecommender(model)\n",
    "print(result_df.loc[10][\"MAP\"])"
   ]
  },
  {
   "cell_type": "code",
   "execution_count": 15,
   "id": "a2a27272",
   "metadata": {},
   "outputs": [],
   "source": [
    "import optuna\n",
    "import pandas as pd\n",
    "def objective_function(optuna_trial):\n",
    "    \n",
    "    als = ImplicitALSRecommender(URM_train_validation)\n",
    "    als.fit( epochs=6,\n",
    "                    num_factors=optuna_trial.suggest_int(\"num_factors\", 1600, 1700),\n",
    "                    confidence_scaling=\"linear\",\n",
    "                    alpha=optuna_trial.suggest_float(\"alpha\", 5, 7),\n",
    "                    epsilon=optuna_trial.suggest_float(\"epsilon\", 0, 1),\n",
    "                    reg=optuna_trial.suggest_float(\"reg\", 0, 10),\n",
    "                    use_gpu=False,\n",
    "                    num_threads=8,\n",
    "                    calculate_training_loss=True\n",
    "                    )\n",
    "    \n",
    "    result_df, _ = evaluator_test.evaluateRecommender(als)\n",
    "    return result_df.loc[10][\"MAP\"]"
   ]
  },
  {
   "cell_type": "markdown",
   "id": "b93fb496",
   "metadata": {},
   "source": [
    "### Step 3: Create an object/function that will be called after every call of the objective function to log the results in a dataframe for easier readability"
   ]
  },
  {
   "cell_type": "code",
   "execution_count": 16,
   "id": "af3895dc",
   "metadata": {},
   "outputs": [],
   "source": [
    "class SaveResults(object):\n",
    "    def __init__(self, save_path=\"optuna_progressIALSilritorno.csv\"):\n",
    "        # File dove salvare i risultati\n",
    "        self.save_path = save_path\n",
    "\n",
    "        # Se esiste già un file, carichiamo i dati per continuare\n",
    "        try:\n",
    "            self.results_df = pd.read_csv(self.save_path)\n",
    "        except FileNotFoundError:\n",
    "            self.results_df = pd.DataFrame(columns=[\"trial_number\", \"value\", \"params\"])\n",
    "    \n",
    "    def __call__(self, optuna_study, optuna_trial):\n",
    "        # Salva i risultati del trial corrente\n",
    "        trial_data = {\n",
    "            \"trial_number\": optuna_trial.number,\n",
    "            \"value\": optuna_trial.value,\n",
    "            \"params\": optuna_trial.params\n",
    "        }\n",
    "\n",
    "        # Aggiungi i risultati al DataFrame\n",
    "        self.results_df = pd.concat([self.results_df, pd.DataFrame([trial_data])], ignore_index=True)\n",
    "\n",
    "        # Salva i risultati progressivamente su disco\n",
    "        self.results_df.to_csv(self.save_path, index=False)\n",
    "\n",
    "        # Salva anche il miglior risultato corrente\n",
    "        best_trial = optuna_study.best_trial\n",
    "        best_result = {\n",
    "            \"trial_number\": best_trial.number,\n",
    "            \"value\": best_trial.value,\n",
    "            **best_trial.params\n",
    "        }\n",
    "\n",
    "        best_results_df = pd.DataFrame([best_result])\n",
    "        best_results_df.to_csv(\"best_optuna_resultsIALSREGilritorno.csv\", index=False)\n",
    "        \n",
    "        print(f\"Results saved to {self.save_path} and best results to 'best_optuna_results.csv'\")\n"
   ]
  },
  {
   "cell_type": "code",
   "execution_count": 17,
   "id": "e89dd1a2",
   "metadata": {},
   "outputs": [
    {
     "name": "stderr",
     "output_type": "stream",
     "text": [
      "[I 2024-12-29 19:30:00,040] A new study created in memory with name: no-name-b954342f-c576-4e3e-9a06-ea1bee049d3a\n"
     ]
    },
    {
     "name": "stdout",
     "output_type": "stream",
     "text": [
      "Using gpu: False\n"
     ]
    },
    {
     "name": "stderr",
     "output_type": "stream",
     "text": [
      "100%|██████████| 6/6 [03:39<00:00, 36.64s/it, loss=0.00233]\n"
     ]
    },
    {
     "name": "stdout",
     "output_type": "stream",
     "text": [
      "EvaluatorHoldout: Processed 35584 (100.0%) in 21.47 sec. Users per second: 1658\n"
     ]
    },
    {
     "name": "stderr",
     "output_type": "stream",
     "text": [
      "[I 2024-12-29 19:34:02,046] Trial 0 finished with value: 0.048748451015971375 and parameters: {'num_factors': 1663, 'alpha': 5.905668644028478, 'epsilon': 0.6494927521373227, 'reg': 2.850440868205312}. Best is trial 0 with value: 0.048748451015971375.\n"
     ]
    },
    {
     "name": "stdout",
     "output_type": "stream",
     "text": [
      "Results saved to optuna_progressIALSilritorno.csv and best results to 'best_optuna_results.csv'\n",
      "Using gpu: False\n"
     ]
    },
    {
     "name": "stderr",
     "output_type": "stream",
     "text": [
      "100%|██████████| 6/6 [03:24<00:00, 34.01s/it, loss=0.00269]\n"
     ]
    },
    {
     "name": "stdout",
     "output_type": "stream",
     "text": [
      "EvaluatorHoldout: Processed 35584 (100.0%) in 22.48 sec. Users per second: 1583\n"
     ]
    },
    {
     "name": "stderr",
     "output_type": "stream",
     "text": [
      "[I 2024-12-29 19:37:49,259] Trial 1 finished with value: 0.048671633006093375 and parameters: {'num_factors': 1600, 'alpha': 5.547343189248947, 'epsilon': 0.5569536041748655, 'reg': 8.655540839777021}. Best is trial 0 with value: 0.048748451015971375.\n"
     ]
    },
    {
     "name": "stdout",
     "output_type": "stream",
     "text": [
      "Results saved to optuna_progressIALSilritorno.csv and best results to 'best_optuna_results.csv'\n",
      "Using gpu: False\n"
     ]
    },
    {
     "name": "stderr",
     "output_type": "stream",
     "text": [
      "100%|██████████| 6/6 [04:16<00:00, 42.77s/it, loss=0.00227]\n"
     ]
    },
    {
     "name": "stdout",
     "output_type": "stream",
     "text": [
      "EvaluatorHoldout: Processed 35584 (100.0%) in 21.60 sec. Users per second: 1647\n"
     ]
    },
    {
     "name": "stderr",
     "output_type": "stream",
     "text": [
      "[I 2024-12-29 19:42:28,198] Trial 2 finished with value: 0.04867928536634829 and parameters: {'num_factors': 1645, 'alpha': 5.592201748118747, 'epsilon': 0.9574054019528243, 'reg': 1.9960800861556127}. Best is trial 0 with value: 0.048748451015971375.\n"
     ]
    },
    {
     "name": "stdout",
     "output_type": "stream",
     "text": [
      "Results saved to optuna_progressIALSilritorno.csv and best results to 'best_optuna_results.csv'\n",
      "Using gpu: False\n"
     ]
    },
    {
     "name": "stderr",
     "output_type": "stream",
     "text": [
      "100%|██████████| 6/6 [03:24<00:00, 34.02s/it, loss=0.00252]\n"
     ]
    },
    {
     "name": "stdout",
     "output_type": "stream",
     "text": [
      "EvaluatorHoldout: Processed 35584 (100.0%) in 21.21 sec. Users per second: 1678\n"
     ]
    },
    {
     "name": "stderr",
     "output_type": "stream",
     "text": [
      "[I 2024-12-29 19:46:14,194] Trial 3 finished with value: 0.04860873466405262 and parameters: {'num_factors': 1607, 'alpha': 5.064072103630329, 'epsilon': 0.029049787602692057, 'reg': 7.350666494410295}. Best is trial 0 with value: 0.048748451015971375.\n"
     ]
    },
    {
     "name": "stdout",
     "output_type": "stream",
     "text": [
      "Results saved to optuna_progressIALSilritorno.csv and best results to 'best_optuna_results.csv'\n",
      "Using gpu: False\n"
     ]
    },
    {
     "name": "stderr",
     "output_type": "stream",
     "text": [
      "100%|██████████| 6/6 [03:51<00:00, 38.65s/it, loss=0.00234]\n"
     ]
    },
    {
     "name": "stdout",
     "output_type": "stream",
     "text": [
      "EvaluatorHoldout: Processed 35584 (100.0%) in 21.57 sec. Users per second: 1649\n"
     ]
    },
    {
     "name": "stderr",
     "output_type": "stream",
     "text": [
      "[I 2024-12-29 19:50:28,368] Trial 4 finished with value: 0.04870412263938667 and parameters: {'num_factors': 1695, 'alpha': 6.271793878794571, 'epsilon': 0.08104867501784752, 'reg': 1.6742248647477287}. Best is trial 0 with value: 0.048748451015971375.\n"
     ]
    },
    {
     "name": "stdout",
     "output_type": "stream",
     "text": [
      "Results saved to optuna_progressIALSilritorno.csv and best results to 'best_optuna_results.csv'\n",
      "Using gpu: False\n"
     ]
    },
    {
     "name": "stderr",
     "output_type": "stream",
     "text": [
      "100%|██████████| 6/6 [03:47<00:00, 37.86s/it, loss=0.00228]\n"
     ]
    },
    {
     "name": "stdout",
     "output_type": "stream",
     "text": [
      "EvaluatorHoldout: Processed 35584 (100.0%) in 21.45 sec. Users per second: 1659\n"
     ]
    },
    {
     "name": "stderr",
     "output_type": "stream",
     "text": [
      "[I 2024-12-29 19:54:37,669] Trial 5 finished with value: 0.04872142576117505 and parameters: {'num_factors': 1658, 'alpha': 5.747744726427362, 'epsilon': 0.24439313622784908, 'reg': 1.7516265261019504}. Best is trial 0 with value: 0.048748451015971375.\n"
     ]
    },
    {
     "name": "stdout",
     "output_type": "stream",
     "text": [
      "Results saved to optuna_progressIALSilritorno.csv and best results to 'best_optuna_results.csv'\n",
      "Using gpu: False\n"
     ]
    },
    {
     "name": "stderr",
     "output_type": "stream",
     "text": [
      "100%|██████████| 6/6 [03:26<00:00, 34.35s/it, loss=0.00259]\n"
     ]
    },
    {
     "name": "stdout",
     "output_type": "stream",
     "text": [
      "EvaluatorHoldout: Processed 35584 (100.0%) in 20.92 sec. Users per second: 1701\n"
     ]
    },
    {
     "name": "stderr",
     "output_type": "stream",
     "text": [
      "[I 2024-12-29 19:58:25,346] Trial 6 finished with value: 0.04884151607285432 and parameters: {'num_factors': 1629, 'alpha': 5.553410007517361, 'epsilon': 0.3537601821676096, 'reg': 7.337643220198089}. Best is trial 6 with value: 0.04884151607285432.\n"
     ]
    },
    {
     "name": "stdout",
     "output_type": "stream",
     "text": [
      "Results saved to optuna_progressIALSilritorno.csv and best results to 'best_optuna_results.csv'\n",
      "Using gpu: False\n"
     ]
    },
    {
     "name": "stderr",
     "output_type": "stream",
     "text": [
      "100%|██████████| 6/6 [03:36<00:00, 36.06s/it, loss=0.00231]\n"
     ]
    },
    {
     "name": "stdout",
     "output_type": "stream",
     "text": [
      "EvaluatorHoldout: Processed 35584 (100.0%) in 21.44 sec. Users per second: 1660\n"
     ]
    },
    {
     "name": "stderr",
     "output_type": "stream",
     "text": [
      "[I 2024-12-29 20:02:23,843] Trial 7 finished with value: 0.04882031651464373 and parameters: {'num_factors': 1657, 'alpha': 5.388346523461003, 'epsilon': 0.08452402485210697, 'reg': 3.784443809513932}. Best is trial 6 with value: 0.04884151607285432.\n"
     ]
    },
    {
     "name": "stdout",
     "output_type": "stream",
     "text": [
      "Results saved to optuna_progressIALSilritorno.csv and best results to 'best_optuna_results.csv'\n",
      "Using gpu: False\n"
     ]
    },
    {
     "name": "stderr",
     "output_type": "stream",
     "text": [
      "100%|██████████| 6/6 [03:54<00:00, 39.04s/it, loss=0.00256]\n"
     ]
    },
    {
     "name": "stdout",
     "output_type": "stream",
     "text": [
      "EvaluatorHoldout: Processed 35584 (100.0%) in 21.45 sec. Users per second: 1659\n"
     ]
    },
    {
     "name": "stderr",
     "output_type": "stream",
     "text": [
      "[I 2024-12-29 20:06:40,220] Trial 8 finished with value: 0.04879211586088131 and parameters: {'num_factors': 1681, 'alpha': 6.306172096537631, 'epsilon': 0.06464162258182016, 'reg': 5.786422090858404}. Best is trial 6 with value: 0.04884151607285432.\n"
     ]
    },
    {
     "name": "stdout",
     "output_type": "stream",
     "text": [
      "Results saved to optuna_progressIALSilritorno.csv and best results to 'best_optuna_results.csv'\n",
      "Using gpu: False\n"
     ]
    },
    {
     "name": "stderr",
     "output_type": "stream",
     "text": [
      "100%|██████████| 6/6 [03:40<00:00, 36.69s/it, loss=0.0025] \n"
     ]
    },
    {
     "name": "stdout",
     "output_type": "stream",
     "text": [
      "EvaluatorHoldout: Processed 35584 (100.0%) in 21.35 sec. Users per second: 1667\n"
     ]
    },
    {
     "name": "stderr",
     "output_type": "stream",
     "text": [
      "[I 2024-12-29 20:10:42,399] Trial 9 finished with value: 0.0485314014413452 and parameters: {'num_factors': 1623, 'alpha': 5.1378482830885615, 'epsilon': 0.8326892095508804, 'reg': 6.972810718366853}. Best is trial 6 with value: 0.04884151607285432.\n"
     ]
    },
    {
     "name": "stdout",
     "output_type": "stream",
     "text": [
      "Results saved to optuna_progressIALSilritorno.csv and best results to 'best_optuna_results.csv'\n",
      "Using gpu: False\n"
     ]
    },
    {
     "name": "stderr",
     "output_type": "stream",
     "text": [
      "100%|██████████| 6/6 [03:33<00:00, 35.55s/it, loss=0.00287]\n"
     ]
    },
    {
     "name": "stdout",
     "output_type": "stream",
     "text": [
      "EvaluatorHoldout: Processed 35584 (100.0%) in 21.30 sec. Users per second: 1670\n"
     ]
    },
    {
     "name": "stderr",
     "output_type": "stream",
     "text": [
      "[I 2024-12-29 20:14:37,691] Trial 10 finished with value: 0.04889842255659558 and parameters: {'num_factors': 1632, 'alpha': 6.627877179135197, 'epsilon': 0.33420887653630715, 'reg': 9.154176019207988}. Best is trial 10 with value: 0.04889842255659558.\n"
     ]
    },
    {
     "name": "stdout",
     "output_type": "stream",
     "text": [
      "Results saved to optuna_progressIALSilritorno.csv and best results to 'best_optuna_results.csv'\n",
      "Using gpu: False\n"
     ]
    },
    {
     "name": "stderr",
     "output_type": "stream",
     "text": [
      "100%|██████████| 6/6 [03:38<00:00, 36.43s/it, loss=0.00295]\n"
     ]
    },
    {
     "name": "stdout",
     "output_type": "stream",
     "text": [
      "EvaluatorHoldout: Processed 35584 (100.0%) in 21.31 sec. Users per second: 1670\n"
     ]
    },
    {
     "name": "stderr",
     "output_type": "stream",
     "text": [
      "[I 2024-12-29 20:18:38,302] Trial 11 finished with value: 0.048778493945913035 and parameters: {'num_factors': 1631, 'alpha': 6.992332902922912, 'epsilon': 0.40368200679842026, 'reg': 9.499549522196823}. Best is trial 10 with value: 0.04889842255659558.\n"
     ]
    },
    {
     "name": "stdout",
     "output_type": "stream",
     "text": [
      "Results saved to optuna_progressIALSilritorno.csv and best results to 'best_optuna_results.csv'\n",
      "Using gpu: False\n"
     ]
    },
    {
     "name": "stderr",
     "output_type": "stream",
     "text": [
      "100%|██████████| 6/6 [03:33<00:00, 35.62s/it, loss=0.00297]\n"
     ]
    },
    {
     "name": "stdout",
     "output_type": "stream",
     "text": [
      "EvaluatorHoldout: Processed 35584 (100.0%) in 21.26 sec. Users per second: 1673\n"
     ]
    },
    {
     "name": "stderr",
     "output_type": "stream",
     "text": [
      "[I 2024-12-29 20:22:33,986] Trial 12 finished with value: 0.04878652546712473 and parameters: {'num_factors': 1630, 'alpha': 6.903300428393404, 'epsilon': 0.34134905636655843, 'reg': 9.987580568384658}. Best is trial 10 with value: 0.04889842255659558.\n"
     ]
    },
    {
     "name": "stdout",
     "output_type": "stream",
     "text": [
      "Results saved to optuna_progressIALSilritorno.csv and best results to 'best_optuna_results.csv'\n",
      "Using gpu: False\n"
     ]
    },
    {
     "name": "stderr",
     "output_type": "stream",
     "text": [
      "100%|██████████| 6/6 [03:28<00:00, 34.68s/it, loss=0.00278]\n"
     ]
    },
    {
     "name": "stdout",
     "output_type": "stream",
     "text": [
      "EvaluatorHoldout: Processed 35584 (100.0%) in 21.28 sec. Users per second: 1672\n"
     ]
    },
    {
     "name": "stderr",
     "output_type": "stream",
     "text": [
      "[I 2024-12-29 20:26:24,030] Trial 13 finished with value: 0.048933078983240334 and parameters: {'num_factors': 1618, 'alpha': 6.574841992604666, 'epsilon': 0.23178339715550844, 'reg': 7.827801662036967}. Best is trial 13 with value: 0.048933078983240334.\n"
     ]
    },
    {
     "name": "stdout",
     "output_type": "stream",
     "text": [
      "Results saved to optuna_progressIALSilritorno.csv and best results to 'best_optuna_results.csv'\n",
      "Using gpu: False\n"
     ]
    },
    {
     "name": "stderr",
     "output_type": "stream",
     "text": [
      "100%|██████████| 6/6 [03:40<00:00, 36.70s/it, loss=0.00237]\n"
     ]
    },
    {
     "name": "stdout",
     "output_type": "stream",
     "text": [
      "EvaluatorHoldout: Processed 35584 (100.0%) in 21.34 sec. Users per second: 1667\n"
     ]
    },
    {
     "name": "stderr",
     "output_type": "stream",
     "text": [
      "[I 2024-12-29 20:30:26,230] Trial 14 finished with value: 0.04871471907295407 and parameters: {'num_factors': 1615, 'alpha': 6.483803583011411, 'epsilon': 0.21819136574426104, 'reg': 0.06749642234936104}. Best is trial 13 with value: 0.048933078983240334.\n"
     ]
    },
    {
     "name": "stdout",
     "output_type": "stream",
     "text": [
      "Results saved to optuna_progressIALSilritorno.csv and best results to 'best_optuna_results.csv'\n",
      "Using gpu: False\n"
     ]
    },
    {
     "name": "stderr",
     "output_type": "stream",
     "text": [
      "100%|██████████| 6/6 [03:42<00:00, 37.16s/it, loss=0.00283]\n"
     ]
    },
    {
     "name": "stdout",
     "output_type": "stream",
     "text": [
      "EvaluatorHoldout: Processed 35584 (100.0%) in 21.32 sec. Users per second: 1669\n"
     ]
    },
    {
     "name": "stderr",
     "output_type": "stream",
     "text": [
      "[I 2024-12-29 20:34:31,190] Trial 15 finished with value: 0.04901759953644053 and parameters: {'num_factors': 1638, 'alpha': 6.678147027079062, 'epsilon': 0.4767172278340117, 'reg': 8.461496809979604}. Best is trial 15 with value: 0.04901759953644053.\n"
     ]
    },
    {
     "name": "stdout",
     "output_type": "stream",
     "text": [
      "Results saved to optuna_progressIALSilritorno.csv and best results to 'best_optuna_results.csv'\n",
      "Using gpu: False\n"
     ]
    },
    {
     "name": "stderr",
     "output_type": "stream",
     "text": [
      "100%|██████████| 6/6 [03:34<00:00, 35.75s/it, loss=0.0026] \n"
     ]
    },
    {
     "name": "stdout",
     "output_type": "stream",
     "text": [
      "EvaluatorHoldout: Processed 35584 (100.0%) in 21.39 sec. Users per second: 1664\n"
     ]
    },
    {
     "name": "stderr",
     "output_type": "stream",
     "text": [
      "[I 2024-12-29 20:38:27,767] Trial 16 finished with value: 0.048727723178598276 and parameters: {'num_factors': 1644, 'alpha': 6.660953756196461, 'epsilon': 0.6506825268826507, 'reg': 5.342961479198287}. Best is trial 15 with value: 0.04901759953644053.\n"
     ]
    },
    {
     "name": "stdout",
     "output_type": "stream",
     "text": [
      "Results saved to optuna_progressIALSilritorno.csv and best results to 'best_optuna_results.csv'\n",
      "Using gpu: False\n"
     ]
    },
    {
     "name": "stderr",
     "output_type": "stream",
     "text": [
      "100%|██████████| 6/6 [03:29<00:00, 34.98s/it, loss=0.00263]\n"
     ]
    },
    {
     "name": "stdout",
     "output_type": "stream",
     "text": [
      "EvaluatorHoldout: Processed 35584 (100.0%) in 21.26 sec. Users per second: 1674\n"
     ]
    },
    {
     "name": "stderr",
     "output_type": "stream",
     "text": [
      "[I 2024-12-29 20:42:19,561] Trial 17 finished with value: 0.04883161216562288 and parameters: {'num_factors': 1613, 'alpha': 6.111639673786819, 'epsilon': 0.48660377674595323, 'reg': 6.442008697021203}. Best is trial 15 with value: 0.04901759953644053.\n"
     ]
    },
    {
     "name": "stdout",
     "output_type": "stream",
     "text": [
      "Results saved to optuna_progressIALSilritorno.csv and best results to 'best_optuna_results.csv'\n",
      "Using gpu: False\n"
     ]
    },
    {
     "name": "stderr",
     "output_type": "stream",
     "text": [
      "100%|██████████| 6/6 [03:46<00:00, 37.72s/it, loss=0.00282]\n"
     ]
    },
    {
     "name": "stdout",
     "output_type": "stream",
     "text": [
      "EvaluatorHoldout: Processed 35584 (100.0%) in 21.34 sec. Users per second: 1667\n"
     ]
    },
    {
     "name": "stderr",
     "output_type": "stream",
     "text": [
      "[I 2024-12-29 20:46:27,929] Trial 18 finished with value: 0.04872018456663099 and parameters: {'num_factors': 1641, 'alpha': 6.738106908686665, 'epsilon': 0.18268335547733666, 'reg': 8.228962262821888}. Best is trial 15 with value: 0.04901759953644053.\n"
     ]
    },
    {
     "name": "stdout",
     "output_type": "stream",
     "text": [
      "Results saved to optuna_progressIALSilritorno.csv and best results to 'best_optuna_results.csv'\n",
      "Using gpu: False\n"
     ]
    },
    {
     "name": "stderr",
     "output_type": "stream",
     "text": [
      "100%|██████████| 6/6 [03:57<00:00, 39.62s/it, loss=0.00249]\n"
     ]
    },
    {
     "name": "stdout",
     "output_type": "stream",
     "text": [
      "EvaluatorHoldout: Processed 35584 (100.0%) in 21.44 sec. Users per second: 1660\n"
     ]
    },
    {
     "name": "stderr",
     "output_type": "stream",
     "text": [
      "[I 2024-12-29 20:50:47,769] Trial 19 finished with value: 0.048937868678269915 and parameters: {'num_factors': 1671, 'alpha': 6.432965750184833, 'epsilon': 0.5005303197262103, 'reg': 4.542794182090743}. Best is trial 15 with value: 0.04901759953644053.\n"
     ]
    },
    {
     "name": "stdout",
     "output_type": "stream",
     "text": [
      "Results saved to optuna_progressIALSilritorno.csv and best results to 'best_optuna_results.csv'\n",
      "Using gpu: False\n"
     ]
    },
    {
     "name": "stderr",
     "output_type": "stream",
     "text": [
      "100%|██████████| 6/6 [04:05<00:00, 40.93s/it, loss=0.0024] \n"
     ]
    },
    {
     "name": "stdout",
     "output_type": "stream",
     "text": [
      "EvaluatorHoldout: Processed 35584 (100.0%) in 21.45 sec. Users per second: 1659\n"
     ]
    },
    {
     "name": "stderr",
     "output_type": "stream",
     "text": [
      "[I 2024-12-29 20:55:15,527] Trial 20 finished with value: 0.048732685726417084 and parameters: {'num_factors': 1673, 'alpha': 6.380590239455062, 'epsilon': 0.7263731534518392, 'reg': 3.068005065265231}. Best is trial 15 with value: 0.04901759953644053.\n"
     ]
    },
    {
     "name": "stdout",
     "output_type": "stream",
     "text": [
      "Results saved to optuna_progressIALSilritorno.csv and best results to 'best_optuna_results.csv'\n",
      "Using gpu: False\n"
     ]
    },
    {
     "name": "stderr",
     "output_type": "stream",
     "text": [
      "100%|██████████| 6/6 [04:01<00:00, 40.25s/it, loss=0.00245]\n"
     ]
    },
    {
     "name": "stdout",
     "output_type": "stream",
     "text": [
      "EvaluatorHoldout: Processed 35584 (100.0%) in 21.47 sec. Users per second: 1657\n"
     ]
    },
    {
     "name": "stderr",
     "output_type": "stream",
     "text": [
      "[I 2024-12-29 20:59:39,228] Trial 21 finished with value: 0.048824206259990295 and parameters: {'num_factors': 1675, 'alpha': 6.100048687794936, 'epsilon': 0.5220230169634359, 'reg': 4.543015846779585}. Best is trial 15 with value: 0.04901759953644053.\n"
     ]
    },
    {
     "name": "stdout",
     "output_type": "stream",
     "text": [
      "Results saved to optuna_progressIALSilritorno.csv and best results to 'best_optuna_results.csv'\n",
      "Using gpu: False\n"
     ]
    },
    {
     "name": "stderr",
     "output_type": "stream",
     "text": [
      "100%|██████████| 6/6 [03:58<00:00, 39.78s/it, loss=0.00274]\n"
     ]
    },
    {
     "name": "stdout",
     "output_type": "stream",
     "text": [
      "EvaluatorHoldout: Processed 35584 (100.0%) in 21.51 sec. Users per second: 1654\n"
     ]
    },
    {
     "name": "stderr",
     "output_type": "stream",
     "text": [
      "[I 2024-12-29 21:04:00,135] Trial 22 finished with value: 0.04897373172890062 and parameters: {'num_factors': 1691, 'alpha': 6.5036527983928645, 'epsilon': 0.4563426724500138, 'reg': 8.11341795273053}. Best is trial 15 with value: 0.04901759953644053.\n"
     ]
    },
    {
     "name": "stdout",
     "output_type": "stream",
     "text": [
      "Results saved to optuna_progressIALSilritorno.csv and best results to 'best_optuna_results.csv'\n",
      "Using gpu: False\n"
     ]
    },
    {
     "name": "stderr",
     "output_type": "stream",
     "text": [
      "100%|██████████| 6/6 [04:12<00:00, 42.09s/it, loss=0.00263]\n"
     ]
    },
    {
     "name": "stdout",
     "output_type": "stream",
     "text": [
      "EvaluatorHoldout: Processed 35584 (100.0%) in 21.56 sec. Users per second: 1651\n"
     ]
    },
    {
     "name": "stderr",
     "output_type": "stream",
     "text": [
      "[I 2024-12-29 21:08:34,950] Trial 23 finished with value: 0.048715663629808746 and parameters: {'num_factors': 1694, 'alpha': 6.809539704323063, 'epsilon': 0.6057654652953646, 'reg': 6.077410846514429}. Best is trial 15 with value: 0.04901759953644053.\n"
     ]
    },
    {
     "name": "stdout",
     "output_type": "stream",
     "text": [
      "Results saved to optuna_progressIALSilritorno.csv and best results to 'best_optuna_results.csv'\n",
      "Using gpu: False\n"
     ]
    },
    {
     "name": "stderr",
     "output_type": "stream",
     "text": [
      "100%|██████████| 6/6 [04:08<00:00, 41.49s/it, loss=0.0025] \n"
     ]
    },
    {
     "name": "stdout",
     "output_type": "stream",
     "text": [
      "EvaluatorHoldout: Processed 35584 (100.0%) in 21.53 sec. Users per second: 1653\n"
     ]
    },
    {
     "name": "stderr",
     "output_type": "stream",
     "text": [
      "[I 2024-12-29 21:13:06,120] Trial 24 finished with value: 0.048766598328478405 and parameters: {'num_factors': 1687, 'alpha': 6.439952292285057, 'epsilon': 0.4455324843114234, 'reg': 4.787415085408265}. Best is trial 15 with value: 0.04901759953644053.\n"
     ]
    },
    {
     "name": "stdout",
     "output_type": "stream",
     "text": [
      "Results saved to optuna_progressIALSilritorno.csv and best results to 'best_optuna_results.csv'\n",
      "Using gpu: False\n"
     ]
    },
    {
     "name": "stderr",
     "output_type": "stream",
     "text": [
      "100%|██████████| 6/6 [03:48<00:00, 38.08s/it, loss=0.00272]\n"
     ]
    },
    {
     "name": "stdout",
     "output_type": "stream",
     "text": [
      "EvaluatorHoldout: Processed 35584 (100.0%) in 21.62 sec. Users per second: 1646\n"
     ]
    },
    {
     "name": "stderr",
     "output_type": "stream",
     "text": [
      "[I 2024-12-29 21:17:16,927] Trial 25 finished with value: 0.04891802740842888 and parameters: {'num_factors': 1700, 'alpha': 6.200903869906976, 'epsilon': 0.7470248002926265, 'reg': 8.537452455835256}. Best is trial 15 with value: 0.04901759953644053.\n"
     ]
    },
    {
     "name": "stdout",
     "output_type": "stream",
     "text": [
      "Results saved to optuna_progressIALSilritorno.csv and best results to 'best_optuna_results.csv'\n",
      "Using gpu: False\n"
     ]
    },
    {
     "name": "stderr",
     "output_type": "stream",
     "text": [
      "100%|██████████| 6/6 [03:41<00:00, 36.86s/it, loss=0.00239]\n"
     ]
    },
    {
     "name": "stdout",
     "output_type": "stream",
     "text": [
      "EvaluatorHoldout: Processed 35584 (100.0%) in 21.43 sec. Users per second: 1661\n"
     ]
    },
    {
     "name": "stderr",
     "output_type": "stream",
     "text": [
      "[I 2024-12-29 21:21:20,212] Trial 26 finished with value: 0.048838515125398115 and parameters: {'num_factors': 1669, 'alpha': 5.9269843140855505, 'epsilon': 0.4356047069888959, 'reg': 4.022977597387406}. Best is trial 15 with value: 0.04901759953644053.\n"
     ]
    },
    {
     "name": "stdout",
     "output_type": "stream",
     "text": [
      "Results saved to optuna_progressIALSilritorno.csv and best results to 'best_optuna_results.csv'\n",
      "Using gpu: False\n"
     ]
    },
    {
     "name": "stderr",
     "output_type": "stream",
     "text": [
      "100%|██████████| 6/6 [03:57<00:00, 39.56s/it, loss=0.00263]\n"
     ]
    },
    {
     "name": "stdout",
     "output_type": "stream",
     "text": [
      "EvaluatorHoldout: Processed 35584 (100.0%) in 21.51 sec. Users per second: 1654\n"
     ]
    },
    {
     "name": "stderr",
     "output_type": "stream",
     "text": [
      "[I 2024-12-29 21:25:39,814] Trial 27 finished with value: 0.049124936657814804 and parameters: {'num_factors': 1684, 'alpha': 6.524580033299327, 'epsilon': 0.556377225083557, 'reg': 6.399046570327465}. Best is trial 27 with value: 0.049124936657814804.\n"
     ]
    },
    {
     "name": "stdout",
     "output_type": "stream",
     "text": [
      "Results saved to optuna_progressIALSilritorno.csv and best results to 'best_optuna_results.csv'\n",
      "Using gpu: False\n"
     ]
    },
    {
     "name": "stderr",
     "output_type": "stream",
     "text": [
      "100%|██████████| 6/6 [03:53<00:00, 38.92s/it, loss=0.00268]\n"
     ]
    },
    {
     "name": "stdout",
     "output_type": "stream",
     "text": [
      "EvaluatorHoldout: Processed 35584 (100.0%) in 21.73 sec. Users per second: 1638\n"
     ]
    },
    {
     "name": "stderr",
     "output_type": "stream",
     "text": [
      "[I 2024-12-29 21:29:55,757] Trial 28 finished with value: 0.04896501548760813 and parameters: {'num_factors': 1680, 'alpha': 6.764501079100799, 'epsilon': 0.7273650342134894, 'reg': 6.712439959728716}. Best is trial 27 with value: 0.049124936657814804.\n"
     ]
    },
    {
     "name": "stdout",
     "output_type": "stream",
     "text": [
      "Results saved to optuna_progressIALSilritorno.csv and best results to 'best_optuna_results.csv'\n",
      "Using gpu: False\n"
     ]
    },
    {
     "name": "stderr",
     "output_type": "stream",
     "text": [
      "100%|██████████| 6/6 [03:54<00:00, 39.16s/it, loss=0.00275]\n"
     ]
    },
    {
     "name": "stdout",
     "output_type": "stream",
     "text": [
      "EvaluatorHoldout: Processed 35584 (100.0%) in 21.57 sec. Users per second: 1649\n"
     ]
    },
    {
     "name": "stderr",
     "output_type": "stream",
     "text": [
      "[I 2024-12-29 21:34:12,969] Trial 29 finished with value: 0.048977159790023414 and parameters: {'num_factors': 1663, 'alpha': 6.546278975110708, 'epsilon': 0.6391089163628664, 'reg': 7.862275620578835}. Best is trial 27 with value: 0.049124936657814804.\n"
     ]
    },
    {
     "name": "stdout",
     "output_type": "stream",
     "text": [
      "Results saved to optuna_progressIALSilritorno.csv and best results to 'best_optuna_results.csv'\n",
      "Using gpu: False\n"
     ]
    },
    {
     "name": "stderr",
     "output_type": "stream",
     "text": [
      "100%|██████████| 6/6 [04:04<00:00, 40.82s/it, loss=0.00288]\n"
     ]
    },
    {
     "name": "stdout",
     "output_type": "stream",
     "text": [
      "EvaluatorHoldout: Processed 35584 (100.0%) in 21.46 sec. Users per second: 1658\n"
     ]
    },
    {
     "name": "stderr",
     "output_type": "stream",
     "text": [
      "[I 2024-12-29 21:38:40,049] Trial 30 finished with value: 0.0488070626088399 and parameters: {'num_factors': 1663, 'alpha': 6.908657045436148, 'epsilon': 0.6396926279134907, 'reg': 9.02283845032569}. Best is trial 27 with value: 0.049124936657814804.\n"
     ]
    },
    {
     "name": "stdout",
     "output_type": "stream",
     "text": [
      "Results saved to optuna_progressIALSilritorno.csv and best results to 'best_optuna_results.csv'\n",
      "Using gpu: False\n"
     ]
    },
    {
     "name": "stderr",
     "output_type": "stream",
     "text": [
      "100%|██████████| 6/6 [03:46<00:00, 37.76s/it, loss=0.00275]\n"
     ]
    },
    {
     "name": "stdout",
     "output_type": "stream",
     "text": [
      "EvaluatorHoldout: Processed 35584 (100.0%) in 21.76 sec. Users per second: 1635\n"
     ]
    },
    {
     "name": "stderr",
     "output_type": "stream",
     "text": [
      "[I 2024-12-29 21:42:49,095] Trial 31 finished with value: 0.04884032283101899 and parameters: {'num_factors': 1686, 'alpha': 6.576667940334903, 'epsilon': 0.5608117853501373, 'reg': 8.051929691330951}. Best is trial 27 with value: 0.049124936657814804.\n"
     ]
    },
    {
     "name": "stdout",
     "output_type": "stream",
     "text": [
      "Results saved to optuna_progressIALSilritorno.csv and best results to 'best_optuna_results.csv'\n",
      "Using gpu: False\n"
     ]
    },
    {
     "name": "stderr",
     "output_type": "stream",
     "text": [
      "100%|██████████| 6/6 [03:47<00:00, 37.85s/it, loss=0.00271]\n"
     ]
    },
    {
     "name": "stdout",
     "output_type": "stream",
     "text": [
      "EvaluatorHoldout: Processed 35584 (100.0%) in 21.63 sec. Users per second: 1645\n"
     ]
    },
    {
     "name": "stderr",
     "output_type": "stream",
     "text": [
      "[I 2024-12-29 21:46:58,523] Trial 32 finished with value: 0.04899698879289256 and parameters: {'num_factors': 1690, 'alpha': 6.5250559612452035, 'epsilon': 0.5882111723818517, 'reg': 7.637160498995703}. Best is trial 27 with value: 0.049124936657814804.\n"
     ]
    },
    {
     "name": "stdout",
     "output_type": "stream",
     "text": [
      "Results saved to optuna_progressIALSilritorno.csv and best results to 'best_optuna_results.csv'\n",
      "Using gpu: False\n"
     ]
    },
    {
     "name": "stderr",
     "output_type": "stream",
     "text": [
      "100%|██████████| 6/6 [03:36<00:00, 36.15s/it, loss=0.00276]\n"
     ]
    },
    {
     "name": "stdout",
     "output_type": "stream",
     "text": [
      "EvaluatorHoldout: Processed 35584 (100.0%) in 21.49 sec. Users per second: 1656\n"
     ]
    },
    {
     "name": "stderr",
     "output_type": "stream",
     "text": [
      "[I 2024-12-29 21:50:57,621] Trial 33 finished with value: 0.04882294053150152 and parameters: {'num_factors': 1649, 'alpha': 6.714005609804606, 'epsilon': 0.8173286574037076, 'reg': 7.5345150272072665}. Best is trial 27 with value: 0.049124936657814804.\n"
     ]
    },
    {
     "name": "stdout",
     "output_type": "stream",
     "text": [
      "Results saved to optuna_progressIALSilritorno.csv and best results to 'best_optuna_results.csv'\n",
      "Using gpu: False\n"
     ]
    },
    {
     "name": "stderr",
     "output_type": "stream",
     "text": [
      "100%|██████████| 6/6 [03:44<00:00, 37.46s/it, loss=0.00258]\n"
     ]
    },
    {
     "name": "stdout",
     "output_type": "stream",
     "text": [
      "EvaluatorHoldout: Processed 35584 (100.0%) in 21.75 sec. Users per second: 1636\n"
     ]
    },
    {
     "name": "stderr",
     "output_type": "stream",
     "text": [
      "[I 2024-12-29 21:55:04,814] Trial 34 finished with value: 0.04876799341776379 and parameters: {'num_factors': 1655, 'alpha': 6.321742265343593, 'epsilon': 0.5759664312435184, 'reg': 5.850692100654824}. Best is trial 27 with value: 0.049124936657814804.\n"
     ]
    },
    {
     "name": "stdout",
     "output_type": "stream",
     "text": [
      "Results saved to optuna_progressIALSilritorno.csv and best results to 'best_optuna_results.csv'\n",
      "Using gpu: False\n"
     ]
    },
    {
     "name": "stderr",
     "output_type": "stream",
     "text": [
      "100%|██████████| 6/6 [03:46<00:00, 37.83s/it, loss=0.00273]\n"
     ]
    },
    {
     "name": "stdout",
     "output_type": "stream",
     "text": [
      "EvaluatorHoldout: Processed 35584 (100.0%) in 21.81 sec. Users per second: 1632\n"
     ]
    },
    {
     "name": "stderr",
     "output_type": "stream",
     "text": [
      "[I 2024-12-29 21:59:14,281] Trial 35 finished with value: 0.04877189877562073 and parameters: {'num_factors': 1663, 'alpha': 6.037357530262802, 'epsilon': 0.9925718645446291, 'reg': 8.742746861295283}. Best is trial 27 with value: 0.049124936657814804.\n"
     ]
    },
    {
     "name": "stdout",
     "output_type": "stream",
     "text": [
      "Results saved to optuna_progressIALSilritorno.csv and best results to 'best_optuna_results.csv'\n",
      "Using gpu: False\n"
     ]
    },
    {
     "name": "stderr",
     "output_type": "stream",
     "text": [
      "100%|██████████| 6/6 [03:54<00:00, 39.14s/it, loss=0.00275]\n"
     ]
    },
    {
     "name": "stdout",
     "output_type": "stream",
     "text": [
      "EvaluatorHoldout: Processed 35584 (100.0%) in 21.40 sec. Users per second: 1663\n"
     ]
    },
    {
     "name": "stderr",
     "output_type": "stream",
     "text": [
      "[I 2024-12-29 22:03:31,195] Trial 36 finished with value: 0.048916881004123586 and parameters: {'num_factors': 1639, 'alpha': 6.839906746695631, 'epsilon': 0.6721421668099828, 'reg': 7.061959461383383}. Best is trial 27 with value: 0.049124936657814804.\n"
     ]
    },
    {
     "name": "stdout",
     "output_type": "stream",
     "text": [
      "Results saved to optuna_progressIALSilritorno.csv and best results to 'best_optuna_results.csv'\n",
      "Using gpu: False\n"
     ]
    },
    {
     "name": "stderr",
     "output_type": "stream",
     "text": [
      "100%|██████████| 6/6 [03:43<00:00, 37.18s/it, loss=0.00252]\n"
     ]
    },
    {
     "name": "stdout",
     "output_type": "stream",
     "text": [
      "EvaluatorHoldout: Processed 35584 (100.0%) in 21.82 sec. Users per second: 1631\n"
     ]
    },
    {
     "name": "stderr",
     "output_type": "stream",
     "text": [
      "[I 2024-12-29 22:07:36,818] Trial 37 finished with value: 0.048939991979629054 and parameters: {'num_factors': 1680, 'alpha': 5.771004283351064, 'epsilon': 0.841670165613412, 'reg': 6.323978960942272}. Best is trial 27 with value: 0.049124936657814804.\n"
     ]
    },
    {
     "name": "stdout",
     "output_type": "stream",
     "text": [
      "Results saved to optuna_progressIALSilritorno.csv and best results to 'best_optuna_results.csv'\n",
      "Using gpu: False\n"
     ]
    },
    {
     "name": "stderr",
     "output_type": "stream",
     "text": [
      "100%|██████████| 6/6 [03:47<00:00, 37.96s/it, loss=0.00266]\n"
     ]
    },
    {
     "name": "stdout",
     "output_type": "stream",
     "text": [
      "EvaluatorHoldout: Processed 35584 (100.0%) in 21.69 sec. Users per second: 1641\n"
     ]
    },
    {
     "name": "stderr",
     "output_type": "stream",
     "text": [
      "[I 2024-12-29 22:11:47,009] Trial 38 finished with value: 0.048839119552570545 and parameters: {'num_factors': 1699, 'alpha': 6.205181247496343, 'epsilon': 0.5418627530070192, 'reg': 7.576878658430297}. Best is trial 27 with value: 0.049124936657814804.\n"
     ]
    },
    {
     "name": "stdout",
     "output_type": "stream",
     "text": [
      "Results saved to optuna_progressIALSilritorno.csv and best results to 'best_optuna_results.csv'\n",
      "Using gpu: False\n"
     ]
    },
    {
     "name": "stderr",
     "output_type": "stream",
     "text": [
      "100%|██████████| 6/6 [03:39<00:00, 36.59s/it, loss=0.00257]\n"
     ]
    },
    {
     "name": "stdout",
     "output_type": "stream",
     "text": [
      "EvaluatorHoldout: Processed 35584 (100.0%) in 21.76 sec. Users per second: 1635\n"
     ]
    },
    {
     "name": "stderr",
     "output_type": "stream",
     "text": [
      "[I 2024-12-29 22:15:49,019] Trial 39 finished with value: 0.04902107889581031 and parameters: {'num_factors': 1667, 'alpha': 6.557731210128585, 'epsilon': 0.3791070647315319, 'reg': 5.389443028322923}. Best is trial 27 with value: 0.049124936657814804.\n"
     ]
    },
    {
     "name": "stdout",
     "output_type": "stream",
     "text": [
      "Results saved to optuna_progressIALSilritorno.csv and best results to 'best_optuna_results.csv'\n"
     ]
    }
   ],
   "source": [
    "# Creazione dello studio Optuna\n",
    "optuna_study = optuna.create_study(direction=\"maximize\")\n",
    "\n",
    "# Inizializzazione del callback per salvare progressivamente i risultati\n",
    "save_results = SaveResults(save_path=\"optuna_progressIALSilritorno.csv\")\n",
    "\n",
    "# Esecuzione dell'ottimizzazione\n",
    "optuna_study.optimize(\n",
    "    objective_function,\n",
    "    callbacks=[save_results],\n",
    "    n_trials=40\n",
    ")"
   ]
  },
  {
   "cell_type": "code",
   "execution_count": 18,
   "id": "2c7ec8a9",
   "metadata": {},
   "outputs": [
    {
     "data": {
      "text/plain": [
       "{'num_factors': 1684,\n",
       " 'alpha': 6.524580033299327,\n",
       " 'epsilon': 0.556377225083557,\n",
       " 'reg': 6.399046570327465}"
      ]
     },
     "execution_count": 18,
     "metadata": {},
     "output_type": "execute_result"
    }
   ],
   "source": [
    "optuna_study.best_trial.params"
   ]
  },
  {
   "cell_type": "code",
   "execution_count": 20,
   "id": "8f6be70f",
   "metadata": {},
   "outputs": [
    {
     "name": "stdout",
     "output_type": "stream",
     "text": [
      "Using gpu: False\n"
     ]
    },
    {
     "name": "stderr",
     "output_type": "stream",
     "text": [
      "100%|██████████| 6/6 [03:54<00:00, 39.03s/it, loss=0.00307]\n"
     ]
    }
   ],
   "source": [
    "als = ImplicitALSRecommender(URM_all_dataframe)\n",
    "als.fit( epochs=6,\n",
    "                    confidence_scaling=\"linear\",\n",
    "                    use_gpu=False,\n",
    "                    num_threads=8,\n",
    "                    calculate_training_loss=True,\n",
    "                        **optuna_study.best_trial.params\n",
    "                    )"
   ]
  },
  {
   "cell_type": "code",
   "execution_count": 21,
   "id": "48f354f9",
   "metadata": {},
   "outputs": [
    {
     "name": "stdout",
     "output_type": "stream",
     "text": [
      "   user_id                                          item_list\n",
      "0        0  11699 531 14931 1425 9911 8685 3152 11542 1510...\n",
      "1        1  13733 14748 120 9911 3146 13006 11875 8685 119...\n"
     ]
    }
   ],
   "source": [
    "recommendations_list = []\n",
    "user = pd.read_csv(filepath_or_buffer=\"data_target_users_test.csv\")\n",
    "\n",
    "# Loop through each user and get the top 10 recommendations\n",
    "for user_id in user[\"user_id\"]:  # assuming URM.shape[0] is the total number of users\n",
    "    top_10_recommendations = als.recommend(user_id, cutoff=10, remove_seen_flag=True)\n",
    "    # Join recommendations into a space-separated string\n",
    "    item_list_str = ' '.join(map(str, top_10_recommendations))\n",
    "    recommendations_list.append([user_id, item_list_str])\n",
    "# Convert the list to a DataFrame\n",
    "recommendations_df = pd.DataFrame(recommendations_list, columns=['user_id', 'item_list'])\n",
    "\n",
    "# Display the resulting table\n",
    "print(recommendations_df.head(2))\n",
    "\n",
    "# Optionally, save to CSV\n",
    "recommendations_df.to_csv('top_10_recommendationsalsilritorno.csv', index=False)"
   ]
  },
  {
   "cell_type": "code",
   "execution_count": 27,
   "id": "59c1c6d1",
   "metadata": {},
   "outputs": [
    {
     "name": "stdout",
     "output_type": "stream",
     "text": [
      "num_factors:  140\n",
      "Using gpu: False\n"
     ]
    },
    {
     "name": "stderr",
     "output_type": "stream",
     "text": [
      "100%|██████████| 30/30 [00:57<00:00,  1.92s/it, loss=0.00175]\n"
     ]
    },
    {
     "name": "stdout",
     "output_type": "stream",
     "text": [
      "EvaluatorHoldout: Processed 35584 (100.0%) in 20.35 sec. Users per second: 1748\n",
      "0.02678637893256766\n",
      "num_factors:  150\n",
      "Using gpu: False\n"
     ]
    },
    {
     "name": "stderr",
     "output_type": "stream",
     "text": [
      "100%|██████████| 30/30 [01:14<00:00,  2.50s/it, loss=0.00174]\n"
     ]
    },
    {
     "name": "stdout",
     "output_type": "stream",
     "text": [
      "EvaluatorHoldout: Processed 35584 (100.0%) in 20.39 sec. Users per second: 1745\n",
      "0.027462935901278417\n",
      "num_factors:  160\n",
      "Using gpu: False\n"
     ]
    },
    {
     "name": "stderr",
     "output_type": "stream",
     "text": [
      "100%|██████████| 30/30 [01:16<00:00,  2.55s/it, loss=0.00173]\n"
     ]
    },
    {
     "name": "stdout",
     "output_type": "stream",
     "text": [
      "EvaluatorHoldout: Processed 35584 (100.0%) in 20.49 sec. Users per second: 1737\n",
      "0.028029678935422384\n",
      "num_factors:  170\n",
      "Using gpu: False\n"
     ]
    },
    {
     "name": "stderr",
     "output_type": "stream",
     "text": [
      "100%|██████████| 30/30 [01:33<00:00,  3.12s/it, loss=0.00172]\n"
     ]
    },
    {
     "name": "stdout",
     "output_type": "stream",
     "text": [
      "EvaluatorHoldout: Processed 35584 (100.0%) in 20.58 sec. Users per second: 1729\n",
      "0.028511782092182827\n",
      "num_factors:  180\n",
      "Using gpu: False\n"
     ]
    },
    {
     "name": "stderr",
     "output_type": "stream",
     "text": [
      "100%|██████████| 30/30 [01:43<00:00,  3.46s/it, loss=0.00171]\n"
     ]
    },
    {
     "name": "stdout",
     "output_type": "stream",
     "text": [
      "EvaluatorHoldout: Processed 35584 (100.0%) in 20.87 sec. Users per second: 1705\n",
      "0.029059199069315297\n",
      "num_factors:  190\n",
      "Using gpu: False\n"
     ]
    },
    {
     "name": "stderr",
     "output_type": "stream",
     "text": [
      "100%|██████████| 30/30 [01:55<00:00,  3.85s/it, loss=0.0017]\n"
     ]
    },
    {
     "name": "stdout",
     "output_type": "stream",
     "text": [
      "EvaluatorHoldout: Processed 35584 (100.0%) in 21.08 sec. Users per second: 1688\n",
      "0.029435462790481072\n",
      "num_factors:  200\n",
      "Using gpu: False\n"
     ]
    },
    {
     "name": "stderr",
     "output_type": "stream",
     "text": [
      "100%|██████████| 30/30 [08:23<00:00, 16.79s/it, loss=0.00169]\n"
     ]
    },
    {
     "name": "stdout",
     "output_type": "stream",
     "text": [
      "EvaluatorHoldout: Processed 35584 (100.0%) in 20.76 sec. Users per second: 1714\n",
      "0.029921365363065874\n",
      "num_factors:  210\n",
      "Using gpu: False\n"
     ]
    },
    {
     "name": "stderr",
     "output_type": "stream",
     "text": [
      "100%|██████████| 30/30 [08:18<00:00, 16.61s/it, loss=0.00168]\n"
     ]
    },
    {
     "name": "stdout",
     "output_type": "stream",
     "text": [
      "EvaluatorHoldout: Processed 35584 (100.0%) in 20.92 sec. Users per second: 1701\n",
      "0.030414706181482405\n",
      "num_factors:  220\n",
      "Using gpu: False\n"
     ]
    },
    {
     "name": "stderr",
     "output_type": "stream",
     "text": [
      "100%|██████████| 30/30 [08:24<00:00, 16.82s/it, loss=0.00168]\n"
     ]
    },
    {
     "name": "stdout",
     "output_type": "stream",
     "text": [
      "EvaluatorHoldout: Processed 35584 (100.0%) in 21.01 sec. Users per second: 1694\n",
      "0.030718095166722838\n",
      "num_factors:  230\n",
      "Using gpu: False\n"
     ]
    },
    {
     "name": "stderr",
     "output_type": "stream",
     "text": [
      "100%|██████████| 30/30 [08:39<00:00, 17.32s/it, loss=0.00167]\n"
     ]
    },
    {
     "name": "stdout",
     "output_type": "stream",
     "text": [
      "EvaluatorHoldout: Processed 35584 (100.0%) in 20.80 sec. Users per second: 1711\n",
      "0.031145153073968517\n",
      "num_factors:  240\n",
      "Using gpu: False\n"
     ]
    },
    {
     "name": "stderr",
     "output_type": "stream",
     "text": [
      "100%|██████████| 30/30 [14:23<00:00, 28.80s/it, loss=0.00166]\n"
     ]
    },
    {
     "name": "stdout",
     "output_type": "stream",
     "text": [
      "EvaluatorHoldout: Processed 35584 (100.0%) in 21.57 sec. Users per second: 1650\n",
      "0.0315771958326186\n",
      "num_factors:  250\n",
      "Using gpu: False\n"
     ]
    },
    {
     "name": "stderr",
     "output_type": "stream",
     "text": [
      "100%|██████████| 30/30 [08:34<00:00, 17.15s/it, loss=0.00165]\n"
     ]
    },
    {
     "name": "stdout",
     "output_type": "stream",
     "text": [
      "EvaluatorHoldout: Processed 35584 (100.0%) in 21.48 sec. Users per second: 1656\n",
      "0.031862899189575966\n",
      "num_factors:  260\n",
      "Using gpu: False\n"
     ]
    },
    {
     "name": "stderr",
     "output_type": "stream",
     "text": [
      "100%|██████████| 30/30 [09:06<00:00, 18.22s/it, loss=0.00164]\n"
     ]
    },
    {
     "name": "stdout",
     "output_type": "stream",
     "text": [
      "EvaluatorHoldout: Processed 35584 (100.0%) in 21.67 sec. Users per second: 1642\n",
      "0.032209611774865\n",
      "num_factors:  270\n",
      "Using gpu: False\n"
     ]
    },
    {
     "name": "stderr",
     "output_type": "stream",
     "text": [
      "100%|██████████| 30/30 [09:17<00:00, 18.58s/it, loss=0.00164]\n"
     ]
    },
    {
     "name": "stdout",
     "output_type": "stream",
     "text": [
      "EvaluatorHoldout: Processed 35584 (100.0%) in 21.78 sec. Users per second: 1634\n",
      "0.032538638731870566\n",
      "num_factors:  280\n",
      "Using gpu: False\n"
     ]
    },
    {
     "name": "stderr",
     "output_type": "stream",
     "text": [
      "100%|██████████| 30/30 [10:12<00:00, 20.41s/it, loss=0.00163]\n"
     ]
    },
    {
     "name": "stdout",
     "output_type": "stream",
     "text": [
      "EvaluatorHoldout: Processed 35584 (100.0%) in 22.11 sec. Users per second: 1609\n",
      "0.03288660700903469\n",
      "num_factors:  290\n",
      "Using gpu: False\n"
     ]
    },
    {
     "name": "stderr",
     "output_type": "stream",
     "text": [
      "100%|██████████| 30/30 [09:53<00:00, 19.78s/it, loss=0.00162]\n"
     ]
    },
    {
     "name": "stdout",
     "output_type": "stream",
     "text": [
      "EvaluatorHoldout: Processed 35584 (100.0%) in 21.86 sec. Users per second: 1628\n",
      "0.0331486284186927\n",
      "num_factors:  300\n",
      "Using gpu: False\n"
     ]
    },
    {
     "name": "stderr",
     "output_type": "stream",
     "text": [
      "100%|██████████| 30/30 [09:42<00:00, 19.40s/it, loss=0.00161]\n"
     ]
    },
    {
     "name": "stdout",
     "output_type": "stream",
     "text": [
      "EvaluatorHoldout: Processed 35584 (100.0%) in 21.47 sec. Users per second: 1658\n",
      "0.03342215067231828\n",
      "num_factors:  310\n",
      "Using gpu: False\n"
     ]
    },
    {
     "name": "stderr",
     "output_type": "stream",
     "text": [
      "100%|██████████| 30/30 [08:51<00:00, 17.72s/it, loss=0.00161]\n"
     ]
    },
    {
     "name": "stdout",
     "output_type": "stream",
     "text": [
      "EvaluatorHoldout: Processed 35584 (100.0%) in 21.49 sec. Users per second: 1656\n",
      "0.0337946004803291\n",
      "num_factors:  320\n",
      "Using gpu: False\n"
     ]
    },
    {
     "name": "stderr",
     "output_type": "stream",
     "text": [
      "100%|██████████| 30/30 [13:08<00:00, 26.27s/it, loss=0.0016] \n"
     ]
    },
    {
     "name": "stdout",
     "output_type": "stream",
     "text": [
      "EvaluatorHoldout: Processed 35584 (100.0%) in 21.54 sec. Users per second: 1652\n",
      "0.03412420063948748\n",
      "num_factors:  330\n",
      "Using gpu: False\n"
     ]
    },
    {
     "name": "stderr",
     "output_type": "stream",
     "text": [
      "100%|██████████| 30/30 [09:02<00:00, 18.09s/it, loss=0.00159]\n"
     ]
    },
    {
     "name": "stdout",
     "output_type": "stream",
     "text": [
      "EvaluatorHoldout: Processed 35584 (100.0%) in 22.30 sec. Users per second: 1596\n",
      "0.03436945086787614\n"
     ]
    }
   ],
   "source": [
    "from Recommenders.MatrixFactorization.IALSJ import ImplicitALSRecommender\n",
    "\n",
    "for i in range(20):\n",
    "        print(\"num_factors: \", 140+i*10)\n",
    "        model = ImplicitALSRecommender(URM_train_validation)\n",
    "        model.fit( epochs=30,\n",
    "                num_factors=140+i*10,\n",
    "                confidence_scaling=\"linear\",\n",
    "                alpha=1.0,\n",
    "                epsilon=1.0,\n",
    "                reg=1e-4,\n",
    "                use_gpu=False,\n",
    "                num_threads=8,\n",
    "                calculate_training_loss=True\n",
    "                )\n",
    "        result_df, _ = evaluator_test.evaluateRecommender(model)\n",
    "        print(result_df.loc[10][\"MAP\"])"
   ]
  },
  {
   "cell_type": "code",
   "execution_count": 38,
   "id": "6c608308",
   "metadata": {},
   "outputs": [
    {
     "name": "stdout",
     "output_type": "stream",
     "text": [
      "num_factors:  550\n",
      "Using gpu: False\n"
     ]
    },
    {
     "name": "stderr",
     "output_type": "stream",
     "text": [
      "100%|██████████| 30/30 [11:14<00:00, 22.48s/it, loss=0.00146]\n"
     ]
    },
    {
     "name": "stdout",
     "output_type": "stream",
     "text": [
      "EvaluatorHoldout: Processed 35584 (100.0%) in 23.43 sec. Users per second: 1519\n",
      "0.03819559642464449\n",
      "num_factors:  600\n",
      "Using gpu: False\n"
     ]
    },
    {
     "name": "stderr",
     "output_type": "stream",
     "text": [
      "100%|██████████| 30/30 [11:36<00:00, 23.22s/it, loss=0.00144]\n"
     ]
    },
    {
     "name": "stdout",
     "output_type": "stream",
     "text": [
      "EvaluatorHoldout: Processed 35584 (100.0%) in 24.60 sec. Users per second: 1447\n",
      "0.0388256035796351\n",
      "num_factors:  650\n",
      "Using gpu: False\n"
     ]
    },
    {
     "name": "stderr",
     "output_type": "stream",
     "text": [
      "100%|██████████| 30/30 [12:06<00:00, 24.21s/it, loss=0.00141]\n"
     ]
    },
    {
     "name": "stdout",
     "output_type": "stream",
     "text": [
      "EvaluatorHoldout: Processed 35584 (100.0%) in 23.66 sec. Users per second: 1504\n",
      "0.039491060053741533\n",
      "num_factors:  700\n",
      "Using gpu: False\n"
     ]
    },
    {
     "name": "stderr",
     "output_type": "stream",
     "text": [
      "100%|██████████| 30/30 [12:52<00:00, 25.74s/it, loss=0.00139]\n"
     ]
    },
    {
     "name": "stdout",
     "output_type": "stream",
     "text": [
      "EvaluatorHoldout: Processed 35584 (100.0%) in 24.47 sec. Users per second: 1454\n",
      "0.04004709067567238\n",
      "num_factors:  750\n",
      "Using gpu: False\n"
     ]
    },
    {
     "name": "stderr",
     "output_type": "stream",
     "text": [
      "100%|██████████| 30/30 [12:30<00:00, 25.03s/it, loss=0.00137]\n"
     ]
    },
    {
     "name": "stdout",
     "output_type": "stream",
     "text": [
      "EvaluatorHoldout: Processed 35584 (100.0%) in 24.56 sec. Users per second: 1449\n",
      "0.04058737496609714\n",
      "num_factors:  800\n",
      "Using gpu: False\n"
     ]
    },
    {
     "name": "stderr",
     "output_type": "stream",
     "text": [
      "100%|██████████| 30/30 [12:24<00:00, 24.82s/it, loss=0.00135]\n"
     ]
    },
    {
     "name": "stdout",
     "output_type": "stream",
     "text": [
      "EvaluatorHoldout: Processed 35584 (100.0%) in 25.14 sec. Users per second: 1415\n",
      "0.04100068048239851\n",
      "num_factors:  850\n",
      "Using gpu: False\n"
     ]
    },
    {
     "name": "stderr",
     "output_type": "stream",
     "text": [
      "100%|██████████| 30/30 [13:38<00:00, 27.28s/it, loss=0.00133]\n"
     ]
    },
    {
     "name": "stdout",
     "output_type": "stream",
     "text": [
      "EvaluatorHoldout: Processed 35584 (100.0%) in 25.41 sec. Users per second: 1400\n",
      "0.04146098299931332\n",
      "num_factors:  900\n",
      "Using gpu: False\n"
     ]
    },
    {
     "name": "stderr",
     "output_type": "stream",
     "text": [
      "100%|██████████| 30/30 [13:08<00:00, 26.29s/it, loss=0.00131]\n"
     ]
    },
    {
     "name": "stdout",
     "output_type": "stream",
     "text": [
      "EvaluatorHoldout: Processed 35584 (100.0%) in 25.76 sec. Users per second: 1381\n",
      "0.04185049505038678\n",
      "num_factors:  950\n",
      "Using gpu: False\n"
     ]
    },
    {
     "name": "stderr",
     "output_type": "stream",
     "text": [
      "100%|██████████| 30/30 [14:34<00:00, 29.15s/it, loss=0.00129]\n"
     ]
    },
    {
     "name": "stdout",
     "output_type": "stream",
     "text": [
      "EvaluatorHoldout: Processed 35584 (100.0%) in 25.63 sec. Users per second: 1389\n",
      "0.04215939525165414\n",
      "num_factors:  1000\n",
      "Using gpu: False\n"
     ]
    },
    {
     "name": "stderr",
     "output_type": "stream",
     "text": [
      "100%|██████████| 30/30 [15:09<00:00, 30.32s/it, loss=0.00127]\n"
     ]
    },
    {
     "name": "stdout",
     "output_type": "stream",
     "text": [
      "EvaluatorHoldout: Processed 35584 (100.0%) in 26.61 sec. Users per second: 1337\n",
      "0.04239379478559846\n",
      "num_factors:  1050\n",
      "Using gpu: False\n"
     ]
    },
    {
     "name": "stderr",
     "output_type": "stream",
     "text": [
      "100%|██████████| 30/30 [15:21<00:00, 30.72s/it, loss=0.00125]\n"
     ]
    },
    {
     "name": "stdout",
     "output_type": "stream",
     "text": [
      "EvaluatorHoldout: Processed 35584 (100.0%) in 27.45 sec. Users per second: 1296\n",
      "0.04270965816632254\n",
      "num_factors:  1100\n",
      "Using gpu: False\n"
     ]
    },
    {
     "name": "stderr",
     "output_type": "stream",
     "text": [
      "100%|██████████| 30/30 [18:28<00:00, 36.94s/it, loss=0.00123]\n"
     ]
    },
    {
     "name": "stdout",
     "output_type": "stream",
     "text": [
      "EvaluatorHoldout: Processed 35584 (100.0%) in 28.19 sec. Users per second: 1262\n",
      "0.0429559176319643\n",
      "num_factors:  1150\n",
      "Using gpu: False\n"
     ]
    },
    {
     "name": "stderr",
     "output_type": "stream",
     "text": [
      "100%|██████████| 30/30 [16:55<00:00, 33.86s/it, loss=0.00121]\n"
     ]
    },
    {
     "name": "stdout",
     "output_type": "stream",
     "text": [
      "EvaluatorHoldout: Processed 35584 (100.0%) in 27.56 sec. Users per second: 1291\n",
      "0.043249520918977664\n",
      "num_factors:  1200\n",
      "Using gpu: False\n"
     ]
    },
    {
     "name": "stderr",
     "output_type": "stream",
     "text": [
      "100%|██████████| 30/30 [18:14<00:00, 36.49s/it, loss=0.0012]\n"
     ]
    },
    {
     "name": "stdout",
     "output_type": "stream",
     "text": [
      "EvaluatorHoldout: Processed 35584 (100.0%) in 28.72 sec. Users per second: 1239\n",
      "0.043451903655645344\n",
      "num_factors:  1250\n",
      "Using gpu: False\n"
     ]
    },
    {
     "name": "stderr",
     "output_type": "stream",
     "text": [
      "100%|██████████| 30/30 [18:48<00:00, 37.63s/it, loss=0.00118]\n"
     ]
    },
    {
     "name": "stdout",
     "output_type": "stream",
     "text": [
      "EvaluatorHoldout: Processed 35584 (100.0%) in 28.50 sec. Users per second: 1248\n",
      "0.04360099308945549\n",
      "num_factors:  1300\n",
      "Using gpu: False\n"
     ]
    },
    {
     "name": "stderr",
     "output_type": "stream",
     "text": [
      "100%|██████████| 30/30 [18:58<00:00, 37.95s/it, loss=0.00116]\n"
     ]
    },
    {
     "name": "stdout",
     "output_type": "stream",
     "text": [
      "EvaluatorHoldout: Processed 35584 (100.0%) in 27.84 sec. Users per second: 1278\n",
      "0.04381769026742745\n",
      "num_factors:  1350\n",
      "Using gpu: False\n"
     ]
    },
    {
     "name": "stderr",
     "output_type": "stream",
     "text": [
      "100%|██████████| 30/30 [19:40<00:00, 39.36s/it, loss=0.00115]\n"
     ]
    },
    {
     "name": "stdout",
     "output_type": "stream",
     "text": [
      "EvaluatorHoldout: Processed 35584 (100.0%) in 28.12 sec. Users per second: 1265\n",
      "0.044102673218566486\n",
      "num_factors:  1400\n",
      "Using gpu: False\n"
     ]
    },
    {
     "name": "stderr",
     "output_type": "stream",
     "text": [
      "100%|██████████| 30/30 [19:51<00:00, 39.72s/it, loss=0.00113]\n"
     ]
    },
    {
     "name": "stdout",
     "output_type": "stream",
     "text": [
      "EvaluatorHoldout: Processed 35584 (100.0%) in 28.57 sec. Users per second: 1246\n",
      "0.04423395100883417\n",
      "num_factors:  1450\n",
      "Using gpu: False\n"
     ]
    },
    {
     "name": "stderr",
     "output_type": "stream",
     "text": [
      "100%|██████████| 30/30 [20:54<00:00, 41.82s/it, loss=0.00112]\n"
     ]
    },
    {
     "name": "stdout",
     "output_type": "stream",
     "text": [
      "EvaluatorHoldout: Processed 35584 (100.0%) in 29.77 sec. Users per second: 1195\n",
      "0.044269846399664345\n",
      "num_factors:  1500\n",
      "Using gpu: False\n"
     ]
    },
    {
     "name": "stderr",
     "output_type": "stream",
     "text": [
      "100%|██████████| 30/30 [21:20<00:00, 42.69s/it, loss=0.0011] \n"
     ]
    },
    {
     "name": "stdout",
     "output_type": "stream",
     "text": [
      "EvaluatorHoldout: Processed 35584 (100.0%) in 29.84 sec. Users per second: 1193\n",
      "0.04452927167194644\n",
      "num_factors:  1550\n",
      "Using gpu: False\n"
     ]
    },
    {
     "name": "stderr",
     "output_type": "stream",
     "text": [
      "100%|██████████| 30/30 [22:42<00:00, 45.42s/it, loss=0.00109]\n"
     ]
    },
    {
     "name": "stdout",
     "output_type": "stream",
     "text": [
      "EvaluatorHoldout: Processed 35584 (100.0%) in 29.76 sec. Users per second: 1196\n",
      "0.044734790292764066\n",
      "num_factors:  1600\n",
      "Using gpu: False\n"
     ]
    },
    {
     "name": "stderr",
     "output_type": "stream",
     "text": [
      "100%|██████████| 30/30 [23:04<00:00, 46.15s/it, loss=0.00108]\n"
     ]
    },
    {
     "name": "stdout",
     "output_type": "stream",
     "text": [
      "EvaluatorHoldout: Processed 35584 (100.0%) in 30.84 sec. Users per second: 1154\n",
      "0.04483447951460103\n",
      "num_factors:  1650\n",
      "Using gpu: False\n"
     ]
    },
    {
     "name": "stderr",
     "output_type": "stream",
     "text": [
      "100%|██████████| 30/30 [25:05<00:00, 50.19s/it, loss=0.00106]\n"
     ]
    },
    {
     "name": "stdout",
     "output_type": "stream",
     "text": [
      "EvaluatorHoldout: Processed 35584 (100.0%) in 31.37 sec. Users per second: 1134\n",
      "0.04501396092946883\n",
      "num_factors:  1700\n",
      "Using gpu: False\n"
     ]
    },
    {
     "name": "stderr",
     "output_type": "stream",
     "text": [
      "100%|██████████| 30/30 [58:19<00:00, 116.65s/it, loss=0.00105]\n"
     ]
    },
    {
     "name": "stdout",
     "output_type": "stream",
     "text": [
      "EvaluatorHoldout: Processed 35584 (100.0%) in 32.06 sec. Users per second: 1110\n",
      "0.04511794247637427\n",
      "num_factors:  1750\n",
      "Using gpu: False\n"
     ]
    },
    {
     "name": "stderr",
     "output_type": "stream",
     "text": [
      "100%|██████████| 30/30 [26:43<00:00, 53.45s/it, loss=0.00104]\n"
     ]
    },
    {
     "name": "stdout",
     "output_type": "stream",
     "text": [
      "EvaluatorHoldout: Processed 35584 (100.0%) in 29.13 sec. Users per second: 1221\n",
      "0.04529534408187569\n",
      "num_factors:  1800\n",
      "Using gpu: False\n"
     ]
    },
    {
     "name": "stderr",
     "output_type": "stream",
     "text": [
      "100%|██████████| 30/30 [26:11<00:00, 52.39s/it, loss=0.00102]\n"
     ]
    },
    {
     "name": "stdout",
     "output_type": "stream",
     "text": [
      "EvaluatorHoldout: Processed 35584 (100.0%) in 31.13 sec. Users per second: 1143\n",
      "0.045334979784028374\n",
      "num_factors:  1850\n",
      "Using gpu: False\n"
     ]
    },
    {
     "name": "stderr",
     "output_type": "stream",
     "text": [
      "100%|██████████| 30/30 [1:16:31<00:00, 153.05s/it, loss=0.00101]  \n"
     ]
    },
    {
     "name": "stdout",
     "output_type": "stream",
     "text": [
      "EvaluatorHoldout: Processed 35584 (100.0%) in 30.26 sec. Users per second: 1176\n",
      "0.04540616725369543\n",
      "num_factors:  1900\n",
      "Using gpu: False\n"
     ]
    },
    {
     "name": "stderr",
     "output_type": "stream",
     "text": [
      "100%|██████████| 30/30 [29:08<00:00, 58.27s/it, loss=0.001]  \n"
     ]
    },
    {
     "name": "stdout",
     "output_type": "stream",
     "text": [
      "EvaluatorHoldout: Processed 35584 (100.0%) in 30.18 sec. Users per second: 1179\n",
      "0.04552635347079324\n",
      "num_factors:  1950\n",
      "Using gpu: False\n"
     ]
    },
    {
     "name": "stderr",
     "output_type": "stream",
     "text": [
      "100%|██████████| 30/30 [30:04<00:00, 60.17s/it, loss=0.000988]\n"
     ]
    },
    {
     "name": "stdout",
     "output_type": "stream",
     "text": [
      "EvaluatorHoldout: Processed 35584 (100.0%) in 29.69 sec. Users per second: 1199\n",
      "0.04565488680484021\n",
      "num_factors:  2000\n",
      "Using gpu: False\n"
     ]
    },
    {
     "name": "stderr",
     "output_type": "stream",
     "text": [
      "100%|██████████| 30/30 [30:23<00:00, 60.77s/it, loss=0.000976]\n"
     ]
    },
    {
     "name": "stdout",
     "output_type": "stream",
     "text": [
      "EvaluatorHoldout: Processed 35584 (100.0%) in 30.51 sec. Users per second: 1166\n",
      "0.04564001365871425\n",
      "num_factors:  2050\n",
      "Using gpu: False\n"
     ]
    },
    {
     "name": "stderr",
     "output_type": "stream",
     "text": [
      "100%|██████████| 30/30 [32:51<00:00, 65.73s/it, loss=0.000964]\n"
     ]
    },
    {
     "name": "stdout",
     "output_type": "stream",
     "text": [
      "EvaluatorHoldout: Processed 35584 (100.0%) in 32.63 sec. Users per second: 1091\n",
      "0.04573662833126206\n",
      "num_factors:  2100\n",
      "Using gpu: False\n"
     ]
    },
    {
     "name": "stderr",
     "output_type": "stream",
     "text": [
      " 27%|██▋       | 8/30 [10:02<27:38, 75.37s/it, loss=0.000962]\n"
     ]
    },
    {
     "ename": "KeyboardInterrupt",
     "evalue": "",
     "output_type": "error",
     "traceback": [
      "\u001b[0;31m---------------------------------------------------------------------------\u001b[0m",
      "\u001b[0;31mKeyboardInterrupt\u001b[0m                         Traceback (most recent call last)",
      "Cell \u001b[0;32mIn[38], line 6\u001b[0m\n\u001b[1;32m      4\u001b[0m \u001b[38;5;28mprint\u001b[39m(\u001b[38;5;124m\"\u001b[39m\u001b[38;5;124mnum_factors: \u001b[39m\u001b[38;5;124m\"\u001b[39m, \u001b[38;5;241m550\u001b[39m\u001b[38;5;241m+\u001b[39mi\u001b[38;5;241m*\u001b[39m\u001b[38;5;241m50\u001b[39m)\n\u001b[1;32m      5\u001b[0m model \u001b[38;5;241m=\u001b[39m ImplicitALSRecommender(URM_train_validation)\n\u001b[0;32m----> 6\u001b[0m \u001b[43mmodel\u001b[49m\u001b[38;5;241;43m.\u001b[39;49m\u001b[43mfit\u001b[49m\u001b[43m(\u001b[49m\u001b[43m \u001b[49m\u001b[43mepochs\u001b[49m\u001b[38;5;241;43m=\u001b[39;49m\u001b[38;5;241;43m30\u001b[39;49m\u001b[43m,\u001b[49m\n\u001b[1;32m      7\u001b[0m \u001b[43m        \u001b[49m\u001b[43mnum_factors\u001b[49m\u001b[38;5;241;43m=\u001b[39;49m\u001b[38;5;241;43m550\u001b[39;49m\u001b[38;5;241;43m+\u001b[39;49m\u001b[43mi\u001b[49m\u001b[38;5;241;43m*\u001b[39;49m\u001b[38;5;241;43m50\u001b[39;49m\u001b[43m,\u001b[49m\n\u001b[1;32m      8\u001b[0m \u001b[43m        \u001b[49m\u001b[43mconfidence_scaling\u001b[49m\u001b[38;5;241;43m=\u001b[39;49m\u001b[38;5;124;43m\"\u001b[39;49m\u001b[38;5;124;43mlinear\u001b[39;49m\u001b[38;5;124;43m\"\u001b[39;49m\u001b[43m,\u001b[49m\n\u001b[1;32m      9\u001b[0m \u001b[43m        \u001b[49m\u001b[43malpha\u001b[49m\u001b[38;5;241;43m=\u001b[39;49m\u001b[38;5;241;43m1.0\u001b[39;49m\u001b[43m,\u001b[49m\n\u001b[1;32m     10\u001b[0m \u001b[43m        \u001b[49m\u001b[43mepsilon\u001b[49m\u001b[38;5;241;43m=\u001b[39;49m\u001b[38;5;241;43m1.0\u001b[39;49m\u001b[43m,\u001b[49m\n\u001b[1;32m     11\u001b[0m \u001b[43m        \u001b[49m\u001b[43mreg\u001b[49m\u001b[38;5;241;43m=\u001b[39;49m\u001b[38;5;241;43m1e-4\u001b[39;49m\u001b[43m,\u001b[49m\n\u001b[1;32m     12\u001b[0m \u001b[43m        \u001b[49m\u001b[43muse_gpu\u001b[49m\u001b[38;5;241;43m=\u001b[39;49m\u001b[38;5;28;43;01mFalse\u001b[39;49;00m\u001b[43m,\u001b[49m\n\u001b[1;32m     13\u001b[0m \u001b[43m        \u001b[49m\u001b[43mnum_threads\u001b[49m\u001b[38;5;241;43m=\u001b[39;49m\u001b[38;5;241;43m8\u001b[39;49m\u001b[43m,\u001b[49m\n\u001b[1;32m     14\u001b[0m \u001b[43m        \u001b[49m\u001b[43mcalculate_training_loss\u001b[49m\u001b[38;5;241;43m=\u001b[39;49m\u001b[38;5;28;43;01mTrue\u001b[39;49;00m\n\u001b[1;32m     15\u001b[0m \u001b[43m        \u001b[49m\u001b[43m)\u001b[49m\n\u001b[1;32m     16\u001b[0m result_df, _ \u001b[38;5;241m=\u001b[39m evaluator_test\u001b[38;5;241m.\u001b[39mevaluateRecommender(model)\n\u001b[1;32m     17\u001b[0m \u001b[38;5;28mprint\u001b[39m(result_df\u001b[38;5;241m.\u001b[39mloc[\u001b[38;5;241m10\u001b[39m][\u001b[38;5;124m\"\u001b[39m\u001b[38;5;124mMAP\u001b[39m\u001b[38;5;124m\"\u001b[39m])\n",
      "File \u001b[0;32m~/Desktop/RecSys_Course_AT_PoliMi-master/Recommenders/MatrixFactorization/IALSJ.py:57\u001b[0m, in \u001b[0;36mImplicitALSRecommender.fit\u001b[0;34m(self, num_factors, reg, use_native, use_cg, use_gpu, epochs, calculate_training_loss, num_threads, alpha, epsilon, confidence_scaling)\u001b[0m\n\u001b[1;32m     50\u001b[0m conf_scale \u001b[38;5;241m=\u001b[39m linear_scaling_confidence \u001b[38;5;28;01mif\u001b[39;00m confidence_scaling\u001b[38;5;241m==\u001b[39m\u001b[38;5;124m\"\u001b[39m\u001b[38;5;124mlinear\u001b[39m\u001b[38;5;124m\"\u001b[39m \u001b[38;5;28;01melse\u001b[39;00m log_scaling_confidence\n\u001b[1;32m     52\u001b[0m \u001b[38;5;28mself\u001b[39m\u001b[38;5;241m.\u001b[39mrec \u001b[38;5;241m=\u001b[39m implicit\u001b[38;5;241m.\u001b[39mals\u001b[38;5;241m.\u001b[39mAlternatingLeastSquares(factors\u001b[38;5;241m=\u001b[39mnum_factors, regularization\u001b[38;5;241m=\u001b[39mreg,\n\u001b[1;32m     53\u001b[0m                                                 use_native\u001b[38;5;241m=\u001b[39muse_native, use_cg\u001b[38;5;241m=\u001b[39muse_cg, use_gpu\u001b[38;5;241m=\u001b[39muse_gpu,\n\u001b[1;32m     54\u001b[0m                                                 iterations\u001b[38;5;241m=\u001b[39mepochs,\n\u001b[1;32m     55\u001b[0m                                                 calculate_training_loss\u001b[38;5;241m=\u001b[39mcalculate_training_loss,\n\u001b[1;32m     56\u001b[0m                                                 num_threads\u001b[38;5;241m=\u001b[39mnum_threads)\n\u001b[0;32m---> 57\u001b[0m \u001b[38;5;28;43mself\u001b[39;49m\u001b[38;5;241;43m.\u001b[39;49m\u001b[43mrec\u001b[49m\u001b[38;5;241;43m.\u001b[39;49m\u001b[43mfit\u001b[49m\u001b[43m(\u001b[49m\u001b[43mconf_scale\u001b[49m\u001b[43m(\u001b[49m\u001b[38;5;28;43mself\u001b[39;49m\u001b[38;5;241;43m.\u001b[39;49m\u001b[43mURM_train\u001b[49m\u001b[43m,\u001b[49m\u001b[43m \u001b[49m\u001b[43malpha\u001b[49m\u001b[43m,\u001b[49m\u001b[43m \u001b[49m\u001b[43mepsilon\u001b[49m\u001b[43m)\u001b[49m\u001b[43m,\u001b[49m\u001b[43m \u001b[49m\u001b[43mshow_progress\u001b[49m\u001b[38;5;241;43m=\u001b[39;49m\u001b[38;5;28;43mself\u001b[39;49m\u001b[38;5;241;43m.\u001b[39;49m\u001b[43mverbose\u001b[49m\u001b[43m)\u001b[49m\n\u001b[1;32m     59\u001b[0m \u001b[38;5;28;01mif\u001b[39;00m(use_gpu):\n\u001b[1;32m     60\u001b[0m     \u001b[38;5;28mself\u001b[39m\u001b[38;5;241m.\u001b[39mrec \u001b[38;5;241m=\u001b[39m \u001b[38;5;28mself\u001b[39m\u001b[38;5;241m.\u001b[39mrec\u001b[38;5;241m.\u001b[39mto_cpu()\n",
      "File \u001b[0;32m/opt/anaconda3/envs/RecSysPD/lib/python3.8/site-packages/implicit/cpu/als.py:170\u001b[0m, in \u001b[0;36mAlternatingLeastSquares.fit\u001b[0;34m(self, user_items, show_progress, callback)\u001b[0m\n\u001b[1;32m    162\u001b[0m s \u001b[38;5;241m=\u001b[39m time\u001b[38;5;241m.\u001b[39mtime()\n\u001b[1;32m    163\u001b[0m solver(\n\u001b[1;32m    164\u001b[0m     Cui,\n\u001b[1;32m    165\u001b[0m     \u001b[38;5;28mself\u001b[39m\u001b[38;5;241m.\u001b[39muser_factors,\n\u001b[0;32m   (...)\u001b[0m\n\u001b[1;32m    168\u001b[0m     num_threads\u001b[38;5;241m=\u001b[39m\u001b[38;5;28mself\u001b[39m\u001b[38;5;241m.\u001b[39mnum_threads,\n\u001b[1;32m    169\u001b[0m )\n\u001b[0;32m--> 170\u001b[0m \u001b[43msolver\u001b[49m\u001b[43m(\u001b[49m\n\u001b[1;32m    171\u001b[0m \u001b[43m    \u001b[49m\u001b[43mCiu\u001b[49m\u001b[43m,\u001b[49m\n\u001b[1;32m    172\u001b[0m \u001b[43m    \u001b[49m\u001b[38;5;28;43mself\u001b[39;49m\u001b[38;5;241;43m.\u001b[39;49m\u001b[43mitem_factors\u001b[49m\u001b[43m,\u001b[49m\n\u001b[1;32m    173\u001b[0m \u001b[43m    \u001b[49m\u001b[38;5;28;43mself\u001b[39;49m\u001b[38;5;241;43m.\u001b[39;49m\u001b[43muser_factors\u001b[49m\u001b[43m,\u001b[49m\n\u001b[1;32m    174\u001b[0m \u001b[43m    \u001b[49m\u001b[38;5;28;43mself\u001b[39;49m\u001b[38;5;241;43m.\u001b[39;49m\u001b[43mregularization\u001b[49m\u001b[43m,\u001b[49m\n\u001b[1;32m    175\u001b[0m \u001b[43m    \u001b[49m\u001b[43mnum_threads\u001b[49m\u001b[38;5;241;43m=\u001b[39;49m\u001b[38;5;28;43mself\u001b[39;49m\u001b[38;5;241;43m.\u001b[39;49m\u001b[43mnum_threads\u001b[49m\u001b[43m,\u001b[49m\n\u001b[1;32m    176\u001b[0m \u001b[43m\u001b[49m\u001b[43m)\u001b[49m\n\u001b[1;32m    177\u001b[0m progress\u001b[38;5;241m.\u001b[39mupdate(\u001b[38;5;241m1\u001b[39m)\n\u001b[1;32m    179\u001b[0m \u001b[38;5;28;01mif\u001b[39;00m \u001b[38;5;28mself\u001b[39m\u001b[38;5;241m.\u001b[39mcalculate_training_loss:\n",
      "\u001b[0;31mKeyboardInterrupt\u001b[0m: "
     ]
    }
   ],
   "source": [
    "from Recommenders.MatrixFactorization.IALSJ import ImplicitALSRecommender\n",
    "\n",
    "for i in range(40):\n",
    "        print(\"num_factors: \", 550+i*50)\n",
    "        model = ImplicitALSRecommender(URM_train_validation)\n",
    "        model.fit( epochs=30,\n",
    "                num_factors=550+i*50,\n",
    "                confidence_scaling=\"linear\",\n",
    "                alpha=1.0,\n",
    "                epsilon=1.0,\n",
    "                reg=1e-4,\n",
    "                use_gpu=False,\n",
    "                num_threads=8,\n",
    "                calculate_training_loss=True\n",
    "                )\n",
    "        result_df, _ = evaluator_test.evaluateRecommender(model)\n",
    "        print(result_df.loc[10][\"MAP\"])"
   ]
  },
  {
   "cell_type": "code",
   "execution_count": null,
   "id": "20fd93b5",
   "metadata": {},
   "outputs": [],
   "source": []
  },
  {
   "cell_type": "code",
   "execution_count": 4,
   "id": "8c8c4f7a",
   "metadata": {},
   "outputs": [
    {
     "name": "stdout",
     "output_type": "stream",
     "text": [
      "alpha:  1\n",
      "Using gpu: False\n"
     ]
    },
    {
     "name": "stderr",
     "output_type": "stream",
     "text": [
      "100%|██████████| 15/15 [11:50<00:00, 47.37s/it, loss=0.000873]\n"
     ]
    },
    {
     "name": "stdout",
     "output_type": "stream",
     "text": [
      "EvaluatorHoldout: Processed 35584 (100.0%) in 29.78 sec. Users per second: 1195\n",
      "0.033510330128753166\n",
      "EvaluatorHoldout: Processed 35335 (100.0%) in 29.93 sec. Users per second: 1181\n",
      "0.025917308482752786\n",
      "alpha:  2\n",
      "Using gpu: False\n"
     ]
    },
    {
     "name": "stderr",
     "output_type": "stream",
     "text": [
      "100%|██████████| 15/15 [12:12<00:00, 48.84s/it, loss=0.00113]\n"
     ]
    },
    {
     "name": "stdout",
     "output_type": "stream",
     "text": [
      "EvaluatorHoldout: Processed 35584 (100.0%) in 29.29 sec. Users per second: 1215\n",
      "0.03486536217454494\n",
      "EvaluatorHoldout: Processed 35335 (100.0%) in 30.10 sec. Users per second: 1174\n",
      "0.02717416518987126\n",
      "alpha:  3\n",
      "Using gpu: False\n"
     ]
    },
    {
     "name": "stderr",
     "output_type": "stream",
     "text": [
      "100%|██████████| 15/15 [12:10<00:00, 48.70s/it, loss=0.00133]\n"
     ]
    },
    {
     "name": "stdout",
     "output_type": "stream",
     "text": [
      "EvaluatorHoldout: Processed 35584 (100.0%) in 30.81 sec. Users per second: 1155\n",
      "0.035604789605813994\n",
      "EvaluatorHoldout: Processed 35335 (100.0%) in 30.29 sec. Users per second: 1167\n",
      "0.027609789295652387\n",
      "alpha:  4\n",
      "Using gpu: False\n"
     ]
    },
    {
     "name": "stderr",
     "output_type": "stream",
     "text": [
      "100%|██████████| 15/15 [12:02<00:00, 48.16s/it, loss=0.00149]\n"
     ]
    },
    {
     "name": "stdout",
     "output_type": "stream",
     "text": [
      "EvaluatorHoldout: Processed 35584 (100.0%) in 31.58 sec. Users per second: 1127\n",
      "0.03581231331898635\n",
      "EvaluatorHoldout: Processed 35335 (100.0%) in 30.26 sec. Users per second: 1168\n",
      "0.027739083511334004\n",
      "alpha:  5\n",
      "Using gpu: False\n"
     ]
    },
    {
     "name": "stderr",
     "output_type": "stream",
     "text": [
      "100%|██████████| 15/15 [12:04<00:00, 48.33s/it, loss=0.00162]\n"
     ]
    },
    {
     "name": "stdout",
     "output_type": "stream",
     "text": [
      "EvaluatorHoldout: Processed 35584 (100.0%) in 30.50 sec. Users per second: 1167\n",
      "0.035980858170605076\n",
      "EvaluatorHoldout: Processed 35335 (100.0%) in 29.39 sec. Users per second: 1202\n",
      "0.027926802644079395\n",
      "alpha:  6\n",
      "Using gpu: False\n"
     ]
    },
    {
     "name": "stderr",
     "output_type": "stream",
     "text": [
      "100%|██████████| 15/15 [12:12<00:00, 48.83s/it, loss=0.00173]\n"
     ]
    },
    {
     "name": "stdout",
     "output_type": "stream",
     "text": [
      "EvaluatorHoldout: Processed 35584 (100.0%) in 29.59 sec. Users per second: 1203\n",
      "0.03596204621124389\n",
      "EvaluatorHoldout: Processed 35335 (100.0%) in 28.58 sec. Users per second: 1236\n",
      "0.027976510541954637\n",
      "alpha:  7\n",
      "Using gpu: False\n"
     ]
    },
    {
     "name": "stderr",
     "output_type": "stream",
     "text": [
      "100%|██████████| 15/15 [42:54<00:00, 171.66s/it, loss=0.00182] \n"
     ]
    },
    {
     "name": "stdout",
     "output_type": "stream",
     "text": [
      "EvaluatorHoldout: Processed 35584 (100.0%) in 27.36 sec. Users per second: 1300\n",
      "0.035995256250355524\n",
      "EvaluatorHoldout: Processed 35335 (100.0%) in 27.47 sec. Users per second: 1286\n",
      "0.02799733390832789\n",
      "alpha:  8\n",
      "Using gpu: False\n"
     ]
    },
    {
     "name": "stderr",
     "output_type": "stream",
     "text": [
      "100%|██████████| 15/15 [11:49<00:00, 47.27s/it, loss=0.0019] \n"
     ]
    },
    {
     "name": "stdout",
     "output_type": "stream",
     "text": [
      "EvaluatorHoldout: Processed 35584 (100.0%) in 27.99 sec. Users per second: 1271\n",
      "0.0360233052397355\n",
      "EvaluatorHoldout: Processed 35335 (100.0%) in 28.01 sec. Users per second: 1262\n",
      "0.027993094440737602\n",
      "alpha:  9\n",
      "Using gpu: False\n"
     ]
    },
    {
     "name": "stderr",
     "output_type": "stream",
     "text": [
      "100%|██████████| 15/15 [17:50<00:00, 71.35s/it, loss=0.00197]\n"
     ]
    },
    {
     "name": "stdout",
     "output_type": "stream",
     "text": [
      "EvaluatorHoldout: Processed 35584 (100.0%) in 30.18 sec. Users per second: 1179\n",
      "0.03591523879110879\n",
      "EvaluatorHoldout: Processed 35335 (100.0%) in 28.85 sec. Users per second: 1225\n",
      "0.027870495776254087\n",
      "alpha:  10\n",
      "Using gpu: False\n"
     ]
    },
    {
     "name": "stderr",
     "output_type": "stream",
     "text": [
      "100%|██████████| 15/15 [12:01<00:00, 48.11s/it, loss=0.00203]\n"
     ]
    },
    {
     "name": "stdout",
     "output_type": "stream",
     "text": [
      "EvaluatorHoldout: Processed 35584 (100.0%) in 30.36 sec. Users per second: 1172\n",
      "0.035993649277005595\n",
      "EvaluatorHoldout: Processed 35335 (100.0%) in 29.77 sec. Users per second: 1187\n",
      "0.027914886090277893\n"
     ]
    }
   ],
   "source": [
    "from Recommenders.MatrixFactorization.IALSJ import ImplicitALSRecommender\n",
    "for i in range(10):\n",
    "    print(\"alpha: \", 1+i)\n",
    "    model = ImplicitALSRecommender(URM_train)\n",
    "    model.fit( epochs=15,\n",
    "                    num_factors=1650,\n",
    "                    confidence_scaling=\"linear\",\n",
    "                    alpha=1+i,\n",
    "                    epsilon=1.0,\n",
    "                    reg=1e-4,\n",
    "                    use_gpu=False,\n",
    "                    num_threads=8,\n",
    "                    calculate_training_loss=True\n",
    "                    )\n",
    "    result_df, _ = evaluator_test.evaluateRecommender(model)\n",
    "    print(result_df.loc[10][\"MAP\"])\n",
    "    result_df, _ = evaluator_validation.evaluateRecommender(model)\n",
    "    print(result_df.loc[10][\"MAP\"])"
   ]
  },
  {
   "cell_type": "code",
   "execution_count": 5,
   "id": "7ca5703e",
   "metadata": {},
   "outputs": [
    {
     "name": "stdout",
     "output_type": "stream",
     "text": [
      "Using gpu: False\n"
     ]
    },
    {
     "name": "stderr",
     "output_type": "stream",
     "text": [
      "100%|██████████| 15/15 [12:15<00:00, 49.06s/it, loss=0.00208]\n"
     ]
    },
    {
     "name": "stdout",
     "output_type": "stream",
     "text": [
      "EvaluatorHoldout: Processed 35584 (100.0%) in 30.30 sec. Users per second: 1174\n",
      "0.0481005864950879\n",
      "EvaluatorHoldout: Processed 35335 (100.0%) in 28.04 sec. Users per second: 1260\n",
      "0.0\n"
     ]
    }
   ],
   "source": [
    "from Recommenders.MatrixFactorization.IALSJ import ImplicitALSRecommender\n",
    "model = ImplicitALSRecommender(URM_train_validation)\n",
    "model.fit( epochs=15,\n",
    "                    num_factors=1650,\n",
    "                    confidence_scaling=\"linear\",\n",
    "                    alpha=6,\n",
    "                    epsilon=1.0,\n",
    "                    reg=1e-4,\n",
    "                    use_gpu=False,\n",
    "                    num_threads=8,\n",
    "                    calculate_training_loss=True\n",
    "                    )\n",
    "result_df, _ = evaluator_test.evaluateRecommender(model)\n",
    "print(result_df.loc[10][\"MAP\"])\n",
    "result_df, _ = evaluator_validation.evaluateRecommender(model)\n",
    "print(result_df.loc[10][\"MAP\"])"
   ]
  }
 ],
 "metadata": {
  "kernelspec": {
   "display_name": "RecSysFramework",
   "language": "python",
   "name": "python3"
  },
  "language_info": {
   "codemirror_mode": {
    "name": "ipython",
    "version": 3
   },
   "file_extension": ".py",
   "mimetype": "text/x-python",
   "name": "python",
   "nbconvert_exporter": "python",
   "pygments_lexer": "ipython3",
   "version": "3.8.20"
  }
 },
 "nbformat": 4,
 "nbformat_minor": 5
}
