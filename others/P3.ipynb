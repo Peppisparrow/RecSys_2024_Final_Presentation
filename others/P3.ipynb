{
 "cells": [
  {
   "cell_type": "markdown",
   "id": "1dda399e",
   "metadata": {},
   "source": [
    "### Step 1: Split the data and create the evaluator objects"
   ]
  },
  {
   "cell_type": "code",
   "execution_count": 1,
   "id": "8b8f0249",
   "metadata": {},
   "outputs": [
    {
     "name": "stdout",
     "output_type": "stream",
     "text": [
      "URM_train (80% of URM_ALL):\n",
      "         user_id  item_id  data\n",
      "136935      1523    11379   1.0\n",
      "286638      3415    29647   1.0\n",
      "499343      6571    11101   1.0\n",
      "1612162    31036    17962   1.0\n",
      "1231767    22131    20291   1.0\n",
      "1419045    25670    32878   1.0\n",
      "505970      6677    30720   1.0\n",
      "1309905    23612    35978   1.0\n",
      "1026162    17411     9221   1.0\n",
      "991787     16720     2668   1.0\n",
      "\n",
      "URM_validation (20% of URM_ALL):\n",
      "         user_id  item_id  data\n",
      "1293463    23345    37683   1.0\n",
      "978469     16471     1559   1.0\n",
      "1139447    19988     6956   1.0\n",
      "628101      8833      614   1.0\n",
      "1276102    23100    20305   1.0\n",
      "570596      7748      117   1.0\n",
      "1232901    22148    35968   1.0\n",
      "1544801    29212    33031   1.0\n",
      "1033303    17563    34624   1.0\n",
      "658881      9451     9732   1.0\n",
      "\n",
      "URM_test (20% of URM_ALL):\n",
      "         user_id  item_id  data\n",
      "1092502    18939     8673   1.0\n",
      "367273      4669     2436   1.0\n",
      "1181580    20972    25295   1.0\n",
      "1243868    22394    23927   1.0\n",
      "302903      3680    24294   1.0\n",
      "1337700    24013    14508   1.0\n",
      "534570      7203     5330   1.0\n",
      "1723340    34271    35125   1.0\n",
      "559412      7511     8894   1.0\n",
      "1046032    17839    20469   1.0\n"
     ]
    }
   ],
   "source": [
    "from Evaluation.Evaluator import EvaluatorHoldout\n",
    "from sklearn.model_selection import train_test_split\n",
    "import pandas as pd\n",
    "import numpy as np\n",
    "from scipy.sparse import csr_matrix\n",
    "\n",
    "URM_all_dataframe = pd.read_csv(filepath_or_buffer=\"data_train.csv\")\n",
    "ICM_all = pd.read_csv(filepath_or_buffer=\"data_ICM_metadata.csv\")\n",
    "URM_all_dataframe.head(n=10)\n",
    "\n",
    "\n",
    "URM_train_validation, URM_test = train_test_split(URM_all_dataframe, test_size=0.2, random_state=42)\n",
    "URM_train, URM_validation = train_test_split(URM_train_validation, test_size=0.2, random_state=42)\n",
    "\n",
    "# # Reset indices for cleaner output (optional)\n",
    "# URM_test = URM_test.reset_index(drop=True)\n",
    "# URM_validation = URM_validation.reset_index(drop=True)\n",
    "# URM_train = URM_train.reset_index(drop=True)\n",
    "# URM_train_validation = URM_train_validation.reset_index(drop=True)\n",
    "\n",
    "# Display the results\n",
    "print(\"URM_train (80% of URM_ALL):\")\n",
    "print(URM_train.head(n=10))\n",
    "\n",
    "print(\"\\nURM_validation (20% of URM_ALL):\")\n",
    "print(URM_validation.head(n=10))\n",
    "\n",
    "print(\"\\nURM_test (20% of URM_ALL):\")\n",
    "print(URM_test.head(n=10))\n"
   ]
  },
  {
   "cell_type": "code",
   "execution_count": 2,
   "id": "ff8a1d52",
   "metadata": {},
   "outputs": [
    {
     "name": "stdout",
     "output_type": "stream",
     "text": [
      "Preview del dataset:\n",
      "   user_id  item_id  data\n",
      "0        0        0   1.0\n",
      "1        0        2   1.0\n",
      "2        0      120   1.0\n",
      "3        0      128   1.0\n",
      "4        0      211   1.0\n",
      "\n",
      "Numero totale di utenti: 35736\n",
      "Numero totale di item: 38121\n",
      "Numero totale di interazioni: 1764607\n",
      "\n",
      "Numero di utenti senza interazioni: 0\n",
      "\n",
      "Numero minimo di interazioni per utente: 12\n",
      "Utenti con il numero minimo di interazioni: [35484] (mostrati i primi 10)\n",
      "\n",
      "Numero massimo di interazioni per utente: 5895\n",
      "Utenti con il numero massimo di interazioni: [1680] (mostrati i primi 10)\n",
      "\n",
      "Numero medio di interazioni per utente: 49.38\n",
      "Numero mediano di interazioni per utente: 30.00\n",
      "\n",
      "Distribuzione delle interazioni (numero di utenti per numero di interazioni):\n",
      "12        1\n",
      "13        4\n",
      "14       24\n",
      "15       99\n",
      "16      309\n",
      "       ... \n",
      "1113      1\n",
      "1383      1\n",
      "2224      1\n",
      "3040      1\n",
      "5895      1\n",
      "Name: count, Length: 486, dtype: int64\n",
      "\n",
      "Numero minimo di interazioni per item: 12\n",
      "Item con il numero minimo di interazioni: [8152] (mostrati i primi 10)\n",
      "\n",
      "Numero massimo di interazioni per item: 1470\n",
      "Item con il numero massimo di interazioni: [11146] (mostrati i primi 10)\n",
      "\n",
      "Densità della matrice di interazioni: 0.001295\n",
      "\n",
      "Riassunto del dataset:\n",
      "Numero totale di utenti: 35736\n",
      "Numero totale di item: 38121\n",
      "Numero totale di interazioni: 1764607\n",
      "Utenti senza interazioni: 0\n",
      "Minimo interazioni per utente: 12\n",
      "Massimo interazioni per utente: 5895\n",
      "Media interazioni per utente: 49.378973584060894\n",
      "Mediana interazioni per utente: 30.0\n",
      "Densità della matrice: 0.0012953220950148445\n",
      "Numero minimo di interazioni per item: 12\n",
      "Numero massimo di interazioni per item: 1470\n"
     ]
    }
   ],
   "source": [
    "import pandas as pd\n",
    "\n",
    "# Carica il dataset URM_all_dataframe\n",
    "URM_all_dataframe = pd.read_csv(filepath_or_buffer=\"data_train.csv\")\n",
    "\n",
    "# Controlla le colonne del dataset (assumo 'user_id', 'item_id', 'interaction' come colonne principali)\n",
    "print(\"Preview del dataset:\")\n",
    "print(URM_all_dataframe.head())\n",
    "\n",
    "# Numero di utenti e item unici\n",
    "num_users = URM_all_dataframe['user_id'].nunique()\n",
    "num_items = URM_all_dataframe['item_id'].nunique()\n",
    "print(f\"\\nNumero totale di utenti: {num_users}\")\n",
    "print(f\"Numero totale di item: {num_items}\")\n",
    "\n",
    "# Numero totale di interazioni\n",
    "total_interactions = len(URM_all_dataframe)\n",
    "print(f\"Numero totale di interazioni: {total_interactions}\")\n",
    "\n",
    "# Numero di interazioni per utente\n",
    "user_interaction_counts = URM_all_dataframe.groupby('user_id').size()\n",
    "\n",
    "# Utenti senza interazioni\n",
    "users_with_no_interactions = num_users - len(user_interaction_counts)\n",
    "print(f\"\\nNumero di utenti senza interazioni: {users_with_no_interactions}\")\n",
    "\n",
    "# Utenti con il minimo numero di interazioni\n",
    "min_interactions = user_interaction_counts.min()\n",
    "users_with_min_interactions = user_interaction_counts[user_interaction_counts == min_interactions].index.tolist()\n",
    "print(f\"\\nNumero minimo di interazioni per utente: {min_interactions}\")\n",
    "print(f\"Utenti con il numero minimo di interazioni: {users_with_min_interactions[:10]} (mostrati i primi 10)\")\n",
    "\n",
    "# Utenti con il massimo numero di interazioni\n",
    "max_interactions = user_interaction_counts.max()\n",
    "users_with_max_interactions = user_interaction_counts[user_interaction_counts == max_interactions].index.tolist()\n",
    "print(f\"\\nNumero massimo di interazioni per utente: {max_interactions}\")\n",
    "print(f\"Utenti con il numero massimo di interazioni: {users_with_max_interactions[:10]} (mostrati i primi 10)\")\n",
    "\n",
    "# Statistiche delle interazioni utente\n",
    "mean_interactions = user_interaction_counts.mean()\n",
    "median_interactions = user_interaction_counts.median()\n",
    "print(f\"\\nNumero medio di interazioni per utente: {mean_interactions:.2f}\")\n",
    "print(f\"Numero mediano di interazioni per utente: {median_interactions:.2f}\")\n",
    "\n",
    "# Distribuzione delle interazioni utente\n",
    "interaction_distribution = user_interaction_counts.value_counts().sort_index()\n",
    "print(f\"\\nDistribuzione delle interazioni (numero di utenti per numero di interazioni):\\n{interaction_distribution}\")\n",
    "\n",
    "# Numero di interazioni per item\n",
    "item_interaction_counts = URM_all_dataframe.groupby('item_id').size()\n",
    "\n",
    "# Item con il minimo numero di interazioni\n",
    "min_item_interactions = item_interaction_counts.min()\n",
    "items_with_min_interactions = item_interaction_counts[item_interaction_counts == min_item_interactions].index.tolist()\n",
    "print(f\"\\nNumero minimo di interazioni per item: {min_item_interactions}\")\n",
    "print(f\"Item con il numero minimo di interazioni: {items_with_min_interactions[:10]} (mostrati i primi 10)\")\n",
    "\n",
    "# Item con il massimo numero di interazioni\n",
    "max_item_interactions = item_interaction_counts.max()\n",
    "items_with_max_interactions = item_interaction_counts[item_interaction_counts == max_item_interactions].index.tolist()\n",
    "print(f\"\\nNumero massimo di interazioni per item: {max_item_interactions}\")\n",
    "print(f\"Item con il numero massimo di interazioni: {items_with_max_interactions[:10]} (mostrati i primi 10)\")\n",
    "\n",
    "# Densità della matrice di interazioni\n",
    "density = total_interactions / (num_users * num_items)\n",
    "print(f\"\\nDensità della matrice di interazioni: {density:.6f}\")\n",
    "\n",
    "# Riassunto dei dati\n",
    "summary = {\n",
    "    \"Numero totale di utenti\": num_users,\n",
    "    \"Numero totale di item\": num_items,\n",
    "    \"Numero totale di interazioni\": total_interactions,\n",
    "    \"Utenti senza interazioni\": users_with_no_interactions,\n",
    "    \"Minimo interazioni per utente\": min_interactions,\n",
    "    \"Massimo interazioni per utente\": max_interactions,\n",
    "    \"Media interazioni per utente\": mean_interactions,\n",
    "    \"Mediana interazioni per utente\": median_interactions,\n",
    "    \"Densità della matrice\": density,\n",
    "    \"Numero minimo di interazioni per item\": min_item_interactions,\n",
    "    \"Numero massimo di interazioni per item\": max_item_interactions,\n",
    "}\n",
    "\n",
    "print(\"\\nRiassunto del dataset:\")\n",
    "for key, value in summary.items():\n",
    "    print(f\"{key}: {value}\")\n"
   ]
  },
  {
   "cell_type": "code",
   "execution_count": 2,
   "id": "df33c6a0",
   "metadata": {},
   "outputs": [
    {
     "ename": "NameError",
     "evalue": "name 'user_interaction_counts' is not defined",
     "output_type": "error",
     "traceback": [
      "\u001b[0;31m---------------------------------------------------------------------------\u001b[0m",
      "\u001b[0;31mNameError\u001b[0m                                 Traceback (most recent call last)",
      "Cell \u001b[0;32mIn[2], line 2\u001b[0m\n\u001b[1;32m      1\u001b[0m \u001b[38;5;66;03m# Ordina gli utenti in base al numero di interazioni (crescentemente)\u001b[39;00m\n\u001b[0;32m----> 2\u001b[0m sorted_users_by_interactions \u001b[38;5;241m=\u001b[39m \u001b[43muser_interaction_counts\u001b[49m\u001b[38;5;241m.\u001b[39msort_values()\n\u001b[1;32m      4\u001b[0m \u001b[38;5;66;03m# Prendi i primi 15 utenti con il minor numero di interazioni\u001b[39;00m\n\u001b[1;32m      5\u001b[0m top_15_users \u001b[38;5;241m=\u001b[39m sorted_users_by_interactions\u001b[38;5;241m.\u001b[39mhead(\u001b[38;5;241m15\u001b[39m)\u001b[38;5;241m.\u001b[39mindex\u001b[38;5;241m.\u001b[39mtolist()\n",
      "\u001b[0;31mNameError\u001b[0m: name 'user_interaction_counts' is not defined"
     ]
    }
   ],
   "source": [
    "# Ordina gli utenti in base al numero di interazioni (crescentemente)\n",
    "sorted_users_by_interactions = user_interaction_counts.sort_values()\n",
    "\n",
    "# Prendi i primi 15 utenti con il minor numero di interazioni\n",
    "top_15_users = sorted_users_by_interactions.head(15).index.tolist()\n",
    "\n",
    "# Filtra le interazioni per questi utenti\n",
    "filtered_interactions = URM_all_dataframe[URM_all_dataframe['user_id'].isin(top_15_users)]\n",
    "\n",
    "# Costruisce la tabella in cui ogni riga rappresenta un utente e contiene tutti gli item_id delle sue interazioni\n",
    "user_item_table = filtered_interactions.groupby('user_id')['item_id'].apply(list).reset_index()\n",
    "\n",
    "# Converte la lista di item_id in colonne separate\n",
    "user_item_table_expanded = pd.DataFrame(user_item_table['item_id'].tolist())\n",
    "user_item_table_expanded.insert(0, 'user_id', user_item_table['user_id'])\n",
    "\n",
    "# Mostra la tabella\n",
    "print(\"\\nTabella con 15 utenti con il minor numero di interazioni:\")\n",
    "print(user_item_table_expanded)\n"
   ]
  },
  {
   "cell_type": "code",
   "execution_count": 3,
   "id": "02c6d358",
   "metadata": {},
   "outputs": [
    {
     "name": "stdout",
     "output_type": "stream",
     "text": [
      "EvaluatorHoldout: Ignoring 401 ( 1.1%) Users that have less than 1 test interactions\n",
      "EvaluatorHoldout: Ignoring 152 ( 0.4%) Users that have less than 1 test interactions\n"
     ]
    }
   ],
   "source": [
    "URM_all_dataframe = csr_matrix((URM_all_dataframe['data'], (URM_all_dataframe['user_id'], URM_all_dataframe['item_id'])))\n",
    "URM_train = csr_matrix((URM_train['data'], (URM_train['user_id'], URM_train['item_id'])))\n",
    "URM_validation = csr_matrix((URM_validation['data'], (URM_validation['user_id'], URM_validation['item_id'])))\n",
    "URM_test = csr_matrix((URM_test['data'], (URM_test['user_id'], URM_test['item_id'])))\n",
    "URM_train_validation = csr_matrix((URM_train_validation['data'], (URM_train_validation['user_id'], URM_train_validation['item_id'])))\n",
    "ICM_all = csr_matrix((ICM_all['data'], (ICM_all['item_id'], ICM_all['feature_id'])))\n",
    "\n",
    "#evaluator_validation = EvaluatorHoldout(URM_test, cutoff_list=[10])\n",
    "evaluator_validation = EvaluatorHoldout(URM_validation, cutoff_list=[10])\n",
    "evaluator_test = EvaluatorHoldout(URM_test, cutoff_list=[10])"
   ]
  },
  {
   "cell_type": "code",
   "execution_count": 11,
   "id": "a2a27272",
   "metadata": {},
   "outputs": [],
   "source": [
    "#baseline 0.044381626395310673 implicit=false\n",
    "#baseline 0.044381626395310673 implicit=true\n",
    "import optuna\n",
    "import pandas as pd\n",
    "from Recommenders.GraphBased.P3alphaRecommender import P3alphaRecommender\n",
    "def objective_function(optuna_trial):\n",
    "    \n",
    "    recommender_instance = P3alphaRecommender(URM_train_validation)\n",
    "    recommender_instance.fit( \n",
    "                    topK = optuna_trial.suggest_int(\"topK\", 5, 1000),\n",
    "                    alpha = optuna_trial.suggest_uniform(\"alpha\", 0.1, 1.0),\n",
    "                    normalize_similarity = optuna_trial.suggest_categorical(\"normalize_similarity\", [True, False]),\n",
    "                    implicit=True,\n",
    "                    )\n",
    "    \n",
    "    result_df, _ = evaluator_test.evaluateRecommender(recommender_instance)\n",
    "    return result_df.loc[10][\"MAP\"]\n",
    "\n"
   ]
  },
  {
   "cell_type": "markdown",
   "id": "b93fb496",
   "metadata": {},
   "source": [
    "### Step 3: Create an object/function that will be called after every call of the objective function to log the results in a dataframe for easier readability"
   ]
  },
  {
   "cell_type": "code",
   "execution_count": 12,
   "id": "af3895dc",
   "metadata": {},
   "outputs": [],
   "source": [
    "class SaveResults(object):\n",
    "    def __init__(self, save_path=\"optuna_progressP3.csv\"):\n",
    "        # File dove salvare i risultati\n",
    "        self.save_path = save_path\n",
    "\n",
    "        # Se esiste già un file, carichiamo i dati per continuare\n",
    "        try:\n",
    "            self.results_df = pd.read_csv(self.save_path)\n",
    "        except FileNotFoundError:\n",
    "            self.results_df = pd.DataFrame(columns=[\"trial_number\", \"value\", \"params\"])\n",
    "    \n",
    "    def __call__(self, optuna_study, optuna_trial):\n",
    "        # Salva i risultati del trial corrente\n",
    "        trial_data = {\n",
    "            \"trial_number\": optuna_trial.number,\n",
    "            \"value\": optuna_trial.value,\n",
    "            \"params\": optuna_trial.params\n",
    "        }\n",
    "\n",
    "        # Aggiungi i risultati al DataFrame\n",
    "        self.results_df = pd.concat([self.results_df, pd.DataFrame([trial_data])], ignore_index=True)\n",
    "\n",
    "        # Salva i risultati progressivamente su disco\n",
    "        self.results_df.to_csv(self.save_path, index=False)\n",
    "\n",
    "        # Salva anche il miglior risultato corrente\n",
    "        best_trial = optuna_study.best_trial\n",
    "        best_result = {\n",
    "            \"trial_number\": best_trial.number,\n",
    "            \"value\": best_trial.value,\n",
    "            **best_trial.params\n",
    "        }\n",
    "\n",
    "        best_results_df = pd.DataFrame([best_result])\n",
    "        best_results_df.to_csv(\"best_optuna_resultsP3.csv\", index=False)\n",
    "        \n",
    "        print(f\"Results saved to {self.save_path} and best results to 'best_optuna_results.csv'\")\n"
   ]
  },
  {
   "cell_type": "code",
   "execution_count": 14,
   "id": "e89dd1a2",
   "metadata": {},
   "outputs": [
    {
     "name": "stderr",
     "output_type": "stream",
     "text": [
      "[I 2024-11-28 23:15:18,202] A new study created in memory with name: no-name-0980d77d-9024-4372-a91f-95a62b1554b3\n",
      "/var/folders/nl/s66s1ffn2kb26p587ppw3jsm0000gn/T/ipykernel_79576/2203105599.py:11: FutureWarning: suggest_uniform has been deprecated in v3.0.0. This feature will be removed in v6.0.0. See https://github.com/optuna/optuna/releases/tag/v3.0.0. Use suggest_float instead.\n",
      "  alpha = optuna_trial.suggest_uniform(\"alpha\", 0.1, 1.0),\n"
     ]
    },
    {
     "name": "stdout",
     "output_type": "stream",
     "text": [
      "P3alphaRecommender: Similarity column 38121 (100.0%), 1448.97 column/sec. Elapsed time 26.31 sec\n",
      "EvaluatorHoldout: Processed 35584 (100.0%) in 21.91 sec. Users per second: 1624\n"
     ]
    },
    {
     "name": "stderr",
     "output_type": "stream",
     "text": [
      "[I 2024-11-28 23:16:21,264] Trial 0 finished with value: 0.03681340418736322 and parameters: {'topK': 761, 'alpha': 0.9994357329180794, 'normalize_similarity': True}. Best is trial 0 with value: 0.03681340418736322.\n"
     ]
    },
    {
     "name": "stdout",
     "output_type": "stream",
     "text": [
      "Results saved to optuna_progressP3.csv and best results to 'best_optuna_results.csv'\n"
     ]
    },
    {
     "name": "stderr",
     "output_type": "stream",
     "text": [
      "/var/folders/nl/s66s1ffn2kb26p587ppw3jsm0000gn/T/ipykernel_79576/2203105599.py:11: FutureWarning: suggest_uniform has been deprecated in v3.0.0. This feature will be removed in v6.0.0. See https://github.com/optuna/optuna/releases/tag/v3.0.0. Use suggest_float instead.\n",
      "  alpha = optuna_trial.suggest_uniform(\"alpha\", 0.1, 1.0),\n"
     ]
    },
    {
     "name": "stdout",
     "output_type": "stream",
     "text": [
      "P3alphaRecommender: Similarity column 38121 (100.0%), 3934.00 column/sec. Elapsed time 9.69 sec\n",
      "EvaluatorHoldout: Processed 35584 (100.0%) in 11.33 sec. Users per second: 3140\n"
     ]
    },
    {
     "name": "stderr",
     "output_type": "stream",
     "text": [
      "[I 2024-11-28 23:16:43,111] Trial 1 finished with value: 0.051583664987650706 and parameters: {'topK': 38, 'alpha': 0.515912483543026, 'normalize_similarity': True}. Best is trial 1 with value: 0.051583664987650706.\n"
     ]
    },
    {
     "name": "stdout",
     "output_type": "stream",
     "text": [
      "Results saved to optuna_progressP3.csv and best results to 'best_optuna_results.csv'\n"
     ]
    },
    {
     "name": "stderr",
     "output_type": "stream",
     "text": [
      "/var/folders/nl/s66s1ffn2kb26p587ppw3jsm0000gn/T/ipykernel_79576/2203105599.py:11: FutureWarning: suggest_uniform has been deprecated in v3.0.0. This feature will be removed in v6.0.0. See https://github.com/optuna/optuna/releases/tag/v3.0.0. Use suggest_float instead.\n",
      "  alpha = optuna_trial.suggest_uniform(\"alpha\", 0.1, 1.0),\n"
     ]
    },
    {
     "name": "stdout",
     "output_type": "stream",
     "text": [
      "P3alphaRecommender: Similarity column 38121 (100.0%), 1266.86 column/sec. Elapsed time 30.09 sec\n",
      "EvaluatorHoldout: Processed 35584 (100.0%) in 22.47 sec. Users per second: 1584\n"
     ]
    },
    {
     "name": "stderr",
     "output_type": "stream",
     "text": [
      "[I 2024-11-28 23:17:53,823] Trial 2 finished with value: 0.03487726782859304 and parameters: {'topK': 916, 'alpha': 0.5015343317600793, 'normalize_similarity': True}. Best is trial 1 with value: 0.051583664987650706.\n"
     ]
    },
    {
     "name": "stdout",
     "output_type": "stream",
     "text": [
      "Results saved to optuna_progressP3.csv and best results to 'best_optuna_results.csv'\n"
     ]
    },
    {
     "name": "stderr",
     "output_type": "stream",
     "text": [
      "/var/folders/nl/s66s1ffn2kb26p587ppw3jsm0000gn/T/ipykernel_79576/2203105599.py:11: FutureWarning: suggest_uniform has been deprecated in v3.0.0. This feature will be removed in v6.0.0. See https://github.com/optuna/optuna/releases/tag/v3.0.0. Use suggest_float instead.\n",
      "  alpha = optuna_trial.suggest_uniform(\"alpha\", 0.1, 1.0),\n"
     ]
    },
    {
     "name": "stdout",
     "output_type": "stream",
     "text": [
      "P3alphaRecommender: Similarity column 38121 (100.0%), 2289.05 column/sec. Elapsed time 16.65 sec\n",
      "EvaluatorHoldout: Processed 35584 (100.0%) in 16.29 sec. Users per second: 2184\n"
     ]
    },
    {
     "name": "stderr",
     "output_type": "stream",
     "text": [
      "[I 2024-11-28 23:18:32,439] Trial 3 finished with value: 0.030108244877311754 and parameters: {'topK': 319, 'alpha': 0.11273170640874987, 'normalize_similarity': False}. Best is trial 1 with value: 0.051583664987650706.\n"
     ]
    },
    {
     "name": "stdout",
     "output_type": "stream",
     "text": [
      "Results saved to optuna_progressP3.csv and best results to 'best_optuna_results.csv'\n"
     ]
    },
    {
     "name": "stderr",
     "output_type": "stream",
     "text": [
      "/var/folders/nl/s66s1ffn2kb26p587ppw3jsm0000gn/T/ipykernel_79576/2203105599.py:11: FutureWarning: suggest_uniform has been deprecated in v3.0.0. This feature will be removed in v6.0.0. See https://github.com/optuna/optuna/releases/tag/v3.0.0. Use suggest_float instead.\n",
      "  alpha = optuna_trial.suggest_uniform(\"alpha\", 0.1, 1.0),\n"
     ]
    },
    {
     "name": "stdout",
     "output_type": "stream",
     "text": [
      "P3alphaRecommender: Similarity column 38121 (100.0%), 1249.97 column/sec. Elapsed time 30.50 sec\n",
      "EvaluatorHoldout: Processed 35584 (100.0%) in 22.56 sec. Users per second: 1577\n"
     ]
    },
    {
     "name": "stderr",
     "output_type": "stream",
     "text": [
      "[I 2024-11-28 23:19:41,914] Trial 4 finished with value: 0.03471701098942139 and parameters: {'topK': 841, 'alpha': 0.3425498562801091, 'normalize_similarity': True}. Best is trial 1 with value: 0.051583664987650706.\n"
     ]
    },
    {
     "name": "stdout",
     "output_type": "stream",
     "text": [
      "Results saved to optuna_progressP3.csv and best results to 'best_optuna_results.csv'\n"
     ]
    },
    {
     "name": "stderr",
     "output_type": "stream",
     "text": [
      "/var/folders/nl/s66s1ffn2kb26p587ppw3jsm0000gn/T/ipykernel_79576/2203105599.py:11: FutureWarning: suggest_uniform has been deprecated in v3.0.0. This feature will be removed in v6.0.0. See https://github.com/optuna/optuna/releases/tag/v3.0.0. Use suggest_float instead.\n",
      "  alpha = optuna_trial.suggest_uniform(\"alpha\", 0.1, 1.0),\n"
     ]
    },
    {
     "name": "stdout",
     "output_type": "stream",
     "text": [
      "P3alphaRecommender: Similarity column 38121 (100.0%), 3174.37 column/sec. Elapsed time 12.01 sec\n",
      "EvaluatorHoldout: Processed 35584 (100.0%) in 13.87 sec. Users per second: 2565\n"
     ]
    },
    {
     "name": "stderr",
     "output_type": "stream",
     "text": [
      "[I 2024-11-28 23:20:09,499] Trial 5 finished with value: 0.04774825675173957 and parameters: {'topK': 88, 'alpha': 0.49246082671443375, 'normalize_similarity': True}. Best is trial 1 with value: 0.051583664987650706.\n"
     ]
    },
    {
     "name": "stdout",
     "output_type": "stream",
     "text": [
      "Results saved to optuna_progressP3.csv and best results to 'best_optuna_results.csv'\n"
     ]
    },
    {
     "name": "stderr",
     "output_type": "stream",
     "text": [
      "/var/folders/nl/s66s1ffn2kb26p587ppw3jsm0000gn/T/ipykernel_79576/2203105599.py:11: FutureWarning: suggest_uniform has been deprecated in v3.0.0. This feature will be removed in v6.0.0. See https://github.com/optuna/optuna/releases/tag/v3.0.0. Use suggest_float instead.\n",
      "  alpha = optuna_trial.suggest_uniform(\"alpha\", 0.1, 1.0),\n"
     ]
    },
    {
     "name": "stdout",
     "output_type": "stream",
     "text": [
      "P3alphaRecommender: Similarity column 38121 (100.0%), 3250.58 column/sec. Elapsed time 11.73 sec\n",
      "EvaluatorHoldout: Processed 35584 (100.0%) in 12.69 sec. Users per second: 2805\n"
     ]
    },
    {
     "name": "stderr",
     "output_type": "stream",
     "text": [
      "[I 2024-11-28 23:20:35,466] Trial 6 finished with value: 0.04263536826788378 and parameters: {'topK': 79, 'alpha': 0.628112680182035, 'normalize_similarity': False}. Best is trial 1 with value: 0.051583664987650706.\n"
     ]
    },
    {
     "name": "stdout",
     "output_type": "stream",
     "text": [
      "Results saved to optuna_progressP3.csv and best results to 'best_optuna_results.csv'\n"
     ]
    },
    {
     "name": "stderr",
     "output_type": "stream",
     "text": [
      "/var/folders/nl/s66s1ffn2kb26p587ppw3jsm0000gn/T/ipykernel_79576/2203105599.py:11: FutureWarning: suggest_uniform has been deprecated in v3.0.0. This feature will be removed in v6.0.0. See https://github.com/optuna/optuna/releases/tag/v3.0.0. Use suggest_float instead.\n",
      "  alpha = optuna_trial.suggest_uniform(\"alpha\", 0.1, 1.0),\n"
     ]
    },
    {
     "name": "stdout",
     "output_type": "stream",
     "text": [
      "P3alphaRecommender: Similarity column 38121 (100.0%), 1276.33 column/sec. Elapsed time 29.87 sec\n",
      "EvaluatorHoldout: Processed 35584 (100.0%) in 20.81 sec. Users per second: 1710\n"
     ]
    },
    {
     "name": "stderr",
     "output_type": "stream",
     "text": [
      "[I 2024-11-28 23:21:40,889] Trial 7 finished with value: 0.034325957760576 and parameters: {'topK': 748, 'alpha': 0.14034135405317977, 'normalize_similarity': True}. Best is trial 1 with value: 0.051583664987650706.\n"
     ]
    },
    {
     "name": "stdout",
     "output_type": "stream",
     "text": [
      "Results saved to optuna_progressP3.csv and best results to 'best_optuna_results.csv'\n"
     ]
    },
    {
     "name": "stderr",
     "output_type": "stream",
     "text": [
      "/var/folders/nl/s66s1ffn2kb26p587ppw3jsm0000gn/T/ipykernel_79576/2203105599.py:11: FutureWarning: suggest_uniform has been deprecated in v3.0.0. This feature will be removed in v6.0.0. See https://github.com/optuna/optuna/releases/tag/v3.0.0. Use suggest_float instead.\n",
      "  alpha = optuna_trial.suggest_uniform(\"alpha\", 0.1, 1.0),\n"
     ]
    },
    {
     "name": "stdout",
     "output_type": "stream",
     "text": [
      "P3alphaRecommender: Similarity column 38121 (100.0%), 4326.57 column/sec. Elapsed time 8.81 sec\n",
      "EvaluatorHoldout: Processed 35584 (100.0%) in 10.41 sec. Users per second: 3418\n"
     ]
    },
    {
     "name": "stderr",
     "output_type": "stream",
     "text": [
      "[I 2024-11-28 23:22:00,464] Trial 8 finished with value: 0.047503269705662314 and parameters: {'topK': 5, 'alpha': 0.9973147561304996, 'normalize_similarity': True}. Best is trial 1 with value: 0.051583664987650706.\n"
     ]
    },
    {
     "name": "stdout",
     "output_type": "stream",
     "text": [
      "Results saved to optuna_progressP3.csv and best results to 'best_optuna_results.csv'\n"
     ]
    },
    {
     "name": "stderr",
     "output_type": "stream",
     "text": [
      "/var/folders/nl/s66s1ffn2kb26p587ppw3jsm0000gn/T/ipykernel_79576/2203105599.py:11: FutureWarning: suggest_uniform has been deprecated in v3.0.0. This feature will be removed in v6.0.0. See https://github.com/optuna/optuna/releases/tag/v3.0.0. Use suggest_float instead.\n",
      "  alpha = optuna_trial.suggest_uniform(\"alpha\", 0.1, 1.0),\n"
     ]
    },
    {
     "name": "stdout",
     "output_type": "stream",
     "text": [
      "P3alphaRecommender: Similarity column 38121 (100.0%), 1269.42 column/sec. Elapsed time 30.03 sec\n",
      "EvaluatorHoldout: Processed 35584 (100.0%) in 23.45 sec. Users per second: 1518\n"
     ]
    },
    {
     "name": "stderr",
     "output_type": "stream",
     "text": [
      "[I 2024-11-28 23:23:11,637] Trial 9 finished with value: 0.03625847982328301 and parameters: {'topK': 889, 'alpha': 0.9747700861791226, 'normalize_similarity': True}. Best is trial 1 with value: 0.051583664987650706.\n"
     ]
    },
    {
     "name": "stdout",
     "output_type": "stream",
     "text": [
      "Results saved to optuna_progressP3.csv and best results to 'best_optuna_results.csv'\n"
     ]
    },
    {
     "name": "stderr",
     "output_type": "stream",
     "text": [
      "/var/folders/nl/s66s1ffn2kb26p587ppw3jsm0000gn/T/ipykernel_79576/2203105599.py:11: FutureWarning: suggest_uniform has been deprecated in v3.0.0. This feature will be removed in v6.0.0. See https://github.com/optuna/optuna/releases/tag/v3.0.0. Use suggest_float instead.\n",
      "  alpha = optuna_trial.suggest_uniform(\"alpha\", 0.1, 1.0),\n"
     ]
    },
    {
     "name": "stdout",
     "output_type": "stream",
     "text": [
      "P3alphaRecommender: Similarity column 38121 (100.0%), 2037.02 column/sec. Elapsed time 18.71 sec\n",
      "EvaluatorHoldout: Processed 35584 (100.0%) in 18.04 sec. Users per second: 1973\n"
     ]
    },
    {
     "name": "stderr",
     "output_type": "stream",
     "text": [
      "[I 2024-11-28 23:23:56,354] Trial 10 finished with value: 0.03780916561393609 and parameters: {'topK': 408, 'alpha': 0.6875913739235026, 'normalize_similarity': False}. Best is trial 1 with value: 0.051583664987650706.\n"
     ]
    },
    {
     "name": "stdout",
     "output_type": "stream",
     "text": [
      "Results saved to optuna_progressP3.csv and best results to 'best_optuna_results.csv'\n"
     ]
    },
    {
     "name": "stderr",
     "output_type": "stream",
     "text": [
      "/var/folders/nl/s66s1ffn2kb26p587ppw3jsm0000gn/T/ipykernel_79576/2203105599.py:11: FutureWarning: suggest_uniform has been deprecated in v3.0.0. This feature will be removed in v6.0.0. See https://github.com/optuna/optuna/releases/tag/v3.0.0. Use suggest_float instead.\n",
      "  alpha = optuna_trial.suggest_uniform(\"alpha\", 0.1, 1.0),\n"
     ]
    },
    {
     "name": "stdout",
     "output_type": "stream",
     "text": [
      "P3alphaRecommender: Similarity column 38121 (100.0%), 2464.72 column/sec. Elapsed time 15.47 sec\n",
      "EvaluatorHoldout: Processed 35584 (100.0%) in 15.41 sec. Users per second: 2309\n"
     ]
    },
    {
     "name": "stderr",
     "output_type": "stream",
     "text": [
      "[I 2024-11-28 23:24:31,088] Trial 11 finished with value: 0.042858949447583325 and parameters: {'topK': 205, 'alpha': 0.442439713673221, 'normalize_similarity': True}. Best is trial 1 with value: 0.051583664987650706.\n"
     ]
    },
    {
     "name": "stdout",
     "output_type": "stream",
     "text": [
      "Results saved to optuna_progressP3.csv and best results to 'best_optuna_results.csv'\n"
     ]
    },
    {
     "name": "stderr",
     "output_type": "stream",
     "text": [
      "/var/folders/nl/s66s1ffn2kb26p587ppw3jsm0000gn/T/ipykernel_79576/2203105599.py:11: FutureWarning: suggest_uniform has been deprecated in v3.0.0. This feature will be removed in v6.0.0. See https://github.com/optuna/optuna/releases/tag/v3.0.0. Use suggest_float instead.\n",
      "  alpha = optuna_trial.suggest_uniform(\"alpha\", 0.1, 1.0),\n"
     ]
    },
    {
     "name": "stdout",
     "output_type": "stream",
     "text": [
      "P3alphaRecommender: Similarity column 38121 (100.0%), 1549.89 column/sec. Elapsed time 24.60 sec\n",
      "EvaluatorHoldout: Processed 35584 (100.0%) in 20.44 sec. Users per second: 1741\n"
     ]
    },
    {
     "name": "stderr",
     "output_type": "stream",
     "text": [
      "[I 2024-11-28 23:25:28,020] Trial 12 finished with value: 0.03767093133528771 and parameters: {'topK': 569, 'alpha': 0.7369362807351901, 'normalize_similarity': True}. Best is trial 1 with value: 0.051583664987650706.\n"
     ]
    },
    {
     "name": "stdout",
     "output_type": "stream",
     "text": [
      "Results saved to optuna_progressP3.csv and best results to 'best_optuna_results.csv'\n"
     ]
    },
    {
     "name": "stderr",
     "output_type": "stream",
     "text": [
      "/var/folders/nl/s66s1ffn2kb26p587ppw3jsm0000gn/T/ipykernel_79576/2203105599.py:11: FutureWarning: suggest_uniform has been deprecated in v3.0.0. This feature will be removed in v6.0.0. See https://github.com/optuna/optuna/releases/tag/v3.0.0. Use suggest_float instead.\n",
      "  alpha = optuna_trial.suggest_uniform(\"alpha\", 0.1, 1.0),\n"
     ]
    },
    {
     "name": "stdout",
     "output_type": "stream",
     "text": [
      "P3alphaRecommender: Similarity column 38121 (100.0%), 2765.51 column/sec. Elapsed time 13.78 sec\n",
      "EvaluatorHoldout: Processed 35584 (100.0%) in 14.31 sec. Users per second: 2487\n"
     ]
    },
    {
     "name": "stderr",
     "output_type": "stream",
     "text": [
      "[I 2024-11-28 23:25:59,544] Trial 13 finished with value: 0.043448661829463366 and parameters: {'topK': 182, 'alpha': 0.3292026315277476, 'normalize_similarity': True}. Best is trial 1 with value: 0.051583664987650706.\n"
     ]
    },
    {
     "name": "stdout",
     "output_type": "stream",
     "text": [
      "Results saved to optuna_progressP3.csv and best results to 'best_optuna_results.csv'\n"
     ]
    },
    {
     "name": "stderr",
     "output_type": "stream",
     "text": [
      "/var/folders/nl/s66s1ffn2kb26p587ppw3jsm0000gn/T/ipykernel_79576/2203105599.py:11: FutureWarning: suggest_uniform has been deprecated in v3.0.0. This feature will be removed in v6.0.0. See https://github.com/optuna/optuna/releases/tag/v3.0.0. Use suggest_float instead.\n",
      "  alpha = optuna_trial.suggest_uniform(\"alpha\", 0.1, 1.0),\n"
     ]
    },
    {
     "name": "stdout",
     "output_type": "stream",
     "text": [
      "P3alphaRecommender: Similarity column 38121 (100.0%), 2748.61 column/sec. Elapsed time 13.87 sec\n",
      "EvaluatorHoldout: Processed 35584 (100.0%) in 14.53 sec. Users per second: 2449\n"
     ]
    },
    {
     "name": "stderr",
     "output_type": "stream",
     "text": [
      "[I 2024-11-28 23:26:31,607] Trial 14 finished with value: 0.04239359405332706 and parameters: {'topK': 182, 'alpha': 0.80954482994547, 'normalize_similarity': False}. Best is trial 1 with value: 0.051583664987650706.\n"
     ]
    },
    {
     "name": "stdout",
     "output_type": "stream",
     "text": [
      "Results saved to optuna_progressP3.csv and best results to 'best_optuna_results.csv'\n"
     ]
    },
    {
     "name": "stderr",
     "output_type": "stream",
     "text": [
      "/var/folders/nl/s66s1ffn2kb26p587ppw3jsm0000gn/T/ipykernel_79576/2203105599.py:11: FutureWarning: suggest_uniform has been deprecated in v3.0.0. This feature will be removed in v6.0.0. See https://github.com/optuna/optuna/releases/tag/v3.0.0. Use suggest_float instead.\n",
      "  alpha = optuna_trial.suggest_uniform(\"alpha\", 0.1, 1.0),\n"
     ]
    },
    {
     "name": "stdout",
     "output_type": "stream",
     "text": [
      "P3alphaRecommender: Similarity column 38121 (100.0%), 1617.80 column/sec. Elapsed time 23.56 sec\n",
      "EvaluatorHoldout: Processed 35584 (100.0%) in 19.49 sec. Users per second: 1826\n"
     ]
    },
    {
     "name": "stderr",
     "output_type": "stream",
     "text": [
      "[I 2024-11-28 23:27:25,751] Trial 15 finished with value: 0.03706686436564895 and parameters: {'topK': 543, 'alpha': 0.3569778077665753, 'normalize_similarity': True}. Best is trial 1 with value: 0.051583664987650706.\n"
     ]
    },
    {
     "name": "stdout",
     "output_type": "stream",
     "text": [
      "Results saved to optuna_progressP3.csv and best results to 'best_optuna_results.csv'\n"
     ]
    },
    {
     "name": "stderr",
     "output_type": "stream",
     "text": [
      "/var/folders/nl/s66s1ffn2kb26p587ppw3jsm0000gn/T/ipykernel_79576/2203105599.py:11: FutureWarning: suggest_uniform has been deprecated in v3.0.0. This feature will be removed in v6.0.0. See https://github.com/optuna/optuna/releases/tag/v3.0.0. Use suggest_float instead.\n",
      "  alpha = optuna_trial.suggest_uniform(\"alpha\", 0.1, 1.0),\n"
     ]
    },
    {
     "name": "stdout",
     "output_type": "stream",
     "text": [
      "P3alphaRecommender: Similarity column 38121 (100.0%), 2092.84 column/sec. Elapsed time 18.21 sec\n",
      "EvaluatorHoldout: Processed 35584 (100.0%) in 16.91 sec. Users per second: 2105\n"
     ]
    },
    {
     "name": "stderr",
     "output_type": "stream",
     "text": [
      "[I 2024-11-28 23:28:07,816] Trial 16 finished with value: 0.03993032694380059 and parameters: {'topK': 342, 'alpha': 0.5621793905924642, 'normalize_similarity': True}. Best is trial 1 with value: 0.051583664987650706.\n"
     ]
    },
    {
     "name": "stdout",
     "output_type": "stream",
     "text": [
      "Results saved to optuna_progressP3.csv and best results to 'best_optuna_results.csv'\n"
     ]
    },
    {
     "name": "stderr",
     "output_type": "stream",
     "text": [
      "/var/folders/nl/s66s1ffn2kb26p587ppw3jsm0000gn/T/ipykernel_79576/2203105599.py:11: FutureWarning: suggest_uniform has been deprecated in v3.0.0. This feature will be removed in v6.0.0. See https://github.com/optuna/optuna/releases/tag/v3.0.0. Use suggest_float instead.\n",
      "  alpha = optuna_trial.suggest_uniform(\"alpha\", 0.1, 1.0),\n"
     ]
    },
    {
     "name": "stdout",
     "output_type": "stream",
     "text": [
      "P3alphaRecommender: Similarity column 38121 (100.0%), 3578.16 column/sec. Elapsed time 10.65 sec\n",
      "EvaluatorHoldout: Processed 35584 (100.0%) in 12.19 sec. Users per second: 2920\n"
     ]
    },
    {
     "name": "stderr",
     "output_type": "stream",
     "text": [
      "[I 2024-11-28 23:28:31,788] Trial 17 finished with value: 0.049789877919091466 and parameters: {'topK': 55, 'alpha': 0.21943299546279804, 'normalize_similarity': True}. Best is trial 1 with value: 0.051583664987650706.\n"
     ]
    },
    {
     "name": "stdout",
     "output_type": "stream",
     "text": [
      "Results saved to optuna_progressP3.csv and best results to 'best_optuna_results.csv'\n"
     ]
    },
    {
     "name": "stderr",
     "output_type": "stream",
     "text": [
      "/var/folders/nl/s66s1ffn2kb26p587ppw3jsm0000gn/T/ipykernel_79576/2203105599.py:11: FutureWarning: suggest_uniform has been deprecated in v3.0.0. This feature will be removed in v6.0.0. See https://github.com/optuna/optuna/releases/tag/v3.0.0. Use suggest_float instead.\n",
      "  alpha = optuna_trial.suggest_uniform(\"alpha\", 0.1, 1.0),\n"
     ]
    },
    {
     "name": "stdout",
     "output_type": "stream",
     "text": [
      "P3alphaRecommender: Similarity column 38121 (100.0%), 3979.59 column/sec. Elapsed time 9.58 sec\n",
      "EvaluatorHoldout: Processed 35584 (100.0%) in 11.23 sec. Users per second: 3170\n"
     ]
    },
    {
     "name": "stderr",
     "output_type": "stream",
     "text": [
      "[I 2024-11-28 23:28:53,026] Trial 18 finished with value: 0.03860375315818631 and parameters: {'topK': 10, 'alpha': 0.21519672501939519, 'normalize_similarity': False}. Best is trial 1 with value: 0.051583664987650706.\n"
     ]
    },
    {
     "name": "stdout",
     "output_type": "stream",
     "text": [
      "Results saved to optuna_progressP3.csv and best results to 'best_optuna_results.csv'\n"
     ]
    },
    {
     "name": "stderr",
     "output_type": "stream",
     "text": [
      "/var/folders/nl/s66s1ffn2kb26p587ppw3jsm0000gn/T/ipykernel_79576/2203105599.py:11: FutureWarning: suggest_uniform has been deprecated in v3.0.0. This feature will be removed in v6.0.0. See https://github.com/optuna/optuna/releases/tag/v3.0.0. Use suggest_float instead.\n",
      "  alpha = optuna_trial.suggest_uniform(\"alpha\", 0.1, 1.0),\n"
     ]
    },
    {
     "name": "stdout",
     "output_type": "stream",
     "text": [
      "P3alphaRecommender: Similarity column 38121 (100.0%), 2371.76 column/sec. Elapsed time 16.07 sec\n",
      "EvaluatorHoldout: Processed 35584 (100.0%) in 15.54 sec. Users per second: 2289\n"
     ]
    },
    {
     "name": "stderr",
     "output_type": "stream",
     "text": [
      "[I 2024-11-28 23:29:29,672] Trial 19 finished with value: 0.04087304486767593 and parameters: {'topK': 270, 'alpha': 0.2515997404101562, 'normalize_similarity': True}. Best is trial 1 with value: 0.051583664987650706.\n"
     ]
    },
    {
     "name": "stdout",
     "output_type": "stream",
     "text": [
      "Results saved to optuna_progressP3.csv and best results to 'best_optuna_results.csv'\n"
     ]
    },
    {
     "name": "stderr",
     "output_type": "stream",
     "text": [
      "/var/folders/nl/s66s1ffn2kb26p587ppw3jsm0000gn/T/ipykernel_79576/2203105599.py:11: FutureWarning: suggest_uniform has been deprecated in v3.0.0. This feature will be removed in v6.0.0. See https://github.com/optuna/optuna/releases/tag/v3.0.0. Use suggest_float instead.\n",
      "  alpha = optuna_trial.suggest_uniform(\"alpha\", 0.1, 1.0),\n"
     ]
    },
    {
     "name": "stdout",
     "output_type": "stream",
     "text": [
      "P3alphaRecommender: Similarity column 38121 (100.0%), 1896.52 column/sec. Elapsed time 20.10 sec\n",
      "EvaluatorHoldout: Processed 35584 (100.0%) in 17.84 sec. Users per second: 1995\n"
     ]
    },
    {
     "name": "stderr",
     "output_type": "stream",
     "text": [
      "[I 2024-11-28 23:30:16,276] Trial 20 finished with value: 0.03841369649815722 and parameters: {'topK': 435, 'alpha': 0.41041387516762, 'normalize_similarity': True}. Best is trial 1 with value: 0.051583664987650706.\n"
     ]
    },
    {
     "name": "stdout",
     "output_type": "stream",
     "text": [
      "Results saved to optuna_progressP3.csv and best results to 'best_optuna_results.csv'\n"
     ]
    },
    {
     "name": "stderr",
     "output_type": "stream",
     "text": [
      "/var/folders/nl/s66s1ffn2kb26p587ppw3jsm0000gn/T/ipykernel_79576/2203105599.py:11: FutureWarning: suggest_uniform has been deprecated in v3.0.0. This feature will be removed in v6.0.0. See https://github.com/optuna/optuna/releases/tag/v3.0.0. Use suggest_float instead.\n",
      "  alpha = optuna_trial.suggest_uniform(\"alpha\", 0.1, 1.0),\n"
     ]
    },
    {
     "name": "stdout",
     "output_type": "stream",
     "text": [
      "P3alphaRecommender: Similarity column 38121 (100.0%), 3185.25 column/sec. Elapsed time 11.97 sec\n",
      "EvaluatorHoldout: Processed 35584 (100.0%) in 13.10 sec. Users per second: 2716\n"
     ]
    },
    {
     "name": "stderr",
     "output_type": "stream",
     "text": [
      "[I 2024-11-28 23:30:43,464] Trial 21 finished with value: 0.04682686328615486 and parameters: {'topK': 106, 'alpha': 0.52399815052092, 'normalize_similarity': True}. Best is trial 1 with value: 0.051583664987650706.\n"
     ]
    },
    {
     "name": "stdout",
     "output_type": "stream",
     "text": [
      "Results saved to optuna_progressP3.csv and best results to 'best_optuna_results.csv'\n"
     ]
    },
    {
     "name": "stderr",
     "output_type": "stream",
     "text": [
      "/var/folders/nl/s66s1ffn2kb26p587ppw3jsm0000gn/T/ipykernel_79576/2203105599.py:11: FutureWarning: suggest_uniform has been deprecated in v3.0.0. This feature will be removed in v6.0.0. See https://github.com/optuna/optuna/releases/tag/v3.0.0. Use suggest_float instead.\n",
      "  alpha = optuna_trial.suggest_uniform(\"alpha\", 0.1, 1.0),\n"
     ]
    },
    {
     "name": "stdout",
     "output_type": "stream",
     "text": [
      "P3alphaRecommender: Similarity column 38121 (100.0%), 3276.89 column/sec. Elapsed time 11.63 sec\n",
      "EvaluatorHoldout: Processed 35584 (100.0%) in 13.08 sec. Users per second: 2721\n"
     ]
    },
    {
     "name": "stderr",
     "output_type": "stream",
     "text": [
      "[I 2024-11-28 23:31:10,096] Trial 22 finished with value: 0.047405606764586536 and parameters: {'topK': 95, 'alpha': 0.6069271579159076, 'normalize_similarity': True}. Best is trial 1 with value: 0.051583664987650706.\n"
     ]
    },
    {
     "name": "stdout",
     "output_type": "stream",
     "text": [
      "Results saved to optuna_progressP3.csv and best results to 'best_optuna_results.csv'\n"
     ]
    },
    {
     "name": "stderr",
     "output_type": "stream",
     "text": [
      "/var/folders/nl/s66s1ffn2kb26p587ppw3jsm0000gn/T/ipykernel_79576/2203105599.py:11: FutureWarning: suggest_uniform has been deprecated in v3.0.0. This feature will be removed in v6.0.0. See https://github.com/optuna/optuna/releases/tag/v3.0.0. Use suggest_float instead.\n",
      "  alpha = optuna_trial.suggest_uniform(\"alpha\", 0.1, 1.0),\n"
     ]
    },
    {
     "name": "stdout",
     "output_type": "stream",
     "text": [
      "P3alphaRecommender: Similarity column 38121 (100.0%), 3046.13 column/sec. Elapsed time 12.51 sec\n",
      "EvaluatorHoldout: Processed 35584 (100.0%) in 13.34 sec. Users per second: 2667\n"
     ]
    },
    {
     "name": "stderr",
     "output_type": "stream",
     "text": [
      "[I 2024-11-28 23:31:38,274] Trial 23 finished with value: 0.045460956011974286 and parameters: {'topK': 126, 'alpha': 0.2318610601811144, 'normalize_similarity': True}. Best is trial 1 with value: 0.051583664987650706.\n"
     ]
    },
    {
     "name": "stdout",
     "output_type": "stream",
     "text": [
      "Results saved to optuna_progressP3.csv and best results to 'best_optuna_results.csv'\n"
     ]
    },
    {
     "name": "stderr",
     "output_type": "stream",
     "text": [
      "/var/folders/nl/s66s1ffn2kb26p587ppw3jsm0000gn/T/ipykernel_79576/2203105599.py:11: FutureWarning: suggest_uniform has been deprecated in v3.0.0. This feature will be removed in v6.0.0. See https://github.com/optuna/optuna/releases/tag/v3.0.0. Use suggest_float instead.\n",
      "  alpha = optuna_trial.suggest_uniform(\"alpha\", 0.1, 1.0),\n"
     ]
    },
    {
     "name": "stdout",
     "output_type": "stream",
     "text": [
      "P3alphaRecommender: Similarity column 38121 (100.0%), 2482.90 column/sec. Elapsed time 15.35 sec\n",
      "EvaluatorHoldout: Processed 35584 (100.0%) in 15.17 sec. Users per second: 2346\n"
     ]
    },
    {
     "name": "stderr",
     "output_type": "stream",
     "text": [
      "[I 2024-11-28 23:32:13,452] Trial 24 finished with value: 0.041828498138987306 and parameters: {'topK': 244, 'alpha': 0.4838137209401103, 'normalize_similarity': True}. Best is trial 1 with value: 0.051583664987650706.\n"
     ]
    },
    {
     "name": "stdout",
     "output_type": "stream",
     "text": [
      "Results saved to optuna_progressP3.csv and best results to 'best_optuna_results.csv'\n"
     ]
    },
    {
     "name": "stderr",
     "output_type": "stream",
     "text": [
      "/var/folders/nl/s66s1ffn2kb26p587ppw3jsm0000gn/T/ipykernel_79576/2203105599.py:11: FutureWarning: suggest_uniform has been deprecated in v3.0.0. This feature will be removed in v6.0.0. See https://github.com/optuna/optuna/releases/tag/v3.0.0. Use suggest_float instead.\n",
      "  alpha = optuna_trial.suggest_uniform(\"alpha\", 0.1, 1.0),\n"
     ]
    },
    {
     "name": "stdout",
     "output_type": "stream",
     "text": [
      "P3alphaRecommender: Similarity column 38121 (100.0%), 4167.08 column/sec. Elapsed time 9.15 sec\n",
      "EvaluatorHoldout: Processed 35584 (100.0%) in 10.76 sec. Users per second: 3307\n"
     ]
    },
    {
     "name": "stderr",
     "output_type": "stream",
     "text": [
      "[I 2024-11-28 23:32:33,772] Trial 25 finished with value: 0.05185599846015851 and parameters: {'topK': 9, 'alpha': 0.83997868142532, 'normalize_similarity': True}. Best is trial 25 with value: 0.05185599846015851.\n"
     ]
    },
    {
     "name": "stdout",
     "output_type": "stream",
     "text": [
      "Results saved to optuna_progressP3.csv and best results to 'best_optuna_results.csv'\n"
     ]
    },
    {
     "name": "stderr",
     "output_type": "stream",
     "text": [
      "/var/folders/nl/s66s1ffn2kb26p587ppw3jsm0000gn/T/ipykernel_79576/2203105599.py:11: FutureWarning: suggest_uniform has been deprecated in v3.0.0. This feature will be removed in v6.0.0. See https://github.com/optuna/optuna/releases/tag/v3.0.0. Use suggest_float instead.\n",
      "  alpha = optuna_trial.suggest_uniform(\"alpha\", 0.1, 1.0),\n"
     ]
    },
    {
     "name": "stdout",
     "output_type": "stream",
     "text": [
      "P3alphaRecommender: Similarity column 38121 (100.0%), 3971.83 column/sec. Elapsed time 9.60 sec\n",
      "EvaluatorHoldout: Processed 35584 (100.0%) in 11.20 sec. Users per second: 3178\n"
     ]
    },
    {
     "name": "stderr",
     "output_type": "stream",
     "text": [
      "[I 2024-11-28 23:32:55,427] Trial 26 finished with value: 0.047375366447911335 and parameters: {'topK': 37, 'alpha': 0.8807345626408817, 'normalize_similarity': False}. Best is trial 25 with value: 0.05185599846015851.\n"
     ]
    },
    {
     "name": "stdout",
     "output_type": "stream",
     "text": [
      "Results saved to optuna_progressP3.csv and best results to 'best_optuna_results.csv'\n"
     ]
    },
    {
     "name": "stderr",
     "output_type": "stream",
     "text": [
      "/var/folders/nl/s66s1ffn2kb26p587ppw3jsm0000gn/T/ipykernel_79576/2203105599.py:11: FutureWarning: suggest_uniform has been deprecated in v3.0.0. This feature will be removed in v6.0.0. See https://github.com/optuna/optuna/releases/tag/v3.0.0. Use suggest_float instead.\n",
      "  alpha = optuna_trial.suggest_uniform(\"alpha\", 0.1, 1.0),\n"
     ]
    },
    {
     "name": "stdout",
     "output_type": "stream",
     "text": [
      "P3alphaRecommender: Similarity column 38121 (100.0%), 3182.46 column/sec. Elapsed time 11.98 sec\n",
      "EvaluatorHoldout: Processed 35584 (100.0%) in 13.12 sec. Users per second: 2711\n"
     ]
    },
    {
     "name": "stderr",
     "output_type": "stream",
     "text": [
      "[I 2024-11-28 23:33:23,104] Trial 27 finished with value: 0.04483961156967094 and parameters: {'topK': 132, 'alpha': 0.8741105998969564, 'normalize_similarity': True}. Best is trial 25 with value: 0.05185599846015851.\n"
     ]
    },
    {
     "name": "stdout",
     "output_type": "stream",
     "text": [
      "Results saved to optuna_progressP3.csv and best results to 'best_optuna_results.csv'\n"
     ]
    },
    {
     "name": "stderr",
     "output_type": "stream",
     "text": [
      "/var/folders/nl/s66s1ffn2kb26p587ppw3jsm0000gn/T/ipykernel_79576/2203105599.py:11: FutureWarning: suggest_uniform has been deprecated in v3.0.0. This feature will be removed in v6.0.0. See https://github.com/optuna/optuna/releases/tag/v3.0.0. Use suggest_float instead.\n",
      "  alpha = optuna_trial.suggest_uniform(\"alpha\", 0.1, 1.0),\n"
     ]
    },
    {
     "name": "stdout",
     "output_type": "stream",
     "text": [
      "P3alphaRecommender: Similarity column 38121 (100.0%), 2392.30 column/sec. Elapsed time 15.93 sec\n",
      "EvaluatorHoldout: Processed 35584 (100.0%) in 15.59 sec. Users per second: 2282\n"
     ]
    },
    {
     "name": "stderr",
     "output_type": "stream",
     "text": [
      "[I 2024-11-28 23:34:00,228] Trial 28 finished with value: 0.040737828264173 and parameters: {'topK': 293, 'alpha': 0.7266089308652676, 'normalize_similarity': True}. Best is trial 25 with value: 0.05185599846015851.\n"
     ]
    },
    {
     "name": "stdout",
     "output_type": "stream",
     "text": [
      "Results saved to optuna_progressP3.csv and best results to 'best_optuna_results.csv'\n"
     ]
    },
    {
     "name": "stderr",
     "output_type": "stream",
     "text": [
      "/var/folders/nl/s66s1ffn2kb26p587ppw3jsm0000gn/T/ipykernel_79576/2203105599.py:11: FutureWarning: suggest_uniform has been deprecated in v3.0.0. This feature will be removed in v6.0.0. See https://github.com/optuna/optuna/releases/tag/v3.0.0. Use suggest_float instead.\n",
      "  alpha = optuna_trial.suggest_uniform(\"alpha\", 0.1, 1.0),\n"
     ]
    },
    {
     "name": "stdout",
     "output_type": "stream",
     "text": [
      "P3alphaRecommender: Similarity column 38121 (100.0%), 1557.44 column/sec. Elapsed time 24.48 sec\n",
      "EvaluatorHoldout: Processed 35584 (100.0%) in 20.40 sec. Users per second: 1745\n"
     ]
    },
    {
     "name": "stderr",
     "output_type": "stream",
     "text": [
      "[I 2024-11-28 23:34:58,016] Trial 29 finished with value: 0.03672631426108982 and parameters: {'topK': 670, 'alpha': 0.6433192011959961, 'normalize_similarity': True}. Best is trial 25 with value: 0.05185599846015851.\n"
     ]
    },
    {
     "name": "stdout",
     "output_type": "stream",
     "text": [
      "Results saved to optuna_progressP3.csv and best results to 'best_optuna_results.csv'\n"
     ]
    },
    {
     "name": "stderr",
     "output_type": "stream",
     "text": [
      "/var/folders/nl/s66s1ffn2kb26p587ppw3jsm0000gn/T/ipykernel_79576/2203105599.py:11: FutureWarning: suggest_uniform has been deprecated in v3.0.0. This feature will be removed in v6.0.0. See https://github.com/optuna/optuna/releases/tag/v3.0.0. Use suggest_float instead.\n",
      "  alpha = optuna_trial.suggest_uniform(\"alpha\", 0.1, 1.0),\n"
     ]
    },
    {
     "name": "stdout",
     "output_type": "stream",
     "text": [
      "P3alphaRecommender: Similarity column 38121 (100.0%), 2139.08 column/sec. Elapsed time 17.82 sec\n",
      "EvaluatorHoldout: Processed 35584 (100.0%) in 17.02 sec. Users per second: 2090\n"
     ]
    },
    {
     "name": "stderr",
     "output_type": "stream",
     "text": [
      "[I 2024-11-28 23:35:40,110] Trial 30 finished with value: 0.039519666632763996 and parameters: {'topK': 377, 'alpha': 0.801357432885521, 'normalize_similarity': True}. Best is trial 25 with value: 0.05185599846015851.\n"
     ]
    },
    {
     "name": "stdout",
     "output_type": "stream",
     "text": [
      "Results saved to optuna_progressP3.csv and best results to 'best_optuna_results.csv'\n"
     ]
    },
    {
     "name": "stderr",
     "output_type": "stream",
     "text": [
      "/var/folders/nl/s66s1ffn2kb26p587ppw3jsm0000gn/T/ipykernel_79576/2203105599.py:11: FutureWarning: suggest_uniform has been deprecated in v3.0.0. This feature will be removed in v6.0.0. See https://github.com/optuna/optuna/releases/tag/v3.0.0. Use suggest_float instead.\n",
      "  alpha = optuna_trial.suggest_uniform(\"alpha\", 0.1, 1.0),\n"
     ]
    },
    {
     "name": "stdout",
     "output_type": "stream",
     "text": [
      "P3alphaRecommender: Similarity column 38121 (100.0%), 3704.57 column/sec. Elapsed time 10.29 sec\n",
      "EvaluatorHoldout: Processed 35584 (100.0%) in 11.75 sec. Users per second: 3028\n"
     ]
    },
    {
     "name": "stderr",
     "output_type": "stream",
     "text": [
      "[I 2024-11-28 23:36:03,378] Trial 31 finished with value: 0.04967440891036978 and parameters: {'topK': 60, 'alpha': 0.5624739964164782, 'normalize_similarity': True}. Best is trial 25 with value: 0.05185599846015851.\n"
     ]
    },
    {
     "name": "stdout",
     "output_type": "stream",
     "text": [
      "Results saved to optuna_progressP3.csv and best results to 'best_optuna_results.csv'\n"
     ]
    },
    {
     "name": "stderr",
     "output_type": "stream",
     "text": [
      "/var/folders/nl/s66s1ffn2kb26p587ppw3jsm0000gn/T/ipykernel_79576/2203105599.py:11: FutureWarning: suggest_uniform has been deprecated in v3.0.0. This feature will be removed in v6.0.0. See https://github.com/optuna/optuna/releases/tag/v3.0.0. Use suggest_float instead.\n",
      "  alpha = optuna_trial.suggest_uniform(\"alpha\", 0.1, 1.0),\n"
     ]
    },
    {
     "name": "stdout",
     "output_type": "stream",
     "text": [
      "P3alphaRecommender: Similarity column 38121 (100.0%), 3877.81 column/sec. Elapsed time 9.83 sec\n",
      "EvaluatorHoldout: Processed 35584 (100.0%) in 11.37 sec. Users per second: 3131\n"
     ]
    },
    {
     "name": "stderr",
     "output_type": "stream",
     "text": [
      "[I 2024-11-28 23:36:25,511] Trial 32 finished with value: 0.05088653184594996 and parameters: {'topK': 44, 'alpha': 0.5709051883116166, 'normalize_similarity': True}. Best is trial 25 with value: 0.05185599846015851.\n"
     ]
    },
    {
     "name": "stdout",
     "output_type": "stream",
     "text": [
      "Results saved to optuna_progressP3.csv and best results to 'best_optuna_results.csv'\n"
     ]
    },
    {
     "name": "stderr",
     "output_type": "stream",
     "text": [
      "/var/folders/nl/s66s1ffn2kb26p587ppw3jsm0000gn/T/ipykernel_79576/2203105599.py:11: FutureWarning: suggest_uniform has been deprecated in v3.0.0. This feature will be removed in v6.0.0. See https://github.com/optuna/optuna/releases/tag/v3.0.0. Use suggest_float instead.\n",
      "  alpha = optuna_trial.suggest_uniform(\"alpha\", 0.1, 1.0),\n"
     ]
    },
    {
     "name": "stdout",
     "output_type": "stream",
     "text": [
      "P3alphaRecommender: Similarity column 38121 (100.0%), 2971.83 column/sec. Elapsed time 12.83 sec\n",
      "EvaluatorHoldout: Processed 35584 (100.0%) in 13.21 sec. Users per second: 2694\n"
     ]
    },
    {
     "name": "stderr",
     "output_type": "stream",
     "text": [
      "[I 2024-11-28 23:36:54,392] Trial 33 finished with value: 0.04413682335381502 and parameters: {'topK': 162, 'alpha': 0.29356943968453, 'normalize_similarity': True}. Best is trial 25 with value: 0.05185599846015851.\n"
     ]
    },
    {
     "name": "stdout",
     "output_type": "stream",
     "text": [
      "Results saved to optuna_progressP3.csv and best results to 'best_optuna_results.csv'\n"
     ]
    },
    {
     "name": "stderr",
     "output_type": "stream",
     "text": [
      "/var/folders/nl/s66s1ffn2kb26p587ppw3jsm0000gn/T/ipykernel_79576/2203105599.py:11: FutureWarning: suggest_uniform has been deprecated in v3.0.0. This feature will be removed in v6.0.0. See https://github.com/optuna/optuna/releases/tag/v3.0.0. Use suggest_float instead.\n",
      "  alpha = optuna_trial.suggest_uniform(\"alpha\", 0.1, 1.0),\n"
     ]
    },
    {
     "name": "stdout",
     "output_type": "stream",
     "text": [
      "P3alphaRecommender: Similarity column 38121 (100.0%), 1199.97 column/sec. Elapsed time 31.77 sec\n",
      "EvaluatorHoldout: Processed 35584 (100.0%) in 22.39 sec. Users per second: 1590\n"
     ]
    },
    {
     "name": "stderr",
     "output_type": "stream",
     "text": [
      "[I 2024-11-28 23:38:07,405] Trial 34 finished with value: 0.033097177392013795 and parameters: {'topK': 999, 'alpha': 0.16113909139257887, 'normalize_similarity': True}. Best is trial 25 with value: 0.05185599846015851.\n"
     ]
    },
    {
     "name": "stdout",
     "output_type": "stream",
     "text": [
      "Results saved to optuna_progressP3.csv and best results to 'best_optuna_results.csv'\n"
     ]
    },
    {
     "name": "stderr",
     "output_type": "stream",
     "text": [
      "/var/folders/nl/s66s1ffn2kb26p587ppw3jsm0000gn/T/ipykernel_79576/2203105599.py:11: FutureWarning: suggest_uniform has been deprecated in v3.0.0. This feature will be removed in v6.0.0. See https://github.com/optuna/optuna/releases/tag/v3.0.0. Use suggest_float instead.\n",
      "  alpha = optuna_trial.suggest_uniform(\"alpha\", 0.1, 1.0),\n"
     ]
    },
    {
     "name": "stdout",
     "output_type": "stream",
     "text": [
      "P3alphaRecommender: Similarity column 38121 (100.0%), 2728.27 column/sec. Elapsed time 13.97 sec\n",
      "EvaluatorHoldout: Processed 35584 (100.0%) in 14.39 sec. Users per second: 2473\n"
     ]
    },
    {
     "name": "stderr",
     "output_type": "stream",
     "text": [
      "[I 2024-11-28 23:38:40,084] Trial 35 finished with value: 0.041945639916636614 and parameters: {'topK': 237, 'alpha': 0.3838588386030308, 'normalize_similarity': True}. Best is trial 25 with value: 0.05185599846015851.\n"
     ]
    },
    {
     "name": "stdout",
     "output_type": "stream",
     "text": [
      "Results saved to optuna_progressP3.csv and best results to 'best_optuna_results.csv'\n"
     ]
    },
    {
     "name": "stderr",
     "output_type": "stream",
     "text": [
      "/var/folders/nl/s66s1ffn2kb26p587ppw3jsm0000gn/T/ipykernel_79576/2203105599.py:11: FutureWarning: suggest_uniform has been deprecated in v3.0.0. This feature will be removed in v6.0.0. See https://github.com/optuna/optuna/releases/tag/v3.0.0. Use suggest_float instead.\n",
      "  alpha = optuna_trial.suggest_uniform(\"alpha\", 0.1, 1.0),\n"
     ]
    },
    {
     "name": "stdout",
     "output_type": "stream",
     "text": [
      "P3alphaRecommender: Similarity column 38121 (100.0%), 4268.34 column/sec. Elapsed time 8.93 sec\n",
      "EvaluatorHoldout: Processed 35584 (100.0%) in 10.60 sec. Users per second: 3357\n"
     ]
    },
    {
     "name": "stderr",
     "output_type": "stream",
     "text": [
      "[I 2024-11-28 23:38:59,981] Trial 36 finished with value: 0.04910115322920046 and parameters: {'topK': 5, 'alpha': 0.9302718670176411, 'normalize_similarity': False}. Best is trial 25 with value: 0.05185599846015851.\n"
     ]
    },
    {
     "name": "stdout",
     "output_type": "stream",
     "text": [
      "Results saved to optuna_progressP3.csv and best results to 'best_optuna_results.csv'\n"
     ]
    },
    {
     "name": "stderr",
     "output_type": "stream",
     "text": [
      "/var/folders/nl/s66s1ffn2kb26p587ppw3jsm0000gn/T/ipykernel_79576/2203105599.py:11: FutureWarning: suggest_uniform has been deprecated in v3.0.0. This feature will be removed in v6.0.0. See https://github.com/optuna/optuna/releases/tag/v3.0.0. Use suggest_float instead.\n",
      "  alpha = optuna_trial.suggest_uniform(\"alpha\", 0.1, 1.0),\n"
     ]
    },
    {
     "name": "stdout",
     "output_type": "stream",
     "text": [
      "P3alphaRecommender: Similarity column 38121 (100.0%), 3747.98 column/sec. Elapsed time 10.17 sec\n",
      "EvaluatorHoldout: Processed 35584 (100.0%) in 11.72 sec. Users per second: 3037\n"
     ]
    },
    {
     "name": "stderr",
     "output_type": "stream",
     "text": [
      "[I 2024-11-28 23:39:23,055] Trial 37 finished with value: 0.04924961816261099 and parameters: {'topK': 56, 'alpha': 0.7917672556500941, 'normalize_similarity': True}. Best is trial 25 with value: 0.05185599846015851.\n"
     ]
    },
    {
     "name": "stdout",
     "output_type": "stream",
     "text": [
      "Results saved to optuna_progressP3.csv and best results to 'best_optuna_results.csv'\n"
     ]
    },
    {
     "name": "stderr",
     "output_type": "stream",
     "text": [
      "/var/folders/nl/s66s1ffn2kb26p587ppw3jsm0000gn/T/ipykernel_79576/2203105599.py:11: FutureWarning: suggest_uniform has been deprecated in v3.0.0. This feature will be removed in v6.0.0. See https://github.com/optuna/optuna/releases/tag/v3.0.0. Use suggest_float instead.\n",
      "  alpha = optuna_trial.suggest_uniform(\"alpha\", 0.1, 1.0),\n"
     ]
    },
    {
     "name": "stdout",
     "output_type": "stream",
     "text": [
      "P3alphaRecommender: Similarity column 38121 (100.0%), 3202.53 column/sec. Elapsed time 11.90 sec\n",
      "EvaluatorHoldout: Processed 35584 (100.0%) in 12.82 sec. Users per second: 2775\n"
     ]
    },
    {
     "name": "stderr",
     "output_type": "stream",
     "text": [
      "[I 2024-11-28 23:39:50,216] Trial 38 finished with value: 0.04547395454172206 and parameters: {'topK': 134, 'alpha': 0.4788988031009468, 'normalize_similarity': True}. Best is trial 25 with value: 0.05185599846015851.\n"
     ]
    },
    {
     "name": "stdout",
     "output_type": "stream",
     "text": [
      "Results saved to optuna_progressP3.csv and best results to 'best_optuna_results.csv'\n"
     ]
    },
    {
     "name": "stderr",
     "output_type": "stream",
     "text": [
      "/var/folders/nl/s66s1ffn2kb26p587ppw3jsm0000gn/T/ipykernel_79576/2203105599.py:11: FutureWarning: suggest_uniform has been deprecated in v3.0.0. This feature will be removed in v6.0.0. See https://github.com/optuna/optuna/releases/tag/v3.0.0. Use suggest_float instead.\n",
      "  alpha = optuna_trial.suggest_uniform(\"alpha\", 0.1, 1.0),\n"
     ]
    },
    {
     "name": "stdout",
     "output_type": "stream",
     "text": [
      "P3alphaRecommender: Similarity column 38121 (100.0%), 3610.97 column/sec. Elapsed time 10.56 sec\n",
      "EvaluatorHoldout: Processed 35584 (100.0%) in 11.99 sec. Users per second: 2968\n"
     ]
    },
    {
     "name": "stderr",
     "output_type": "stream",
     "text": [
      "[I 2024-11-28 23:40:14,214] Trial 39 finished with value: 0.04862526831213425 and parameters: {'topK': 74, 'alpha': 0.6068758452194087, 'normalize_similarity': True}. Best is trial 25 with value: 0.05185599846015851.\n"
     ]
    },
    {
     "name": "stdout",
     "output_type": "stream",
     "text": [
      "Results saved to optuna_progressP3.csv and best results to 'best_optuna_results.csv'\n"
     ]
    },
    {
     "name": "stderr",
     "output_type": "stream",
     "text": [
      "/var/folders/nl/s66s1ffn2kb26p587ppw3jsm0000gn/T/ipykernel_79576/2203105599.py:11: FutureWarning: suggest_uniform has been deprecated in v3.0.0. This feature will be removed in v6.0.0. See https://github.com/optuna/optuna/releases/tag/v3.0.0. Use suggest_float instead.\n",
      "  alpha = optuna_trial.suggest_uniform(\"alpha\", 0.1, 1.0),\n"
     ]
    },
    {
     "name": "stdout",
     "output_type": "stream",
     "text": [
      "P3alphaRecommender: Similarity column 38121 (100.0%), 2758.20 column/sec. Elapsed time 13.82 sec\n",
      "EvaluatorHoldout: Processed 35584 (100.0%) in 14.39 sec. Users per second: 2474\n"
     ]
    },
    {
     "name": "stderr",
     "output_type": "stream",
     "text": [
      "[I 2024-11-28 23:40:46,169] Trial 40 finished with value: 0.036556475801500225 and parameters: {'topK': 209, 'alpha': 0.4380114014901668, 'normalize_similarity': False}. Best is trial 25 with value: 0.05185599846015851.\n"
     ]
    },
    {
     "name": "stdout",
     "output_type": "stream",
     "text": [
      "Results saved to optuna_progressP3.csv and best results to 'best_optuna_results.csv'\n"
     ]
    },
    {
     "name": "stderr",
     "output_type": "stream",
     "text": [
      "/var/folders/nl/s66s1ffn2kb26p587ppw3jsm0000gn/T/ipykernel_79576/2203105599.py:11: FutureWarning: suggest_uniform has been deprecated in v3.0.0. This feature will be removed in v6.0.0. See https://github.com/optuna/optuna/releases/tag/v3.0.0. Use suggest_float instead.\n",
      "  alpha = optuna_trial.suggest_uniform(\"alpha\", 0.1, 1.0),\n"
     ]
    },
    {
     "name": "stdout",
     "output_type": "stream",
     "text": [
      "P3alphaRecommender: Similarity column 38121 (100.0%), 3791.75 column/sec. Elapsed time 10.05 sec\n",
      "EvaluatorHoldout: Processed 35584 (100.0%) in 11.59 sec. Users per second: 3071\n"
     ]
    },
    {
     "name": "stderr",
     "output_type": "stream",
     "text": [
      "[I 2024-11-28 23:41:08,935] Trial 41 finished with value: 0.049646194874456 and parameters: {'topK': 54, 'alpha': 0.6967577620583358, 'normalize_similarity': True}. Best is trial 25 with value: 0.05185599846015851.\n"
     ]
    },
    {
     "name": "stdout",
     "output_type": "stream",
     "text": [
      "Results saved to optuna_progressP3.csv and best results to 'best_optuna_results.csv'\n"
     ]
    },
    {
     "name": "stderr",
     "output_type": "stream",
     "text": [
      "/var/folders/nl/s66s1ffn2kb26p587ppw3jsm0000gn/T/ipykernel_79576/2203105599.py:11: FutureWarning: suggest_uniform has been deprecated in v3.0.0. This feature will be removed in v6.0.0. See https://github.com/optuna/optuna/releases/tag/v3.0.0. Use suggest_float instead.\n",
      "  alpha = optuna_trial.suggest_uniform(\"alpha\", 0.1, 1.0),\n"
     ]
    },
    {
     "name": "stdout",
     "output_type": "stream",
     "text": [
      "P3alphaRecommender: Similarity column 38121 (100.0%), 3605.05 column/sec. Elapsed time 10.57 sec\n",
      "EvaluatorHoldout: Processed 35584 (100.0%) in 11.99 sec. Users per second: 2967\n"
     ]
    },
    {
     "name": "stderr",
     "output_type": "stream",
     "text": [
      "[I 2024-11-28 23:41:32,875] Trial 42 finished with value: 0.04881587921626797 and parameters: {'topK': 71, 'alpha': 0.560359404661803, 'normalize_similarity': True}. Best is trial 25 with value: 0.05185599846015851.\n"
     ]
    },
    {
     "name": "stdout",
     "output_type": "stream",
     "text": [
      "Results saved to optuna_progressP3.csv and best results to 'best_optuna_results.csv'\n"
     ]
    },
    {
     "name": "stderr",
     "output_type": "stream",
     "text": [
      "/var/folders/nl/s66s1ffn2kb26p587ppw3jsm0000gn/T/ipykernel_79576/2203105599.py:11: FutureWarning: suggest_uniform has been deprecated in v3.0.0. This feature will be removed in v6.0.0. See https://github.com/optuna/optuna/releases/tag/v3.0.0. Use suggest_float instead.\n",
      "  alpha = optuna_trial.suggest_uniform(\"alpha\", 0.1, 1.0),\n"
     ]
    },
    {
     "name": "stdout",
     "output_type": "stream",
     "text": [
      "P3alphaRecommender: Similarity column 38121 (100.0%), 3061.97 column/sec. Elapsed time 12.45 sec\n",
      "EvaluatorHoldout: Processed 35584 (100.0%) in 13.38 sec. Users per second: 2660\n"
     ]
    },
    {
     "name": "stderr",
     "output_type": "stream",
     "text": [
      "[I 2024-11-28 23:42:01,578] Trial 43 finished with value: 0.044736107319499764 and parameters: {'topK': 150, 'alpha': 0.6508387683655006, 'normalize_similarity': True}. Best is trial 25 with value: 0.05185599846015851.\n"
     ]
    },
    {
     "name": "stdout",
     "output_type": "stream",
     "text": [
      "Results saved to optuna_progressP3.csv and best results to 'best_optuna_results.csv'\n"
     ]
    },
    {
     "name": "stderr",
     "output_type": "stream",
     "text": [
      "/var/folders/nl/s66s1ffn2kb26p587ppw3jsm0000gn/T/ipykernel_79576/2203105599.py:11: FutureWarning: suggest_uniform has been deprecated in v3.0.0. This feature will be removed in v6.0.0. See https://github.com/optuna/optuna/releases/tag/v3.0.0. Use suggest_float instead.\n",
      "  alpha = optuna_trial.suggest_uniform(\"alpha\", 0.1, 1.0),\n"
     ]
    },
    {
     "name": "stdout",
     "output_type": "stream",
     "text": [
      "P3alphaRecommender: Similarity column 38121 (100.0%), 4245.22 column/sec. Elapsed time 8.98 sec\n",
      "EvaluatorHoldout: Processed 35584 (100.0%) in 10.65 sec. Users per second: 3340\n"
     ]
    },
    {
     "name": "stderr",
     "output_type": "stream",
     "text": [
      "[I 2024-11-28 23:42:21,578] Trial 44 finished with value: 0.05108250007136963 and parameters: {'topK': 6, 'alpha': 0.5817131128662602, 'normalize_similarity': True}. Best is trial 25 with value: 0.05185599846015851.\n"
     ]
    },
    {
     "name": "stdout",
     "output_type": "stream",
     "text": [
      "Results saved to optuna_progressP3.csv and best results to 'best_optuna_results.csv'\n"
     ]
    },
    {
     "name": "stderr",
     "output_type": "stream",
     "text": [
      "/var/folders/nl/s66s1ffn2kb26p587ppw3jsm0000gn/T/ipykernel_79576/2203105599.py:11: FutureWarning: suggest_uniform has been deprecated in v3.0.0. This feature will be removed in v6.0.0. See https://github.com/optuna/optuna/releases/tag/v3.0.0. Use suggest_float instead.\n",
      "  alpha = optuna_trial.suggest_uniform(\"alpha\", 0.1, 1.0),\n"
     ]
    },
    {
     "name": "stdout",
     "output_type": "stream",
     "text": [
      "P3alphaRecommender: Similarity column 38121 (100.0%), 4011.91 column/sec. Elapsed time 9.50 sec\n",
      "EvaluatorHoldout: Processed 35584 (100.0%) in 11.04 sec. Users per second: 3222\n"
     ]
    },
    {
     "name": "stderr",
     "output_type": "stream",
     "text": [
      "[I 2024-11-28 23:42:42,747] Trial 45 finished with value: 0.05228024277006766 and parameters: {'topK': 26, 'alpha': 0.15931727406838098, 'normalize_similarity': True}. Best is trial 45 with value: 0.05228024277006766.\n"
     ]
    },
    {
     "name": "stdout",
     "output_type": "stream",
     "text": [
      "Results saved to optuna_progressP3.csv and best results to 'best_optuna_results.csv'\n"
     ]
    },
    {
     "name": "stderr",
     "output_type": "stream",
     "text": [
      "/var/folders/nl/s66s1ffn2kb26p587ppw3jsm0000gn/T/ipykernel_79576/2203105599.py:11: FutureWarning: suggest_uniform has been deprecated in v3.0.0. This feature will be removed in v6.0.0. See https://github.com/optuna/optuna/releases/tag/v3.0.0. Use suggest_float instead.\n",
      "  alpha = optuna_trial.suggest_uniform(\"alpha\", 0.1, 1.0),\n"
     ]
    },
    {
     "name": "stdout",
     "output_type": "stream",
     "text": [
      "P3alphaRecommender: Similarity column 38121 (100.0%), 4206.91 column/sec. Elapsed time 9.06 sec\n",
      "EvaluatorHoldout: Processed 35584 (100.0%) in 10.75 sec. Users per second: 3311\n"
     ]
    },
    {
     "name": "stderr",
     "output_type": "stream",
     "text": [
      "[I 2024-11-28 23:43:02,988] Trial 46 finished with value: 0.05272170990885673 and parameters: {'topK': 10, 'alpha': 0.759743705304917, 'normalize_similarity': True}. Best is trial 46 with value: 0.05272170990885673.\n"
     ]
    },
    {
     "name": "stdout",
     "output_type": "stream",
     "text": [
      "Results saved to optuna_progressP3.csv and best results to 'best_optuna_results.csv'\n"
     ]
    },
    {
     "name": "stderr",
     "output_type": "stream",
     "text": [
      "/var/folders/nl/s66s1ffn2kb26p587ppw3jsm0000gn/T/ipykernel_79576/2203105599.py:11: FutureWarning: suggest_uniform has been deprecated in v3.0.0. This feature will be removed in v6.0.0. See https://github.com/optuna/optuna/releases/tag/v3.0.0. Use suggest_float instead.\n",
      "  alpha = optuna_trial.suggest_uniform(\"alpha\", 0.1, 1.0),\n"
     ]
    },
    {
     "name": "stdout",
     "output_type": "stream",
     "text": [
      "P3alphaRecommender: Similarity column 38121 (100.0%), 4132.53 column/sec. Elapsed time 9.22 sec\n",
      "EvaluatorHoldout: Processed 35584 (100.0%) in 10.84 sec. Users per second: 3283\n"
     ]
    },
    {
     "name": "stderr",
     "output_type": "stream",
     "text": [
      "[I 2024-11-28 23:43:23,567] Trial 47 finished with value: 0.052770953995730084 and parameters: {'topK': 16, 'alpha': 0.83218258366692, 'normalize_similarity': True}. Best is trial 47 with value: 0.052770953995730084.\n"
     ]
    },
    {
     "name": "stdout",
     "output_type": "stream",
     "text": [
      "Results saved to optuna_progressP3.csv and best results to 'best_optuna_results.csv'\n"
     ]
    },
    {
     "name": "stderr",
     "output_type": "stream",
     "text": [
      "/var/folders/nl/s66s1ffn2kb26p587ppw3jsm0000gn/T/ipykernel_79576/2203105599.py:11: FutureWarning: suggest_uniform has been deprecated in v3.0.0. This feature will be removed in v6.0.0. See https://github.com/optuna/optuna/releases/tag/v3.0.0. Use suggest_float instead.\n",
      "  alpha = optuna_trial.suggest_uniform(\"alpha\", 0.1, 1.0),\n"
     ]
    },
    {
     "name": "stdout",
     "output_type": "stream",
     "text": [
      "P3alphaRecommender: Similarity column 38121 (100.0%), 3319.50 column/sec. Elapsed time 11.48 sec\n",
      "EvaluatorHoldout: Processed 35584 (100.0%) in 12.71 sec. Users per second: 2799\n"
     ]
    },
    {
     "name": "stderr",
     "output_type": "stream",
     "text": [
      "[I 2024-11-28 23:43:49,824] Trial 48 finished with value: 0.046090588466724855 and parameters: {'topK': 107, 'alpha': 0.8405089498327297, 'normalize_similarity': True}. Best is trial 47 with value: 0.052770953995730084.\n"
     ]
    },
    {
     "name": "stdout",
     "output_type": "stream",
     "text": [
      "Results saved to optuna_progressP3.csv and best results to 'best_optuna_results.csv'\n"
     ]
    },
    {
     "name": "stderr",
     "output_type": "stream",
     "text": [
      "/var/folders/nl/s66s1ffn2kb26p587ppw3jsm0000gn/T/ipykernel_79576/2203105599.py:11: FutureWarning: suggest_uniform has been deprecated in v3.0.0. This feature will be removed in v6.0.0. See https://github.com/optuna/optuna/releases/tag/v3.0.0. Use suggest_float instead.\n",
      "  alpha = optuna_trial.suggest_uniform(\"alpha\", 0.1, 1.0),\n"
     ]
    },
    {
     "name": "stdout",
     "output_type": "stream",
     "text": [
      "P3alphaRecommender: Similarity column 38121 (100.0%), 1536.82 column/sec. Elapsed time 24.81 sec\n",
      "EvaluatorHoldout: Processed 35584 (100.0%) in 19.93 sec. Users per second: 1786\n"
     ]
    },
    {
     "name": "stderr",
     "output_type": "stream",
     "text": [
      "[I 2024-11-28 23:44:47,008] Trial 49 finished with value: 0.03876446276014771 and parameters: {'topK': 638, 'alpha': 0.9400166074519962, 'normalize_similarity': False}. Best is trial 47 with value: 0.052770953995730084.\n"
     ]
    },
    {
     "name": "stdout",
     "output_type": "stream",
     "text": [
      "Results saved to optuna_progressP3.csv and best results to 'best_optuna_results.csv'\n"
     ]
    },
    {
     "name": "stderr",
     "output_type": "stream",
     "text": [
      "/var/folders/nl/s66s1ffn2kb26p587ppw3jsm0000gn/T/ipykernel_79576/2203105599.py:11: FutureWarning: suggest_uniform has been deprecated in v3.0.0. This feature will be removed in v6.0.0. See https://github.com/optuna/optuna/releases/tag/v3.0.0. Use suggest_float instead.\n",
      "  alpha = optuna_trial.suggest_uniform(\"alpha\", 0.1, 1.0),\n"
     ]
    },
    {
     "name": "stdout",
     "output_type": "stream",
     "text": [
      "P3alphaRecommender: Similarity column 38121 (100.0%), 2903.29 column/sec. Elapsed time 13.13 sec\n",
      "EvaluatorHoldout: Processed 35584 (100.0%) in 13.74 sec. Users per second: 2590\n"
     ]
    },
    {
     "name": "stderr",
     "output_type": "stream",
     "text": [
      "[I 2024-11-28 23:45:17,497] Trial 50 finished with value: 0.04309476191368194 and parameters: {'topK': 192, 'alpha': 0.7457930328146386, 'normalize_similarity': True}. Best is trial 47 with value: 0.052770953995730084.\n"
     ]
    },
    {
     "name": "stdout",
     "output_type": "stream",
     "text": [
      "Results saved to optuna_progressP3.csv and best results to 'best_optuna_results.csv'\n"
     ]
    },
    {
     "name": "stderr",
     "output_type": "stream",
     "text": [
      "/var/folders/nl/s66s1ffn2kb26p587ppw3jsm0000gn/T/ipykernel_79576/2203105599.py:11: FutureWarning: suggest_uniform has been deprecated in v3.0.0. This feature will be removed in v6.0.0. See https://github.com/optuna/optuna/releases/tag/v3.0.0. Use suggest_float instead.\n",
      "  alpha = optuna_trial.suggest_uniform(\"alpha\", 0.1, 1.0),\n"
     ]
    },
    {
     "name": "stdout",
     "output_type": "stream",
     "text": [
      "P3alphaRecommender: Similarity column 38121 (100.0%), 4303.86 column/sec. Elapsed time 8.86 sec\n",
      "EvaluatorHoldout: Processed 35584 (100.0%) in 10.58 sec. Users per second: 3365\n"
     ]
    },
    {
     "name": "stderr",
     "output_type": "stream",
     "text": [
      "[I 2024-11-28 23:45:37,477] Trial 51 finished with value: 0.05303183792251706 and parameters: {'topK': 18, 'alpha': 0.7659313361267492, 'normalize_similarity': True}. Best is trial 51 with value: 0.05303183792251706.\n"
     ]
    },
    {
     "name": "stdout",
     "output_type": "stream",
     "text": [
      "Results saved to optuna_progressP3.csv and best results to 'best_optuna_results.csv'\n"
     ]
    },
    {
     "name": "stderr",
     "output_type": "stream",
     "text": [
      "/var/folders/nl/s66s1ffn2kb26p587ppw3jsm0000gn/T/ipykernel_79576/2203105599.py:11: FutureWarning: suggest_uniform has been deprecated in v3.0.0. This feature will be removed in v6.0.0. See https://github.com/optuna/optuna/releases/tag/v3.0.0. Use suggest_float instead.\n",
      "  alpha = optuna_trial.suggest_uniform(\"alpha\", 0.1, 1.0),\n"
     ]
    },
    {
     "name": "stdout",
     "output_type": "stream",
     "text": [
      "P3alphaRecommender: Similarity column 38121 (100.0%), 4340.15 column/sec. Elapsed time 8.78 sec\n",
      "EvaluatorHoldout: Processed 35584 (100.0%) in 10.37 sec. Users per second: 3432\n"
     ]
    },
    {
     "name": "stderr",
     "output_type": "stream",
     "text": [
      "[I 2024-11-28 23:45:57,057] Trial 52 finished with value: 0.05301792160021804 and parameters: {'topK': 11, 'alpha': 0.7604613840776064, 'normalize_similarity': True}. Best is trial 51 with value: 0.05303183792251706.\n"
     ]
    },
    {
     "name": "stdout",
     "output_type": "stream",
     "text": [
      "Results saved to optuna_progressP3.csv and best results to 'best_optuna_results.csv'\n"
     ]
    },
    {
     "name": "stderr",
     "output_type": "stream",
     "text": [
      "/var/folders/nl/s66s1ffn2kb26p587ppw3jsm0000gn/T/ipykernel_79576/2203105599.py:11: FutureWarning: suggest_uniform has been deprecated in v3.0.0. This feature will be removed in v6.0.0. See https://github.com/optuna/optuna/releases/tag/v3.0.0. Use suggest_float instead.\n",
      "  alpha = optuna_trial.suggest_uniform(\"alpha\", 0.1, 1.0),\n"
     ]
    },
    {
     "name": "stdout",
     "output_type": "stream",
     "text": [
      "P3alphaRecommender: Similarity column 38121 (100.0%), 4068.23 column/sec. Elapsed time 9.37 sec\n",
      "EvaluatorHoldout: Processed 35584 (100.0%) in 10.88 sec. Users per second: 3272\n"
     ]
    },
    {
     "name": "stderr",
     "output_type": "stream",
     "text": [
      "[I 2024-11-28 23:46:17,899] Trial 53 finished with value: 0.05239992158059089 and parameters: {'topK': 20, 'alpha': 0.8499485831479091, 'normalize_similarity': True}. Best is trial 51 with value: 0.05303183792251706.\n"
     ]
    },
    {
     "name": "stdout",
     "output_type": "stream",
     "text": [
      "Results saved to optuna_progressP3.csv and best results to 'best_optuna_results.csv'\n"
     ]
    },
    {
     "name": "stderr",
     "output_type": "stream",
     "text": [
      "/var/folders/nl/s66s1ffn2kb26p587ppw3jsm0000gn/T/ipykernel_79576/2203105599.py:11: FutureWarning: suggest_uniform has been deprecated in v3.0.0. This feature will be removed in v6.0.0. See https://github.com/optuna/optuna/releases/tag/v3.0.0. Use suggest_float instead.\n",
      "  alpha = optuna_trial.suggest_uniform(\"alpha\", 0.1, 1.0),\n"
     ]
    },
    {
     "name": "stdout",
     "output_type": "stream",
     "text": [
      "P3alphaRecommender: Similarity column 38121 (100.0%), 3417.81 column/sec. Elapsed time 11.15 sec\n",
      "EvaluatorHoldout: Processed 35584 (100.0%) in 12.74 sec. Users per second: 2793\n"
     ]
    },
    {
     "name": "stderr",
     "output_type": "stream",
     "text": [
      "[I 2024-11-28 23:46:43,738] Trial 54 finished with value: 0.04660497271825216 and parameters: {'topK': 91, 'alpha': 0.8997113730834299, 'normalize_similarity': True}. Best is trial 51 with value: 0.05303183792251706.\n"
     ]
    },
    {
     "name": "stdout",
     "output_type": "stream",
     "text": [
      "Results saved to optuna_progressP3.csv and best results to 'best_optuna_results.csv'\n"
     ]
    },
    {
     "name": "stderr",
     "output_type": "stream",
     "text": [
      "/var/folders/nl/s66s1ffn2kb26p587ppw3jsm0000gn/T/ipykernel_79576/2203105599.py:11: FutureWarning: suggest_uniform has been deprecated in v3.0.0. This feature will be removed in v6.0.0. See https://github.com/optuna/optuna/releases/tag/v3.0.0. Use suggest_float instead.\n",
      "  alpha = optuna_trial.suggest_uniform(\"alpha\", 0.1, 1.0),\n"
     ]
    },
    {
     "name": "stdout",
     "output_type": "stream",
     "text": [
      "P3alphaRecommender: Similarity column 38121 (100.0%), 3961.14 column/sec. Elapsed time 9.62 sec\n",
      "EvaluatorHoldout: Processed 35584 (100.0%) in 10.99 sec. Users per second: 3237\n"
     ]
    },
    {
     "name": "stderr",
     "output_type": "stream",
     "text": [
      "[I 2024-11-28 23:47:05,137] Trial 55 finished with value: 0.05125237533187531 and parameters: {'topK': 34, 'alpha': 0.7664266124331739, 'normalize_similarity': True}. Best is trial 51 with value: 0.05303183792251706.\n"
     ]
    },
    {
     "name": "stdout",
     "output_type": "stream",
     "text": [
      "Results saved to optuna_progressP3.csv and best results to 'best_optuna_results.csv'\n"
     ]
    },
    {
     "name": "stderr",
     "output_type": "stream",
     "text": [
      "/var/folders/nl/s66s1ffn2kb26p587ppw3jsm0000gn/T/ipykernel_79576/2203105599.py:11: FutureWarning: suggest_uniform has been deprecated in v3.0.0. This feature will be removed in v6.0.0. See https://github.com/optuna/optuna/releases/tag/v3.0.0. Use suggest_float instead.\n",
      "  alpha = optuna_trial.suggest_uniform(\"alpha\", 0.1, 1.0),\n"
     ]
    },
    {
     "name": "stdout",
     "output_type": "stream",
     "text": [
      "P3alphaRecommender: Similarity column 38121 (100.0%), 1992.17 column/sec. Elapsed time 19.14 sec\n",
      "EvaluatorHoldout: Processed 35584 (100.0%) in 17.30 sec. Users per second: 2057\n"
     ]
    },
    {
     "name": "stderr",
     "output_type": "stream",
     "text": [
      "[I 2024-11-28 23:47:50,174] Trial 56 finished with value: 0.03865724496295702 and parameters: {'topK': 455, 'alpha': 0.6999275559914342, 'normalize_similarity': True}. Best is trial 51 with value: 0.05303183792251706.\n"
     ]
    },
    {
     "name": "stdout",
     "output_type": "stream",
     "text": [
      "Results saved to optuna_progressP3.csv and best results to 'best_optuna_results.csv'\n"
     ]
    },
    {
     "name": "stderr",
     "output_type": "stream",
     "text": [
      "/var/folders/nl/s66s1ffn2kb26p587ppw3jsm0000gn/T/ipykernel_79576/2203105599.py:11: FutureWarning: suggest_uniform has been deprecated in v3.0.0. This feature will be removed in v6.0.0. See https://github.com/optuna/optuna/releases/tag/v3.0.0. Use suggest_float instead.\n",
      "  alpha = optuna_trial.suggest_uniform(\"alpha\", 0.1, 1.0),\n"
     ]
    },
    {
     "name": "stdout",
     "output_type": "stream",
     "text": [
      "P3alphaRecommender: Similarity column 38121 (100.0%), 3493.18 column/sec. Elapsed time 10.91 sec\n",
      "EvaluatorHoldout: Processed 35584 (100.0%) in 12.36 sec. Users per second: 2880\n"
     ]
    },
    {
     "name": "stderr",
     "output_type": "stream",
     "text": [
      "[I 2024-11-28 23:48:15,515] Trial 57 finished with value: 0.04604552853252937 and parameters: {'topK': 107, 'alpha': 0.8471035508698018, 'normalize_similarity': True}. Best is trial 51 with value: 0.05303183792251706.\n"
     ]
    },
    {
     "name": "stdout",
     "output_type": "stream",
     "text": [
      "Results saved to optuna_progressP3.csv and best results to 'best_optuna_results.csv'\n"
     ]
    },
    {
     "name": "stderr",
     "output_type": "stream",
     "text": [
      "/var/folders/nl/s66s1ffn2kb26p587ppw3jsm0000gn/T/ipykernel_79576/2203105599.py:11: FutureWarning: suggest_uniform has been deprecated in v3.0.0. This feature will be removed in v6.0.0. See https://github.com/optuna/optuna/releases/tag/v3.0.0. Use suggest_float instead.\n",
      "  alpha = optuna_trial.suggest_uniform(\"alpha\", 0.1, 1.0),\n"
     ]
    },
    {
     "name": "stdout",
     "output_type": "stream",
     "text": [
      "P3alphaRecommender: Similarity column 38121 (100.0%), 3093.43 column/sec. Elapsed time 12.32 sec\n",
      "EvaluatorHoldout: Processed 35584 (100.0%) in 13.01 sec. Users per second: 2735\n"
     ]
    },
    {
     "name": "stderr",
     "output_type": "stream",
     "text": [
      "[I 2024-11-28 23:48:43,803] Trial 58 finished with value: 0.044026214296418474 and parameters: {'topK': 161, 'alpha': 0.7746630924804506, 'normalize_similarity': True}. Best is trial 51 with value: 0.05303183792251706.\n"
     ]
    },
    {
     "name": "stdout",
     "output_type": "stream",
     "text": [
      "Results saved to optuna_progressP3.csv and best results to 'best_optuna_results.csv'\n"
     ]
    },
    {
     "name": "stderr",
     "output_type": "stream",
     "text": [
      "/var/folders/nl/s66s1ffn2kb26p587ppw3jsm0000gn/T/ipykernel_79576/2203105599.py:11: FutureWarning: suggest_uniform has been deprecated in v3.0.0. This feature will be removed in v6.0.0. See https://github.com/optuna/optuna/releases/tag/v3.0.0. Use suggest_float instead.\n",
      "  alpha = optuna_trial.suggest_uniform(\"alpha\", 0.1, 1.0),\n"
     ]
    },
    {
     "name": "stdout",
     "output_type": "stream",
     "text": [
      "P3alphaRecommender: Similarity column 38121 (100.0%), 1359.10 column/sec. Elapsed time 28.05 sec\n",
      "EvaluatorHoldout: Processed 35584 (100.0%) in 22.65 sec. Users per second: 1571\n"
     ]
    },
    {
     "name": "stderr",
     "output_type": "stream",
     "text": [
      "[I 2024-11-28 23:49:50,930] Trial 59 finished with value: 0.036510047542322045 and parameters: {'topK': 832, 'alpha': 0.999791246263388, 'normalize_similarity': True}. Best is trial 51 with value: 0.05303183792251706.\n"
     ]
    },
    {
     "name": "stdout",
     "output_type": "stream",
     "text": [
      "Results saved to optuna_progressP3.csv and best results to 'best_optuna_results.csv'\n"
     ]
    },
    {
     "name": "stderr",
     "output_type": "stream",
     "text": [
      "/var/folders/nl/s66s1ffn2kb26p587ppw3jsm0000gn/T/ipykernel_79576/2203105599.py:11: FutureWarning: suggest_uniform has been deprecated in v3.0.0. This feature will be removed in v6.0.0. See https://github.com/optuna/optuna/releases/tag/v3.0.0. Use suggest_float instead.\n",
      "  alpha = optuna_trial.suggest_uniform(\"alpha\", 0.1, 1.0),\n"
     ]
    },
    {
     "name": "stdout",
     "output_type": "stream",
     "text": [
      "P3alphaRecommender: Similarity column 38121 (100.0%), 4003.03 column/sec. Elapsed time 9.52 sec\n",
      "EvaluatorHoldout: Processed 35584 (100.0%) in 11.15 sec. Users per second: 3192\n"
     ]
    },
    {
     "name": "stderr",
     "output_type": "stream",
     "text": [
      "[I 2024-11-28 23:50:12,342] Trial 60 finished with value: 0.05101254152927478 and parameters: {'topK': 30, 'alpha': 0.9148767515314178, 'normalize_similarity': True}. Best is trial 51 with value: 0.05303183792251706.\n"
     ]
    },
    {
     "name": "stdout",
     "output_type": "stream",
     "text": [
      "Results saved to optuna_progressP3.csv and best results to 'best_optuna_results.csv'\n"
     ]
    },
    {
     "name": "stderr",
     "output_type": "stream",
     "text": [
      "/var/folders/nl/s66s1ffn2kb26p587ppw3jsm0000gn/T/ipykernel_79576/2203105599.py:11: FutureWarning: suggest_uniform has been deprecated in v3.0.0. This feature will be removed in v6.0.0. See https://github.com/optuna/optuna/releases/tag/v3.0.0. Use suggest_float instead.\n",
      "  alpha = optuna_trial.suggest_uniform(\"alpha\", 0.1, 1.0),\n"
     ]
    },
    {
     "name": "stdout",
     "output_type": "stream",
     "text": [
      "P3alphaRecommender: Similarity column 38121 (100.0%), 4235.81 column/sec. Elapsed time 9.00 sec\n",
      "EvaluatorHoldout: Processed 35584 (100.0%) in 10.80 sec. Users per second: 3296\n"
     ]
    },
    {
     "name": "stderr",
     "output_type": "stream",
     "text": [
      "[I 2024-11-28 23:50:32,545] Trial 61 finished with value: 0.051947850201979354 and parameters: {'topK': 9, 'alpha': 0.8274116990016424, 'normalize_similarity': True}. Best is trial 51 with value: 0.05303183792251706.\n"
     ]
    },
    {
     "name": "stdout",
     "output_type": "stream",
     "text": [
      "Results saved to optuna_progressP3.csv and best results to 'best_optuna_results.csv'\n"
     ]
    },
    {
     "name": "stderr",
     "output_type": "stream",
     "text": [
      "/var/folders/nl/s66s1ffn2kb26p587ppw3jsm0000gn/T/ipykernel_79576/2203105599.py:11: FutureWarning: suggest_uniform has been deprecated in v3.0.0. This feature will be removed in v6.0.0. See https://github.com/optuna/optuna/releases/tag/v3.0.0. Use suggest_float instead.\n",
      "  alpha = optuna_trial.suggest_uniform(\"alpha\", 0.1, 1.0),\n"
     ]
    },
    {
     "name": "stdout",
     "output_type": "stream",
     "text": [
      "P3alphaRecommender: Similarity column 38121 (100.0%), 3576.19 column/sec. Elapsed time 10.66 sec\n",
      "EvaluatorHoldout: Processed 35584 (100.0%) in 11.98 sec. Users per second: 2970\n"
     ]
    },
    {
     "name": "stderr",
     "output_type": "stream",
     "text": [
      "[I 2024-11-28 23:50:56,745] Trial 62 finished with value: 0.048139067986680224 and parameters: {'topK': 79, 'alpha': 0.6717146955687139, 'normalize_similarity': True}. Best is trial 51 with value: 0.05303183792251706.\n"
     ]
    },
    {
     "name": "stdout",
     "output_type": "stream",
     "text": [
      "Results saved to optuna_progressP3.csv and best results to 'best_optuna_results.csv'\n"
     ]
    },
    {
     "name": "stderr",
     "output_type": "stream",
     "text": [
      "/var/folders/nl/s66s1ffn2kb26p587ppw3jsm0000gn/T/ipykernel_79576/2203105599.py:11: FutureWarning: suggest_uniform has been deprecated in v3.0.0. This feature will be removed in v6.0.0. See https://github.com/optuna/optuna/releases/tag/v3.0.0. Use suggest_float instead.\n",
      "  alpha = optuna_trial.suggest_uniform(\"alpha\", 0.1, 1.0),\n"
     ]
    },
    {
     "name": "stdout",
     "output_type": "stream",
     "text": [
      "P3alphaRecommender: Similarity column 38121 (100.0%), 3348.41 column/sec. Elapsed time 11.38 sec\n",
      "EvaluatorHoldout: Processed 35584 (100.0%) in 12.86 sec. Users per second: 2766\n"
     ]
    },
    {
     "name": "stderr",
     "output_type": "stream",
     "text": [
      "[I 2024-11-28 23:51:23,276] Trial 63 finished with value: 0.045638740123970574 and parameters: {'topK': 118, 'alpha': 0.8254792504214651, 'normalize_similarity': True}. Best is trial 51 with value: 0.05303183792251706.\n"
     ]
    },
    {
     "name": "stdout",
     "output_type": "stream",
     "text": [
      "Results saved to optuna_progressP3.csv and best results to 'best_optuna_results.csv'\n"
     ]
    },
    {
     "name": "stderr",
     "output_type": "stream",
     "text": [
      "/var/folders/nl/s66s1ffn2kb26p587ppw3jsm0000gn/T/ipykernel_79576/2203105599.py:11: FutureWarning: suggest_uniform has been deprecated in v3.0.0. This feature will be removed in v6.0.0. See https://github.com/optuna/optuna/releases/tag/v3.0.0. Use suggest_float instead.\n",
      "  alpha = optuna_trial.suggest_uniform(\"alpha\", 0.1, 1.0),\n"
     ]
    },
    {
     "name": "stdout",
     "output_type": "stream",
     "text": [
      "P3alphaRecommender: Similarity column 38121 (100.0%), 4014.79 column/sec. Elapsed time 9.50 sec\n",
      "EvaluatorHoldout: Processed 35584 (100.0%) in 11.23 sec. Users per second: 3169\n"
     ]
    },
    {
     "name": "stderr",
     "output_type": "stream",
     "text": [
      "[I 2024-11-28 23:51:44,794] Trial 64 finished with value: 0.05082441412940888 and parameters: {'topK': 33, 'alpha': 0.8680555488165054, 'normalize_similarity': True}. Best is trial 51 with value: 0.05303183792251706.\n"
     ]
    },
    {
     "name": "stdout",
     "output_type": "stream",
     "text": [
      "Results saved to optuna_progressP3.csv and best results to 'best_optuna_results.csv'\n"
     ]
    },
    {
     "name": "stderr",
     "output_type": "stream",
     "text": [
      "/var/folders/nl/s66s1ffn2kb26p587ppw3jsm0000gn/T/ipykernel_79576/2203105599.py:11: FutureWarning: suggest_uniform has been deprecated in v3.0.0. This feature will be removed in v6.0.0. See https://github.com/optuna/optuna/releases/tag/v3.0.0. Use suggest_float instead.\n",
      "  alpha = optuna_trial.suggest_uniform(\"alpha\", 0.1, 1.0),\n"
     ]
    },
    {
     "name": "stdout",
     "output_type": "stream",
     "text": [
      "P3alphaRecommender: Similarity column 38121 (100.0%), 3974.41 column/sec. Elapsed time 9.59 sec\n",
      "EvaluatorHoldout: Processed 35584 (100.0%) in 11.34 sec. Users per second: 3137\n"
     ]
    },
    {
     "name": "stderr",
     "output_type": "stream",
     "text": [
      "[I 2024-11-28 23:52:06,477] Trial 65 finished with value: 0.050787023283157304 and parameters: {'topK': 30, 'alpha': 0.9512363964267346, 'normalize_similarity': True}. Best is trial 51 with value: 0.05303183792251706.\n"
     ]
    },
    {
     "name": "stdout",
     "output_type": "stream",
     "text": [
      "Results saved to optuna_progressP3.csv and best results to 'best_optuna_results.csv'\n"
     ]
    },
    {
     "name": "stderr",
     "output_type": "stream",
     "text": [
      "/var/folders/nl/s66s1ffn2kb26p587ppw3jsm0000gn/T/ipykernel_79576/2203105599.py:11: FutureWarning: suggest_uniform has been deprecated in v3.0.0. This feature will be removed in v6.0.0. See https://github.com/optuna/optuna/releases/tag/v3.0.0. Use suggest_float instead.\n",
      "  alpha = optuna_trial.suggest_uniform(\"alpha\", 0.1, 1.0),\n"
     ]
    },
    {
     "name": "stdout",
     "output_type": "stream",
     "text": [
      "P3alphaRecommender: Similarity column 38121 (100.0%), 3582.20 column/sec. Elapsed time 10.64 sec\n",
      "EvaluatorHoldout: Processed 35584 (100.0%) in 12.11 sec. Users per second: 2939\n"
     ]
    },
    {
     "name": "stderr",
     "output_type": "stream",
     "text": [
      "[I 2024-11-28 23:52:30,651] Trial 66 finished with value: 0.044371989015928426 and parameters: {'topK': 72, 'alpha': 0.7330853574417915, 'normalize_similarity': False}. Best is trial 51 with value: 0.05303183792251706.\n"
     ]
    },
    {
     "name": "stdout",
     "output_type": "stream",
     "text": [
      "Results saved to optuna_progressP3.csv and best results to 'best_optuna_results.csv'\n"
     ]
    },
    {
     "name": "stderr",
     "output_type": "stream",
     "text": [
      "/var/folders/nl/s66s1ffn2kb26p587ppw3jsm0000gn/T/ipykernel_79576/2203105599.py:11: FutureWarning: suggest_uniform has been deprecated in v3.0.0. This feature will be removed in v6.0.0. See https://github.com/optuna/optuna/releases/tag/v3.0.0. Use suggest_float instead.\n",
      "  alpha = optuna_trial.suggest_uniform(\"alpha\", 0.1, 1.0),\n"
     ]
    },
    {
     "name": "stdout",
     "output_type": "stream",
     "text": [
      "P3alphaRecommender: Similarity column 38121 (100.0%), 3087.59 column/sec. Elapsed time 12.35 sec\n",
      "EvaluatorHoldout: Processed 35584 (100.0%) in 13.82 sec. Users per second: 2575\n"
     ]
    },
    {
     "name": "stderr",
     "output_type": "stream",
     "text": [
      "[I 2024-11-28 23:52:59,532] Trial 67 finished with value: 0.044734895119616806 and parameters: {'topK': 143, 'alpha': 0.768120690203777, 'normalize_similarity': True}. Best is trial 51 with value: 0.05303183792251706.\n"
     ]
    },
    {
     "name": "stdout",
     "output_type": "stream",
     "text": [
      "Results saved to optuna_progressP3.csv and best results to 'best_optuna_results.csv'\n"
     ]
    },
    {
     "name": "stderr",
     "output_type": "stream",
     "text": [
      "/var/folders/nl/s66s1ffn2kb26p587ppw3jsm0000gn/T/ipykernel_79576/2203105599.py:11: FutureWarning: suggest_uniform has been deprecated in v3.0.0. This feature will be removed in v6.0.0. See https://github.com/optuna/optuna/releases/tag/v3.0.0. Use suggest_float instead.\n",
      "  alpha = optuna_trial.suggest_uniform(\"alpha\", 0.1, 1.0),\n"
     ]
    },
    {
     "name": "stdout",
     "output_type": "stream",
     "text": [
      "P3alphaRecommender: Similarity column 38121 (100.0%), 4213.71 column/sec. Elapsed time 9.05 sec\n",
      "EvaluatorHoldout: Processed 35584 (100.0%) in 10.96 sec. Users per second: 3245\n"
     ]
    },
    {
     "name": "stderr",
     "output_type": "stream",
     "text": [
      "[I 2024-11-28 23:53:19,897] Trial 68 finished with value: 0.04874819563991515 and parameters: {'topK': 5, 'alpha': 0.8084826991936538, 'normalize_similarity': True}. Best is trial 51 with value: 0.05303183792251706.\n"
     ]
    },
    {
     "name": "stdout",
     "output_type": "stream",
     "text": [
      "Results saved to optuna_progressP3.csv and best results to 'best_optuna_results.csv'\n"
     ]
    },
    {
     "name": "stderr",
     "output_type": "stream",
     "text": [
      "/var/folders/nl/s66s1ffn2kb26p587ppw3jsm0000gn/T/ipykernel_79576/2203105599.py:11: FutureWarning: suggest_uniform has been deprecated in v3.0.0. This feature will be removed in v6.0.0. See https://github.com/optuna/optuna/releases/tag/v3.0.0. Use suggest_float instead.\n",
      "  alpha = optuna_trial.suggest_uniform(\"alpha\", 0.1, 1.0),\n"
     ]
    },
    {
     "name": "stdout",
     "output_type": "stream",
     "text": [
      "P3alphaRecommender: Similarity column 38121 (100.0%), 3360.94 column/sec. Elapsed time 11.34 sec\n",
      "EvaluatorHoldout: Processed 35584 (100.0%) in 12.53 sec. Users per second: 2839\n"
     ]
    },
    {
     "name": "stderr",
     "output_type": "stream",
     "text": [
      "[I 2024-11-28 23:53:45,672] Trial 69 finished with value: 0.04648116774437417 and parameters: {'topK': 96, 'alpha': 0.8926727174010887, 'normalize_similarity': True}. Best is trial 51 with value: 0.05303183792251706.\n"
     ]
    },
    {
     "name": "stdout",
     "output_type": "stream",
     "text": [
      "Results saved to optuna_progressP3.csv and best results to 'best_optuna_results.csv'\n"
     ]
    },
    {
     "name": "stderr",
     "output_type": "stream",
     "text": [
      "/var/folders/nl/s66s1ffn2kb26p587ppw3jsm0000gn/T/ipykernel_79576/2203105599.py:11: FutureWarning: suggest_uniform has been deprecated in v3.0.0. This feature will be removed in v6.0.0. See https://github.com/optuna/optuna/releases/tag/v3.0.0. Use suggest_float instead.\n",
      "  alpha = optuna_trial.suggest_uniform(\"alpha\", 0.1, 1.0),\n"
     ]
    },
    {
     "name": "stdout",
     "output_type": "stream",
     "text": [
      "P3alphaRecommender: Similarity column 38121 (100.0%), 2659.18 column/sec. Elapsed time 14.34 sec\n",
      "EvaluatorHoldout: Processed 35584 (100.0%) in 14.47 sec. Users per second: 2458\n"
     ]
    },
    {
     "name": "stderr",
     "output_type": "stream",
     "text": [
      "[I 2024-11-28 23:54:18,985] Trial 70 finished with value: 0.04177960310323023 and parameters: {'topK': 237, 'alpha': 0.852730300789019, 'normalize_similarity': True}. Best is trial 51 with value: 0.05303183792251706.\n"
     ]
    },
    {
     "name": "stdout",
     "output_type": "stream",
     "text": [
      "Results saved to optuna_progressP3.csv and best results to 'best_optuna_results.csv'\n"
     ]
    },
    {
     "name": "stderr",
     "output_type": "stream",
     "text": [
      "/var/folders/nl/s66s1ffn2kb26p587ppw3jsm0000gn/T/ipykernel_79576/2203105599.py:11: FutureWarning: suggest_uniform has been deprecated in v3.0.0. This feature will be removed in v6.0.0. See https://github.com/optuna/optuna/releases/tag/v3.0.0. Use suggest_float instead.\n",
      "  alpha = optuna_trial.suggest_uniform(\"alpha\", 0.1, 1.0),\n"
     ]
    },
    {
     "name": "stdout",
     "output_type": "stream",
     "text": [
      "P3alphaRecommender: Similarity column 38121 (100.0%), 4229.13 column/sec. Elapsed time 9.01 sec\n",
      "EvaluatorHoldout: Processed 35584 (100.0%) in 10.71 sec. Users per second: 3322\n"
     ]
    },
    {
     "name": "stderr",
     "output_type": "stream",
     "text": [
      "[I 2024-11-28 23:54:39,092] Trial 71 finished with value: 0.05084583560829737 and parameters: {'topK': 7, 'alpha': 0.8273061945527712, 'normalize_similarity': True}. Best is trial 51 with value: 0.05303183792251706.\n"
     ]
    },
    {
     "name": "stdout",
     "output_type": "stream",
     "text": [
      "Results saved to optuna_progressP3.csv and best results to 'best_optuna_results.csv'\n"
     ]
    },
    {
     "name": "stderr",
     "output_type": "stream",
     "text": [
      "/var/folders/nl/s66s1ffn2kb26p587ppw3jsm0000gn/T/ipykernel_79576/2203105599.py:11: FutureWarning: suggest_uniform has been deprecated in v3.0.0. This feature will be removed in v6.0.0. See https://github.com/optuna/optuna/releases/tag/v3.0.0. Use suggest_float instead.\n",
      "  alpha = optuna_trial.suggest_uniform(\"alpha\", 0.1, 1.0),\n"
     ]
    },
    {
     "name": "stdout",
     "output_type": "stream",
     "text": [
      "P3alphaRecommender: Similarity column 38121 (100.0%), 3929.53 column/sec. Elapsed time 9.70 sec\n",
      "EvaluatorHoldout: Processed 35584 (100.0%) in 11.52 sec. Users per second: 3089\n"
     ]
    },
    {
     "name": "stderr",
     "output_type": "stream",
     "text": [
      "[I 2024-11-28 23:55:01,267] Trial 72 finished with value: 0.04959136150900521 and parameters: {'topK': 42, 'alpha': 0.9711790840331261, 'normalize_similarity': True}. Best is trial 51 with value: 0.05303183792251706.\n"
     ]
    },
    {
     "name": "stdout",
     "output_type": "stream",
     "text": [
      "Results saved to optuna_progressP3.csv and best results to 'best_optuna_results.csv'\n"
     ]
    },
    {
     "name": "stderr",
     "output_type": "stream",
     "text": [
      "/var/folders/nl/s66s1ffn2kb26p587ppw3jsm0000gn/T/ipykernel_79576/2203105599.py:11: FutureWarning: suggest_uniform has been deprecated in v3.0.0. This feature will be removed in v6.0.0. See https://github.com/optuna/optuna/releases/tag/v3.0.0. Use suggest_float instead.\n",
      "  alpha = optuna_trial.suggest_uniform(\"alpha\", 0.1, 1.0),\n"
     ]
    },
    {
     "name": "stdout",
     "output_type": "stream",
     "text": [
      "P3alphaRecommender: Similarity column 38121 (100.0%), 3666.04 column/sec. Elapsed time 10.40 sec\n",
      "EvaluatorHoldout: Processed 35584 (100.0%) in 11.73 sec. Users per second: 3034\n"
     ]
    },
    {
     "name": "stderr",
     "output_type": "stream",
     "text": [
      "[I 2024-11-28 23:55:24,665] Trial 73 finished with value: 0.04852243763025131 and parameters: {'topK': 67, 'alpha': 0.1045284074181467, 'normalize_similarity': True}. Best is trial 51 with value: 0.05303183792251706.\n"
     ]
    },
    {
     "name": "stdout",
     "output_type": "stream",
     "text": [
      "Results saved to optuna_progressP3.csv and best results to 'best_optuna_results.csv'\n"
     ]
    },
    {
     "name": "stderr",
     "output_type": "stream",
     "text": [
      "/var/folders/nl/s66s1ffn2kb26p587ppw3jsm0000gn/T/ipykernel_79576/2203105599.py:11: FutureWarning: suggest_uniform has been deprecated in v3.0.0. This feature will be removed in v6.0.0. See https://github.com/optuna/optuna/releases/tag/v3.0.0. Use suggest_float instead.\n",
      "  alpha = optuna_trial.suggest_uniform(\"alpha\", 0.1, 1.0),\n"
     ]
    },
    {
     "name": "stdout",
     "output_type": "stream",
     "text": [
      "P3alphaRecommender: Similarity column 38121 (100.0%), 4069.74 column/sec. Elapsed time 9.37 sec\n",
      "EvaluatorHoldout: Processed 35584 (100.0%) in 11.15 sec. Users per second: 3191\n"
     ]
    },
    {
     "name": "stderr",
     "output_type": "stream",
     "text": [
      "[I 2024-11-28 23:55:45,928] Trial 74 finished with value: 0.051830033740862626 and parameters: {'topK': 31, 'alpha': 0.7158578779699567, 'normalize_similarity': True}. Best is trial 51 with value: 0.05303183792251706.\n"
     ]
    },
    {
     "name": "stdout",
     "output_type": "stream",
     "text": [
      "Results saved to optuna_progressP3.csv and best results to 'best_optuna_results.csv'\n"
     ]
    },
    {
     "name": "stderr",
     "output_type": "stream",
     "text": [
      "/var/folders/nl/s66s1ffn2kb26p587ppw3jsm0000gn/T/ipykernel_79576/2203105599.py:11: FutureWarning: suggest_uniform has been deprecated in v3.0.0. This feature will be removed in v6.0.0. See https://github.com/optuna/optuna/releases/tag/v3.0.0. Use suggest_float instead.\n",
      "  alpha = optuna_trial.suggest_uniform(\"alpha\", 0.1, 1.0),\n"
     ]
    },
    {
     "name": "stdout",
     "output_type": "stream",
     "text": [
      "P3alphaRecommender: Similarity column 38121 (100.0%), 3436.61 column/sec. Elapsed time 11.09 sec\n",
      "EvaluatorHoldout: Processed 35584 (100.0%) in 12.67 sec. Users per second: 2808\n"
     ]
    },
    {
     "name": "stderr",
     "output_type": "stream",
     "text": [
      "[I 2024-11-28 23:56:11,610] Trial 75 finished with value: 0.046628506346706705 and parameters: {'topK': 99, 'alpha': 0.7871569763466737, 'normalize_similarity': True}. Best is trial 51 with value: 0.05303183792251706.\n"
     ]
    },
    {
     "name": "stdout",
     "output_type": "stream",
     "text": [
      "Results saved to optuna_progressP3.csv and best results to 'best_optuna_results.csv'\n"
     ]
    },
    {
     "name": "stderr",
     "output_type": "stream",
     "text": [
      "/var/folders/nl/s66s1ffn2kb26p587ppw3jsm0000gn/T/ipykernel_79576/2203105599.py:11: FutureWarning: suggest_uniform has been deprecated in v3.0.0. This feature will be removed in v6.0.0. See https://github.com/optuna/optuna/releases/tag/v3.0.0. Use suggest_float instead.\n",
      "  alpha = optuna_trial.suggest_uniform(\"alpha\", 0.1, 1.0),\n"
     ]
    },
    {
     "name": "stdout",
     "output_type": "stream",
     "text": [
      "P3alphaRecommender: Similarity column 38121 (100.0%), 2972.14 column/sec. Elapsed time 12.83 sec\n",
      "EvaluatorHoldout: Processed 35584 (100.0%) in 13.92 sec. Users per second: 2557\n"
     ]
    },
    {
     "name": "stderr",
     "output_type": "stream",
     "text": [
      "[I 2024-11-28 23:56:41,647] Trial 76 finished with value: 0.043373470866162715 and parameters: {'topK': 173, 'alpha': 0.8682564087647969, 'normalize_similarity': True}. Best is trial 51 with value: 0.05303183792251706.\n"
     ]
    },
    {
     "name": "stdout",
     "output_type": "stream",
     "text": [
      "Results saved to optuna_progressP3.csv and best results to 'best_optuna_results.csv'\n"
     ]
    },
    {
     "name": "stderr",
     "output_type": "stream",
     "text": [
      "/var/folders/nl/s66s1ffn2kb26p587ppw3jsm0000gn/T/ipykernel_79576/2203105599.py:11: FutureWarning: suggest_uniform has been deprecated in v3.0.0. This feature will be removed in v6.0.0. See https://github.com/optuna/optuna/releases/tag/v3.0.0. Use suggest_float instead.\n",
      "  alpha = optuna_trial.suggest_uniform(\"alpha\", 0.1, 1.0),\n"
     ]
    },
    {
     "name": "stdout",
     "output_type": "stream",
     "text": [
      "P3alphaRecommender: Similarity column 38121 (100.0%), 3750.94 column/sec. Elapsed time 10.16 sec\n",
      "EvaluatorHoldout: Processed 35584 (100.0%) in 11.77 sec. Users per second: 3024\n"
     ]
    },
    {
     "name": "stderr",
     "output_type": "stream",
     "text": [
      "[I 2024-11-28 23:57:04,748] Trial 77 finished with value: 0.045329073794533624 and parameters: {'topK': 58, 'alpha': 0.749260949931077, 'normalize_similarity': False}. Best is trial 51 with value: 0.05303183792251706.\n"
     ]
    },
    {
     "name": "stdout",
     "output_type": "stream",
     "text": [
      "Results saved to optuna_progressP3.csv and best results to 'best_optuna_results.csv'\n"
     ]
    },
    {
     "name": "stderr",
     "output_type": "stream",
     "text": [
      "/var/folders/nl/s66s1ffn2kb26p587ppw3jsm0000gn/T/ipykernel_79576/2203105599.py:11: FutureWarning: suggest_uniform has been deprecated in v3.0.0. This feature will be removed in v6.0.0. See https://github.com/optuna/optuna/releases/tag/v3.0.0. Use suggest_float instead.\n",
      "  alpha = optuna_trial.suggest_uniform(\"alpha\", 0.1, 1.0),\n"
     ]
    },
    {
     "name": "stdout",
     "output_type": "stream",
     "text": [
      "P3alphaRecommender: Similarity column 38121 (100.0%), 3298.37 column/sec. Elapsed time 11.56 sec\n",
      "EvaluatorHoldout: Processed 35584 (100.0%) in 13.01 sec. Users per second: 2735\n"
     ]
    },
    {
     "name": "stderr",
     "output_type": "stream",
     "text": [
      "[I 2024-11-28 23:57:31,699] Trial 78 finished with value: 0.04521404751198877 and parameters: {'topK': 122, 'alpha': 0.9080447906765556, 'normalize_similarity': True}. Best is trial 51 with value: 0.05303183792251706.\n"
     ]
    },
    {
     "name": "stdout",
     "output_type": "stream",
     "text": [
      "Results saved to optuna_progressP3.csv and best results to 'best_optuna_results.csv'\n"
     ]
    },
    {
     "name": "stderr",
     "output_type": "stream",
     "text": [
      "/var/folders/nl/s66s1ffn2kb26p587ppw3jsm0000gn/T/ipykernel_79576/2203105599.py:11: FutureWarning: suggest_uniform has been deprecated in v3.0.0. This feature will be removed in v6.0.0. See https://github.com/optuna/optuna/releases/tag/v3.0.0. Use suggest_float instead.\n",
      "  alpha = optuna_trial.suggest_uniform(\"alpha\", 0.1, 1.0),\n"
     ]
    },
    {
     "name": "stdout",
     "output_type": "stream",
     "text": [
      "P3alphaRecommender: Similarity column 38121 (100.0%), 4096.82 column/sec. Elapsed time 9.31 sec\n",
      "EvaluatorHoldout: Processed 35584 (100.0%) in 11.56 sec. Users per second: 3078\n"
     ]
    },
    {
     "name": "stderr",
     "output_type": "stream",
     "text": [
      "[I 2024-11-28 23:57:53,187] Trial 79 finished with value: 0.05231966658815608 and parameters: {'topK': 22, 'alpha': 0.8179682451345236, 'normalize_similarity': True}. Best is trial 51 with value: 0.05303183792251706.\n"
     ]
    },
    {
     "name": "stdout",
     "output_type": "stream",
     "text": [
      "Results saved to optuna_progressP3.csv and best results to 'best_optuna_results.csv'\n"
     ]
    },
    {
     "name": "stderr",
     "output_type": "stream",
     "text": [
      "/var/folders/nl/s66s1ffn2kb26p587ppw3jsm0000gn/T/ipykernel_79576/2203105599.py:11: FutureWarning: suggest_uniform has been deprecated in v3.0.0. This feature will be removed in v6.0.0. See https://github.com/optuna/optuna/releases/tag/v3.0.0. Use suggest_float instead.\n",
      "  alpha = optuna_trial.suggest_uniform(\"alpha\", 0.1, 1.0),\n"
     ]
    },
    {
     "name": "stdout",
     "output_type": "stream",
     "text": [
      "P3alphaRecommender: Similarity column 38121 (100.0%), 3449.82 column/sec. Elapsed time 11.05 sec\n",
      "EvaluatorHoldout: Processed 35584 (100.0%) in 12.44 sec. Users per second: 2859\n"
     ]
    },
    {
     "name": "stderr",
     "output_type": "stream",
     "text": [
      "[I 2024-11-28 23:58:18,240] Trial 80 finished with value: 0.04815092903355705 and parameters: {'topK': 79, 'alpha': 0.676484938123484, 'normalize_similarity': True}. Best is trial 51 with value: 0.05303183792251706.\n"
     ]
    },
    {
     "name": "stdout",
     "output_type": "stream",
     "text": [
      "Results saved to optuna_progressP3.csv and best results to 'best_optuna_results.csv'\n"
     ]
    },
    {
     "name": "stderr",
     "output_type": "stream",
     "text": [
      "/var/folders/nl/s66s1ffn2kb26p587ppw3jsm0000gn/T/ipykernel_79576/2203105599.py:11: FutureWarning: suggest_uniform has been deprecated in v3.0.0. This feature will be removed in v6.0.0. See https://github.com/optuna/optuna/releases/tag/v3.0.0. Use suggest_float instead.\n",
      "  alpha = optuna_trial.suggest_uniform(\"alpha\", 0.1, 1.0),\n"
     ]
    },
    {
     "name": "stdout",
     "output_type": "stream",
     "text": [
      "P3alphaRecommender: Similarity column 38121 (100.0%), 3969.74 column/sec. Elapsed time 9.60 sec\n",
      "EvaluatorHoldout: Processed 35584 (100.0%) in 11.22 sec. Users per second: 3172\n"
     ]
    },
    {
     "name": "stderr",
     "output_type": "stream",
     "text": [
      "[I 2024-11-28 23:58:39,804] Trial 81 finished with value: 0.05150173611110934 and parameters: {'topK': 30, 'alpha': 0.8174414393789341, 'normalize_similarity': True}. Best is trial 51 with value: 0.05303183792251706.\n"
     ]
    },
    {
     "name": "stdout",
     "output_type": "stream",
     "text": [
      "Results saved to optuna_progressP3.csv and best results to 'best_optuna_results.csv'\n"
     ]
    },
    {
     "name": "stderr",
     "output_type": "stream",
     "text": [
      "/var/folders/nl/s66s1ffn2kb26p587ppw3jsm0000gn/T/ipykernel_79576/2203105599.py:11: FutureWarning: suggest_uniform has been deprecated in v3.0.0. This feature will be removed in v6.0.0. See https://github.com/optuna/optuna/releases/tag/v3.0.0. Use suggest_float instead.\n",
      "  alpha = optuna_trial.suggest_uniform(\"alpha\", 0.1, 1.0),\n"
     ]
    },
    {
     "name": "stdout",
     "output_type": "stream",
     "text": [
      "P3alphaRecommender: Similarity column 38121 (100.0%), 4183.57 column/sec. Elapsed time 9.11 sec\n",
      "EvaluatorHoldout: Processed 35584 (100.0%) in 11.08 sec. Users per second: 3212\n"
     ]
    },
    {
     "name": "stderr",
     "output_type": "stream",
     "text": [
      "[I 2024-11-28 23:59:00,562] Trial 82 finished with value: 0.052623929873956 and parameters: {'topK': 20, 'alpha': 0.7929673780503645, 'normalize_similarity': True}. Best is trial 51 with value: 0.05303183792251706.\n"
     ]
    },
    {
     "name": "stdout",
     "output_type": "stream",
     "text": [
      "Results saved to optuna_progressP3.csv and best results to 'best_optuna_results.csv'\n"
     ]
    },
    {
     "name": "stderr",
     "output_type": "stream",
     "text": [
      "/var/folders/nl/s66s1ffn2kb26p587ppw3jsm0000gn/T/ipykernel_79576/2203105599.py:11: FutureWarning: suggest_uniform has been deprecated in v3.0.0. This feature will be removed in v6.0.0. See https://github.com/optuna/optuna/releases/tag/v3.0.0. Use suggest_float instead.\n",
      "  alpha = optuna_trial.suggest_uniform(\"alpha\", 0.1, 1.0),\n"
     ]
    },
    {
     "name": "stdout",
     "output_type": "stream",
     "text": [
      "P3alphaRecommender: Similarity column 38121 (100.0%), 3872.88 column/sec. Elapsed time 9.84 sec\n",
      "EvaluatorHoldout: Processed 35584 (100.0%) in 11.74 sec. Users per second: 3030\n"
     ]
    },
    {
     "name": "stderr",
     "output_type": "stream",
     "text": [
      "[I 2024-11-28 23:59:23,205] Trial 83 finished with value: 0.04962653426365874 and parameters: {'topK': 50, 'alpha': 0.795737279895471, 'normalize_similarity': True}. Best is trial 51 with value: 0.05303183792251706.\n"
     ]
    },
    {
     "name": "stdout",
     "output_type": "stream",
     "text": [
      "Results saved to optuna_progressP3.csv and best results to 'best_optuna_results.csv'\n"
     ]
    },
    {
     "name": "stderr",
     "output_type": "stream",
     "text": [
      "/var/folders/nl/s66s1ffn2kb26p587ppw3jsm0000gn/T/ipykernel_79576/2203105599.py:11: FutureWarning: suggest_uniform has been deprecated in v3.0.0. This feature will be removed in v6.0.0. See https://github.com/optuna/optuna/releases/tag/v3.0.0. Use suggest_float instead.\n",
      "  alpha = optuna_trial.suggest_uniform(\"alpha\", 0.1, 1.0),\n"
     ]
    },
    {
     "name": "stdout",
     "output_type": "stream",
     "text": [
      "P3alphaRecommender: Similarity column 38121 (100.0%), 4115.48 column/sec. Elapsed time 9.26 sec\n",
      "EvaluatorHoldout: Processed 35584 (100.0%) in 11.52 sec. Users per second: 3089\n"
     ]
    },
    {
     "name": "stderr",
     "output_type": "stream",
     "text": [
      "[I 2024-11-28 23:59:44,585] Trial 84 finished with value: 0.05286219908001982 and parameters: {'topK': 21, 'alpha': 0.7096054181329648, 'normalize_similarity': True}. Best is trial 51 with value: 0.05303183792251706.\n"
     ]
    },
    {
     "name": "stdout",
     "output_type": "stream",
     "text": [
      "Results saved to optuna_progressP3.csv and best results to 'best_optuna_results.csv'\n"
     ]
    },
    {
     "name": "stderr",
     "output_type": "stream",
     "text": [
      "/var/folders/nl/s66s1ffn2kb26p587ppw3jsm0000gn/T/ipykernel_79576/2203105599.py:11: FutureWarning: suggest_uniform has been deprecated in v3.0.0. This feature will be removed in v6.0.0. See https://github.com/optuna/optuna/releases/tag/v3.0.0. Use suggest_float instead.\n",
      "  alpha = optuna_trial.suggest_uniform(\"alpha\", 0.1, 1.0),\n"
     ]
    },
    {
     "name": "stdout",
     "output_type": "stream",
     "text": [
      "P3alphaRecommender: Similarity column 38121 (100.0%), 3483.17 column/sec. Elapsed time 10.94 sec\n",
      "EvaluatorHoldout: Processed 35584 (100.0%) in 12.55 sec. Users per second: 2834\n"
     ]
    },
    {
     "name": "stderr",
     "output_type": "stream",
     "text": [
      "[I 2024-11-29 00:00:09,762] Trial 85 finished with value: 0.047691024635646825 and parameters: {'topK': 84, 'alpha': 0.7235320085132428, 'normalize_similarity': True}. Best is trial 51 with value: 0.05303183792251706.\n"
     ]
    },
    {
     "name": "stdout",
     "output_type": "stream",
     "text": [
      "Results saved to optuna_progressP3.csv and best results to 'best_optuna_results.csv'\n"
     ]
    },
    {
     "name": "stderr",
     "output_type": "stream",
     "text": [
      "/var/folders/nl/s66s1ffn2kb26p587ppw3jsm0000gn/T/ipykernel_79576/2203105599.py:11: FutureWarning: suggest_uniform has been deprecated in v3.0.0. This feature will be removed in v6.0.0. See https://github.com/optuna/optuna/releases/tag/v3.0.0. Use suggest_float instead.\n",
      "  alpha = optuna_trial.suggest_uniform(\"alpha\", 0.1, 1.0),\n"
     ]
    },
    {
     "name": "stdout",
     "output_type": "stream",
     "text": [
      "P3alphaRecommender: Similarity column 38121 (100.0%), 3138.31 column/sec. Elapsed time 12.15 sec\n",
      "EvaluatorHoldout: Processed 35584 (100.0%) in 13.11 sec. Users per second: 2714\n"
     ]
    },
    {
     "name": "stderr",
     "output_type": "stream",
     "text": [
      "[I 2024-11-29 00:00:37,612] Trial 86 finished with value: 0.045131878871900684 and parameters: {'topK': 134, 'alpha': 0.7547711851111403, 'normalize_similarity': True}. Best is trial 51 with value: 0.05303183792251706.\n"
     ]
    },
    {
     "name": "stdout",
     "output_type": "stream",
     "text": [
      "Results saved to optuna_progressP3.csv and best results to 'best_optuna_results.csv'\n"
     ]
    },
    {
     "name": "stderr",
     "output_type": "stream",
     "text": [
      "/var/folders/nl/s66s1ffn2kb26p587ppw3jsm0000gn/T/ipykernel_79576/2203105599.py:11: FutureWarning: suggest_uniform has been deprecated in v3.0.0. This feature will be removed in v6.0.0. See https://github.com/optuna/optuna/releases/tag/v3.0.0. Use suggest_float instead.\n",
      "  alpha = optuna_trial.suggest_uniform(\"alpha\", 0.1, 1.0),\n"
     ]
    },
    {
     "name": "stdout",
     "output_type": "stream",
     "text": [
      "P3alphaRecommender: Similarity column 38121 (100.0%), 3828.43 column/sec. Elapsed time 9.96 sec\n",
      "EvaluatorHoldout: Processed 35584 (100.0%) in 11.87 sec. Users per second: 2998\n"
     ]
    },
    {
     "name": "stderr",
     "output_type": "stream",
     "text": [
      "[I 2024-11-29 00:01:00,653] Trial 87 finished with value: 0.049352684147323175 and parameters: {'topK': 55, 'alpha': 0.780804929502573, 'normalize_similarity': True}. Best is trial 51 with value: 0.05303183792251706.\n"
     ]
    },
    {
     "name": "stdout",
     "output_type": "stream",
     "text": [
      "Results saved to optuna_progressP3.csv and best results to 'best_optuna_results.csv'\n"
     ]
    },
    {
     "name": "stderr",
     "output_type": "stream",
     "text": [
      "/var/folders/nl/s66s1ffn2kb26p587ppw3jsm0000gn/T/ipykernel_79576/2203105599.py:11: FutureWarning: suggest_uniform has been deprecated in v3.0.0. This feature will be removed in v6.0.0. See https://github.com/optuna/optuna/releases/tag/v3.0.0. Use suggest_float instead.\n",
      "  alpha = optuna_trial.suggest_uniform(\"alpha\", 0.1, 1.0),\n"
     ]
    },
    {
     "name": "stdout",
     "output_type": "stream",
     "text": [
      "P3alphaRecommender: Similarity column 38121 (100.0%), 4176.35 column/sec. Elapsed time 9.13 sec\n",
      "EvaluatorHoldout: Processed 35584 (100.0%) in 11.07 sec. Users per second: 3215\n"
     ]
    },
    {
     "name": "stderr",
     "output_type": "stream",
     "text": [
      "[I 2024-11-29 00:01:21,503] Trial 88 finished with value: 0.052916344379851286 and parameters: {'topK': 25, 'alpha': 0.5212947111615371, 'normalize_similarity': True}. Best is trial 51 with value: 0.05303183792251706.\n"
     ]
    },
    {
     "name": "stdout",
     "output_type": "stream",
     "text": [
      "Results saved to optuna_progressP3.csv and best results to 'best_optuna_results.csv'\n"
     ]
    },
    {
     "name": "stderr",
     "output_type": "stream",
     "text": [
      "/var/folders/nl/s66s1ffn2kb26p587ppw3jsm0000gn/T/ipykernel_79576/2203105599.py:11: FutureWarning: suggest_uniform has been deprecated in v3.0.0. This feature will be removed in v6.0.0. See https://github.com/optuna/optuna/releases/tag/v3.0.0. Use suggest_float instead.\n",
      "  alpha = optuna_trial.suggest_uniform(\"alpha\", 0.1, 1.0),\n"
     ]
    },
    {
     "name": "stdout",
     "output_type": "stream",
     "text": [
      "P3alphaRecommender: Similarity column 38121 (100.0%), 2260.41 column/sec. Elapsed time 16.86 sec\n",
      "EvaluatorHoldout: Processed 35584 (100.0%) in 16.09 sec. Users per second: 2211\n"
     ]
    },
    {
     "name": "stderr",
     "output_type": "stream",
     "text": [
      "[I 2024-11-29 00:02:00,666] Trial 89 finished with value: 0.040029103948982084 and parameters: {'topK': 334, 'alpha': 0.6245521060825733, 'normalize_similarity': True}. Best is trial 51 with value: 0.05303183792251706.\n"
     ]
    },
    {
     "name": "stdout",
     "output_type": "stream",
     "text": [
      "Results saved to optuna_progressP3.csv and best results to 'best_optuna_results.csv'\n"
     ]
    },
    {
     "name": "stderr",
     "output_type": "stream",
     "text": [
      "/var/folders/nl/s66s1ffn2kb26p587ppw3jsm0000gn/T/ipykernel_79576/2203105599.py:11: FutureWarning: suggest_uniform has been deprecated in v3.0.0. This feature will be removed in v6.0.0. See https://github.com/optuna/optuna/releases/tag/v3.0.0. Use suggest_float instead.\n",
      "  alpha = optuna_trial.suggest_uniform(\"alpha\", 0.1, 1.0),\n"
     ]
    },
    {
     "name": "stdout",
     "output_type": "stream",
     "text": [
      "P3alphaRecommender: Similarity column 38121 (100.0%), 3375.28 column/sec. Elapsed time 11.29 sec\n",
      "EvaluatorHoldout: Processed 35584 (100.0%) in 12.59 sec. Users per second: 2827\n"
     ]
    },
    {
     "name": "stderr",
     "output_type": "stream",
     "text": [
      "[I 2024-11-29 00:02:26,531] Trial 90 finished with value: 0.040063949956105085 and parameters: {'topK': 108, 'alpha': 0.528532508477697, 'normalize_similarity': False}. Best is trial 51 with value: 0.05303183792251706.\n"
     ]
    },
    {
     "name": "stdout",
     "output_type": "stream",
     "text": [
      "Results saved to optuna_progressP3.csv and best results to 'best_optuna_results.csv'\n"
     ]
    },
    {
     "name": "stderr",
     "output_type": "stream",
     "text": [
      "/var/folders/nl/s66s1ffn2kb26p587ppw3jsm0000gn/T/ipykernel_79576/2203105599.py:11: FutureWarning: suggest_uniform has been deprecated in v3.0.0. This feature will be removed in v6.0.0. See https://github.com/optuna/optuna/releases/tag/v3.0.0. Use suggest_float instead.\n",
      "  alpha = optuna_trial.suggest_uniform(\"alpha\", 0.1, 1.0),\n"
     ]
    },
    {
     "name": "stdout",
     "output_type": "stream",
     "text": [
      "P3alphaRecommender: Similarity column 38121 (100.0%), 4080.33 column/sec. Elapsed time 9.34 sec\n",
      "EvaluatorHoldout: Processed 35584 (100.0%) in 11.22 sec. Users per second: 3172\n"
     ]
    },
    {
     "name": "stderr",
     "output_type": "stream",
     "text": [
      "[I 2024-11-29 00:02:47,788] Trial 91 finished with value: 0.051721876962714027 and parameters: {'topK': 26, 'alpha': 0.8539109455448423, 'normalize_similarity': True}. Best is trial 51 with value: 0.05303183792251706.\n"
     ]
    },
    {
     "name": "stdout",
     "output_type": "stream",
     "text": [
      "Results saved to optuna_progressP3.csv and best results to 'best_optuna_results.csv'\n"
     ]
    },
    {
     "name": "stderr",
     "output_type": "stream",
     "text": [
      "/var/folders/nl/s66s1ffn2kb26p587ppw3jsm0000gn/T/ipykernel_79576/2203105599.py:11: FutureWarning: suggest_uniform has been deprecated in v3.0.0. This feature will be removed in v6.0.0. See https://github.com/optuna/optuna/releases/tag/v3.0.0. Use suggest_float instead.\n",
      "  alpha = optuna_trial.suggest_uniform(\"alpha\", 0.1, 1.0),\n"
     ]
    },
    {
     "name": "stdout",
     "output_type": "stream",
     "text": [
      "P3alphaRecommender: Similarity column 38121 (100.0%), 3806.62 column/sec. Elapsed time 10.01 sec\n",
      "EvaluatorHoldout: Processed 35584 (100.0%) in 11.58 sec. Users per second: 3074\n"
     ]
    },
    {
     "name": "stderr",
     "output_type": "stream",
     "text": [
      "[I 2024-11-29 00:03:10,412] Trial 92 finished with value: 0.05009946507079873 and parameters: {'topK': 53, 'alpha': 0.3002161895971255, 'normalize_similarity': True}. Best is trial 51 with value: 0.05303183792251706.\n"
     ]
    },
    {
     "name": "stdout",
     "output_type": "stream",
     "text": [
      "Results saved to optuna_progressP3.csv and best results to 'best_optuna_results.csv'\n"
     ]
    },
    {
     "name": "stderr",
     "output_type": "stream",
     "text": [
      "/var/folders/nl/s66s1ffn2kb26p587ppw3jsm0000gn/T/ipykernel_79576/2203105599.py:11: FutureWarning: suggest_uniform has been deprecated in v3.0.0. This feature will be removed in v6.0.0. See https://github.com/optuna/optuna/releases/tag/v3.0.0. Use suggest_float instead.\n",
      "  alpha = optuna_trial.suggest_uniform(\"alpha\", 0.1, 1.0),\n"
     ]
    },
    {
     "name": "stdout",
     "output_type": "stream",
     "text": [
      "P3alphaRecommender: Similarity column 38121 (100.0%), 4179.61 column/sec. Elapsed time 9.12 sec\n",
      "EvaluatorHoldout: Processed 35584 (100.0%) in 10.86 sec. Users per second: 3276\n"
     ]
    },
    {
     "name": "stderr",
     "output_type": "stream",
     "text": [
      "[I 2024-11-29 00:03:31,036] Trial 93 finished with value: 0.05239142949033448 and parameters: {'topK': 25, 'alpha': 0.7044437988225958, 'normalize_similarity': True}. Best is trial 51 with value: 0.05303183792251706.\n"
     ]
    },
    {
     "name": "stdout",
     "output_type": "stream",
     "text": [
      "Results saved to optuna_progressP3.csv and best results to 'best_optuna_results.csv'\n"
     ]
    },
    {
     "name": "stderr",
     "output_type": "stream",
     "text": [
      "/var/folders/nl/s66s1ffn2kb26p587ppw3jsm0000gn/T/ipykernel_79576/2203105599.py:11: FutureWarning: suggest_uniform has been deprecated in v3.0.0. This feature will be removed in v6.0.0. See https://github.com/optuna/optuna/releases/tag/v3.0.0. Use suggest_float instead.\n",
      "  alpha = optuna_trial.suggest_uniform(\"alpha\", 0.1, 1.0),\n"
     ]
    },
    {
     "name": "stdout",
     "output_type": "stream",
     "text": [
      "P3alphaRecommender: Similarity column 38121 (100.0%), 3573.84 column/sec. Elapsed time 10.67 sec\n",
      "EvaluatorHoldout: Processed 35584 (100.0%) in 12.37 sec. Users per second: 2878\n"
     ]
    },
    {
     "name": "stderr",
     "output_type": "stream",
     "text": [
      "[I 2024-11-29 00:03:55,702] Trial 94 finished with value: 0.047815775281558635 and parameters: {'topK': 83, 'alpha': 0.7049634041332222, 'normalize_similarity': True}. Best is trial 51 with value: 0.05303183792251706.\n"
     ]
    },
    {
     "name": "stdout",
     "output_type": "stream",
     "text": [
      "Results saved to optuna_progressP3.csv and best results to 'best_optuna_results.csv'\n"
     ]
    },
    {
     "name": "stderr",
     "output_type": "stream",
     "text": [
      "/var/folders/nl/s66s1ffn2kb26p587ppw3jsm0000gn/T/ipykernel_79576/2203105599.py:11: FutureWarning: suggest_uniform has been deprecated in v3.0.0. This feature will be removed in v6.0.0. See https://github.com/optuna/optuna/releases/tag/v3.0.0. Use suggest_float instead.\n",
      "  alpha = optuna_trial.suggest_uniform(\"alpha\", 0.1, 1.0),\n"
     ]
    },
    {
     "name": "stdout",
     "output_type": "stream",
     "text": [
      "P3alphaRecommender: Similarity column 38121 (100.0%), 4204.03 column/sec. Elapsed time 9.07 sec\n",
      "EvaluatorHoldout: Processed 35584 (100.0%) in 10.59 sec. Users per second: 3361\n"
     ]
    },
    {
     "name": "stderr",
     "output_type": "stream",
     "text": [
      "[I 2024-11-29 00:04:15,762] Trial 95 finished with value: 0.049438441434351 and parameters: {'topK': 5, 'alpha': 0.6586242463002381, 'normalize_similarity': True}. Best is trial 51 with value: 0.05303183792251706.\n"
     ]
    },
    {
     "name": "stdout",
     "output_type": "stream",
     "text": [
      "Results saved to optuna_progressP3.csv and best results to 'best_optuna_results.csv'\n"
     ]
    },
    {
     "name": "stderr",
     "output_type": "stream",
     "text": [
      "/var/folders/nl/s66s1ffn2kb26p587ppw3jsm0000gn/T/ipykernel_79576/2203105599.py:11: FutureWarning: suggest_uniform has been deprecated in v3.0.0. This feature will be removed in v6.0.0. See https://github.com/optuna/optuna/releases/tag/v3.0.0. Use suggest_float instead.\n",
      "  alpha = optuna_trial.suggest_uniform(\"alpha\", 0.1, 1.0),\n"
     ]
    },
    {
     "name": "stdout",
     "output_type": "stream",
     "text": [
      "P3alphaRecommender: Similarity column 38121 (100.0%), 3814.93 column/sec. Elapsed time 9.99 sec\n",
      "EvaluatorHoldout: Processed 35584 (100.0%) in 12.11 sec. Users per second: 2939\n"
     ]
    },
    {
     "name": "stderr",
     "output_type": "stream",
     "text": [
      "[I 2024-11-29 00:04:38,928] Trial 96 finished with value: 0.049893945334801716 and parameters: {'topK': 49, 'alpha': 0.7543106032289832, 'normalize_similarity': True}. Best is trial 51 with value: 0.05303183792251706.\n"
     ]
    },
    {
     "name": "stdout",
     "output_type": "stream",
     "text": [
      "Results saved to optuna_progressP3.csv and best results to 'best_optuna_results.csv'\n"
     ]
    },
    {
     "name": "stderr",
     "output_type": "stream",
     "text": [
      "/var/folders/nl/s66s1ffn2kb26p587ppw3jsm0000gn/T/ipykernel_79576/2203105599.py:11: FutureWarning: suggest_uniform has been deprecated in v3.0.0. This feature will be removed in v6.0.0. See https://github.com/optuna/optuna/releases/tag/v3.0.0. Use suggest_float instead.\n",
      "  alpha = optuna_trial.suggest_uniform(\"alpha\", 0.1, 1.0),\n"
     ]
    },
    {
     "name": "stdout",
     "output_type": "stream",
     "text": [
      "P3alphaRecommender: Similarity column 38121 (100.0%), 3788.35 column/sec. Elapsed time 10.06 sec\n",
      "EvaluatorHoldout: Processed 35584 (100.0%) in 11.13 sec. Users per second: 3198\n"
     ]
    },
    {
     "name": "stderr",
     "output_type": "stream",
     "text": [
      "[I 2024-11-29 00:05:00,878] Trial 97 finished with value: 0.05181991571920881 and parameters: {'topK': 27, 'alpha': 0.8028935011767226, 'normalize_similarity': True}. Best is trial 51 with value: 0.05303183792251706.\n"
     ]
    },
    {
     "name": "stdout",
     "output_type": "stream",
     "text": [
      "Results saved to optuna_progressP3.csv and best results to 'best_optuna_results.csv'\n"
     ]
    },
    {
     "name": "stderr",
     "output_type": "stream",
     "text": [
      "/var/folders/nl/s66s1ffn2kb26p587ppw3jsm0000gn/T/ipykernel_79576/2203105599.py:11: FutureWarning: suggest_uniform has been deprecated in v3.0.0. This feature will be removed in v6.0.0. See https://github.com/optuna/optuna/releases/tag/v3.0.0. Use suggest_float instead.\n",
      "  alpha = optuna_trial.suggest_uniform(\"alpha\", 0.1, 1.0),\n"
     ]
    },
    {
     "name": "stdout",
     "output_type": "stream",
     "text": [
      "P3alphaRecommender: Similarity column 38121 (100.0%), 1454.33 column/sec. Elapsed time 26.21 sec\n",
      "EvaluatorHoldout: Processed 35584 (100.0%) in 20.66 sec. Users per second: 1722\n"
     ]
    },
    {
     "name": "stderr",
     "output_type": "stream",
     "text": [
      "[I 2024-11-29 00:06:01,972] Trial 98 finished with value: 0.03641771961894636 and parameters: {'topK': 722, 'alpha': 0.6301059279063971, 'normalize_similarity': True}. Best is trial 51 with value: 0.05303183792251706.\n"
     ]
    },
    {
     "name": "stdout",
     "output_type": "stream",
     "text": [
      "Results saved to optuna_progressP3.csv and best results to 'best_optuna_results.csv'\n"
     ]
    },
    {
     "name": "stderr",
     "output_type": "stream",
     "text": [
      "/var/folders/nl/s66s1ffn2kb26p587ppw3jsm0000gn/T/ipykernel_79576/2203105599.py:11: FutureWarning: suggest_uniform has been deprecated in v3.0.0. This feature will be removed in v6.0.0. See https://github.com/optuna/optuna/releases/tag/v3.0.0. Use suggest_float instead.\n",
      "  alpha = optuna_trial.suggest_uniform(\"alpha\", 0.1, 1.0),\n"
     ]
    },
    {
     "name": "stdout",
     "output_type": "stream",
     "text": [
      "P3alphaRecommender: Similarity column 38121 (100.0%), 3711.99 column/sec. Elapsed time 10.27 sec\n",
      "EvaluatorHoldout: Processed 35584 (100.0%) in 11.39 sec. Users per second: 3125\n"
     ]
    },
    {
     "name": "stderr",
     "output_type": "stream",
     "text": [
      "[I 2024-11-29 00:06:24,847] Trial 99 finished with value: 0.049459763662282635 and parameters: {'topK': 63, 'alpha': 0.5364973246119944, 'normalize_similarity': True}. Best is trial 51 with value: 0.05303183792251706.\n"
     ]
    },
    {
     "name": "stdout",
     "output_type": "stream",
     "text": [
      "Results saved to optuna_progressP3.csv and best results to 'best_optuna_results.csv'\n"
     ]
    },
    {
     "name": "stderr",
     "output_type": "stream",
     "text": [
      "/var/folders/nl/s66s1ffn2kb26p587ppw3jsm0000gn/T/ipykernel_79576/2203105599.py:11: FutureWarning: suggest_uniform has been deprecated in v3.0.0. This feature will be removed in v6.0.0. See https://github.com/optuna/optuna/releases/tag/v3.0.0. Use suggest_float instead.\n",
      "  alpha = optuna_trial.suggest_uniform(\"alpha\", 0.1, 1.0),\n"
     ]
    },
    {
     "name": "stdout",
     "output_type": "stream",
     "text": [
      "P3alphaRecommender: Similarity column 38121 (100.0%), 3086.40 column/sec. Elapsed time 12.35 sec\n",
      "EvaluatorHoldout: Processed 35584 (100.0%) in 13.63 sec. Users per second: 2612\n"
     ]
    },
    {
     "name": "stderr",
     "output_type": "stream",
     "text": [
      "[I 2024-11-29 00:06:53,714] Trial 100 finished with value: 0.044471964838841624 and parameters: {'topK': 155, 'alpha': 0.6804620341858638, 'normalize_similarity': True}. Best is trial 51 with value: 0.05303183792251706.\n"
     ]
    },
    {
     "name": "stdout",
     "output_type": "stream",
     "text": [
      "Results saved to optuna_progressP3.csv and best results to 'best_optuna_results.csv'\n"
     ]
    },
    {
     "name": "stderr",
     "output_type": "stream",
     "text": [
      "/var/folders/nl/s66s1ffn2kb26p587ppw3jsm0000gn/T/ipykernel_79576/2203105599.py:11: FutureWarning: suggest_uniform has been deprecated in v3.0.0. This feature will be removed in v6.0.0. See https://github.com/optuna/optuna/releases/tag/v3.0.0. Use suggest_float instead.\n",
      "  alpha = optuna_trial.suggest_uniform(\"alpha\", 0.1, 1.0),\n"
     ]
    },
    {
     "name": "stdout",
     "output_type": "stream",
     "text": [
      "P3alphaRecommender: Similarity column 38121 (100.0%), 3892.43 column/sec. Elapsed time 9.79 sec\n",
      "EvaluatorHoldout: Processed 35584 (100.0%) in 11.34 sec. Users per second: 3138\n"
     ]
    },
    {
     "name": "stderr",
     "output_type": "stream",
     "text": [
      "[I 2024-11-29 00:07:15,458] Trial 101 finished with value: 0.05302241354237845 and parameters: {'topK': 19, 'alpha': 0.7305076851356598, 'normalize_similarity': True}. Best is trial 51 with value: 0.05303183792251706.\n"
     ]
    },
    {
     "name": "stdout",
     "output_type": "stream",
     "text": [
      "Results saved to optuna_progressP3.csv and best results to 'best_optuna_results.csv'\n"
     ]
    },
    {
     "name": "stderr",
     "output_type": "stream",
     "text": [
      "/var/folders/nl/s66s1ffn2kb26p587ppw3jsm0000gn/T/ipykernel_79576/2203105599.py:11: FutureWarning: suggest_uniform has been deprecated in v3.0.0. This feature will be removed in v6.0.0. See https://github.com/optuna/optuna/releases/tag/v3.0.0. Use suggest_float instead.\n",
      "  alpha = optuna_trial.suggest_uniform(\"alpha\", 0.1, 1.0),\n"
     ]
    },
    {
     "name": "stdout",
     "output_type": "stream",
     "text": [
      "P3alphaRecommender: Similarity column 38121 (100.0%), 1819.79 column/sec. Elapsed time 20.95 sec\n",
      "EvaluatorHoldout: Processed 35584 (100.0%) in 19.26 sec. Users per second: 1848\n"
     ]
    },
    {
     "name": "stderr",
     "output_type": "stream",
     "text": [
      "[I 2024-11-29 00:08:05,960] Trial 102 finished with value: 0.03826358779048068 and parameters: {'topK': 508, 'alpha': 0.7723753157994627, 'normalize_similarity': True}. Best is trial 51 with value: 0.05303183792251706.\n"
     ]
    },
    {
     "name": "stdout",
     "output_type": "stream",
     "text": [
      "Results saved to optuna_progressP3.csv and best results to 'best_optuna_results.csv'\n"
     ]
    },
    {
     "name": "stderr",
     "output_type": "stream",
     "text": [
      "/var/folders/nl/s66s1ffn2kb26p587ppw3jsm0000gn/T/ipykernel_79576/2203105599.py:11: FutureWarning: suggest_uniform has been deprecated in v3.0.0. This feature will be removed in v6.0.0. See https://github.com/optuna/optuna/releases/tag/v3.0.0. Use suggest_float instead.\n",
      "  alpha = optuna_trial.suggest_uniform(\"alpha\", 0.1, 1.0),\n"
     ]
    },
    {
     "name": "stdout",
     "output_type": "stream",
     "text": [
      "P3alphaRecommender: Similarity column 38121 (100.0%), 4086.30 column/sec. Elapsed time 9.33 sec\n",
      "EvaluatorHoldout: Processed 35584 (100.0%) in 11.12 sec. Users per second: 3201\n"
     ]
    },
    {
     "name": "stderr",
     "output_type": "stream",
     "text": [
      "[I 2024-11-29 00:08:27,139] Trial 103 finished with value: 0.052231002028732265 and parameters: {'topK': 32, 'alpha': 0.49853758286332467, 'normalize_similarity': True}. Best is trial 51 with value: 0.05303183792251706.\n"
     ]
    },
    {
     "name": "stdout",
     "output_type": "stream",
     "text": [
      "Results saved to optuna_progressP3.csv and best results to 'best_optuna_results.csv'\n"
     ]
    },
    {
     "name": "stderr",
     "output_type": "stream",
     "text": [
      "/var/folders/nl/s66s1ffn2kb26p587ppw3jsm0000gn/T/ipykernel_79576/2203105599.py:11: FutureWarning: suggest_uniform has been deprecated in v3.0.0. This feature will be removed in v6.0.0. See https://github.com/optuna/optuna/releases/tag/v3.0.0. Use suggest_float instead.\n",
      "  alpha = optuna_trial.suggest_uniform(\"alpha\", 0.1, 1.0),\n"
     ]
    },
    {
     "name": "stdout",
     "output_type": "stream",
     "text": [
      "P3alphaRecommender: Similarity column 38121 (100.0%), 4110.91 column/sec. Elapsed time 9.27 sec\n",
      "EvaluatorHoldout: Processed 35584 (100.0%) in 10.98 sec. Users per second: 3242\n"
     ]
    },
    {
     "name": "stderr",
     "output_type": "stream",
     "text": [
      "[I 2024-11-29 00:08:48,013] Trial 104 finished with value: 0.05270246972065021 and parameters: {'topK': 22, 'alpha': 0.7348179928011389, 'normalize_similarity': True}. Best is trial 51 with value: 0.05303183792251706.\n"
     ]
    },
    {
     "name": "stdout",
     "output_type": "stream",
     "text": [
      "Results saved to optuna_progressP3.csv and best results to 'best_optuna_results.csv'\n"
     ]
    },
    {
     "name": "stderr",
     "output_type": "stream",
     "text": [
      "/var/folders/nl/s66s1ffn2kb26p587ppw3jsm0000gn/T/ipykernel_79576/2203105599.py:11: FutureWarning: suggest_uniform has been deprecated in v3.0.0. This feature will be removed in v6.0.0. See https://github.com/optuna/optuna/releases/tag/v3.0.0. Use suggest_float instead.\n",
      "  alpha = optuna_trial.suggest_uniform(\"alpha\", 0.1, 1.0),\n"
     ]
    },
    {
     "name": "stdout",
     "output_type": "stream",
     "text": [
      "P3alphaRecommender: Similarity column 38121 (100.0%), 3557.80 column/sec. Elapsed time 10.71 sec\n",
      "EvaluatorHoldout: Processed 35584 (100.0%) in 12.15 sec. Users per second: 2928\n"
     ]
    },
    {
     "name": "stderr",
     "output_type": "stream",
     "text": [
      "[I 2024-11-29 00:09:12,576] Trial 105 finished with value: 0.047486035724989696 and parameters: {'topK': 89, 'alpha': 0.714438858903325, 'normalize_similarity': True}. Best is trial 51 with value: 0.05303183792251706.\n"
     ]
    },
    {
     "name": "stdout",
     "output_type": "stream",
     "text": [
      "Results saved to optuna_progressP3.csv and best results to 'best_optuna_results.csv'\n"
     ]
    },
    {
     "name": "stderr",
     "output_type": "stream",
     "text": [
      "/var/folders/nl/s66s1ffn2kb26p587ppw3jsm0000gn/T/ipykernel_79576/2203105599.py:11: FutureWarning: suggest_uniform has been deprecated in v3.0.0. This feature will be removed in v6.0.0. See https://github.com/optuna/optuna/releases/tag/v3.0.0. Use suggest_float instead.\n",
      "  alpha = optuna_trial.suggest_uniform(\"alpha\", 0.1, 1.0),\n"
     ]
    },
    {
     "name": "stdout",
     "output_type": "stream",
     "text": [
      "P3alphaRecommender: Similarity column 38121 (100.0%), 3344.02 column/sec. Elapsed time 11.40 sec\n",
      "EvaluatorHoldout: Processed 35584 (100.0%) in 12.58 sec. Users per second: 2829\n"
     ]
    },
    {
     "name": "stderr",
     "output_type": "stream",
     "text": [
      "[I 2024-11-29 00:09:38,830] Trial 106 finished with value: 0.045865537480728004 and parameters: {'topK': 118, 'alpha': 0.7374907011751359, 'normalize_similarity': True}. Best is trial 51 with value: 0.05303183792251706.\n"
     ]
    },
    {
     "name": "stdout",
     "output_type": "stream",
     "text": [
      "Results saved to optuna_progressP3.csv and best results to 'best_optuna_results.csv'\n"
     ]
    },
    {
     "name": "stderr",
     "output_type": "stream",
     "text": [
      "/var/folders/nl/s66s1ffn2kb26p587ppw3jsm0000gn/T/ipykernel_79576/2203105599.py:11: FutureWarning: suggest_uniform has been deprecated in v3.0.0. This feature will be removed in v6.0.0. See https://github.com/optuna/optuna/releases/tag/v3.0.0. Use suggest_float instead.\n",
      "  alpha = optuna_trial.suggest_uniform(\"alpha\", 0.1, 1.0),\n"
     ]
    },
    {
     "name": "stdout",
     "output_type": "stream",
     "text": [
      "P3alphaRecommender: Similarity column 38121 (100.0%), 4009.67 column/sec. Elapsed time 9.51 sec\n",
      "EvaluatorHoldout: Processed 35584 (100.0%) in 11.31 sec. Users per second: 3145\n"
     ]
    },
    {
     "name": "stderr",
     "output_type": "stream",
     "text": [
      "[I 2024-11-29 00:10:00,571] Trial 107 finished with value: 0.05085598708532985 and parameters: {'topK': 44, 'alpha': 0.5872513472491838, 'normalize_similarity': True}. Best is trial 51 with value: 0.05303183792251706.\n"
     ]
    },
    {
     "name": "stdout",
     "output_type": "stream",
     "text": [
      "Results saved to optuna_progressP3.csv and best results to 'best_optuna_results.csv'\n"
     ]
    },
    {
     "name": "stderr",
     "output_type": "stream",
     "text": [
      "/var/folders/nl/s66s1ffn2kb26p587ppw3jsm0000gn/T/ipykernel_79576/2203105599.py:11: FutureWarning: suggest_uniform has been deprecated in v3.0.0. This feature will be removed in v6.0.0. See https://github.com/optuna/optuna/releases/tag/v3.0.0. Use suggest_float instead.\n",
      "  alpha = optuna_trial.suggest_uniform(\"alpha\", 0.1, 1.0),\n"
     ]
    },
    {
     "name": "stdout",
     "output_type": "stream",
     "text": [
      "P3alphaRecommender: Similarity column 38121 (100.0%), 4168.25 column/sec. Elapsed time 9.15 sec\n",
      "EvaluatorHoldout: Processed 35584 (100.0%) in 11.17 sec. Users per second: 3185\n"
     ]
    },
    {
     "name": "stderr",
     "output_type": "stream",
     "text": [
      "[I 2024-11-29 00:10:21,415] Trial 108 finished with value: 0.0539048593714289 and parameters: {'topK': 17, 'alpha': 0.4720013939578569, 'normalize_similarity': True}. Best is trial 108 with value: 0.0539048593714289.\n"
     ]
    },
    {
     "name": "stdout",
     "output_type": "stream",
     "text": [
      "Results saved to optuna_progressP3.csv and best results to 'best_optuna_results.csv'\n"
     ]
    },
    {
     "name": "stderr",
     "output_type": "stream",
     "text": [
      "/var/folders/nl/s66s1ffn2kb26p587ppw3jsm0000gn/T/ipykernel_79576/2203105599.py:11: FutureWarning: suggest_uniform has been deprecated in v3.0.0. This feature will be removed in v6.0.0. See https://github.com/optuna/optuna/releases/tag/v3.0.0. Use suggest_float instead.\n",
      "  alpha = optuna_trial.suggest_uniform(\"alpha\", 0.1, 1.0),\n"
     ]
    },
    {
     "name": "stdout",
     "output_type": "stream",
     "text": [
      "P3alphaRecommender: Similarity column 38121 (100.0%), 3623.20 column/sec. Elapsed time 10.52 sec\n",
      "EvaluatorHoldout: Processed 35584 (100.0%) in 12.07 sec. Users per second: 2947\n"
     ]
    },
    {
     "name": "stderr",
     "output_type": "stream",
     "text": [
      "[I 2024-11-29 00:10:45,358] Trial 109 finished with value: 0.03978487522481858 and parameters: {'topK': 71, 'alpha': 0.44256048997364156, 'normalize_similarity': False}. Best is trial 108 with value: 0.0539048593714289.\n"
     ]
    },
    {
     "name": "stdout",
     "output_type": "stream",
     "text": [
      "Results saved to optuna_progressP3.csv and best results to 'best_optuna_results.csv'\n"
     ]
    },
    {
     "name": "stderr",
     "output_type": "stream",
     "text": [
      "/var/folders/nl/s66s1ffn2kb26p587ppw3jsm0000gn/T/ipykernel_79576/2203105599.py:11: FutureWarning: suggest_uniform has been deprecated in v3.0.0. This feature will be removed in v6.0.0. See https://github.com/optuna/optuna/releases/tag/v3.0.0. Use suggest_float instead.\n",
      "  alpha = optuna_trial.suggest_uniform(\"alpha\", 0.1, 1.0),\n"
     ]
    },
    {
     "name": "stdout",
     "output_type": "stream",
     "text": [
      "P3alphaRecommender: Similarity column 38121 (100.0%), 4261.23 column/sec. Elapsed time 8.95 sec\n",
      "EvaluatorHoldout: Processed 35584 (100.0%) in 10.69 sec. Users per second: 3330\n"
     ]
    },
    {
     "name": "stderr",
     "output_type": "stream",
     "text": [
      "[I 2024-11-29 00:11:05,473] Trial 110 finished with value: 0.05410197623151251 and parameters: {'topK': 15, 'alpha': 0.459889422306058, 'normalize_similarity': True}. Best is trial 110 with value: 0.05410197623151251.\n"
     ]
    },
    {
     "name": "stdout",
     "output_type": "stream",
     "text": [
      "Results saved to optuna_progressP3.csv and best results to 'best_optuna_results.csv'\n"
     ]
    },
    {
     "name": "stderr",
     "output_type": "stream",
     "text": [
      "/var/folders/nl/s66s1ffn2kb26p587ppw3jsm0000gn/T/ipykernel_79576/2203105599.py:11: FutureWarning: suggest_uniform has been deprecated in v3.0.0. This feature will be removed in v6.0.0. See https://github.com/optuna/optuna/releases/tag/v3.0.0. Use suggest_float instead.\n",
      "  alpha = optuna_trial.suggest_uniform(\"alpha\", 0.1, 1.0),\n"
     ]
    },
    {
     "name": "stdout",
     "output_type": "stream",
     "text": [
      "P3alphaRecommender: Similarity column 38121 (100.0%), 4280.62 column/sec. Elapsed time 8.91 sec\n",
      "EvaluatorHoldout: Processed 35584 (100.0%) in 10.65 sec. Users per second: 3340\n"
     ]
    },
    {
     "name": "stderr",
     "output_type": "stream",
     "text": [
      "[I 2024-11-29 00:11:25,427] Trial 111 finished with value: 0.05332859716690718 and parameters: {'topK': 9, 'alpha': 0.45677463682410496, 'normalize_similarity': True}. Best is trial 110 with value: 0.05410197623151251.\n"
     ]
    },
    {
     "name": "stdout",
     "output_type": "stream",
     "text": [
      "Results saved to optuna_progressP3.csv and best results to 'best_optuna_results.csv'\n"
     ]
    },
    {
     "name": "stderr",
     "output_type": "stream",
     "text": [
      "/var/folders/nl/s66s1ffn2kb26p587ppw3jsm0000gn/T/ipykernel_79576/2203105599.py:11: FutureWarning: suggest_uniform has been deprecated in v3.0.0. This feature will be removed in v6.0.0. See https://github.com/optuna/optuna/releases/tag/v3.0.0. Use suggest_float instead.\n",
      "  alpha = optuna_trial.suggest_uniform(\"alpha\", 0.1, 1.0),\n"
     ]
    },
    {
     "name": "stdout",
     "output_type": "stream",
     "text": [
      "P3alphaRecommender: Similarity column 38121 (100.0%), 4252.88 column/sec. Elapsed time 8.96 sec\n",
      "EvaluatorHoldout: Processed 35584 (100.0%) in 10.52 sec. Users per second: 3382\n"
     ]
    },
    {
     "name": "stderr",
     "output_type": "stream",
     "text": [
      "[I 2024-11-29 00:11:45,297] Trial 112 finished with value: 0.05297588491706442 and parameters: {'topK': 8, 'alpha': 0.4229464557613433, 'normalize_similarity': True}. Best is trial 110 with value: 0.05410197623151251.\n"
     ]
    },
    {
     "name": "stdout",
     "output_type": "stream",
     "text": [
      "Results saved to optuna_progressP3.csv and best results to 'best_optuna_results.csv'\n"
     ]
    },
    {
     "name": "stderr",
     "output_type": "stream",
     "text": [
      "/var/folders/nl/s66s1ffn2kb26p587ppw3jsm0000gn/T/ipykernel_79576/2203105599.py:11: FutureWarning: suggest_uniform has been deprecated in v3.0.0. This feature will be removed in v6.0.0. See https://github.com/optuna/optuna/releases/tag/v3.0.0. Use suggest_float instead.\n",
      "  alpha = optuna_trial.suggest_uniform(\"alpha\", 0.1, 1.0),\n"
     ]
    },
    {
     "name": "stdout",
     "output_type": "stream",
     "text": [
      "P3alphaRecommender: Similarity column 38121 (100.0%), 4278.69 column/sec. Elapsed time 8.91 sec\n",
      "EvaluatorHoldout: Processed 35584 (100.0%) in 10.74 sec. Users per second: 3315\n"
     ]
    },
    {
     "name": "stderr",
     "output_type": "stream",
     "text": [
      "[I 2024-11-29 00:12:05,326] Trial 113 finished with value: 0.05209446059223849 and parameters: {'topK': 7, 'alpha': 0.4727118359202679, 'normalize_similarity': True}. Best is trial 110 with value: 0.05410197623151251.\n"
     ]
    },
    {
     "name": "stdout",
     "output_type": "stream",
     "text": [
      "Results saved to optuna_progressP3.csv and best results to 'best_optuna_results.csv'\n"
     ]
    },
    {
     "name": "stderr",
     "output_type": "stream",
     "text": [
      "/var/folders/nl/s66s1ffn2kb26p587ppw3jsm0000gn/T/ipykernel_79576/2203105599.py:11: FutureWarning: suggest_uniform has been deprecated in v3.0.0. This feature will be removed in v6.0.0. See https://github.com/optuna/optuna/releases/tag/v3.0.0. Use suggest_float instead.\n",
      "  alpha = optuna_trial.suggest_uniform(\"alpha\", 0.1, 1.0),\n"
     ]
    },
    {
     "name": "stdout",
     "output_type": "stream",
     "text": [
      "P3alphaRecommender: Similarity column 38121 (100.0%), 3888.08 column/sec. Elapsed time 9.80 sec\n",
      "EvaluatorHoldout: Processed 35584 (100.0%) in 11.51 sec. Users per second: 3091\n"
     ]
    },
    {
     "name": "stderr",
     "output_type": "stream",
     "text": [
      "[I 2024-11-29 00:12:27,641] Trial 114 finished with value: 0.05050988115757194 and parameters: {'topK': 50, 'alpha': 0.3957996881409673, 'normalize_similarity': True}. Best is trial 110 with value: 0.05410197623151251.\n"
     ]
    },
    {
     "name": "stdout",
     "output_type": "stream",
     "text": [
      "Results saved to optuna_progressP3.csv and best results to 'best_optuna_results.csv'\n"
     ]
    },
    {
     "name": "stderr",
     "output_type": "stream",
     "text": [
      "/var/folders/nl/s66s1ffn2kb26p587ppw3jsm0000gn/T/ipykernel_79576/2203105599.py:11: FutureWarning: suggest_uniform has been deprecated in v3.0.0. This feature will be removed in v6.0.0. See https://github.com/optuna/optuna/releases/tag/v3.0.0. Use suggest_float instead.\n",
      "  alpha = optuna_trial.suggest_uniform(\"alpha\", 0.1, 1.0),\n"
     ]
    },
    {
     "name": "stdout",
     "output_type": "stream",
     "text": [
      "P3alphaRecommender: Similarity column 38121 (100.0%), 4285.66 column/sec. Elapsed time 8.90 sec\n",
      "EvaluatorHoldout: Processed 35584 (100.0%) in 10.23 sec. Users per second: 3477\n"
     ]
    },
    {
     "name": "stderr",
     "output_type": "stream",
     "text": [
      "[I 2024-11-29 00:12:47,120] Trial 115 finished with value: 0.05010994664089991 and parameters: {'topK': 5, 'alpha': 0.45584938707230294, 'normalize_similarity': True}. Best is trial 110 with value: 0.05410197623151251.\n"
     ]
    },
    {
     "name": "stdout",
     "output_type": "stream",
     "text": [
      "Results saved to optuna_progressP3.csv and best results to 'best_optuna_results.csv'\n"
     ]
    },
    {
     "name": "stderr",
     "output_type": "stream",
     "text": [
      "/var/folders/nl/s66s1ffn2kb26p587ppw3jsm0000gn/T/ipykernel_79576/2203105599.py:11: FutureWarning: suggest_uniform has been deprecated in v3.0.0. This feature will be removed in v6.0.0. See https://github.com/optuna/optuna/releases/tag/v3.0.0. Use suggest_float instead.\n",
      "  alpha = optuna_trial.suggest_uniform(\"alpha\", 0.1, 1.0),\n"
     ]
    },
    {
     "name": "stdout",
     "output_type": "stream",
     "text": [
      "P3alphaRecommender: Similarity column 38121 (100.0%), 3531.62 column/sec. Elapsed time 10.79 sec\n",
      "EvaluatorHoldout: Processed 35584 (100.0%) in 12.28 sec. Users per second: 2897\n"
     ]
    },
    {
     "name": "stderr",
     "output_type": "stream",
     "text": [
      "[I 2024-11-29 00:13:11,935] Trial 116 finished with value: 0.0472335970509288 and parameters: {'topK': 97, 'alpha': 0.36668970039292675, 'normalize_similarity': True}. Best is trial 110 with value: 0.05410197623151251.\n"
     ]
    },
    {
     "name": "stdout",
     "output_type": "stream",
     "text": [
      "Results saved to optuna_progressP3.csv and best results to 'best_optuna_results.csv'\n"
     ]
    },
    {
     "name": "stderr",
     "output_type": "stream",
     "text": [
      "/var/folders/nl/s66s1ffn2kb26p587ppw3jsm0000gn/T/ipykernel_79576/2203105599.py:11: FutureWarning: suggest_uniform has been deprecated in v3.0.0. This feature will be removed in v6.0.0. See https://github.com/optuna/optuna/releases/tag/v3.0.0. Use suggest_float instead.\n",
      "  alpha = optuna_trial.suggest_uniform(\"alpha\", 0.1, 1.0),\n"
     ]
    },
    {
     "name": "stdout",
     "output_type": "stream",
     "text": [
      "P3alphaRecommender: Similarity column 38121 (100.0%), 3651.56 column/sec. Elapsed time 10.44 sec\n",
      "EvaluatorHoldout: Processed 35584 (100.0%) in 11.93 sec. Users per second: 2982\n"
     ]
    },
    {
     "name": "stderr",
     "output_type": "stream",
     "text": [
      "[I 2024-11-29 00:13:35,699] Trial 117 finished with value: 0.04888162126548563 and parameters: {'topK': 73, 'alpha': 0.4134314280120391, 'normalize_similarity': True}. Best is trial 110 with value: 0.05410197623151251.\n"
     ]
    },
    {
     "name": "stdout",
     "output_type": "stream",
     "text": [
      "Results saved to optuna_progressP3.csv and best results to 'best_optuna_results.csv'\n"
     ]
    },
    {
     "name": "stderr",
     "output_type": "stream",
     "text": [
      "/var/folders/nl/s66s1ffn2kb26p587ppw3jsm0000gn/T/ipykernel_79576/2203105599.py:11: FutureWarning: suggest_uniform has been deprecated in v3.0.0. This feature will be removed in v6.0.0. See https://github.com/optuna/optuna/releases/tag/v3.0.0. Use suggest_float instead.\n",
      "  alpha = optuna_trial.suggest_uniform(\"alpha\", 0.1, 1.0),\n"
     ]
    },
    {
     "name": "stdout",
     "output_type": "stream",
     "text": [
      "P3alphaRecommender: Similarity column 38121 (100.0%), 3744.70 column/sec. Elapsed time 10.18 sec\n",
      "EvaluatorHoldout: Processed 35584 (100.0%) in 11.71 sec. Users per second: 3039\n"
     ]
    },
    {
     "name": "stderr",
     "output_type": "stream",
     "text": [
      "[I 2024-11-29 00:13:58,731] Trial 118 finished with value: 0.04985732619261547 and parameters: {'topK': 59, 'alpha': 0.4660151330273636, 'normalize_similarity': True}. Best is trial 110 with value: 0.05410197623151251.\n"
     ]
    },
    {
     "name": "stdout",
     "output_type": "stream",
     "text": [
      "Results saved to optuna_progressP3.csv and best results to 'best_optuna_results.csv'\n"
     ]
    },
    {
     "name": "stderr",
     "output_type": "stream",
     "text": [
      "/var/folders/nl/s66s1ffn2kb26p587ppw3jsm0000gn/T/ipykernel_79576/2203105599.py:11: FutureWarning: suggest_uniform has been deprecated in v3.0.0. This feature will be removed in v6.0.0. See https://github.com/optuna/optuna/releases/tag/v3.0.0. Use suggest_float instead.\n",
      "  alpha = optuna_trial.suggest_uniform(\"alpha\", 0.1, 1.0),\n"
     ]
    },
    {
     "name": "stdout",
     "output_type": "stream",
     "text": [
      "P3alphaRecommender: Similarity column 38121 (100.0%), 3911.80 column/sec. Elapsed time 9.75 sec\n",
      "EvaluatorHoldout: Processed 35584 (100.0%) in 11.30 sec. Users per second: 3149\n"
     ]
    },
    {
     "name": "stderr",
     "output_type": "stream",
     "text": [
      "[I 2024-11-29 00:14:20,612] Trial 119 finished with value: 0.05142518908979741 and parameters: {'topK': 39, 'alpha': 0.5159979793540205, 'normalize_similarity': True}. Best is trial 110 with value: 0.05410197623151251.\n"
     ]
    },
    {
     "name": "stdout",
     "output_type": "stream",
     "text": [
      "Results saved to optuna_progressP3.csv and best results to 'best_optuna_results.csv'\n"
     ]
    },
    {
     "name": "stderr",
     "output_type": "stream",
     "text": [
      "/var/folders/nl/s66s1ffn2kb26p587ppw3jsm0000gn/T/ipykernel_79576/2203105599.py:11: FutureWarning: suggest_uniform has been deprecated in v3.0.0. This feature will be removed in v6.0.0. See https://github.com/optuna/optuna/releases/tag/v3.0.0. Use suggest_float instead.\n",
      "  alpha = optuna_trial.suggest_uniform(\"alpha\", 0.1, 1.0),\n"
     ]
    },
    {
     "name": "stdout",
     "output_type": "stream",
     "text": [
      "P3alphaRecommender: Similarity column 38121 (100.0%), 3836.78 column/sec. Elapsed time 9.94 sec\n",
      "EvaluatorHoldout: Processed 35584 (100.0%) in 11.36 sec. Users per second: 3133\n"
     ]
    },
    {
     "name": "stderr",
     "output_type": "stream",
     "text": [
      "[I 2024-11-29 00:14:42,834] Trial 120 finished with value: 0.05105288313991476 and parameters: {'topK': 44, 'alpha': 0.4285769689240103, 'normalize_similarity': True}. Best is trial 110 with value: 0.05410197623151251.\n"
     ]
    },
    {
     "name": "stdout",
     "output_type": "stream",
     "text": [
      "Results saved to optuna_progressP3.csv and best results to 'best_optuna_results.csv'\n"
     ]
    },
    {
     "name": "stderr",
     "output_type": "stream",
     "text": [
      "/var/folders/nl/s66s1ffn2kb26p587ppw3jsm0000gn/T/ipykernel_79576/2203105599.py:11: FutureWarning: suggest_uniform has been deprecated in v3.0.0. This feature will be removed in v6.0.0. See https://github.com/optuna/optuna/releases/tag/v3.0.0. Use suggest_float instead.\n",
      "  alpha = optuna_trial.suggest_uniform(\"alpha\", 0.1, 1.0),\n"
     ]
    },
    {
     "name": "stdout",
     "output_type": "stream",
     "text": [
      "P3alphaRecommender: Similarity column 38121 (100.0%), 4082.18 column/sec. Elapsed time 9.34 sec\n",
      "EvaluatorHoldout: Processed 35584 (100.0%) in 11.02 sec. Users per second: 3229\n"
     ]
    },
    {
     "name": "stderr",
     "output_type": "stream",
     "text": [
      "[I 2024-11-29 00:15:03,790] Trial 121 finished with value: 0.05309373929427685 and parameters: {'topK': 23, 'alpha': 0.4891002511015995, 'normalize_similarity': True}. Best is trial 110 with value: 0.05410197623151251.\n"
     ]
    },
    {
     "name": "stdout",
     "output_type": "stream",
     "text": [
      "Results saved to optuna_progressP3.csv and best results to 'best_optuna_results.csv'\n"
     ]
    },
    {
     "name": "stderr",
     "output_type": "stream",
     "text": [
      "/var/folders/nl/s66s1ffn2kb26p587ppw3jsm0000gn/T/ipykernel_79576/2203105599.py:11: FutureWarning: suggest_uniform has been deprecated in v3.0.0. This feature will be removed in v6.0.0. See https://github.com/optuna/optuna/releases/tag/v3.0.0. Use suggest_float instead.\n",
      "  alpha = optuna_trial.suggest_uniform(\"alpha\", 0.1, 1.0),\n"
     ]
    },
    {
     "name": "stdout",
     "output_type": "stream",
     "text": [
      "P3alphaRecommender: Similarity column 38121 (100.0%), 3661.67 column/sec. Elapsed time 10.41 sec\n",
      "EvaluatorHoldout: Processed 35584 (100.0%) in 11.98 sec. Users per second: 2969\n"
     ]
    },
    {
     "name": "stderr",
     "output_type": "stream",
     "text": [
      "[I 2024-11-29 00:15:27,520] Trial 122 finished with value: 0.049024221471035564 and parameters: {'topK': 69, 'alpha': 0.49254002956284393, 'normalize_similarity': True}. Best is trial 110 with value: 0.05410197623151251.\n"
     ]
    },
    {
     "name": "stdout",
     "output_type": "stream",
     "text": [
      "Results saved to optuna_progressP3.csv and best results to 'best_optuna_results.csv'\n"
     ]
    },
    {
     "name": "stderr",
     "output_type": "stream",
     "text": [
      "/var/folders/nl/s66s1ffn2kb26p587ppw3jsm0000gn/T/ipykernel_79576/2203105599.py:11: FutureWarning: suggest_uniform has been deprecated in v3.0.0. This feature will be removed in v6.0.0. See https://github.com/optuna/optuna/releases/tag/v3.0.0. Use suggest_float instead.\n",
      "  alpha = optuna_trial.suggest_uniform(\"alpha\", 0.1, 1.0),\n"
     ]
    },
    {
     "name": "stdout",
     "output_type": "stream",
     "text": [
      "P3alphaRecommender: Similarity column 38121 (100.0%), 1646.32 column/sec. Elapsed time 23.16 sec\n",
      "EvaluatorHoldout: Processed 35584 (100.0%) in 19.77 sec. Users per second: 1800\n"
     ]
    },
    {
     "name": "stderr",
     "output_type": "stream",
     "text": [
      "[I 2024-11-29 00:16:22,306] Trial 123 finished with value: 0.03690219587722547 and parameters: {'topK': 614, 'alpha': 0.5418623897659811, 'normalize_similarity': True}. Best is trial 110 with value: 0.05410197623151251.\n"
     ]
    },
    {
     "name": "stdout",
     "output_type": "stream",
     "text": [
      "Results saved to optuna_progressP3.csv and best results to 'best_optuna_results.csv'\n"
     ]
    },
    {
     "name": "stderr",
     "output_type": "stream",
     "text": [
      "/var/folders/nl/s66s1ffn2kb26p587ppw3jsm0000gn/T/ipykernel_79576/2203105599.py:11: FutureWarning: suggest_uniform has been deprecated in v3.0.0. This feature will be removed in v6.0.0. See https://github.com/optuna/optuna/releases/tag/v3.0.0. Use suggest_float instead.\n",
      "  alpha = optuna_trial.suggest_uniform(\"alpha\", 0.1, 1.0),\n"
     ]
    },
    {
     "name": "stdout",
     "output_type": "stream",
     "text": [
      "P3alphaRecommender: Similarity column 38121 (100.0%), 4018.72 column/sec. Elapsed time 9.49 sec\n",
      "EvaluatorHoldout: Processed 35584 (100.0%) in 10.99 sec. Users per second: 3237\n"
     ]
    },
    {
     "name": "stderr",
     "output_type": "stream",
     "text": [
      "[I 2024-11-29 00:16:43,344] Trial 124 finished with value: 0.05353426633692828 and parameters: {'topK': 20, 'alpha': 0.45378592147946634, 'normalize_similarity': True}. Best is trial 110 with value: 0.05410197623151251.\n",
      "/var/folders/nl/s66s1ffn2kb26p587ppw3jsm0000gn/T/ipykernel_79576/2203105599.py:11: FutureWarning: suggest_uniform has been deprecated in v3.0.0. This feature will be removed in v6.0.0. See https://github.com/optuna/optuna/releases/tag/v3.0.0. Use suggest_float instead.\n",
      "  alpha = optuna_trial.suggest_uniform(\"alpha\", 0.1, 1.0),\n",
      "[W 2024-11-29 00:16:43,428] Trial 125 failed with parameters: {'topK': 43, 'alpha': 0.5043247526958035, 'normalize_similarity': True} because of the following error: KeyboardInterrupt().\n",
      "Traceback (most recent call last):\n",
      "  File \"/opt/anaconda3/envs/RecSysPD/lib/python3.8/site-packages/optuna/study/_optimize.py\", line 197, in _run_trial\n",
      "    value_or_values = func(trial)\n",
      "  File \"/var/folders/nl/s66s1ffn2kb26p587ppw3jsm0000gn/T/ipykernel_79576/2203105599.py\", line 9, in objective_function\n",
      "    recommender_instance.fit(\n",
      "  File \"/Users/giuseppe/Desktop/RecSys_Course_AT_PoliMi-master/Recommenders/GraphBased/P3alphaRecommender.py\", line 91, in fit\n",
      "    relevant_items_partition = np.argpartition(-row_data, self.topK-1, axis=0)[:self.topK]\n",
      "  File \"<__array_function__ internals>\", line 200, in argpartition\n",
      "  File \"/opt/anaconda3/envs/RecSysPD/lib/python3.8/site-packages/numpy/core/fromnumeric.py\", line 871, in argpartition\n",
      "    return _wrapfunc(a, 'argpartition', kth, axis=axis, kind=kind, order=order)\n",
      "  File \"/opt/anaconda3/envs/RecSysPD/lib/python3.8/site-packages/numpy/core/fromnumeric.py\", line 57, in _wrapfunc\n",
      "    return bound(*args, **kwds)\n",
      "KeyboardInterrupt\n",
      "[W 2024-11-29 00:16:43,433] Trial 125 failed with value None.\n"
     ]
    },
    {
     "name": "stdout",
     "output_type": "stream",
     "text": [
      "Results saved to optuna_progressP3.csv and best results to 'best_optuna_results.csv'\n"
     ]
    },
    {
     "ename": "KeyboardInterrupt",
     "evalue": "",
     "output_type": "error",
     "traceback": [
      "\u001b[0;31m---------------------------------------------------------------------------\u001b[0m",
      "\u001b[0;31mKeyboardInterrupt\u001b[0m                         Traceback (most recent call last)",
      "Cell \u001b[0;32mIn[14], line 8\u001b[0m\n\u001b[1;32m      5\u001b[0m save_results \u001b[38;5;241m=\u001b[39m SaveResults(save_path\u001b[38;5;241m=\u001b[39m\u001b[38;5;124m\"\u001b[39m\u001b[38;5;124moptuna_progressP3.csv\u001b[39m\u001b[38;5;124m\"\u001b[39m)\n\u001b[1;32m      7\u001b[0m \u001b[38;5;66;03m# Esecuzione dell'ottimizzazione\u001b[39;00m\n\u001b[0;32m----> 8\u001b[0m \u001b[43moptuna_study\u001b[49m\u001b[38;5;241;43m.\u001b[39;49m\u001b[43moptimize\u001b[49m\u001b[43m(\u001b[49m\n\u001b[1;32m      9\u001b[0m \u001b[43m    \u001b[49m\u001b[43mobjective_function\u001b[49m\u001b[43m,\u001b[49m\n\u001b[1;32m     10\u001b[0m \u001b[43m    \u001b[49m\u001b[43mcallbacks\u001b[49m\u001b[38;5;241;43m=\u001b[39;49m\u001b[43m[\u001b[49m\u001b[43msave_results\u001b[49m\u001b[43m]\u001b[49m\u001b[43m,\u001b[49m\n\u001b[1;32m     11\u001b[0m \u001b[43m    \u001b[49m\u001b[43mn_trials\u001b[49m\u001b[38;5;241;43m=\u001b[39;49m\u001b[38;5;241;43m1000\u001b[39;49m\n\u001b[1;32m     12\u001b[0m \u001b[43m)\u001b[49m\n",
      "File \u001b[0;32m/opt/anaconda3/envs/RecSysPD/lib/python3.8/site-packages/optuna/study/study.py:475\u001b[0m, in \u001b[0;36mStudy.optimize\u001b[0;34m(self, func, n_trials, timeout, n_jobs, catch, callbacks, gc_after_trial, show_progress_bar)\u001b[0m\n\u001b[1;32m    373\u001b[0m \u001b[38;5;28;01mdef\u001b[39;00m \u001b[38;5;21moptimize\u001b[39m(\n\u001b[1;32m    374\u001b[0m     \u001b[38;5;28mself\u001b[39m,\n\u001b[1;32m    375\u001b[0m     func: ObjectiveFuncType,\n\u001b[0;32m   (...)\u001b[0m\n\u001b[1;32m    382\u001b[0m     show_progress_bar: \u001b[38;5;28mbool\u001b[39m \u001b[38;5;241m=\u001b[39m \u001b[38;5;28;01mFalse\u001b[39;00m,\n\u001b[1;32m    383\u001b[0m ) \u001b[38;5;241m-\u001b[39m\u001b[38;5;241m>\u001b[39m \u001b[38;5;28;01mNone\u001b[39;00m:\n\u001b[1;32m    384\u001b[0m \u001b[38;5;250m    \u001b[39m\u001b[38;5;124;03m\"\"\"Optimize an objective function.\u001b[39;00m\n\u001b[1;32m    385\u001b[0m \n\u001b[1;32m    386\u001b[0m \u001b[38;5;124;03m    Optimization is done by choosing a suitable set of hyperparameter values from a given\u001b[39;00m\n\u001b[0;32m   (...)\u001b[0m\n\u001b[1;32m    473\u001b[0m \u001b[38;5;124;03m            If nested invocation of this method occurs.\u001b[39;00m\n\u001b[1;32m    474\u001b[0m \u001b[38;5;124;03m    \"\"\"\u001b[39;00m\n\u001b[0;32m--> 475\u001b[0m     \u001b[43m_optimize\u001b[49m\u001b[43m(\u001b[49m\n\u001b[1;32m    476\u001b[0m \u001b[43m        \u001b[49m\u001b[43mstudy\u001b[49m\u001b[38;5;241;43m=\u001b[39;49m\u001b[38;5;28;43mself\u001b[39;49m\u001b[43m,\u001b[49m\n\u001b[1;32m    477\u001b[0m \u001b[43m        \u001b[49m\u001b[43mfunc\u001b[49m\u001b[38;5;241;43m=\u001b[39;49m\u001b[43mfunc\u001b[49m\u001b[43m,\u001b[49m\n\u001b[1;32m    478\u001b[0m \u001b[43m        \u001b[49m\u001b[43mn_trials\u001b[49m\u001b[38;5;241;43m=\u001b[39;49m\u001b[43mn_trials\u001b[49m\u001b[43m,\u001b[49m\n\u001b[1;32m    479\u001b[0m \u001b[43m        \u001b[49m\u001b[43mtimeout\u001b[49m\u001b[38;5;241;43m=\u001b[39;49m\u001b[43mtimeout\u001b[49m\u001b[43m,\u001b[49m\n\u001b[1;32m    480\u001b[0m \u001b[43m        \u001b[49m\u001b[43mn_jobs\u001b[49m\u001b[38;5;241;43m=\u001b[39;49m\u001b[43mn_jobs\u001b[49m\u001b[43m,\u001b[49m\n\u001b[1;32m    481\u001b[0m \u001b[43m        \u001b[49m\u001b[43mcatch\u001b[49m\u001b[38;5;241;43m=\u001b[39;49m\u001b[38;5;28;43mtuple\u001b[39;49m\u001b[43m(\u001b[49m\u001b[43mcatch\u001b[49m\u001b[43m)\u001b[49m\u001b[43m \u001b[49m\u001b[38;5;28;43;01mif\u001b[39;49;00m\u001b[43m \u001b[49m\u001b[38;5;28;43misinstance\u001b[39;49m\u001b[43m(\u001b[49m\u001b[43mcatch\u001b[49m\u001b[43m,\u001b[49m\u001b[43m \u001b[49m\u001b[43mIterable\u001b[49m\u001b[43m)\u001b[49m\u001b[43m \u001b[49m\u001b[38;5;28;43;01melse\u001b[39;49;00m\u001b[43m \u001b[49m\u001b[43m(\u001b[49m\u001b[43mcatch\u001b[49m\u001b[43m,\u001b[49m\u001b[43m)\u001b[49m\u001b[43m,\u001b[49m\n\u001b[1;32m    482\u001b[0m \u001b[43m        \u001b[49m\u001b[43mcallbacks\u001b[49m\u001b[38;5;241;43m=\u001b[39;49m\u001b[43mcallbacks\u001b[49m\u001b[43m,\u001b[49m\n\u001b[1;32m    483\u001b[0m \u001b[43m        \u001b[49m\u001b[43mgc_after_trial\u001b[49m\u001b[38;5;241;43m=\u001b[39;49m\u001b[43mgc_after_trial\u001b[49m\u001b[43m,\u001b[49m\n\u001b[1;32m    484\u001b[0m \u001b[43m        \u001b[49m\u001b[43mshow_progress_bar\u001b[49m\u001b[38;5;241;43m=\u001b[39;49m\u001b[43mshow_progress_bar\u001b[49m\u001b[43m,\u001b[49m\n\u001b[1;32m    485\u001b[0m \u001b[43m    \u001b[49m\u001b[43m)\u001b[49m\n",
      "File \u001b[0;32m/opt/anaconda3/envs/RecSysPD/lib/python3.8/site-packages/optuna/study/_optimize.py:63\u001b[0m, in \u001b[0;36m_optimize\u001b[0;34m(study, func, n_trials, timeout, n_jobs, catch, callbacks, gc_after_trial, show_progress_bar)\u001b[0m\n\u001b[1;32m     61\u001b[0m \u001b[38;5;28;01mtry\u001b[39;00m:\n\u001b[1;32m     62\u001b[0m     \u001b[38;5;28;01mif\u001b[39;00m n_jobs \u001b[38;5;241m==\u001b[39m \u001b[38;5;241m1\u001b[39m:\n\u001b[0;32m---> 63\u001b[0m         \u001b[43m_optimize_sequential\u001b[49m\u001b[43m(\u001b[49m\n\u001b[1;32m     64\u001b[0m \u001b[43m            \u001b[49m\u001b[43mstudy\u001b[49m\u001b[43m,\u001b[49m\n\u001b[1;32m     65\u001b[0m \u001b[43m            \u001b[49m\u001b[43mfunc\u001b[49m\u001b[43m,\u001b[49m\n\u001b[1;32m     66\u001b[0m \u001b[43m            \u001b[49m\u001b[43mn_trials\u001b[49m\u001b[43m,\u001b[49m\n\u001b[1;32m     67\u001b[0m \u001b[43m            \u001b[49m\u001b[43mtimeout\u001b[49m\u001b[43m,\u001b[49m\n\u001b[1;32m     68\u001b[0m \u001b[43m            \u001b[49m\u001b[43mcatch\u001b[49m\u001b[43m,\u001b[49m\n\u001b[1;32m     69\u001b[0m \u001b[43m            \u001b[49m\u001b[43mcallbacks\u001b[49m\u001b[43m,\u001b[49m\n\u001b[1;32m     70\u001b[0m \u001b[43m            \u001b[49m\u001b[43mgc_after_trial\u001b[49m\u001b[43m,\u001b[49m\n\u001b[1;32m     71\u001b[0m \u001b[43m            \u001b[49m\u001b[43mreseed_sampler_rng\u001b[49m\u001b[38;5;241;43m=\u001b[39;49m\u001b[38;5;28;43;01mFalse\u001b[39;49;00m\u001b[43m,\u001b[49m\n\u001b[1;32m     72\u001b[0m \u001b[43m            \u001b[49m\u001b[43mtime_start\u001b[49m\u001b[38;5;241;43m=\u001b[39;49m\u001b[38;5;28;43;01mNone\u001b[39;49;00m\u001b[43m,\u001b[49m\n\u001b[1;32m     73\u001b[0m \u001b[43m            \u001b[49m\u001b[43mprogress_bar\u001b[49m\u001b[38;5;241;43m=\u001b[39;49m\u001b[43mprogress_bar\u001b[49m\u001b[43m,\u001b[49m\n\u001b[1;32m     74\u001b[0m \u001b[43m        \u001b[49m\u001b[43m)\u001b[49m\n\u001b[1;32m     75\u001b[0m     \u001b[38;5;28;01melse\u001b[39;00m:\n\u001b[1;32m     76\u001b[0m         \u001b[38;5;28;01mif\u001b[39;00m n_jobs \u001b[38;5;241m==\u001b[39m \u001b[38;5;241m-\u001b[39m\u001b[38;5;241m1\u001b[39m:\n",
      "File \u001b[0;32m/opt/anaconda3/envs/RecSysPD/lib/python3.8/site-packages/optuna/study/_optimize.py:160\u001b[0m, in \u001b[0;36m_optimize_sequential\u001b[0;34m(study, func, n_trials, timeout, catch, callbacks, gc_after_trial, reseed_sampler_rng, time_start, progress_bar)\u001b[0m\n\u001b[1;32m    157\u001b[0m         \u001b[38;5;28;01mbreak\u001b[39;00m\n\u001b[1;32m    159\u001b[0m \u001b[38;5;28;01mtry\u001b[39;00m:\n\u001b[0;32m--> 160\u001b[0m     frozen_trial \u001b[38;5;241m=\u001b[39m \u001b[43m_run_trial\u001b[49m\u001b[43m(\u001b[49m\u001b[43mstudy\u001b[49m\u001b[43m,\u001b[49m\u001b[43m \u001b[49m\u001b[43mfunc\u001b[49m\u001b[43m,\u001b[49m\u001b[43m \u001b[49m\u001b[43mcatch\u001b[49m\u001b[43m)\u001b[49m\n\u001b[1;32m    161\u001b[0m \u001b[38;5;28;01mfinally\u001b[39;00m:\n\u001b[1;32m    162\u001b[0m     \u001b[38;5;66;03m# The following line mitigates memory problems that can be occurred in some\u001b[39;00m\n\u001b[1;32m    163\u001b[0m     \u001b[38;5;66;03m# environments (e.g., services that use computing containers such as GitHub Actions).\u001b[39;00m\n\u001b[1;32m    164\u001b[0m     \u001b[38;5;66;03m# Please refer to the following PR for further details:\u001b[39;00m\n\u001b[1;32m    165\u001b[0m     \u001b[38;5;66;03m# https://github.com/optuna/optuna/pull/325.\u001b[39;00m\n\u001b[1;32m    166\u001b[0m     \u001b[38;5;28;01mif\u001b[39;00m gc_after_trial:\n",
      "File \u001b[0;32m/opt/anaconda3/envs/RecSysPD/lib/python3.8/site-packages/optuna/study/_optimize.py:248\u001b[0m, in \u001b[0;36m_run_trial\u001b[0;34m(study, func, catch)\u001b[0m\n\u001b[1;32m    241\u001b[0m         \u001b[38;5;28;01massert\u001b[39;00m \u001b[38;5;28;01mFalse\u001b[39;00m, \u001b[38;5;124m\"\u001b[39m\u001b[38;5;124mShould not reach.\u001b[39m\u001b[38;5;124m\"\u001b[39m\n\u001b[1;32m    243\u001b[0m \u001b[38;5;28;01mif\u001b[39;00m (\n\u001b[1;32m    244\u001b[0m     frozen_trial\u001b[38;5;241m.\u001b[39mstate \u001b[38;5;241m==\u001b[39m TrialState\u001b[38;5;241m.\u001b[39mFAIL\n\u001b[1;32m    245\u001b[0m     \u001b[38;5;129;01mand\u001b[39;00m func_err \u001b[38;5;129;01mis\u001b[39;00m \u001b[38;5;129;01mnot\u001b[39;00m \u001b[38;5;28;01mNone\u001b[39;00m\n\u001b[1;32m    246\u001b[0m     \u001b[38;5;129;01mand\u001b[39;00m \u001b[38;5;129;01mnot\u001b[39;00m \u001b[38;5;28misinstance\u001b[39m(func_err, catch)\n\u001b[1;32m    247\u001b[0m ):\n\u001b[0;32m--> 248\u001b[0m     \u001b[38;5;28;01mraise\u001b[39;00m func_err\n\u001b[1;32m    249\u001b[0m \u001b[38;5;28;01mreturn\u001b[39;00m frozen_trial\n",
      "File \u001b[0;32m/opt/anaconda3/envs/RecSysPD/lib/python3.8/site-packages/optuna/study/_optimize.py:197\u001b[0m, in \u001b[0;36m_run_trial\u001b[0;34m(study, func, catch)\u001b[0m\n\u001b[1;32m    195\u001b[0m \u001b[38;5;28;01mwith\u001b[39;00m get_heartbeat_thread(trial\u001b[38;5;241m.\u001b[39m_trial_id, study\u001b[38;5;241m.\u001b[39m_storage):\n\u001b[1;32m    196\u001b[0m     \u001b[38;5;28;01mtry\u001b[39;00m:\n\u001b[0;32m--> 197\u001b[0m         value_or_values \u001b[38;5;241m=\u001b[39m \u001b[43mfunc\u001b[49m\u001b[43m(\u001b[49m\u001b[43mtrial\u001b[49m\u001b[43m)\u001b[49m\n\u001b[1;32m    198\u001b[0m     \u001b[38;5;28;01mexcept\u001b[39;00m exceptions\u001b[38;5;241m.\u001b[39mTrialPruned \u001b[38;5;28;01mas\u001b[39;00m e:\n\u001b[1;32m    199\u001b[0m         \u001b[38;5;66;03m# TODO(mamu): Handle multi-objective cases.\u001b[39;00m\n\u001b[1;32m    200\u001b[0m         state \u001b[38;5;241m=\u001b[39m TrialState\u001b[38;5;241m.\u001b[39mPRUNED\n",
      "Cell \u001b[0;32mIn[11], line 9\u001b[0m, in \u001b[0;36mobjective_function\u001b[0;34m(optuna_trial)\u001b[0m\n\u001b[1;32m      6\u001b[0m \u001b[38;5;28;01mdef\u001b[39;00m \u001b[38;5;21mobjective_function\u001b[39m(optuna_trial):\n\u001b[1;32m      8\u001b[0m     recommender_instance \u001b[38;5;241m=\u001b[39m P3alphaRecommender(URM_train_validation)\n\u001b[0;32m----> 9\u001b[0m     \u001b[43mrecommender_instance\u001b[49m\u001b[38;5;241;43m.\u001b[39;49m\u001b[43mfit\u001b[49m\u001b[43m(\u001b[49m\u001b[43m \u001b[49m\n\u001b[1;32m     10\u001b[0m \u001b[43m                    \u001b[49m\u001b[43mtopK\u001b[49m\u001b[43m \u001b[49m\u001b[38;5;241;43m=\u001b[39;49m\u001b[43m \u001b[49m\u001b[43moptuna_trial\u001b[49m\u001b[38;5;241;43m.\u001b[39;49m\u001b[43msuggest_int\u001b[49m\u001b[43m(\u001b[49m\u001b[38;5;124;43m\"\u001b[39;49m\u001b[38;5;124;43mtopK\u001b[39;49m\u001b[38;5;124;43m\"\u001b[39;49m\u001b[43m,\u001b[49m\u001b[43m \u001b[49m\u001b[38;5;241;43m5\u001b[39;49m\u001b[43m,\u001b[49m\u001b[43m \u001b[49m\u001b[38;5;241;43m1000\u001b[39;49m\u001b[43m)\u001b[49m\u001b[43m,\u001b[49m\n\u001b[1;32m     11\u001b[0m \u001b[43m                    \u001b[49m\u001b[43malpha\u001b[49m\u001b[43m \u001b[49m\u001b[38;5;241;43m=\u001b[39;49m\u001b[43m \u001b[49m\u001b[43moptuna_trial\u001b[49m\u001b[38;5;241;43m.\u001b[39;49m\u001b[43msuggest_uniform\u001b[49m\u001b[43m(\u001b[49m\u001b[38;5;124;43m\"\u001b[39;49m\u001b[38;5;124;43malpha\u001b[39;49m\u001b[38;5;124;43m\"\u001b[39;49m\u001b[43m,\u001b[49m\u001b[43m \u001b[49m\u001b[38;5;241;43m0.1\u001b[39;49m\u001b[43m,\u001b[49m\u001b[43m \u001b[49m\u001b[38;5;241;43m1.0\u001b[39;49m\u001b[43m)\u001b[49m\u001b[43m,\u001b[49m\n\u001b[1;32m     12\u001b[0m \u001b[43m                    \u001b[49m\u001b[43mnormalize_similarity\u001b[49m\u001b[43m \u001b[49m\u001b[38;5;241;43m=\u001b[39;49m\u001b[43m \u001b[49m\u001b[43moptuna_trial\u001b[49m\u001b[38;5;241;43m.\u001b[39;49m\u001b[43msuggest_categorical\u001b[49m\u001b[43m(\u001b[49m\u001b[38;5;124;43m\"\u001b[39;49m\u001b[38;5;124;43mnormalize_similarity\u001b[39;49m\u001b[38;5;124;43m\"\u001b[39;49m\u001b[43m,\u001b[49m\u001b[43m \u001b[49m\u001b[43m[\u001b[49m\u001b[38;5;28;43;01mTrue\u001b[39;49;00m\u001b[43m,\u001b[49m\u001b[43m \u001b[49m\u001b[38;5;28;43;01mFalse\u001b[39;49;00m\u001b[43m]\u001b[49m\u001b[43m)\u001b[49m\u001b[43m,\u001b[49m\n\u001b[1;32m     13\u001b[0m \u001b[43m                    \u001b[49m\u001b[43mimplicit\u001b[49m\u001b[38;5;241;43m=\u001b[39;49m\u001b[38;5;28;43;01mTrue\u001b[39;49;00m\u001b[43m,\u001b[49m\n\u001b[1;32m     14\u001b[0m \u001b[43m                    \u001b[49m\u001b[43m)\u001b[49m\n\u001b[1;32m     16\u001b[0m     result_df, _ \u001b[38;5;241m=\u001b[39m evaluator_test\u001b[38;5;241m.\u001b[39mevaluateRecommender(recommender_instance)\n\u001b[1;32m     17\u001b[0m     \u001b[38;5;28;01mreturn\u001b[39;00m result_df\u001b[38;5;241m.\u001b[39mloc[\u001b[38;5;241m10\u001b[39m][\u001b[38;5;124m\"\u001b[39m\u001b[38;5;124mMAP\u001b[39m\u001b[38;5;124m\"\u001b[39m]\n",
      "File \u001b[0;32m~/Desktop/RecSys_Course_AT_PoliMi-master/Recommenders/GraphBased/P3alphaRecommender.py:91\u001b[0m, in \u001b[0;36mP3alphaRecommender.fit\u001b[0;34m(self, topK, alpha, min_rating, implicit, normalize_similarity)\u001b[0m\n\u001b[1;32m     88\u001b[0m row_data \u001b[38;5;241m=\u001b[39m similarity_block[row_in_block, :]\n\u001b[1;32m     89\u001b[0m row_data[current_block_start_row \u001b[38;5;241m+\u001b[39m row_in_block] \u001b[38;5;241m=\u001b[39m \u001b[38;5;241m0\u001b[39m\n\u001b[0;32m---> 91\u001b[0m relevant_items_partition \u001b[38;5;241m=\u001b[39m \u001b[43mnp\u001b[49m\u001b[38;5;241;43m.\u001b[39;49m\u001b[43margpartition\u001b[49m\u001b[43m(\u001b[49m\u001b[38;5;241;43m-\u001b[39;49m\u001b[43mrow_data\u001b[49m\u001b[43m,\u001b[49m\u001b[43m \u001b[49m\u001b[38;5;28;43mself\u001b[39;49m\u001b[38;5;241;43m.\u001b[39;49m\u001b[43mtopK\u001b[49m\u001b[38;5;241;43m-\u001b[39;49m\u001b[38;5;241;43m1\u001b[39;49m\u001b[43m,\u001b[49m\u001b[43m \u001b[49m\u001b[43maxis\u001b[49m\u001b[38;5;241;43m=\u001b[39;49m\u001b[38;5;241;43m0\u001b[39;49m\u001b[43m)\u001b[49m[:\u001b[38;5;28mself\u001b[39m\u001b[38;5;241m.\u001b[39mtopK]\n\u001b[1;32m     92\u001b[0m row_data \u001b[38;5;241m=\u001b[39m row_data[relevant_items_partition]\n\u001b[1;32m     94\u001b[0m \u001b[38;5;66;03m# Incrementally build sparse matrix, do not add zeros\u001b[39;00m\n",
      "File \u001b[0;32m<__array_function__ internals>:200\u001b[0m, in \u001b[0;36margpartition\u001b[0;34m(*args, **kwargs)\u001b[0m\n",
      "File \u001b[0;32m/opt/anaconda3/envs/RecSysPD/lib/python3.8/site-packages/numpy/core/fromnumeric.py:871\u001b[0m, in \u001b[0;36margpartition\u001b[0;34m(a, kth, axis, kind, order)\u001b[0m\n\u001b[1;32m    792\u001b[0m \u001b[38;5;129m@array_function_dispatch\u001b[39m(_argpartition_dispatcher)\n\u001b[1;32m    793\u001b[0m \u001b[38;5;28;01mdef\u001b[39;00m \u001b[38;5;21margpartition\u001b[39m(a, kth, axis\u001b[38;5;241m=\u001b[39m\u001b[38;5;241m-\u001b[39m\u001b[38;5;241m1\u001b[39m, kind\u001b[38;5;241m=\u001b[39m\u001b[38;5;124m'\u001b[39m\u001b[38;5;124mintroselect\u001b[39m\u001b[38;5;124m'\u001b[39m, order\u001b[38;5;241m=\u001b[39m\u001b[38;5;28;01mNone\u001b[39;00m):\n\u001b[1;32m    794\u001b[0m \u001b[38;5;250m    \u001b[39m\u001b[38;5;124;03m\"\"\"\u001b[39;00m\n\u001b[1;32m    795\u001b[0m \u001b[38;5;124;03m    Perform an indirect partition along the given axis using the\u001b[39;00m\n\u001b[1;32m    796\u001b[0m \u001b[38;5;124;03m    algorithm specified by the `kind` keyword. It returns an array of\u001b[39;00m\n\u001b[0;32m   (...)\u001b[0m\n\u001b[1;32m    869\u001b[0m \n\u001b[1;32m    870\u001b[0m \u001b[38;5;124;03m    \"\"\"\u001b[39;00m\n\u001b[0;32m--> 871\u001b[0m     \u001b[38;5;28;01mreturn\u001b[39;00m \u001b[43m_wrapfunc\u001b[49m\u001b[43m(\u001b[49m\u001b[43ma\u001b[49m\u001b[43m,\u001b[49m\u001b[43m \u001b[49m\u001b[38;5;124;43m'\u001b[39;49m\u001b[38;5;124;43margpartition\u001b[39;49m\u001b[38;5;124;43m'\u001b[39;49m\u001b[43m,\u001b[49m\u001b[43m \u001b[49m\u001b[43mkth\u001b[49m\u001b[43m,\u001b[49m\u001b[43m \u001b[49m\u001b[43maxis\u001b[49m\u001b[38;5;241;43m=\u001b[39;49m\u001b[43maxis\u001b[49m\u001b[43m,\u001b[49m\u001b[43m \u001b[49m\u001b[43mkind\u001b[49m\u001b[38;5;241;43m=\u001b[39;49m\u001b[43mkind\u001b[49m\u001b[43m,\u001b[49m\u001b[43m \u001b[49m\u001b[43morder\u001b[49m\u001b[38;5;241;43m=\u001b[39;49m\u001b[43morder\u001b[49m\u001b[43m)\u001b[49m\n",
      "File \u001b[0;32m/opt/anaconda3/envs/RecSysPD/lib/python3.8/site-packages/numpy/core/fromnumeric.py:57\u001b[0m, in \u001b[0;36m_wrapfunc\u001b[0;34m(obj, method, *args, **kwds)\u001b[0m\n\u001b[1;32m     54\u001b[0m     \u001b[38;5;28;01mreturn\u001b[39;00m _wrapit(obj, method, \u001b[38;5;241m*\u001b[39margs, \u001b[38;5;241m*\u001b[39m\u001b[38;5;241m*\u001b[39mkwds)\n\u001b[1;32m     56\u001b[0m \u001b[38;5;28;01mtry\u001b[39;00m:\n\u001b[0;32m---> 57\u001b[0m     \u001b[38;5;28;01mreturn\u001b[39;00m \u001b[43mbound\u001b[49m\u001b[43m(\u001b[49m\u001b[38;5;241;43m*\u001b[39;49m\u001b[43margs\u001b[49m\u001b[43m,\u001b[49m\u001b[43m \u001b[49m\u001b[38;5;241;43m*\u001b[39;49m\u001b[38;5;241;43m*\u001b[39;49m\u001b[43mkwds\u001b[49m\u001b[43m)\u001b[49m\n\u001b[1;32m     58\u001b[0m \u001b[38;5;28;01mexcept\u001b[39;00m \u001b[38;5;167;01mTypeError\u001b[39;00m:\n\u001b[1;32m     59\u001b[0m     \u001b[38;5;66;03m# A TypeError occurs if the object does have such a method in its\u001b[39;00m\n\u001b[1;32m     60\u001b[0m     \u001b[38;5;66;03m# class, but its signature is not identical to that of NumPy's. This\u001b[39;00m\n\u001b[0;32m   (...)\u001b[0m\n\u001b[1;32m     64\u001b[0m     \u001b[38;5;66;03m# Call _wrapit from within the except clause to ensure a potential\u001b[39;00m\n\u001b[1;32m     65\u001b[0m     \u001b[38;5;66;03m# exception has a traceback chain.\u001b[39;00m\n\u001b[1;32m     66\u001b[0m     \u001b[38;5;28;01mreturn\u001b[39;00m _wrapit(obj, method, \u001b[38;5;241m*\u001b[39margs, \u001b[38;5;241m*\u001b[39m\u001b[38;5;241m*\u001b[39mkwds)\n",
      "\u001b[0;31mKeyboardInterrupt\u001b[0m: "
     ]
    }
   ],
   "source": [
    "# Creazione dello studio Optuna\n",
    "optuna_study = optuna.create_study(direction=\"maximize\")\n",
    "\n",
    "# Inizializzazione del callback per salvare progressivamente i risultati\n",
    "save_results = SaveResults(save_path=\"optuna_progressP3.csv\")\n",
    "\n",
    "# Esecuzione dell'ottimizzazione\n",
    "optuna_study.optimize(\n",
    "    objective_function,\n",
    "    callbacks=[save_results],\n",
    "    n_trials=1000\n",
    ")"
   ]
  },
  {
   "cell_type": "code",
   "execution_count": null,
   "id": "cd511cb1",
   "metadata": {},
   "outputs": [],
   "source": [
    "recommender_instance = P3alphaRecommender(URM_train_validation)\n",
    "recommender_instance.fit( \n",
    "                    topK = optuna_trial.suggest_int(\"topK\", 5, 1000),\n",
    "                    alpha = optuna_trial.suggest_uniform(\"alpha\", 0.1, 1.0),\n",
    "                    normalize_similarity = optuna_trial.suggest_categorical(\"normalize_similarity\", [True, False]),\n",
    "                    implicit=True,\n",
    "                    )\n",
    "\n",
    "result_df, _ = evaluator_test.evaluateRecommender(recommender_instance)\n",
    "print(result_df.loc[10][\"MAP\"])\n",
    "\n",
    "recommendations_list = []\n",
    "user = pd.read_csv(filepath_or_buffer=\"data_target_users_test.csv\")\n",
    "\n",
    "# Loop through each user and get the top 10 recommendations\n",
    "for user_id in user[\"user_id\"]:  # assuming URM.shape[0] is the total number of users\n",
    "    top_10_recommendations = model.recommend(user_id, cutoff=10, remove_seen_flag=True)\n",
    "    # Join recommendations into a space-separated string\n",
    "    item_list_str = ' '.join(map(str, top_10_recommendations))\n",
    "    recommendations_list.append([user_id, item_list_str])\n",
    "\n",
    "# Convert the list to a DataFrame\n",
    "recommendations_df = pd.DataFrame(recommendations_list, columns=['user_id', 'item_list'])\n",
    "\n",
    "# Display the resulting table\n",
    "print(recommendations_df.head(2))\n",
    "\n",
    "# Optionally, save to CSV\n",
    "recommendations_df.to_csv('top_10_recommendationsHybrid.csv', index=False)"
   ]
  },
  {
   "cell_type": "code",
   "execution_count": 17,
   "id": "8f6be70f",
   "metadata": {},
   "outputs": [
    {
     "name": "stdout",
     "output_type": "stream",
     "text": [
      "IALSRecommender: Validation begins...\n",
      "EvaluatorHoldout: Processed 35584 (100.0%) in 21.49 sec. Users per second: 1656\n",
      "IALSRecommender: CUTOFF: 10 - PRECISION: 0.0122499, PRECISION_RECALL_MIN_DEN: 0.0177976, RECALL: 0.0143596, MAP: 0.0050470, MAP_MIN_DEN: 0.0073509, MRR: 0.0362747, NDCG: 0.0165449, F1: 0.0132211, HIT_RATE: 0.0921201, ARHR_ALL_HITS: 0.0421489, NOVELTY: 0.0030529, AVERAGE_POPULARITY: 0.4207807, DIVERSITY_MEAN_INTER_LIST: 0.9220276, DIVERSITY_HERFINDAHL: 0.9922002, COVERAGE_ITEM: 0.0396894, COVERAGE_ITEM_HIT: 0.0132473, ITEMS_IN_GT: 0.9962226, COVERAGE_USER: 0.9957466, COVERAGE_USER_HIT: 0.0917282, USERS_IN_GT: 0.9957466, DIVERSITY_GINI: 0.0048076, SHANNON_ENTROPY: 7.8356452, RATIO_DIVERSITY_HERFINDAHL: 0.9922575, RATIO_DIVERSITY_GINI: 0.0079028, RATIO_SHANNON_ENTROPY: 0.5308027, RATIO_AVERAGE_POPULARITY: 5.6747479, RATIO_NOVELTY: 0.1995757, \n",
      "\n",
      "IALSRecommender: New best model found! Updating.\n",
      "IALSRecommender: Epoch 1 of 300. Elapsed time 2.33 min\n",
      "IALSRecommender: Validation begins...\n",
      "EvaluatorHoldout: Processed 35584 (100.0%) in 21.66 sec. Users per second: 1643\n",
      "IALSRecommender: CUTOFF: 10 - PRECISION: 0.0452394, PRECISION_RECALL_MIN_DEN: 0.0662131, RECALL: 0.0551846, MAP: 0.0210688, MAP_MIN_DEN: 0.0306650, MRR: 0.1405372, NDCG: 0.0647146, F1: 0.0497196, HIT_RATE: 0.3067952, ARHR_ALL_HITS: 0.1700274, NOVELTY: 0.0032147, AVERAGE_POPULARITY: 0.3037810, DIVERSITY_MEAN_INTER_LIST: 0.9687405, DIVERSITY_HERFINDAHL: 0.9968713, COVERAGE_ITEM: 0.0796936, COVERAGE_ITEM_HIT: 0.0525432, ITEMS_IN_GT: 0.9962226, COVERAGE_USER: 0.9957466, COVERAGE_USER_HIT: 0.3054903, USERS_IN_GT: 0.9957466, DIVERSITY_GINI: 0.0133224, SHANNON_ENTROPY: 9.2755489, RATIO_DIVERSITY_HERFINDAHL: 0.9969290, RATIO_DIVERSITY_GINI: 0.0218996, RATIO_SHANNON_ENTROPY: 0.6283447, RATIO_AVERAGE_POPULARITY: 4.0968617, RATIO_NOVELTY: 0.2101510, \n",
      "\n",
      "IALSRecommender: New best model found! Updating.\n",
      "IALSRecommender: Epoch 2 of 300. Elapsed time 4.65 min\n",
      "IALSRecommender: Validation begins...\n",
      "EvaluatorHoldout: Processed 35584 (100.0%) in 22.56 sec. Users per second: 1577\n",
      "IALSRecommender: CUTOFF: 10 - PRECISION: 0.0524084, PRECISION_RECALL_MIN_DEN: 0.0764812, RECALL: 0.0635056, MAP: 0.0249762, MAP_MIN_DEN: 0.0360302, MRR: 0.1631498, NDCG: 0.0752658, F1: 0.0574258, HIT_RATE: 0.3464197, ARHR_ALL_HITS: 0.1994449, NOVELTY: 0.0032941, AVERAGE_POPULARITY: 0.2508730, DIVERSITY_MEAN_INTER_LIST: 0.9807233, DIVERSITY_HERFINDAHL: 0.9980696, COVERAGE_ITEM: 0.0913407, COVERAGE_ITEM_HIT: 0.0615933, ITEMS_IN_GT: 0.9962226, COVERAGE_USER: 0.9957466, COVERAGE_USER_HIT: 0.3449463, USERS_IN_GT: 0.9957466, DIVERSITY_GINI: 0.0189890, SHANNON_ENTROPY: 9.8489399, RATIO_DIVERSITY_HERFINDAHL: 0.9981273, RATIO_DIVERSITY_GINI: 0.0312145, RATIO_SHANNON_ENTROPY: 0.6671874, RATIO_AVERAGE_POPULARITY: 3.3833324, RATIO_NOVELTY: 0.2153426, \n",
      "\n",
      "IALSRecommender: New best model found! Updating.\n",
      "IALSRecommender: Epoch 3 of 300. Elapsed time 7.10 min\n",
      "IALSRecommender: Validation begins...\n",
      "EvaluatorHoldout: Processed 35584 (100.0%) in 38.98 sec. Users per second: 913\n",
      "IALSRecommender: CUTOFF: 10 - PRECISION: 0.0544486, PRECISION_RECALL_MIN_DEN: 0.0791915, RECALL: 0.0655453, MAP: 0.0259175, MAP_MIN_DEN: 0.0371619, MRR: 0.1676026, NDCG: 0.0777034, F1: 0.0594839, HIT_RATE: 0.3572954, ARHR_ALL_HITS: 0.2057898, NOVELTY: 0.0033187, AVERAGE_POPULARITY: 0.2354102, DIVERSITY_MEAN_INTER_LIST: 0.9833959, DIVERSITY_HERFINDAHL: 0.9983368, COVERAGE_ITEM: 0.0967708, COVERAGE_ITEM_HIT: 0.0650298, ITEMS_IN_GT: 0.9962226, COVERAGE_USER: 0.9957466, COVERAGE_USER_HIT: 0.3557757, USERS_IN_GT: 0.9957466, DIVERSITY_GINI: 0.0210962, SHANNON_ENTROPY: 10.0183105, RATIO_DIVERSITY_HERFINDAHL: 0.9983946, RATIO_DIVERSITY_GINI: 0.0346784, RATIO_SHANNON_ENTROPY: 0.6786609, RATIO_AVERAGE_POPULARITY: 3.1747975, RATIO_NOVELTY: 0.2169510, \n",
      "\n",
      "IALSRecommender: New best model found! Updating.\n",
      "IALSRecommender: Epoch 4 of 300. Elapsed time 2.15 hour\n",
      "IALSRecommender: Validation begins...\n",
      "EvaluatorHoldout: Processed 35584 (100.0%) in 21.43 sec. Users per second: 1660\n",
      "IALSRecommender: CUTOFF: 10 - PRECISION: 0.0549713, PRECISION_RECALL_MIN_DEN: 0.0796956, RECALL: 0.0658312, MAP: 0.0261452, MAP_MIN_DEN: 0.0373620, MRR: 0.1682356, NDCG: 0.0781852, F1: 0.0599131, HIT_RATE: 0.3590940, ARHR_ALL_HITS: 0.2070933, NOVELTY: 0.0033285, AVERAGE_POPULARITY: 0.2294240, DIVERSITY_MEAN_INTER_LIST: 0.9843343, DIVERSITY_HERFINDAHL: 0.9984307, COVERAGE_ITEM: 0.0992104, COVERAGE_ITEM_HIT: 0.0665512, ITEMS_IN_GT: 0.9962226, COVERAGE_USER: 0.9957466, COVERAGE_USER_HIT: 0.3575666, USERS_IN_GT: 0.9957466, DIVERSITY_GINI: 0.0220375, SHANNON_ENTROPY: 10.0868139, RATIO_DIVERSITY_HERFINDAHL: 0.9984884, RATIO_DIVERSITY_GINI: 0.0362257, RATIO_SHANNON_ENTROPY: 0.6833015, RATIO_AVERAGE_POPULARITY: 3.0940655, RATIO_NOVELTY: 0.2175925, \n",
      "\n",
      "IALSRecommender: New best model found! Updating.\n",
      "IALSRecommender: Epoch 5 of 300. Elapsed time 2.19 hour\n",
      "IALSRecommender: Validation begins...\n",
      "EvaluatorHoldout: Processed 35584 (100.0%) in 22.10 sec. Users per second: 1610\n",
      "IALSRecommender: CUTOFF: 10 - PRECISION: 0.0551877, PRECISION_RECALL_MIN_DEN: 0.0798599, RECALL: 0.0659104, MAP: 0.0262708, MAP_MIN_DEN: 0.0374861, MRR: 0.1686802, NDCG: 0.0784300, F1: 0.0600743, HIT_RATE: 0.3595717, ARHR_ALL_HITS: 0.2079267, NOVELTY: 0.0033333, AVERAGE_POPULARITY: 0.2264312, DIVERSITY_MEAN_INTER_LIST: 0.9847885, DIVERSITY_HERFINDAHL: 0.9984761, COVERAGE_ITEM: 0.1007319, COVERAGE_ITEM_HIT: 0.0670759, ITEMS_IN_GT: 0.9962226, COVERAGE_USER: 0.9957466, COVERAGE_USER_HIT: 0.3580423, USERS_IN_GT: 0.9957466, DIVERSITY_GINI: 0.0225234, SHANNON_ENTROPY: 10.1209812, RATIO_DIVERSITY_HERFINDAHL: 0.9985338, RATIO_DIVERSITY_GINI: 0.0370245, RATIO_SHANNON_ENTROPY: 0.6856160, RATIO_AVERAGE_POPULARITY: 3.0537039, RATIO_NOVELTY: 0.2179021, \n",
      "\n",
      "IALSRecommender: New best model found! Updating.\n",
      "IALSRecommender: Epoch 6 of 300. Elapsed time 2.23 hour\n",
      "IALSRecommender: Validation begins...\n",
      "EvaluatorHoldout: Processed 35584 (100.0%) in 22.61 sec. Users per second: 1574\n",
      "IALSRecommender: CUTOFF: 10 - PRECISION: 0.0553198, PRECISION_RECALL_MIN_DEN: 0.0799257, RECALL: 0.0659007, MAP: 0.0262448, MAP_MIN_DEN: 0.0374200, MRR: 0.1683197, NDCG: 0.0784076, F1: 0.0601485, HIT_RATE: 0.3603024, ARHR_ALL_HITS: 0.2076412, NOVELTY: 0.0033359, AVERAGE_POPULARITY: 0.2248244, DIVERSITY_MEAN_INTER_LIST: 0.9850284, DIVERSITY_HERFINDAHL: 0.9985001, COVERAGE_ITEM: 0.1017812, COVERAGE_ITEM_HIT: 0.0677055, ITEMS_IN_GT: 0.9962226, COVERAGE_USER: 0.9957466, COVERAGE_USER_HIT: 0.3587699, USERS_IN_GT: 0.9957466, DIVERSITY_GINI: 0.0228087, SHANNON_ENTROPY: 10.1403122, RATIO_DIVERSITY_HERFINDAHL: 0.9985578, RATIO_DIVERSITY_GINI: 0.0374933, RATIO_SHANNON_ENTROPY: 0.6869256, RATIO_AVERAGE_POPULARITY: 3.0320348, RATIO_NOVELTY: 0.2180738, \n",
      "\n",
      "IALSRecommender: Epoch 7 of 300. Elapsed time 2.27 hour\n",
      "IALSRecommender: Validation begins...\n",
      "EvaluatorHoldout: Processed 35584 (100.0%) in 21.85 sec. Users per second: 1628\n",
      "IALSRecommender: CUTOFF: 10 - PRECISION: 0.0553985, PRECISION_RECALL_MIN_DEN: 0.0800805, RECALL: 0.0659673, MAP: 0.0262691, MAP_MIN_DEN: 0.0374011, MRR: 0.1684132, NDCG: 0.0784490, F1: 0.0602227, HIT_RATE: 0.3605553, ARHR_ALL_HITS: 0.2077702, NOVELTY: 0.0033374, AVERAGE_POPULARITY: 0.2238986, DIVERSITY_MEAN_INTER_LIST: 0.9851583, DIVERSITY_HERFINDAHL: 0.9985131, COVERAGE_ITEM: 0.1024894, COVERAGE_ITEM_HIT: 0.0679416, ITEMS_IN_GT: 0.9962226, COVERAGE_USER: 0.9957466, COVERAGE_USER_HIT: 0.3590217, USERS_IN_GT: 0.9957466, DIVERSITY_GINI: 0.0229840, SHANNON_ENTROPY: 10.1517315, RATIO_DIVERSITY_HERFINDAHL: 0.9985708, RATIO_DIVERSITY_GINI: 0.0377816, RATIO_SHANNON_ENTROPY: 0.6876991, RATIO_AVERAGE_POPULARITY: 3.0195487, RATIO_NOVELTY: 0.2181738, \n",
      "\n",
      "IALSRecommender: Epoch 8 of 300. Elapsed time 2.31 hour\n",
      "IALSRecommender: Validation begins...\n",
      "EvaluatorHoldout: Processed 35584 (100.0%) in 21.48 sec. Users per second: 1657\n",
      "IALSRecommender: CUTOFF: 10 - PRECISION: 0.0554435, PRECISION_RECALL_MIN_DEN: 0.0801349, RECALL: 0.0660150, MAP: 0.0262324, MAP_MIN_DEN: 0.0373215, MRR: 0.1682448, NDCG: 0.0784000, F1: 0.0602692, HIT_RATE: 0.3611174, ARHR_ALL_HITS: 0.2075263, NOVELTY: 0.0033383, AVERAGE_POPULARITY: 0.2233182, DIVERSITY_MEAN_INTER_LIST: 0.9852342, DIVERSITY_HERFINDAHL: 0.9985207, COVERAGE_ITEM: 0.1028829, COVERAGE_ITEM_HIT: 0.0682039, ITEMS_IN_GT: 0.9962226, COVERAGE_USER: 0.9957466, COVERAGE_USER_HIT: 0.3595814, USERS_IN_GT: 0.9957466, DIVERSITY_GINI: 0.0230826, SHANNON_ENTROPY: 10.1581964, RATIO_DIVERSITY_HERFINDAHL: 0.9985784, RATIO_DIVERSITY_GINI: 0.0379436, RATIO_SHANNON_ENTROPY: 0.6881371, RATIO_AVERAGE_POPULARITY: 3.0117220, RATIO_NOVELTY: 0.2182315, \n",
      "\n",
      "IALSRecommender: Epoch 9 of 300. Elapsed time 2.35 hour\n",
      "IALSRecommender: Validation begins...\n",
      "EvaluatorHoldout: Processed 35584 (100.0%) in 21.34 sec. Users per second: 1668\n",
      "IALSRecommender: CUTOFF: 10 - PRECISION: 0.0555137, PRECISION_RECALL_MIN_DEN: 0.0802150, RECALL: 0.0660583, MAP: 0.0262007, MAP_MIN_DEN: 0.0372558, MRR: 0.1678879, NDCG: 0.0783502, F1: 0.0603287, HIT_RATE: 0.3617356, ARHR_ALL_HITS: 0.2071637, NOVELTY: 0.0033390, AVERAGE_POPULARITY: 0.2228472, DIVERSITY_MEAN_INTER_LIST: 0.9853011, DIVERSITY_HERFINDAHL: 0.9985273, COVERAGE_ITEM: 0.1031977, COVERAGE_ITEM_HIT: 0.0681776, ITEMS_IN_GT: 0.9962226, COVERAGE_USER: 0.9957466, COVERAGE_USER_HIT: 0.3601970, USERS_IN_GT: 0.9957466, DIVERSITY_GINI: 0.0231532, SHANNON_ENTROPY: 10.1630421, RATIO_DIVERSITY_HERFINDAHL: 0.9985851, RATIO_DIVERSITY_GINI: 0.0380597, RATIO_SHANNON_ENTROPY: 0.6884653, RATIO_AVERAGE_POPULARITY: 3.0053698, RATIO_NOVELTY: 0.2182786, \n",
      "\n",
      "IALSRecommender: Epoch 10 of 300. Elapsed time 2.39 hour\n",
      "IALSRecommender: Validation begins...\n",
      "EvaluatorHoldout: Processed 35584 (100.0%) in 21.65 sec. Users per second: 1643\n",
      "IALSRecommender: CUTOFF: 10 - PRECISION: 0.0554013, PRECISION_RECALL_MIN_DEN: 0.0800916, RECALL: 0.0659846, MAP: 0.0261928, MAP_MIN_DEN: 0.0372334, MRR: 0.1680068, NDCG: 0.0782961, F1: 0.0602316, HIT_RATE: 0.3613141, ARHR_ALL_HITS: 0.2072254, NOVELTY: 0.0033394, AVERAGE_POPULARITY: 0.2226552, DIVERSITY_MEAN_INTER_LIST: 0.9853272, DIVERSITY_HERFINDAHL: 0.9985300, COVERAGE_ITEM: 0.1033026, COVERAGE_ITEM_HIT: 0.0678366, ITEMS_IN_GT: 0.9962226, COVERAGE_USER: 0.9957466, COVERAGE_USER_HIT: 0.3597773, USERS_IN_GT: 0.9957466, DIVERSITY_GINI: 0.0231853, SHANNON_ENTROPY: 10.1650829, RATIO_DIVERSITY_HERFINDAHL: 0.9985877, RATIO_DIVERSITY_GINI: 0.0381125, RATIO_SHANNON_ENTROPY: 0.6886036, RATIO_AVERAGE_POPULARITY: 3.0027802, RATIO_NOVELTY: 0.2182996, \n",
      "\n",
      "IALSRecommender: Epoch 11 of 300. Elapsed time 2.43 hour\n",
      "IALSRecommender: Validation begins...\n",
      "EvaluatorHoldout: Processed 35584 (100.0%) in 21.60 sec. Users per second: 1648\n",
      "IALSRecommender: CUTOFF: 10 - PRECISION: 0.0554097, PRECISION_RECALL_MIN_DEN: 0.0801290, RECALL: 0.0660096, MAP: 0.0261446, MAP_MIN_DEN: 0.0371261, MRR: 0.1676701, NDCG: 0.0781862, F1: 0.0602470, HIT_RATE: 0.3611455, ARHR_ALL_HITS: 0.2068052, NOVELTY: 0.0033396, AVERAGE_POPULARITY: 0.2225059, DIVERSITY_MEAN_INTER_LIST: 0.9853544, DIVERSITY_HERFINDAHL: 0.9985327, COVERAGE_ITEM: 0.1034338, COVERAGE_ITEM_HIT: 0.0678891, ITEMS_IN_GT: 0.9962226, COVERAGE_USER: 0.9957466, COVERAGE_USER_HIT: 0.3596094, USERS_IN_GT: 0.9957466, DIVERSITY_GINI: 0.0232241, SHANNON_ENTROPY: 10.1675539, RATIO_DIVERSITY_HERFINDAHL: 0.9985904, RATIO_DIVERSITY_GINI: 0.0381762, RATIO_SHANNON_ENTROPY: 0.6887710, RATIO_AVERAGE_POPULARITY: 3.0007672, RATIO_NOVELTY: 0.2183157, \n",
      "\n",
      "IALSRecommender: Epoch 12 of 300. Elapsed time 2.47 hour\n",
      "IALSRecommender: Validation begins...\n",
      "EvaluatorHoldout: Processed 35584 (100.0%) in 21.66 sec. Users per second: 1643\n",
      "IALSRecommender: CUTOFF: 10 - PRECISION: 0.0553367, PRECISION_RECALL_MIN_DEN: 0.0800378, RECALL: 0.0659499, MAP: 0.0261121, MAP_MIN_DEN: 0.0370880, MRR: 0.1676604, NDCG: 0.0781215, F1: 0.0601789, HIT_RATE: 0.3612017, ARHR_ALL_HITS: 0.2066639, NOVELTY: 0.0033398, AVERAGE_POPULARITY: 0.2223527, DIVERSITY_MEAN_INTER_LIST: 0.9853714, DIVERSITY_HERFINDAHL: 0.9985344, COVERAGE_ITEM: 0.1034600, COVERAGE_ITEM_HIT: 0.0679416, ITEMS_IN_GT: 0.9962226, COVERAGE_USER: 0.9957466, COVERAGE_USER_HIT: 0.3596653, USERS_IN_GT: 0.9957466, DIVERSITY_GINI: 0.0232446, SHANNON_ENTROPY: 10.1688547, RATIO_DIVERSITY_HERFINDAHL: 0.9985921, RATIO_DIVERSITY_GINI: 0.0382099, RATIO_SHANNON_ENTROPY: 0.6888591, RATIO_AVERAGE_POPULARITY: 2.9987004, RATIO_NOVELTY: 0.2183315, \n",
      "\n",
      "IALSRecommender: Epoch 13 of 300. Elapsed time 2.51 hour\n",
      "IALSRecommender: Validation begins...\n",
      "EvaluatorHoldout: Processed 35584 (100.0%) in 21.60 sec. Users per second: 1648\n",
      "IALSRecommender: CUTOFF: 10 - PRECISION: 0.0554069, PRECISION_RECALL_MIN_DEN: 0.0800963, RECALL: 0.0659484, MAP: 0.0261171, MAP_MIN_DEN: 0.0370862, MRR: 0.1675995, NDCG: 0.0781401, F1: 0.0602198, HIT_RATE: 0.3614265, ARHR_ALL_HITS: 0.2066160, NOVELTY: 0.0033398, AVERAGE_POPULARITY: 0.2223561, DIVERSITY_MEAN_INTER_LIST: 0.9853687, DIVERSITY_HERFINDAHL: 0.9985341, COVERAGE_ITEM: 0.1034338, COVERAGE_ITEM_HIT: 0.0678629, ITEMS_IN_GT: 0.9962226, COVERAGE_USER: 0.9957466, COVERAGE_USER_HIT: 0.3598892, USERS_IN_GT: 0.9957466, DIVERSITY_GINI: 0.0232436, SHANNON_ENTROPY: 10.1687164, RATIO_DIVERSITY_HERFINDAHL: 0.9985918, RATIO_DIVERSITY_GINI: 0.0382082, RATIO_SHANNON_ENTROPY: 0.6888497, RATIO_AVERAGE_POPULARITY: 2.9987463, RATIO_NOVELTY: 0.2183312, \n",
      "\n",
      "IALSRecommender: Epoch 14 of 300. Elapsed time 2.55 hour\n",
      "IALSRecommender: Validation begins...\n",
      "EvaluatorHoldout: Processed 35584 (100.0%) in 22.52 sec. Users per second: 1580\n",
      "IALSRecommender: CUTOFF: 10 - PRECISION: 0.0554687, PRECISION_RECALL_MIN_DEN: 0.0801244, RECALL: 0.0659330, MAP: 0.0261459, MAP_MIN_DEN: 0.0371176, MRR: 0.1677035, NDCG: 0.0781937, F1: 0.0602499, HIT_RATE: 0.3615389, ARHR_ALL_HITS: 0.2067663, NOVELTY: 0.0033399, AVERAGE_POPULARITY: 0.2223126, DIVERSITY_MEAN_INTER_LIST: 0.9853746, DIVERSITY_HERFINDAHL: 0.9985347, COVERAGE_ITEM: 0.1033551, COVERAGE_ITEM_HIT: 0.0678104, ITEMS_IN_GT: 0.9962226, COVERAGE_USER: 0.9957466, COVERAGE_USER_HIT: 0.3600011, USERS_IN_GT: 0.9957466, DIVERSITY_GINI: 0.0232490, SHANNON_ENTROPY: 10.1691484, RATIO_DIVERSITY_HERFINDAHL: 0.9985924, RATIO_DIVERSITY_GINI: 0.0382172, RATIO_SHANNON_ENTROPY: 0.6888790, RATIO_AVERAGE_POPULARITY: 2.9981600, RATIO_NOVELTY: 0.2183368, \n",
      "\n",
      "IALSRecommender: Epoch 15 of 300. Elapsed time 2.59 hour\n",
      "IALSRecommender: Validation begins...\n",
      "EvaluatorHoldout: Processed 35584 (100.0%) in 21.86 sec. Users per second: 1628\n",
      "IALSRecommender: CUTOFF: 10 - PRECISION: 0.0553732, PRECISION_RECALL_MIN_DEN: 0.0800199, RECALL: 0.0658687, MAP: 0.0260960, MAP_MIN_DEN: 0.0370529, MRR: 0.1674562, NDCG: 0.0780775, F1: 0.0601667, HIT_RATE: 0.3610893, ARHR_ALL_HITS: 0.2064301, NOVELTY: 0.0033400, AVERAGE_POPULARITY: 0.2222767, DIVERSITY_MEAN_INTER_LIST: 0.9853771, DIVERSITY_HERFINDAHL: 0.9985349, COVERAGE_ITEM: 0.1034076, COVERAGE_ITEM_HIT: 0.0676530, ITEMS_IN_GT: 0.9962226, COVERAGE_USER: 0.9957466, COVERAGE_USER_HIT: 0.3595534, USERS_IN_GT: 0.9957466, DIVERSITY_GINI: 0.0232546, SHANNON_ENTROPY: 10.1694927, RATIO_DIVERSITY_HERFINDAHL: 0.9985927, RATIO_DIVERSITY_GINI: 0.0382263, RATIO_SHANNON_ENTROPY: 0.6889023, RATIO_AVERAGE_POPULARITY: 2.9976765, RATIO_NOVELTY: 0.2183412, \n",
      "\n",
      "IALSRecommender: Convergence reached! Terminating at epoch 16. Best value for 'MAP' at epoch 6 is 0.0263. Elapsed time 2.63 hour\n",
      "IALSRecommender: Epoch 16 of 300. Elapsed time 2.63 hour\n"
     ]
    }
   ],
   "source": [
    "from Recommenders.MatrixFactorization.IALSRecommenderOpt import IALSRecommender\n",
    "\n",
    "model = IALSRecommender(URM_train_validation)\n",
    "model.fit( epochs=300,\n",
    "        num_factors=130,\n",
    "        confidence_scaling=\"linear\",\n",
    "        alpha=1.0,\n",
    "        epsilon=1.0,\n",
    "        reg=1e-4,\n",
    "        validation_metric=\"MAP\",\n",
    "        stop_on_validation=True,\n",
    "        validation_every_n=1,\n",
    "        lower_validations_allowed=10,\n",
    "        evaluator=evaluator_test\n",
    "        )"
   ]
  },
  {
   "cell_type": "code",
   "execution_count": 27,
   "id": "59c1c6d1",
   "metadata": {},
   "outputs": [
    {
     "name": "stdout",
     "output_type": "stream",
     "text": [
      "num_factors:  140\n",
      "Using gpu: False\n"
     ]
    },
    {
     "name": "stderr",
     "output_type": "stream",
     "text": [
      "100%|██████████| 30/30 [00:57<00:00,  1.92s/it, loss=0.00175]\n"
     ]
    },
    {
     "name": "stdout",
     "output_type": "stream",
     "text": [
      "EvaluatorHoldout: Processed 35584 (100.0%) in 20.35 sec. Users per second: 1748\n",
      "0.02678637893256766\n",
      "num_factors:  150\n",
      "Using gpu: False\n"
     ]
    },
    {
     "name": "stderr",
     "output_type": "stream",
     "text": [
      "100%|██████████| 30/30 [01:14<00:00,  2.50s/it, loss=0.00174]\n"
     ]
    },
    {
     "name": "stdout",
     "output_type": "stream",
     "text": [
      "EvaluatorHoldout: Processed 35584 (100.0%) in 20.39 sec. Users per second: 1745\n",
      "0.027462935901278417\n",
      "num_factors:  160\n",
      "Using gpu: False\n"
     ]
    },
    {
     "name": "stderr",
     "output_type": "stream",
     "text": [
      "100%|██████████| 30/30 [01:16<00:00,  2.55s/it, loss=0.00173]\n"
     ]
    },
    {
     "name": "stdout",
     "output_type": "stream",
     "text": [
      "EvaluatorHoldout: Processed 35584 (100.0%) in 20.49 sec. Users per second: 1737\n",
      "0.028029678935422384\n",
      "num_factors:  170\n",
      "Using gpu: False\n"
     ]
    },
    {
     "name": "stderr",
     "output_type": "stream",
     "text": [
      "100%|██████████| 30/30 [01:33<00:00,  3.12s/it, loss=0.00172]\n"
     ]
    },
    {
     "name": "stdout",
     "output_type": "stream",
     "text": [
      "EvaluatorHoldout: Processed 35584 (100.0%) in 20.58 sec. Users per second: 1729\n",
      "0.028511782092182827\n",
      "num_factors:  180\n",
      "Using gpu: False\n"
     ]
    },
    {
     "name": "stderr",
     "output_type": "stream",
     "text": [
      "100%|██████████| 30/30 [01:43<00:00,  3.46s/it, loss=0.00171]\n"
     ]
    },
    {
     "name": "stdout",
     "output_type": "stream",
     "text": [
      "EvaluatorHoldout: Processed 35584 (100.0%) in 20.87 sec. Users per second: 1705\n",
      "0.029059199069315297\n",
      "num_factors:  190\n",
      "Using gpu: False\n"
     ]
    },
    {
     "name": "stderr",
     "output_type": "stream",
     "text": [
      "100%|██████████| 30/30 [01:55<00:00,  3.85s/it, loss=0.0017]\n"
     ]
    },
    {
     "name": "stdout",
     "output_type": "stream",
     "text": [
      "EvaluatorHoldout: Processed 35584 (100.0%) in 21.08 sec. Users per second: 1688\n",
      "0.029435462790481072\n",
      "num_factors:  200\n",
      "Using gpu: False\n"
     ]
    },
    {
     "name": "stderr",
     "output_type": "stream",
     "text": [
      "100%|██████████| 30/30 [08:23<00:00, 16.79s/it, loss=0.00169]\n"
     ]
    },
    {
     "name": "stdout",
     "output_type": "stream",
     "text": [
      "EvaluatorHoldout: Processed 35584 (100.0%) in 20.76 sec. Users per second: 1714\n",
      "0.029921365363065874\n",
      "num_factors:  210\n",
      "Using gpu: False\n"
     ]
    },
    {
     "name": "stderr",
     "output_type": "stream",
     "text": [
      "100%|██████████| 30/30 [08:18<00:00, 16.61s/it, loss=0.00168]\n"
     ]
    },
    {
     "name": "stdout",
     "output_type": "stream",
     "text": [
      "EvaluatorHoldout: Processed 35584 (100.0%) in 20.92 sec. Users per second: 1701\n",
      "0.030414706181482405\n",
      "num_factors:  220\n",
      "Using gpu: False\n"
     ]
    },
    {
     "name": "stderr",
     "output_type": "stream",
     "text": [
      "100%|██████████| 30/30 [08:24<00:00, 16.82s/it, loss=0.00168]\n"
     ]
    },
    {
     "name": "stdout",
     "output_type": "stream",
     "text": [
      "EvaluatorHoldout: Processed 35584 (100.0%) in 21.01 sec. Users per second: 1694\n",
      "0.030718095166722838\n",
      "num_factors:  230\n",
      "Using gpu: False\n"
     ]
    },
    {
     "name": "stderr",
     "output_type": "stream",
     "text": [
      "100%|██████████| 30/30 [08:39<00:00, 17.32s/it, loss=0.00167]\n"
     ]
    },
    {
     "name": "stdout",
     "output_type": "stream",
     "text": [
      "EvaluatorHoldout: Processed 35584 (100.0%) in 20.80 sec. Users per second: 1711\n",
      "0.031145153073968517\n",
      "num_factors:  240\n",
      "Using gpu: False\n"
     ]
    },
    {
     "name": "stderr",
     "output_type": "stream",
     "text": [
      "100%|██████████| 30/30 [14:23<00:00, 28.80s/it, loss=0.00166]\n"
     ]
    },
    {
     "name": "stdout",
     "output_type": "stream",
     "text": [
      "EvaluatorHoldout: Processed 35584 (100.0%) in 21.57 sec. Users per second: 1650\n",
      "0.0315771958326186\n",
      "num_factors:  250\n",
      "Using gpu: False\n"
     ]
    },
    {
     "name": "stderr",
     "output_type": "stream",
     "text": [
      "100%|██████████| 30/30 [08:34<00:00, 17.15s/it, loss=0.00165]\n"
     ]
    },
    {
     "name": "stdout",
     "output_type": "stream",
     "text": [
      "EvaluatorHoldout: Processed 35584 (100.0%) in 21.48 sec. Users per second: 1656\n",
      "0.031862899189575966\n",
      "num_factors:  260\n",
      "Using gpu: False\n"
     ]
    },
    {
     "name": "stderr",
     "output_type": "stream",
     "text": [
      "100%|██████████| 30/30 [09:06<00:00, 18.22s/it, loss=0.00164]\n"
     ]
    },
    {
     "name": "stdout",
     "output_type": "stream",
     "text": [
      "EvaluatorHoldout: Processed 35584 (100.0%) in 21.67 sec. Users per second: 1642\n",
      "0.032209611774865\n",
      "num_factors:  270\n",
      "Using gpu: False\n"
     ]
    },
    {
     "name": "stderr",
     "output_type": "stream",
     "text": [
      "100%|██████████| 30/30 [09:17<00:00, 18.58s/it, loss=0.00164]\n"
     ]
    },
    {
     "name": "stdout",
     "output_type": "stream",
     "text": [
      "EvaluatorHoldout: Processed 35584 (100.0%) in 21.78 sec. Users per second: 1634\n",
      "0.032538638731870566\n",
      "num_factors:  280\n",
      "Using gpu: False\n"
     ]
    },
    {
     "name": "stderr",
     "output_type": "stream",
     "text": [
      "100%|██████████| 30/30 [10:12<00:00, 20.41s/it, loss=0.00163]\n"
     ]
    },
    {
     "name": "stdout",
     "output_type": "stream",
     "text": [
      "EvaluatorHoldout: Processed 35584 (100.0%) in 22.11 sec. Users per second: 1609\n",
      "0.03288660700903469\n",
      "num_factors:  290\n",
      "Using gpu: False\n"
     ]
    },
    {
     "name": "stderr",
     "output_type": "stream",
     "text": [
      "100%|██████████| 30/30 [09:53<00:00, 19.78s/it, loss=0.00162]\n"
     ]
    },
    {
     "name": "stdout",
     "output_type": "stream",
     "text": [
      "EvaluatorHoldout: Processed 35584 (100.0%) in 21.86 sec. Users per second: 1628\n",
      "0.0331486284186927\n",
      "num_factors:  300\n",
      "Using gpu: False\n"
     ]
    },
    {
     "name": "stderr",
     "output_type": "stream",
     "text": [
      "100%|██████████| 30/30 [09:42<00:00, 19.40s/it, loss=0.00161]\n"
     ]
    },
    {
     "name": "stdout",
     "output_type": "stream",
     "text": [
      "EvaluatorHoldout: Processed 35584 (100.0%) in 21.47 sec. Users per second: 1658\n",
      "0.03342215067231828\n",
      "num_factors:  310\n",
      "Using gpu: False\n"
     ]
    },
    {
     "name": "stderr",
     "output_type": "stream",
     "text": [
      "100%|██████████| 30/30 [08:51<00:00, 17.72s/it, loss=0.00161]\n"
     ]
    },
    {
     "name": "stdout",
     "output_type": "stream",
     "text": [
      "EvaluatorHoldout: Processed 35584 (100.0%) in 21.49 sec. Users per second: 1656\n",
      "0.0337946004803291\n",
      "num_factors:  320\n",
      "Using gpu: False\n"
     ]
    },
    {
     "name": "stderr",
     "output_type": "stream",
     "text": [
      "100%|██████████| 30/30 [13:08<00:00, 26.27s/it, loss=0.0016] \n"
     ]
    },
    {
     "name": "stdout",
     "output_type": "stream",
     "text": [
      "EvaluatorHoldout: Processed 35584 (100.0%) in 21.54 sec. Users per second: 1652\n",
      "0.03412420063948748\n",
      "num_factors:  330\n",
      "Using gpu: False\n"
     ]
    },
    {
     "name": "stderr",
     "output_type": "stream",
     "text": [
      "100%|██████████| 30/30 [09:02<00:00, 18.09s/it, loss=0.00159]\n"
     ]
    },
    {
     "name": "stdout",
     "output_type": "stream",
     "text": [
      "EvaluatorHoldout: Processed 35584 (100.0%) in 22.30 sec. Users per second: 1596\n",
      "0.03436945086787614\n"
     ]
    }
   ],
   "source": [
    "from Recommenders.MatrixFactorization.IALSJ import ImplicitALSRecommender\n",
    "\n",
    "for i in range(20):\n",
    "        print(\"num_factors: \", 140+i*10)\n",
    "        model = ImplicitALSRecommender(URM_train_validation)\n",
    "        model.fit( epochs=30,\n",
    "                num_factors=140+i*10,\n",
    "                confidence_scaling=\"linear\",\n",
    "                alpha=1.0,\n",
    "                epsilon=1.0,\n",
    "                reg=1e-4,\n",
    "                use_gpu=False,\n",
    "                num_threads=8,\n",
    "                calculate_training_loss=True\n",
    "                )\n",
    "        result_df, _ = evaluator_test.evaluateRecommender(model)\n",
    "        print(result_df.loc[10][\"MAP\"])"
   ]
  },
  {
   "cell_type": "code",
   "execution_count": 38,
   "id": "6c608308",
   "metadata": {},
   "outputs": [
    {
     "name": "stdout",
     "output_type": "stream",
     "text": [
      "num_factors:  550\n",
      "Using gpu: False\n"
     ]
    },
    {
     "name": "stderr",
     "output_type": "stream",
     "text": [
      "100%|██████████| 30/30 [11:14<00:00, 22.48s/it, loss=0.00146]\n"
     ]
    },
    {
     "name": "stdout",
     "output_type": "stream",
     "text": [
      "EvaluatorHoldout: Processed 35584 (100.0%) in 23.43 sec. Users per second: 1519\n",
      "0.03819559642464449\n",
      "num_factors:  600\n",
      "Using gpu: False\n"
     ]
    },
    {
     "name": "stderr",
     "output_type": "stream",
     "text": [
      "100%|██████████| 30/30 [11:36<00:00, 23.22s/it, loss=0.00144]\n"
     ]
    },
    {
     "name": "stdout",
     "output_type": "stream",
     "text": [
      "EvaluatorHoldout: Processed 35584 (100.0%) in 24.60 sec. Users per second: 1447\n",
      "0.0388256035796351\n",
      "num_factors:  650\n",
      "Using gpu: False\n"
     ]
    },
    {
     "name": "stderr",
     "output_type": "stream",
     "text": [
      "100%|██████████| 30/30 [12:06<00:00, 24.21s/it, loss=0.00141]\n"
     ]
    },
    {
     "name": "stdout",
     "output_type": "stream",
     "text": [
      "EvaluatorHoldout: Processed 35584 (100.0%) in 23.66 sec. Users per second: 1504\n",
      "0.039491060053741533\n",
      "num_factors:  700\n",
      "Using gpu: False\n"
     ]
    },
    {
     "name": "stderr",
     "output_type": "stream",
     "text": [
      "100%|██████████| 30/30 [12:52<00:00, 25.74s/it, loss=0.00139]\n"
     ]
    },
    {
     "name": "stdout",
     "output_type": "stream",
     "text": [
      "EvaluatorHoldout: Processed 35584 (100.0%) in 24.47 sec. Users per second: 1454\n",
      "0.04004709067567238\n",
      "num_factors:  750\n",
      "Using gpu: False\n"
     ]
    },
    {
     "name": "stderr",
     "output_type": "stream",
     "text": [
      "100%|██████████| 30/30 [12:30<00:00, 25.03s/it, loss=0.00137]\n"
     ]
    },
    {
     "name": "stdout",
     "output_type": "stream",
     "text": [
      "EvaluatorHoldout: Processed 35584 (100.0%) in 24.56 sec. Users per second: 1449\n",
      "0.04058737496609714\n",
      "num_factors:  800\n",
      "Using gpu: False\n"
     ]
    },
    {
     "name": "stderr",
     "output_type": "stream",
     "text": [
      "100%|██████████| 30/30 [12:24<00:00, 24.82s/it, loss=0.00135]\n"
     ]
    },
    {
     "name": "stdout",
     "output_type": "stream",
     "text": [
      "EvaluatorHoldout: Processed 35584 (100.0%) in 25.14 sec. Users per second: 1415\n",
      "0.04100068048239851\n",
      "num_factors:  850\n",
      "Using gpu: False\n"
     ]
    },
    {
     "name": "stderr",
     "output_type": "stream",
     "text": [
      "100%|██████████| 30/30 [13:38<00:00, 27.28s/it, loss=0.00133]\n"
     ]
    },
    {
     "name": "stdout",
     "output_type": "stream",
     "text": [
      "EvaluatorHoldout: Processed 35584 (100.0%) in 25.41 sec. Users per second: 1400\n",
      "0.04146098299931332\n",
      "num_factors:  900\n",
      "Using gpu: False\n"
     ]
    },
    {
     "name": "stderr",
     "output_type": "stream",
     "text": [
      "100%|██████████| 30/30 [13:08<00:00, 26.29s/it, loss=0.00131]\n"
     ]
    },
    {
     "name": "stdout",
     "output_type": "stream",
     "text": [
      "EvaluatorHoldout: Processed 35584 (100.0%) in 25.76 sec. Users per second: 1381\n",
      "0.04185049505038678\n",
      "num_factors:  950\n",
      "Using gpu: False\n"
     ]
    },
    {
     "name": "stderr",
     "output_type": "stream",
     "text": [
      "100%|██████████| 30/30 [14:34<00:00, 29.15s/it, loss=0.00129]\n"
     ]
    },
    {
     "name": "stdout",
     "output_type": "stream",
     "text": [
      "EvaluatorHoldout: Processed 35584 (100.0%) in 25.63 sec. Users per second: 1389\n",
      "0.04215939525165414\n",
      "num_factors:  1000\n",
      "Using gpu: False\n"
     ]
    },
    {
     "name": "stderr",
     "output_type": "stream",
     "text": [
      "100%|██████████| 30/30 [15:09<00:00, 30.32s/it, loss=0.00127]\n"
     ]
    },
    {
     "name": "stdout",
     "output_type": "stream",
     "text": [
      "EvaluatorHoldout: Processed 35584 (100.0%) in 26.61 sec. Users per second: 1337\n",
      "0.04239379478559846\n",
      "num_factors:  1050\n",
      "Using gpu: False\n"
     ]
    },
    {
     "name": "stderr",
     "output_type": "stream",
     "text": [
      "100%|██████████| 30/30 [15:21<00:00, 30.72s/it, loss=0.00125]\n"
     ]
    },
    {
     "name": "stdout",
     "output_type": "stream",
     "text": [
      "EvaluatorHoldout: Processed 35584 (100.0%) in 27.45 sec. Users per second: 1296\n",
      "0.04270965816632254\n",
      "num_factors:  1100\n",
      "Using gpu: False\n"
     ]
    },
    {
     "name": "stderr",
     "output_type": "stream",
     "text": [
      "100%|██████████| 30/30 [18:28<00:00, 36.94s/it, loss=0.00123]\n"
     ]
    },
    {
     "name": "stdout",
     "output_type": "stream",
     "text": [
      "EvaluatorHoldout: Processed 35584 (100.0%) in 28.19 sec. Users per second: 1262\n",
      "0.0429559176319643\n",
      "num_factors:  1150\n",
      "Using gpu: False\n"
     ]
    },
    {
     "name": "stderr",
     "output_type": "stream",
     "text": [
      "100%|██████████| 30/30 [16:55<00:00, 33.86s/it, loss=0.00121]\n"
     ]
    },
    {
     "name": "stdout",
     "output_type": "stream",
     "text": [
      "EvaluatorHoldout: Processed 35584 (100.0%) in 27.56 sec. Users per second: 1291\n",
      "0.043249520918977664\n",
      "num_factors:  1200\n",
      "Using gpu: False\n"
     ]
    },
    {
     "name": "stderr",
     "output_type": "stream",
     "text": [
      "100%|██████████| 30/30 [18:14<00:00, 36.49s/it, loss=0.0012]\n"
     ]
    },
    {
     "name": "stdout",
     "output_type": "stream",
     "text": [
      "EvaluatorHoldout: Processed 35584 (100.0%) in 28.72 sec. Users per second: 1239\n",
      "0.043451903655645344\n",
      "num_factors:  1250\n",
      "Using gpu: False\n"
     ]
    },
    {
     "name": "stderr",
     "output_type": "stream",
     "text": [
      "100%|██████████| 30/30 [18:48<00:00, 37.63s/it, loss=0.00118]\n"
     ]
    },
    {
     "name": "stdout",
     "output_type": "stream",
     "text": [
      "EvaluatorHoldout: Processed 35584 (100.0%) in 28.50 sec. Users per second: 1248\n",
      "0.04360099308945549\n",
      "num_factors:  1300\n",
      "Using gpu: False\n"
     ]
    },
    {
     "name": "stderr",
     "output_type": "stream",
     "text": [
      "100%|██████████| 30/30 [18:58<00:00, 37.95s/it, loss=0.00116]\n"
     ]
    },
    {
     "name": "stdout",
     "output_type": "stream",
     "text": [
      "EvaluatorHoldout: Processed 35584 (100.0%) in 27.84 sec. Users per second: 1278\n",
      "0.04381769026742745\n",
      "num_factors:  1350\n",
      "Using gpu: False\n"
     ]
    },
    {
     "name": "stderr",
     "output_type": "stream",
     "text": [
      "100%|██████████| 30/30 [19:40<00:00, 39.36s/it, loss=0.00115]\n"
     ]
    },
    {
     "name": "stdout",
     "output_type": "stream",
     "text": [
      "EvaluatorHoldout: Processed 35584 (100.0%) in 28.12 sec. Users per second: 1265\n",
      "0.044102673218566486\n",
      "num_factors:  1400\n",
      "Using gpu: False\n"
     ]
    },
    {
     "name": "stderr",
     "output_type": "stream",
     "text": [
      "100%|██████████| 30/30 [19:51<00:00, 39.72s/it, loss=0.00113]\n"
     ]
    },
    {
     "name": "stdout",
     "output_type": "stream",
     "text": [
      "EvaluatorHoldout: Processed 35584 (100.0%) in 28.57 sec. Users per second: 1246\n",
      "0.04423395100883417\n",
      "num_factors:  1450\n",
      "Using gpu: False\n"
     ]
    },
    {
     "name": "stderr",
     "output_type": "stream",
     "text": [
      "100%|██████████| 30/30 [20:54<00:00, 41.82s/it, loss=0.00112]\n"
     ]
    },
    {
     "name": "stdout",
     "output_type": "stream",
     "text": [
      "EvaluatorHoldout: Processed 35584 (100.0%) in 29.77 sec. Users per second: 1195\n",
      "0.044269846399664345\n",
      "num_factors:  1500\n",
      "Using gpu: False\n"
     ]
    },
    {
     "name": "stderr",
     "output_type": "stream",
     "text": [
      "100%|██████████| 30/30 [21:20<00:00, 42.69s/it, loss=0.0011] \n"
     ]
    },
    {
     "name": "stdout",
     "output_type": "stream",
     "text": [
      "EvaluatorHoldout: Processed 35584 (100.0%) in 29.84 sec. Users per second: 1193\n",
      "0.04452927167194644\n",
      "num_factors:  1550\n",
      "Using gpu: False\n"
     ]
    },
    {
     "name": "stderr",
     "output_type": "stream",
     "text": [
      "100%|██████████| 30/30 [22:42<00:00, 45.42s/it, loss=0.00109]\n"
     ]
    },
    {
     "name": "stdout",
     "output_type": "stream",
     "text": [
      "EvaluatorHoldout: Processed 35584 (100.0%) in 29.76 sec. Users per second: 1196\n",
      "0.044734790292764066\n",
      "num_factors:  1600\n",
      "Using gpu: False\n"
     ]
    },
    {
     "name": "stderr",
     "output_type": "stream",
     "text": [
      "100%|██████████| 30/30 [23:04<00:00, 46.15s/it, loss=0.00108]\n"
     ]
    },
    {
     "name": "stdout",
     "output_type": "stream",
     "text": [
      "EvaluatorHoldout: Processed 35584 (100.0%) in 30.84 sec. Users per second: 1154\n",
      "0.04483447951460103\n",
      "num_factors:  1650\n",
      "Using gpu: False\n"
     ]
    },
    {
     "name": "stderr",
     "output_type": "stream",
     "text": [
      "100%|██████████| 30/30 [25:05<00:00, 50.19s/it, loss=0.00106]\n"
     ]
    },
    {
     "name": "stdout",
     "output_type": "stream",
     "text": [
      "EvaluatorHoldout: Processed 35584 (100.0%) in 31.37 sec. Users per second: 1134\n",
      "0.04501396092946883\n",
      "num_factors:  1700\n",
      "Using gpu: False\n"
     ]
    },
    {
     "name": "stderr",
     "output_type": "stream",
     "text": [
      "100%|██████████| 30/30 [58:19<00:00, 116.65s/it, loss=0.00105]\n"
     ]
    },
    {
     "name": "stdout",
     "output_type": "stream",
     "text": [
      "EvaluatorHoldout: Processed 35584 (100.0%) in 32.06 sec. Users per second: 1110\n",
      "0.04511794247637427\n",
      "num_factors:  1750\n",
      "Using gpu: False\n"
     ]
    },
    {
     "name": "stderr",
     "output_type": "stream",
     "text": [
      "100%|██████████| 30/30 [26:43<00:00, 53.45s/it, loss=0.00104]\n"
     ]
    },
    {
     "name": "stdout",
     "output_type": "stream",
     "text": [
      "EvaluatorHoldout: Processed 35584 (100.0%) in 29.13 sec. Users per second: 1221\n",
      "0.04529534408187569\n",
      "num_factors:  1800\n",
      "Using gpu: False\n"
     ]
    },
    {
     "name": "stderr",
     "output_type": "stream",
     "text": [
      "100%|██████████| 30/30 [26:11<00:00, 52.39s/it, loss=0.00102]\n"
     ]
    },
    {
     "name": "stdout",
     "output_type": "stream",
     "text": [
      "EvaluatorHoldout: Processed 35584 (100.0%) in 31.13 sec. Users per second: 1143\n",
      "0.045334979784028374\n",
      "num_factors:  1850\n",
      "Using gpu: False\n"
     ]
    },
    {
     "name": "stderr",
     "output_type": "stream",
     "text": [
      "100%|██████████| 30/30 [1:16:31<00:00, 153.05s/it, loss=0.00101]  \n"
     ]
    },
    {
     "name": "stdout",
     "output_type": "stream",
     "text": [
      "EvaluatorHoldout: Processed 35584 (100.0%) in 30.26 sec. Users per second: 1176\n",
      "0.04540616725369543\n",
      "num_factors:  1900\n",
      "Using gpu: False\n"
     ]
    },
    {
     "name": "stderr",
     "output_type": "stream",
     "text": [
      "100%|██████████| 30/30 [29:08<00:00, 58.27s/it, loss=0.001]  \n"
     ]
    },
    {
     "name": "stdout",
     "output_type": "stream",
     "text": [
      "EvaluatorHoldout: Processed 35584 (100.0%) in 30.18 sec. Users per second: 1179\n",
      "0.04552635347079324\n",
      "num_factors:  1950\n",
      "Using gpu: False\n"
     ]
    },
    {
     "name": "stderr",
     "output_type": "stream",
     "text": [
      "100%|██████████| 30/30 [30:04<00:00, 60.17s/it, loss=0.000988]\n"
     ]
    },
    {
     "name": "stdout",
     "output_type": "stream",
     "text": [
      "EvaluatorHoldout: Processed 35584 (100.0%) in 29.69 sec. Users per second: 1199\n",
      "0.04565488680484021\n",
      "num_factors:  2000\n",
      "Using gpu: False\n"
     ]
    },
    {
     "name": "stderr",
     "output_type": "stream",
     "text": [
      "100%|██████████| 30/30 [30:23<00:00, 60.77s/it, loss=0.000976]\n"
     ]
    },
    {
     "name": "stdout",
     "output_type": "stream",
     "text": [
      "EvaluatorHoldout: Processed 35584 (100.0%) in 30.51 sec. Users per second: 1166\n",
      "0.04564001365871425\n",
      "num_factors:  2050\n",
      "Using gpu: False\n"
     ]
    },
    {
     "name": "stderr",
     "output_type": "stream",
     "text": [
      "100%|██████████| 30/30 [32:51<00:00, 65.73s/it, loss=0.000964]\n"
     ]
    },
    {
     "name": "stdout",
     "output_type": "stream",
     "text": [
      "EvaluatorHoldout: Processed 35584 (100.0%) in 32.63 sec. Users per second: 1091\n",
      "0.04573662833126206\n",
      "num_factors:  2100\n",
      "Using gpu: False\n"
     ]
    },
    {
     "name": "stderr",
     "output_type": "stream",
     "text": [
      " 27%|██▋       | 8/30 [10:02<27:38, 75.37s/it, loss=0.000962]\n"
     ]
    },
    {
     "ename": "KeyboardInterrupt",
     "evalue": "",
     "output_type": "error",
     "traceback": [
      "\u001b[0;31m---------------------------------------------------------------------------\u001b[0m",
      "\u001b[0;31mKeyboardInterrupt\u001b[0m                         Traceback (most recent call last)",
      "Cell \u001b[0;32mIn[38], line 6\u001b[0m\n\u001b[1;32m      4\u001b[0m \u001b[38;5;28mprint\u001b[39m(\u001b[38;5;124m\"\u001b[39m\u001b[38;5;124mnum_factors: \u001b[39m\u001b[38;5;124m\"\u001b[39m, \u001b[38;5;241m550\u001b[39m\u001b[38;5;241m+\u001b[39mi\u001b[38;5;241m*\u001b[39m\u001b[38;5;241m50\u001b[39m)\n\u001b[1;32m      5\u001b[0m model \u001b[38;5;241m=\u001b[39m ImplicitALSRecommender(URM_train_validation)\n\u001b[0;32m----> 6\u001b[0m \u001b[43mmodel\u001b[49m\u001b[38;5;241;43m.\u001b[39;49m\u001b[43mfit\u001b[49m\u001b[43m(\u001b[49m\u001b[43m \u001b[49m\u001b[43mepochs\u001b[49m\u001b[38;5;241;43m=\u001b[39;49m\u001b[38;5;241;43m30\u001b[39;49m\u001b[43m,\u001b[49m\n\u001b[1;32m      7\u001b[0m \u001b[43m        \u001b[49m\u001b[43mnum_factors\u001b[49m\u001b[38;5;241;43m=\u001b[39;49m\u001b[38;5;241;43m550\u001b[39;49m\u001b[38;5;241;43m+\u001b[39;49m\u001b[43mi\u001b[49m\u001b[38;5;241;43m*\u001b[39;49m\u001b[38;5;241;43m50\u001b[39;49m\u001b[43m,\u001b[49m\n\u001b[1;32m      8\u001b[0m \u001b[43m        \u001b[49m\u001b[43mconfidence_scaling\u001b[49m\u001b[38;5;241;43m=\u001b[39;49m\u001b[38;5;124;43m\"\u001b[39;49m\u001b[38;5;124;43mlinear\u001b[39;49m\u001b[38;5;124;43m\"\u001b[39;49m\u001b[43m,\u001b[49m\n\u001b[1;32m      9\u001b[0m \u001b[43m        \u001b[49m\u001b[43malpha\u001b[49m\u001b[38;5;241;43m=\u001b[39;49m\u001b[38;5;241;43m1.0\u001b[39;49m\u001b[43m,\u001b[49m\n\u001b[1;32m     10\u001b[0m \u001b[43m        \u001b[49m\u001b[43mepsilon\u001b[49m\u001b[38;5;241;43m=\u001b[39;49m\u001b[38;5;241;43m1.0\u001b[39;49m\u001b[43m,\u001b[49m\n\u001b[1;32m     11\u001b[0m \u001b[43m        \u001b[49m\u001b[43mreg\u001b[49m\u001b[38;5;241;43m=\u001b[39;49m\u001b[38;5;241;43m1e-4\u001b[39;49m\u001b[43m,\u001b[49m\n\u001b[1;32m     12\u001b[0m \u001b[43m        \u001b[49m\u001b[43muse_gpu\u001b[49m\u001b[38;5;241;43m=\u001b[39;49m\u001b[38;5;28;43;01mFalse\u001b[39;49;00m\u001b[43m,\u001b[49m\n\u001b[1;32m     13\u001b[0m \u001b[43m        \u001b[49m\u001b[43mnum_threads\u001b[49m\u001b[38;5;241;43m=\u001b[39;49m\u001b[38;5;241;43m8\u001b[39;49m\u001b[43m,\u001b[49m\n\u001b[1;32m     14\u001b[0m \u001b[43m        \u001b[49m\u001b[43mcalculate_training_loss\u001b[49m\u001b[38;5;241;43m=\u001b[39;49m\u001b[38;5;28;43;01mTrue\u001b[39;49;00m\n\u001b[1;32m     15\u001b[0m \u001b[43m        \u001b[49m\u001b[43m)\u001b[49m\n\u001b[1;32m     16\u001b[0m result_df, _ \u001b[38;5;241m=\u001b[39m evaluator_test\u001b[38;5;241m.\u001b[39mevaluateRecommender(model)\n\u001b[1;32m     17\u001b[0m \u001b[38;5;28mprint\u001b[39m(result_df\u001b[38;5;241m.\u001b[39mloc[\u001b[38;5;241m10\u001b[39m][\u001b[38;5;124m\"\u001b[39m\u001b[38;5;124mMAP\u001b[39m\u001b[38;5;124m\"\u001b[39m])\n",
      "File \u001b[0;32m~/Desktop/RecSys_Course_AT_PoliMi-master/Recommenders/MatrixFactorization/IALSJ.py:57\u001b[0m, in \u001b[0;36mImplicitALSRecommender.fit\u001b[0;34m(self, num_factors, reg, use_native, use_cg, use_gpu, epochs, calculate_training_loss, num_threads, alpha, epsilon, confidence_scaling)\u001b[0m\n\u001b[1;32m     50\u001b[0m conf_scale \u001b[38;5;241m=\u001b[39m linear_scaling_confidence \u001b[38;5;28;01mif\u001b[39;00m confidence_scaling\u001b[38;5;241m==\u001b[39m\u001b[38;5;124m\"\u001b[39m\u001b[38;5;124mlinear\u001b[39m\u001b[38;5;124m\"\u001b[39m \u001b[38;5;28;01melse\u001b[39;00m log_scaling_confidence\n\u001b[1;32m     52\u001b[0m \u001b[38;5;28mself\u001b[39m\u001b[38;5;241m.\u001b[39mrec \u001b[38;5;241m=\u001b[39m implicit\u001b[38;5;241m.\u001b[39mals\u001b[38;5;241m.\u001b[39mAlternatingLeastSquares(factors\u001b[38;5;241m=\u001b[39mnum_factors, regularization\u001b[38;5;241m=\u001b[39mreg,\n\u001b[1;32m     53\u001b[0m                                                 use_native\u001b[38;5;241m=\u001b[39muse_native, use_cg\u001b[38;5;241m=\u001b[39muse_cg, use_gpu\u001b[38;5;241m=\u001b[39muse_gpu,\n\u001b[1;32m     54\u001b[0m                                                 iterations\u001b[38;5;241m=\u001b[39mepochs,\n\u001b[1;32m     55\u001b[0m                                                 calculate_training_loss\u001b[38;5;241m=\u001b[39mcalculate_training_loss,\n\u001b[1;32m     56\u001b[0m                                                 num_threads\u001b[38;5;241m=\u001b[39mnum_threads)\n\u001b[0;32m---> 57\u001b[0m \u001b[38;5;28;43mself\u001b[39;49m\u001b[38;5;241;43m.\u001b[39;49m\u001b[43mrec\u001b[49m\u001b[38;5;241;43m.\u001b[39;49m\u001b[43mfit\u001b[49m\u001b[43m(\u001b[49m\u001b[43mconf_scale\u001b[49m\u001b[43m(\u001b[49m\u001b[38;5;28;43mself\u001b[39;49m\u001b[38;5;241;43m.\u001b[39;49m\u001b[43mURM_train\u001b[49m\u001b[43m,\u001b[49m\u001b[43m \u001b[49m\u001b[43malpha\u001b[49m\u001b[43m,\u001b[49m\u001b[43m \u001b[49m\u001b[43mepsilon\u001b[49m\u001b[43m)\u001b[49m\u001b[43m,\u001b[49m\u001b[43m \u001b[49m\u001b[43mshow_progress\u001b[49m\u001b[38;5;241;43m=\u001b[39;49m\u001b[38;5;28;43mself\u001b[39;49m\u001b[38;5;241;43m.\u001b[39;49m\u001b[43mverbose\u001b[49m\u001b[43m)\u001b[49m\n\u001b[1;32m     59\u001b[0m \u001b[38;5;28;01mif\u001b[39;00m(use_gpu):\n\u001b[1;32m     60\u001b[0m     \u001b[38;5;28mself\u001b[39m\u001b[38;5;241m.\u001b[39mrec \u001b[38;5;241m=\u001b[39m \u001b[38;5;28mself\u001b[39m\u001b[38;5;241m.\u001b[39mrec\u001b[38;5;241m.\u001b[39mto_cpu()\n",
      "File \u001b[0;32m/opt/anaconda3/envs/RecSysPD/lib/python3.8/site-packages/implicit/cpu/als.py:170\u001b[0m, in \u001b[0;36mAlternatingLeastSquares.fit\u001b[0;34m(self, user_items, show_progress, callback)\u001b[0m\n\u001b[1;32m    162\u001b[0m s \u001b[38;5;241m=\u001b[39m time\u001b[38;5;241m.\u001b[39mtime()\n\u001b[1;32m    163\u001b[0m solver(\n\u001b[1;32m    164\u001b[0m     Cui,\n\u001b[1;32m    165\u001b[0m     \u001b[38;5;28mself\u001b[39m\u001b[38;5;241m.\u001b[39muser_factors,\n\u001b[0;32m   (...)\u001b[0m\n\u001b[1;32m    168\u001b[0m     num_threads\u001b[38;5;241m=\u001b[39m\u001b[38;5;28mself\u001b[39m\u001b[38;5;241m.\u001b[39mnum_threads,\n\u001b[1;32m    169\u001b[0m )\n\u001b[0;32m--> 170\u001b[0m \u001b[43msolver\u001b[49m\u001b[43m(\u001b[49m\n\u001b[1;32m    171\u001b[0m \u001b[43m    \u001b[49m\u001b[43mCiu\u001b[49m\u001b[43m,\u001b[49m\n\u001b[1;32m    172\u001b[0m \u001b[43m    \u001b[49m\u001b[38;5;28;43mself\u001b[39;49m\u001b[38;5;241;43m.\u001b[39;49m\u001b[43mitem_factors\u001b[49m\u001b[43m,\u001b[49m\n\u001b[1;32m    173\u001b[0m \u001b[43m    \u001b[49m\u001b[38;5;28;43mself\u001b[39;49m\u001b[38;5;241;43m.\u001b[39;49m\u001b[43muser_factors\u001b[49m\u001b[43m,\u001b[49m\n\u001b[1;32m    174\u001b[0m \u001b[43m    \u001b[49m\u001b[38;5;28;43mself\u001b[39;49m\u001b[38;5;241;43m.\u001b[39;49m\u001b[43mregularization\u001b[49m\u001b[43m,\u001b[49m\n\u001b[1;32m    175\u001b[0m \u001b[43m    \u001b[49m\u001b[43mnum_threads\u001b[49m\u001b[38;5;241;43m=\u001b[39;49m\u001b[38;5;28;43mself\u001b[39;49m\u001b[38;5;241;43m.\u001b[39;49m\u001b[43mnum_threads\u001b[49m\u001b[43m,\u001b[49m\n\u001b[1;32m    176\u001b[0m \u001b[43m\u001b[49m\u001b[43m)\u001b[49m\n\u001b[1;32m    177\u001b[0m progress\u001b[38;5;241m.\u001b[39mupdate(\u001b[38;5;241m1\u001b[39m)\n\u001b[1;32m    179\u001b[0m \u001b[38;5;28;01mif\u001b[39;00m \u001b[38;5;28mself\u001b[39m\u001b[38;5;241m.\u001b[39mcalculate_training_loss:\n",
      "\u001b[0;31mKeyboardInterrupt\u001b[0m: "
     ]
    }
   ],
   "source": [
    "from Recommenders.MatrixFactorization.IALSJ import ImplicitALSRecommender\n",
    "\n",
    "for i in range(40):\n",
    "        print(\"num_factors: \", 550+i*50)\n",
    "        model = ImplicitALSRecommender(URM_train_validation)\n",
    "        model.fit( epochs=30,\n",
    "                num_factors=550+i*50,\n",
    "                confidence_scaling=\"linear\",\n",
    "                alpha=1.0,\n",
    "                epsilon=1.0,\n",
    "                reg=1e-4,\n",
    "                use_gpu=False,\n",
    "                num_threads=8,\n",
    "                calculate_training_loss=True\n",
    "                )\n",
    "        result_df, _ = evaluator_test.evaluateRecommender(model)\n",
    "        print(result_df.loc[10][\"MAP\"])"
   ]
  },
  {
   "cell_type": "code",
   "execution_count": null,
   "id": "20fd93b5",
   "metadata": {},
   "outputs": [],
   "source": []
  },
  {
   "cell_type": "code",
   "execution_count": 4,
   "id": "8c8c4f7a",
   "metadata": {},
   "outputs": [
    {
     "name": "stdout",
     "output_type": "stream",
     "text": [
      "alpha:  1\n",
      "Using gpu: False\n"
     ]
    },
    {
     "name": "stderr",
     "output_type": "stream",
     "text": [
      "100%|██████████| 15/15 [11:50<00:00, 47.37s/it, loss=0.000873]\n"
     ]
    },
    {
     "name": "stdout",
     "output_type": "stream",
     "text": [
      "EvaluatorHoldout: Processed 35584 (100.0%) in 29.78 sec. Users per second: 1195\n",
      "0.033510330128753166\n",
      "EvaluatorHoldout: Processed 35335 (100.0%) in 29.93 sec. Users per second: 1181\n",
      "0.025917308482752786\n",
      "alpha:  2\n",
      "Using gpu: False\n"
     ]
    },
    {
     "name": "stderr",
     "output_type": "stream",
     "text": [
      "100%|██████████| 15/15 [12:12<00:00, 48.84s/it, loss=0.00113]\n"
     ]
    },
    {
     "name": "stdout",
     "output_type": "stream",
     "text": [
      "EvaluatorHoldout: Processed 35584 (100.0%) in 29.29 sec. Users per second: 1215\n",
      "0.03486536217454494\n",
      "EvaluatorHoldout: Processed 35335 (100.0%) in 30.10 sec. Users per second: 1174\n",
      "0.02717416518987126\n",
      "alpha:  3\n",
      "Using gpu: False\n"
     ]
    },
    {
     "name": "stderr",
     "output_type": "stream",
     "text": [
      "100%|██████████| 15/15 [12:10<00:00, 48.70s/it, loss=0.00133]\n"
     ]
    },
    {
     "name": "stdout",
     "output_type": "stream",
     "text": [
      "EvaluatorHoldout: Processed 35584 (100.0%) in 30.81 sec. Users per second: 1155\n",
      "0.035604789605813994\n",
      "EvaluatorHoldout: Processed 35335 (100.0%) in 30.29 sec. Users per second: 1167\n",
      "0.027609789295652387\n",
      "alpha:  4\n",
      "Using gpu: False\n"
     ]
    },
    {
     "name": "stderr",
     "output_type": "stream",
     "text": [
      "100%|██████████| 15/15 [12:02<00:00, 48.16s/it, loss=0.00149]\n"
     ]
    },
    {
     "name": "stdout",
     "output_type": "stream",
     "text": [
      "EvaluatorHoldout: Processed 35584 (100.0%) in 31.58 sec. Users per second: 1127\n",
      "0.03581231331898635\n",
      "EvaluatorHoldout: Processed 35335 (100.0%) in 30.26 sec. Users per second: 1168\n",
      "0.027739083511334004\n",
      "alpha:  5\n",
      "Using gpu: False\n"
     ]
    },
    {
     "name": "stderr",
     "output_type": "stream",
     "text": [
      "100%|██████████| 15/15 [12:04<00:00, 48.33s/it, loss=0.00162]\n"
     ]
    },
    {
     "name": "stdout",
     "output_type": "stream",
     "text": [
      "EvaluatorHoldout: Processed 35584 (100.0%) in 30.50 sec. Users per second: 1167\n",
      "0.035980858170605076\n",
      "EvaluatorHoldout: Processed 35335 (100.0%) in 29.39 sec. Users per second: 1202\n",
      "0.027926802644079395\n",
      "alpha:  6\n",
      "Using gpu: False\n"
     ]
    },
    {
     "name": "stderr",
     "output_type": "stream",
     "text": [
      "100%|██████████| 15/15 [12:12<00:00, 48.83s/it, loss=0.00173]\n"
     ]
    },
    {
     "name": "stdout",
     "output_type": "stream",
     "text": [
      "EvaluatorHoldout: Processed 35584 (100.0%) in 29.59 sec. Users per second: 1203\n",
      "0.03596204621124389\n",
      "EvaluatorHoldout: Processed 35335 (100.0%) in 28.58 sec. Users per second: 1236\n",
      "0.027976510541954637\n",
      "alpha:  7\n",
      "Using gpu: False\n"
     ]
    },
    {
     "name": "stderr",
     "output_type": "stream",
     "text": [
      "100%|██████████| 15/15 [42:54<00:00, 171.66s/it, loss=0.00182] \n"
     ]
    },
    {
     "name": "stdout",
     "output_type": "stream",
     "text": [
      "EvaluatorHoldout: Processed 35584 (100.0%) in 27.36 sec. Users per second: 1300\n",
      "0.035995256250355524\n",
      "EvaluatorHoldout: Processed 35335 (100.0%) in 27.47 sec. Users per second: 1286\n",
      "0.02799733390832789\n",
      "alpha:  8\n",
      "Using gpu: False\n"
     ]
    },
    {
     "name": "stderr",
     "output_type": "stream",
     "text": [
      "100%|██████████| 15/15 [11:49<00:00, 47.27s/it, loss=0.0019] \n"
     ]
    },
    {
     "name": "stdout",
     "output_type": "stream",
     "text": [
      "EvaluatorHoldout: Processed 35584 (100.0%) in 27.99 sec. Users per second: 1271\n",
      "0.0360233052397355\n",
      "EvaluatorHoldout: Processed 35335 (100.0%) in 28.01 sec. Users per second: 1262\n",
      "0.027993094440737602\n",
      "alpha:  9\n",
      "Using gpu: False\n"
     ]
    },
    {
     "name": "stderr",
     "output_type": "stream",
     "text": [
      "100%|██████████| 15/15 [17:50<00:00, 71.35s/it, loss=0.00197]\n"
     ]
    },
    {
     "name": "stdout",
     "output_type": "stream",
     "text": [
      "EvaluatorHoldout: Processed 35584 (100.0%) in 30.18 sec. Users per second: 1179\n",
      "0.03591523879110879\n",
      "EvaluatorHoldout: Processed 35335 (100.0%) in 28.85 sec. Users per second: 1225\n",
      "0.027870495776254087\n",
      "alpha:  10\n",
      "Using gpu: False\n"
     ]
    },
    {
     "name": "stderr",
     "output_type": "stream",
     "text": [
      "100%|██████████| 15/15 [12:01<00:00, 48.11s/it, loss=0.00203]\n"
     ]
    },
    {
     "name": "stdout",
     "output_type": "stream",
     "text": [
      "EvaluatorHoldout: Processed 35584 (100.0%) in 30.36 sec. Users per second: 1172\n",
      "0.035993649277005595\n",
      "EvaluatorHoldout: Processed 35335 (100.0%) in 29.77 sec. Users per second: 1187\n",
      "0.027914886090277893\n"
     ]
    }
   ],
   "source": [
    "from Recommenders.MatrixFactorization.IALSJ import ImplicitALSRecommender\n",
    "for i in range(10):\n",
    "    print(\"alpha: \", 1+i)\n",
    "    model = ImplicitALSRecommender(URM_train)\n",
    "    model.fit( epochs=15,\n",
    "                    num_factors=1650,\n",
    "                    confidence_scaling=\"linear\",\n",
    "                    alpha=1+i,\n",
    "                    epsilon=1.0,\n",
    "                    reg=1e-4,\n",
    "                    use_gpu=False,\n",
    "                    num_threads=8,\n",
    "                    calculate_training_loss=True\n",
    "                    )\n",
    "    result_df, _ = evaluator_test.evaluateRecommender(model)\n",
    "    print(result_df.loc[10][\"MAP\"])\n",
    "    result_df, _ = evaluator_validation.evaluateRecommender(model)\n",
    "    print(result_df.loc[10][\"MAP\"])"
   ]
  },
  {
   "cell_type": "code",
   "execution_count": 5,
   "id": "7ca5703e",
   "metadata": {},
   "outputs": [
    {
     "name": "stdout",
     "output_type": "stream",
     "text": [
      "Using gpu: False\n"
     ]
    },
    {
     "name": "stderr",
     "output_type": "stream",
     "text": [
      "100%|██████████| 15/15 [12:15<00:00, 49.06s/it, loss=0.00208]\n"
     ]
    },
    {
     "name": "stdout",
     "output_type": "stream",
     "text": [
      "EvaluatorHoldout: Processed 35584 (100.0%) in 30.30 sec. Users per second: 1174\n",
      "0.0481005864950879\n",
      "EvaluatorHoldout: Processed 35335 (100.0%) in 28.04 sec. Users per second: 1260\n",
      "0.0\n"
     ]
    }
   ],
   "source": [
    "from Recommenders.MatrixFactorization.IALSJ import ImplicitALSRecommender\n",
    "model = ImplicitALSRecommender(URM_train_validation)\n",
    "model.fit( epochs=15,\n",
    "                    num_factors=1650,\n",
    "                    confidence_scaling=\"linear\",\n",
    "                    alpha=6,\n",
    "                    epsilon=1.0,\n",
    "                    reg=1e-4,\n",
    "                    use_gpu=False,\n",
    "                    num_threads=8,\n",
    "                    calculate_training_loss=True\n",
    "                    )\n",
    "result_df, _ = evaluator_test.evaluateRecommender(model)\n",
    "print(result_df.loc[10][\"MAP\"])\n",
    "result_df, _ = evaluator_validation.evaluateRecommender(model)\n",
    "print(result_df.loc[10][\"MAP\"])"
   ]
  },
  {
   "cell_type": "markdown",
   "id": "f2012bef",
   "metadata": {},
   "source": [
    "### Step 4: Create an optuna Study and run"
   ]
  },
  {
   "cell_type": "code",
   "execution_count": null,
   "id": "795150ca",
   "metadata": {},
   "outputs": [],
   "source": [
    "# Creazione dello studio Optuna\n",
    "optuna_study = optuna.create_study(direction=\"maximize\")\n",
    "\n",
    "# Inizializzazione del callback per salvare progressivamente i risultati\n",
    "save_results = SaveResults(save_path=\"optuna_progressIALS.csv\")\n",
    "\n",
    "# Esecuzione dell'ottimizzazione\n",
    "optuna_study.optimize(\n",
    "    objective_function,\n",
    "    callbacks=[save_results],\n",
    "    n_trials=1\n",
    ")"
   ]
  },
  {
   "cell_type": "markdown",
   "id": "435547b1",
   "metadata": {},
   "source": [
    "### Step 3: Given the best hyperparameters, train on the union of URM_train and validation, to evaluate on test"
   ]
  },
  {
   "cell_type": "code",
   "execution_count": 192,
   "id": "9353bd3d",
   "metadata": {},
   "outputs": [
    {
     "name": "stdout",
     "output_type": "stream",
     "text": [
      "Study statistics: \n",
      "  Number of finished trials:  2\n",
      "  Number of pruned trials:  0\n",
      "  Number of complete trials:  2\n",
      "Best trial:\n",
      "  Value Validation:  0.025931289179979753\n"
     ]
    }
   ],
   "source": [
    "pruned_trials = [t for t in optuna_study.trials if t.state == optuna.trial.TrialState.PRUNED]\n",
    "complete_trials = [t for t in optuna_study.trials if t.state == optuna.trial.TrialState.COMPLETE]\n",
    "\n",
    "print(\"Study statistics: \")\n",
    "print(\"  Number of finished trials: \", len(optuna_study.trials))\n",
    "print(\"  Number of pruned trials: \", len(pruned_trials))\n",
    "print(\"  Number of complete trials: \", len(complete_trials))\n",
    "\n",
    "print(\"Best trial:\")\n",
    "print(\"  Value Validation: \", optuna_study.best_trial.value)\n"
   ]
  },
  {
   "cell_type": "code",
   "execution_count": 193,
   "id": "b233a624",
   "metadata": {},
   "outputs": [
    {
     "data": {
      "text/plain": [
       "FrozenTrial(number=1, state=1, values=[0.025931289179979753], datetime_start=datetime.datetime(2024, 11, 4, 23, 5, 6, 955235), datetime_complete=datetime.datetime(2024, 11, 4, 23, 6, 5, 127132), params={'topK': 72, 'shrink': 81, 'normalize': True}, user_attrs={}, system_attrs={}, intermediate_values={}, distributions={'topK': IntDistribution(high=1000, log=False, low=5, step=1), 'shrink': IntDistribution(high=1000, log=False, low=0, step=1), 'normalize': CategoricalDistribution(choices=(True, False))}, trial_id=1, value=None)"
      ]
     },
     "execution_count": 193,
     "metadata": {},
     "output_type": "execute_result"
    }
   ],
   "source": [
    "optuna_study.best_trial"
   ]
  },
  {
   "cell_type": "code",
   "execution_count": 194,
   "id": "60ee5883",
   "metadata": {},
   "outputs": [
    {
     "data": {
      "text/plain": [
       "{'topK': 72, 'shrink': 81, 'normalize': True}"
      ]
     },
     "execution_count": 194,
     "metadata": {},
     "output_type": "execute_result"
    }
   ],
   "source": [
    "optuna_study.best_trial.params"
   ]
  },
  {
   "cell_type": "code",
   "execution_count": 195,
   "id": "2b335fd3",
   "metadata": {},
   "outputs": [
    {
     "data": {
      "text/html": [
       "<div>\n",
       "<style scoped>\n",
       "    .dataframe tbody tr th:only-of-type {\n",
       "        vertical-align: middle;\n",
       "    }\n",
       "\n",
       "    .dataframe tbody tr th {\n",
       "        vertical-align: top;\n",
       "    }\n",
       "\n",
       "    .dataframe thead th {\n",
       "        text-align: right;\n",
       "    }\n",
       "</style>\n",
       "<table border=\"1\" class=\"dataframe\">\n",
       "  <thead>\n",
       "    <tr style=\"text-align: right;\">\n",
       "      <th></th>\n",
       "      <th>result</th>\n",
       "      <th>topK</th>\n",
       "      <th>shrink</th>\n",
       "      <th>normalize</th>\n",
       "    </tr>\n",
       "  </thead>\n",
       "  <tbody>\n",
       "    <tr>\n",
       "      <th>0</th>\n",
       "      <td>0.020416</td>\n",
       "      <td>76.0</td>\n",
       "      <td>791.0</td>\n",
       "      <td>False</td>\n",
       "    </tr>\n",
       "    <tr>\n",
       "      <th>1</th>\n",
       "      <td>0.025931</td>\n",
       "      <td>72.0</td>\n",
       "      <td>81.0</td>\n",
       "      <td>True</td>\n",
       "    </tr>\n",
       "  </tbody>\n",
       "</table>\n",
       "</div>"
      ],
      "text/plain": [
       "     result  topK  shrink normalize\n",
       "0  0.020416  76.0   791.0     False\n",
       "1  0.025931  72.0    81.0      True"
      ]
     },
     "execution_count": 195,
     "metadata": {},
     "output_type": "execute_result"
    }
   ],
   "source": [
    "save_results.results_df.sort_values(\"result\")"
   ]
  },
  {
   "cell_type": "code",
   "execution_count": 196,
   "id": "83e37d44",
   "metadata": {},
   "outputs": [
    {
     "name": "stdout",
     "output_type": "stream",
     "text": [
      "Unable to load Cython Compute_Similarity, reverting to Python\n",
      "Similarity column 38121 (100.0%), 967.56 column/sec. Elapsed time 39.40 sec\n",
      "EvaluatorHoldout: Processed 35584 (100.0%) in 24.71 sec. Users per second: 1440\n"
     ]
    },
    {
     "data": {
      "text/plain": [
       "'CUTOFF: 10 - PRECISION: 0.0843272, PRECISION_RECALL_MIN_DEN: 0.1266084, RECALL: 0.1079755, MAP: 0.0434759, MAP_MIN_DEN: 0.0641930, MRR: 0.2518948, NDCG: 0.1246944, F1: 0.0946973, HIT_RATE: 0.4929182, ARHR_ALL_HITS: 0.3262304, NOVELTY: 0.0035895, AVERAGE_POPULARITY: 0.1441516, DIVERSITY_MEAN_INTER_LIST: 0.9951221, DIVERSITY_HERFINDAHL: 0.9995094, COVERAGE_ITEM: 0.5101388, COVERAGE_ITEM_HIT: 0.2143438, ITEMS_IN_GT: 0.9962226, COVERAGE_USER: 0.9957466, COVERAGE_USER_HIT: 0.4908216, USERS_IN_GT: 0.9957466, DIVERSITY_GINI: 0.1279180, SHANNON_ENTROPY: 12.3966818, RATIO_DIVERSITY_HERFINDAHL: 0.9995672, RATIO_DIVERSITY_GINI: 0.2102743, RATIO_SHANNON_ENTROPY: 0.8397767, RATIO_AVERAGE_POPULARITY: 1.9440624, RATIO_NOVELTY: 0.2346505, \\n'"
      ]
     },
     "execution_count": 196,
     "metadata": {},
     "output_type": "execute_result"
    }
   ],
   "source": [
    "\n",
    "recommender_instance = ItemKNNCFRecommender(URM_train_validation, ICM_all)\n",
    "recommender_instance.fit(**optuna_study.best_trial.params)\n",
    "                            \n",
    "\n",
    "result_df, res = evaluator_test.evaluateRecommender(recommender_instance)\n",
    "result_df\n",
    "res"
   ]
  },
  {
   "cell_type": "code",
   "execution_count": 134,
   "id": "cde8228a",
   "metadata": {},
   "outputs": [
    {
     "name": "stdout",
     "output_type": "stream",
     "text": [
      "Unable to load Cython Compute_Similarity, reverting to Python\n",
      "Similarity column 38121 (100.0%), 1058.84 column/sec. Elapsed time 36.00 sec\n",
      "EvaluatorHoldout: Processed 35584 (100.0%) in 20.16 sec. Users per second: 1765\n"
     ]
    },
    {
     "data": {
      "text/plain": [
       "'CUTOFF: 10 - PRECISION: 0.0967092, PRECISION_RECALL_MIN_DEN: 0.1451849, RECALL: 0.1238027, MAP: 0.0513473, MAP_MIN_DEN: 0.0753308, MRR: 0.2749299, NDCG: 0.1418456, F1: 0.1085915, HIT_RATE: 0.5218919, ARHR_ALL_HITS: 0.3691852, NOVELTY: 0.0038067, AVERAGE_POPULARITY: 0.0828056, DIVERSITY_MEAN_INTER_LIST: 0.9982860, DIVERSITY_HERFINDAHL: 0.9998258, COVERAGE_ITEM: 0.6970961, COVERAGE_ITEM_HIT: 0.2880565, ITEMS_IN_GT: 0.9962226, COVERAGE_USER: 0.9957466, COVERAGE_USER_HIT: 0.5196720, USERS_IN_GT: 0.9957466, DIVERSITY_GINI: 0.2481218, SHANNON_ENTROPY: 13.5069046, RATIO_DIVERSITY_HERFINDAHL: 0.9998836, RATIO_DIVERSITY_GINI: 0.4078677, RATIO_SHANNON_ENTROPY: 0.9149855, RATIO_AVERAGE_POPULARITY: 1.1167359, RATIO_NOVELTY: 0.2488538, \\n'"
      ]
     },
     "execution_count": 134,
     "metadata": {},
     "output_type": "execute_result"
    }
   ],
   "source": [
    "recommender_instance = ItemKNNCFRecommender(URM_train_validation)\n",
    "recommender_instance.fit(topK = 6,\n",
    "                             shrink = 12,\n",
    "                             similarity = \"cosine\",\n",
    "                             normalize = True)\n",
    "                            \n",
    "\n",
    "result_df, res = evaluator_test.evaluateRecommender(recommender_instance)\n",
    "result_df\n",
    "res"
   ]
  },
  {
   "cell_type": "code",
   "execution_count": 149,
   "id": "65c2e4d8",
   "metadata": {},
   "outputs": [
    {
     "name": "stdout",
     "output_type": "stream",
     "text": [
      "Unable to load Cython Compute_Similarity, reverting to Python\n",
      "Similarity column 38121 (100.0%), 591.69 column/sec. Elapsed time 1.07 min\n",
      "EvaluatorHoldout: Processed 35584 (100.0%) in 27.43 sec. Users per second: 1297\n"
     ]
    },
    {
     "data": {
      "text/plain": [
       "'CUTOFF: 10 - PRECISION: 0.0428198, PRECISION_RECALL_MIN_DEN: 0.0655130, RECALL: 0.0566176, MAP: 0.0187967, MAP_MIN_DEN: 0.0285021, MRR: 0.1307615, NDCG: 0.0615548, F1: 0.0487614, HIT_RATE: 0.3025798, ARHR_ALL_HITS: 0.1556230, NOVELTY: 0.0039432, AVERAGE_POPULARITY: 0.0556596, DIVERSITY_MEAN_INTER_LIST: 0.9973116, DIVERSITY_HERFINDAHL: 0.9997284, COVERAGE_ITEM: 0.6020566, COVERAGE_ITEM_HIT: 0.1586527, ITEMS_IN_GT: 0.9962226, COVERAGE_USER: 0.9957466, COVERAGE_USER_HIT: 0.3012928, USERS_IN_GT: 0.9957466, DIVERSITY_GINI: 0.1884595, SHANNON_ENTROPY: 13.0538425, RATIO_DIVERSITY_HERFINDAHL: 0.9997862, RATIO_DIVERSITY_GINI: 0.3097936, RATIO_SHANNON_ENTROPY: 0.8842941, RATIO_AVERAGE_POPULARITY: 0.7506387, RATIO_NOVELTY: 0.2577742, \\n'"
      ]
     },
     "execution_count": 149,
     "metadata": {},
     "output_type": "execute_result"
    }
   ],
   "source": [
    "recommender_instance = ItemKNNCBFRecommender(URM_train_validation, ICM_all)\n",
    "recommender_instance.fit(topK = 7,\n",
    "                             shrink = 385,\n",
    "                             similarity = \"cosine\",\n",
    "                             normalize = False,\n",
    "                             feature_weighting= \"BM25\")\n",
    "                            \n",
    "\n",
    "result_df, res = evaluator_test.evaluateRecommender(recommender_instance)\n",
    "result_df\n",
    "res"
   ]
  },
  {
   "cell_type": "markdown",
   "id": "617ef5d0",
   "metadata": {},
   "source": [
    "PROVA CON DIVERSE SIMILARITY"
   ]
  },
  {
   "cell_type": "code",
   "execution_count": 8,
   "id": "1553cba4",
   "metadata": {},
   "outputs": [
    {
     "name": "stdout",
     "output_type": "stream",
     "text": [
      "EvaluatorHoldout: Ignoring 152 ( 0.4%) Users that have less than 1 test interactions\n"
     ]
    }
   ],
   "source": [
    "evaluator_validation = EvaluatorHoldout(URM_test, cutoff_list=[10])\n",
    "def objective_function_KNN_similarities(optuna_trial):\n",
    "    \n",
    "    recommender_instance = ItemKNNCFRecommender(URM_train_validation)\n",
    "    similarity = optuna_trial.suggest_categorical(\"similarity\", ['cosine', 'dice', 'jaccard', 'asymmetric', 'tversky', 'euclidean'])\n",
    "    \n",
    "    full_hyperp = {\"similarity\": similarity,\n",
    "                   \"topK\": optuna_trial.suggest_int(\"topK\", 5, 20),\n",
    "                   \"shrink\": optuna_trial.suggest_int(\"shrink\", 0, 30),\n",
    "                  }\n",
    "    \n",
    "    if similarity == \"asymmetric\":\n",
    "        full_hyperp[\"asymmetric_alpha\"] = optuna_trial.suggest_float(\"asymmetric_alpha\", 0, 0.15, log=False)\n",
    "        full_hyperp[\"normalize\"] = True     \n",
    "\n",
    "    elif similarity == \"tversky\":\n",
    "        full_hyperp[\"tversky_alpha\"] = optuna_trial.suggest_float(\"tversky_alpha\", 0, 2, log=False)\n",
    "        full_hyperp[\"tversky_beta\"] = optuna_trial.suggest_float(\"tversky_beta\", 0, 2, log=False)\n",
    "        full_hyperp[\"normalize\"] = True \n",
    "\n",
    "    elif similarity == \"euclidean\":\n",
    "        full_hyperp[\"normalize_avg_row\"] = optuna_trial.suggest_categorical(\"normalize_avg_row\", [True, False])\n",
    "        full_hyperp[\"similarity_from_distance_mode\"] = optuna_trial.suggest_categorical(\"similarity_from_distance_mode\", [\"lin\", \"log\", \"exp\"])\n",
    "        full_hyperp[\"normalize\"] = optuna_trial.suggest_categorical(\"normalize\", [True, False])\n",
    "        \n",
    "    \n",
    "    recommender_instance.fit(**full_hyperp)\n",
    "    \n",
    "    result_df, _ = evaluator_validation.evaluateRecommender(recommender_instance)\n",
    "    \n",
    "    return result_df.loc[10][\"MAP\"]"
   ]
  },
  {
   "cell_type": "code",
   "execution_count": 9,
   "id": "c7b96610",
   "metadata": {},
   "outputs": [
    {
     "name": "stderr",
     "output_type": "stream",
     "text": [
      "[I 2024-11-05 16:40:42,299] A new study created in memory with name: no-name-72fc7063-3c35-430c-8814-0e9bd31ad1e8\n"
     ]
    },
    {
     "name": "stdout",
     "output_type": "stream",
     "text": [
      "Unable to load Cython Compute_Similarity, reverting to Python\n",
      "Similarity column 38121 (100.0%), 1074.38 column/sec. Elapsed time 35.48 sec\n",
      "EvaluatorHoldout: Processed 35584 (100.0%) in 20.84 sec. Users per second: 1708\n"
     ]
    },
    {
     "name": "stderr",
     "output_type": "stream",
     "text": [
      "[I 2024-11-05 16:41:38,700] Trial 0 finished with value: 0.050102575305824786 and parameters: {'similarity': 'asymmetric', 'topK': 19, 'shrink': 29, 'asymmetric_alpha': 0.08369326099204728}. Best is trial 0 with value: 0.050102575305824786.\n"
     ]
    },
    {
     "name": "stdout",
     "output_type": "stream",
     "text": [
      "Unable to load Cython Compute_Similarity, reverting to Python\n"
     ]
    },
    {
     "name": "stderr",
     "output_type": "stream",
     "text": [
      "C:\\Users\\PeppiSparrow\\AppData\\Local\\Temp\\ipykernel_19552\\1400434273.py:10: FutureWarning: The behavior of DataFrame concatenation with empty or all-NA entries is deprecated. In a future version, this will no longer exclude empty or all-NA columns when determining the result dtypes. To retain the old behavior, exclude the relevant entries before the concat operation.\n",
      "  self.results_df = pd.concat([self.results_df, pd.DataFrame([hyperparam_dict])], ignore_index=True)\n"
     ]
    },
    {
     "name": "stdout",
     "output_type": "stream",
     "text": [
      "Similarity column 38121 (100.0%), 1092.10 column/sec. Elapsed time 34.91 sec\n",
      "EvaluatorHoldout: Processed 35584 (100.0%) in 21.44 sec. Users per second: 1660\n"
     ]
    },
    {
     "name": "stderr",
     "output_type": "stream",
     "text": [
      "[I 2024-11-05 16:42:35,120] Trial 1 finished with value: 0.04918953007236907 and parameters: {'similarity': 'dice', 'topK': 15, 'shrink': 17}. Best is trial 0 with value: 0.050102575305824786.\n"
     ]
    },
    {
     "name": "stdout",
     "output_type": "stream",
     "text": [
      "Unable to load Cython Compute_Similarity, reverting to Python\n",
      "Similarity column 38121 (100.0%), 881.31 column/sec. Elapsed time 43.26 sec\n",
      "EvaluatorHoldout: Processed 35584 (100.0%) in 20.79 sec. Users per second: 1711\n"
     ]
    },
    {
     "name": "stderr",
     "output_type": "stream",
     "text": [
      "[I 2024-11-05 16:43:39,245] Trial 2 finished with value: 0.041901079582761146 and parameters: {'similarity': 'tversky', 'topK': 7, 'shrink': 6, 'tversky_alpha': 1.6782645713749897, 'tversky_beta': 0.15654570289522973}. Best is trial 0 with value: 0.050102575305824786.\n"
     ]
    },
    {
     "name": "stdout",
     "output_type": "stream",
     "text": [
      "Unable to load Cython Compute_Similarity, reverting to Python\n",
      "Similarity column 38121 (100.0%), 1074.10 column/sec. Elapsed time 35.49 sec\n",
      "EvaluatorHoldout: Processed 35584 (100.0%) in 21.06 sec. Users per second: 1690\n"
     ]
    },
    {
     "name": "stderr",
     "output_type": "stream",
     "text": [
      "[I 2024-11-05 16:44:35,872] Trial 3 finished with value: 0.04871915191061286 and parameters: {'similarity': 'cosine', 'topK': 16, 'shrink': 14}. Best is trial 0 with value: 0.050102575305824786.\n"
     ]
    },
    {
     "name": "stdout",
     "output_type": "stream",
     "text": [
      "Unable to load Cython Compute_Similarity, reverting to Python\n",
      "Similarity column 38121 (100.0%), 1077.87 column/sec. Elapsed time 35.37 sec\n",
      "EvaluatorHoldout: Processed 35584 (100.0%) in 20.94 sec. Users per second: 1699\n"
     ]
    },
    {
     "name": "stderr",
     "output_type": "stream",
     "text": [
      "[I 2024-11-05 16:45:32,259] Trial 4 finished with value: 0.04931357815533132 and parameters: {'similarity': 'cosine', 'topK': 13, 'shrink': 19}. Best is trial 0 with value: 0.050102575305824786.\n"
     ]
    },
    {
     "name": "stdout",
     "output_type": "stream",
     "text": [
      "Similarity column 38121 (100.0%), 794.62 column/sec. Elapsed time 47.97 sec\n",
      "EvaluatorHoldout: Processed 35584 (100.0%) in 20.74 sec. Users per second: 1715\n"
     ]
    },
    {
     "name": "stderr",
     "output_type": "stream",
     "text": [
      "[I 2024-11-05 16:46:41,042] Trial 5 finished with value: 0.04028056015009274 and parameters: {'similarity': 'euclidean', 'topK': 14, 'shrink': 28, 'normalize_avg_row': True, 'similarity_from_distance_mode': 'log', 'normalize': True}. Best is trial 0 with value: 0.050102575305824786.\n"
     ]
    },
    {
     "name": "stdout",
     "output_type": "stream",
     "text": [
      "Unable to load Cython Compute_Similarity, reverting to Python\n",
      "Similarity column 38121 (100.0%), 1079.79 column/sec. Elapsed time 35.30 sec\n",
      "EvaluatorHoldout: Processed 35584 (100.0%) in 20.58 sec. Users per second: 1729\n"
     ]
    },
    {
     "name": "stderr",
     "output_type": "stream",
     "text": [
      "[I 2024-11-05 16:47:37,010] Trial 6 finished with value: 0.05083519902827554 and parameters: {'similarity': 'cosine', 'topK': 8, 'shrink': 5}. Best is trial 6 with value: 0.05083519902827554.\n"
     ]
    },
    {
     "name": "stdout",
     "output_type": "stream",
     "text": [
      "Unable to load Cython Compute_Similarity, reverting to Python\n",
      "Similarity column 38121 (100.0%), 1075.80 column/sec. Elapsed time 35.44 sec\n",
      "EvaluatorHoldout: Processed 35584 (100.0%) in 20.50 sec. Users per second: 1736\n"
     ]
    },
    {
     "name": "stderr",
     "output_type": "stream",
     "text": [
      "[I 2024-11-05 16:48:33,027] Trial 7 finished with value: 0.05109896234797683 and parameters: {'similarity': 'dice', 'topK': 8, 'shrink': 20}. Best is trial 7 with value: 0.05109896234797683.\n"
     ]
    },
    {
     "name": "stdout",
     "output_type": "stream",
     "text": [
      "Unable to load Cython Compute_Similarity, reverting to Python\n",
      "Similarity column 38121 (100.0%), 915.42 column/sec. Elapsed time 41.64 sec\n",
      "EvaluatorHoldout: Processed 35584 (100.0%) in 20.89 sec. Users per second: 1704\n"
     ]
    },
    {
     "name": "stderr",
     "output_type": "stream",
     "text": [
      "[I 2024-11-05 16:49:35,634] Trial 8 finished with value: 0.04805957689205616 and parameters: {'similarity': 'tversky', 'topK': 16, 'shrink': 25, 'tversky_alpha': 0.12220999565912671, 'tversky_beta': 0.39520461334204837}. Best is trial 7 with value: 0.05109896234797683.\n"
     ]
    },
    {
     "name": "stdout",
     "output_type": "stream",
     "text": [
      "Unable to load Cython Compute_Similarity, reverting to Python\n",
      "Similarity column 38121 (100.0%), 1075.98 column/sec. Elapsed time 35.43 sec\n",
      "EvaluatorHoldout: Processed 35584 (100.0%) in 20.88 sec. Users per second: 1704\n"
     ]
    },
    {
     "name": "stderr",
     "output_type": "stream",
     "text": [
      "[I 2024-11-05 16:50:32,022] Trial 9 finished with value: 0.04863983701431544 and parameters: {'similarity': 'dice', 'topK': 17, 'shrink': 27}. Best is trial 7 with value: 0.05109896234797683.\n"
     ]
    },
    {
     "name": "stdout",
     "output_type": "stream",
     "text": [
      "Unable to load Cython Compute_Similarity, reverting to Python\n",
      "Similarity column 38121 (100.0%), 1012.39 column/sec. Elapsed time 37.65 sec\n",
      "EvaluatorHoldout: Processed 35584 (100.0%) in 20.40 sec. Users per second: 1744\n"
     ]
    },
    {
     "name": "stderr",
     "output_type": "stream",
     "text": [
      "[I 2024-11-05 16:51:30,161] Trial 10 finished with value: 0.050656113502053714 and parameters: {'similarity': 'jaccard', 'topK': 10, 'shrink': 12}. Best is trial 7 with value: 0.05109896234797683.\n"
     ]
    },
    {
     "name": "stdout",
     "output_type": "stream",
     "text": [
      "Unable to load Cython Compute_Similarity, reverting to Python\n",
      "Similarity column 38121 (100.0%), 1087.63 column/sec. Elapsed time 35.05 sec\n",
      "EvaluatorHoldout: Processed 35584 (100.0%) in 20.08 sec. Users per second: 1772\n"
     ]
    },
    {
     "name": "stderr",
     "output_type": "stream",
     "text": [
      "[I 2024-11-05 16:52:25,372] Trial 11 finished with value: 0.051386454452507516 and parameters: {'similarity': 'dice', 'topK': 5, 'shrink': 0}. Best is trial 11 with value: 0.051386454452507516.\n"
     ]
    },
    {
     "name": "stdout",
     "output_type": "stream",
     "text": [
      "Unable to load Cython Compute_Similarity, reverting to Python\n",
      "Similarity column 38121 (100.0%), 1094.59 column/sec. Elapsed time 34.83 sec\n",
      "EvaluatorHoldout: Processed 35584 (100.0%) in 20.18 sec. Users per second: 1763\n"
     ]
    },
    {
     "name": "stderr",
     "output_type": "stream",
     "text": [
      "[I 2024-11-05 16:53:20,454] Trial 12 finished with value: 0.05151219426244531 and parameters: {'similarity': 'dice', 'topK': 5, 'shrink': 1}. Best is trial 12 with value: 0.05151219426244531.\n"
     ]
    },
    {
     "name": "stdout",
     "output_type": "stream",
     "text": [
      "Unable to load Cython Compute_Similarity, reverting to Python\n",
      "Similarity column 38121 (100.0%), 1091.73 column/sec. Elapsed time 34.92 sec\n",
      "EvaluatorHoldout: Processed 35584 (100.0%) in 20.13 sec. Users per second: 1768\n"
     ]
    },
    {
     "name": "stderr",
     "output_type": "stream",
     "text": [
      "[I 2024-11-05 16:54:15,583] Trial 13 finished with value: 0.051386454452507516 and parameters: {'similarity': 'dice', 'topK': 5, 'shrink': 0}. Best is trial 12 with value: 0.05151219426244531.\n"
     ]
    },
    {
     "name": "stdout",
     "output_type": "stream",
     "text": [
      "Unable to load Cython Compute_Similarity, reverting to Python\n",
      "Similarity column 38121 (100.0%), 1091.75 column/sec. Elapsed time 34.92 sec\n",
      "EvaluatorHoldout: Processed 35584 (100.0%) in 20.18 sec. Users per second: 1764\n"
     ]
    },
    {
     "name": "stderr",
     "output_type": "stream",
     "text": [
      "[I 2024-11-05 16:55:10,754] Trial 14 finished with value: 0.051386454452507516 and parameters: {'similarity': 'dice', 'topK': 5, 'shrink': 0}. Best is trial 12 with value: 0.05151219426244531.\n"
     ]
    },
    {
     "name": "stdout",
     "output_type": "stream",
     "text": [
      "Unable to load Cython Compute_Similarity, reverting to Python\n",
      "Similarity column 38121 (100.0%), 1024.34 column/sec. Elapsed time 37.22 sec\n",
      "EvaluatorHoldout: Processed 35584 (100.0%) in 20.57 sec. Users per second: 1730\n"
     ]
    },
    {
     "name": "stderr",
     "output_type": "stream",
     "text": [
      "[I 2024-11-05 16:56:08,617] Trial 15 finished with value: 0.050452998092595555 and parameters: {'similarity': 'jaccard', 'topK': 11, 'shrink': 7}. Best is trial 12 with value: 0.05151219426244531.\n"
     ]
    },
    {
     "name": "stdout",
     "output_type": "stream",
     "text": [
      "Unable to load Cython Compute_Similarity, reverting to Python\n",
      "Similarity column 38121 (100.0%), 1086.23 column/sec. Elapsed time 35.09 sec\n",
      "EvaluatorHoldout: Processed 35584 (100.0%) in 20.20 sec. Users per second: 1762\n"
     ]
    },
    {
     "name": "stderr",
     "output_type": "stream",
     "text": [
      "[I 2024-11-05 16:57:04,009] Trial 16 finished with value: 0.05288495542851229 and parameters: {'similarity': 'asymmetric', 'topK': 10, 'shrink': 9, 'asymmetric_alpha': 0.005014465254465597}. Best is trial 16 with value: 0.05288495542851229.\n"
     ]
    },
    {
     "name": "stdout",
     "output_type": "stream",
     "text": [
      "Unable to load Cython Compute_Similarity, reverting to Python\n",
      "Similarity column 38121 (100.0%), 1103.83 column/sec. Elapsed time 34.54 sec\n",
      "EvaluatorHoldout: Processed 35584 (100.0%) in 19.78 sec. Users per second: 1799\n"
     ]
    },
    {
     "name": "stderr",
     "output_type": "stream",
     "text": [
      "[I 2024-11-05 16:57:58,413] Trial 17 finished with value: 0.05258294145933078 and parameters: {'similarity': 'asymmetric', 'topK': 11, 'shrink': 10, 'asymmetric_alpha': 0.003611477821173961}. Best is trial 16 with value: 0.05288495542851229.\n"
     ]
    },
    {
     "name": "stdout",
     "output_type": "stream",
     "text": [
      "Unable to load Cython Compute_Similarity, reverting to Python\n",
      "Similarity column 38121 (100.0%), 1137.47 column/sec. Elapsed time 33.51 sec\n",
      "EvaluatorHoldout: Processed 35584 (100.0%) in 19.81 sec. Users per second: 1797\n"
     ]
    },
    {
     "name": "stderr",
     "output_type": "stream",
     "text": [
      "[I 2024-11-05 16:58:51,811] Trial 18 finished with value: 0.05259729047119246 and parameters: {'similarity': 'asymmetric', 'topK': 11, 'shrink': 11, 'asymmetric_alpha': 0.004158677329621273}. Best is trial 16 with value: 0.05288495542851229.\n"
     ]
    },
    {
     "name": "stdout",
     "output_type": "stream",
     "text": [
      "Unable to load Cython Compute_Similarity, reverting to Python\n",
      "Similarity column 38121 (100.0%), 1143.84 column/sec. Elapsed time 33.33 sec\n",
      "EvaluatorHoldout: Processed 35584 (100.0%) in 19.83 sec. Users per second: 1794\n"
     ]
    },
    {
     "name": "stderr",
     "output_type": "stream",
     "text": [
      "[I 2024-11-05 16:59:45,054] Trial 19 finished with value: 0.05292655607656534 and parameters: {'similarity': 'asymmetric', 'topK': 10, 'shrink': 10, 'asymmetric_alpha': 0.003806536789665577}. Best is trial 19 with value: 0.05292655607656534.\n"
     ]
    },
    {
     "name": "stdout",
     "output_type": "stream",
     "text": [
      "Unable to load Cython Compute_Similarity, reverting to Python\n",
      "Similarity column 38121 (100.0%), 1147.55 column/sec. Elapsed time 33.22 sec\n",
      "EvaluatorHoldout: Processed 35584 (100.0%) in 19.69 sec. Users per second: 1807\n"
     ]
    },
    {
     "name": "stderr",
     "output_type": "stream",
     "text": [
      "[I 2024-11-05 17:00:38,048] Trial 20 finished with value: 0.05305994378604059 and parameters: {'similarity': 'asymmetric', 'topK': 9, 'shrink': 8, 'asymmetric_alpha': 0.031318508185757855}. Best is trial 20 with value: 0.05305994378604059.\n"
     ]
    },
    {
     "name": "stdout",
     "output_type": "stream",
     "text": [
      "Unable to load Cython Compute_Similarity, reverting to Python\n",
      "Similarity column 38121 (100.0%), 1151.07 column/sec. Elapsed time 33.12 sec\n",
      "EvaluatorHoldout: Processed 35584 (100.0%) in 19.67 sec. Users per second: 1809\n"
     ]
    },
    {
     "name": "stderr",
     "output_type": "stream",
     "text": [
      "[I 2024-11-05 17:01:30,920] Trial 21 finished with value: 0.0530336913504889 and parameters: {'similarity': 'asymmetric', 'topK': 9, 'shrink': 8, 'asymmetric_alpha': 0.00950868205373237}. Best is trial 20 with value: 0.05305994378604059.\n"
     ]
    },
    {
     "name": "stdout",
     "output_type": "stream",
     "text": [
      "Unable to load Cython Compute_Similarity, reverting to Python\n",
      "Similarity column 38121 (100.0%), 1148.13 column/sec. Elapsed time 33.20 sec\n",
      "EvaluatorHoldout: Processed 35584 (100.0%) in 19.68 sec. Users per second: 1808\n"
     ]
    },
    {
     "name": "stderr",
     "output_type": "stream",
     "text": [
      "[I 2024-11-05 17:02:23,881] Trial 22 finished with value: 0.053016094936549005 and parameters: {'similarity': 'asymmetric', 'topK': 8, 'shrink': 5, 'asymmetric_alpha': 0.04280251105662412}. Best is trial 20 with value: 0.05305994378604059.\n"
     ]
    },
    {
     "name": "stdout",
     "output_type": "stream",
     "text": [
      "Unable to load Cython Compute_Similarity, reverting to Python\n",
      "Similarity column 38121 (100.0%), 1117.93 column/sec. Elapsed time 34.10 sec\n",
      "EvaluatorHoldout: Processed 35584 (100.0%) in 19.31 sec. Users per second: 1842\n"
     ]
    },
    {
     "name": "stderr",
     "output_type": "stream",
     "text": [
      "[I 2024-11-05 17:03:17,375] Trial 23 finished with value: 0.05337399053970928 and parameters: {'similarity': 'asymmetric', 'topK': 7, 'shrink': 4, 'asymmetric_alpha': 0.05257222425415137}. Best is trial 23 with value: 0.05337399053970928.\n"
     ]
    },
    {
     "name": "stdout",
     "output_type": "stream",
     "text": [
      "Unable to load Cython Compute_Similarity, reverting to Python\n",
      "Similarity column 38121 (100.0%), 1132.56 column/sec. Elapsed time 33.66 sec\n",
      "EvaluatorHoldout: Processed 35584 (100.0%) in 20.01 sec. Users per second: 1778\n"
     ]
    },
    {
     "name": "stderr",
     "output_type": "stream",
     "text": [
      "[I 2024-11-05 17:04:11,144] Trial 24 finished with value: 0.05260926972707363 and parameters: {'similarity': 'asymmetric', 'topK': 8, 'shrink': 3, 'asymmetric_alpha': 0.042489932629810385}. Best is trial 23 with value: 0.05337399053970928.\n"
     ]
    },
    {
     "name": "stdout",
     "output_type": "stream",
     "text": [
      "Similarity column 38121 (100.0%), 945.78 column/sec. Elapsed time 40.31 sec\n",
      "EvaluatorHoldout: Processed 35584 (100.0%) in 19.62 sec. Users per second: 1814\n"
     ]
    },
    {
     "name": "stderr",
     "output_type": "stream",
     "text": [
      "[I 2024-11-05 17:05:11,137] Trial 25 finished with value: 0.02502927680177261 and parameters: {'similarity': 'euclidean', 'topK': 6, 'shrink': 8, 'normalize_avg_row': False, 'similarity_from_distance_mode': 'exp', 'normalize': False}. Best is trial 23 with value: 0.05337399053970928.\n"
     ]
    },
    {
     "name": "stdout",
     "output_type": "stream",
     "text": [
      "Unable to load Cython Compute_Similarity, reverting to Python\n",
      "Similarity column 38121 (100.0%), 1139.54 column/sec. Elapsed time 33.45 sec\n",
      "EvaluatorHoldout: Processed 35584 (100.0%) in 20.09 sec. Users per second: 1771\n"
     ]
    },
    {
     "name": "stderr",
     "output_type": "stream",
     "text": [
      "[I 2024-11-05 17:06:04,763] Trial 26 finished with value: 0.05242881141515169 and parameters: {'similarity': 'asymmetric', 'topK': 9, 'shrink': 3, 'asymmetric_alpha': 0.04983378436629553}. Best is trial 23 with value: 0.05337399053970928.\n"
     ]
    },
    {
     "name": "stdout",
     "output_type": "stream",
     "text": [
      "Unable to load Cython Compute_Similarity, reverting to Python\n",
      "Similarity column 38121 (100.0%), 1138.94 column/sec. Elapsed time 33.47 sec\n",
      "EvaluatorHoldout: Processed 35584 (100.0%) in 20.94 sec. Users per second: 1700\n"
     ]
    },
    {
     "name": "stderr",
     "output_type": "stream",
     "text": [
      "[I 2024-11-05 17:06:59,252] Trial 27 finished with value: 0.052542121436777334 and parameters: {'similarity': 'asymmetric', 'topK': 12, 'shrink': 14, 'asymmetric_alpha': 0.05083715035699901}. Best is trial 23 with value: 0.05337399053970928.\n"
     ]
    },
    {
     "name": "stdout",
     "output_type": "stream",
     "text": [
      "Unable to load Cython Compute_Similarity, reverting to Python\n",
      "Similarity column 38121 (100.0%), 1109.89 column/sec. Elapsed time 34.35 sec\n",
      "EvaluatorHoldout: Processed 35584 (100.0%) in 20.92 sec. Users per second: 1701\n"
     ]
    },
    {
     "name": "stderr",
     "output_type": "stream",
     "text": [
      "[I 2024-11-05 17:07:54,597] Trial 28 finished with value: 0.0534048642782184 and parameters: {'similarity': 'asymmetric', 'topK': 7, 'shrink': 3, 'asymmetric_alpha': 0.1389241361917202}. Best is trial 28 with value: 0.0534048642782184.\n"
     ]
    },
    {
     "name": "stdout",
     "output_type": "stream",
     "text": [
      "Unable to load Cython Compute_Similarity, reverting to Python\n",
      "Similarity column 38121 (100.0%), 1131.38 column/sec. Elapsed time 33.69 sec\n",
      "EvaluatorHoldout: Processed 35584 (100.0%) in 20.34 sec. Users per second: 1750\n"
     ]
    },
    {
     "name": "stderr",
     "output_type": "stream",
     "text": [
      "[I 2024-11-05 17:08:48,708] Trial 29 finished with value: 0.05333442955456865 and parameters: {'similarity': 'asymmetric', 'topK': 7, 'shrink': 3, 'asymmetric_alpha': 0.12140757333853355}. Best is trial 28 with value: 0.0534048642782184.\n"
     ]
    },
    {
     "name": "stdout",
     "output_type": "stream",
     "text": [
      "Unable to load Cython Compute_Similarity, reverting to Python\n",
      "Similarity column 38121 (100.0%), 1150.17 column/sec. Elapsed time 33.14 sec\n",
      "EvaluatorHoldout: Processed 35584 (100.0%) in 19.92 sec. Users per second: 1787\n"
     ]
    },
    {
     "name": "stderr",
     "output_type": "stream",
     "text": [
      "[I 2024-11-05 17:09:41,844] Trial 30 finished with value: 0.053564126377467734 and parameters: {'similarity': 'asymmetric', 'topK': 7, 'shrink': 4, 'asymmetric_alpha': 0.13345061528407134}. Best is trial 30 with value: 0.053564126377467734.\n"
     ]
    },
    {
     "name": "stdout",
     "output_type": "stream",
     "text": [
      "Unable to load Cython Compute_Similarity, reverting to Python\n",
      "Similarity column 38121 (100.0%), 1142.48 column/sec. Elapsed time 33.37 sec\n",
      "EvaluatorHoldout: Processed 35584 (100.0%) in 19.67 sec. Users per second: 1809\n"
     ]
    },
    {
     "name": "stderr",
     "output_type": "stream",
     "text": [
      "[I 2024-11-05 17:10:34,965] Trial 31 finished with value: 0.05338570661327901 and parameters: {'similarity': 'asymmetric', 'topK': 7, 'shrink': 3, 'asymmetric_alpha': 0.13182140489303834}. Best is trial 30 with value: 0.053564126377467734.\n"
     ]
    },
    {
     "name": "stdout",
     "output_type": "stream",
     "text": [
      "Unable to load Cython Compute_Similarity, reverting to Python\n",
      "Similarity column 38121 (100.0%), 1130.87 column/sec. Elapsed time 33.71 sec\n",
      "EvaluatorHoldout: Processed 35584 (100.0%) in 20.08 sec. Users per second: 1772\n"
     ]
    },
    {
     "name": "stderr",
     "output_type": "stream",
     "text": [
      "[I 2024-11-05 17:11:28,848] Trial 32 finished with value: 0.050904328992161435 and parameters: {'similarity': 'asymmetric', 'topK': 19, 'shrink': 3, 'asymmetric_alpha': 0.14963648069107682}. Best is trial 30 with value: 0.053564126377467734.\n"
     ]
    },
    {
     "name": "stdout",
     "output_type": "stream",
     "text": [
      "Unable to load Cython Compute_Similarity, reverting to Python\n",
      "Similarity column 38121 (100.0%), 974.19 column/sec. Elapsed time 39.13 sec\n",
      "EvaluatorHoldout: Processed 35584 (100.0%) in 19.72 sec. Users per second: 1804\n"
     ]
    },
    {
     "name": "stderr",
     "output_type": "stream",
     "text": [
      "[I 2024-11-05 17:12:27,789] Trial 33 finished with value: 0.05434279585260177 and parameters: {'similarity': 'tversky', 'topK': 7, 'shrink': 5, 'tversky_alpha': 0.4539631335101808, 'tversky_beta': 1.9859444091093852}. Best is trial 33 with value: 0.05434279585260177.\n"
     ]
    },
    {
     "name": "stdout",
     "output_type": "stream",
     "text": [
      "Unable to load Cython Compute_Similarity, reverting to Python\n",
      "Similarity column 38121 (100.0%), 972.33 column/sec. Elapsed time 39.21 sec\n",
      "EvaluatorHoldout: Processed 35584 (100.0%) in 19.92 sec. Users per second: 1787\n"
     ]
    },
    {
     "name": "stderr",
     "output_type": "stream",
     "text": [
      "[I 2024-11-05 17:13:26,997] Trial 34 finished with value: 0.05441091657923487 and parameters: {'similarity': 'tversky', 'topK': 6, 'shrink': 2, 'tversky_alpha': 0.40676600914506716, 'tversky_beta': 1.9859650221393212}. Best is trial 34 with value: 0.05441091657923487.\n"
     ]
    },
    {
     "name": "stdout",
     "output_type": "stream",
     "text": [
      "Unable to load Cython Compute_Similarity, reverting to Python\n",
      "Similarity column 38121 (100.0%), 971.39 column/sec. Elapsed time 39.24 sec\n",
      "EvaluatorHoldout: Processed 35584 (100.0%) in 19.83 sec. Users per second: 1795\n"
     ]
    },
    {
     "name": "stderr",
     "output_type": "stream",
     "text": [
      "[I 2024-11-05 17:14:26,154] Trial 35 finished with value: 0.05459036119318656 and parameters: {'similarity': 'tversky', 'topK': 6, 'shrink': 6, 'tversky_alpha': 0.44015029997285543, 'tversky_beta': 1.997909227924048}. Best is trial 35 with value: 0.05459036119318656.\n"
     ]
    },
    {
     "name": "stdout",
     "output_type": "stream",
     "text": [
      "Unable to load Cython Compute_Similarity, reverting to Python\n",
      "Similarity column 38121 (100.0%), 972.15 column/sec. Elapsed time 39.21 sec\n",
      "EvaluatorHoldout: Processed 35584 (100.0%) in 19.92 sec. Users per second: 1786\n"
     ]
    },
    {
     "name": "stderr",
     "output_type": "stream",
     "text": [
      "[I 2024-11-05 17:15:25,373] Trial 36 finished with value: 0.05464528600333841 and parameters: {'similarity': 'tversky', 'topK': 6, 'shrink': 6, 'tversky_alpha': 0.39538142497011136, 'tversky_beta': 1.9891249891839646}. Best is trial 36 with value: 0.05464528600333841.\n"
     ]
    },
    {
     "name": "stdout",
     "output_type": "stream",
     "text": [
      "Unable to load Cython Compute_Similarity, reverting to Python\n",
      "Similarity column 38121 (100.0%), 971.12 column/sec. Elapsed time 39.25 sec\n",
      "EvaluatorHoldout: Processed 35584 (100.0%) in 19.74 sec. Users per second: 1803\n"
     ]
    },
    {
     "name": "stderr",
     "output_type": "stream",
     "text": [
      "[I 2024-11-05 17:16:24,455] Trial 37 finished with value: 0.05457979933017694 and parameters: {'similarity': 'tversky', 'topK': 6, 'shrink': 6, 'tversky_alpha': 0.4263099079249074, 'tversky_beta': 1.9875013897031815}. Best is trial 36 with value: 0.05464528600333841.\n"
     ]
    },
    {
     "name": "stdout",
     "output_type": "stream",
     "text": [
      "Unable to load Cython Compute_Similarity, reverting to Python\n",
      "Similarity column 38121 (100.0%), 965.51 column/sec. Elapsed time 39.48 sec\n",
      "EvaluatorHoldout: Processed 35584 (100.0%) in 19.53 sec. Users per second: 1822\n"
     ]
    },
    {
     "name": "stderr",
     "output_type": "stream",
     "text": [
      "[I 2024-11-05 17:17:23,561] Trial 38 finished with value: 0.05453420745546219 and parameters: {'similarity': 'tversky', 'topK': 6, 'shrink': 12, 'tversky_alpha': 0.5245704213948166, 'tversky_beta': 1.9967801069904965}. Best is trial 36 with value: 0.05464528600333841.\n"
     ]
    },
    {
     "name": "stdout",
     "output_type": "stream",
     "text": [
      "Unable to load Cython Compute_Similarity, reverting to Python\n",
      "Similarity column 38121 (100.0%), 975.77 column/sec. Elapsed time 39.07 sec\n",
      "EvaluatorHoldout: Processed 35584 (100.0%) in 19.76 sec. Users per second: 1801\n"
     ]
    },
    {
     "name": "stderr",
     "output_type": "stream",
     "text": [
      "[I 2024-11-05 17:18:22,469] Trial 39 finished with value: 0.0541787362520679 and parameters: {'similarity': 'tversky', 'topK': 6, 'shrink': 17, 'tversky_alpha': 0.6392242240982433, 'tversky_beta': 1.9238035255455843}. Best is trial 36 with value: 0.05464528600333841.\n"
     ]
    },
    {
     "name": "stdout",
     "output_type": "stream",
     "text": [
      "Unable to load Cython Compute_Similarity, reverting to Python\n",
      "Similarity column 38121 (100.0%), 973.05 column/sec. Elapsed time 39.18 sec\n",
      "EvaluatorHoldout: Processed 35584 (100.0%) in 20.32 sec. Users per second: 1751\n"
     ]
    },
    {
     "name": "stderr",
     "output_type": "stream",
     "text": [
      "[I 2024-11-05 17:19:22,059] Trial 40 finished with value: 0.05349606029461938 and parameters: {'similarity': 'tversky', 'topK': 6, 'shrink': 12, 'tversky_alpha': 0.7462259071397013, 'tversky_beta': 1.5764273953081216}. Best is trial 36 with value: 0.05464528600333841.\n"
     ]
    },
    {
     "name": "stdout",
     "output_type": "stream",
     "text": [
      "Unable to load Cython Compute_Similarity, reverting to Python\n",
      "Similarity column 38121 (100.0%), 973.56 column/sec. Elapsed time 39.16 sec\n",
      "EvaluatorHoldout: Processed 35584 (100.0%) in 20.29 sec. Users per second: 1753\n"
     ]
    },
    {
     "name": "stderr",
     "output_type": "stream",
     "text": [
      "[I 2024-11-05 17:20:21,608] Trial 41 finished with value: 0.05471520774451674 and parameters: {'similarity': 'tversky', 'topK': 6, 'shrink': 7, 'tversky_alpha': 0.32768061803655246, 'tversky_beta': 1.9946681524031689}. Best is trial 41 with value: 0.05471520774451674.\n"
     ]
    },
    {
     "name": "stdout",
     "output_type": "stream",
     "text": [
      "Unable to load Cython Compute_Similarity, reverting to Python\n",
      "Similarity column 38121 (100.0%), 972.90 column/sec. Elapsed time 39.18 sec\n",
      "EvaluatorHoldout: Processed 35584 (100.0%) in 20.29 sec. Users per second: 1754\n"
     ]
    },
    {
     "name": "stderr",
     "output_type": "stream",
     "text": [
      "[I 2024-11-05 17:21:21,163] Trial 42 finished with value: 0.05454161559145344 and parameters: {'similarity': 'tversky', 'topK': 6, 'shrink': 6, 'tversky_alpha': 0.25062595382332487, 'tversky_beta': 1.9965575878300332}. Best is trial 41 with value: 0.05471520774451674.\n"
     ]
    },
    {
     "name": "stdout",
     "output_type": "stream",
     "text": [
      "Unable to load Cython Compute_Similarity, reverting to Python\n",
      "Similarity column 38121 (100.0%), 975.07 column/sec. Elapsed time 39.10 sec\n",
      "EvaluatorHoldout: Processed 35584 (100.0%) in 20.06 sec. Users per second: 1774\n"
     ]
    },
    {
     "name": "stderr",
     "output_type": "stream",
     "text": [
      "[I 2024-11-05 17:22:20,405] Trial 43 finished with value: 0.05341687141358117 and parameters: {'similarity': 'tversky', 'topK': 5, 'shrink': 6, 'tversky_alpha': 0.002439409203608911, 'tversky_beta': 1.6333398743516765}. Best is trial 41 with value: 0.05471520774451674.\n"
     ]
    },
    {
     "name": "stdout",
     "output_type": "stream",
     "text": [
      "Unable to load Cython Compute_Similarity, reverting to Python\n",
      "Similarity column 38121 (100.0%), 880.05 column/sec. Elapsed time 43.32 sec\n",
      "EvaluatorHoldout: Processed 35584 (100.0%) in 20.62 sec. Users per second: 1725\n"
     ]
    },
    {
     "name": "stderr",
     "output_type": "stream",
     "text": [
      "[I 2024-11-05 17:23:24,442] Trial 44 finished with value: 0.054083430800001005 and parameters: {'similarity': 'tversky', 'topK': 8, 'shrink': 6, 'tversky_alpha': 0.2726767575176705, 'tversky_beta': 1.5946669566516514}. Best is trial 41 with value: 0.05471520774451674.\n"
     ]
    },
    {
     "name": "stdout",
     "output_type": "stream",
     "text": [
      "Unable to load Cython Compute_Similarity, reverting to Python\n",
      "Similarity column 38121 (100.0%), 913.56 column/sec. Elapsed time 41.73 sec\n",
      "EvaluatorHoldout: Processed 35584 (100.0%) in 19.83 sec. Users per second: 1794\n"
     ]
    },
    {
     "name": "stderr",
     "output_type": "stream",
     "text": [
      "[I 2024-11-05 17:24:26,093] Trial 45 finished with value: 0.054641485472334404 and parameters: {'similarity': 'tversky', 'topK': 6, 'shrink': 7, 'tversky_alpha': 0.32021473553916113, 'tversky_beta': 1.7161222988439249}. Best is trial 41 with value: 0.05471520774451674.\n"
     ]
    },
    {
     "name": "stdout",
     "output_type": "stream",
     "text": [
      "Unable to load Cython Compute_Similarity, reverting to Python\n",
      "Similarity column 38121 (100.0%), 970.98 column/sec. Elapsed time 39.26 sec\n",
      "EvaluatorHoldout: Processed 35584 (100.0%) in 20.82 sec. Users per second: 1710\n"
     ]
    },
    {
     "name": "stderr",
     "output_type": "stream",
     "text": [
      "[I 2024-11-05 17:25:26,252] Trial 46 finished with value: 0.05337801187621132 and parameters: {'similarity': 'tversky', 'topK': 5, 'shrink': 20, 'tversky_alpha': 0.9954614538703473, 'tversky_beta': 1.662874601431829}. Best is trial 41 with value: 0.05471520774451674.\n"
     ]
    },
    {
     "name": "stdout",
     "output_type": "stream",
     "text": [
      "Unable to load Cython Compute_Similarity, reverting to Python\n",
      "Similarity column 38121 (100.0%), 1052.74 column/sec. Elapsed time 36.21 sec\n",
      "EvaluatorHoldout: Processed 35584 (100.0%) in 20.48 sec. Users per second: 1738\n"
     ]
    },
    {
     "name": "stderr",
     "output_type": "stream",
     "text": [
      "[I 2024-11-05 17:26:23,025] Trial 47 finished with value: 0.04934895387261452 and parameters: {'similarity': 'cosine', 'topK': 13, 'shrink': 7}. Best is trial 41 with value: 0.05471520774451674.\n"
     ]
    },
    {
     "name": "stdout",
     "output_type": "stream",
     "text": [
      "Unable to load Cython Compute_Similarity, reverting to Python\n",
      "Similarity column 38121 (100.0%), 902.22 column/sec. Elapsed time 42.25 sec\n",
      "EvaluatorHoldout: Processed 35584 (100.0%) in 20.19 sec. Users per second: 1763\n"
     ]
    },
    {
     "name": "stderr",
     "output_type": "stream",
     "text": [
      "[I 2024-11-05 17:27:25,558] Trial 48 finished with value: 0.054057294343095065 and parameters: {'similarity': 'tversky', 'topK': 5, 'shrink': 14, 'tversky_alpha': 0.42650241958572727, 'tversky_beta': 1.0913582785815714}. Best is trial 41 with value: 0.05471520774451674.\n"
     ]
    },
    {
     "name": "stdout",
     "output_type": "stream",
     "text": [
      "Unable to load Cython Compute_Similarity, reverting to Python\n",
      "Similarity column 38121 (100.0%), 931.41 column/sec. Elapsed time 40.93 sec\n",
      "EvaluatorHoldout: Processed 35584 (100.0%) in 20.11 sec. Users per second: 1770\n"
     ]
    },
    {
     "name": "stderr",
     "output_type": "stream",
     "text": [
      "[I 2024-11-05 17:28:26,695] Trial 49 finished with value: 0.05104238818766216 and parameters: {'similarity': 'tversky', 'topK': 20, 'shrink': 9, 'tversky_alpha': 0.7931705250335097, 'tversky_beta': 1.7377427853784022}. Best is trial 41 with value: 0.05471520774451674.\n"
     ]
    },
    {
     "name": "stdout",
     "output_type": "stream",
     "text": [
      "Similarity column 38121 (100.0%), 849.75 column/sec. Elapsed time 44.86 sec\n",
      "EvaluatorHoldout: Processed 35584 (100.0%) in 20.10 sec. Users per second: 1771\n"
     ]
    },
    {
     "name": "stderr",
     "output_type": "stream",
     "text": [
      "[I 2024-11-05 17:29:31,735] Trial 50 finished with value: 0.04640957100390942 and parameters: {'similarity': 'euclidean', 'topK': 6, 'shrink': 16, 'normalize_avg_row': True, 'similarity_from_distance_mode': 'lin', 'normalize': True}. Best is trial 41 with value: 0.05471520774451674.\n"
     ]
    },
    {
     "name": "stdout",
     "output_type": "stream",
     "text": [
      "Unable to load Cython Compute_Similarity, reverting to Python\n",
      "Similarity column 38121 (100.0%), 936.77 column/sec. Elapsed time 40.69 sec\n",
      "EvaluatorHoldout: Processed 35584 (100.0%) in 20.07 sec. Users per second: 1773\n"
     ]
    },
    {
     "name": "stderr",
     "output_type": "stream",
     "text": [
      "[I 2024-11-05 17:30:32,592] Trial 51 finished with value: 0.05452851446521125 and parameters: {'similarity': 'tversky', 'topK': 6, 'shrink': 6, 'tversky_alpha': 0.21006856489249198, 'tversky_beta': 1.9988966901700487}. Best is trial 41 with value: 0.05471520774451674.\n"
     ]
    },
    {
     "name": "stdout",
     "output_type": "stream",
     "text": [
      "Unable to load Cython Compute_Similarity, reverting to Python\n",
      "Similarity column 38121 (100.0%), 935.70 column/sec. Elapsed time 40.74 sec\n",
      "EvaluatorHoldout: Processed 35584 (100.0%) in 20.05 sec. Users per second: 1774\n"
     ]
    },
    {
     "name": "stderr",
     "output_type": "stream",
     "text": [
      "[I 2024-11-05 17:31:33,503] Trial 52 finished with value: 0.054190627408785344 and parameters: {'similarity': 'tversky', 'topK': 8, 'shrink': 7, 'tversky_alpha': 0.2817500129427135, 'tversky_beta': 1.792306195359799}. Best is trial 41 with value: 0.05471520774451674.\n"
     ]
    },
    {
     "name": "stdout",
     "output_type": "stream",
     "text": [
      "Unable to load Cython Compute_Similarity, reverting to Python\n",
      "Similarity column 38121 (100.0%), 1033.88 column/sec. Elapsed time 36.87 sec\n",
      "EvaluatorHoldout: Processed 35584 (100.0%) in 20.18 sec. Users per second: 1763\n"
     ]
    },
    {
     "name": "stderr",
     "output_type": "stream",
     "text": [
      "[I 2024-11-05 17:32:30,650] Trial 53 finished with value: 0.04976445963764533 and parameters: {'similarity': 'jaccard', 'topK': 15, 'shrink': 10}. Best is trial 41 with value: 0.05471520774451674.\n"
     ]
    },
    {
     "name": "stdout",
     "output_type": "stream",
     "text": [
      "Unable to load Cython Compute_Similarity, reverting to Python\n",
      "Similarity column 38121 (100.0%), 977.53 column/sec. Elapsed time 39.00 sec\n",
      "EvaluatorHoldout: Processed 35584 (100.0%) in 19.93 sec. Users per second: 1785\n"
     ]
    },
    {
     "name": "stderr",
     "output_type": "stream",
     "text": [
      "[I 2024-11-05 17:33:29,670] Trial 54 finished with value: 0.05493157371424095 and parameters: {'similarity': 'tversky', 'topK': 5, 'shrink': 30, 'tversky_alpha': 0.2725427117879892, 'tversky_beta': 1.798355560283165}. Best is trial 54 with value: 0.05493157371424095.\n"
     ]
    },
    {
     "name": "stdout",
     "output_type": "stream",
     "text": [
      "Unable to load Cython Compute_Similarity, reverting to Python\n",
      "Similarity column 38121 (100.0%), 910.11 column/sec. Elapsed time 41.89 sec\n",
      "EvaluatorHoldout: Processed 35584 (100.0%) in 20.10 sec. Users per second: 1770\n"
     ]
    },
    {
     "name": "stderr",
     "output_type": "stream",
     "text": [
      "[I 2024-11-05 17:34:31,749] Trial 55 finished with value: 0.0542429493904855 and parameters: {'similarity': 'tversky', 'topK': 5, 'shrink': 22, 'tversky_alpha': 0.4656947551970777, 'tversky_beta': 1.3653168218920215}. Best is trial 54 with value: 0.05493157371424095.\n"
     ]
    },
    {
     "name": "stdout",
     "output_type": "stream",
     "text": [
      "Unable to load Cython Compute_Similarity, reverting to Python\n",
      "Similarity column 38121 (100.0%), 942.41 column/sec. Elapsed time 40.45 sec\n",
      "EvaluatorHoldout: Processed 35584 (100.0%) in 20.19 sec. Users per second: 1762\n"
     ]
    },
    {
     "name": "stderr",
     "output_type": "stream",
     "text": [
      "[I 2024-11-05 17:35:32,489] Trial 56 finished with value: 0.05172814650065453 and parameters: {'similarity': 'tversky', 'topK': 9, 'shrink': 30, 'tversky_alpha': 1.443885661065984, 'tversky_beta': 1.7914872565983162}. Best is trial 54 with value: 0.05493157371424095.\n"
     ]
    },
    {
     "name": "stdout",
     "output_type": "stream",
     "text": [
      "Unable to load Cython Compute_Similarity, reverting to Python\n",
      "Similarity column 38121 (100.0%), 938.40 column/sec. Elapsed time 40.62 sec\n",
      "EvaluatorHoldout: Processed 35584 (100.0%) in 19.83 sec. Users per second: 1794\n"
     ]
    },
    {
     "name": "stderr",
     "output_type": "stream",
     "text": [
      "[I 2024-11-05 17:36:33,046] Trial 57 finished with value: 0.055017197179754215 and parameters: {'similarity': 'tversky', 'topK': 5, 'shrink': 23, 'tversky_alpha': 0.32962986995923305, 'tversky_beta': 1.7943904308900898}. Best is trial 57 with value: 0.055017197179754215.\n"
     ]
    },
    {
     "name": "stdout",
     "output_type": "stream",
     "text": [
      "Unable to load Cython Compute_Similarity, reverting to Python\n",
      "Similarity column 38121 (100.0%), 1091.93 column/sec. Elapsed time 34.91 sec\n",
      "EvaluatorHoldout: Processed 35584 (100.0%) in 20.39 sec. Users per second: 1745\n"
     ]
    },
    {
     "name": "stderr",
     "output_type": "stream",
     "text": [
      "[I 2024-11-05 17:37:28,440] Trial 58 finished with value: 0.05059751306097794 and parameters: {'similarity': 'cosine', 'topK': 5, 'shrink': 26}. Best is trial 57 with value: 0.055017197179754215.\n"
     ]
    },
    {
     "name": "stdout",
     "output_type": "stream",
     "text": [
      "Unable to load Cython Compute_Similarity, reverting to Python\n",
      "Similarity column 38121 (100.0%), 938.31 column/sec. Elapsed time 40.63 sec\n",
      "EvaluatorHoldout: Processed 35584 (100.0%) in 20.18 sec. Users per second: 1763\n"
     ]
    },
    {
     "name": "stderr",
     "output_type": "stream",
     "text": [
      "[I 2024-11-05 17:38:29,341] Trial 59 finished with value: 0.05407408782795002 and parameters: {'similarity': 'tversky', 'topK': 7, 'shrink': 25, 'tversky_alpha': 0.1291851231739024, 'tversky_beta': 1.3992296229212775}. Best is trial 57 with value: 0.055017197179754215.\n"
     ]
    },
    {
     "name": "stdout",
     "output_type": "stream",
     "text": [
      "Unable to load Cython Compute_Similarity, reverting to Python\n",
      "Similarity column 38121 (100.0%), 1023.06 column/sec. Elapsed time 37.26 sec\n",
      "EvaluatorHoldout: Processed 35584 (100.0%) in 20.41 sec. Users per second: 1743\n"
     ]
    },
    {
     "name": "stderr",
     "output_type": "stream",
     "text": [
      "[I 2024-11-05 17:39:27,108] Trial 60 finished with value: 0.051834617127724546 and parameters: {'similarity': 'jaccard', 'topK': 5, 'shrink': 23}. Best is trial 57 with value: 0.055017197179754215.\n"
     ]
    },
    {
     "name": "stdout",
     "output_type": "stream",
     "text": [
      "Unable to load Cython Compute_Similarity, reverting to Python\n",
      "Similarity column 38121 (100.0%), 919.44 column/sec. Elapsed time 41.46 sec\n",
      "EvaluatorHoldout: Processed 35584 (100.0%) in 20.73 sec. Users per second: 1716\n"
     ]
    },
    {
     "name": "stderr",
     "output_type": "stream",
     "text": [
      "[I 2024-11-05 17:40:29,399] Trial 61 finished with value: 0.05433990865343253 and parameters: {'similarity': 'tversky', 'topK': 6, 'shrink': 29, 'tversky_alpha': 0.3557330250776131, 'tversky_beta': 1.827416572851482}. Best is trial 57 with value: 0.055017197179754215.\n"
     ]
    },
    {
     "name": "stdout",
     "output_type": "stream",
     "text": [
      "Unable to load Cython Compute_Similarity, reverting to Python\n",
      "Similarity column 38121 (100.0%), 932.99 column/sec. Elapsed time 40.86 sec\n",
      "EvaluatorHoldout: Processed 35584 (100.0%) in 20.07 sec. Users per second: 1773\n"
     ]
    },
    {
     "name": "stderr",
     "output_type": "stream",
     "text": [
      "[I 2024-11-05 17:41:30,421] Trial 62 finished with value: 0.054435217451037236 and parameters: {'similarity': 'tversky', 'topK': 5, 'shrink': 23, 'tversky_alpha': 0.6254815111016163, 'tversky_beta': 1.8203846000523365}. Best is trial 57 with value: 0.055017197179754215.\n"
     ]
    },
    {
     "name": "stdout",
     "output_type": "stream",
     "text": [
      "Unable to load Cython Compute_Similarity, reverting to Python\n",
      "Similarity column 38121 (100.0%), 935.65 column/sec. Elapsed time 40.74 sec\n",
      "EvaluatorHoldout: Processed 35584 (100.0%) in 20.16 sec. Users per second: 1765\n"
     ]
    },
    {
     "name": "stderr",
     "output_type": "stream",
     "text": [
      "[I 2024-11-05 17:42:31,426] Trial 63 finished with value: 0.05389069324897039 and parameters: {'similarity': 'tversky', 'topK': 8, 'shrink': 1, 'tversky_alpha': 0.333738062698703, 'tversky_beta': 1.8128792122971213}. Best is trial 57 with value: 0.055017197179754215.\n"
     ]
    },
    {
     "name": "stdout",
     "output_type": "stream",
     "text": [
      "Similarity column 38121 (100.0%), 937.68 column/sec. Elapsed time 40.65 sec\n",
      "EvaluatorHoldout: Processed 35584 (100.0%) in 20.00 sec. Users per second: 1779\n"
     ]
    },
    {
     "name": "stderr",
     "output_type": "stream",
     "text": [
      "[I 2024-11-05 17:43:32,156] Trial 64 finished with value: 0.02964310582783739 and parameters: {'similarity': 'euclidean', 'topK': 7, 'shrink': 27, 'normalize_avg_row': False, 'similarity_from_distance_mode': 'lin', 'normalize': False}. Best is trial 57 with value: 0.055017197179754215.\n"
     ]
    },
    {
     "name": "stdout",
     "output_type": "stream",
     "text": [
      "Unable to load Cython Compute_Similarity, reverting to Python\n",
      "Similarity column 38121 (100.0%), 924.94 column/sec. Elapsed time 41.21 sec\n",
      "EvaluatorHoldout: Processed 35584 (100.0%) in 19.30 sec. Users per second: 1844\n"
     ]
    },
    {
     "name": "stderr",
     "output_type": "stream",
     "text": [
      "[I 2024-11-05 17:44:32,773] Trial 65 finished with value: 0.05447931163997177 and parameters: {'similarity': 'tversky', 'topK': 6, 'shrink': 9, 'tversky_alpha': 0.5248833900252635, 'tversky_beta': 1.8491070304079789}. Best is trial 57 with value: 0.055017197179754215.\n"
     ]
    },
    {
     "name": "stdout",
     "output_type": "stream",
     "text": [
      "Unable to load Cython Compute_Similarity, reverting to Python\n",
      "Similarity column 38121 (100.0%), 1143.99 column/sec. Elapsed time 33.32 sec\n",
      "EvaluatorHoldout: Processed 35584 (100.0%) in 19.58 sec. Users per second: 1817\n"
     ]
    },
    {
     "name": "stderr",
     "output_type": "stream",
     "text": [
      "[I 2024-11-05 17:45:25,770] Trial 66 finished with value: 0.051360041431138904 and parameters: {'similarity': 'dice', 'topK': 7, 'shrink': 19}. Best is trial 57 with value: 0.055017197179754215.\n"
     ]
    },
    {
     "name": "stdout",
     "output_type": "stream",
     "text": [
      "Unable to load Cython Compute_Similarity, reverting to Python\n",
      "Similarity column 38121 (100.0%), 926.07 column/sec. Elapsed time 41.16 sec\n",
      "EvaluatorHoldout: Processed 35584 (100.0%) in 20.70 sec. Users per second: 1719\n"
     ]
    },
    {
     "name": "stderr",
     "output_type": "stream",
     "text": [
      "[I 2024-11-05 17:46:27,729] Trial 67 finished with value: 0.05457730578929494 and parameters: {'similarity': 'tversky', 'topK': 5, 'shrink': 5, 'tversky_alpha': 0.05436689441582576, 'tversky_beta': 0.7015996705002925}. Best is trial 57 with value: 0.055017197179754215.\n"
     ]
    },
    {
     "name": "stdout",
     "output_type": "stream",
     "text": [
      "Unable to load Cython Compute_Similarity, reverting to Python\n",
      "Similarity column 38121 (100.0%), 921.72 column/sec. Elapsed time 41.36 sec\n",
      "EvaluatorHoldout: Processed 35584 (100.0%) in 20.16 sec. Users per second: 1765\n"
     ]
    },
    {
     "name": "stderr",
     "output_type": "stream",
     "text": [
      "[I 2024-11-05 17:47:29,355] Trial 68 finished with value: 0.05214297089114212 and parameters: {'similarity': 'tversky', 'topK': 17, 'shrink': 8, 'tversky_alpha': 0.23931650089398043, 'tversky_beta': 1.4730864713075595}. Best is trial 57 with value: 0.055017197179754215.\n"
     ]
    },
    {
     "name": "stdout",
     "output_type": "stream",
     "text": [
      "Unable to load Cython Compute_Similarity, reverting to Python\n",
      "Similarity column 38121 (100.0%), 1154.81 column/sec. Elapsed time 33.01 sec\n",
      "EvaluatorHoldout: Processed 35584 (100.0%) in 19.77 sec. Users per second: 1800\n"
     ]
    },
    {
     "name": "stderr",
     "output_type": "stream",
     "text": [
      "[I 2024-11-05 17:48:22,235] Trial 69 finished with value: 0.051411495803355585 and parameters: {'similarity': 'cosine', 'topK': 6, 'shrink': 11}. Best is trial 57 with value: 0.055017197179754215.\n"
     ]
    },
    {
     "name": "stdout",
     "output_type": "stream",
     "text": [
      "Unable to load Cython Compute_Similarity, reverting to Python\n",
      "Similarity column 38121 (100.0%), 982.42 column/sec. Elapsed time 38.80 sec\n",
      "EvaluatorHoldout: Processed 35584 (100.0%) in 19.64 sec. Users per second: 1811\n"
     ]
    },
    {
     "name": "stderr",
     "output_type": "stream",
     "text": [
      "[I 2024-11-05 17:49:20,772] Trial 70 finished with value: 0.053682606370259 and parameters: {'similarity': 'tversky', 'topK': 8, 'shrink': 4, 'tversky_alpha': 0.6045579449100963, 'tversky_beta': 1.8518228930495146}. Best is trial 57 with value: 0.055017197179754215.\n"
     ]
    },
    {
     "name": "stdout",
     "output_type": "stream",
     "text": [
      "Unable to load Cython Compute_Similarity, reverting to Python\n",
      "Similarity column 38121 (100.0%), 986.23 column/sec. Elapsed time 38.65 sec\n",
      "EvaluatorHoldout: Processed 35584 (100.0%) in 19.53 sec. Users per second: 1822\n"
     ]
    },
    {
     "name": "stderr",
     "output_type": "stream",
     "text": [
      "[I 2024-11-05 17:50:19,039] Trial 71 finished with value: 0.05455276515394604 and parameters: {'similarity': 'tversky', 'topK': 5, 'shrink': 5, 'tversky_alpha': 0.051723580839574054, 'tversky_beta': 0.6844899342311005}. Best is trial 57 with value: 0.055017197179754215.\n"
     ]
    },
    {
     "name": "stdout",
     "output_type": "stream",
     "text": [
      "Unable to load Cython Compute_Similarity, reverting to Python\n",
      "Similarity column 38121 (100.0%), 985.14 column/sec. Elapsed time 38.70 sec\n",
      "EvaluatorHoldout: Processed 35584 (100.0%) in 19.77 sec. Users per second: 1800\n"
     ]
    },
    {
     "name": "stderr",
     "output_type": "stream",
     "text": [
      "[I 2024-11-05 17:51:17,590] Trial 72 finished with value: 0.054763603179953935 and parameters: {'similarity': 'tversky', 'topK': 5, 'shrink': 7, 'tversky_alpha': 0.16135453456151883, 'tversky_beta': 0.8083591679350538}. Best is trial 57 with value: 0.055017197179754215.\n"
     ]
    },
    {
     "name": "stdout",
     "output_type": "stream",
     "text": [
      "Unable to load Cython Compute_Similarity, reverting to Python\n",
      "Similarity column 38121 (100.0%), 930.69 column/sec. Elapsed time 40.96 sec\n",
      "EvaluatorHoldout: Processed 35584 (100.0%) in 20.04 sec. Users per second: 1776\n"
     ]
    },
    {
     "name": "stderr",
     "output_type": "stream",
     "text": [
      "[I 2024-11-05 17:52:18,682] Trial 73 finished with value: 0.05404308584382324 and parameters: {'similarity': 'tversky', 'topK': 6, 'shrink': 7, 'tversky_alpha': 0.3242982396800525, 'tversky_beta': 1.0153490932276852}. Best is trial 57 with value: 0.055017197179754215.\n"
     ]
    },
    {
     "name": "stdout",
     "output_type": "stream",
     "text": [
      "Unable to load Cython Compute_Similarity, reverting to Python\n",
      "Similarity column 38121 (100.0%), 927.93 column/sec. Elapsed time 41.08 sec\n",
      "EvaluatorHoldout: Processed 35584 (100.0%) in 20.13 sec. Users per second: 1768\n"
     ]
    },
    {
     "name": "stderr",
     "output_type": "stream",
     "text": [
      "[I 2024-11-05 17:53:19,995] Trial 74 finished with value: 0.04791913678878168 and parameters: {'similarity': 'tversky', 'topK': 7, 'shrink': 7, 'tversky_alpha': 1.9634443209779626, 'tversky_beta': 0.7990685171852048}. Best is trial 57 with value: 0.055017197179754215.\n"
     ]
    },
    {
     "name": "stdout",
     "output_type": "stream",
     "text": [
      "Unable to load Cython Compute_Similarity, reverting to Python\n",
      "Similarity column 38121 (100.0%), 923.81 column/sec. Elapsed time 41.26 sec\n",
      "EvaluatorHoldout: Processed 35584 (100.0%) in 20.27 sec. Users per second: 1756\n"
     ]
    },
    {
     "name": "stderr",
     "output_type": "stream",
     "text": [
      "[I 2024-11-05 17:54:21,621] Trial 75 finished with value: 0.05482468043422201 and parameters: {'similarity': 'tversky', 'topK': 5, 'shrink': 9, 'tversky_alpha': 0.19161424712879307, 'tversky_beta': 0.8911667220818784}. Best is trial 57 with value: 0.055017197179754215.\n"
     ]
    },
    {
     "name": "stdout",
     "output_type": "stream",
     "text": [
      "Unable to load Cython Compute_Similarity, reverting to Python\n",
      "Similarity column 38121 (100.0%), 899.42 column/sec. Elapsed time 42.38 sec\n",
      "EvaluatorHoldout: Processed 35584 (100.0%) in 20.94 sec. Users per second: 1699\n"
     ]
    },
    {
     "name": "stderr",
     "output_type": "stream",
     "text": [
      "[I 2024-11-05 17:55:25,048] Trial 76 finished with value: 0.05482993738937205 and parameters: {'similarity': 'tversky', 'topK': 5, 'shrink': 9, 'tversky_alpha': 0.1698193233928452, 'tversky_beta': 0.8385462560151411}. Best is trial 57 with value: 0.055017197179754215.\n"
     ]
    },
    {
     "name": "stdout",
     "output_type": "stream",
     "text": [
      "Unable to load Cython Compute_Similarity, reverting to Python\n",
      "Similarity column 38121 (100.0%), 984.36 column/sec. Elapsed time 38.73 sec\n",
      "EvaluatorHoldout: Processed 35584 (100.0%) in 20.70 sec. Users per second: 1719\n"
     ]
    },
    {
     "name": "stderr",
     "output_type": "stream",
     "text": [
      "[I 2024-11-05 17:56:24,608] Trial 77 finished with value: 0.05191900051387275 and parameters: {'similarity': 'jaccard', 'topK': 5, 'shrink': 11}. Best is trial 57 with value: 0.055017197179754215.\n"
     ]
    },
    {
     "name": "stdout",
     "output_type": "stream",
     "text": [
      "Unable to load Cython Compute_Similarity, reverting to Python\n",
      "Similarity column 38121 (100.0%), 1035.49 column/sec. Elapsed time 36.81 sec\n",
      "EvaluatorHoldout: Processed 35584 (100.0%) in 19.68 sec. Users per second: 1808\n"
     ]
    },
    {
     "name": "stderr",
     "output_type": "stream",
     "text": [
      "[I 2024-11-05 17:57:21,196] Trial 78 finished with value: 0.05193031066218256 and parameters: {'similarity': 'dice', 'topK': 5, 'shrink': 9}. Best is trial 57 with value: 0.055017197179754215.\n"
     ]
    },
    {
     "name": "stdout",
     "output_type": "stream",
     "text": [
      "Unable to load Cython Compute_Similarity, reverting to Python\n",
      "Similarity column 38121 (100.0%), 986.01 column/sec. Elapsed time 38.66 sec\n",
      "EvaluatorHoldout: Processed 35584 (100.0%) in 19.56 sec. Users per second: 1819\n"
     ]
    },
    {
     "name": "stderr",
     "output_type": "stream",
     "text": [
      "[I 2024-11-05 17:58:19,510] Trial 79 finished with value: 0.054707023443743126 and parameters: {'similarity': 'tversky', 'topK': 5, 'shrink': 13, 'tversky_alpha': 0.16708154185062019, 'tversky_beta': 0.8707524629923475}. Best is trial 57 with value: 0.055017197179754215.\n"
     ]
    },
    {
     "name": "stdout",
     "output_type": "stream",
     "text": [
      "Unable to load Cython Compute_Similarity, reverting to Python\n",
      "Similarity column 38121 (100.0%), 982.62 column/sec. Elapsed time 38.80 sec\n",
      "EvaluatorHoldout: Processed 35584 (100.0%) in 19.48 sec. Users per second: 1826\n"
     ]
    },
    {
     "name": "stderr",
     "output_type": "stream",
     "text": [
      "[I 2024-11-05 17:59:17,901] Trial 80 finished with value: 0.0546806650661594 and parameters: {'similarity': 'tversky', 'topK': 5, 'shrink': 13, 'tversky_alpha': 0.1455524870012191, 'tversky_beta': 0.8297853507393641}. Best is trial 57 with value: 0.055017197179754215.\n"
     ]
    },
    {
     "name": "stdout",
     "output_type": "stream",
     "text": [
      "Unable to load Cython Compute_Similarity, reverting to Python\n",
      "Similarity column 38121 (100.0%), 962.46 column/sec. Elapsed time 39.61 sec\n",
      "EvaluatorHoldout: Processed 35584 (100.0%) in 19.52 sec. Users per second: 1823\n"
     ]
    },
    {
     "name": "stderr",
     "output_type": "stream",
     "text": [
      "[I 2024-11-05 18:00:17,119] Trial 81 finished with value: 0.05441526466326738 and parameters: {'similarity': 'tversky', 'topK': 5, 'shrink': 16, 'tversky_alpha': 0.17197388733316765, 'tversky_beta': 0.8608912470328645}. Best is trial 57 with value: 0.055017197179754215.\n"
     ]
    },
    {
     "name": "stdout",
     "output_type": "stream",
     "text": [
      "Unable to load Cython Compute_Similarity, reverting to Python\n",
      "Similarity column 38121 (100.0%), 983.95 column/sec. Elapsed time 38.74 sec\n",
      "EvaluatorHoldout: Processed 35584 (100.0%) in 19.43 sec. Users per second: 1832\n"
     ]
    },
    {
     "name": "stderr",
     "output_type": "stream",
     "text": [
      "[I 2024-11-05 18:01:15,386] Trial 82 finished with value: 0.05490300505131422 and parameters: {'similarity': 'tversky', 'topK': 5, 'shrink': 14, 'tversky_alpha': 0.12976149613212973, 'tversky_beta': 0.9029635898858168}. Best is trial 57 with value: 0.055017197179754215.\n"
     ]
    },
    {
     "name": "stdout",
     "output_type": "stream",
     "text": [
      "Unable to load Cython Compute_Similarity, reverting to Python\n",
      "Similarity column 38121 (100.0%), 985.34 column/sec. Elapsed time 38.69 sec\n",
      "EvaluatorHoldout: Processed 35584 (100.0%) in 19.51 sec. Users per second: 1824\n"
     ]
    },
    {
     "name": "stderr",
     "output_type": "stream",
     "text": [
      "[I 2024-11-05 18:02:13,685] Trial 83 finished with value: 0.055001608088527144 and parameters: {'similarity': 'tversky', 'topK': 5, 'shrink': 13, 'tversky_alpha': 0.09344628267218474, 'tversky_beta': 0.8885660377184139}. Best is trial 57 with value: 0.055017197179754215.\n"
     ]
    },
    {
     "name": "stdout",
     "output_type": "stream",
     "text": [
      "Similarity column 38121 (100.0%), 866.99 column/sec. Elapsed time 43.97 sec\n",
      "EvaluatorHoldout: Processed 35584 (100.0%) in 19.80 sec. Users per second: 1797\n"
     ]
    },
    {
     "name": "stderr",
     "output_type": "stream",
     "text": [
      "[I 2024-11-05 18:03:17,521] Trial 84 finished with value: 0.047257355945598885 and parameters: {'similarity': 'euclidean', 'topK': 5, 'shrink': 13, 'normalize_avg_row': False, 'similarity_from_distance_mode': 'exp', 'normalize': True}. Best is trial 57 with value: 0.055017197179754215.\n"
     ]
    },
    {
     "name": "stdout",
     "output_type": "stream",
     "text": [
      "Unable to load Cython Compute_Similarity, reverting to Python\n",
      "Similarity column 38121 (100.0%), 976.81 column/sec. Elapsed time 39.03 sec\n",
      "EvaluatorHoldout: Processed 35584 (100.0%) in 20.21 sec. Users per second: 1761\n"
     ]
    },
    {
     "name": "stderr",
     "output_type": "stream",
     "text": [
      "[I 2024-11-05 18:04:16,842] Trial 85 finished with value: 0.054926379209130724 and parameters: {'similarity': 'tversky', 'topK': 5, 'shrink': 15, 'tversky_alpha': 0.11711940978888706, 'tversky_beta': 0.9339852992344884}. Best is trial 57 with value: 0.055017197179754215.\n"
     ]
    },
    {
     "name": "stdout",
     "output_type": "stream",
     "text": [
      "Unable to load Cython Compute_Similarity, reverting to Python\n",
      "Similarity column 38121 (100.0%), 980.15 column/sec. Elapsed time 38.89 sec\n",
      "EvaluatorHoldout: Processed 35584 (100.0%) in 20.32 sec. Users per second: 1751\n"
     ]
    },
    {
     "name": "stderr",
     "output_type": "stream",
     "text": [
      "[I 2024-11-05 18:05:16,149] Trial 86 finished with value: 0.05496735312642532 and parameters: {'similarity': 'tversky', 'topK': 5, 'shrink': 15, 'tversky_alpha': 0.07257022732899931, 'tversky_beta': 1.1507604233859674}. Best is trial 57 with value: 0.055017197179754215.\n"
     ]
    },
    {
     "name": "stdout",
     "output_type": "stream",
     "text": [
      "Unable to load Cython Compute_Similarity, reverting to Python\n",
      "Similarity column 38121 (100.0%), 981.32 column/sec. Elapsed time 38.85 sec\n",
      "EvaluatorHoldout: Processed 35584 (100.0%) in 20.35 sec. Users per second: 1749\n"
     ]
    },
    {
     "name": "stderr",
     "output_type": "stream",
     "text": [
      "[I 2024-11-05 18:06:15,454] Trial 87 finished with value: 0.055003551846021126 and parameters: {'similarity': 'tversky', 'topK': 5, 'shrink': 15, 'tversky_alpha': 0.08391434921276707, 'tversky_beta': 1.0743486519446637}. Best is trial 57 with value: 0.055017197179754215.\n"
     ]
    },
    {
     "name": "stdout",
     "output_type": "stream",
     "text": [
      "Unable to load Cython Compute_Similarity, reverting to Python\n",
      "Similarity column 38121 (100.0%), 970.48 column/sec. Elapsed time 39.28 sec\n",
      "EvaluatorHoldout: Processed 35584 (100.0%) in 20.50 sec. Users per second: 1736\n"
     ]
    },
    {
     "name": "stderr",
     "output_type": "stream",
     "text": [
      "[I 2024-11-05 18:07:15,316] Trial 88 finished with value: 0.0547516495731966 and parameters: {'similarity': 'tversky', 'topK': 5, 'shrink': 15, 'tversky_alpha': 0.009496929886020092, 'tversky_beta': 1.1237498058649904}. Best is trial 57 with value: 0.055017197179754215.\n"
     ]
    },
    {
     "name": "stdout",
     "output_type": "stream",
     "text": [
      "Unable to load Cython Compute_Similarity, reverting to Python\n",
      "Similarity column 38121 (100.0%), 975.06 column/sec. Elapsed time 39.10 sec\n",
      "EvaluatorHoldout: Processed 35584 (100.0%) in 20.39 sec. Users per second: 1746\n"
     ]
    },
    {
     "name": "stderr",
     "output_type": "stream",
     "text": [
      "[I 2024-11-05 18:08:14,888] Trial 89 finished with value: 0.05384945726454351 and parameters: {'similarity': 'tversky', 'topK': 7, 'shrink': 17, 'tversky_alpha': 0.09975216835990498, 'tversky_beta': 0.977127688436394}. Best is trial 57 with value: 0.055017197179754215.\n"
     ]
    },
    {
     "name": "stdout",
     "output_type": "stream",
     "text": [
      "Unable to load Cython Compute_Similarity, reverting to Python\n",
      "Similarity column 38121 (100.0%), 976.44 column/sec. Elapsed time 39.04 sec\n",
      "EvaluatorHoldout: Processed 35584 (100.0%) in 20.39 sec. Users per second: 1745\n"
     ]
    },
    {
     "name": "stderr",
     "output_type": "stream",
     "text": [
      "[I 2024-11-05 18:09:14,408] Trial 90 finished with value: 0.05449373425366645 and parameters: {'similarity': 'tversky', 'topK': 6, 'shrink': 18, 'tversky_alpha': 0.09078088181112946, 'tversky_beta': 1.2081669598372602}. Best is trial 57 with value: 0.055017197179754215.\n"
     ]
    },
    {
     "name": "stdout",
     "output_type": "stream",
     "text": [
      "Unable to load Cython Compute_Similarity, reverting to Python\n",
      "Similarity column 38121 (100.0%), 932.12 column/sec. Elapsed time 40.90 sec\n",
      "EvaluatorHoldout: Processed 35584 (100.0%) in 19.82 sec. Users per second: 1796\n"
     ]
    },
    {
     "name": "stderr",
     "output_type": "stream",
     "text": [
      "[I 2024-11-05 18:10:15,210] Trial 91 finished with value: 0.053608700093494506 and parameters: {'similarity': 'tversky', 'topK': 5, 'shrink': 15, 'tversky_alpha': 0.1752175935413229, 'tversky_beta': 0.5670531040113005}. Best is trial 57 with value: 0.055017197179754215.\n"
     ]
    },
    {
     "name": "stdout",
     "output_type": "stream",
     "text": [
      "Unable to load Cython Compute_Similarity, reverting to Python\n",
      "Similarity column 38121 (100.0%), 912.46 column/sec. Elapsed time 41.78 sec\n",
      "EvaluatorHoldout: Processed 35584 (100.0%) in 20.13 sec. Users per second: 1768\n"
     ]
    },
    {
     "name": "stderr",
     "output_type": "stream",
     "text": [
      "[I 2024-11-05 18:11:17,210] Trial 92 finished with value: 0.04972088400707832 and parameters: {'similarity': 'tversky', 'topK': 5, 'shrink': 15, 'tversky_alpha': 0.10936547640241859, 'tversky_beta': 0.16788880840964504}. Best is trial 57 with value: 0.055017197179754215.\n"
     ]
    },
    {
     "name": "stdout",
     "output_type": "stream",
     "text": [
      "Unable to load Cython Compute_Similarity, reverting to Python\n",
      "Similarity column 38121 (100.0%), 939.04 column/sec. Elapsed time 40.60 sec\n",
      "EvaluatorHoldout: Processed 35584 (100.0%) in 19.53 sec. Users per second: 1822\n"
     ]
    },
    {
     "name": "stderr",
     "output_type": "stream",
     "text": [
      "[I 2024-11-05 18:12:17,422] Trial 93 finished with value: 0.05424275646446924 and parameters: {'similarity': 'tversky', 'topK': 6, 'shrink': 16, 'tversky_alpha': 0.004504133612216438, 'tversky_beta': 0.9698569311783002}. Best is trial 57 with value: 0.055017197179754215.\n"
     ]
    },
    {
     "name": "stdout",
     "output_type": "stream",
     "text": [
      "Unable to load Cython Compute_Similarity, reverting to Python\n",
      "Similarity column 38121 (100.0%), 934.70 column/sec. Elapsed time 40.78 sec\n",
      "EvaluatorHoldout: Processed 35584 (100.0%) in 21.97 sec. Users per second: 1620\n"
     ]
    },
    {
     "name": "stderr",
     "output_type": "stream",
     "text": [
      "[I 2024-11-05 18:13:20,258] Trial 94 finished with value: 0.05410382742912611 and parameters: {'similarity': 'tversky', 'topK': 5, 'shrink': 14, 'tversky_alpha': 0.20963040932931454, 'tversky_beta': 0.718830185686062}. Best is trial 57 with value: 0.055017197179754215.\n"
     ]
    },
    {
     "name": "stdout",
     "output_type": "stream",
     "text": [
      "Unable to load Cython Compute_Similarity, reverting to Python\n",
      "Similarity column 38121 (100.0%), 1144.36 column/sec. Elapsed time 33.31 sec\n",
      "EvaluatorHoldout: Processed 35584 (100.0%) in 26.63 sec. Users per second: 1336\n"
     ]
    },
    {
     "name": "stderr",
     "output_type": "stream",
     "text": [
      "[I 2024-11-05 18:14:20,298] Trial 95 finished with value: 0.05134734846051548 and parameters: {'similarity': 'cosine', 'topK': 6, 'shrink': 12}. Best is trial 57 with value: 0.055017197179754215.\n"
     ]
    },
    {
     "name": "stdout",
     "output_type": "stream",
     "text": [
      "Unable to load Cython Compute_Similarity, reverting to Python\n",
      "Similarity column 38121 (100.0%), 999.65 column/sec. Elapsed time 38.13 sec\n",
      "EvaluatorHoldout: Processed 35584 (100.0%) in 22.19 sec. Users per second: 1604\n"
     ]
    },
    {
     "name": "stderr",
     "output_type": "stream",
     "text": [
      "[I 2024-11-05 18:15:20,732] Trial 96 finished with value: 0.054374820456133295 and parameters: {'similarity': 'tversky', 'topK': 5, 'shrink': 18, 'tversky_alpha': 0.21886388320032668, 'tversky_beta': 0.9157416734588933}. Best is trial 57 with value: 0.055017197179754215.\n"
     ]
    },
    {
     "name": "stdout",
     "output_type": "stream",
     "text": [
      "Unable to load Cython Compute_Similarity, reverting to Python\n",
      "Similarity column 38121 (100.0%), 885.70 column/sec. Elapsed time 43.04 sec\n",
      "EvaluatorHoldout: Processed 35584 (100.0%) in 20.15 sec. Users per second: 1766\n"
     ]
    },
    {
     "name": "stderr",
     "output_type": "stream",
     "text": [
      "[I 2024-11-05 18:16:24,043] Trial 97 finished with value: 0.05506729549395972 and parameters: {'similarity': 'tversky', 'topK': 5, 'shrink': 13, 'tversky_alpha': 0.09607461817495747, 'tversky_beta': 1.0919901134588756}. Best is trial 97 with value: 0.05506729549395972.\n"
     ]
    },
    {
     "name": "stdout",
     "output_type": "stream",
     "text": [
      "Unable to load Cython Compute_Similarity, reverting to Python\n",
      "Similarity column 38121 (100.0%), 913.49 column/sec. Elapsed time 41.73 sec\n",
      "EvaluatorHoldout: Processed 35584 (100.0%) in 20.24 sec. Users per second: 1758\n"
     ]
    },
    {
     "name": "stderr",
     "output_type": "stream",
     "text": [
      "[I 2024-11-05 18:17:26,118] Trial 98 finished with value: 0.05472859770219361 and parameters: {'similarity': 'tversky', 'topK': 6, 'shrink': 13, 'tversky_alpha': 0.07928744967392476, 'tversky_beta': 1.2035267357235322}. Best is trial 97 with value: 0.05506729549395972.\n"
     ]
    },
    {
     "name": "stdout",
     "output_type": "stream",
     "text": [
      "Unable to load Cython Compute_Similarity, reverting to Python\n",
      "Similarity column 38121 (100.0%), 1046.72 column/sec. Elapsed time 36.42 sec\n",
      "EvaluatorHoldout: Processed 35584 (100.0%) in 20.74 sec. Users per second: 1716\n"
     ]
    },
    {
     "name": "stderr",
     "output_type": "stream",
     "text": [
      "[I 2024-11-05 18:18:23,356] Trial 99 finished with value: 0.05197074483270336 and parameters: {'similarity': 'dice', 'topK': 5, 'shrink': 16}. Best is trial 97 with value: 0.05506729549395972.\n"
     ]
    }
   ],
   "source": [
    "optuna_study = optuna.create_study(direction=\"maximize\")\n",
    "        \n",
    "save_results = SaveResults()\n",
    "        \n",
    "optuna_study.optimize(objective_function_KNN_similarities,\n",
    "                      callbacks=[save_results],\n",
    "                      n_trials = 100)"
   ]
  },
  {
   "cell_type": "code",
   "execution_count": 10,
   "id": "9e4aa9e8",
   "metadata": {},
   "outputs": [
    {
     "data": {
      "text/html": [
       "<div>\n",
       "<style scoped>\n",
       "    .dataframe tbody tr th:only-of-type {\n",
       "        vertical-align: middle;\n",
       "    }\n",
       "\n",
       "    .dataframe tbody tr th {\n",
       "        vertical-align: top;\n",
       "    }\n",
       "\n",
       "    .dataframe thead th {\n",
       "        text-align: right;\n",
       "    }\n",
       "</style>\n",
       "<table border=\"1\" class=\"dataframe\">\n",
       "  <thead>\n",
       "    <tr style=\"text-align: right;\">\n",
       "      <th></th>\n",
       "      <th>result</th>\n",
       "      <th>similarity</th>\n",
       "      <th>topK</th>\n",
       "      <th>shrink</th>\n",
       "      <th>asymmetric_alpha</th>\n",
       "      <th>tversky_alpha</th>\n",
       "      <th>tversky_beta</th>\n",
       "      <th>normalize_avg_row</th>\n",
       "      <th>similarity_from_distance_mode</th>\n",
       "      <th>normalize</th>\n",
       "    </tr>\n",
       "  </thead>\n",
       "  <tbody>\n",
       "    <tr>\n",
       "      <th>25</th>\n",
       "      <td>0.025029</td>\n",
       "      <td>euclidean</td>\n",
       "      <td>6.0</td>\n",
       "      <td>8.0</td>\n",
       "      <td>NaN</td>\n",
       "      <td>NaN</td>\n",
       "      <td>NaN</td>\n",
       "      <td>False</td>\n",
       "      <td>exp</td>\n",
       "      <td>False</td>\n",
       "    </tr>\n",
       "    <tr>\n",
       "      <th>64</th>\n",
       "      <td>0.029643</td>\n",
       "      <td>euclidean</td>\n",
       "      <td>7.0</td>\n",
       "      <td>27.0</td>\n",
       "      <td>NaN</td>\n",
       "      <td>NaN</td>\n",
       "      <td>NaN</td>\n",
       "      <td>False</td>\n",
       "      <td>lin</td>\n",
       "      <td>False</td>\n",
       "    </tr>\n",
       "    <tr>\n",
       "      <th>5</th>\n",
       "      <td>0.040281</td>\n",
       "      <td>euclidean</td>\n",
       "      <td>14.0</td>\n",
       "      <td>28.0</td>\n",
       "      <td>NaN</td>\n",
       "      <td>NaN</td>\n",
       "      <td>NaN</td>\n",
       "      <td>True</td>\n",
       "      <td>log</td>\n",
       "      <td>True</td>\n",
       "    </tr>\n",
       "    <tr>\n",
       "      <th>2</th>\n",
       "      <td>0.041901</td>\n",
       "      <td>tversky</td>\n",
       "      <td>7.0</td>\n",
       "      <td>6.0</td>\n",
       "      <td>NaN</td>\n",
       "      <td>1.678265</td>\n",
       "      <td>0.156546</td>\n",
       "      <td>NaN</td>\n",
       "      <td>NaN</td>\n",
       "      <td>NaN</td>\n",
       "    </tr>\n",
       "    <tr>\n",
       "      <th>50</th>\n",
       "      <td>0.046410</td>\n",
       "      <td>euclidean</td>\n",
       "      <td>6.0</td>\n",
       "      <td>16.0</td>\n",
       "      <td>NaN</td>\n",
       "      <td>NaN</td>\n",
       "      <td>NaN</td>\n",
       "      <td>True</td>\n",
       "      <td>lin</td>\n",
       "      <td>True</td>\n",
       "    </tr>\n",
       "    <tr>\n",
       "      <th>...</th>\n",
       "      <td>...</td>\n",
       "      <td>...</td>\n",
       "      <td>...</td>\n",
       "      <td>...</td>\n",
       "      <td>...</td>\n",
       "      <td>...</td>\n",
       "      <td>...</td>\n",
       "      <td>...</td>\n",
       "      <td>...</td>\n",
       "      <td>...</td>\n",
       "    </tr>\n",
       "    <tr>\n",
       "      <th>86</th>\n",
       "      <td>0.054967</td>\n",
       "      <td>tversky</td>\n",
       "      <td>5.0</td>\n",
       "      <td>15.0</td>\n",
       "      <td>NaN</td>\n",
       "      <td>0.072570</td>\n",
       "      <td>1.150760</td>\n",
       "      <td>NaN</td>\n",
       "      <td>NaN</td>\n",
       "      <td>NaN</td>\n",
       "    </tr>\n",
       "    <tr>\n",
       "      <th>83</th>\n",
       "      <td>0.055002</td>\n",
       "      <td>tversky</td>\n",
       "      <td>5.0</td>\n",
       "      <td>13.0</td>\n",
       "      <td>NaN</td>\n",
       "      <td>0.093446</td>\n",
       "      <td>0.888566</td>\n",
       "      <td>NaN</td>\n",
       "      <td>NaN</td>\n",
       "      <td>NaN</td>\n",
       "    </tr>\n",
       "    <tr>\n",
       "      <th>87</th>\n",
       "      <td>0.055004</td>\n",
       "      <td>tversky</td>\n",
       "      <td>5.0</td>\n",
       "      <td>15.0</td>\n",
       "      <td>NaN</td>\n",
       "      <td>0.083914</td>\n",
       "      <td>1.074349</td>\n",
       "      <td>NaN</td>\n",
       "      <td>NaN</td>\n",
       "      <td>NaN</td>\n",
       "    </tr>\n",
       "    <tr>\n",
       "      <th>57</th>\n",
       "      <td>0.055017</td>\n",
       "      <td>tversky</td>\n",
       "      <td>5.0</td>\n",
       "      <td>23.0</td>\n",
       "      <td>NaN</td>\n",
       "      <td>0.329630</td>\n",
       "      <td>1.794390</td>\n",
       "      <td>NaN</td>\n",
       "      <td>NaN</td>\n",
       "      <td>NaN</td>\n",
       "    </tr>\n",
       "    <tr>\n",
       "      <th>97</th>\n",
       "      <td>0.055067</td>\n",
       "      <td>tversky</td>\n",
       "      <td>5.0</td>\n",
       "      <td>13.0</td>\n",
       "      <td>NaN</td>\n",
       "      <td>0.096075</td>\n",
       "      <td>1.091990</td>\n",
       "      <td>NaN</td>\n",
       "      <td>NaN</td>\n",
       "      <td>NaN</td>\n",
       "    </tr>\n",
       "  </tbody>\n",
       "</table>\n",
       "<p>100 rows × 10 columns</p>\n",
       "</div>"
      ],
      "text/plain": [
       "      result similarity  topK  shrink  asymmetric_alpha  tversky_alpha  \\\n",
       "25  0.025029  euclidean   6.0     8.0               NaN            NaN   \n",
       "64  0.029643  euclidean   7.0    27.0               NaN            NaN   \n",
       "5   0.040281  euclidean  14.0    28.0               NaN            NaN   \n",
       "2   0.041901    tversky   7.0     6.0               NaN       1.678265   \n",
       "50  0.046410  euclidean   6.0    16.0               NaN            NaN   \n",
       "..       ...        ...   ...     ...               ...            ...   \n",
       "86  0.054967    tversky   5.0    15.0               NaN       0.072570   \n",
       "83  0.055002    tversky   5.0    13.0               NaN       0.093446   \n",
       "87  0.055004    tversky   5.0    15.0               NaN       0.083914   \n",
       "57  0.055017    tversky   5.0    23.0               NaN       0.329630   \n",
       "97  0.055067    tversky   5.0    13.0               NaN       0.096075   \n",
       "\n",
       "    tversky_beta normalize_avg_row similarity_from_distance_mode normalize  \n",
       "25           NaN             False                           exp     False  \n",
       "64           NaN             False                           lin     False  \n",
       "5            NaN              True                           log      True  \n",
       "2       0.156546               NaN                           NaN       NaN  \n",
       "50           NaN              True                           lin      True  \n",
       "..           ...               ...                           ...       ...  \n",
       "86      1.150760               NaN                           NaN       NaN  \n",
       "83      0.888566               NaN                           NaN       NaN  \n",
       "87      1.074349               NaN                           NaN       NaN  \n",
       "57      1.794390               NaN                           NaN       NaN  \n",
       "97      1.091990               NaN                           NaN       NaN  \n",
       "\n",
       "[100 rows x 10 columns]"
      ]
     },
     "execution_count": 10,
     "metadata": {},
     "output_type": "execute_result"
    }
   ],
   "source": [
    "save_results.results_df.sort_values(\"result\")"
   ]
  },
  {
   "cell_type": "code",
   "execution_count": 11,
   "id": "0f0d289b",
   "metadata": {},
   "outputs": [
    {
     "data": {
      "text/plain": [
       "{'similarity': 'tversky',\n",
       " 'topK': 5,\n",
       " 'shrink': 13,\n",
       " 'tversky_alpha': 0.09607461817495747,\n",
       " 'tversky_beta': 1.0919901134588756}"
      ]
     },
     "execution_count": 11,
     "metadata": {},
     "output_type": "execute_result"
    }
   ],
   "source": [
    "optuna_study.best_trial.params"
   ]
  },
  {
   "cell_type": "markdown",
   "id": "3179c388",
   "metadata": {},
   "source": [
    "FINAL MODEL"
   ]
  },
  {
   "cell_type": "code",
   "execution_count": 13,
   "id": "89e7c096",
   "metadata": {},
   "outputs": [],
   "source": [
    "from Recommenders.IR_feature_weighting import okapi_BM_25, TF_IDF\n",
    "from Recommenders.Recommender_utils import check_matrix\n",
    "from Recommenders.Similarity.Compute_Similarity import Compute_Similarity\n",
    "\n",
    "class ItemKNNCFRecommender2(object):\n",
    "    FEATURE_WEIGHTING_VALUES = [\"BM25\", \"TF-IDF\", \"none\"]\n",
    "    def __init__(self, URM):\n",
    "        self.URM_train = URM\n",
    "        \n",
    "            \n",
    "    def fit(self, topK=50, shrink=100, similarity='cosine', normalize=True, feature_weighting = \"none\", URM_bias = False, **similarity_args):\n",
    "\n",
    "        self.topK = topK\n",
    "        self.shrink = shrink\n",
    "        if feature_weighting == \"BM25\":\n",
    "            self.URM_train = self.URM_train.astype(np.float32)\n",
    "            self.URM_train = okapi_BM_25(self.URM_train.T).T\n",
    "            self.URM_train = check_matrix(self.URM_train, 'csr')\n",
    "\n",
    "        elif feature_weighting == \"TF-IDF\":\n",
    "            self.URM_train = self.URM_train.astype(np.float32)\n",
    "            self.URM_train = TF_IDF(self.URM_train.T).T\n",
    "            self.URM_train = check_matrix(self.URM_train, 'csr')\n",
    "\n",
    "        similarity = Compute_Similarity(self.URM_train, shrink=shrink, topK=topK, normalize=normalize, similarity = similarity, **similarity_args)\n",
    "\n",
    "\n",
    "        self.W_sparse = similarity.compute_similarity()\n",
    "        self.W_sparse = check_matrix(self.W_sparse, format='csr')\n",
    "\n",
    "\n",
    "\n",
    "        self.W_sparse = similarity.compute_similarity()\n",
    "        self.W_sparse = check_matrix(self.W_sparse, format='csr')\n",
    "\n",
    "        \n",
    "    def recommend(self, user_id, at=None, exclude_seen=True):\n",
    "        # compute the scores using the dot product\n",
    "        user_profile = self.URM_train[user_id]\n",
    "        scores = user_profile.dot(self.W_sparse).toarray().ravel()\n",
    "\n",
    "        if exclude_seen:\n",
    "            scores = self.filter_seen(user_id, scores)\n",
    "\n",
    "        # rank items\n",
    "        ranking = scores.argsort()[::-1]\n",
    "            \n",
    "        return ranking[:at]\n",
    "    \n",
    "    \n",
    "    def filter_seen(self, user_id, scores):\n",
    "\n",
    "        start_pos = self.URM_train.indptr[user_id]\n",
    "        end_pos = self.URM_train.indptr[user_id+1]\n",
    "\n",
    "        user_profile = self.URM_train.indices[start_pos:end_pos]\n",
    "        \n",
    "        scores[user_profile] = -np.inf\n",
    "\n",
    "        return scores"
   ]
  },
  {
   "cell_type": "code",
   "execution_count": 14,
   "id": "b1bffab7",
   "metadata": {},
   "outputs": [
    {
     "name": "stdout",
     "output_type": "stream",
     "text": [
      "Unable to load Cython Compute_Similarity, reverting to Python\n",
      "Similarity column 38121 (100.0%), 887.28 column/sec. Elapsed time 42.96 sec\n",
      "Similarity column 38121 (100.0%), 873.35 column/sec. Elapsed time 43.65 sec\n"
     ]
    }
   ],
   "source": [
    "recommender_instance = ItemKNNCFRecommender2(URM_all_dataframe)\n",
    "recommender_instance.fit(**optuna_study.best_trial.params)\n",
    "\n"
   ]
  },
  {
   "cell_type": "code",
   "execution_count": 19,
   "id": "978c69e7",
   "metadata": {},
   "outputs": [
    {
     "name": "stdout",
     "output_type": "stream",
     "text": [
      "   user_id                                          item_list\n",
      "0        0  7703 7547 14931 572 399 14888 452 9911 3845 28958\n",
      "1        1  13766 6348 18964 14748 13733 11149 13778 2644 ...\n"
     ]
    }
   ],
   "source": [
    "recommendations_list = []\n",
    "user = pd.read_csv(filepath_or_buffer=\"data_target_users_test.csv\")\n",
    "\n",
    "# Loop through each user and get the top 10 recommendations\n",
    "for user_id in user[\"user_id\"]:  # assuming URM.shape[0] is the total number of users\n",
    "    top_10_recommendations = recommender_instance.recommend(user_id, at=10, exclude_seen=True)\n",
    "    # Join recommendations into a space-separated string\n",
    "    item_list_str = ' '.join(map(str, top_10_recommendations))\n",
    "    recommendations_list.append([user_id, item_list_str])\n",
    "\n",
    "# Convert the list to a DataFrame\n",
    "recommendations_df = pd.DataFrame(recommendations_list, columns=['user_id', 'item_list'])\n",
    "\n",
    "# Display the resulting table\n",
    "print(recommendations_df.head(2))\n",
    "\n",
    "# Optionally, save to CSV\n",
    "recommendations_df.to_csv('top_10_recommendations.csv', index=False)"
   ]
  },
  {
   "cell_type": "markdown",
   "id": "2427f380",
   "metadata": {},
   "source": [
    "### An example with earlystopping, for SVD++\n",
    "\n",
    "When training machine learning models that require iterative training for a certain number of epochs one also has to select this value. There are two strategies:\n",
    "* Consider the number of epochs as another hyperparameter to be determined by our optimizer\n",
    "* Fix a maximum number of epochs and periodically evaluate the model during the training process. If the recommendation quality does not improve after a certain number of epochs (20, 50 ...) stop the training and select the number of epochs that gave the best result. This is called earlystopping."
   ]
  },
  {
   "cell_type": "code",
   "execution_count": null,
   "id": "d623686f",
   "metadata": {},
   "outputs": [],
   "source": []
  },
  {
   "cell_type": "code",
   "execution_count": 172,
   "id": "261faf38",
   "metadata": {},
   "outputs": [],
   "source": [
    "from Recommenders.MatrixFactorization.Cython.MatrixFactorization_Cython import MatrixFactorization_SVDpp_Cython\n",
    "import time \n",
    "\n",
    "class SaveResults(object):\n",
    "    \n",
    "    def __init__(self):\n",
    "        self.results_df = pd.DataFrame(columns=[\"result\", \"train_time (min)\"])\n",
    "    \n",
    "    def __call__(self, optuna_study, optuna_trial):\n",
    "        hyperparam_dict = optuna_trial.params.copy()\n",
    "        hyperparam_dict[\"result\"] = optuna_trial.values[0]\n",
    "        \n",
    "        # Retrieve the optimal number of epochs and training time from the \"user attributes\" of the trial\n",
    "        hyperparam_dict[\"epochs\"] = optuna_trial.user_attrs[\"epochs\"]\n",
    "        hyperparam_dict[\"train_time (min)\"] = optuna_trial.user_attrs[\"train_time (min)\"]\n",
    "        \n",
    "        self.results_df = self.results_df.append(hyperparam_dict, ignore_index=True)\n",
    "        \n",
    "        \n",
    "def objective_function_funksvd(optuna_trial):\n",
    "\n",
    "    # Earlystopping hyperparameters available in the framework\n",
    "    full_hyperp = {\"validation_every_n\": 5,\n",
    "                   \"stop_on_validation\": True,\n",
    "                   \"evaluator_object\": evaluator_validation,\n",
    "                   \"lower_validations_allowed\": 5,   # Higher values will result in a more \"patient\" earlystopping\n",
    "                   \"validation_metric\": \"MAP\",\n",
    "                   \n",
    "                   # MAX number of epochs (usually 500)\n",
    "                   \"epochs\": 500,\n",
    "                  }\n",
    "                          \n",
    "    start_time = time.time()    \n",
    "    recommender_instance = MatrixFactorization_SVDpp_Cython(URM_train)\n",
    "    recommender_instance.fit(num_factors = optuna_trial.suggest_int(\"num_factors\", 1, 200),\n",
    "                             sgd_mode = optuna_trial.suggest_categorical(\"sgd_mode\", [\"sgd\", \"adagrad\", \"adam\"]),\n",
    "                             batch_size = optuna_trial.suggest_categorical(\"batch_size\", [1, 2, 4, 8, 16, 32, 64, 128, 256, 512, 1024]),\n",
    "                             item_reg = optuna_trial.suggest_float(\"item_reg\", 1e-5, 1e-2, log=True),\n",
    "                             user_reg =  optuna_trial.suggest_float(\"user_reg\", 1e-5, 1e-2, log=True),\n",
    "                             learning_rate = optuna_trial.suggest_float(\"learning_rate\", 1e-4, 1e-1, log=True),\n",
    "                             ** full_hyperp)\n",
    "        \n",
    "    # Add the number of epochs selected by earlystopping as a \"user attribute\" of the optuna trial\n",
    "    epochs = recommender_instance.get_early_stopping_final_epochs_dict()[\"epochs\"]\n",
    "    optuna_trial.set_user_attr(\"epochs\", epochs) \n",
    "    optuna_trial.set_user_attr(\"train_time (min)\", (time.time() - start_time)/60) \n",
    "        \n",
    "    result_df, _ = evaluator_validation.evaluateRecommender(recommender_instance)\n",
    "    \n",
    "    return result_df.loc[10][\"MAP\"]"
   ]
  },
  {
   "cell_type": "code",
   "execution_count": 171,
   "id": "d8296273",
   "metadata": {},
   "outputs": [
    {
     "name": "stderr",
     "output_type": "stream",
     "text": [
      "[I 2024-11-04 22:40:41,187] A new study created in memory with name: no-name-96c784e4-9a01-4657-9821-82ef260dda33\n",
      "[W 2024-11-04 22:40:41,212] Trial 0 failed with parameters: {'num_factors': 9, 'sgd_mode': 'adagrad', 'batch_size': 16, 'item_reg': 3.0224816537307635e-05, 'user_reg': 1.7172463850023208e-05, 'learning_rate': 0.00017167687047150602} because of the following error: ModuleNotFoundError(\"No module named 'Recommenders.MatrixFactorization.Cython.MatrixFactorization_Cython_Epoch'\").\n",
      "Traceback (most recent call last):\n",
      "  File \"C:\\Users\\PeppiSparrow\\AppData\\Local\\Packages\\PythonSoftwareFoundation.Python.3.11_qbz5n2kfra8p0\\LocalCache\\local-packages\\Python311\\site-packages\\optuna\\study\\_optimize.py\", line 197, in _run_trial\n",
      "    value_or_values = func(trial)\n",
      "                      ^^^^^^^^^^^\n",
      "  File \"C:\\Users\\PeppiSparrow\\AppData\\Local\\Temp\\ipykernel_23056\\2817387509.py\", line 35, in objective_function_funksvd\n",
      "    recommender_instance.fit(num_factors = optuna_trial.suggest_int(\"num_factors\", 1, 200),\n",
      "  File \"c:\\Users\\PeppiSparrow\\OneDrive - Politecnico di Milano\\Desktop\\universita\\recsys\\RecSys_Course_AT_PoliMi\\Recommenders\\MatrixFactorization\\Cython\\MatrixFactorization_Cython.py\", line 216, in fit\n",
      "    super(MatrixFactorization_SVDpp_Cython, self).fit(**key_args)\n",
      "  File \"c:\\Users\\PeppiSparrow\\OneDrive - Politecnico di Milano\\Desktop\\universita\\recsys\\RecSys_Course_AT_PoliMi\\Recommenders\\MatrixFactorization\\Cython\\MatrixFactorization_Cython.py\", line 57, in fit\n",
      "    from Recommenders.MatrixFactorization.Cython.MatrixFactorization_Cython_Epoch import MatrixFactorization_Cython_Epoch\n",
      "ModuleNotFoundError: No module named 'Recommenders.MatrixFactorization.Cython.MatrixFactorization_Cython_Epoch'\n",
      "[W 2024-11-04 22:40:41,213] Trial 0 failed with value None.\n"
     ]
    },
    {
     "ename": "ModuleNotFoundError",
     "evalue": "No module named 'Recommenders.MatrixFactorization.Cython.MatrixFactorization_Cython_Epoch'",
     "output_type": "error",
     "traceback": [
      "\u001b[1;31m---------------------------------------------------------------------------\u001b[0m",
      "\u001b[1;31mModuleNotFoundError\u001b[0m                       Traceback (most recent call last)",
      "Cell \u001b[1;32mIn[171], line 5\u001b[0m\n\u001b[0;32m      1\u001b[0m optuna_study \u001b[38;5;241m=\u001b[39m optuna\u001b[38;5;241m.\u001b[39mcreate_study(direction\u001b[38;5;241m=\u001b[39m\u001b[38;5;124m\"\u001b[39m\u001b[38;5;124mmaximize\u001b[39m\u001b[38;5;124m\"\u001b[39m)\n\u001b[0;32m      3\u001b[0m save_results \u001b[38;5;241m=\u001b[39m SaveResults()\n\u001b[1;32m----> 5\u001b[0m \u001b[43moptuna_study\u001b[49m\u001b[38;5;241;43m.\u001b[39;49m\u001b[43moptimize\u001b[49m\u001b[43m(\u001b[49m\u001b[43mobjective_function_funksvd\u001b[49m\u001b[43m,\u001b[49m\n\u001b[0;32m      6\u001b[0m \u001b[43m                      \u001b[49m\u001b[43mcallbacks\u001b[49m\u001b[38;5;241;43m=\u001b[39;49m\u001b[43m[\u001b[49m\u001b[43msave_results\u001b[49m\u001b[43m]\u001b[49m\u001b[43m,\u001b[49m\n\u001b[0;32m      7\u001b[0m \u001b[43m                      \u001b[49m\u001b[43mn_trials\u001b[49m\u001b[43m \u001b[49m\u001b[38;5;241;43m=\u001b[39;49m\u001b[43m \u001b[49m\u001b[38;5;241;43m50\u001b[39;49m\u001b[43m)\u001b[49m\n",
      "File \u001b[1;32m~\\AppData\\Local\\Packages\\PythonSoftwareFoundation.Python.3.11_qbz5n2kfra8p0\\LocalCache\\local-packages\\Python311\\site-packages\\optuna\\study\\study.py:475\u001b[0m, in \u001b[0;36mStudy.optimize\u001b[1;34m(self, func, n_trials, timeout, n_jobs, catch, callbacks, gc_after_trial, show_progress_bar)\u001b[0m\n\u001b[0;32m    373\u001b[0m \u001b[38;5;28;01mdef\u001b[39;00m \u001b[38;5;21moptimize\u001b[39m(\n\u001b[0;32m    374\u001b[0m     \u001b[38;5;28mself\u001b[39m,\n\u001b[0;32m    375\u001b[0m     func: ObjectiveFuncType,\n\u001b[1;32m   (...)\u001b[0m\n\u001b[0;32m    382\u001b[0m     show_progress_bar: \u001b[38;5;28mbool\u001b[39m \u001b[38;5;241m=\u001b[39m \u001b[38;5;28;01mFalse\u001b[39;00m,\n\u001b[0;32m    383\u001b[0m ) \u001b[38;5;241m-\u001b[39m\u001b[38;5;241m>\u001b[39m \u001b[38;5;28;01mNone\u001b[39;00m:\n\u001b[0;32m    384\u001b[0m \u001b[38;5;250m    \u001b[39m\u001b[38;5;124;03m\"\"\"Optimize an objective function.\u001b[39;00m\n\u001b[0;32m    385\u001b[0m \n\u001b[0;32m    386\u001b[0m \u001b[38;5;124;03m    Optimization is done by choosing a suitable set of hyperparameter values from a given\u001b[39;00m\n\u001b[1;32m   (...)\u001b[0m\n\u001b[0;32m    473\u001b[0m \u001b[38;5;124;03m            If nested invocation of this method occurs.\u001b[39;00m\n\u001b[0;32m    474\u001b[0m \u001b[38;5;124;03m    \"\"\"\u001b[39;00m\n\u001b[1;32m--> 475\u001b[0m     \u001b[43m_optimize\u001b[49m\u001b[43m(\u001b[49m\n\u001b[0;32m    476\u001b[0m \u001b[43m        \u001b[49m\u001b[43mstudy\u001b[49m\u001b[38;5;241;43m=\u001b[39;49m\u001b[38;5;28;43mself\u001b[39;49m\u001b[43m,\u001b[49m\n\u001b[0;32m    477\u001b[0m \u001b[43m        \u001b[49m\u001b[43mfunc\u001b[49m\u001b[38;5;241;43m=\u001b[39;49m\u001b[43mfunc\u001b[49m\u001b[43m,\u001b[49m\n\u001b[0;32m    478\u001b[0m \u001b[43m        \u001b[49m\u001b[43mn_trials\u001b[49m\u001b[38;5;241;43m=\u001b[39;49m\u001b[43mn_trials\u001b[49m\u001b[43m,\u001b[49m\n\u001b[0;32m    479\u001b[0m \u001b[43m        \u001b[49m\u001b[43mtimeout\u001b[49m\u001b[38;5;241;43m=\u001b[39;49m\u001b[43mtimeout\u001b[49m\u001b[43m,\u001b[49m\n\u001b[0;32m    480\u001b[0m \u001b[43m        \u001b[49m\u001b[43mn_jobs\u001b[49m\u001b[38;5;241;43m=\u001b[39;49m\u001b[43mn_jobs\u001b[49m\u001b[43m,\u001b[49m\n\u001b[0;32m    481\u001b[0m \u001b[43m        \u001b[49m\u001b[43mcatch\u001b[49m\u001b[38;5;241;43m=\u001b[39;49m\u001b[38;5;28;43mtuple\u001b[39;49m\u001b[43m(\u001b[49m\u001b[43mcatch\u001b[49m\u001b[43m)\u001b[49m\u001b[43m \u001b[49m\u001b[38;5;28;43;01mif\u001b[39;49;00m\u001b[43m \u001b[49m\u001b[38;5;28;43misinstance\u001b[39;49m\u001b[43m(\u001b[49m\u001b[43mcatch\u001b[49m\u001b[43m,\u001b[49m\u001b[43m \u001b[49m\u001b[43mIterable\u001b[49m\u001b[43m)\u001b[49m\u001b[43m \u001b[49m\u001b[38;5;28;43;01melse\u001b[39;49;00m\u001b[43m \u001b[49m\u001b[43m(\u001b[49m\u001b[43mcatch\u001b[49m\u001b[43m,\u001b[49m\u001b[43m)\u001b[49m\u001b[43m,\u001b[49m\n\u001b[0;32m    482\u001b[0m \u001b[43m        \u001b[49m\u001b[43mcallbacks\u001b[49m\u001b[38;5;241;43m=\u001b[39;49m\u001b[43mcallbacks\u001b[49m\u001b[43m,\u001b[49m\n\u001b[0;32m    483\u001b[0m \u001b[43m        \u001b[49m\u001b[43mgc_after_trial\u001b[49m\u001b[38;5;241;43m=\u001b[39;49m\u001b[43mgc_after_trial\u001b[49m\u001b[43m,\u001b[49m\n\u001b[0;32m    484\u001b[0m \u001b[43m        \u001b[49m\u001b[43mshow_progress_bar\u001b[49m\u001b[38;5;241;43m=\u001b[39;49m\u001b[43mshow_progress_bar\u001b[49m\u001b[43m,\u001b[49m\n\u001b[0;32m    485\u001b[0m \u001b[43m    \u001b[49m\u001b[43m)\u001b[49m\n",
      "File \u001b[1;32m~\\AppData\\Local\\Packages\\PythonSoftwareFoundation.Python.3.11_qbz5n2kfra8p0\\LocalCache\\local-packages\\Python311\\site-packages\\optuna\\study\\_optimize.py:63\u001b[0m, in \u001b[0;36m_optimize\u001b[1;34m(study, func, n_trials, timeout, n_jobs, catch, callbacks, gc_after_trial, show_progress_bar)\u001b[0m\n\u001b[0;32m     61\u001b[0m \u001b[38;5;28;01mtry\u001b[39;00m:\n\u001b[0;32m     62\u001b[0m     \u001b[38;5;28;01mif\u001b[39;00m n_jobs \u001b[38;5;241m==\u001b[39m \u001b[38;5;241m1\u001b[39m:\n\u001b[1;32m---> 63\u001b[0m         \u001b[43m_optimize_sequential\u001b[49m\u001b[43m(\u001b[49m\n\u001b[0;32m     64\u001b[0m \u001b[43m            \u001b[49m\u001b[43mstudy\u001b[49m\u001b[43m,\u001b[49m\n\u001b[0;32m     65\u001b[0m \u001b[43m            \u001b[49m\u001b[43mfunc\u001b[49m\u001b[43m,\u001b[49m\n\u001b[0;32m     66\u001b[0m \u001b[43m            \u001b[49m\u001b[43mn_trials\u001b[49m\u001b[43m,\u001b[49m\n\u001b[0;32m     67\u001b[0m \u001b[43m            \u001b[49m\u001b[43mtimeout\u001b[49m\u001b[43m,\u001b[49m\n\u001b[0;32m     68\u001b[0m \u001b[43m            \u001b[49m\u001b[43mcatch\u001b[49m\u001b[43m,\u001b[49m\n\u001b[0;32m     69\u001b[0m \u001b[43m            \u001b[49m\u001b[43mcallbacks\u001b[49m\u001b[43m,\u001b[49m\n\u001b[0;32m     70\u001b[0m \u001b[43m            \u001b[49m\u001b[43mgc_after_trial\u001b[49m\u001b[43m,\u001b[49m\n\u001b[0;32m     71\u001b[0m \u001b[43m            \u001b[49m\u001b[43mreseed_sampler_rng\u001b[49m\u001b[38;5;241;43m=\u001b[39;49m\u001b[38;5;28;43;01mFalse\u001b[39;49;00m\u001b[43m,\u001b[49m\n\u001b[0;32m     72\u001b[0m \u001b[43m            \u001b[49m\u001b[43mtime_start\u001b[49m\u001b[38;5;241;43m=\u001b[39;49m\u001b[38;5;28;43;01mNone\u001b[39;49;00m\u001b[43m,\u001b[49m\n\u001b[0;32m     73\u001b[0m \u001b[43m            \u001b[49m\u001b[43mprogress_bar\u001b[49m\u001b[38;5;241;43m=\u001b[39;49m\u001b[43mprogress_bar\u001b[49m\u001b[43m,\u001b[49m\n\u001b[0;32m     74\u001b[0m \u001b[43m        \u001b[49m\u001b[43m)\u001b[49m\n\u001b[0;32m     75\u001b[0m     \u001b[38;5;28;01melse\u001b[39;00m:\n\u001b[0;32m     76\u001b[0m         \u001b[38;5;28;01mif\u001b[39;00m n_jobs \u001b[38;5;241m==\u001b[39m \u001b[38;5;241m-\u001b[39m\u001b[38;5;241m1\u001b[39m:\n",
      "File \u001b[1;32m~\\AppData\\Local\\Packages\\PythonSoftwareFoundation.Python.3.11_qbz5n2kfra8p0\\LocalCache\\local-packages\\Python311\\site-packages\\optuna\\study\\_optimize.py:160\u001b[0m, in \u001b[0;36m_optimize_sequential\u001b[1;34m(study, func, n_trials, timeout, catch, callbacks, gc_after_trial, reseed_sampler_rng, time_start, progress_bar)\u001b[0m\n\u001b[0;32m    157\u001b[0m         \u001b[38;5;28;01mbreak\u001b[39;00m\n\u001b[0;32m    159\u001b[0m \u001b[38;5;28;01mtry\u001b[39;00m:\n\u001b[1;32m--> 160\u001b[0m     frozen_trial \u001b[38;5;241m=\u001b[39m \u001b[43m_run_trial\u001b[49m\u001b[43m(\u001b[49m\u001b[43mstudy\u001b[49m\u001b[43m,\u001b[49m\u001b[43m \u001b[49m\u001b[43mfunc\u001b[49m\u001b[43m,\u001b[49m\u001b[43m \u001b[49m\u001b[43mcatch\u001b[49m\u001b[43m)\u001b[49m\n\u001b[0;32m    161\u001b[0m \u001b[38;5;28;01mfinally\u001b[39;00m:\n\u001b[0;32m    162\u001b[0m     \u001b[38;5;66;03m# The following line mitigates memory problems that can be occurred in some\u001b[39;00m\n\u001b[0;32m    163\u001b[0m     \u001b[38;5;66;03m# environments (e.g., services that use computing containers such as GitHub Actions).\u001b[39;00m\n\u001b[0;32m    164\u001b[0m     \u001b[38;5;66;03m# Please refer to the following PR for further details:\u001b[39;00m\n\u001b[0;32m    165\u001b[0m     \u001b[38;5;66;03m# https://github.com/optuna/optuna/pull/325.\u001b[39;00m\n\u001b[0;32m    166\u001b[0m     \u001b[38;5;28;01mif\u001b[39;00m gc_after_trial:\n",
      "File \u001b[1;32m~\\AppData\\Local\\Packages\\PythonSoftwareFoundation.Python.3.11_qbz5n2kfra8p0\\LocalCache\\local-packages\\Python311\\site-packages\\optuna\\study\\_optimize.py:248\u001b[0m, in \u001b[0;36m_run_trial\u001b[1;34m(study, func, catch)\u001b[0m\n\u001b[0;32m    241\u001b[0m         \u001b[38;5;28;01massert\u001b[39;00m \u001b[38;5;28;01mFalse\u001b[39;00m, \u001b[38;5;124m\"\u001b[39m\u001b[38;5;124mShould not reach.\u001b[39m\u001b[38;5;124m\"\u001b[39m\n\u001b[0;32m    243\u001b[0m \u001b[38;5;28;01mif\u001b[39;00m (\n\u001b[0;32m    244\u001b[0m     frozen_trial\u001b[38;5;241m.\u001b[39mstate \u001b[38;5;241m==\u001b[39m TrialState\u001b[38;5;241m.\u001b[39mFAIL\n\u001b[0;32m    245\u001b[0m     \u001b[38;5;129;01mand\u001b[39;00m func_err \u001b[38;5;129;01mis\u001b[39;00m \u001b[38;5;129;01mnot\u001b[39;00m \u001b[38;5;28;01mNone\u001b[39;00m\n\u001b[0;32m    246\u001b[0m     \u001b[38;5;129;01mand\u001b[39;00m \u001b[38;5;129;01mnot\u001b[39;00m \u001b[38;5;28misinstance\u001b[39m(func_err, catch)\n\u001b[0;32m    247\u001b[0m ):\n\u001b[1;32m--> 248\u001b[0m     \u001b[38;5;28;01mraise\u001b[39;00m func_err\n\u001b[0;32m    249\u001b[0m \u001b[38;5;28;01mreturn\u001b[39;00m frozen_trial\n",
      "File \u001b[1;32m~\\AppData\\Local\\Packages\\PythonSoftwareFoundation.Python.3.11_qbz5n2kfra8p0\\LocalCache\\local-packages\\Python311\\site-packages\\optuna\\study\\_optimize.py:197\u001b[0m, in \u001b[0;36m_run_trial\u001b[1;34m(study, func, catch)\u001b[0m\n\u001b[0;32m    195\u001b[0m \u001b[38;5;28;01mwith\u001b[39;00m get_heartbeat_thread(trial\u001b[38;5;241m.\u001b[39m_trial_id, study\u001b[38;5;241m.\u001b[39m_storage):\n\u001b[0;32m    196\u001b[0m     \u001b[38;5;28;01mtry\u001b[39;00m:\n\u001b[1;32m--> 197\u001b[0m         value_or_values \u001b[38;5;241m=\u001b[39m \u001b[43mfunc\u001b[49m\u001b[43m(\u001b[49m\u001b[43mtrial\u001b[49m\u001b[43m)\u001b[49m\n\u001b[0;32m    198\u001b[0m     \u001b[38;5;28;01mexcept\u001b[39;00m exceptions\u001b[38;5;241m.\u001b[39mTrialPruned \u001b[38;5;28;01mas\u001b[39;00m e:\n\u001b[0;32m    199\u001b[0m         \u001b[38;5;66;03m# TODO(mamu): Handle multi-objective cases.\u001b[39;00m\n\u001b[0;32m    200\u001b[0m         state \u001b[38;5;241m=\u001b[39m TrialState\u001b[38;5;241m.\u001b[39mPRUNED\n",
      "Cell \u001b[1;32mIn[169], line 35\u001b[0m, in \u001b[0;36mobjective_function_funksvd\u001b[1;34m(optuna_trial)\u001b[0m\n\u001b[0;32m     33\u001b[0m start_time \u001b[38;5;241m=\u001b[39m time\u001b[38;5;241m.\u001b[39mtime()    \n\u001b[0;32m     34\u001b[0m recommender_instance \u001b[38;5;241m=\u001b[39m MatrixFactorization_SVDpp_Cython(URM_train)\n\u001b[1;32m---> 35\u001b[0m \u001b[43mrecommender_instance\u001b[49m\u001b[38;5;241;43m.\u001b[39;49m\u001b[43mfit\u001b[49m\u001b[43m(\u001b[49m\u001b[43mnum_factors\u001b[49m\u001b[43m \u001b[49m\u001b[38;5;241;43m=\u001b[39;49m\u001b[43m \u001b[49m\u001b[43moptuna_trial\u001b[49m\u001b[38;5;241;43m.\u001b[39;49m\u001b[43msuggest_int\u001b[49m\u001b[43m(\u001b[49m\u001b[38;5;124;43m\"\u001b[39;49m\u001b[38;5;124;43mnum_factors\u001b[39;49m\u001b[38;5;124;43m\"\u001b[39;49m\u001b[43m,\u001b[49m\u001b[43m \u001b[49m\u001b[38;5;241;43m1\u001b[39;49m\u001b[43m,\u001b[49m\u001b[43m \u001b[49m\u001b[38;5;241;43m200\u001b[39;49m\u001b[43m)\u001b[49m\u001b[43m,\u001b[49m\n\u001b[0;32m     36\u001b[0m \u001b[43m                         \u001b[49m\u001b[43msgd_mode\u001b[49m\u001b[43m \u001b[49m\u001b[38;5;241;43m=\u001b[39;49m\u001b[43m \u001b[49m\u001b[43moptuna_trial\u001b[49m\u001b[38;5;241;43m.\u001b[39;49m\u001b[43msuggest_categorical\u001b[49m\u001b[43m(\u001b[49m\u001b[38;5;124;43m\"\u001b[39;49m\u001b[38;5;124;43msgd_mode\u001b[39;49m\u001b[38;5;124;43m\"\u001b[39;49m\u001b[43m,\u001b[49m\u001b[43m \u001b[49m\u001b[43m[\u001b[49m\u001b[38;5;124;43m\"\u001b[39;49m\u001b[38;5;124;43msgd\u001b[39;49m\u001b[38;5;124;43m\"\u001b[39;49m\u001b[43m,\u001b[49m\u001b[43m \u001b[49m\u001b[38;5;124;43m\"\u001b[39;49m\u001b[38;5;124;43madagrad\u001b[39;49m\u001b[38;5;124;43m\"\u001b[39;49m\u001b[43m,\u001b[49m\u001b[43m \u001b[49m\u001b[38;5;124;43m\"\u001b[39;49m\u001b[38;5;124;43madam\u001b[39;49m\u001b[38;5;124;43m\"\u001b[39;49m\u001b[43m]\u001b[49m\u001b[43m)\u001b[49m\u001b[43m,\u001b[49m\n\u001b[0;32m     37\u001b[0m \u001b[43m                         \u001b[49m\u001b[43mbatch_size\u001b[49m\u001b[43m \u001b[49m\u001b[38;5;241;43m=\u001b[39;49m\u001b[43m \u001b[49m\u001b[43moptuna_trial\u001b[49m\u001b[38;5;241;43m.\u001b[39;49m\u001b[43msuggest_categorical\u001b[49m\u001b[43m(\u001b[49m\u001b[38;5;124;43m\"\u001b[39;49m\u001b[38;5;124;43mbatch_size\u001b[39;49m\u001b[38;5;124;43m\"\u001b[39;49m\u001b[43m,\u001b[49m\u001b[43m \u001b[49m\u001b[43m[\u001b[49m\u001b[38;5;241;43m1\u001b[39;49m\u001b[43m,\u001b[49m\u001b[43m \u001b[49m\u001b[38;5;241;43m2\u001b[39;49m\u001b[43m,\u001b[49m\u001b[43m \u001b[49m\u001b[38;5;241;43m4\u001b[39;49m\u001b[43m,\u001b[49m\u001b[43m \u001b[49m\u001b[38;5;241;43m8\u001b[39;49m\u001b[43m,\u001b[49m\u001b[43m \u001b[49m\u001b[38;5;241;43m16\u001b[39;49m\u001b[43m,\u001b[49m\u001b[43m \u001b[49m\u001b[38;5;241;43m32\u001b[39;49m\u001b[43m,\u001b[49m\u001b[43m \u001b[49m\u001b[38;5;241;43m64\u001b[39;49m\u001b[43m,\u001b[49m\u001b[43m \u001b[49m\u001b[38;5;241;43m128\u001b[39;49m\u001b[43m,\u001b[49m\u001b[43m \u001b[49m\u001b[38;5;241;43m256\u001b[39;49m\u001b[43m,\u001b[49m\u001b[43m \u001b[49m\u001b[38;5;241;43m512\u001b[39;49m\u001b[43m,\u001b[49m\u001b[43m \u001b[49m\u001b[38;5;241;43m1024\u001b[39;49m\u001b[43m]\u001b[49m\u001b[43m)\u001b[49m\u001b[43m,\u001b[49m\n\u001b[0;32m     38\u001b[0m \u001b[43m                         \u001b[49m\u001b[43mitem_reg\u001b[49m\u001b[43m \u001b[49m\u001b[38;5;241;43m=\u001b[39;49m\u001b[43m \u001b[49m\u001b[43moptuna_trial\u001b[49m\u001b[38;5;241;43m.\u001b[39;49m\u001b[43msuggest_float\u001b[49m\u001b[43m(\u001b[49m\u001b[38;5;124;43m\"\u001b[39;49m\u001b[38;5;124;43mitem_reg\u001b[39;49m\u001b[38;5;124;43m\"\u001b[39;49m\u001b[43m,\u001b[49m\u001b[43m \u001b[49m\u001b[38;5;241;43m1e-5\u001b[39;49m\u001b[43m,\u001b[49m\u001b[43m \u001b[49m\u001b[38;5;241;43m1e-2\u001b[39;49m\u001b[43m,\u001b[49m\u001b[43m \u001b[49m\u001b[43mlog\u001b[49m\u001b[38;5;241;43m=\u001b[39;49m\u001b[38;5;28;43;01mTrue\u001b[39;49;00m\u001b[43m)\u001b[49m\u001b[43m,\u001b[49m\n\u001b[0;32m     39\u001b[0m \u001b[43m                         \u001b[49m\u001b[43muser_reg\u001b[49m\u001b[43m \u001b[49m\u001b[38;5;241;43m=\u001b[39;49m\u001b[43m  \u001b[49m\u001b[43moptuna_trial\u001b[49m\u001b[38;5;241;43m.\u001b[39;49m\u001b[43msuggest_float\u001b[49m\u001b[43m(\u001b[49m\u001b[38;5;124;43m\"\u001b[39;49m\u001b[38;5;124;43muser_reg\u001b[39;49m\u001b[38;5;124;43m\"\u001b[39;49m\u001b[43m,\u001b[49m\u001b[43m \u001b[49m\u001b[38;5;241;43m1e-5\u001b[39;49m\u001b[43m,\u001b[49m\u001b[43m \u001b[49m\u001b[38;5;241;43m1e-2\u001b[39;49m\u001b[43m,\u001b[49m\u001b[43m \u001b[49m\u001b[43mlog\u001b[49m\u001b[38;5;241;43m=\u001b[39;49m\u001b[38;5;28;43;01mTrue\u001b[39;49;00m\u001b[43m)\u001b[49m\u001b[43m,\u001b[49m\n\u001b[0;32m     40\u001b[0m \u001b[43m                         \u001b[49m\u001b[43mlearning_rate\u001b[49m\u001b[43m \u001b[49m\u001b[38;5;241;43m=\u001b[39;49m\u001b[43m \u001b[49m\u001b[43moptuna_trial\u001b[49m\u001b[38;5;241;43m.\u001b[39;49m\u001b[43msuggest_float\u001b[49m\u001b[43m(\u001b[49m\u001b[38;5;124;43m\"\u001b[39;49m\u001b[38;5;124;43mlearning_rate\u001b[39;49m\u001b[38;5;124;43m\"\u001b[39;49m\u001b[43m,\u001b[49m\u001b[43m \u001b[49m\u001b[38;5;241;43m1e-4\u001b[39;49m\u001b[43m,\u001b[49m\u001b[43m \u001b[49m\u001b[38;5;241;43m1e-1\u001b[39;49m\u001b[43m,\u001b[49m\u001b[43m \u001b[49m\u001b[43mlog\u001b[49m\u001b[38;5;241;43m=\u001b[39;49m\u001b[38;5;28;43;01mTrue\u001b[39;49;00m\u001b[43m)\u001b[49m\u001b[43m,\u001b[49m\n\u001b[0;32m     41\u001b[0m \u001b[43m                         \u001b[49m\u001b[38;5;241;43m*\u001b[39;49m\u001b[38;5;241;43m*\u001b[39;49m\u001b[43m \u001b[49m\u001b[43mfull_hyperp\u001b[49m\u001b[43m)\u001b[49m\n\u001b[0;32m     43\u001b[0m \u001b[38;5;66;03m# Add the number of epochs selected by earlystopping as a \"user attribute\" of the optuna trial\u001b[39;00m\n\u001b[0;32m     44\u001b[0m epochs \u001b[38;5;241m=\u001b[39m recommender_instance\u001b[38;5;241m.\u001b[39mget_early_stopping_final_epochs_dict()[\u001b[38;5;124m\"\u001b[39m\u001b[38;5;124mepochs\u001b[39m\u001b[38;5;124m\"\u001b[39m]\n",
      "File \u001b[1;32mc:\\Users\\PeppiSparrow\\OneDrive - Politecnico di Milano\\Desktop\\universita\\recsys\\RecSys_Course_AT_PoliMi\\Recommenders\\MatrixFactorization\\Cython\\MatrixFactorization_Cython.py:216\u001b[0m, in \u001b[0;36mMatrixFactorization_SVDpp_Cython.fit\u001b[1;34m(self, **key_args)\u001b[0m\n\u001b[0;32m    214\u001b[0m \u001b[38;5;28;01mdef\u001b[39;00m \u001b[38;5;21mfit\u001b[39m(\u001b[38;5;28mself\u001b[39m, \u001b[38;5;241m*\u001b[39m\u001b[38;5;241m*\u001b[39mkey_args):\n\u001b[1;32m--> 216\u001b[0m     \u001b[38;5;28;43msuper\u001b[39;49m\u001b[43m(\u001b[49m\u001b[43mMatrixFactorization_SVDpp_Cython\u001b[49m\u001b[43m,\u001b[49m\u001b[43m \u001b[49m\u001b[38;5;28;43mself\u001b[39;49m\u001b[43m)\u001b[49m\u001b[38;5;241;43m.\u001b[39;49m\u001b[43mfit\u001b[49m\u001b[43m(\u001b[49m\u001b[38;5;241;43m*\u001b[39;49m\u001b[38;5;241;43m*\u001b[39;49m\u001b[43mkey_args\u001b[49m\u001b[43m)\u001b[49m\n",
      "File \u001b[1;32mc:\\Users\\PeppiSparrow\\OneDrive - Politecnico di Milano\\Desktop\\universita\\recsys\\RecSys_Course_AT_PoliMi\\Recommenders\\MatrixFactorization\\Cython\\MatrixFactorization_Cython.py:57\u001b[0m, in \u001b[0;36m_MatrixFactorization_Cython.fit\u001b[1;34m(self, epochs, batch_size, num_factors, positive_threshold_BPR, learning_rate, use_bias, use_embeddings, sgd_mode, negative_interactions_quota, dropout_quota, WARP_neg_item_attempts, init_mean, init_std_dev, user_reg, item_reg, bias_reg, positive_reg, negative_reg, random_seed, **earlystopping_kwargs)\u001b[0m\n\u001b[0;32m     54\u001b[0m \u001b[38;5;28mself\u001b[39m\u001b[38;5;241m.\u001b[39mnegative_interactions_quota \u001b[38;5;241m=\u001b[39m negative_interactions_quota\n\u001b[0;32m     56\u001b[0m \u001b[38;5;66;03m# Import compiled module\u001b[39;00m\n\u001b[1;32m---> 57\u001b[0m \u001b[38;5;28;01mfrom\u001b[39;00m \u001b[38;5;21;01mRecommenders\u001b[39;00m\u001b[38;5;21;01m.\u001b[39;00m\u001b[38;5;21;01mMatrixFactorization\u001b[39;00m\u001b[38;5;21;01m.\u001b[39;00m\u001b[38;5;21;01mCython\u001b[39;00m\u001b[38;5;21;01m.\u001b[39;00m\u001b[38;5;21;01mMatrixFactorization_Cython_Epoch\u001b[39;00m \u001b[38;5;28;01mimport\u001b[39;00m MatrixFactorization_Cython_Epoch\n\u001b[0;32m     60\u001b[0m \u001b[38;5;28;01mif\u001b[39;00m \u001b[38;5;28mself\u001b[39m\u001b[38;5;241m.\u001b[39malgorithm_name \u001b[38;5;129;01min\u001b[39;00m [\u001b[38;5;124m\"\u001b[39m\u001b[38;5;124mSVD++\u001b[39m\u001b[38;5;124m\"\u001b[39m, \u001b[38;5;124m\"\u001b[39m\u001b[38;5;124mASY_SVD\u001b[39m\u001b[38;5;124m\"\u001b[39m]:\n\u001b[0;32m     62\u001b[0m     \u001b[38;5;28mself\u001b[39m\u001b[38;5;241m.\u001b[39mcythonEpoch \u001b[38;5;241m=\u001b[39m MatrixFactorization_Cython_Epoch(\u001b[38;5;28mself\u001b[39m\u001b[38;5;241m.\u001b[39mURM_train,\n\u001b[0;32m     63\u001b[0m                                                         algorithm_name \u001b[38;5;241m=\u001b[39m \u001b[38;5;28mself\u001b[39m\u001b[38;5;241m.\u001b[39malgorithm_name,\n\u001b[0;32m     64\u001b[0m                                                         n_factors \u001b[38;5;241m=\u001b[39m \u001b[38;5;28mself\u001b[39m\u001b[38;5;241m.\u001b[39mnum_factors,\n\u001b[1;32m   (...)\u001b[0m\n\u001b[0;32m     77\u001b[0m                                                         verbose \u001b[38;5;241m=\u001b[39m \u001b[38;5;28mself\u001b[39m\u001b[38;5;241m.\u001b[39mverbose,\n\u001b[0;32m     78\u001b[0m                                                         random_seed \u001b[38;5;241m=\u001b[39m random_seed)\n",
      "\u001b[1;31mModuleNotFoundError\u001b[0m: No module named 'Recommenders.MatrixFactorization.Cython.MatrixFactorization_Cython_Epoch'"
     ]
    }
   ],
   "source": [
    "optuna_study = optuna.create_study(direction=\"maximize\")\n",
    "        \n",
    "save_results = SaveResults()\n",
    "        \n",
    "optuna_study.optimize(objective_function_funksvd,\n",
    "                      callbacks=[save_results],\n",
    "                      n_trials = 50)"
   ]
  },
  {
   "cell_type": "code",
   "execution_count": 21,
   "id": "c501b12e",
   "metadata": {},
   "outputs": [
    {
     "data": {
      "text/plain": [
       "{'num_factors': 3,\n",
       " 'sgd_mode': 'adagrad',\n",
       " 'batch_size': 16,\n",
       " 'item_reg': 0.0038538965529597707,\n",
       " 'user_reg': 3.484258935263262e-05,\n",
       " 'learning_rate': 0.00021378180951782999}"
      ]
     },
     "execution_count": 21,
     "metadata": {},
     "output_type": "execute_result"
    }
   ],
   "source": [
    "optuna_study.best_trial.params"
   ]
  },
  {
   "cell_type": "code",
   "execution_count": 22,
   "id": "e606476a",
   "metadata": {},
   "outputs": [
    {
     "data": {
      "text/plain": [
       "FrozenTrial(number=22, state=TrialState.COMPLETE, values=[0.05505480784673042], datetime_start=datetime.datetime(2023, 11, 25, 2, 20, 15, 369645), datetime_complete=datetime.datetime(2023, 11, 25, 2, 34, 17, 441570), params={'num_factors': 3, 'sgd_mode': 'adagrad', 'batch_size': 16, 'item_reg': 0.0038538965529597707, 'user_reg': 3.484258935263262e-05, 'learning_rate': 0.00021378180951782999}, user_attrs={'epochs': 430, 'train_time (min)': 13.940159070491791}, system_attrs={}, intermediate_values={}, distributions={'num_factors': IntDistribution(high=200, log=False, low=1, step=1), 'sgd_mode': CategoricalDistribution(choices=('sgd', 'adagrad', 'adam')), 'batch_size': CategoricalDistribution(choices=(1, 2, 4, 8, 16, 32, 64, 128, 256, 512, 1024)), 'item_reg': FloatDistribution(high=0.01, log=True, low=1e-05, step=None), 'user_reg': FloatDistribution(high=0.01, log=True, low=1e-05, step=None), 'learning_rate': FloatDistribution(high=0.1, log=True, low=0.0001, step=None)}, trial_id=22, value=None)"
      ]
     },
     "execution_count": 22,
     "metadata": {},
     "output_type": "execute_result"
    }
   ],
   "source": [
    "optuna_study.best_trial"
   ]
  },
  {
   "cell_type": "code",
   "execution_count": 23,
   "id": "17997349",
   "metadata": {},
   "outputs": [
    {
     "data": {
      "text/html": [
       "<div>\n",
       "<style scoped>\n",
       "    .dataframe tbody tr th:only-of-type {\n",
       "        vertical-align: middle;\n",
       "    }\n",
       "\n",
       "    .dataframe tbody tr th {\n",
       "        vertical-align: top;\n",
       "    }\n",
       "\n",
       "    .dataframe thead th {\n",
       "        text-align: right;\n",
       "    }\n",
       "</style>\n",
       "<table border=\"1\" class=\"dataframe\">\n",
       "  <thead>\n",
       "    <tr style=\"text-align: right;\">\n",
       "      <th></th>\n",
       "      <th>result</th>\n",
       "      <th>train_time (min)</th>\n",
       "      <th>batch_size</th>\n",
       "      <th>epochs</th>\n",
       "      <th>item_reg</th>\n",
       "      <th>learning_rate</th>\n",
       "      <th>num_factors</th>\n",
       "      <th>sgd_mode</th>\n",
       "      <th>user_reg</th>\n",
       "    </tr>\n",
       "  </thead>\n",
       "  <tbody>\n",
       "    <tr>\n",
       "      <th>0</th>\n",
       "      <td>0.034490</td>\n",
       "      <td>26.488168</td>\n",
       "      <td>1024.0</td>\n",
       "      <td>500.0</td>\n",
       "      <td>0.000017</td>\n",
       "      <td>0.000474</td>\n",
       "      <td>90.0</td>\n",
       "      <td>sgd</td>\n",
       "      <td>0.003822</td>\n",
       "    </tr>\n",
       "    <tr>\n",
       "      <th>1</th>\n",
       "      <td>0.045660</td>\n",
       "      <td>44.484622</td>\n",
       "      <td>32.0</td>\n",
       "      <td>115.0</td>\n",
       "      <td>0.007076</td>\n",
       "      <td>0.001295</td>\n",
       "      <td>151.0</td>\n",
       "      <td>adagrad</td>\n",
       "      <td>0.002996</td>\n",
       "    </tr>\n",
       "    <tr>\n",
       "      <th>2</th>\n",
       "      <td>0.041021</td>\n",
       "      <td>20.545199</td>\n",
       "      <td>256.0</td>\n",
       "      <td>135.0</td>\n",
       "      <td>0.000270</td>\n",
       "      <td>0.001409</td>\n",
       "      <td>133.0</td>\n",
       "      <td>sgd</td>\n",
       "      <td>0.003847</td>\n",
       "    </tr>\n",
       "    <tr>\n",
       "      <th>3</th>\n",
       "      <td>0.010750</td>\n",
       "      <td>52.640930</td>\n",
       "      <td>8.0</td>\n",
       "      <td>170.0</td>\n",
       "      <td>0.000167</td>\n",
       "      <td>0.017469</td>\n",
       "      <td>101.0</td>\n",
       "      <td>adam</td>\n",
       "      <td>0.000803</td>\n",
       "    </tr>\n",
       "    <tr>\n",
       "      <th>4</th>\n",
       "      <td>0.017597</td>\n",
       "      <td>7.884509</td>\n",
       "      <td>16.0</td>\n",
       "      <td>5.0</td>\n",
       "      <td>0.000015</td>\n",
       "      <td>0.003300</td>\n",
       "      <td>127.0</td>\n",
       "      <td>adam</td>\n",
       "      <td>0.000027</td>\n",
       "    </tr>\n",
       "    <tr>\n",
       "      <th>5</th>\n",
       "      <td>0.017088</td>\n",
       "      <td>10.950843</td>\n",
       "      <td>4.0</td>\n",
       "      <td>5.0</td>\n",
       "      <td>0.000049</td>\n",
       "      <td>0.089961</td>\n",
       "      <td>199.0</td>\n",
       "      <td>adagrad</td>\n",
       "      <td>0.000419</td>\n",
       "    </tr>\n",
       "    <tr>\n",
       "      <th>6</th>\n",
       "      <td>0.039829</td>\n",
       "      <td>8.747753</td>\n",
       "      <td>512.0</td>\n",
       "      <td>70.0</td>\n",
       "      <td>0.003810</td>\n",
       "      <td>0.005547</td>\n",
       "      <td>182.0</td>\n",
       "      <td>sgd</td>\n",
       "      <td>0.000668</td>\n",
       "    </tr>\n",
       "    <tr>\n",
       "      <th>7</th>\n",
       "      <td>0.043818</td>\n",
       "      <td>2.653221</td>\n",
       "      <td>128.0</td>\n",
       "      <td>25.0</td>\n",
       "      <td>0.000017</td>\n",
       "      <td>0.002793</td>\n",
       "      <td>82.0</td>\n",
       "      <td>sgd</td>\n",
       "      <td>0.000021</td>\n",
       "    </tr>\n",
       "    <tr>\n",
       "      <th>8</th>\n",
       "      <td>0.002393</td>\n",
       "      <td>16.864489</td>\n",
       "      <td>4.0</td>\n",
       "      <td>30.0</td>\n",
       "      <td>0.000163</td>\n",
       "      <td>0.040066</td>\n",
       "      <td>150.0</td>\n",
       "      <td>adam</td>\n",
       "      <td>0.002242</td>\n",
       "    </tr>\n",
       "    <tr>\n",
       "      <th>9</th>\n",
       "      <td>0.020131</td>\n",
       "      <td>12.926190</td>\n",
       "      <td>2.0</td>\n",
       "      <td>5.0</td>\n",
       "      <td>0.000854</td>\n",
       "      <td>0.002855</td>\n",
       "      <td>181.0</td>\n",
       "      <td>adam</td>\n",
       "      <td>0.009589</td>\n",
       "    </tr>\n",
       "    <tr>\n",
       "      <th>10</th>\n",
       "      <td>0.044978</td>\n",
       "      <td>39.861297</td>\n",
       "      <td>32.0</td>\n",
       "      <td>500.0</td>\n",
       "      <td>0.008714</td>\n",
       "      <td>0.000175</td>\n",
       "      <td>24.0</td>\n",
       "      <td>adagrad</td>\n",
       "      <td>0.000078</td>\n",
       "    </tr>\n",
       "    <tr>\n",
       "      <th>11</th>\n",
       "      <td>0.051551</td>\n",
       "      <td>17.445344</td>\n",
       "      <td>32.0</td>\n",
       "      <td>500.0</td>\n",
       "      <td>0.009413</td>\n",
       "      <td>0.000120</td>\n",
       "      <td>5.0</td>\n",
       "      <td>adagrad</td>\n",
       "      <td>0.000096</td>\n",
       "    </tr>\n",
       "    <tr>\n",
       "      <th>12</th>\n",
       "      <td>0.046270</td>\n",
       "      <td>22.325408</td>\n",
       "      <td>32.0</td>\n",
       "      <td>495.0</td>\n",
       "      <td>0.009891</td>\n",
       "      <td>0.000105</td>\n",
       "      <td>9.0</td>\n",
       "      <td>adagrad</td>\n",
       "      <td>0.000205</td>\n",
       "    </tr>\n",
       "    <tr>\n",
       "      <th>13</th>\n",
       "      <td>0.047379</td>\n",
       "      <td>22.205742</td>\n",
       "      <td>64.0</td>\n",
       "      <td>500.0</td>\n",
       "      <td>0.002235</td>\n",
       "      <td>0.000127</td>\n",
       "      <td>9.0</td>\n",
       "      <td>adagrad</td>\n",
       "      <td>0.000131</td>\n",
       "    </tr>\n",
       "    <tr>\n",
       "      <th>14</th>\n",
       "      <td>0.043818</td>\n",
       "      <td>64.463415</td>\n",
       "      <td>64.0</td>\n",
       "      <td>500.0</td>\n",
       "      <td>0.001875</td>\n",
       "      <td>0.000256</td>\n",
       "      <td>46.0</td>\n",
       "      <td>adagrad</td>\n",
       "      <td>0.000131</td>\n",
       "    </tr>\n",
       "    <tr>\n",
       "      <th>15</th>\n",
       "      <td>0.040662</td>\n",
       "      <td>72.188279</td>\n",
       "      <td>1.0</td>\n",
       "      <td>500.0</td>\n",
       "      <td>0.001940</td>\n",
       "      <td>0.000408</td>\n",
       "      <td>51.0</td>\n",
       "      <td>adagrad</td>\n",
       "      <td>0.000063</td>\n",
       "    </tr>\n",
       "    <tr>\n",
       "      <th>16</th>\n",
       "      <td>0.049759</td>\n",
       "      <td>18.900514</td>\n",
       "      <td>64.0</td>\n",
       "      <td>500.0</td>\n",
       "      <td>0.003362</td>\n",
       "      <td>0.000142</td>\n",
       "      <td>6.0</td>\n",
       "      <td>adagrad</td>\n",
       "      <td>0.000012</td>\n",
       "    </tr>\n",
       "    <tr>\n",
       "      <th>17</th>\n",
       "      <td>0.047744</td>\n",
       "      <td>63.913531</td>\n",
       "      <td>64.0</td>\n",
       "      <td>500.0</td>\n",
       "      <td>0.000851</td>\n",
       "      <td>0.000339</td>\n",
       "      <td>45.0</td>\n",
       "      <td>adagrad</td>\n",
       "      <td>0.000010</td>\n",
       "    </tr>\n",
       "    <tr>\n",
       "      <th>18</th>\n",
       "      <td>0.048206</td>\n",
       "      <td>31.144158</td>\n",
       "      <td>16.0</td>\n",
       "      <td>220.0</td>\n",
       "      <td>0.004569</td>\n",
       "      <td>0.000758</td>\n",
       "      <td>63.0</td>\n",
       "      <td>adagrad</td>\n",
       "      <td>0.000038</td>\n",
       "    </tr>\n",
       "    <tr>\n",
       "      <th>19</th>\n",
       "      <td>0.043737</td>\n",
       "      <td>28.579730</td>\n",
       "      <td>128.0</td>\n",
       "      <td>500.0</td>\n",
       "      <td>0.004588</td>\n",
       "      <td>0.000220</td>\n",
       "      <td>24.0</td>\n",
       "      <td>adagrad</td>\n",
       "      <td>0.000010</td>\n",
       "    </tr>\n",
       "    <tr>\n",
       "      <th>20</th>\n",
       "      <td>0.010589</td>\n",
       "      <td>39.047726</td>\n",
       "      <td>1024.0</td>\n",
       "      <td>500.0</td>\n",
       "      <td>0.001097</td>\n",
       "      <td>0.000103</td>\n",
       "      <td>27.0</td>\n",
       "      <td>adagrad</td>\n",
       "      <td>0.000053</td>\n",
       "    </tr>\n",
       "    <tr>\n",
       "      <th>21</th>\n",
       "      <td>0.047328</td>\n",
       "      <td>55.611190</td>\n",
       "      <td>16.0</td>\n",
       "      <td>280.0</td>\n",
       "      <td>0.004553</td>\n",
       "      <td>0.000686</td>\n",
       "      <td>68.0</td>\n",
       "      <td>adagrad</td>\n",
       "      <td>0.000028</td>\n",
       "    </tr>\n",
       "    <tr>\n",
       "      <th>22</th>\n",
       "      <td>0.055055</td>\n",
       "      <td>13.940159</td>\n",
       "      <td>16.0</td>\n",
       "      <td>430.0</td>\n",
       "      <td>0.003854</td>\n",
       "      <td>0.000214</td>\n",
       "      <td>3.0</td>\n",
       "      <td>adagrad</td>\n",
       "      <td>0.000035</td>\n",
       "    </tr>\n",
       "    <tr>\n",
       "      <th>23</th>\n",
       "      <td>0.051536</td>\n",
       "      <td>14.842729</td>\n",
       "      <td>1.0</td>\n",
       "      <td>375.0</td>\n",
       "      <td>0.002769</td>\n",
       "      <td>0.000196</td>\n",
       "      <td>5.0</td>\n",
       "      <td>adagrad</td>\n",
       "      <td>0.000018</td>\n",
       "    </tr>\n",
       "    <tr>\n",
       "      <th>24</th>\n",
       "      <td>0.041544</td>\n",
       "      <td>50.774472</td>\n",
       "      <td>1.0</td>\n",
       "      <td>485.0</td>\n",
       "      <td>0.007620</td>\n",
       "      <td>0.000260</td>\n",
       "      <td>32.0</td>\n",
       "      <td>adagrad</td>\n",
       "      <td>0.000020</td>\n",
       "    </tr>\n",
       "    <tr>\n",
       "      <th>25</th>\n",
       "      <td>0.054142</td>\n",
       "      <td>5.778399</td>\n",
       "      <td>1.0</td>\n",
       "      <td>190.0</td>\n",
       "      <td>0.009915</td>\n",
       "      <td>0.000185</td>\n",
       "      <td>1.0</td>\n",
       "      <td>adagrad</td>\n",
       "      <td>0.000044</td>\n",
       "    </tr>\n",
       "    <tr>\n",
       "      <th>26</th>\n",
       "      <td>0.045914</td>\n",
       "      <td>54.977216</td>\n",
       "      <td>256.0</td>\n",
       "      <td>500.0</td>\n",
       "      <td>0.009430</td>\n",
       "      <td>0.000421</td>\n",
       "      <td>38.0</td>\n",
       "      <td>adagrad</td>\n",
       "      <td>0.000043</td>\n",
       "    </tr>\n",
       "    <tr>\n",
       "      <th>27</th>\n",
       "      <td>0.046567</td>\n",
       "      <td>34.301145</td>\n",
       "      <td>2.0</td>\n",
       "      <td>495.0</td>\n",
       "      <td>0.006070</td>\n",
       "      <td>0.000181</td>\n",
       "      <td>18.0</td>\n",
       "      <td>adagrad</td>\n",
       "      <td>0.000092</td>\n",
       "    </tr>\n",
       "    <tr>\n",
       "      <th>28</th>\n",
       "      <td>0.049969</td>\n",
       "      <td>0.833296</td>\n",
       "      <td>8.0</td>\n",
       "      <td>10.0</td>\n",
       "      <td>0.005449</td>\n",
       "      <td>0.000114</td>\n",
       "      <td>2.0</td>\n",
       "      <td>sgd</td>\n",
       "      <td>0.000042</td>\n",
       "    </tr>\n",
       "    <tr>\n",
       "      <th>29</th>\n",
       "      <td>0.032129</td>\n",
       "      <td>6.649387</td>\n",
       "      <td>512.0</td>\n",
       "      <td>5.0</td>\n",
       "      <td>0.001516</td>\n",
       "      <td>0.000561</td>\n",
       "      <td>81.0</td>\n",
       "      <td>adam</td>\n",
       "      <td>0.000101</td>\n",
       "    </tr>\n",
       "    <tr>\n",
       "      <th>30</th>\n",
       "      <td>0.019529</td>\n",
       "      <td>53.452817</td>\n",
       "      <td>1024.0</td>\n",
       "      <td>500.0</td>\n",
       "      <td>0.002945</td>\n",
       "      <td>0.000303</td>\n",
       "      <td>99.0</td>\n",
       "      <td>sgd</td>\n",
       "      <td>0.000210</td>\n",
       "    </tr>\n",
       "    <tr>\n",
       "      <th>31</th>\n",
       "      <td>0.045896</td>\n",
       "      <td>32.392163</td>\n",
       "      <td>1.0</td>\n",
       "      <td>495.0</td>\n",
       "      <td>0.003353</td>\n",
       "      <td>0.000200</td>\n",
       "      <td>16.0</td>\n",
       "      <td>adagrad</td>\n",
       "      <td>0.000019</td>\n",
       "    </tr>\n",
       "    <tr>\n",
       "      <th>32</th>\n",
       "      <td>0.054326</td>\n",
       "      <td>4.844230</td>\n",
       "      <td>1.0</td>\n",
       "      <td>155.0</td>\n",
       "      <td>0.006224</td>\n",
       "      <td>0.000180</td>\n",
       "      <td>1.0</td>\n",
       "      <td>adagrad</td>\n",
       "      <td>0.000064</td>\n",
       "    </tr>\n",
       "    <tr>\n",
       "      <th>33</th>\n",
       "      <td>0.049426</td>\n",
       "      <td>50.049326</td>\n",
       "      <td>32.0</td>\n",
       "      <td>500.0</td>\n",
       "      <td>0.006449</td>\n",
       "      <td>0.000383</td>\n",
       "      <td>32.0</td>\n",
       "      <td>adagrad</td>\n",
       "      <td>0.000061</td>\n",
       "    </tr>\n",
       "    <tr>\n",
       "      <th>34</th>\n",
       "      <td>0.053827</td>\n",
       "      <td>11.295787</td>\n",
       "      <td>1.0</td>\n",
       "      <td>395.0</td>\n",
       "      <td>0.009380</td>\n",
       "      <td>0.000101</td>\n",
       "      <td>1.0</td>\n",
       "      <td>adagrad</td>\n",
       "      <td>0.000037</td>\n",
       "    </tr>\n",
       "    <tr>\n",
       "      <th>35</th>\n",
       "      <td>0.039708</td>\n",
       "      <td>55.937494</td>\n",
       "      <td>1.0</td>\n",
       "      <td>315.0</td>\n",
       "      <td>0.005831</td>\n",
       "      <td>0.000552</td>\n",
       "      <td>59.0</td>\n",
       "      <td>adagrad</td>\n",
       "      <td>0.000034</td>\n",
       "    </tr>\n",
       "    <tr>\n",
       "      <th>36</th>\n",
       "      <td>0.018051</td>\n",
       "      <td>140.557630</td>\n",
       "      <td>1.0</td>\n",
       "      <td>500.0</td>\n",
       "      <td>0.006764</td>\n",
       "      <td>0.000164</td>\n",
       "      <td>117.0</td>\n",
       "      <td>adagrad</td>\n",
       "      <td>0.000057</td>\n",
       "    </tr>\n",
       "    <tr>\n",
       "      <th>37</th>\n",
       "      <td>0.039546</td>\n",
       "      <td>1.447416</td>\n",
       "      <td>16.0</td>\n",
       "      <td>5.0</td>\n",
       "      <td>0.004394</td>\n",
       "      <td>0.000281</td>\n",
       "      <td>17.0</td>\n",
       "      <td>adam</td>\n",
       "      <td>0.000030</td>\n",
       "    </tr>\n",
       "    <tr>\n",
       "      <th>38</th>\n",
       "      <td>0.025037</td>\n",
       "      <td>1.008078</td>\n",
       "      <td>1.0</td>\n",
       "      <td>5.0</td>\n",
       "      <td>0.002710</td>\n",
       "      <td>0.001013</td>\n",
       "      <td>38.0</td>\n",
       "      <td>sgd</td>\n",
       "      <td>0.000044</td>\n",
       "    </tr>\n",
       "    <tr>\n",
       "      <th>39</th>\n",
       "      <td>0.054549</td>\n",
       "      <td>0.528293</td>\n",
       "      <td>1.0</td>\n",
       "      <td>5.0</td>\n",
       "      <td>0.006734</td>\n",
       "      <td>0.001078</td>\n",
       "      <td>1.0</td>\n",
       "      <td>adagrad</td>\n",
       "      <td>0.000016</td>\n",
       "    </tr>\n",
       "    <tr>\n",
       "      <th>40</th>\n",
       "      <td>0.031806</td>\n",
       "      <td>1.369911</td>\n",
       "      <td>256.0</td>\n",
       "      <td>5.0</td>\n",
       "      <td>0.003737</td>\n",
       "      <td>0.001296</td>\n",
       "      <td>17.0</td>\n",
       "      <td>adam</td>\n",
       "      <td>0.000025</td>\n",
       "    </tr>\n",
       "    <tr>\n",
       "      <th>41</th>\n",
       "      <td>0.053972</td>\n",
       "      <td>1.679590</td>\n",
       "      <td>1.0</td>\n",
       "      <td>70.0</td>\n",
       "      <td>0.007112</td>\n",
       "      <td>0.000255</td>\n",
       "      <td>1.0</td>\n",
       "      <td>adagrad</td>\n",
       "      <td>0.000015</td>\n",
       "    </tr>\n",
       "    <tr>\n",
       "      <th>42</th>\n",
       "      <td>0.047202</td>\n",
       "      <td>6.637262</td>\n",
       "      <td>1.0</td>\n",
       "      <td>120.0</td>\n",
       "      <td>0.006366</td>\n",
       "      <td>0.000522</td>\n",
       "      <td>17.0</td>\n",
       "      <td>adagrad</td>\n",
       "      <td>0.000016</td>\n",
       "    </tr>\n",
       "    <tr>\n",
       "      <th>43</th>\n",
       "      <td>0.047874</td>\n",
       "      <td>11.338376</td>\n",
       "      <td>1.0</td>\n",
       "      <td>255.0</td>\n",
       "      <td>0.007216</td>\n",
       "      <td>0.000324</td>\n",
       "      <td>14.0</td>\n",
       "      <td>adagrad</td>\n",
       "      <td>0.000016</td>\n",
       "    </tr>\n",
       "    <tr>\n",
       "      <th>44</th>\n",
       "      <td>0.050584</td>\n",
       "      <td>7.868498</td>\n",
       "      <td>16.0</td>\n",
       "      <td>100.0</td>\n",
       "      <td>0.005344</td>\n",
       "      <td>0.000885</td>\n",
       "      <td>27.0</td>\n",
       "      <td>adagrad</td>\n",
       "      <td>0.000027</td>\n",
       "    </tr>\n",
       "    <tr>\n",
       "      <th>45</th>\n",
       "      <td>0.039810</td>\n",
       "      <td>19.196637</td>\n",
       "      <td>8.0</td>\n",
       "      <td>35.0</td>\n",
       "      <td>0.009969</td>\n",
       "      <td>0.002054</td>\n",
       "      <td>154.0</td>\n",
       "      <td>adagrad</td>\n",
       "      <td>0.000013</td>\n",
       "    </tr>\n",
       "    <tr>\n",
       "      <th>46</th>\n",
       "      <td>0.047004</td>\n",
       "      <td>1.947230</td>\n",
       "      <td>4.0</td>\n",
       "      <td>10.0</td>\n",
       "      <td>0.003867</td>\n",
       "      <td>0.000157</td>\n",
       "      <td>38.0</td>\n",
       "      <td>sgd</td>\n",
       "      <td>0.000024</td>\n",
       "    </tr>\n",
       "    <tr>\n",
       "      <th>47</th>\n",
       "      <td>0.048261</td>\n",
       "      <td>18.972409</td>\n",
       "      <td>1.0</td>\n",
       "      <td>350.0</td>\n",
       "      <td>0.002415</td>\n",
       "      <td>0.000241</td>\n",
       "      <td>10.0</td>\n",
       "      <td>adagrad</td>\n",
       "      <td>0.000022</td>\n",
       "    </tr>\n",
       "    <tr>\n",
       "      <th>48</th>\n",
       "      <td>0.053261</td>\n",
       "      <td>5.604014</td>\n",
       "      <td>512.0</td>\n",
       "      <td>200.0</td>\n",
       "      <td>0.007395</td>\n",
       "      <td>0.000593</td>\n",
       "      <td>1.0</td>\n",
       "      <td>adagrad</td>\n",
       "      <td>0.000015</td>\n",
       "    </tr>\n",
       "    <tr>\n",
       "      <th>49</th>\n",
       "      <td>0.040510</td>\n",
       "      <td>2.690263</td>\n",
       "      <td>128.0</td>\n",
       "      <td>5.0</td>\n",
       "      <td>0.003361</td>\n",
       "      <td>0.000407</td>\n",
       "      <td>24.0</td>\n",
       "      <td>adam</td>\n",
       "      <td>0.000031</td>\n",
       "    </tr>\n",
       "  </tbody>\n",
       "</table>\n",
       "</div>"
      ],
      "text/plain": [
       "      result  train_time (min)  batch_size  epochs  item_reg  learning_rate  \\\n",
       "0   0.034490         26.488168      1024.0   500.0  0.000017       0.000474   \n",
       "1   0.045660         44.484622        32.0   115.0  0.007076       0.001295   \n",
       "2   0.041021         20.545199       256.0   135.0  0.000270       0.001409   \n",
       "3   0.010750         52.640930         8.0   170.0  0.000167       0.017469   \n",
       "4   0.017597          7.884509        16.0     5.0  0.000015       0.003300   \n",
       "5   0.017088         10.950843         4.0     5.0  0.000049       0.089961   \n",
       "6   0.039829          8.747753       512.0    70.0  0.003810       0.005547   \n",
       "7   0.043818          2.653221       128.0    25.0  0.000017       0.002793   \n",
       "8   0.002393         16.864489         4.0    30.0  0.000163       0.040066   \n",
       "9   0.020131         12.926190         2.0     5.0  0.000854       0.002855   \n",
       "10  0.044978         39.861297        32.0   500.0  0.008714       0.000175   \n",
       "11  0.051551         17.445344        32.0   500.0  0.009413       0.000120   \n",
       "12  0.046270         22.325408        32.0   495.0  0.009891       0.000105   \n",
       "13  0.047379         22.205742        64.0   500.0  0.002235       0.000127   \n",
       "14  0.043818         64.463415        64.0   500.0  0.001875       0.000256   \n",
       "15  0.040662         72.188279         1.0   500.0  0.001940       0.000408   \n",
       "16  0.049759         18.900514        64.0   500.0  0.003362       0.000142   \n",
       "17  0.047744         63.913531        64.0   500.0  0.000851       0.000339   \n",
       "18  0.048206         31.144158        16.0   220.0  0.004569       0.000758   \n",
       "19  0.043737         28.579730       128.0   500.0  0.004588       0.000220   \n",
       "20  0.010589         39.047726      1024.0   500.0  0.001097       0.000103   \n",
       "21  0.047328         55.611190        16.0   280.0  0.004553       0.000686   \n",
       "22  0.055055         13.940159        16.0   430.0  0.003854       0.000214   \n",
       "23  0.051536         14.842729         1.0   375.0  0.002769       0.000196   \n",
       "24  0.041544         50.774472         1.0   485.0  0.007620       0.000260   \n",
       "25  0.054142          5.778399         1.0   190.0  0.009915       0.000185   \n",
       "26  0.045914         54.977216       256.0   500.0  0.009430       0.000421   \n",
       "27  0.046567         34.301145         2.0   495.0  0.006070       0.000181   \n",
       "28  0.049969          0.833296         8.0    10.0  0.005449       0.000114   \n",
       "29  0.032129          6.649387       512.0     5.0  0.001516       0.000561   \n",
       "30  0.019529         53.452817      1024.0   500.0  0.002945       0.000303   \n",
       "31  0.045896         32.392163         1.0   495.0  0.003353       0.000200   \n",
       "32  0.054326          4.844230         1.0   155.0  0.006224       0.000180   \n",
       "33  0.049426         50.049326        32.0   500.0  0.006449       0.000383   \n",
       "34  0.053827         11.295787         1.0   395.0  0.009380       0.000101   \n",
       "35  0.039708         55.937494         1.0   315.0  0.005831       0.000552   \n",
       "36  0.018051        140.557630         1.0   500.0  0.006764       0.000164   \n",
       "37  0.039546          1.447416        16.0     5.0  0.004394       0.000281   \n",
       "38  0.025037          1.008078         1.0     5.0  0.002710       0.001013   \n",
       "39  0.054549          0.528293         1.0     5.0  0.006734       0.001078   \n",
       "40  0.031806          1.369911       256.0     5.0  0.003737       0.001296   \n",
       "41  0.053972          1.679590         1.0    70.0  0.007112       0.000255   \n",
       "42  0.047202          6.637262         1.0   120.0  0.006366       0.000522   \n",
       "43  0.047874         11.338376         1.0   255.0  0.007216       0.000324   \n",
       "44  0.050584          7.868498        16.0   100.0  0.005344       0.000885   \n",
       "45  0.039810         19.196637         8.0    35.0  0.009969       0.002054   \n",
       "46  0.047004          1.947230         4.0    10.0  0.003867       0.000157   \n",
       "47  0.048261         18.972409         1.0   350.0  0.002415       0.000241   \n",
       "48  0.053261          5.604014       512.0   200.0  0.007395       0.000593   \n",
       "49  0.040510          2.690263       128.0     5.0  0.003361       0.000407   \n",
       "\n",
       "    num_factors sgd_mode  user_reg  \n",
       "0          90.0      sgd  0.003822  \n",
       "1         151.0  adagrad  0.002996  \n",
       "2         133.0      sgd  0.003847  \n",
       "3         101.0     adam  0.000803  \n",
       "4         127.0     adam  0.000027  \n",
       "5         199.0  adagrad  0.000419  \n",
       "6         182.0      sgd  0.000668  \n",
       "7          82.0      sgd  0.000021  \n",
       "8         150.0     adam  0.002242  \n",
       "9         181.0     adam  0.009589  \n",
       "10         24.0  adagrad  0.000078  \n",
       "11          5.0  adagrad  0.000096  \n",
       "12          9.0  adagrad  0.000205  \n",
       "13          9.0  adagrad  0.000131  \n",
       "14         46.0  adagrad  0.000131  \n",
       "15         51.0  adagrad  0.000063  \n",
       "16          6.0  adagrad  0.000012  \n",
       "17         45.0  adagrad  0.000010  \n",
       "18         63.0  adagrad  0.000038  \n",
       "19         24.0  adagrad  0.000010  \n",
       "20         27.0  adagrad  0.000053  \n",
       "21         68.0  adagrad  0.000028  \n",
       "22          3.0  adagrad  0.000035  \n",
       "23          5.0  adagrad  0.000018  \n",
       "24         32.0  adagrad  0.000020  \n",
       "25          1.0  adagrad  0.000044  \n",
       "26         38.0  adagrad  0.000043  \n",
       "27         18.0  adagrad  0.000092  \n",
       "28          2.0      sgd  0.000042  \n",
       "29         81.0     adam  0.000101  \n",
       "30         99.0      sgd  0.000210  \n",
       "31         16.0  adagrad  0.000019  \n",
       "32          1.0  adagrad  0.000064  \n",
       "33         32.0  adagrad  0.000061  \n",
       "34          1.0  adagrad  0.000037  \n",
       "35         59.0  adagrad  0.000034  \n",
       "36        117.0  adagrad  0.000057  \n",
       "37         17.0     adam  0.000030  \n",
       "38         38.0      sgd  0.000044  \n",
       "39          1.0  adagrad  0.000016  \n",
       "40         17.0     adam  0.000025  \n",
       "41          1.0  adagrad  0.000015  \n",
       "42         17.0  adagrad  0.000016  \n",
       "43         14.0  adagrad  0.000016  \n",
       "44         27.0  adagrad  0.000027  \n",
       "45        154.0  adagrad  0.000013  \n",
       "46         38.0      sgd  0.000024  \n",
       "47         10.0  adagrad  0.000022  \n",
       "48          1.0  adagrad  0.000015  \n",
       "49         24.0     adam  0.000031  "
      ]
     },
     "execution_count": 23,
     "metadata": {},
     "output_type": "execute_result"
    }
   ],
   "source": [
    "save_results.results_df"
   ]
  },
  {
   "cell_type": "code",
   "execution_count": 173,
   "id": "cca196bc",
   "metadata": {},
   "outputs": [
    {
     "ename": "ValueError",
     "evalue": "attempt to get argmax of an empty sequence",
     "output_type": "error",
     "traceback": [
      "\u001b[1;31m---------------------------------------------------------------------------\u001b[0m",
      "\u001b[1;31mValueError\u001b[0m                                Traceback (most recent call last)",
      "Cell \u001b[1;32mIn[173], line 1\u001b[0m\n\u001b[1;32m----> 1\u001b[0m best_index \u001b[38;5;241m=\u001b[39m \u001b[43msave_results\u001b[49m\u001b[38;5;241;43m.\u001b[39;49m\u001b[43mresults_df\u001b[49m\u001b[43m[\u001b[49m\u001b[38;5;124;43m\"\u001b[39;49m\u001b[38;5;124;43mresult\u001b[39;49m\u001b[38;5;124;43m\"\u001b[39;49m\u001b[43m]\u001b[49m\u001b[38;5;241;43m.\u001b[39;49m\u001b[43midxmax\u001b[49m\u001b[43m(\u001b[49m\u001b[43m)\u001b[49m\n\u001b[0;32m      2\u001b[0m best_hyperparams \u001b[38;5;241m=\u001b[39m save_results\u001b[38;5;241m.\u001b[39mresults_df\u001b[38;5;241m.\u001b[39mloc[best_index]\u001b[38;5;241m.\u001b[39mto_dict()\n\u001b[0;32m      4\u001b[0m \u001b[38;5;28;01mdel\u001b[39;00m best_hyperparams[\u001b[38;5;124m\"\u001b[39m\u001b[38;5;124mresult\u001b[39m\u001b[38;5;124m\"\u001b[39m]\n",
      "File \u001b[1;32m~\\AppData\\Local\\Packages\\PythonSoftwareFoundation.Python.3.11_qbz5n2kfra8p0\\LocalCache\\local-packages\\Python311\\site-packages\\pandas\\core\\series.py:2761\u001b[0m, in \u001b[0;36mSeries.idxmax\u001b[1;34m(self, axis, skipna, *args, **kwargs)\u001b[0m\n\u001b[0;32m   2756\u001b[0m \u001b[38;5;28;01mwith\u001b[39;00m warnings\u001b[38;5;241m.\u001b[39mcatch_warnings():\n\u001b[0;32m   2757\u001b[0m     \u001b[38;5;66;03m# TODO(3.0): this catching/filtering can be removed\u001b[39;00m\n\u001b[0;32m   2758\u001b[0m     \u001b[38;5;66;03m# ignore warning produced by argmax since we will issue a different\u001b[39;00m\n\u001b[0;32m   2759\u001b[0m     \u001b[38;5;66;03m#  warning for argmax\u001b[39;00m\n\u001b[0;32m   2760\u001b[0m     warnings\u001b[38;5;241m.\u001b[39msimplefilter(\u001b[38;5;124m\"\u001b[39m\u001b[38;5;124mignore\u001b[39m\u001b[38;5;124m\"\u001b[39m)\n\u001b[1;32m-> 2761\u001b[0m     i \u001b[38;5;241m=\u001b[39m \u001b[38;5;28;43mself\u001b[39;49m\u001b[38;5;241;43m.\u001b[39;49m\u001b[43margmax\u001b[49m\u001b[43m(\u001b[49m\u001b[43maxis\u001b[49m\u001b[43m,\u001b[49m\u001b[43m \u001b[49m\u001b[43mskipna\u001b[49m\u001b[43m,\u001b[49m\u001b[43m \u001b[49m\u001b[38;5;241;43m*\u001b[39;49m\u001b[43margs\u001b[49m\u001b[43m,\u001b[49m\u001b[43m \u001b[49m\u001b[38;5;241;43m*\u001b[39;49m\u001b[38;5;241;43m*\u001b[39;49m\u001b[43mkwargs\u001b[49m\u001b[43m)\u001b[49m\n\u001b[0;32m   2763\u001b[0m \u001b[38;5;28;01mif\u001b[39;00m i \u001b[38;5;241m==\u001b[39m \u001b[38;5;241m-\u001b[39m\u001b[38;5;241m1\u001b[39m:\n\u001b[0;32m   2764\u001b[0m     \u001b[38;5;66;03m# GH#43587 give correct NA value for Index.\u001b[39;00m\n\u001b[0;32m   2765\u001b[0m     warnings\u001b[38;5;241m.\u001b[39mwarn(\n\u001b[0;32m   2766\u001b[0m         \u001b[38;5;124mf\u001b[39m\u001b[38;5;124m\"\u001b[39m\u001b[38;5;124mThe behavior of \u001b[39m\u001b[38;5;132;01m{\u001b[39;00m\u001b[38;5;28mtype\u001b[39m(\u001b[38;5;28mself\u001b[39m)\u001b[38;5;241m.\u001b[39m\u001b[38;5;18m__name__\u001b[39m\u001b[38;5;132;01m}\u001b[39;00m\u001b[38;5;124m.idxmax with all-NA \u001b[39m\u001b[38;5;124m\"\u001b[39m\n\u001b[0;32m   2767\u001b[0m         \u001b[38;5;124m\"\u001b[39m\u001b[38;5;124mvalues, or any-NA and skipna=False, is deprecated. In a future \u001b[39m\u001b[38;5;124m\"\u001b[39m\n\u001b[1;32m   (...)\u001b[0m\n\u001b[0;32m   2770\u001b[0m         stacklevel\u001b[38;5;241m=\u001b[39mfind_stack_level(),\n\u001b[0;32m   2771\u001b[0m     )\n",
      "File \u001b[1;32m~\\AppData\\Local\\Packages\\PythonSoftwareFoundation.Python.3.11_qbz5n2kfra8p0\\LocalCache\\local-packages\\Python311\\site-packages\\pandas\\core\\base.py:751\u001b[0m, in \u001b[0;36mIndexOpsMixin.argmax\u001b[1;34m(self, axis, skipna, *args, **kwargs)\u001b[0m\n\u001b[0;32m    749\u001b[0m         \u001b[38;5;28;01mreturn\u001b[39;00m delegate\u001b[38;5;241m.\u001b[39margmax()\n\u001b[0;32m    750\u001b[0m \u001b[38;5;28;01melse\u001b[39;00m:\n\u001b[1;32m--> 751\u001b[0m     result \u001b[38;5;241m=\u001b[39m \u001b[43mnanops\u001b[49m\u001b[38;5;241;43m.\u001b[39;49m\u001b[43mnanargmax\u001b[49m\u001b[43m(\u001b[49m\u001b[43mdelegate\u001b[49m\u001b[43m,\u001b[49m\u001b[43m \u001b[49m\u001b[43mskipna\u001b[49m\u001b[38;5;241;43m=\u001b[39;49m\u001b[43mskipna\u001b[49m\u001b[43m)\u001b[49m\n\u001b[0;32m    752\u001b[0m     \u001b[38;5;28;01mif\u001b[39;00m result \u001b[38;5;241m==\u001b[39m \u001b[38;5;241m-\u001b[39m\u001b[38;5;241m1\u001b[39m:\n\u001b[0;32m    753\u001b[0m         warnings\u001b[38;5;241m.\u001b[39mwarn(\n\u001b[0;32m    754\u001b[0m             \u001b[38;5;124mf\u001b[39m\u001b[38;5;124m\"\u001b[39m\u001b[38;5;124mThe behavior of \u001b[39m\u001b[38;5;132;01m{\u001b[39;00m\u001b[38;5;28mtype\u001b[39m(\u001b[38;5;28mself\u001b[39m)\u001b[38;5;241m.\u001b[39m\u001b[38;5;18m__name__\u001b[39m\u001b[38;5;132;01m}\u001b[39;00m\u001b[38;5;124m.argmax/argmin \u001b[39m\u001b[38;5;124m\"\u001b[39m\n\u001b[0;32m    755\u001b[0m             \u001b[38;5;124m\"\u001b[39m\u001b[38;5;124mwith skipna=False and NAs, or with all-NAs is deprecated. \u001b[39m\u001b[38;5;124m\"\u001b[39m\n\u001b[1;32m   (...)\u001b[0m\n\u001b[0;32m    758\u001b[0m             stacklevel\u001b[38;5;241m=\u001b[39mfind_stack_level(),\n\u001b[0;32m    759\u001b[0m         )\n",
      "File \u001b[1;32m~\\AppData\\Local\\Packages\\PythonSoftwareFoundation.Python.3.11_qbz5n2kfra8p0\\LocalCache\\local-packages\\Python311\\site-packages\\pandas\\core\\nanops.py:1148\u001b[0m, in \u001b[0;36mnanargmax\u001b[1;34m(values, axis, skipna, mask)\u001b[0m\n\u001b[0;32m   1116\u001b[0m \u001b[38;5;250m\u001b[39m\u001b[38;5;124;03m\"\"\"\u001b[39;00m\n\u001b[0;32m   1117\u001b[0m \u001b[38;5;124;03mParameters\u001b[39;00m\n\u001b[0;32m   1118\u001b[0m \u001b[38;5;124;03m----------\u001b[39;00m\n\u001b[1;32m   (...)\u001b[0m\n\u001b[0;32m   1145\u001b[0m \u001b[38;5;124;03marray([2, 2, 1, 1])\u001b[39;00m\n\u001b[0;32m   1146\u001b[0m \u001b[38;5;124;03m\"\"\"\u001b[39;00m\n\u001b[0;32m   1147\u001b[0m values, mask \u001b[38;5;241m=\u001b[39m _get_values(values, \u001b[38;5;28;01mTrue\u001b[39;00m, fill_value_typ\u001b[38;5;241m=\u001b[39m\u001b[38;5;124m\"\u001b[39m\u001b[38;5;124m-inf\u001b[39m\u001b[38;5;124m\"\u001b[39m, mask\u001b[38;5;241m=\u001b[39mmask)\n\u001b[1;32m-> 1148\u001b[0m result \u001b[38;5;241m=\u001b[39m \u001b[43mvalues\u001b[49m\u001b[38;5;241;43m.\u001b[39;49m\u001b[43margmax\u001b[49m\u001b[43m(\u001b[49m\u001b[43maxis\u001b[49m\u001b[43m)\u001b[49m\n\u001b[0;32m   1149\u001b[0m \u001b[38;5;66;03m# error: Argument 1 to \"_maybe_arg_null_out\" has incompatible type \"Any |\u001b[39;00m\n\u001b[0;32m   1150\u001b[0m \u001b[38;5;66;03m# signedinteger[Any]\"; expected \"ndarray[Any, Any]\"\u001b[39;00m\n\u001b[0;32m   1151\u001b[0m result \u001b[38;5;241m=\u001b[39m _maybe_arg_null_out(result, axis, mask, skipna)  \u001b[38;5;66;03m# type: ignore[arg-type]\u001b[39;00m\n",
      "\u001b[1;31mValueError\u001b[0m: attempt to get argmax of an empty sequence"
     ]
    }
   ],
   "source": [
    "best_index = save_results.results_df[\"result\"].idxmax()\n",
    "best_hyperparams = save_results.results_df.loc[best_index].to_dict()\n",
    "\n",
    "del best_hyperparams[\"result\"]\n",
    "del best_hyperparams[\"train_time (min)\"]\n",
    "best_hyperparams"
   ]
  },
  {
   "cell_type": "code",
   "execution_count": 174,
   "id": "faffa9ed",
   "metadata": {},
   "outputs": [
    {
     "ename": "NameError",
     "evalue": "name 'best_hyperparams' is not defined",
     "output_type": "error",
     "traceback": [
      "\u001b[1;31m---------------------------------------------------------------------------\u001b[0m",
      "\u001b[1;31mNameError\u001b[0m                                 Traceback (most recent call last)",
      "Cell \u001b[1;32mIn[174], line 2\u001b[0m\n\u001b[0;32m      1\u001b[0m recommender_instance \u001b[38;5;241m=\u001b[39m MatrixFactorization_SVDpp_Cython(URM_train \u001b[38;5;241m+\u001b[39m URM_validation)\n\u001b[1;32m----> 2\u001b[0m recommender_instance\u001b[38;5;241m.\u001b[39mfit(\u001b[38;5;241m*\u001b[39m\u001b[38;5;241m*\u001b[39m\u001b[43mbest_hyperparams\u001b[49m)\n\u001b[0;32m      4\u001b[0m result_df, _ \u001b[38;5;241m=\u001b[39m evaluator_test\u001b[38;5;241m.\u001b[39mevaluateRecommender(recommender_instance)\n\u001b[0;32m      5\u001b[0m result_df\n",
      "\u001b[1;31mNameError\u001b[0m: name 'best_hyperparams' is not defined"
     ]
    }
   ],
   "source": [
    "recommender_instance = MatrixFactorization_SVDpp_Cython(URM_train + URM_validation)\n",
    "recommender_instance.fit(**best_hyperparams)\n",
    "\n",
    "result_df, _ = evaluator_test.evaluateRecommender(recommender_instance)\n",
    "result_df"
   ]
  },
  {
   "cell_type": "markdown",
   "id": "6b96ad36",
   "metadata": {},
   "source": [
    "The RandomForestRegressor does not handle string data (cardinal data) so we can only use numerical columns"
   ]
  },
  {
   "cell_type": "code",
   "execution_count": 53,
   "id": "6df527af",
   "metadata": {},
   "outputs": [
    {
     "data": {
      "image/png": "[encoded data removed]",
      "text/plain": [
       "<Figure size 640x480 with 1 Axes>"
      ]
     },
     "metadata": {},
     "output_type": "display_data"
    }
   ],
   "source": [
    "regr = RandomForestRegressor(max_depth=2)\n",
    "\n",
    "result_df = save_results.results_df.copy()\n",
    "\n",
    "numerical_cols = result_df.mean().notna()\n",
    "numerical_cols = numerical_cols.index[numerical_cols]\n",
    "\n",
    "numerical_df = result_df[numerical_cols]\n",
    "numerical_df = (numerical_df - numerical_df.mean())/(numerical_df.std() +1e-6)\n",
    "\n",
    "y_train = numerical_df[\"result\"]\n",
    "X_train = numerical_df.copy()\n",
    "X_train = X_train.drop(columns=[\"result\"])\n",
    "\n",
    "regr.fit(X_train, y_train)\n",
    "\n",
    "plt.bar(X_train.columns, regr.feature_importances_)\n",
    "plt.show() "
   ]
  },
  {
   "cell_type": "code",
   "execution_count": null,
   "id": "c32e44aa",
   "metadata": {},
   "outputs": [],
   "source": [
    "\n",
    "\n"
   ]
  }
 ],
 "metadata": {
  "kernelspec": {
   "display_name": "Python 3",
   "language": "python",
   "name": "python3"
  },
  "language_info": {
   "codemirror_mode": {
    "name": "ipython",
    "version": 3
   },
   "file_extension": ".py",
   "mimetype": "text/x-python",
   "name": "python",
   "nbconvert_exporter": "python",
   "pygments_lexer": "ipython3",
   "version": "3.8.20"
  }
 },
 "nbformat": 4,
 "nbformat_minor": 5
}
